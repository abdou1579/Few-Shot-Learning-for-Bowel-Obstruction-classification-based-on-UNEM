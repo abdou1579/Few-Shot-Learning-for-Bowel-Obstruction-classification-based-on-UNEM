{
 "cells": [
  {
   "cell_type": "code",
   "execution_count": 1,
   "id": "84b030ed-4c87-4c6c-8bd7-6a55bad16f55",
   "metadata": {},
   "outputs": [
    {
     "data": {
      "text/plain": [
       "'/home/baki/atsi/UNEM_Gaussian'"
      ]
     },
     "execution_count": 1,
     "metadata": {},
     "output_type": "execute_result"
    }
   ],
   "source": [
    "import os\n",
    "os.getcwd()"
   ]
  },
  {
   "cell_type": "markdown",
   "id": "c371cf94-eff3-40e3-b81f-29cf4ebba3f1",
   "metadata": {},
   "source": [
    "## Usage of different methods for fewshot classifications tasks"
   ]
  },
  {
   "cell_type": "code",
   "execution_count": 1,
   "id": "a90e8e8c-249c-44ee-a168-798a09cb7607",
   "metadata": {},
   "outputs": [],
   "source": [
    "import numpy as np\n",
    "import torch\n",
    "from torch.utils.data import TensorDataset, DataLoader\n",
    "from src.methods.U_Paddle import U_Paddle\n",
    "from src.methods.U_Paddle_embt import U_Paddle_EMBT\n",
    "from src.utils import compute_confidence_interval, load_checkpoint, Logger, extract_mean_features, extract_features\n",
    "from src.methods.tim import ALPHA_TIM, TIM_GD\n",
    "from src.methods.paddle import PADDLE\n",
    "from src.methods.soft_km import SOFT_KM\n",
    "from src.methods.laplacianshot import LaplacianShot\n",
    "from src.methods.paddle_gd import PADDLE_GD\n",
    "from src.methods.ici import ICI\n",
    "from src.methods.bdcspn import BDCSPN\n",
    "from src.methods.baseline import Baseline\n",
    "from src.methods.pt_map import PT_MAP\n",
    "from src.datasets import Tasks_Generator, get_dataset, get_dataloader, SamplerSupport, SamplerQuery, CategoriesSampler\n",
    "import os\n",
    "from src.utils import load_pickle, save_pickle\n",
    "import random\n",
    "import matplotlib.pyplot as plt\n",
    "from src.datasets.loader import DatasetFolder\n",
    "from src.datasets.transform import with_augment, without_augment\n",
    "from torch.utils.data import DataLoader\n",
    "from src.models.ResNet import *\n",
    "from torch.optim.lr_scheduler import StepLR\n",
    "from src.unroll_trainer import *\n",
    "\n",
    "from sklearn.metrics import accuracy_score\n",
    "\n",
    "\n",
    "import pandas as pd"
   ]
  },
  {
   "cell_type": "code",
   "execution_count": 2,
   "id": "d77a5e51-0d7a-49cc-bc30-f466b8e76655",
   "metadata": {},
   "outputs": [],
   "source": [
    "df1 = pd.read_pickle('../Bride_fshot/train_softmax_RN50_T30.plk')\n",
    "df2 = pd.read_pickle('../Bride_fshot/train_visual_RN50.plk')"
   ]
  },
  {
   "cell_type": "markdown",
   "id": "f84ccb64-f4a5-473f-9d07-02a885635c03",
   "metadata": {},
   "source": [
    "## Training the UTRAINER bone "
   ]
  },
  {
   "cell_type": "code",
   "execution_count": 5,
   "id": "e755166a-8263-4274-9c86-d7d8e3338b68",
   "metadata": {},
   "outputs": [],
   "source": [
    "indices = torch.randperm(df1['concat_features'].size(0))\n",
    "\n",
    "# Shuffle both features and labels using the same indices\n",
    "df2 = {\n",
    "    'concat_features': df2['concat_features'][indices],\n",
    "    'concat_labels': df2['concat_labels'][indices]\n",
    "}"
   ]
  },
  {
   "cell_type": "code",
   "execution_count": 6,
   "id": "11a1a9b6-72a0-4f67-bfa2-4a858d4def54",
   "metadata": {},
   "outputs": [],
   "source": [
    "all_features_support = df2['concat_features'][:250]\n",
    "all_labels_support = df2['concat_labels'][:250].long()\n",
    "all_features_query = df2['concat_features'][250:]\n",
    "all_labels_query = df2['concat_labels'][250:].long()"
   ]
  },
  {
   "cell_type": "code",
   "execution_count": 70,
   "id": "1ebb89ce-d74c-4e1a-90bc-7aa5d0a16bb8",
   "metadata": {},
   "outputs": [],
   "source": [
    "class taelik():\n",
    "    s_shots = [2,4,8,16,20]\n",
    "    k_eff = 2\n",
    "    n_ways = 2\n",
    "    n_query = 10\n",
    "    queries = [2,4,6,8,10]\n",
    "    device = 'cuda'\n",
    "    sampling = 'dirichlet'\n",
    "    n_batch = 1"
   ]
  },
  {
   "cell_type": "code",
   "execution_count": null,
   "id": "941de931-9757-4f9f-84fb-6c1c60819187",
   "metadata": {
    "scrolled": true
   },
   "outputs": [
    {
     "name": "stderr",
     "output_type": "stream",
     "text": [
      "  0%|                                                    | 0/50 [00:00<?, ?it/s]\n",
      "100%|██████████████████████████████████████████| 10/10 [00:00<00:00, 378.31it/s]\n"
     ]
    },
    {
     "name": "stdout",
     "output_type": "stream",
     "text": [
      "Gradient of gamma: 8.900556713342667e-05\n",
      "Epoch 0 - Loss: 0.6931601166725159\n",
      "Parameter name: gamma\n",
      "Parameter shape: torch.Size([])\n",
      "Parameter value: Parameter containing:\n",
      "tensor(0.9000, device='cuda:0', requires_grad=True)\n",
      "\n"
     ]
    },
    {
     "name": "stderr",
     "output_type": "stream",
     "text": [
      "\n",
      "100%|██████████████████████████████████████████| 10/10 [00:00<00:00, 368.67it/s]\n",
      "  4%|█▊                                          | 2/50 [00:00<00:03, 14.20it/s]"
     ]
    },
    {
     "name": "stdout",
     "output_type": "stream",
     "text": [
      "Gradient of gamma: 4.247087053954601e-05\n",
      "Epoch 1 - Loss: 0.6931537985801697\n",
      "Parameter name: gamma\n",
      "Parameter shape: torch.Size([])\n",
      "Parameter value: Parameter containing:\n",
      "tensor(0.8075, device='cuda:0', requires_grad=True)\n",
      "\n"
     ]
    },
    {
     "name": "stderr",
     "output_type": "stream",
     "text": [
      "\n",
      "100%|██████████████████████████████████████████| 10/10 [00:00<00:00, 373.18it/s]\n"
     ]
    },
    {
     "name": "stdout",
     "output_type": "stream",
     "text": [
      "Gradient of gamma: 2.106779720634222e-05\n",
      "Epoch 2 - Loss: 0.6931509375572205\n",
      "Parameter name: gamma\n",
      "Parameter shape: torch.Size([])\n",
      "Parameter value: Parameter containing:\n",
      "tensor(0.7242, device='cuda:0', requires_grad=True)\n",
      "\n"
     ]
    },
    {
     "name": "stderr",
     "output_type": "stream",
     "text": [
      "\n",
      "100%|██████████████████████████████████████████| 10/10 [00:00<00:00, 344.44it/s]\n",
      "  8%|███▌                                        | 4/50 [00:00<00:03, 13.67it/s]"
     ]
    },
    {
     "name": "stdout",
     "output_type": "stream",
     "text": [
      "Gradient of gamma: 1.1179712601006031e-05\n",
      "Epoch 3 - Loss: 0.693149745464325\n",
      "Parameter name: gamma\n",
      "Parameter shape: torch.Size([])\n",
      "Parameter value: Parameter containing:\n",
      "tensor(0.6500, device='cuda:0', requires_grad=True)\n",
      "\n"
     ]
    },
    {
     "name": "stderr",
     "output_type": "stream",
     "text": [
      "\n",
      "100%|██████████████████████████████████████████| 10/10 [00:00<00:00, 335.23it/s]\n"
     ]
    },
    {
     "name": "stdout",
     "output_type": "stream",
     "text": [
      "Gradient of gamma: 6.559537723660469e-06\n",
      "Epoch 4 - Loss: 0.6931490302085876\n",
      "Parameter name: gamma\n",
      "Parameter shape: torch.Size([])\n",
      "Parameter value: Parameter containing:\n",
      "tensor(0.5839, device='cuda:0', requires_grad=True)\n",
      "\n"
     ]
    },
    {
     "name": "stderr",
     "output_type": "stream",
     "text": [
      "\n",
      "100%|██████████████████████████████████████████| 10/10 [00:00<00:00, 357.31it/s]\n",
      " 12%|█████▎                                      | 6/50 [00:00<00:03, 13.35it/s]"
     ]
    },
    {
     "name": "stdout",
     "output_type": "stream",
     "text": [
      "Gradient of gamma: 4.171160981059074e-06\n",
      "Epoch 5 - Loss: 0.693148672580719\n",
      "Parameter name: gamma\n",
      "Parameter shape: torch.Size([])\n",
      "Parameter value: Parameter containing:\n",
      "tensor(0.5248, device='cuda:0', requires_grad=True)\n",
      "\n"
     ]
    },
    {
     "name": "stderr",
     "output_type": "stream",
     "text": [
      "\n",
      "100%|██████████████████████████████████████████| 10/10 [00:00<00:00, 390.71it/s]\n"
     ]
    },
    {
     "name": "stdout",
     "output_type": "stream",
     "text": [
      "Gradient of gamma: 3.0268420232459903e-06\n",
      "Epoch 6 - Loss: 0.6931484937667847\n",
      "Parameter name: gamma\n",
      "Parameter shape: torch.Size([])\n",
      "Parameter value: Parameter containing:\n",
      "tensor(0.4717, device='cuda:0', requires_grad=True)\n",
      "\n"
     ]
    },
    {
     "name": "stderr",
     "output_type": "stream",
     "text": [
      "\n",
      "100%|██████████████████████████████████████████| 10/10 [00:00<00:00, 408.63it/s]\n",
      " 16%|███████                                     | 8/50 [00:00<00:03, 13.71it/s]"
     ]
    },
    {
     "name": "stdout",
     "output_type": "stream",
     "text": [
      "Gradient of gamma: 2.278793544974178e-06\n",
      "Epoch 7 - Loss: 0.6931483149528503\n",
      "Parameter name: gamma\n",
      "Parameter shape: torch.Size([])\n",
      "Parameter value: Parameter containing:\n",
      "tensor(0.4238, device='cuda:0', requires_grad=True)\n",
      "\n"
     ]
    },
    {
     "name": "stderr",
     "output_type": "stream",
     "text": [
      "\n",
      "100%|██████████████████████████████████████████| 10/10 [00:00<00:00, 380.73it/s]\n"
     ]
    },
    {
     "name": "stdout",
     "output_type": "stream",
     "text": [
      "Gradient of gamma: 1.8762266336125322e-06\n",
      "Epoch 8 - Loss: 0.6931482553482056\n",
      "Parameter name: gamma\n",
      "Parameter shape: torch.Size([])\n",
      "Parameter value: Parameter containing:\n",
      "tensor(0.3804, device='cuda:0', requires_grad=True)\n",
      "\n"
     ]
    },
    {
     "name": "stderr",
     "output_type": "stream",
     "text": [
      "\n",
      "100%|██████████████████████████████████████████| 10/10 [00:00<00:00, 358.00it/s]\n",
      " 20%|████████▌                                  | 10/50 [00:00<00:02, 13.87it/s]"
     ]
    },
    {
     "name": "stdout",
     "output_type": "stream",
     "text": [
      "Gradient of gamma: 1.6542296634725062e-06\n",
      "Epoch 9 - Loss: 0.693148136138916\n",
      "Parameter name: gamma\n",
      "Parameter shape: torch.Size([])\n",
      "Parameter value: Parameter containing:\n",
      "tensor(0.3409, device='cuda:0', requires_grad=True)\n",
      "\n"
     ]
    },
    {
     "name": "stderr",
     "output_type": "stream",
     "text": [
      "\n",
      "100%|██████████████████████████████████████████| 10/10 [00:00<00:00, 351.31it/s]\n"
     ]
    },
    {
     "name": "stdout",
     "output_type": "stream",
     "text": [
      "Gradient of gamma: 1.4534314232150791e-06\n",
      "Epoch 10 - Loss: 0.6931480765342712\n",
      "Parameter name: gamma\n",
      "Parameter shape: torch.Size([])\n",
      "Parameter value: Parameter containing:\n",
      "tensor(0.3048, device='cuda:0', requires_grad=True)\n",
      "\n"
     ]
    },
    {
     "name": "stderr",
     "output_type": "stream",
     "text": [
      "\n",
      "100%|██████████████████████████████████████████| 10/10 [00:00<00:00, 385.80it/s]\n",
      " 24%|██████████▎                                | 12/50 [00:00<00:02, 14.02it/s]"
     ]
    },
    {
     "name": "stdout",
     "output_type": "stream",
     "text": [
      "Gradient of gamma: 1.2887327329735854e-06\n",
      "Epoch 11 - Loss: 0.6931480765342712\n",
      "Parameter name: gamma\n",
      "Parameter shape: torch.Size([])\n",
      "Parameter value: Parameter containing:\n",
      "tensor(0.2717, device='cuda:0', requires_grad=True)\n",
      "\n"
     ]
    },
    {
     "name": "stderr",
     "output_type": "stream",
     "text": [
      "\n",
      "100%|██████████████████████████████████████████| 10/10 [00:00<00:00, 383.68it/s]\n"
     ]
    },
    {
     "name": "stdout",
     "output_type": "stream",
     "text": [
      "Gradient of gamma: 1.2274557548153098e-06\n",
      "Epoch 12 - Loss: 0.6931480169296265\n",
      "Parameter name: gamma\n",
      "Parameter shape: torch.Size([])\n",
      "Parameter value: Parameter containing:\n",
      "tensor(0.2413, device='cuda:0', requires_grad=True)\n",
      "\n"
     ]
    },
    {
     "name": "stderr",
     "output_type": "stream",
     "text": [
      "\n",
      "100%|██████████████████████████████████████████| 10/10 [00:00<00:00, 361.55it/s]\n",
      " 28%|████████████                               | 14/50 [00:01<00:02, 14.10it/s]"
     ]
    },
    {
     "name": "stdout",
     "output_type": "stream",
     "text": [
      "Gradient of gamma: 1.1012191407644423e-06\n",
      "Epoch 13 - Loss: 0.6931480169296265\n",
      "Parameter name: gamma\n",
      "Parameter shape: torch.Size([])\n",
      "Parameter value: Parameter containing:\n",
      "tensor(0.2133, device='cuda:0', requires_grad=True)\n",
      "\n"
     ]
    },
    {
     "name": "stderr",
     "output_type": "stream",
     "text": [
      "\n",
      "100%|██████████████████████████████████████████| 10/10 [00:00<00:00, 390.67it/s]\n"
     ]
    },
    {
     "name": "stdout",
     "output_type": "stream",
     "text": [
      "Gradient of gamma: 1.0217748922514147e-06\n",
      "Epoch 14 - Loss: 0.6931480169296265\n",
      "Parameter name: gamma\n",
      "Parameter shape: torch.Size([])\n",
      "Parameter value: Parameter containing:\n",
      "tensor(0.1875, device='cuda:0', requires_grad=True)\n",
      "\n"
     ]
    },
    {
     "name": "stderr",
     "output_type": "stream",
     "text": [
      "\n",
      "100%|██████████████████████████████████████████| 10/10 [00:00<00:00, 393.14it/s]\n",
      " 32%|█████████████▊                             | 16/50 [00:01<00:02, 14.32it/s]"
     ]
    },
    {
     "name": "stdout",
     "output_type": "stream",
     "text": [
      "Gradient of gamma: 9.545057082505082e-07\n",
      "Epoch 15 - Loss: 0.6931479573249817\n",
      "Parameter name: gamma\n",
      "Parameter shape: torch.Size([])\n",
      "Parameter value: Parameter containing:\n",
      "tensor(0.1636, device='cuda:0', requires_grad=True)\n",
      "\n"
     ]
    },
    {
     "name": "stderr",
     "output_type": "stream",
     "text": [
      "\n",
      "100%|██████████████████████████████████████████| 10/10 [00:00<00:00, 365.35it/s]\n"
     ]
    },
    {
     "name": "stdout",
     "output_type": "stream",
     "text": [
      "Gradient of gamma: 8.547551715309964e-07\n",
      "Epoch 16 - Loss: 0.6931479573249817\n",
      "Parameter name: gamma\n",
      "Parameter shape: torch.Size([])\n",
      "Parameter value: Parameter containing:\n",
      "tensor(0.1415, device='cuda:0', requires_grad=True)\n",
      "\n"
     ]
    },
    {
     "name": "stderr",
     "output_type": "stream",
     "text": [
      "\n",
      "100%|██████████████████████████████████████████| 10/10 [00:00<00:00, 383.02it/s]\n",
      " 36%|███████████████▍                           | 18/50 [00:01<00:02, 14.34it/s]"
     ]
    },
    {
     "name": "stdout",
     "output_type": "stream",
     "text": [
      "Gradient of gamma: 8.330602554451616e-07\n",
      "Epoch 17 - Loss: 0.6931478381156921\n",
      "Parameter name: gamma\n",
      "Parameter shape: torch.Size([])\n",
      "Parameter value: Parameter containing:\n",
      "tensor(0.1211, device='cuda:0', requires_grad=True)\n",
      "\n"
     ]
    },
    {
     "name": "stderr",
     "output_type": "stream",
     "text": [
      "\n",
      "100%|██████████████████████████████████████████| 10/10 [00:00<00:00, 373.84it/s]\n"
     ]
    },
    {
     "name": "stdout",
     "output_type": "stream",
     "text": [
      "Gradient of gamma: 7.448137466781191e-07\n",
      "Epoch 18 - Loss: 0.6931478381156921\n",
      "Parameter name: gamma\n",
      "Parameter shape: torch.Size([])\n",
      "Parameter value: Parameter containing:\n",
      "tensor(0.1021, device='cuda:0', requires_grad=True)\n",
      "\n"
     ]
    },
    {
     "name": "stderr",
     "output_type": "stream",
     "text": [
      "\n",
      "100%|██████████████████████████████████████████| 10/10 [00:00<00:00, 391.08it/s]\n",
      " 40%|█████████████████▏                         | 20/50 [00:01<00:02, 14.39it/s]"
     ]
    },
    {
     "name": "stdout",
     "output_type": "stream",
     "text": [
      "Gradient of gamma: 7.292263148883649e-07\n",
      "Epoch 19 - Loss: 0.6931479573249817\n",
      "Parameter name: gamma\n",
      "Parameter shape: torch.Size([])\n",
      "Parameter value: Parameter containing:\n",
      "tensor(0.0845, device='cuda:0', requires_grad=True)\n",
      "\n"
     ]
    },
    {
     "name": "stderr",
     "output_type": "stream",
     "text": [
      "\n",
      "100%|██████████████████████████████████████████| 10/10 [00:00<00:00, 368.69it/s]\n"
     ]
    },
    {
     "name": "stdout",
     "output_type": "stream",
     "text": [
      "Gradient of gamma: 7.152005991883925e-07\n",
      "Epoch 20 - Loss: 0.6931478381156921\n",
      "Parameter name: gamma\n",
      "Parameter shape: torch.Size([])\n",
      "Parameter value: Parameter containing:\n",
      "tensor(0.0682, device='cuda:0', requires_grad=True)\n",
      "\n"
     ]
    },
    {
     "name": "stderr",
     "output_type": "stream",
     "text": [
      "\n",
      "100%|██████████████████████████████████████████| 10/10 [00:00<00:00, 413.22it/s]\n",
      " 44%|██████████████████▉                        | 22/50 [00:01<00:01, 14.43it/s]"
     ]
    },
    {
     "name": "stdout",
     "output_type": "stream",
     "text": [
      "Gradient of gamma: 7.036296665319242e-07\n",
      "Epoch 21 - Loss: 0.6931478381156921\n",
      "Parameter name: gamma\n",
      "Parameter shape: torch.Size([])\n",
      "Parameter value: Parameter containing:\n",
      "tensor(0.0529, device='cuda:0', requires_grad=True)\n",
      "\n"
     ]
    },
    {
     "name": "stderr",
     "output_type": "stream",
     "text": [
      "\n",
      "100%|██████████████████████████████████████████| 10/10 [00:00<00:00, 297.64it/s]\n"
     ]
    },
    {
     "name": "stdout",
     "output_type": "stream",
     "text": [
      "Gradient of gamma: 6.930935683158168e-07\n",
      "Epoch 22 - Loss: 0.6931478381156921\n",
      "Parameter name: gamma\n",
      "Parameter shape: torch.Size([])\n",
      "Parameter value: Parameter containing:\n",
      "tensor(0.0386, device='cuda:0', requires_grad=True)\n",
      "\n"
     ]
    },
    {
     "name": "stderr",
     "output_type": "stream",
     "text": [
      "\n",
      "100%|██████████████████████████████████████████| 10/10 [00:00<00:00, 377.96it/s]\n",
      " 48%|████████████████████▋                      | 24/50 [00:01<00:01, 13.94it/s]"
     ]
    },
    {
     "name": "stdout",
     "output_type": "stream",
     "text": [
      "Gradient of gamma: 6.830081815678568e-07\n",
      "Epoch 23 - Loss: 0.6931478381156921\n",
      "Parameter name: gamma\n",
      "Parameter shape: torch.Size([])\n",
      "Parameter value: Parameter containing:\n",
      "tensor(0.0253, device='cuda:0', requires_grad=True)\n",
      "\n"
     ]
    },
    {
     "name": "stderr",
     "output_type": "stream",
     "text": [
      "\n",
      "100%|██████████████████████████████████████████| 10/10 [00:00<00:00, 378.63it/s]\n"
     ]
    },
    {
     "name": "stdout",
     "output_type": "stream",
     "text": [
      "Gradient of gamma: 6.731502253387589e-07\n",
      "Epoch 24 - Loss: 0.6931478381156921\n",
      "Parameter name: gamma\n",
      "Parameter shape: torch.Size([])\n",
      "Parameter value: Parameter containing:\n",
      "tensor(0.0128, device='cuda:0', requires_grad=True)\n",
      "\n"
     ]
    },
    {
     "name": "stderr",
     "output_type": "stream",
     "text": [
      "\n",
      "100%|██████████████████████████████████████████| 10/10 [00:00<00:00, 379.95it/s]\n",
      " 52%|██████████████████████▎                    | 26/50 [00:01<00:01, 14.01it/s]"
     ]
    },
    {
     "name": "stdout",
     "output_type": "stream",
     "text": [
      "Gradient of gamma: 6.641711252086679e-07\n",
      "Epoch 25 - Loss: 0.6931478381156921\n",
      "Parameter name: gamma\n",
      "Parameter shape: torch.Size([])\n",
      "Parameter value: Parameter containing:\n",
      "tensor(0.0010, device='cuda:0', requires_grad=True)\n",
      "\n"
     ]
    },
    {
     "name": "stderr",
     "output_type": "stream",
     "text": [
      "\n",
      "100%|██████████████████████████████████████████| 10/10 [00:00<00:00, 372.35it/s]\n"
     ]
    },
    {
     "name": "stdout",
     "output_type": "stream",
     "text": [
      "Gradient of gamma: 5.966646199340175e-07\n",
      "Epoch 26 - Loss: 0.6931478381156921\n",
      "Parameter name: gamma\n",
      "Parameter shape: torch.Size([])\n",
      "Parameter value: Parameter containing:\n",
      "tensor(-0.0100, device='cuda:0', requires_grad=True)\n",
      "\n"
     ]
    },
    {
     "name": "stderr",
     "output_type": "stream",
     "text": [
      "\n",
      "100%|██████████████████████████████████████████| 10/10 [00:00<00:00, 410.78it/s]\n",
      " 56%|████████████████████████                   | 28/50 [00:01<00:01, 14.23it/s]"
     ]
    },
    {
     "name": "stdout",
     "output_type": "stream",
     "text": [
      "Gradient of gamma: 5.901463850932487e-07\n",
      "Epoch 27 - Loss: 0.6931478381156921\n",
      "Parameter name: gamma\n",
      "Parameter shape: torch.Size([])\n",
      "Parameter value: Parameter containing:\n",
      "tensor(-0.0204, device='cuda:0', requires_grad=True)\n",
      "\n"
     ]
    },
    {
     "name": "stderr",
     "output_type": "stream",
     "text": [
      "\n",
      "100%|██████████████████████████████████████████| 10/10 [00:00<00:00, 394.91it/s]\n"
     ]
    },
    {
     "name": "stdout",
     "output_type": "stream",
     "text": [
      "Gradient of gamma: 5.841382630933367e-07\n",
      "Epoch 28 - Loss: 0.6931478381156921\n",
      "Parameter name: gamma\n",
      "Parameter shape: torch.Size([])\n",
      "Parameter value: Parameter containing:\n",
      "tensor(-0.0302, device='cuda:0', requires_grad=True)\n",
      "\n"
     ]
    },
    {
     "name": "stderr",
     "output_type": "stream",
     "text": [
      "\n",
      "100%|██████████████████████████████████████████| 10/10 [00:00<00:00, 438.29it/s]\n",
      " 60%|█████████████████████████▊                 | 30/50 [00:02<00:01, 14.75it/s]"
     ]
    },
    {
     "name": "stdout",
     "output_type": "stream",
     "text": [
      "Gradient of gamma: 5.786146743957943e-07\n",
      "Epoch 29 - Loss: 0.6931478381156921\n",
      "Parameter name: gamma\n",
      "Parameter shape: torch.Size([])\n",
      "Parameter value: Parameter containing:\n",
      "tensor(-0.0394, device='cuda:0', requires_grad=True)\n",
      "\n"
     ]
    },
    {
     "name": "stderr",
     "output_type": "stream",
     "text": [
      "\n",
      "100%|██████████████████████████████████████████| 10/10 [00:00<00:00, 429.69it/s]\n"
     ]
    },
    {
     "name": "stdout",
     "output_type": "stream",
     "text": [
      "Gradient of gamma: 5.735377044402412e-07\n",
      "Epoch 30 - Loss: 0.6931478381156921\n",
      "Parameter name: gamma\n",
      "Parameter shape: torch.Size([])\n",
      "Parameter value: Parameter containing:\n",
      "tensor(-0.0481, device='cuda:0', requires_grad=True)\n",
      "\n"
     ]
    },
    {
     "name": "stderr",
     "output_type": "stream",
     "text": [
      "\n",
      "100%|██████████████████████████████████████████| 10/10 [00:00<00:00, 426.47it/s]\n",
      " 64%|███████████████████████████▌               | 32/50 [00:02<00:01, 15.27it/s]"
     ]
    },
    {
     "name": "stdout",
     "output_type": "stream",
     "text": [
      "Gradient of gamma: 5.685798782906204e-07\n",
      "Epoch 31 - Loss: 0.6931477785110474\n",
      "Parameter name: gamma\n",
      "Parameter shape: torch.Size([])\n",
      "Parameter value: Parameter containing:\n",
      "tensor(-0.0564, device='cuda:0', requires_grad=True)\n",
      "\n"
     ]
    },
    {
     "name": "stderr",
     "output_type": "stream",
     "text": [
      "\n",
      "100%|██████████████████████████████████████████| 10/10 [00:00<00:00, 422.37it/s]\n"
     ]
    },
    {
     "name": "stdout",
     "output_type": "stream",
     "text": [
      "Gradient of gamma: 5.641745701723266e-07\n",
      "Epoch 32 - Loss: 0.6931477785110474\n",
      "Parameter name: gamma\n",
      "Parameter shape: torch.Size([])\n",
      "Parameter value: Parameter containing:\n",
      "tensor(-0.0643, device='cuda:0', requires_grad=True)\n",
      "\n"
     ]
    },
    {
     "name": "stderr",
     "output_type": "stream",
     "text": [
      "\n",
      "100%|██████████████████████████████████████████| 10/10 [00:00<00:00, 406.92it/s]\n",
      " 68%|█████████████████████████████▏             | 34/50 [00:02<00:01, 15.54it/s]"
     ]
    },
    {
     "name": "stdout",
     "output_type": "stream",
     "text": [
      "Gradient of gamma: 5.600086296908557e-07\n",
      "Epoch 33 - Loss: 0.6931477189064026\n",
      "Parameter name: gamma\n",
      "Parameter shape: torch.Size([])\n",
      "Parameter value: Parameter containing:\n",
      "tensor(-0.0718, device='cuda:0', requires_grad=True)\n",
      "\n"
     ]
    },
    {
     "name": "stderr",
     "output_type": "stream",
     "text": [
      "\n",
      "100%|██████████████████████████████████████████| 10/10 [00:00<00:00, 441.97it/s]\n"
     ]
    },
    {
     "name": "stdout",
     "output_type": "stream",
     "text": [
      "Gradient of gamma: 5.560655154113192e-07\n",
      "Epoch 34 - Loss: 0.6931477189064026\n",
      "Parameter name: gamma\n",
      "Parameter shape: torch.Size([])\n",
      "Parameter value: Parameter containing:\n",
      "tensor(-0.0790, device='cuda:0', requires_grad=True)\n",
      "\n"
     ]
    },
    {
     "name": "stderr",
     "output_type": "stream",
     "text": [
      "\n",
      "100%|██████████████████████████████████████████| 10/10 [00:00<00:00, 441.37it/s]\n",
      " 72%|██████████████████████████████▉            | 36/50 [00:02<00:00, 15.87it/s]"
     ]
    },
    {
     "name": "stdout",
     "output_type": "stream",
     "text": [
      "Gradient of gamma: 5.522235255739361e-07\n",
      "Epoch 35 - Loss: 0.6931477189064026\n",
      "Parameter name: gamma\n",
      "Parameter shape: torch.Size([])\n",
      "Parameter value: Parameter containing:\n",
      "tensor(-0.0859, device='cuda:0', requires_grad=True)\n",
      "\n"
     ]
    },
    {
     "name": "stderr",
     "output_type": "stream",
     "text": [
      "\n",
      "100%|██████████████████████████████████████████| 10/10 [00:00<00:00, 431.41it/s]\n"
     ]
    },
    {
     "name": "stdout",
     "output_type": "stream",
     "text": [
      "Gradient of gamma: 5.489217187459872e-07\n",
      "Epoch 36 - Loss: 0.6931477189064026\n",
      "Parameter name: gamma\n",
      "Parameter shape: torch.Size([])\n",
      "Parameter value: Parameter containing:\n",
      "tensor(-0.0925, device='cuda:0', requires_grad=True)\n",
      "\n"
     ]
    },
    {
     "name": "stderr",
     "output_type": "stream",
     "text": [
      "\n",
      "100%|██████████████████████████████████████████| 10/10 [00:00<00:00, 410.19it/s]\n",
      " 76%|████████████████████████████████▋          | 38/50 [00:02<00:00, 16.12it/s]"
     ]
    },
    {
     "name": "stdout",
     "output_type": "stream",
     "text": [
      "Gradient of gamma: 5.45468935797544e-07\n",
      "Epoch 37 - Loss: 0.6931477189064026\n",
      "Parameter name: gamma\n",
      "Parameter shape: torch.Size([])\n",
      "Parameter value: Parameter containing:\n",
      "tensor(-0.0988, device='cuda:0', requires_grad=True)\n",
      "\n"
     ]
    },
    {
     "name": "stderr",
     "output_type": "stream",
     "text": [
      "\n",
      "100%|██████████████████████████████████████████| 10/10 [00:00<00:00, 443.32it/s]\n"
     ]
    },
    {
     "name": "stdout",
     "output_type": "stream",
     "text": [
      "Gradient of gamma: 5.423735842668975e-07\n",
      "Epoch 38 - Loss: 0.6931477189064026\n",
      "Parameter name: gamma\n",
      "Parameter shape: torch.Size([])\n",
      "Parameter value: Parameter containing:\n",
      "tensor(-0.1049, device='cuda:0', requires_grad=True)\n",
      "\n"
     ]
    },
    {
     "name": "stderr",
     "output_type": "stream",
     "text": [
      "\n",
      "100%|██████████████████████████████████████████| 10/10 [00:00<00:00, 458.17it/s]\n",
      " 80%|██████████████████████████████████▍        | 40/50 [00:02<00:00, 16.50it/s]"
     ]
    },
    {
     "name": "stdout",
     "output_type": "stream",
     "text": [
      "Gradient of gamma: 5.392229240896995e-07\n",
      "Epoch 39 - Loss: 0.6931477189064026\n",
      "Parameter name: gamma\n",
      "Parameter shape: torch.Size([])\n",
      "Parameter value: Parameter containing:\n",
      "tensor(-0.1109, device='cuda:0', requires_grad=True)\n",
      "\n"
     ]
    },
    {
     "name": "stderr",
     "output_type": "stream",
     "text": [
      "\n",
      "100%|██████████████████████████████████████████| 10/10 [00:00<00:00, 445.79it/s]\n"
     ]
    },
    {
     "name": "stdout",
     "output_type": "stream",
     "text": [
      "Gradient of gamma: 5.364976800592558e-07\n",
      "Epoch 40 - Loss: 0.6931477189064026\n",
      "Parameter name: gamma\n",
      "Parameter shape: torch.Size([])\n",
      "Parameter value: Parameter containing:\n",
      "tensor(-0.1166, device='cuda:0', requires_grad=True)\n",
      "\n"
     ]
    },
    {
     "name": "stderr",
     "output_type": "stream",
     "text": [
      "\n",
      "100%|██████████████████████████████████████████| 10/10 [00:00<00:00, 322.04it/s]\n",
      " 84%|████████████████████████████████████       | 42/50 [00:02<00:00, 15.87it/s]"
     ]
    },
    {
     "name": "stdout",
     "output_type": "stream",
     "text": [
      "Gradient of gamma: 5.336876824912906e-07\n",
      "Epoch 41 - Loss: 0.6931477189064026\n",
      "Parameter name: gamma\n",
      "Parameter shape: torch.Size([])\n",
      "Parameter value: Parameter containing:\n",
      "tensor(-0.1221, device='cuda:0', requires_grad=True)\n",
      "\n"
     ]
    },
    {
     "name": "stderr",
     "output_type": "stream",
     "text": [
      "\n",
      "100%|██████████████████████████████████████████| 10/10 [00:00<00:00, 380.85it/s]\n"
     ]
    },
    {
     "name": "stdout",
     "output_type": "stream",
     "text": [
      "Gradient of gamma: 5.312288635650475e-07\n",
      "Epoch 42 - Loss: 0.6931476593017578\n",
      "Parameter name: gamma\n",
      "Parameter shape: torch.Size([])\n",
      "Parameter value: Parameter containing:\n",
      "tensor(-0.1275, device='cuda:0', requires_grad=True)\n",
      "\n"
     ]
    },
    {
     "name": "stderr",
     "output_type": "stream",
     "text": [
      "\n",
      "100%|██████████████████████████████████████████| 10/10 [00:00<00:00, 386.01it/s]\n",
      " 88%|█████████████████████████████████████▊     | 44/50 [00:02<00:00, 15.31it/s]"
     ]
    },
    {
     "name": "stdout",
     "output_type": "stream",
     "text": [
      "Gradient of gamma: 4.970842724105751e-07\n",
      "Epoch 43 - Loss: 0.6931477189064026\n",
      "Parameter name: gamma\n",
      "Parameter shape: torch.Size([])\n",
      "Parameter value: Parameter containing:\n",
      "tensor(-0.1328, device='cuda:0', requires_grad=True)\n",
      "\n"
     ]
    },
    {
     "name": "stderr",
     "output_type": "stream",
     "text": [
      "\n",
      "100%|██████████████████████████████████████████| 10/10 [00:00<00:00, 381.37it/s]\n"
     ]
    },
    {
     "name": "stdout",
     "output_type": "stream",
     "text": [
      "Gradient of gamma: 5.30404975052079e-07\n",
      "Epoch 44 - Loss: 0.6931476593017578\n",
      "Parameter name: gamma\n",
      "Parameter shape: torch.Size([])\n",
      "Parameter value: Parameter containing:\n",
      "tensor(-0.1379, device='cuda:0', requires_grad=True)\n",
      "\n"
     ]
    },
    {
     "name": "stderr",
     "output_type": "stream",
     "text": [
      "\n",
      "100%|██████████████████████████████████████████| 10/10 [00:00<00:00, 392.69it/s]\n",
      " 92%|███████████████████████████████████████▌   | 46/50 [00:03<00:00, 15.03it/s]"
     ]
    },
    {
     "name": "stdout",
     "output_type": "stream",
     "text": [
      "Gradient of gamma: 5.320064815350634e-07\n",
      "Epoch 45 - Loss: 0.6931476593017578\n",
      "Parameter name: gamma\n",
      "Parameter shape: torch.Size([])\n",
      "Parameter value: Parameter containing:\n",
      "tensor(-0.1429, device='cuda:0', requires_grad=True)\n",
      "\n"
     ]
    },
    {
     "name": "stderr",
     "output_type": "stream",
     "text": [
      "\n",
      "100%|██████████████████████████████████████████| 10/10 [00:00<00:00, 385.04it/s]\n"
     ]
    },
    {
     "name": "stdout",
     "output_type": "stream",
     "text": [
      "Gradient of gamma: 5.30197496573237e-07\n",
      "Epoch 46 - Loss: 0.6931476593017578\n",
      "Parameter name: gamma\n",
      "Parameter shape: torch.Size([])\n",
      "Parameter value: Parameter containing:\n",
      "tensor(-0.1478, device='cuda:0', requires_grad=True)\n",
      "\n"
     ]
    },
    {
     "name": "stderr",
     "output_type": "stream",
     "text": [
      "\n",
      "100%|██████████████████████████████████████████| 10/10 [00:00<00:00, 391.18it/s]\n",
      " 96%|█████████████████████████████████████████▎ | 48/50 [00:03<00:00, 14.89it/s]"
     ]
    },
    {
     "name": "stdout",
     "output_type": "stream",
     "text": [
      "Gradient of gamma: 4.974917828803882e-07\n",
      "Epoch 47 - Loss: 0.6931476593017578\n",
      "Parameter name: gamma\n",
      "Parameter shape: torch.Size([])\n",
      "Parameter value: Parameter containing:\n",
      "tensor(-0.1527, device='cuda:0', requires_grad=True)\n",
      "\n"
     ]
    },
    {
     "name": "stderr",
     "output_type": "stream",
     "text": [
      "\n",
      "100%|██████████████████████████████████████████| 10/10 [00:00<00:00, 387.79it/s]\n"
     ]
    },
    {
     "name": "stdout",
     "output_type": "stream",
     "text": [
      "Gradient of gamma: 4.954158612235915e-07\n",
      "Epoch 48 - Loss: 0.6931476593017578\n",
      "Parameter name: gamma\n",
      "Parameter shape: torch.Size([])\n",
      "Parameter value: Parameter containing:\n",
      "tensor(-0.1574, device='cuda:0', requires_grad=True)\n",
      "\n"
     ]
    },
    {
     "name": "stderr",
     "output_type": "stream",
     "text": [
      "\n",
      "100%|██████████████████████████████████████████| 10/10 [00:00<00:00, 440.08it/s]\n",
      "100%|███████████████████████████████████████████| 50/50 [00:03<00:00, 14.77it/s]"
     ]
    },
    {
     "name": "stdout",
     "output_type": "stream",
     "text": [
      "Gradient of gamma: 4.6268965547824337e-07\n",
      "Epoch 49 - Loss: 0.6931476593017578\n",
      "Parameter name: gamma\n",
      "Parameter shape: torch.Size([])\n",
      "Parameter value: Parameter containing:\n",
      "tensor(-0.1620, device='cuda:0', requires_grad=True)\n",
      "\n"
     ]
    },
    {
     "name": "stderr",
     "output_type": "stream",
     "text": [
      "\n",
      "  0%|                                                    | 0/50 [00:00<?, ?it/s]\n",
      "100%|██████████████████████████████████████████| 10/10 [00:00<00:00, 412.57it/s]\n"
     ]
    },
    {
     "name": "stdout",
     "output_type": "stream",
     "text": [
      "Gradient of gamma: 0.00013282103464007378\n",
      "Epoch 0 - Loss: 0.6931700706481934\n",
      "Parameter name: gamma\n",
      "Parameter shape: torch.Size([])\n",
      "Parameter value: Parameter containing:\n",
      "tensor(0.9000, device='cuda:0', requires_grad=True)\n",
      "\n"
     ]
    },
    {
     "name": "stderr",
     "output_type": "stream",
     "text": [
      "\n",
      "100%|██████████████████████████████████████████| 10/10 [00:00<00:00, 445.11it/s]\n",
      "  4%|█▊                                          | 2/50 [00:00<00:02, 16.10it/s]"
     ]
    },
    {
     "name": "stdout",
     "output_type": "stream",
     "text": [
      "Gradient of gamma: 6.862496957182884e-05\n",
      "Epoch 1 - Loss: 0.6931604146957397\n",
      "Parameter name: gamma\n",
      "Parameter shape: torch.Size([])\n",
      "Parameter value: Parameter containing:\n",
      "tensor(0.8063, device='cuda:0', requires_grad=True)\n",
      "\n"
     ]
    },
    {
     "name": "stderr",
     "output_type": "stream",
     "text": [
      "\n",
      "100%|██████████████████████████████████████████| 10/10 [00:00<00:00, 472.05it/s]\n"
     ]
    },
    {
     "name": "stdout",
     "output_type": "stream",
     "text": [
      "Gradient of gamma: 3.698212094604969e-05\n",
      "Epoch 2 - Loss: 0.6931555867195129\n",
      "Parameter name: gamma\n",
      "Parameter shape: torch.Size([])\n",
      "Parameter value: Parameter containing:\n",
      "tensor(0.7207, device='cuda:0', requires_grad=True)\n",
      "\n"
     ]
    },
    {
     "name": "stderr",
     "output_type": "stream",
     "text": [
      "\n",
      "100%|██████████████████████████████████████████| 10/10 [00:00<00:00, 441.65it/s]\n",
      "  8%|███▌                                        | 4/50 [00:00<00:02, 16.81it/s]"
     ]
    },
    {
     "name": "stdout",
     "output_type": "stream",
     "text": [
      "Gradient of gamma: 2.1484156604856253e-05\n",
      "Epoch 3 - Loss: 0.6931532025337219\n",
      "Parameter name: gamma\n",
      "Parameter shape: torch.Size([])\n",
      "Parameter value: Parameter containing:\n",
      "tensor(0.6432, device='cuda:0', requires_grad=True)\n",
      "\n"
     ]
    },
    {
     "name": "stderr",
     "output_type": "stream",
     "text": [
      "\n",
      "100%|██████████████████████████████████████████| 10/10 [00:00<00:00, 462.78it/s]\n"
     ]
    },
    {
     "name": "stdout",
     "output_type": "stream",
     "text": [
      "Gradient of gamma: 1.356359280180186e-05\n",
      "Epoch 4 - Loss: 0.6931518316268921\n",
      "Parameter name: gamma\n",
      "Parameter shape: torch.Size([])\n",
      "Parameter value: Parameter containing:\n",
      "tensor(0.5731, device='cuda:0', requires_grad=True)\n",
      "\n"
     ]
    },
    {
     "name": "stderr",
     "output_type": "stream",
     "text": [
      "\n",
      "100%|██████████████████████████████████████████| 10/10 [00:00<00:00, 445.74it/s]\n",
      " 12%|█████▎                                      | 6/50 [00:00<00:02, 17.02it/s]"
     ]
    },
    {
     "name": "stdout",
     "output_type": "stream",
     "text": [
      "Gradient of gamma: 9.339979442302138e-06\n",
      "Epoch 5 - Loss: 0.6931509971618652\n",
      "Parameter name: gamma\n",
      "Parameter shape: torch.Size([])\n",
      "Parameter value: Parameter containing:\n",
      "tensor(0.5098, device='cuda:0', requires_grad=True)\n",
      "\n"
     ]
    },
    {
     "name": "stderr",
     "output_type": "stream",
     "text": [
      "\n",
      "100%|██████████████████████████████████████████| 10/10 [00:00<00:00, 438.57it/s]\n"
     ]
    },
    {
     "name": "stdout",
     "output_type": "stream",
     "text": [
      "Gradient of gamma: 6.9402412918861955e-06\n",
      "Epoch 6 - Loss: 0.6931504607200623\n",
      "Parameter name: gamma\n",
      "Parameter shape: torch.Size([])\n",
      "Parameter value: Parameter containing:\n",
      "tensor(0.4522, device='cuda:0', requires_grad=True)\n",
      "\n"
     ]
    },
    {
     "name": "stderr",
     "output_type": "stream",
     "text": [
      "\n",
      "100%|██████████████████████████████████████████| 10/10 [00:00<00:00, 454.93it/s]\n",
      " 16%|███████                                     | 8/50 [00:00<00:02, 17.14it/s]"
     ]
    },
    {
     "name": "stdout",
     "output_type": "stream",
     "text": [
      "Gradient of gamma: 5.481590960698668e-06\n",
      "Epoch 7 - Loss: 0.6931501626968384\n",
      "Parameter name: gamma\n",
      "Parameter shape: torch.Size([])\n",
      "Parameter value: Parameter containing:\n",
      "tensor(0.3998, device='cuda:0', requires_grad=True)\n",
      "\n"
     ]
    },
    {
     "name": "stderr",
     "output_type": "stream",
     "text": [
      "\n",
      "100%|██████████████████████████████████████████| 10/10 [00:00<00:00, 450.90it/s]\n"
     ]
    },
    {
     "name": "stdout",
     "output_type": "stream",
     "text": [
      "Gradient of gamma: 4.656874807551503e-06\n",
      "Epoch 8 - Loss: 0.6931499242782593\n",
      "Parameter name: gamma\n",
      "Parameter shape: torch.Size([])\n",
      "Parameter value: Parameter containing:\n",
      "tensor(0.3518, device='cuda:0', requires_grad=True)\n",
      "\n"
     ]
    },
    {
     "name": "stderr",
     "output_type": "stream",
     "text": [
      "\n",
      "100%|██████████████████████████████████████████| 10/10 [00:00<00:00, 433.99it/s]\n",
      " 20%|████████▌                                  | 10/50 [00:00<00:02, 17.02it/s]"
     ]
    },
    {
     "name": "stdout",
     "output_type": "stream",
     "text": [
      "Gradient of gamma: 3.850323992082849e-06\n",
      "Epoch 9 - Loss: 0.6931496858596802\n",
      "Parameter name: gamma\n",
      "Parameter shape: torch.Size([])\n",
      "Parameter value: Parameter containing:\n",
      "tensor(0.3078, device='cuda:0', requires_grad=True)\n",
      "\n"
     ]
    },
    {
     "name": "stderr",
     "output_type": "stream",
     "text": [
      "\n",
      "100%|██████████████████████████████████████████| 10/10 [00:00<00:00, 451.64it/s]\n"
     ]
    },
    {
     "name": "stdout",
     "output_type": "stream",
     "text": [
      "Gradient of gamma: 3.403906475796248e-06\n",
      "Epoch 10 - Loss: 0.6931495070457458\n",
      "Parameter name: gamma\n",
      "Parameter shape: torch.Size([])\n",
      "Parameter value: Parameter containing:\n",
      "tensor(0.2674, device='cuda:0', requires_grad=True)\n",
      "\n"
     ]
    },
    {
     "name": "stderr",
     "output_type": "stream",
     "text": [
      "\n",
      "100%|██████████████████████████████████████████| 10/10 [00:00<00:00, 480.72it/s]\n",
      " 24%|██████████▎                                | 12/50 [00:00<00:02, 17.08it/s]"
     ]
    },
    {
     "name": "stdout",
     "output_type": "stream",
     "text": [
      "Gradient of gamma: 3.0306230200949358e-06\n",
      "Epoch 11 - Loss: 0.6931494474411011\n",
      "Parameter name: gamma\n",
      "Parameter shape: torch.Size([])\n",
      "Parameter value: Parameter containing:\n",
      "tensor(0.2300, device='cuda:0', requires_grad=True)\n",
      "\n"
     ]
    },
    {
     "name": "stderr",
     "output_type": "stream",
     "text": [
      "\n",
      "100%|██████████████████████████████████████████| 10/10 [00:00<00:00, 414.92it/s]\n"
     ]
    },
    {
     "name": "stdout",
     "output_type": "stream",
     "text": [
      "Gradient of gamma: 2.7870710255228914e-06\n",
      "Epoch 12 - Loss: 0.6931492686271667\n",
      "Parameter name: gamma\n",
      "Parameter shape: torch.Size([])\n",
      "Parameter value: Parameter containing:\n",
      "tensor(0.1955, device='cuda:0', requires_grad=True)\n",
      "\n"
     ]
    },
    {
     "name": "stderr",
     "output_type": "stream",
     "text": [
      "\n",
      "100%|██████████████████████████████████████████| 10/10 [00:00<00:00, 456.40it/s]\n",
      " 28%|████████████                               | 14/50 [00:00<00:02, 17.00it/s]"
     ]
    },
    {
     "name": "stdout",
     "output_type": "stream",
     "text": [
      "Gradient of gamma: 2.500679784134263e-06\n",
      "Epoch 13 - Loss: 0.693149209022522\n",
      "Parameter name: gamma\n",
      "Parameter shape: torch.Size([])\n",
      "Parameter value: Parameter containing:\n",
      "tensor(0.1636, device='cuda:0', requires_grad=True)\n",
      "\n"
     ]
    },
    {
     "name": "stderr",
     "output_type": "stream",
     "text": [
      "\n",
      "100%|██████████████████████████████████████████| 10/10 [00:00<00:00, 462.79it/s]\n"
     ]
    },
    {
     "name": "stdout",
     "output_type": "stream",
     "text": [
      "Gradient of gamma: 2.335065346414922e-06\n",
      "Epoch 14 - Loss: 0.6931490898132324\n",
      "Parameter name: gamma\n",
      "Parameter shape: torch.Size([])\n",
      "Parameter value: Parameter containing:\n",
      "tensor(0.1340, device='cuda:0', requires_grad=True)\n",
      "\n"
     ]
    },
    {
     "name": "stderr",
     "output_type": "stream",
     "text": [
      "\n",
      "100%|██████████████████████████████████████████| 10/10 [00:00<00:00, 428.11it/s]\n",
      " 32%|█████████████▊                             | 16/50 [00:00<00:02, 16.97it/s]"
     ]
    },
    {
     "name": "stdout",
     "output_type": "stream",
     "text": [
      "Gradient of gamma: 2.168387709389208e-06\n",
      "Epoch 15 - Loss: 0.6931490898132324\n",
      "Parameter name: gamma\n",
      "Parameter shape: torch.Size([])\n",
      "Parameter value: Parameter containing:\n",
      "tensor(0.1064, device='cuda:0', requires_grad=True)\n",
      "\n"
     ]
    },
    {
     "name": "stderr",
     "output_type": "stream",
     "text": [
      "\n",
      "100%|██████████████████████████████████████████| 10/10 [00:00<00:00, 454.64it/s]\n"
     ]
    },
    {
     "name": "stdout",
     "output_type": "stream",
     "text": [
      "Gradient of gamma: 2.0513170966296457e-06\n",
      "Epoch 16 - Loss: 0.6931489706039429\n",
      "Parameter name: gamma\n",
      "Parameter shape: torch.Size([])\n",
      "Parameter value: Parameter containing:\n",
      "tensor(0.0808, device='cuda:0', requires_grad=True)\n",
      "\n"
     ]
    },
    {
     "name": "stderr",
     "output_type": "stream",
     "text": [
      "\n",
      "100%|██████████████████████████████████████████| 10/10 [00:00<00:00, 474.08it/s]\n",
      " 36%|███████████████▍                           | 18/50 [00:01<00:01, 17.16it/s]"
     ]
    },
    {
     "name": "stdout",
     "output_type": "stream",
     "text": [
      "Gradient of gamma: 1.929609425133094e-06\n",
      "Epoch 17 - Loss: 0.6931489706039429\n",
      "Parameter name: gamma\n",
      "Parameter shape: torch.Size([])\n",
      "Parameter value: Parameter containing:\n",
      "tensor(0.0569, device='cuda:0', requires_grad=True)\n",
      "\n"
     ]
    },
    {
     "name": "stderr",
     "output_type": "stream",
     "text": [
      "\n",
      "100%|██████████████████████████████████████████| 10/10 [00:00<00:00, 449.29it/s]\n"
     ]
    },
    {
     "name": "stdout",
     "output_type": "stream",
     "text": [
      "Gradient of gamma: 1.8170259181715664e-06\n",
      "Epoch 18 - Loss: 0.6931489706039429\n",
      "Parameter name: gamma\n",
      "Parameter shape: torch.Size([])\n",
      "Parameter value: Parameter containing:\n",
      "tensor(0.0346, device='cuda:0', requires_grad=True)\n",
      "\n"
     ]
    },
    {
     "name": "stderr",
     "output_type": "stream",
     "text": [
      "\n",
      "100%|██████████████████████████████████████████| 10/10 [00:00<00:00, 491.12it/s]\n",
      " 40%|█████████████████▏                         | 20/50 [00:01<00:01, 17.36it/s]"
     ]
    },
    {
     "name": "stdout",
     "output_type": "stream",
     "text": [
      "Gradient of gamma: 1.7751374343788484e-06\n",
      "Epoch 19 - Loss: 0.6931489706039429\n",
      "Parameter name: gamma\n",
      "Parameter shape: torch.Size([])\n",
      "Parameter value: Parameter containing:\n",
      "tensor(0.0138, device='cuda:0', requires_grad=True)\n",
      "\n"
     ]
    },
    {
     "name": "stderr",
     "output_type": "stream",
     "text": [
      "\n",
      "100%|██████████████████████████████████████████| 10/10 [00:00<00:00, 503.44it/s]\n"
     ]
    },
    {
     "name": "stdout",
     "output_type": "stream",
     "text": [
      "Gradient of gamma: 1.693212652753573e-06\n",
      "Epoch 20 - Loss: 0.6931487917900085\n",
      "Parameter name: gamma\n",
      "Parameter shape: torch.Size([])\n",
      "Parameter value: Parameter containing:\n",
      "tensor(-0.0057, device='cuda:0', requires_grad=True)\n",
      "\n"
     ]
    },
    {
     "name": "stderr",
     "output_type": "stream",
     "text": [
      "\n",
      "100%|██████████████████████████████████████████| 10/10 [00:00<00:00, 493.76it/s]\n",
      " 44%|██████████████████▉                        | 22/50 [00:01<00:01, 17.69it/s]"
     ]
    },
    {
     "name": "stdout",
     "output_type": "stream",
     "text": [
      "Gradient of gamma: 1.6298168930006796e-06\n",
      "Epoch 21 - Loss: 0.6931487321853638\n",
      "Parameter name: gamma\n",
      "Parameter shape: torch.Size([])\n",
      "Parameter value: Parameter containing:\n",
      "tensor(-0.0240, device='cuda:0', requires_grad=True)\n",
      "\n"
     ]
    },
    {
     "name": "stderr",
     "output_type": "stream",
     "text": [
      "\n",
      "100%|██████████████████████████████████████████| 10/10 [00:00<00:00, 494.19it/s]\n"
     ]
    },
    {
     "name": "stdout",
     "output_type": "stream",
     "text": [
      "Gradient of gamma: 1.5564990007987944e-06\n",
      "Epoch 22 - Loss: 0.6931487321853638\n",
      "Parameter name: gamma\n",
      "Parameter shape: torch.Size([])\n",
      "Parameter value: Parameter containing:\n",
      "tensor(-0.0412, device='cuda:0', requires_grad=True)\n",
      "\n"
     ]
    },
    {
     "name": "stderr",
     "output_type": "stream",
     "text": [
      "\n",
      "100%|██████████████████████████████████████████| 10/10 [00:00<00:00, 498.51it/s]\n",
      " 48%|████████████████████▋                      | 24/50 [00:01<00:01, 17.80it/s]"
     ]
    },
    {
     "name": "stdout",
     "output_type": "stream",
     "text": [
      "Gradient of gamma: 1.4743756082680193e-06\n",
      "Epoch 23 - Loss: 0.6931487321853638\n",
      "Parameter name: gamma\n",
      "Parameter shape: torch.Size([])\n",
      "Parameter value: Parameter containing:\n",
      "tensor(-0.0574, device='cuda:0', requires_grad=True)\n",
      "\n"
     ]
    },
    {
     "name": "stderr",
     "output_type": "stream",
     "text": [
      "\n",
      "100%|██████████████████████████████████████████| 10/10 [00:00<00:00, 478.68it/s]\n"
     ]
    },
    {
     "name": "stdout",
     "output_type": "stream",
     "text": [
      "Gradient of gamma: 1.4501365512842312e-06\n",
      "Epoch 24 - Loss: 0.6931487321853638\n",
      "Parameter name: gamma\n",
      "Parameter shape: torch.Size([])\n",
      "Parameter value: Parameter containing:\n",
      "tensor(-0.0726, device='cuda:0', requires_grad=True)\n",
      "\n"
     ]
    },
    {
     "name": "stderr",
     "output_type": "stream",
     "text": [
      "\n",
      "100%|██████████████████████████████████████████| 10/10 [00:00<00:00, 493.87it/s]\n",
      " 52%|██████████████████████▎                    | 26/50 [00:01<00:01, 17.96it/s]"
     ]
    },
    {
     "name": "stdout",
     "output_type": "stream",
     "text": [
      "Gradient of gamma: 1.4011708344696672e-06\n",
      "Epoch 25 - Loss: 0.6931487321853638\n",
      "Parameter name: gamma\n",
      "Parameter shape: torch.Size([])\n",
      "Parameter value: Parameter containing:\n",
      "tensor(-0.0870, device='cuda:0', requires_grad=True)\n",
      "\n"
     ]
    },
    {
     "name": "stderr",
     "output_type": "stream",
     "text": [
      "\n",
      "100%|██████████████████████████████████████████| 10/10 [00:00<00:00, 488.43it/s]\n"
     ]
    },
    {
     "name": "stdout",
     "output_type": "stream",
     "text": [
      "Gradient of gamma: 1.357011001346109e-06\n",
      "Epoch 26 - Loss: 0.693148672580719\n",
      "Parameter name: gamma\n",
      "Parameter shape: torch.Size([])\n",
      "Parameter value: Parameter containing:\n",
      "tensor(-0.1006, device='cuda:0', requires_grad=True)\n",
      "\n"
     ]
    },
    {
     "name": "stderr",
     "output_type": "stream",
     "text": [
      "\n",
      "100%|██████████████████████████████████████████| 10/10 [00:00<00:00, 473.36it/s]\n",
      " 56%|████████████████████████                   | 28/50 [00:01<00:01, 17.89it/s]"
     ]
    },
    {
     "name": "stdout",
     "output_type": "stream",
     "text": [
      "Gradient of gamma: 1.340730477750185e-06\n",
      "Epoch 27 - Loss: 0.693148672580719\n",
      "Parameter name: gamma\n",
      "Parameter shape: torch.Size([])\n",
      "Parameter value: Parameter containing:\n",
      "tensor(-0.1134, device='cuda:0', requires_grad=True)\n",
      "\n"
     ]
    },
    {
     "name": "stderr",
     "output_type": "stream",
     "text": [
      "\n",
      "100%|██████████████████████████████████████████| 10/10 [00:00<00:00, 497.96it/s]\n"
     ]
    },
    {
     "name": "stdout",
     "output_type": "stream",
     "text": [
      "Gradient of gamma: 1.3258589888209826e-06\n",
      "Epoch 28 - Loss: 0.693148672580719\n",
      "Parameter name: gamma\n",
      "Parameter shape: torch.Size([])\n",
      "Parameter value: Parameter containing:\n",
      "tensor(-0.1256, device='cuda:0', requires_grad=True)\n",
      "\n"
     ]
    },
    {
     "name": "stderr",
     "output_type": "stream",
     "text": [
      "\n",
      "100%|██████████████████████████████████████████| 10/10 [00:00<00:00, 495.48it/s]\n",
      " 60%|█████████████████████████▊                 | 30/50 [00:01<00:01, 18.00it/s]"
     ]
    },
    {
     "name": "stdout",
     "output_type": "stream",
     "text": [
      "Gradient of gamma: 1.295485844821087e-06\n",
      "Epoch 29 - Loss: 0.693148672580719\n",
      "Parameter name: gamma\n",
      "Parameter shape: torch.Size([])\n",
      "Parameter value: Parameter containing:\n",
      "tensor(-0.1371, device='cuda:0', requires_grad=True)\n",
      "\n"
     ]
    },
    {
     "name": "stderr",
     "output_type": "stream",
     "text": [
      "\n",
      "100%|██████████████████████████████████████████| 10/10 [00:00<00:00, 499.05it/s]\n"
     ]
    },
    {
     "name": "stdout",
     "output_type": "stream",
     "text": [
      "Gradient of gamma: 1.258468159903714e-06\n",
      "Epoch 30 - Loss: 0.693148672580719\n",
      "Parameter name: gamma\n",
      "Parameter shape: torch.Size([])\n",
      "Parameter value: Parameter containing:\n",
      "tensor(-0.1481, device='cuda:0', requires_grad=True)\n",
      "\n"
     ]
    },
    {
     "name": "stderr",
     "output_type": "stream",
     "text": [
      "\n",
      "100%|██████████████████████████████████████████| 10/10 [00:00<00:00, 496.43it/s]\n",
      " 64%|███████████████████████████▌               | 32/50 [00:01<00:00, 18.04it/s]"
     ]
    },
    {
     "name": "stdout",
     "output_type": "stream",
     "text": [
      "Gradient of gamma: 1.2216013374199974e-06\n",
      "Epoch 31 - Loss: 0.6931485533714294\n",
      "Parameter name: gamma\n",
      "Parameter shape: torch.Size([])\n",
      "Parameter value: Parameter containing:\n",
      "tensor(-0.1586, device='cuda:0', requires_grad=True)\n",
      "\n"
     ]
    },
    {
     "name": "stderr",
     "output_type": "stream",
     "text": [
      "\n",
      "100%|██████████████████████████████████████████| 10/10 [00:00<00:00, 494.79it/s]\n"
     ]
    },
    {
     "name": "stdout",
     "output_type": "stream",
     "text": [
      "Gradient of gamma: 1.20844060802483e-06\n",
      "Epoch 32 - Loss: 0.6931485533714294\n",
      "Parameter name: gamma\n",
      "Parameter shape: torch.Size([])\n",
      "Parameter value: Parameter containing:\n",
      "tensor(-0.1686, device='cuda:0', requires_grad=True)\n",
      "\n"
     ]
    },
    {
     "name": "stderr",
     "output_type": "stream",
     "text": [
      "\n",
      "100%|██████████████████████████████████████████| 10/10 [00:00<00:00, 452.26it/s]\n",
      " 68%|█████████████████████████████▏             | 34/50 [00:01<00:00, 17.88it/s]"
     ]
    },
    {
     "name": "stdout",
     "output_type": "stream",
     "text": [
      "Gradient of gamma: 1.1984109278273536e-06\n",
      "Epoch 33 - Loss: 0.6931485533714294\n",
      "Parameter name: gamma\n",
      "Parameter shape: torch.Size([])\n",
      "Parameter value: Parameter containing:\n",
      "tensor(-0.1782, device='cuda:0', requires_grad=True)\n",
      "\n"
     ]
    },
    {
     "name": "stderr",
     "output_type": "stream",
     "text": [
      "\n",
      "100%|██████████████████████████████████████████| 10/10 [00:00<00:00, 479.27it/s]\n"
     ]
    },
    {
     "name": "stdout",
     "output_type": "stream",
     "text": [
      "Gradient of gamma: 1.1879811836479348e-06\n",
      "Epoch 34 - Loss: 0.6931485533714294\n",
      "Parameter name: gamma\n",
      "Parameter shape: torch.Size([])\n",
      "Parameter value: Parameter containing:\n",
      "tensor(-0.1874, device='cuda:0', requires_grad=True)\n",
      "\n"
     ]
    },
    {
     "name": "stderr",
     "output_type": "stream",
     "text": [
      "\n",
      "100%|██████████████████████████████████████████| 10/10 [00:00<00:00, 480.58it/s]\n",
      " 72%|██████████████████████████████▉            | 36/50 [00:02<00:00, 17.97it/s]"
     ]
    },
    {
     "name": "stdout",
     "output_type": "stream",
     "text": [
      "Gradient of gamma: 1.189137265100726e-06\n",
      "Epoch 35 - Loss: 0.6931485533714294\n",
      "Parameter name: gamma\n",
      "Parameter shape: torch.Size([])\n",
      "Parameter value: Parameter containing:\n",
      "tensor(-0.1962, device='cuda:0', requires_grad=True)\n",
      "\n"
     ]
    },
    {
     "name": "stderr",
     "output_type": "stream",
     "text": [
      "\n",
      "100%|██████████████████████████████████████████| 10/10 [00:00<00:00, 487.75it/s]\n"
     ]
    },
    {
     "name": "stdout",
     "output_type": "stream",
     "text": [
      "Gradient of gamma: 1.1341953722876497e-06\n",
      "Epoch 36 - Loss: 0.6931485533714294\n",
      "Parameter name: gamma\n",
      "Parameter shape: torch.Size([])\n",
      "Parameter value: Parameter containing:\n",
      "tensor(-0.2047, device='cuda:0', requires_grad=True)\n",
      "\n"
     ]
    },
    {
     "name": "stderr",
     "output_type": "stream",
     "text": [
      "\n",
      "100%|██████████████████████████████████████████| 10/10 [00:00<00:00, 444.67it/s]\n",
      " 76%|████████████████████████████████▋          | 38/50 [00:02<00:00, 17.91it/s]"
     ]
    },
    {
     "name": "stdout",
     "output_type": "stream",
     "text": [
      "Gradient of gamma: 1.1266939736742643e-06\n",
      "Epoch 37 - Loss: 0.6931485533714294\n",
      "Parameter name: gamma\n",
      "Parameter shape: torch.Size([])\n",
      "Parameter value: Parameter containing:\n",
      "tensor(-0.2129, device='cuda:0', requires_grad=True)\n",
      "\n"
     ]
    },
    {
     "name": "stderr",
     "output_type": "stream",
     "text": [
      "\n",
      "100%|██████████████████████████████████████████| 10/10 [00:00<00:00, 480.88it/s]\n"
     ]
    },
    {
     "name": "stdout",
     "output_type": "stream",
     "text": [
      "Gradient of gamma: 1.119030798690801e-06\n",
      "Epoch 38 - Loss: 0.6931485533714294\n",
      "Parameter name: gamma\n",
      "Parameter shape: torch.Size([])\n",
      "Parameter value: Parameter containing:\n",
      "tensor(-0.2208, device='cuda:0', requires_grad=True)\n",
      "\n"
     ]
    },
    {
     "name": "stderr",
     "output_type": "stream",
     "text": [
      "\n",
      "100%|██████████████████████████████████████████| 10/10 [00:00<00:00, 484.98it/s]\n",
      " 80%|██████████████████████████████████▍        | 40/50 [00:02<00:00, 18.12it/s]"
     ]
    },
    {
     "name": "stdout",
     "output_type": "stream",
     "text": [
      "Gradient of gamma: 1.1117490430478938e-06\n",
      "Epoch 39 - Loss: 0.6931484937667847\n",
      "Parameter name: gamma\n",
      "Parameter shape: torch.Size([])\n",
      "Parameter value: Parameter containing:\n",
      "tensor(-0.2285, device='cuda:0', requires_grad=True)\n",
      "\n"
     ]
    },
    {
     "name": "stderr",
     "output_type": "stream",
     "text": [
      "\n",
      "100%|██████████████████████████████████████████| 10/10 [00:00<00:00, 481.91it/s]\n"
     ]
    },
    {
     "name": "stdout",
     "output_type": "stream",
     "text": [
      "Gradient of gamma: 1.103575982597249e-06\n",
      "Epoch 40 - Loss: 0.6931484937667847\n",
      "Parameter name: gamma\n",
      "Parameter shape: torch.Size([])\n",
      "Parameter value: Parameter containing:\n",
      "tensor(-0.2359, device='cuda:0', requires_grad=True)\n",
      "\n"
     ]
    },
    {
     "name": "stderr",
     "output_type": "stream",
     "text": [
      "\n",
      "100%|██████████████████████████████████████████| 10/10 [00:00<00:00, 485.31it/s]\n",
      " 84%|████████████████████████████████████       | 42/50 [00:02<00:00, 18.12it/s]"
     ]
    },
    {
     "name": "stdout",
     "output_type": "stream",
     "text": [
      "Gradient of gamma: 1.0657662414814695e-06\n",
      "Epoch 41 - Loss: 0.6931484937667847\n",
      "Parameter name: gamma\n",
      "Parameter shape: torch.Size([])\n",
      "Parameter value: Parameter containing:\n",
      "tensor(-0.2431, device='cuda:0', requires_grad=True)\n",
      "\n"
     ]
    },
    {
     "name": "stderr",
     "output_type": "stream",
     "text": [
      "\n",
      "100%|██████████████████████████████████████████| 10/10 [00:00<00:00, 488.08it/s]\n"
     ]
    },
    {
     "name": "stdout",
     "output_type": "stream",
     "text": [
      "Gradient of gamma: 1.107420530388481e-06\n",
      "Epoch 42 - Loss: 0.6931484937667847\n",
      "Parameter name: gamma\n",
      "Parameter shape: torch.Size([])\n",
      "Parameter value: Parameter containing:\n",
      "tensor(-0.2502, device='cuda:0', requires_grad=True)\n",
      "\n"
     ]
    },
    {
     "name": "stderr",
     "output_type": "stream",
     "text": [
      "\n",
      "100%|██████████████████████████████████████████| 10/10 [00:00<00:00, 492.64it/s]\n",
      " 88%|█████████████████████████████████████▊     | 44/50 [00:02<00:00, 18.12it/s]"
     ]
    },
    {
     "name": "stdout",
     "output_type": "stream",
     "text": [
      "Gradient of gamma: 1.0366208016421297e-06\n",
      "Epoch 43 - Loss: 0.6931484937667847\n",
      "Parameter name: gamma\n",
      "Parameter shape: torch.Size([])\n",
      "Parameter value: Parameter containing:\n",
      "tensor(-0.2570, device='cuda:0', requires_grad=True)\n",
      "\n"
     ]
    },
    {
     "name": "stderr",
     "output_type": "stream",
     "text": [
      "\n",
      "100%|██████████████████████████████████████████| 10/10 [00:00<00:00, 480.74it/s]\n"
     ]
    },
    {
     "name": "stdout",
     "output_type": "stream",
     "text": [
      "Gradient of gamma: 1.0321316494810162e-06\n",
      "Epoch 44 - Loss: 0.6931484937667847\n",
      "Parameter name: gamma\n",
      "Parameter shape: torch.Size([])\n",
      "Parameter value: Parameter containing:\n",
      "tensor(-0.2637, device='cuda:0', requires_grad=True)\n",
      "\n"
     ]
    },
    {
     "name": "stderr",
     "output_type": "stream",
     "text": [
      "\n",
      "100%|██████████████████████████████████████████| 10/10 [00:00<00:00, 485.74it/s]\n",
      " 92%|███████████████████████████████████████▌   | 46/50 [00:02<00:00, 18.15it/s]"
     ]
    },
    {
     "name": "stdout",
     "output_type": "stream",
     "text": [
      "Gradient of gamma: 1.0335004390071845e-06\n",
      "Epoch 45 - Loss: 0.6931484937667847\n",
      "Parameter name: gamma\n",
      "Parameter shape: torch.Size([])\n",
      "Parameter value: Parameter containing:\n",
      "tensor(-0.2702, device='cuda:0', requires_grad=True)\n",
      "\n"
     ]
    },
    {
     "name": "stderr",
     "output_type": "stream",
     "text": [
      "\n",
      "100%|██████████████████████████████████████████| 10/10 [00:00<00:00, 495.70it/s]\n"
     ]
    },
    {
     "name": "stdout",
     "output_type": "stream",
     "text": [
      "Gradient of gamma: 9.985021733882604e-07\n",
      "Epoch 46 - Loss: 0.6931484937667847\n",
      "Parameter name: gamma\n",
      "Parameter shape: torch.Size([])\n",
      "Parameter value: Parameter containing:\n",
      "tensor(-0.2766, device='cuda:0', requires_grad=True)\n",
      "\n"
     ]
    },
    {
     "name": "stderr",
     "output_type": "stream",
     "text": [
      "\n",
      "100%|██████████████████████████████████████████| 10/10 [00:00<00:00, 487.74it/s]\n",
      " 96%|█████████████████████████████████████████▎ | 48/50 [00:02<00:00, 18.07it/s]"
     ]
    },
    {
     "name": "stdout",
     "output_type": "stream",
     "text": [
      "Gradient of gamma: 9.963433740267646e-07\n",
      "Epoch 47 - Loss: 0.6931484937667847\n",
      "Parameter name: gamma\n",
      "Parameter shape: torch.Size([])\n",
      "Parameter value: Parameter containing:\n",
      "tensor(-0.2828, device='cuda:0', requires_grad=True)\n",
      "\n"
     ]
    },
    {
     "name": "stderr",
     "output_type": "stream",
     "text": [
      "\n",
      "100%|██████████████████████████████████████████| 10/10 [00:00<00:00, 456.20it/s]\n"
     ]
    },
    {
     "name": "stdout",
     "output_type": "stream",
     "text": [
      "Gradient of gamma: 9.894005188471056e-07\n",
      "Epoch 48 - Loss: 0.6931484937667847\n",
      "Parameter name: gamma\n",
      "Parameter shape: torch.Size([])\n",
      "Parameter value: Parameter containing:\n",
      "tensor(-0.2889, device='cuda:0', requires_grad=True)\n",
      "\n"
     ]
    },
    {
     "name": "stderr",
     "output_type": "stream",
     "text": [
      "\n",
      "100%|██████████████████████████████████████████| 10/10 [00:00<00:00, 473.99it/s]\n",
      "100%|███████████████████████████████████████████| 50/50 [00:02<00:00, 17.66it/s]\n"
     ]
    },
    {
     "name": "stdout",
     "output_type": "stream",
     "text": [
      "Gradient of gamma: 9.859543297352502e-07\n",
      "Epoch 49 - Loss: 0.6931484937667847\n",
      "Parameter name: gamma\n",
      "Parameter shape: torch.Size([])\n",
      "Parameter value: Parameter containing:\n",
      "tensor(-0.2949, device='cuda:0', requires_grad=True)\n",
      "\n"
     ]
    },
    {
     "name": "stderr",
     "output_type": "stream",
     "text": [
      "  0%|                                                    | 0/50 [00:00<?, ?it/s]\n",
      "100%|██████████████████████████████████████████| 10/10 [00:00<00:00, 396.32it/s]\n"
     ]
    },
    {
     "name": "stdout",
     "output_type": "stream",
     "text": [
      "Gradient of gamma: 1.4296500012278557e-05\n",
      "Epoch 0 - Loss: 0.6931469440460205\n",
      "Parameter name: gamma\n",
      "Parameter shape: torch.Size([])\n",
      "Parameter value: Parameter containing:\n",
      "tensor(1.0999, device='cuda:0', requires_grad=True)\n",
      "\n"
     ]
    },
    {
     "name": "stderr",
     "output_type": "stream",
     "text": [
      "\n",
      "100%|██████████████████████████████████████████| 10/10 [00:00<00:00, 464.60it/s]\n",
      "  4%|█▊                                          | 2/50 [00:00<00:02, 16.55it/s]"
     ]
    },
    {
     "name": "stdout",
     "output_type": "stream",
     "text": [
      "Gradient of gamma: 2.5682849809527397e-05\n",
      "Epoch 1 - Loss: 0.6931449770927429\n",
      "Parameter name: gamma\n",
      "Parameter shape: torch.Size([])\n",
      "Parameter value: Parameter containing:\n",
      "tensor(1.1975, device='cuda:0', requires_grad=True)\n",
      "\n"
     ]
    },
    {
     "name": "stderr",
     "output_type": "stream",
     "text": [
      "\n",
      "100%|██████████████████████████████████████████| 10/10 [00:00<00:00, 392.01it/s]\n"
     ]
    },
    {
     "name": "stdout",
     "output_type": "stream",
     "text": [
      "Gradient of gamma: 4.495750181376934e-05\n",
      "Epoch 2 - Loss: 0.6931415796279907\n",
      "Parameter name: gamma\n",
      "Parameter shape: torch.Size([])\n",
      "Parameter value: Parameter containing:\n",
      "tensor(1.2922, device='cuda:0', requires_grad=True)\n",
      "\n"
     ]
    },
    {
     "name": "stderr",
     "output_type": "stream",
     "text": [
      "\n",
      "100%|██████████████████████████████████████████| 10/10 [00:00<00:00, 347.72it/s]\n"
     ]
    },
    {
     "name": "stdout",
     "output_type": "stream",
     "text": [
      "Gradient of gamma: 7.57069792598486e-05\n",
      "Epoch 3 - Loss: 0.6931360363960266\n",
      "Parameter name: gamma\n",
      "Parameter shape: torch.Size([])\n"
     ]
    },
    {
     "name": "stderr",
     "output_type": "stream",
     "text": [
      "  8%|███▌                                        | 4/50 [00:00<00:03, 14.94it/s]"
     ]
    },
    {
     "name": "stdout",
     "output_type": "stream",
     "text": [
      "Parameter value: Parameter containing:\n",
      "tensor(1.3845, device='cuda:0', requires_grad=True)\n",
      "\n"
     ]
    },
    {
     "name": "stderr",
     "output_type": "stream",
     "text": [
      "\n",
      "100%|██████████████████████████████████████████| 10/10 [00:00<00:00, 391.67it/s]\n"
     ]
    },
    {
     "name": "stdout",
     "output_type": "stream",
     "text": [
      "Gradient of gamma: 0.0001235147938132286\n",
      "Epoch 4 - Loss: 0.6931269764900208\n",
      "Parameter name: gamma\n",
      "Parameter shape: torch.Size([])\n",
      "Parameter value: Parameter containing:\n",
      "tensor(1.4749, device='cuda:0', requires_grad=True)\n",
      "\n"
     ]
    },
    {
     "name": "stderr",
     "output_type": "stream",
     "text": [
      "\n",
      "100%|██████████████████████████████████████████| 10/10 [00:00<00:00, 338.02it/s]\n",
      " 12%|█████▎                                      | 6/50 [00:00<00:03, 14.20it/s]"
     ]
    },
    {
     "name": "stdout",
     "output_type": "stream",
     "text": [
      "Gradient of gamma: 0.00019324966706335545\n",
      "Epoch 5 - Loss: 0.6931129693984985\n",
      "Parameter name: gamma\n",
      "Parameter shape: torch.Size([])\n",
      "Parameter value: Parameter containing:\n",
      "tensor(1.5644, device='cuda:0', requires_grad=True)\n",
      "\n"
     ]
    },
    {
     "name": "stderr",
     "output_type": "stream",
     "text": [
      "\n",
      "100%|██████████████████████████████████████████| 10/10 [00:00<00:00, 381.28it/s]\n"
     ]
    },
    {
     "name": "stdout",
     "output_type": "stream",
     "text": [
      "Gradient of gamma: 0.00029722671024501324\n",
      "Epoch 6 - Loss: 0.6930912733078003\n",
      "Parameter name: gamma\n",
      "Parameter shape: torch.Size([])\n",
      "Parameter value: Parameter containing:\n",
      "tensor(1.6533, device='cuda:0', requires_grad=True)\n",
      "\n"
     ]
    },
    {
     "name": "stderr",
     "output_type": "stream",
     "text": [
      "\n",
      "100%|██████████████████████████████████████████| 10/10 [00:00<00:00, 367.62it/s]\n",
      " 16%|███████                                     | 8/50 [00:00<00:03, 14.00it/s]"
     ]
    },
    {
     "name": "stdout",
     "output_type": "stream",
     "text": [
      "Gradient of gamma: 0.0004465875681489706\n",
      "Epoch 7 - Loss: 0.6930584907531738\n",
      "Parameter name: gamma\n",
      "Parameter shape: torch.Size([])\n",
      "Parameter value: Parameter containing:\n",
      "tensor(1.7420, device='cuda:0', requires_grad=True)\n",
      "\n"
     ]
    },
    {
     "name": "stderr",
     "output_type": "stream",
     "text": [
      "\n",
      "100%|██████████████████████████████████████████| 10/10 [00:00<00:00, 376.89it/s]\n"
     ]
    },
    {
     "name": "stdout",
     "output_type": "stream",
     "text": [
      "Gradient of gamma: 0.0006593863945454359\n",
      "Epoch 8 - Loss: 0.6930099725723267\n",
      "Parameter name: gamma\n",
      "Parameter shape: torch.Size([])\n",
      "Parameter value: Parameter containing:\n",
      "tensor(1.8310, device='cuda:0', requires_grad=True)\n",
      "\n"
     ]
    },
    {
     "name": "stderr",
     "output_type": "stream",
     "text": [
      "\n",
      "100%|██████████████████████████████████████████| 10/10 [00:00<00:00, 423.79it/s]\n",
      " 20%|████████▌                                  | 10/50 [00:00<00:02, 14.40it/s]"
     ]
    },
    {
     "name": "stdout",
     "output_type": "stream",
     "text": [
      "Gradient of gamma: 0.0009604285005480051\n",
      "Epoch 9 - Loss: 0.6929379105567932\n",
      "Parameter name: gamma\n",
      "Parameter shape: torch.Size([])\n",
      "Parameter value: Parameter containing:\n",
      "tensor(1.9204, device='cuda:0', requires_grad=True)\n",
      "\n"
     ]
    },
    {
     "name": "stderr",
     "output_type": "stream",
     "text": [
      "\n",
      "100%|██████████████████████████████████████████| 10/10 [00:00<00:00, 450.30it/s]\n"
     ]
    },
    {
     "name": "stdout",
     "output_type": "stream",
     "text": [
      "Gradient of gamma: 0.0013709035702049732\n",
      "Epoch 10 - Loss: 0.6928349733352661\n",
      "Parameter name: gamma\n",
      "Parameter shape: torch.Size([])\n",
      "Parameter value: Parameter containing:\n",
      "tensor(2.0106, device='cuda:0', requires_grad=True)\n",
      "\n"
     ]
    },
    {
     "name": "stderr",
     "output_type": "stream",
     "text": [
      "\n",
      "100%|██████████████████████████████████████████| 10/10 [00:00<00:00, 403.38it/s]\n",
      " 24%|██████████▎                                | 12/50 [00:00<00:02, 14.93it/s]"
     ]
    },
    {
     "name": "stdout",
     "output_type": "stream",
     "text": [
      "Gradient of gamma: 0.0019295478705316782\n",
      "Epoch 11 - Loss: 0.6926884651184082\n",
      "Parameter name: gamma\n",
      "Parameter shape: torch.Size([])\n",
      "Parameter value: Parameter containing:\n",
      "tensor(2.1017, device='cuda:0', requires_grad=True)\n",
      "\n"
     ]
    },
    {
     "name": "stderr",
     "output_type": "stream",
     "text": [
      "\n",
      "100%|██████████████████████████████████████████| 10/10 [00:00<00:00, 375.77it/s]\n"
     ]
    },
    {
     "name": "stdout",
     "output_type": "stream",
     "text": [
      "Gradient of gamma: 0.0026899040676653385\n",
      "Epoch 12 - Loss: 0.692480206489563\n",
      "Parameter name: gamma\n",
      "Parameter shape: torch.Size([])\n",
      "Parameter value: Parameter containing:\n",
      "tensor(2.1940, device='cuda:0', requires_grad=True)\n",
      "\n"
     ]
    },
    {
     "name": "stderr",
     "output_type": "stream",
     "text": [
      "\n",
      "100%|██████████████████████████████████████████| 10/10 [00:00<00:00, 403.51it/s]\n",
      " 28%|████████████                               | 14/50 [00:00<00:02, 14.69it/s]"
     ]
    },
    {
     "name": "stdout",
     "output_type": "stream",
     "text": [
      "Gradient of gamma: 0.0037222160026431084\n",
      "Epoch 13 - Loss: 0.6921831369400024\n",
      "Parameter name: gamma\n",
      "Parameter shape: torch.Size([])\n",
      "Parameter value: Parameter containing:\n",
      "tensor(2.2874, device='cuda:0', requires_grad=True)\n",
      "\n"
     ]
    },
    {
     "name": "stderr",
     "output_type": "stream",
     "text": [
      "\n",
      "100%|██████████████████████████████████████████| 10/10 [00:00<00:00, 420.91it/s]\n"
     ]
    },
    {
     "name": "stdout",
     "output_type": "stream",
     "text": [
      "Gradient of gamma: 0.005078091286122799\n",
      "Epoch 14 - Loss: 0.6917732954025269\n",
      "Parameter name: gamma\n",
      "Parameter shape: torch.Size([])\n",
      "Parameter value: Parameter containing:\n",
      "tensor(2.3821, device='cuda:0', requires_grad=True)\n",
      "\n"
     ]
    },
    {
     "name": "stderr",
     "output_type": "stream",
     "text": [
      "\n",
      "100%|██████████████████████████████████████████| 10/10 [00:00<00:00, 418.78it/s]\n",
      " 32%|█████████████▊                             | 16/50 [00:01<00:02, 15.07it/s]"
     ]
    },
    {
     "name": "stdout",
     "output_type": "stream",
     "text": [
      "Gradient of gamma: 0.006818189285695553\n",
      "Epoch 15 - Loss: 0.6912179589271545\n",
      "Parameter name: gamma\n",
      "Parameter shape: torch.Size([])\n",
      "Parameter value: Parameter containing:\n",
      "tensor(2.4783, device='cuda:0', requires_grad=True)\n",
      "\n"
     ]
    },
    {
     "name": "stderr",
     "output_type": "stream",
     "text": [
      "\n",
      "100%|██████████████████████████████████████████| 10/10 [00:00<00:00, 458.06it/s]\n"
     ]
    },
    {
     "name": "stdout",
     "output_type": "stream",
     "text": [
      "Gradient of gamma: 0.009047248400747776\n",
      "Epoch 16 - Loss: 0.690462052822113\n",
      "Parameter name: gamma\n",
      "Parameter shape: torch.Size([])\n",
      "Parameter value: Parameter containing:\n",
      "tensor(2.5761, device='cuda:0', requires_grad=True)\n",
      "\n"
     ]
    },
    {
     "name": "stderr",
     "output_type": "stream",
     "text": [
      "\n",
      "100%|██████████████████████████████████████████| 10/10 [00:00<00:00, 455.14it/s]\n",
      " 36%|███████████████▍                           | 18/50 [00:01<00:02, 15.65it/s]"
     ]
    },
    {
     "name": "stdout",
     "output_type": "stream",
     "text": [
      "Gradient of gamma: 0.011803233996033669\n",
      "Epoch 17 - Loss: 0.6894581913948059\n",
      "Parameter name: gamma\n",
      "Parameter shape: torch.Size([])\n",
      "Parameter value: Parameter containing:\n",
      "tensor(2.6756, device='cuda:0', requires_grad=True)\n",
      "\n"
     ]
    },
    {
     "name": "stderr",
     "output_type": "stream",
     "text": [
      "\n",
      "100%|██████████████████████████████████████████| 10/10 [00:00<00:00, 344.83it/s]\n"
     ]
    },
    {
     "name": "stdout",
     "output_type": "stream",
     "text": [
      "Gradient of gamma: 0.015228334814310074\n",
      "Epoch 18 - Loss: 0.6880927681922913\n",
      "Parameter name: gamma\n",
      "Parameter shape: torch.Size([])\n",
      "Parameter value: Parameter containing:\n",
      "tensor(2.7771, device='cuda:0', requires_grad=True)\n",
      "\n"
     ]
    },
    {
     "name": "stderr",
     "output_type": "stream",
     "text": [
      "\n",
      "100%|██████████████████████████████████████████| 10/10 [00:00<00:00, 386.98it/s]\n"
     ]
    },
    {
     "name": "stdout",
     "output_type": "stream",
     "text": [
      "Gradient of gamma: 0.019049022346735\n",
      "Epoch 19 - Loss: 0.6863658428192139\n",
      "Parameter name: gamma\n",
      "Parameter shape: torch.Size([])\n",
      "Parameter value: Parameter containing:\n",
      "tensor(2.8807, device='cuda:0', requires_grad=True)\n",
      "\n"
     ]
    },
    {
     "name": "stderr",
     "output_type": "stream",
     "text": [
      " 40%|█████████████████▏                         | 20/50 [00:01<00:01, 15.22it/s]\n",
      "100%|██████████████████████████████████████████| 10/10 [00:00<00:00, 395.12it/s]\n"
     ]
    },
    {
     "name": "stdout",
     "output_type": "stream",
     "text": [
      "Gradient of gamma: 0.02299504727125168\n",
      "Epoch 20 - Loss: 0.6842125058174133\n",
      "Parameter name: gamma\n",
      "Parameter shape: torch.Size([])\n",
      "Parameter value: Parameter containing:\n",
      "tensor(2.9867, device='cuda:0', requires_grad=True)\n",
      "\n"
     ]
    },
    {
     "name": "stderr",
     "output_type": "stream",
     "text": [
      "\n",
      "100%|██████████████████████████████████████████| 10/10 [00:00<00:00, 346.50it/s]\n",
      " 44%|██████████████████▉                        | 22/50 [00:01<00:01, 14.72it/s]"
     ]
    },
    {
     "name": "stdout",
     "output_type": "stream",
     "text": [
      "Gradient of gamma: 0.026430655270814896\n",
      "Epoch 21 - Loss: 0.6815372705459595\n",
      "Parameter name: gamma\n",
      "Parameter shape: torch.Size([])\n",
      "Parameter value: Parameter containing:\n",
      "tensor(3.0955, device='cuda:0', requires_grad=True)\n",
      "\n"
     ]
    },
    {
     "name": "stderr",
     "output_type": "stream",
     "text": [
      "\n",
      "100%|██████████████████████████████████████████| 10/10 [00:00<00:00, 297.76it/s]\n"
     ]
    },
    {
     "name": "stdout",
     "output_type": "stream",
     "text": [
      "Gradient of gamma: 0.027676668018102646\n",
      "Epoch 22 - Loss: 0.6785829663276672\n",
      "Parameter name: gamma\n",
      "Parameter shape: torch.Size([])\n",
      "Parameter value: Parameter containing:\n",
      "tensor(3.2073, device='cuda:0', requires_grad=True)\n",
      "\n"
     ]
    },
    {
     "name": "stderr",
     "output_type": "stream",
     "text": [
      "\n",
      "100%|██████████████████████████████████████████| 10/10 [00:00<00:00, 382.64it/s]\n",
      " 48%|████████████████████▋                      | 24/50 [00:01<00:01, 14.47it/s]"
     ]
    },
    {
     "name": "stdout",
     "output_type": "stream",
     "text": [
      "Gradient of gamma: 0.024144597351551056\n",
      "Epoch 23 - Loss: 0.6756186485290527\n",
      "Parameter name: gamma\n",
      "Parameter shape: torch.Size([])\n",
      "Parameter value: Parameter containing:\n",
      "tensor(3.3219, device='cuda:0', requires_grad=True)\n",
      "\n"
     ]
    },
    {
     "name": "stderr",
     "output_type": "stream",
     "text": [
      "\n",
      "100%|██████████████████████████████████████████| 10/10 [00:00<00:00, 372.88it/s]\n"
     ]
    },
    {
     "name": "stdout",
     "output_type": "stream",
     "text": [
      "Gradient of gamma: 0.012320605106651783\n",
      "Epoch 24 - Loss: 0.6734597086906433\n",
      "Parameter name: gamma\n",
      "Parameter shape: torch.Size([])\n",
      "Parameter value: Parameter containing:\n",
      "tensor(3.4351, device='cuda:0', requires_grad=True)\n",
      "\n"
     ]
    },
    {
     "name": "stderr",
     "output_type": "stream",
     "text": [
      "\n",
      "100%|██████████████████████████████████████████| 10/10 [00:00<00:00, 378.57it/s]\n",
      " 52%|██████████████████████▎                    | 26/50 [00:01<00:01, 14.50it/s]"
     ]
    },
    {
     "name": "stdout",
     "output_type": "stream",
     "text": [
      "Gradient of gamma: 0.010428941808640957\n",
      "Epoch 25 - Loss: 0.6732462644577026\n",
      "Parameter name: gamma\n",
      "Parameter shape: torch.Size([])\n",
      "Parameter value: Parameter containing:\n",
      "tensor(3.5274, device='cuda:0', requires_grad=True)\n",
      "\n"
     ]
    },
    {
     "name": "stderr",
     "output_type": "stream",
     "text": [
      "\n",
      "100%|██████████████████████████████████████████| 10/10 [00:00<00:00, 264.50it/s]\n"
     ]
    },
    {
     "name": "stdout",
     "output_type": "stream",
     "text": [
      "Gradient of gamma: 0.035451628267765045\n",
      "Epoch 26 - Loss: 0.6753299236297607\n",
      "Parameter name: gamma\n",
      "Parameter shape: torch.Size([])\n",
      "Parameter value: Parameter containing:\n",
      "tensor(3.5726, device='cuda:0', requires_grad=True)\n",
      "\n"
     ]
    },
    {
     "name": "stderr",
     "output_type": "stream",
     "text": [
      "\n",
      "100%|██████████████████████████████████████████| 10/10 [00:00<00:00, 259.94it/s]\n",
      " 56%|████████████████████████                   | 28/50 [00:01<00:01, 13.68it/s]"
     ]
    },
    {
     "name": "stdout",
     "output_type": "stream",
     "text": [
      "Gradient of gamma: 0.048563651740550995\n",
      "Epoch 27 - Loss: 0.6772488951683044\n",
      "Parameter name: gamma\n",
      "Parameter shape: torch.Size([])\n",
      "Parameter value: Parameter containing:\n",
      "tensor(3.5752, device='cuda:0', requires_grad=True)\n",
      "\n"
     ]
    },
    {
     "name": "stderr",
     "output_type": "stream",
     "text": [
      "\n",
      "100%|██████████████████████████████████████████| 10/10 [00:00<00:00, 365.13it/s]\n"
     ]
    },
    {
     "name": "stdout",
     "output_type": "stream",
     "text": [
      "Gradient of gamma: 0.049153607338666916\n",
      "Epoch 28 - Loss: 0.6773515939712524\n",
      "Parameter name: gamma\n",
      "Parameter shape: torch.Size([])\n",
      "Parameter value: Parameter containing:\n",
      "tensor(3.5492, device='cuda:0', requires_grad=True)\n",
      "\n"
     ]
    },
    {
     "name": "stderr",
     "output_type": "stream",
     "text": [
      "\n",
      "100%|██████████████████████████████████████████| 10/10 [00:00<00:00, 413.67it/s]\n",
      " 60%|█████████████████████████▊                 | 30/50 [00:02<00:01, 14.00it/s]"
     ]
    },
    {
     "name": "stdout",
     "output_type": "stream",
     "text": [
      "Gradient of gamma: 0.04177086427807808\n",
      "Epoch 29 - Loss: 0.6761764287948608\n",
      "Parameter name: gamma\n",
      "Parameter shape: torch.Size([])\n",
      "Parameter value: Parameter containing:\n",
      "tensor(3.5053, device='cuda:0', requires_grad=True)\n",
      "\n"
     ]
    },
    {
     "name": "stderr",
     "output_type": "stream",
     "text": [
      "\n",
      "100%|██████████████████████████████████████████| 10/10 [00:00<00:00, 441.95it/s]\n"
     ]
    },
    {
     "name": "stdout",
     "output_type": "stream",
     "text": [
      "Gradient of gamma: 0.029045507311820984\n",
      "Epoch 30 - Loss: 0.6746083498001099\n",
      "Parameter name: gamma\n",
      "Parameter shape: torch.Size([])\n",
      "Parameter value: Parameter containing:\n",
      "tensor(3.4517, device='cuda:0', requires_grad=True)\n",
      "\n"
     ]
    },
    {
     "name": "stderr",
     "output_type": "stream",
     "text": [
      "\n",
      "100%|██████████████████████████████████████████| 10/10 [00:00<00:00, 401.53it/s]\n",
      " 64%|███████████████████████████▌               | 32/50 [00:02<00:01, 14.50it/s]"
     ]
    },
    {
     "name": "stdout",
     "output_type": "stream",
     "text": [
      "Gradient of gamma: 0.01434567291289568\n",
      "Epoch 31 - Loss: 0.6734392642974854\n",
      "Parameter name: gamma\n",
      "Parameter shape: torch.Size([])\n",
      "Parameter value: Parameter containing:\n",
      "tensor(3.3958, device='cuda:0', requires_grad=True)\n",
      "\n"
     ]
    },
    {
     "name": "stderr",
     "output_type": "stream",
     "text": [
      "\n",
      "100%|██████████████████████████████████████████| 10/10 [00:00<00:00, 367.99it/s]\n"
     ]
    },
    {
     "name": "stdout",
     "output_type": "stream",
     "text": [
      "Gradient of gamma: 0.0015459166606888175\n",
      "Epoch 32 - Loss: 0.6730195879936218\n",
      "Parameter name: gamma\n",
      "Parameter shape: torch.Size([])\n",
      "Parameter value: Parameter containing:\n",
      "tensor(3.3441, device='cuda:0', requires_grad=True)\n",
      "\n"
     ]
    },
    {
     "name": "stderr",
     "output_type": "stream",
     "text": [
      "\n",
      "100%|██████████████████████████████████████████| 10/10 [00:00<00:00, 401.51it/s]\n"
     ]
    },
    {
     "name": "stdout",
     "output_type": "stream",
     "text": [
      "Gradient of gamma: 0.008509280160069466\n",
      "Epoch 33 - Loss: 0.6732109785079956\n",
      "Parameter name: gamma\n",
      "Parameter shape: torch.Size([])\n"
     ]
    },
    {
     "name": "stderr",
     "output_type": "stream",
     "text": [
      " 68%|█████████████████████████████▏             | 34/50 [00:02<00:01, 14.58it/s]"
     ]
    },
    {
     "name": "stdout",
     "output_type": "stream",
     "text": [
      "Parameter value: Parameter containing:\n",
      "tensor(3.3016, device='cuda:0', requires_grad=True)\n",
      "\n"
     ]
    },
    {
     "name": "stderr",
     "output_type": "stream",
     "text": [
      "\n",
      "100%|██████████████████████████████████████████| 10/10 [00:00<00:00, 411.01it/s]\n"
     ]
    },
    {
     "name": "stdout",
     "output_type": "stream",
     "text": [
      "Gradient of gamma: 0.015161803923547268\n",
      "Epoch 34 - Loss: 0.6737366914749146\n",
      "Parameter name: gamma\n",
      "Parameter shape: torch.Size([])\n",
      "Parameter value: Parameter containing:\n",
      "tensor(3.2713, device='cuda:0', requires_grad=True)\n",
      "\n"
     ]
    },
    {
     "name": "stderr",
     "output_type": "stream",
     "text": [
      "\n",
      "100%|██████████████████████████████████████████| 10/10 [00:00<00:00, 374.80it/s]\n",
      " 72%|██████████████████████████████▉            | 36/50 [00:02<00:00, 14.50it/s]"
     ]
    },
    {
     "name": "stdout",
     "output_type": "stream",
     "text": [
      "Gradient of gamma: 0.018662869930267334\n",
      "Epoch 35 - Loss: 0.674228310585022\n",
      "Parameter name: gamma\n",
      "Parameter shape: torch.Size([])\n",
      "Parameter value: Parameter containing:\n",
      "tensor(3.2541, device='cuda:0', requires_grad=True)\n",
      "\n"
     ]
    },
    {
     "name": "stderr",
     "output_type": "stream",
     "text": [
      "\n",
      "100%|██████████████████████████████████████████| 10/10 [00:00<00:00, 377.86it/s]\n"
     ]
    },
    {
     "name": "stdout",
     "output_type": "stream",
     "text": [
      "Gradient of gamma: 0.02052227221429348\n",
      "Epoch 36 - Loss: 0.6745851635932922\n",
      "Parameter name: gamma\n",
      "Parameter shape: torch.Size([])\n",
      "Parameter value: Parameter containing:\n",
      "tensor(3.2494, device='cuda:0', requires_grad=True)\n",
      "\n"
     ]
    },
    {
     "name": "stderr",
     "output_type": "stream",
     "text": [
      "\n",
      "100%|██████████████████████████████████████████| 10/10 [00:00<00:00, 384.22it/s]\n",
      " 76%|████████████████████████████████▋          | 38/50 [00:02<00:00, 14.42it/s]"
     ]
    },
    {
     "name": "stdout",
     "output_type": "stream",
     "text": [
      "Gradient of gamma: 0.020868564024567604\n",
      "Epoch 37 - Loss: 0.6746622323989868\n",
      "Parameter name: gamma\n",
      "Parameter shape: torch.Size([])\n",
      "Parameter value: Parameter containing:\n",
      "tensor(3.2563, device='cuda:0', requires_grad=True)\n",
      "\n"
     ]
    },
    {
     "name": "stderr",
     "output_type": "stream",
     "text": [
      "\n",
      "100%|██████████████████████████████████████████| 10/10 [00:00<00:00, 386.13it/s]\n"
     ]
    },
    {
     "name": "stdout",
     "output_type": "stream",
     "text": [
      "Gradient of gamma: 0.0202129278331995\n",
      "Epoch 38 - Loss: 0.6745200157165527\n",
      "Parameter name: gamma\n",
      "Parameter shape: torch.Size([])\n",
      "Parameter value: Parameter containing:\n",
      "tensor(3.2731, device='cuda:0', requires_grad=True)\n",
      "\n"
     ]
    },
    {
     "name": "stderr",
     "output_type": "stream",
     "text": [
      "\n",
      "100%|██████████████████████████████████████████| 10/10 [00:00<00:00, 408.95it/s]\n",
      " 80%|██████████████████████████████████▍        | 40/50 [00:02<00:00, 14.58it/s]"
     ]
    },
    {
     "name": "stdout",
     "output_type": "stream",
     "text": [
      "Gradient of gamma: 0.0185090359300375\n",
      "Epoch 39 - Loss: 0.6742020845413208\n",
      "Parameter name: gamma\n",
      "Parameter shape: torch.Size([])\n",
      "Parameter value: Parameter containing:\n",
      "tensor(3.2979, device='cuda:0', requires_grad=True)\n",
      "\n"
     ]
    },
    {
     "name": "stderr",
     "output_type": "stream",
     "text": [
      "\n",
      "100%|██████████████████████████████████████████| 10/10 [00:00<00:00, 379.76it/s]"
     ]
    },
    {
     "name": "stdout",
     "output_type": "stream",
     "text": [
      "Gradient of gamma: 0.01562259066849947\n"
     ]
    },
    {
     "name": "stderr",
     "output_type": "stream",
     "text": [
      "\n"
     ]
    },
    {
     "name": "stdout",
     "output_type": "stream",
     "text": [
      "Epoch 40 - Loss: 0.6737905740737915\n",
      "Parameter name: gamma\n",
      "Parameter shape: torch.Size([])\n",
      "Parameter value: Parameter containing:\n",
      "tensor(3.3285, device='cuda:0', requires_grad=True)\n",
      "\n"
     ]
    },
    {
     "name": "stderr",
     "output_type": "stream",
     "text": [
      "\n",
      "100%|██████████████████████████████████████████| 10/10 [00:00<00:00, 378.72it/s]\n",
      " 84%|████████████████████████████████████       | 42/50 [00:02<00:00, 14.54it/s]"
     ]
    },
    {
     "name": "stdout",
     "output_type": "stream",
     "text": [
      "Gradient of gamma: 0.011415775865316391\n",
      "Epoch 41 - Loss: 0.673389196395874\n",
      "Parameter name: gamma\n",
      "Parameter shape: torch.Size([])\n",
      "Parameter value: Parameter containing:\n",
      "tensor(3.3622, device='cuda:0', requires_grad=True)\n",
      "\n"
     ]
    },
    {
     "name": "stderr",
     "output_type": "stream",
     "text": [
      "\n",
      "100%|██████████████████████████████████████████| 10/10 [00:00<00:00, 365.86it/s]\n"
     ]
    },
    {
     "name": "stdout",
     "output_type": "stream",
     "text": [
      "Gradient of gamma: 0.005241550505161285\n",
      "Epoch 42 - Loss: 0.6730847954750061\n",
      "Parameter name: gamma\n",
      "Parameter shape: torch.Size([])\n",
      "Parameter value: Parameter containing:\n",
      "tensor(3.3957, device='cuda:0', requires_grad=True)\n",
      "\n"
     ]
    },
    {
     "name": "stderr",
     "output_type": "stream",
     "text": [
      "\n",
      "100%|██████████████████████████████████████████| 10/10 [00:00<00:00, 371.86it/s]\n",
      " 88%|█████████████████████████████████████▊     | 44/50 [00:03<00:00, 14.15it/s]"
     ]
    },
    {
     "name": "stdout",
     "output_type": "stream",
     "text": [
      "Gradient of gamma: 0.0015263394452631474\n",
      "Epoch 43 - Loss: 0.673019528388977\n",
      "Parameter name: gamma\n",
      "Parameter shape: torch.Size([])\n",
      "Parameter value: Parameter containing:\n",
      "tensor(3.4254, device='cuda:0', requires_grad=True)\n",
      "\n"
     ]
    },
    {
     "name": "stderr",
     "output_type": "stream",
     "text": [
      "\n",
      "100%|██████████████████████████████████████████| 10/10 [00:00<00:00, 348.77it/s]\n"
     ]
    },
    {
     "name": "stdout",
     "output_type": "stream",
     "text": [
      "Gradient of gamma: 0.007988718338310719\n",
      "Epoch 44 - Loss: 0.6731534004211426\n",
      "Parameter name: gamma\n",
      "Parameter shape: torch.Size([])\n",
      "Parameter value: Parameter containing:\n",
      "tensor(3.4479, device='cuda:0', requires_grad=True)\n",
      "\n"
     ]
    },
    {
     "name": "stderr",
     "output_type": "stream",
     "text": [
      "\n",
      "100%|██████████████████████████████████████████| 10/10 [00:00<00:00, 408.20it/s]\n",
      " 92%|███████████████████████████████████████▌   | 46/50 [00:03<00:00, 14.03it/s]"
     ]
    },
    {
     "name": "stdout",
     "output_type": "stream",
     "text": [
      "Gradient of gamma: 0.013478991575539112\n",
      "Epoch 45 - Loss: 0.6733919978141785\n",
      "Parameter name: gamma\n",
      "Parameter shape: torch.Size([])\n",
      "Parameter value: Parameter containing:\n",
      "tensor(3.4609, device='cuda:0', requires_grad=True)\n",
      "\n"
     ]
    },
    {
     "name": "stderr",
     "output_type": "stream",
     "text": [
      "\n",
      "100%|██████████████████████████████████████████| 10/10 [00:00<00:00, 395.57it/s]\n"
     ]
    },
    {
     "name": "stdout",
     "output_type": "stream",
     "text": [
      "Gradient of gamma: 0.017085906118154526\n",
      "Epoch 46 - Loss: 0.67360520362854\n",
      "Parameter name: gamma\n",
      "Parameter shape: torch.Size([])\n",
      "Parameter value: Parameter containing:\n",
      "tensor(3.4633, device='cuda:0', requires_grad=True)\n",
      "\n"
     ]
    },
    {
     "name": "stderr",
     "output_type": "stream",
     "text": [
      "\n",
      "100%|██████████████████████████████████████████| 10/10 [00:00<00:00, 436.36it/s]"
     ]
    },
    {
     "name": "stdout",
     "output_type": "stream",
     "text": [
      "Gradient of gamma: 0.017570361495018005\n",
      "Epoch 47 - Loss: 0.6736370325088501\n",
      "Parameter name: gamma\n",
      "Parameter shape: torch.Size([])\n"
     ]
    },
    {
     "name": "stderr",
     "output_type": "stream",
     "text": [
      "\n",
      " 96%|█████████████████████████████████████████▎ | 48/50 [00:03<00:00, 14.44it/s]"
     ]
    },
    {
     "name": "stdout",
     "output_type": "stream",
     "text": [
      "Parameter value: Parameter containing:\n",
      "tensor(3.4557, device='cuda:0', requires_grad=True)\n",
      "\n"
     ]
    },
    {
     "name": "stderr",
     "output_type": "stream",
     "text": [
      "\n",
      "100%|██████████████████████████████████████████| 10/10 [00:00<00:00, 445.06it/s]\n"
     ]
    },
    {
     "name": "stdout",
     "output_type": "stream",
     "text": [
      "Gradient of gamma: 0.015822891145944595\n",
      "Epoch 48 - Loss: 0.6735255718231201\n",
      "Parameter name: gamma\n",
      "Parameter shape: torch.Size([])\n",
      "Parameter value: Parameter containing:\n",
      "tensor(3.4403, device='cuda:0', requires_grad=True)\n",
      "\n"
     ]
    },
    {
     "name": "stderr",
     "output_type": "stream",
     "text": [
      "\n",
      "100%|██████████████████████████████████████████| 10/10 [00:00<00:00, 424.74it/s]\n",
      "100%|███████████████████████████████████████████| 50/50 [00:03<00:00, 14.62it/s]\n"
     ]
    },
    {
     "name": "stdout",
     "output_type": "stream",
     "text": [
      "Gradient of gamma: 0.011746546253561974\n",
      "Epoch 49 - Loss: 0.6733052730560303\n",
      "Parameter name: gamma\n",
      "Parameter shape: torch.Size([])\n",
      "Parameter value: Parameter containing:\n",
      "tensor(3.4198, device='cuda:0', requires_grad=True)\n",
      "\n"
     ]
    },
    {
     "name": "stderr",
     "output_type": "stream",
     "text": [
      "  0%|                                                    | 0/50 [00:00<?, ?it/s]\n",
      "100%|██████████████████████████████████████████| 10/10 [00:00<00:00, 416.82it/s]\n"
     ]
    },
    {
     "name": "stdout",
     "output_type": "stream",
     "text": [
      "Gradient of gamma: 6.094900891184807e-05\n",
      "Epoch 0 - Loss: 0.693159818649292\n",
      "Parameter name: gamma\n",
      "Parameter shape: torch.Size([])\n",
      "Parameter value: Parameter containing:\n",
      "tensor(0.9000, device='cuda:0', requires_grad=True)\n",
      "\n"
     ]
    },
    {
     "name": "stderr",
     "output_type": "stream",
     "text": [
      "\n",
      "100%|██████████████████████████████████████████| 10/10 [00:00<00:00, 417.03it/s]\n",
      "  4%|█▊                                          | 2/50 [00:00<00:02, 16.10it/s]"
     ]
    },
    {
     "name": "stdout",
     "output_type": "stream",
     "text": [
      "Gradient of gamma: 3.44766303896904e-05\n",
      "Epoch 1 - Loss: 0.6931551694869995\n",
      "Parameter name: gamma\n",
      "Parameter shape: torch.Size([])\n",
      "Parameter value: Parameter containing:\n",
      "tensor(0.8051, device='cuda:0', requires_grad=True)\n",
      "\n"
     ]
    },
    {
     "name": "stderr",
     "output_type": "stream",
     "text": [
      "\n",
      "100%|██████████████████████████████████████████| 10/10 [00:00<00:00, 438.51it/s]\n"
     ]
    },
    {
     "name": "stdout",
     "output_type": "stream",
     "text": [
      "Gradient of gamma: 2.0264997147023678e-05\n",
      "Epoch 2 - Loss: 0.6931526064872742\n",
      "Parameter name: gamma\n",
      "Parameter shape: torch.Size([])\n",
      "Parameter value: Parameter containing:\n",
      "tensor(0.7168, device='cuda:0', requires_grad=True)\n",
      "\n"
     ]
    },
    {
     "name": "stderr",
     "output_type": "stream",
     "text": [
      "\n",
      "100%|██████████████████████████████████████████| 10/10 [00:00<00:00, 445.43it/s]\n",
      "  8%|███▌                                        | 4/50 [00:00<00:02, 16.36it/s]"
     ]
    },
    {
     "name": "stdout",
     "output_type": "stream",
     "text": [
      "Gradient of gamma: 1.2559408787637949e-05\n",
      "Epoch 3 - Loss: 0.6931512355804443\n",
      "Parameter name: gamma\n",
      "Parameter shape: torch.Size([])\n",
      "Parameter value: Parameter containing:\n",
      "tensor(0.6357, device='cuda:0', requires_grad=True)\n",
      "\n"
     ]
    },
    {
     "name": "stderr",
     "output_type": "stream",
     "text": [
      "\n",
      "100%|██████████████████████████████████████████| 10/10 [00:00<00:00, 440.48it/s]\n"
     ]
    },
    {
     "name": "stdout",
     "output_type": "stream",
     "text": [
      "Gradient of gamma: 8.355447789654136e-06\n",
      "Epoch 4 - Loss: 0.6931504011154175\n",
      "Parameter name: gamma\n",
      "Parameter shape: torch.Size([])\n",
      "Parameter value: Parameter containing:\n",
      "tensor(0.5614, device='cuda:0', requires_grad=True)\n",
      "\n"
     ]
    },
    {
     "name": "stderr",
     "output_type": "stream",
     "text": [
      "\n",
      "100%|██████████████████████████████████████████| 10/10 [00:00<00:00, 434.31it/s]\n",
      " 12%|█████▎                                      | 6/50 [00:00<00:02, 16.61it/s]"
     ]
    },
    {
     "name": "stdout",
     "output_type": "stream",
     "text": [
      "Gradient of gamma: 5.927839083597064e-06\n",
      "Epoch 5 - Loss: 0.6931498646736145\n",
      "Parameter name: gamma\n",
      "Parameter shape: torch.Size([])\n",
      "Parameter value: Parameter containing:\n",
      "tensor(0.4935, device='cuda:0', requires_grad=True)\n",
      "\n"
     ]
    },
    {
     "name": "stderr",
     "output_type": "stream",
     "text": [
      "\n",
      "100%|██████████████████████████████████████████| 10/10 [00:00<00:00, 381.28it/s]\n"
     ]
    },
    {
     "name": "stdout",
     "output_type": "stream",
     "text": [
      "Gradient of gamma: 4.54966357210651e-06\n",
      "Epoch 6 - Loss: 0.6931494474411011\n",
      "Parameter name: gamma\n",
      "Parameter shape: torch.Size([])\n",
      "Parameter value: Parameter containing:\n",
      "tensor(0.4312, device='cuda:0', requires_grad=True)\n",
      "\n"
     ]
    },
    {
     "name": "stderr",
     "output_type": "stream",
     "text": [
      "\n",
      "100%|██████████████████████████████████████████| 10/10 [00:00<00:00, 380.35it/s]\n"
     ]
    },
    {
     "name": "stdout",
     "output_type": "stream",
     "text": [
      "Gradient of gamma: 3.666272277769167e-06\n",
      "Epoch 7 - Loss: 0.693149209022522\n",
      "Parameter name: gamma\n",
      "Parameter shape: torch.Size([])\n"
     ]
    },
    {
     "name": "stderr",
     "output_type": "stream",
     "text": [
      " 16%|███████                                     | 8/50 [00:00<00:02, 15.49it/s]"
     ]
    },
    {
     "name": "stdout",
     "output_type": "stream",
     "text": [
      "Parameter value: Parameter containing:\n",
      "tensor(0.3739, device='cuda:0', requires_grad=True)\n",
      "\n"
     ]
    },
    {
     "name": "stderr",
     "output_type": "stream",
     "text": [
      "\n",
      "100%|██████████████████████████████████████████| 10/10 [00:00<00:00, 368.20it/s]\n"
     ]
    },
    {
     "name": "stdout",
     "output_type": "stream",
     "text": [
      "Gradient of gamma: 3.046074425583356e-06\n",
      "Epoch 8 - Loss: 0.6931490898132324\n",
      "Parameter name: gamma\n",
      "Parameter shape: torch.Size([])\n",
      "Parameter value: Parameter containing:\n",
      "tensor(0.3210, device='cuda:0', requires_grad=True)\n",
      "\n"
     ]
    },
    {
     "name": "stderr",
     "output_type": "stream",
     "text": [
      "\n",
      "100%|██████████████████████████████████████████| 10/10 [00:00<00:00, 345.57it/s]\n",
      " 20%|████████▌                                  | 10/50 [00:00<00:02, 14.59it/s]"
     ]
    },
    {
     "name": "stdout",
     "output_type": "stream",
     "text": [
      "Gradient of gamma: 2.5238014131900854e-06\n",
      "Epoch 9 - Loss: 0.6931489706039429\n",
      "Parameter name: gamma\n",
      "Parameter shape: torch.Size([])\n",
      "Parameter value: Parameter containing:\n",
      "tensor(0.2723, device='cuda:0', requires_grad=True)\n",
      "\n"
     ]
    },
    {
     "name": "stderr",
     "output_type": "stream",
     "text": [
      "\n",
      "100%|██████████████████████████████████████████| 10/10 [00:00<00:00, 357.77it/s]\n"
     ]
    },
    {
     "name": "stdout",
     "output_type": "stream",
     "text": [
      "Gradient of gamma: 2.2126691874291282e-06\n",
      "Epoch 10 - Loss: 0.6931487917900085\n",
      "Parameter name: gamma\n",
      "Parameter shape: torch.Size([])\n",
      "Parameter value: Parameter containing:\n",
      "tensor(0.2272, device='cuda:0', requires_grad=True)\n",
      "\n"
     ]
    },
    {
     "name": "stderr",
     "output_type": "stream",
     "text": [
      "\n",
      "100%|██████████████████████████████████████████| 10/10 [00:00<00:00, 374.74it/s]\n",
      " 24%|██████████▎                                | 12/50 [00:00<00:02, 14.37it/s]"
     ]
    },
    {
     "name": "stdout",
     "output_type": "stream",
     "text": [
      "Gradient of gamma: 1.987350060517201e-06\n",
      "Epoch 11 - Loss: 0.6931487321853638\n",
      "Parameter name: gamma\n",
      "Parameter shape: torch.Size([])\n",
      "Parameter value: Parameter containing:\n",
      "tensor(0.1854, device='cuda:0', requires_grad=True)\n",
      "\n"
     ]
    },
    {
     "name": "stderr",
     "output_type": "stream",
     "text": [
      "\n",
      "100%|██████████████████████████████████████████| 10/10 [00:00<00:00, 406.82it/s]\n"
     ]
    },
    {
     "name": "stdout",
     "output_type": "stream",
     "text": [
      "Gradient of gamma: 1.7552893041283824e-06\n",
      "Epoch 12 - Loss: 0.6931486129760742\n",
      "Parameter name: gamma\n",
      "Parameter shape: torch.Size([])\n",
      "Parameter value: Parameter containing:\n",
      "tensor(0.1466, device='cuda:0', requires_grad=True)\n",
      "\n"
     ]
    },
    {
     "name": "stderr",
     "output_type": "stream",
     "text": [
      "\n",
      "100%|██████████████████████████████████████████| 10/10 [00:00<00:00, 439.40it/s]\n",
      " 28%|████████████                               | 14/50 [00:00<00:02, 14.99it/s]"
     ]
    },
    {
     "name": "stdout",
     "output_type": "stream",
     "text": [
      "Gradient of gamma: 1.5890960867182002e-06\n",
      "Epoch 13 - Loss: 0.6931484937667847\n",
      "Parameter name: gamma\n",
      "Parameter shape: torch.Size([])\n",
      "Parameter value: Parameter containing:\n",
      "tensor(0.1105, device='cuda:0', requires_grad=True)\n",
      "\n"
     ]
    },
    {
     "name": "stderr",
     "output_type": "stream",
     "text": [
      "\n",
      "100%|██████████████████████████████████████████| 10/10 [00:00<00:00, 448.57it/s]\n"
     ]
    },
    {
     "name": "stdout",
     "output_type": "stream",
     "text": [
      "Gradient of gamma: 1.4908141565683763e-06\n",
      "Epoch 14 - Loss: 0.6931484937667847\n",
      "Parameter name: gamma\n",
      "Parameter shape: torch.Size([])\n",
      "Parameter value: Parameter containing:\n",
      "tensor(0.0769, device='cuda:0', requires_grad=True)\n",
      "\n"
     ]
    },
    {
     "name": "stderr",
     "output_type": "stream",
     "text": [
      "\n",
      "100%|██████████████████████████████████████████| 10/10 [00:00<00:00, 483.43it/s]\n",
      " 32%|█████████████▊                             | 16/50 [00:01<00:02, 15.91it/s]"
     ]
    },
    {
     "name": "stdout",
     "output_type": "stream",
     "text": [
      "Gradient of gamma: 1.3408756558419554e-06\n",
      "Epoch 15 - Loss: 0.6931484937667847\n",
      "Parameter name: gamma\n",
      "Parameter shape: torch.Size([])\n",
      "Parameter value: Parameter containing:\n",
      "tensor(0.0455, device='cuda:0', requires_grad=True)\n",
      "\n"
     ]
    },
    {
     "name": "stderr",
     "output_type": "stream",
     "text": [
      "\n",
      "100%|██████████████████████████████████████████| 10/10 [00:00<00:00, 489.59it/s]\n"
     ]
    },
    {
     "name": "stdout",
     "output_type": "stream",
     "text": [
      "Gradient of gamma: 1.2961814945811057e-06\n",
      "Epoch 16 - Loss: 0.6931484937667847\n",
      "Parameter name: gamma\n",
      "Parameter shape: torch.Size([])\n",
      "Parameter value: Parameter containing:\n",
      "tensor(0.0162, device='cuda:0', requires_grad=True)\n",
      "\n"
     ]
    },
    {
     "name": "stderr",
     "output_type": "stream",
     "text": [
      "\n",
      "100%|██████████████████████████████████████████| 10/10 [00:00<00:00, 495.40it/s]\n",
      " 36%|███████████████▍                           | 18/50 [00:01<00:01, 16.65it/s]"
     ]
    },
    {
     "name": "stdout",
     "output_type": "stream",
     "text": [
      "Gradient of gamma: 1.210849632116151e-06\n",
      "Epoch 17 - Loss: 0.6931483745574951\n",
      "Parameter name: gamma\n",
      "Parameter shape: torch.Size([])\n",
      "Parameter value: Parameter containing:\n",
      "tensor(-0.0112, device='cuda:0', requires_grad=True)\n",
      "\n"
     ]
    },
    {
     "name": "stderr",
     "output_type": "stream",
     "text": [
      "\n",
      "100%|██████████████████████████████████████████| 10/10 [00:00<00:00, 457.69it/s]\n"
     ]
    },
    {
     "name": "stdout",
     "output_type": "stream",
     "text": [
      "Gradient of gamma: 1.1204404017917113e-06\n",
      "Epoch 18 - Loss: 0.6931482553482056\n",
      "Parameter name: gamma\n",
      "Parameter shape: torch.Size([])\n",
      "Parameter value: Parameter containing:\n",
      "tensor(-0.0368, device='cuda:0', requires_grad=True)\n",
      "\n"
     ]
    },
    {
     "name": "stderr",
     "output_type": "stream",
     "text": [
      "\n",
      "100%|██████████████████████████████████████████| 10/10 [00:00<00:00, 451.26it/s]\n",
      " 40%|█████████████████▏                         | 20/50 [00:01<00:01, 16.19it/s]"
     ]
    },
    {
     "name": "stdout",
     "output_type": "stream",
     "text": [
      "Gradient of gamma: 1.0941258778984775e-06\n",
      "Epoch 19 - Loss: 0.6931482553482056\n",
      "Parameter name: gamma\n",
      "Parameter shape: torch.Size([])\n",
      "Parameter value: Parameter containing:\n",
      "tensor(-0.0609, device='cuda:0', requires_grad=True)\n",
      "\n"
     ]
    },
    {
     "name": "stderr",
     "output_type": "stream",
     "text": [
      "\n",
      "100%|██████████████████████████████████████████| 10/10 [00:00<00:00, 446.22it/s]\n"
     ]
    },
    {
     "name": "stdout",
     "output_type": "stream",
     "text": [
      "Gradient of gamma: 1.0679683555281372e-06\n",
      "Epoch 20 - Loss: 0.6931482553482056\n",
      "Parameter name: gamma\n",
      "Parameter shape: torch.Size([])\n",
      "Parameter value: Parameter containing:\n",
      "tensor(-0.0835, device='cuda:0', requires_grad=True)\n",
      "\n"
     ]
    },
    {
     "name": "stderr",
     "output_type": "stream",
     "text": [
      "\n",
      "100%|██████████████████████████████████████████| 10/10 [00:00<00:00, 478.65it/s]\n",
      " 44%|██████████████████▉                        | 22/50 [00:01<00:01, 16.66it/s]"
     ]
    },
    {
     "name": "stdout",
     "output_type": "stream",
     "text": [
      "Gradient of gamma: 9.76952492237615e-07\n",
      "Epoch 21 - Loss: 0.6931482553482056\n",
      "Parameter name: gamma\n",
      "Parameter shape: torch.Size([])\n",
      "Parameter value: Parameter containing:\n",
      "tensor(-0.1048, device='cuda:0', requires_grad=True)\n",
      "\n"
     ]
    },
    {
     "name": "stderr",
     "output_type": "stream",
     "text": [
      "\n",
      "100%|██████████████████████████████████████████| 10/10 [00:00<00:00, 477.72it/s]\n"
     ]
    },
    {
     "name": "stdout",
     "output_type": "stream",
     "text": [
      "Gradient of gamma: 9.567546612743172e-07\n",
      "Epoch 22 - Loss: 0.6931482553482056\n",
      "Parameter name: gamma\n",
      "Parameter shape: torch.Size([])\n",
      "Parameter value: Parameter containing:\n",
      "tensor(-0.1248, device='cuda:0', requires_grad=True)\n",
      "\n"
     ]
    },
    {
     "name": "stderr",
     "output_type": "stream",
     "text": [
      "\n",
      "100%|██████████████████████████████████████████| 10/10 [00:00<00:00, 481.58it/s]\n",
      " 48%|████████████████████▋                      | 24/50 [00:01<00:01, 17.05it/s]"
     ]
    },
    {
     "name": "stdout",
     "output_type": "stream",
     "text": [
      "Gradient of gamma: 9.253717507817782e-07\n",
      "Epoch 23 - Loss: 0.6931482553482056\n",
      "Parameter name: gamma\n",
      "Parameter shape: torch.Size([])\n",
      "Parameter value: Parameter containing:\n",
      "tensor(-0.1438, device='cuda:0', requires_grad=True)\n",
      "\n"
     ]
    },
    {
     "name": "stderr",
     "output_type": "stream",
     "text": [
      "\n",
      "100%|██████████████████████████████████████████| 10/10 [00:00<00:00, 487.45it/s]\n"
     ]
    },
    {
     "name": "stdout",
     "output_type": "stream",
     "text": [
      "Gradient of gamma: 8.86184409409907e-07\n",
      "Epoch 24 - Loss: 0.6931482553482056\n",
      "Parameter name: gamma\n",
      "Parameter shape: torch.Size([])\n",
      "Parameter value: Parameter containing:\n",
      "tensor(-0.1616, device='cuda:0', requires_grad=True)\n",
      "\n"
     ]
    },
    {
     "name": "stderr",
     "output_type": "stream",
     "text": [
      "\n",
      "100%|██████████████████████████████████████████| 10/10 [00:00<00:00, 492.32it/s]\n",
      " 52%|██████████████████████▎                    | 26/50 [00:01<00:01, 17.29it/s]"
     ]
    },
    {
     "name": "stdout",
     "output_type": "stream",
     "text": [
      "Gradient of gamma: 8.729833780307672e-07\n",
      "Epoch 25 - Loss: 0.6931482553482056\n",
      "Parameter name: gamma\n",
      "Parameter shape: torch.Size([])\n",
      "Parameter value: Parameter containing:\n",
      "tensor(-0.1785, device='cuda:0', requires_grad=True)\n",
      "\n"
     ]
    },
    {
     "name": "stderr",
     "output_type": "stream",
     "text": [
      "\n",
      "100%|██████████████████████████████████████████| 10/10 [00:00<00:00, 455.94it/s]\n"
     ]
    },
    {
     "name": "stdout",
     "output_type": "stream",
     "text": [
      "Gradient of gamma: 8.29330758733704e-07\n",
      "Epoch 26 - Loss: 0.6931482553482056\n",
      "Parameter name: gamma\n",
      "Parameter shape: torch.Size([])\n",
      "Parameter value: Parameter containing:\n",
      "tensor(-0.1945, device='cuda:0', requires_grad=True)\n",
      "\n"
     ]
    },
    {
     "name": "stderr",
     "output_type": "stream",
     "text": [
      "\n",
      "100%|██████████████████████████████████████████| 10/10 [00:00<00:00, 493.91it/s]\n",
      " 56%|████████████████████████                   | 28/50 [00:01<00:01, 17.44it/s]"
     ]
    },
    {
     "name": "stdout",
     "output_type": "stream",
     "text": [
      "Gradient of gamma: 8.248943572652934e-07\n",
      "Epoch 27 - Loss: 0.693148136138916\n",
      "Parameter name: gamma\n",
      "Parameter shape: torch.Size([])\n",
      "Parameter value: Parameter containing:\n",
      "tensor(-0.2097, device='cuda:0', requires_grad=True)\n",
      "\n"
     ]
    },
    {
     "name": "stderr",
     "output_type": "stream",
     "text": [
      "\n",
      "100%|██████████████████████████████████████████| 10/10 [00:00<00:00, 492.21it/s]\n"
     ]
    },
    {
     "name": "stdout",
     "output_type": "stream",
     "text": [
      "Gradient of gamma: 7.894938676145102e-07\n",
      "Epoch 28 - Loss: 0.693148136138916\n",
      "Parameter name: gamma\n",
      "Parameter shape: torch.Size([])\n",
      "Parameter value: Parameter containing:\n",
      "tensor(-0.2242, device='cuda:0', requires_grad=True)\n",
      "\n"
     ]
    },
    {
     "name": "stderr",
     "output_type": "stream",
     "text": [
      "\n",
      "100%|██████████████████████████████████████████| 10/10 [00:00<00:00, 493.12it/s]\n",
      " 60%|█████████████████████████▊                 | 30/50 [00:01<00:01, 17.71it/s]"
     ]
    },
    {
     "name": "stdout",
     "output_type": "stream",
     "text": [
      "Gradient of gamma: 7.792657470417907e-07\n",
      "Epoch 29 - Loss: 0.693148136138916\n",
      "Parameter name: gamma\n",
      "Parameter shape: torch.Size([])\n",
      "Parameter value: Parameter containing:\n",
      "tensor(-0.2380, device='cuda:0', requires_grad=True)\n",
      "\n"
     ]
    },
    {
     "name": "stderr",
     "output_type": "stream",
     "text": [
      "\n",
      "100%|██████████████████████████████████████████| 10/10 [00:00<00:00, 490.07it/s]\n"
     ]
    },
    {
     "name": "stdout",
     "output_type": "stream",
     "text": [
      "Gradient of gamma: 7.694927717238897e-07\n",
      "Epoch 30 - Loss: 0.693148136138916\n",
      "Parameter name: gamma\n",
      "Parameter shape: torch.Size([])\n",
      "Parameter value: Parameter containing:\n",
      "tensor(-0.2511, device='cuda:0', requires_grad=True)\n",
      "\n"
     ]
    },
    {
     "name": "stderr",
     "output_type": "stream",
     "text": [
      "\n",
      "100%|██████████████████████████████████████████| 10/10 [00:00<00:00, 445.54it/s]\n",
      " 64%|███████████████████████████▌               | 32/50 [00:01<00:01, 17.77it/s]"
     ]
    },
    {
     "name": "stdout",
     "output_type": "stream",
     "text": [
      "Gradient of gamma: 7.636442660441389e-07\n",
      "Epoch 31 - Loss: 0.693148136138916\n",
      "Parameter name: gamma\n",
      "Parameter shape: torch.Size([])\n",
      "Parameter value: Parameter containing:\n",
      "tensor(-0.2637, device='cuda:0', requires_grad=True)\n",
      "\n"
     ]
    },
    {
     "name": "stderr",
     "output_type": "stream",
     "text": [
      "\n",
      "100%|██████████████████████████████████████████| 10/10 [00:00<00:00, 477.52it/s]\n"
     ]
    },
    {
     "name": "stdout",
     "output_type": "stream",
     "text": [
      "Gradient of gamma: 7.552960710199841e-07\n",
      "Epoch 32 - Loss: 0.693148136138916\n",
      "Parameter name: gamma\n",
      "Parameter shape: torch.Size([])\n",
      "Parameter value: Parameter containing:\n",
      "tensor(-0.2757, device='cuda:0', requires_grad=True)\n",
      "\n"
     ]
    },
    {
     "name": "stderr",
     "output_type": "stream",
     "text": [
      "\n",
      "100%|██████████████████████████████████████████| 10/10 [00:00<00:00, 488.39it/s]\n",
      " 68%|█████████████████████████████▏             | 34/50 [00:02<00:00, 17.94it/s]"
     ]
    },
    {
     "name": "stdout",
     "output_type": "stream",
     "text": [
      "Gradient of gamma: 7.642421451237169e-07\n",
      "Epoch 33 - Loss: 0.693148136138916\n",
      "Parameter name: gamma\n",
      "Parameter shape: torch.Size([])\n",
      "Parameter value: Parameter containing:\n",
      "tensor(-0.2873, device='cuda:0', requires_grad=True)\n",
      "\n"
     ]
    },
    {
     "name": "stderr",
     "output_type": "stream",
     "text": [
      "\n",
      "100%|██████████████████████████████████████████| 10/10 [00:00<00:00, 490.69it/s]\n"
     ]
    },
    {
     "name": "stdout",
     "output_type": "stream",
     "text": [
      "Gradient of gamma: 7.576090865768492e-07\n",
      "Epoch 34 - Loss: 0.693148136138916\n",
      "Parameter name: gamma\n",
      "Parameter shape: torch.Size([])\n",
      "Parameter value: Parameter containing:\n",
      "tensor(-0.2984, device='cuda:0', requires_grad=True)\n",
      "\n"
     ]
    },
    {
     "name": "stderr",
     "output_type": "stream",
     "text": [
      "\n",
      "100%|██████████████████████████████████████████| 10/10 [00:00<00:00, 475.33it/s]\n",
      " 72%|██████████████████████████████▉            | 36/50 [00:02<00:00, 18.05it/s]"
     ]
    },
    {
     "name": "stdout",
     "output_type": "stream",
     "text": [
      "Gradient of gamma: 6.891971793265839e-07\n",
      "Epoch 35 - Loss: 0.693148136138916\n",
      "Parameter name: gamma\n",
      "Parameter shape: torch.Size([])\n",
      "Parameter value: Parameter containing:\n",
      "tensor(-0.3092, device='cuda:0', requires_grad=True)\n",
      "\n"
     ]
    },
    {
     "name": "stderr",
     "output_type": "stream",
     "text": [
      "\n",
      "100%|██████████████████████████████████████████| 10/10 [00:00<00:00, 453.12it/s]\n"
     ]
    },
    {
     "name": "stdout",
     "output_type": "stream",
     "text": [
      "Gradient of gamma: 6.838167792011518e-07\n",
      "Epoch 36 - Loss: 0.693148136138916\n",
      "Parameter name: gamma\n",
      "Parameter shape: torch.Size([])\n",
      "Parameter value: Parameter containing:\n",
      "tensor(-0.3195, device='cuda:0', requires_grad=True)\n",
      "\n"
     ]
    },
    {
     "name": "stderr",
     "output_type": "stream",
     "text": [
      "\n",
      "100%|██████████████████████████████████████████| 10/10 [00:00<00:00, 485.88it/s]\n",
      " 76%|████████████████████████████████▋          | 38/50 [00:02<00:00, 17.97it/s]"
     ]
    },
    {
     "name": "stdout",
     "output_type": "stream",
     "text": [
      "Gradient of gamma: 6.777736984986404e-07\n",
      "Epoch 37 - Loss: 0.693148136138916\n",
      "Parameter name: gamma\n",
      "Parameter shape: torch.Size([])\n",
      "Parameter value: Parameter containing:\n",
      "tensor(-0.3295, device='cuda:0', requires_grad=True)\n",
      "\n"
     ]
    },
    {
     "name": "stderr",
     "output_type": "stream",
     "text": [
      "\n",
      "100%|██████████████████████████████████████████| 10/10 [00:00<00:00, 493.66it/s]\n"
     ]
    },
    {
     "name": "stdout",
     "output_type": "stream",
     "text": [
      "Gradient of gamma: 6.721390946040628e-07\n",
      "Epoch 38 - Loss: 0.693148136138916\n",
      "Parameter name: gamma\n",
      "Parameter shape: torch.Size([])\n",
      "Parameter value: Parameter containing:\n",
      "tensor(-0.3392, device='cuda:0', requires_grad=True)\n",
      "\n"
     ]
    },
    {
     "name": "stderr",
     "output_type": "stream",
     "text": [
      "\n",
      "100%|██████████████████████████████████████████| 10/10 [00:00<00:00, 494.91it/s]\n",
      " 80%|██████████████████████████████████▍        | 40/50 [00:02<00:00, 18.07it/s]"
     ]
    },
    {
     "name": "stdout",
     "output_type": "stream",
     "text": [
      "Gradient of gamma: 6.683142146357568e-07\n",
      "Epoch 39 - Loss: 0.6931480765342712\n",
      "Parameter name: gamma\n",
      "Parameter shape: torch.Size([])\n",
      "Parameter value: Parameter containing:\n",
      "tensor(-0.3485, device='cuda:0', requires_grad=True)\n",
      "\n"
     ]
    },
    {
     "name": "stderr",
     "output_type": "stream",
     "text": [
      "\n",
      "100%|██████████████████████████████████████████| 10/10 [00:00<00:00, 479.84it/s]\n"
     ]
    },
    {
     "name": "stdout",
     "output_type": "stream",
     "text": [
      "Gradient of gamma: 6.638736067543505e-07\n",
      "Epoch 40 - Loss: 0.6931480765342712\n",
      "Parameter name: gamma\n",
      "Parameter shape: torch.Size([])\n",
      "Parameter value: Parameter containing:\n",
      "tensor(-0.3576, device='cuda:0', requires_grad=True)\n",
      "\n"
     ]
    },
    {
     "name": "stderr",
     "output_type": "stream",
     "text": [
      "\n",
      "100%|██████████████████████████████████████████| 10/10 [00:00<00:00, 486.08it/s]\n",
      " 84%|████████████████████████████████████       | 42/50 [00:02<00:00, 18.10it/s]"
     ]
    },
    {
     "name": "stdout",
     "output_type": "stream",
     "text": [
      "Gradient of gamma: 6.598331765417242e-07\n",
      "Epoch 41 - Loss: 0.6931480169296265\n",
      "Parameter name: gamma\n",
      "Parameter shape: torch.Size([])\n",
      "Parameter value: Parameter containing:\n",
      "tensor(-0.3665, device='cuda:0', requires_grad=True)\n",
      "\n"
     ]
    },
    {
     "name": "stderr",
     "output_type": "stream",
     "text": [
      "\n",
      "100%|██████████████████████████████████████████| 10/10 [00:00<00:00, 484.96it/s]\n"
     ]
    },
    {
     "name": "stdout",
     "output_type": "stream",
     "text": [
      "Gradient of gamma: 6.563482202182058e-07\n",
      "Epoch 42 - Loss: 0.6931480169296265\n",
      "Parameter name: gamma\n",
      "Parameter shape: torch.Size([])\n",
      "Parameter value: Parameter containing:\n",
      "tensor(-0.3751, device='cuda:0', requires_grad=True)\n",
      "\n"
     ]
    },
    {
     "name": "stderr",
     "output_type": "stream",
     "text": [
      "\n",
      "100%|██████████████████████████████████████████| 10/10 [00:00<00:00, 488.68it/s]\n",
      " 88%|█████████████████████████████████████▊     | 44/50 [00:02<00:00, 18.13it/s]"
     ]
    },
    {
     "name": "stdout",
     "output_type": "stream",
     "text": [
      "Gradient of gamma: 6.526088327518664e-07\n",
      "Epoch 43 - Loss: 0.6931480169296265\n",
      "Parameter name: gamma\n",
      "Parameter shape: torch.Size([])\n",
      "Parameter value: Parameter containing:\n",
      "tensor(-0.3836, device='cuda:0', requires_grad=True)\n",
      "\n"
     ]
    },
    {
     "name": "stderr",
     "output_type": "stream",
     "text": [
      "\n",
      "100%|██████████████████████████████████████████| 10/10 [00:00<00:00, 437.33it/s]\n"
     ]
    },
    {
     "name": "stdout",
     "output_type": "stream",
     "text": [
      "Gradient of gamma: 6.61991180095356e-07\n",
      "Epoch 44 - Loss: 0.6931480169296265\n",
      "Parameter name: gamma\n",
      "Parameter shape: torch.Size([])\n",
      "Parameter value: Parameter containing:\n",
      "tensor(-0.3919, device='cuda:0', requires_grad=True)\n",
      "\n"
     ]
    },
    {
     "name": "stderr",
     "output_type": "stream",
     "text": [
      "\n",
      "100%|██████████████████████████████████████████| 10/10 [00:00<00:00, 482.40it/s]\n",
      " 92%|███████████████████████████████████████▌   | 46/50 [00:02<00:00, 17.93it/s]"
     ]
    },
    {
     "name": "stdout",
     "output_type": "stream",
     "text": [
      "Gradient of gamma: 6.245686563488562e-07\n",
      "Epoch 45 - Loss: 0.6931480169296265\n",
      "Parameter name: gamma\n",
      "Parameter shape: torch.Size([])\n",
      "Parameter value: Parameter containing:\n",
      "tensor(-0.4000, device='cuda:0', requires_grad=True)\n",
      "\n"
     ]
    },
    {
     "name": "stderr",
     "output_type": "stream",
     "text": [
      "\n",
      "100%|██████████████████████████████████████████| 10/10 [00:00<00:00, 505.78it/s]\n"
     ]
    },
    {
     "name": "stdout",
     "output_type": "stream",
     "text": [
      "Gradient of gamma: 6.199875315360259e-07\n",
      "Epoch 46 - Loss: 0.6931480169296265\n",
      "Parameter name: gamma\n",
      "Parameter shape: torch.Size([])\n",
      "Parameter value: Parameter containing:\n",
      "tensor(-0.4079, device='cuda:0', requires_grad=True)\n",
      "\n"
     ]
    },
    {
     "name": "stderr",
     "output_type": "stream",
     "text": [
      "\n",
      "100%|██████████████████████████████████████████| 10/10 [00:00<00:00, 506.24it/s]\n",
      " 96%|█████████████████████████████████████████▎ | 48/50 [00:02<00:00, 18.04it/s]"
     ]
    },
    {
     "name": "stdout",
     "output_type": "stream",
     "text": [
      "Gradient of gamma: 6.221880539669655e-07\n",
      "Epoch 47 - Loss: 0.6931480169296265\n",
      "Parameter name: gamma\n",
      "Parameter shape: torch.Size([])\n",
      "Parameter value: Parameter containing:\n",
      "tensor(-0.4157, device='cuda:0', requires_grad=True)\n",
      "\n"
     ]
    },
    {
     "name": "stderr",
     "output_type": "stream",
     "text": [
      "\n",
      "100%|██████████████████████████████████████████| 10/10 [00:00<00:00, 481.18it/s]\n"
     ]
    },
    {
     "name": "stdout",
     "output_type": "stream",
     "text": [
      "Gradient of gamma: 6.3214747569873e-07\n",
      "Epoch 48 - Loss: 0.6931480169296265\n",
      "Parameter name: gamma\n",
      "Parameter shape: torch.Size([])\n",
      "Parameter value: Parameter containing:\n",
      "tensor(-0.4234, device='cuda:0', requires_grad=True)\n",
      "\n"
     ]
    },
    {
     "name": "stderr",
     "output_type": "stream",
     "text": [
      "\n",
      "100%|██████████████████████████████████████████| 10/10 [00:00<00:00, 453.80it/s]\n",
      "100%|███████████████████████████████████████████| 50/50 [00:02<00:00, 17.04it/s]\n"
     ]
    },
    {
     "name": "stdout",
     "output_type": "stream",
     "text": [
      "Gradient of gamma: 6.298196240095422e-07\n",
      "Epoch 49 - Loss: 0.6931480169296265\n",
      "Parameter name: gamma\n",
      "Parameter shape: torch.Size([])\n",
      "Parameter value: Parameter containing:\n",
      "tensor(-0.4310, device='cuda:0', requires_grad=True)\n",
      "\n"
     ]
    },
    {
     "name": "stderr",
     "output_type": "stream",
     "text": [
      "  0%|                                                    | 0/50 [00:00<?, ?it/s]\n",
      "100%|██████████████████████████████████████████| 10/10 [00:00<00:00, 442.09it/s]\n"
     ]
    },
    {
     "name": "stdout",
     "output_type": "stream",
     "text": [
      "Gradient of gamma: 0.00020327558740973473\n",
      "Epoch 0 - Loss: 0.6931043863296509\n",
      "Parameter name: gamma\n",
      "Parameter shape: torch.Size([])\n",
      "Parameter value: Parameter containing:\n",
      "tensor(1.1000, device='cuda:0', requires_grad=True)\n",
      "\n"
     ]
    },
    {
     "name": "stderr",
     "output_type": "stream",
     "text": [
      "\n",
      "100%|██████████████████████████████████████████| 10/10 [00:00<00:00, 440.50it/s]\n",
      "  4%|█▊                                          | 2/50 [00:00<00:02, 17.07it/s]"
     ]
    },
    {
     "name": "stdout",
     "output_type": "stream",
     "text": [
      "Gradient of gamma: 0.0003562825731933117\n",
      "Epoch 1 - Loss: 0.6930767297744751\n",
      "Parameter name: gamma\n",
      "Parameter shape: torch.Size([])\n",
      "Parameter value: Parameter containing:\n",
      "tensor(1.1978, device='cuda:0', requires_grad=True)\n",
      "\n"
     ]
    },
    {
     "name": "stderr",
     "output_type": "stream",
     "text": [
      "\n",
      "100%|██████████████████████████████████████████| 10/10 [00:00<00:00, 474.72it/s]\n"
     ]
    },
    {
     "name": "stdout",
     "output_type": "stream",
     "text": [
      "Gradient of gamma: 0.0006021475419402122\n",
      "Epoch 2 - Loss: 0.6930312514305115\n",
      "Parameter name: gamma\n",
      "Parameter shape: torch.Size([])\n",
      "Parameter value: Parameter containing:\n",
      "tensor(1.2932, device='cuda:0', requires_grad=True)\n",
      "\n"
     ]
    },
    {
     "name": "stderr",
     "output_type": "stream",
     "text": [
      "\n",
      "100%|██████████████████████████████████████████| 10/10 [00:00<00:00, 476.27it/s]\n",
      "  8%|███▌                                        | 4/50 [00:00<00:02, 17.68it/s]"
     ]
    },
    {
     "name": "stdout",
     "output_type": "stream",
     "text": [
      "Gradient of gamma: 0.0009932187385857105\n",
      "Epoch 3 - Loss: 0.6929564476013184\n",
      "Parameter name: gamma\n",
      "Parameter shape: torch.Size([])\n",
      "Parameter value: Parameter containing:\n",
      "tensor(1.3862, device='cuda:0', requires_grad=True)\n",
      "\n"
     ]
    },
    {
     "name": "stderr",
     "output_type": "stream",
     "text": [
      "\n",
      "100%|██████████████████████████████████████████| 10/10 [00:00<00:00, 387.43it/s]\n"
     ]
    },
    {
     "name": "stdout",
     "output_type": "stream",
     "text": [
      "Gradient of gamma: 0.0015831664204597473\n",
      "Epoch 4 - Loss: 0.692838728427887\n",
      "Parameter name: gamma\n",
      "Parameter shape: torch.Size([])\n",
      "Parameter value: Parameter containing:\n",
      "tensor(1.4776, device='cuda:0', requires_grad=True)\n",
      "\n"
     ]
    },
    {
     "name": "stderr",
     "output_type": "stream",
     "text": [
      "\n",
      "100%|██████████████████████████████████████████| 10/10 [00:00<00:00, 427.13it/s]\n",
      " 12%|█████▎                                      | 6/50 [00:00<00:02, 16.78it/s]"
     ]
    },
    {
     "name": "stdout",
     "output_type": "stream",
     "text": [
      "Gradient of gamma: 0.002461791504174471\n",
      "Epoch 5 - Loss: 0.6926564574241638\n",
      "Parameter name: gamma\n",
      "Parameter shape: torch.Size([])\n",
      "Parameter value: Parameter containing:\n",
      "tensor(1.5678, device='cuda:0', requires_grad=True)\n",
      "\n"
     ]
    },
    {
     "name": "stderr",
     "output_type": "stream",
     "text": [
      "\n",
      "100%|██████████████████████████████████████████| 10/10 [00:00<00:00, 458.99it/s]\n"
     ]
    },
    {
     "name": "stdout",
     "output_type": "stream",
     "text": [
      "Gradient of gamma: 0.003726482857018709\n",
      "Epoch 6 - Loss: 0.6923812031745911\n",
      "Parameter name: gamma\n",
      "Parameter shape: torch.Size([])\n",
      "Parameter value: Parameter containing:\n",
      "tensor(1.6574, device='cuda:0', requires_grad=True)\n",
      "\n"
     ]
    },
    {
     "name": "stderr",
     "output_type": "stream",
     "text": [
      "\n",
      "100%|██████████████████████████████████████████| 10/10 [00:00<00:00, 474.81it/s]\n",
      " 16%|███████                                     | 8/50 [00:00<00:02, 17.06it/s]"
     ]
    },
    {
     "name": "stdout",
     "output_type": "stream",
     "text": [
      "Gradient of gamma: 0.005545041058212519\n",
      "Epoch 7 - Loss: 0.6919696927070618\n",
      "Parameter name: gamma\n",
      "Parameter shape: torch.Size([])\n",
      "Parameter value: Parameter containing:\n",
      "tensor(1.7468, device='cuda:0', requires_grad=True)\n",
      "\n"
     ]
    },
    {
     "name": "stderr",
     "output_type": "stream",
     "text": [
      "\n",
      "100%|██████████████████████████████████████████| 10/10 [00:00<00:00, 487.06it/s]\n"
     ]
    },
    {
     "name": "stdout",
     "output_type": "stream",
     "text": [
      "Gradient of gamma: 0.008103221654891968\n",
      "Epoch 8 - Loss: 0.6913655996322632\n",
      "Parameter name: gamma\n",
      "Parameter shape: torch.Size([])\n",
      "Parameter value: Parameter containing:\n",
      "tensor(1.8364, device='cuda:0', requires_grad=True)\n",
      "\n"
     ]
    },
    {
     "name": "stderr",
     "output_type": "stream",
     "text": [
      "\n",
      "100%|██████████████████████████████████████████| 10/10 [00:00<00:00, 495.94it/s]\n",
      " 20%|████████▌                                  | 10/50 [00:00<00:02, 17.45it/s]"
     ]
    },
    {
     "name": "stdout",
     "output_type": "stream",
     "text": [
      "Gradient of gamma: 0.011661997064948082\n",
      "Epoch 9 - Loss: 0.6904891133308411\n",
      "Parameter name: gamma\n",
      "Parameter shape: torch.Size([])\n",
      "Parameter value: Parameter containing:\n",
      "tensor(1.9265, device='cuda:0', requires_grad=True)\n",
      "\n"
     ]
    },
    {
     "name": "stderr",
     "output_type": "stream",
     "text": [
      "\n",
      "100%|██████████████████████████████████████████| 10/10 [00:00<00:00, 493.87it/s]\n"
     ]
    },
    {
     "name": "stdout",
     "output_type": "stream",
     "text": [
      "Gradient of gamma: 0.016608865931630135\n",
      "Epoch 10 - Loss: 0.6892192959785461\n",
      "Parameter name: gamma\n",
      "Parameter shape: torch.Size([])\n",
      "Parameter value: Parameter containing:\n",
      "tensor(2.0173, device='cuda:0', requires_grad=True)\n",
      "\n"
     ]
    },
    {
     "name": "stderr",
     "output_type": "stream",
     "text": [
      "\n",
      "100%|██████████████████████████████████████████| 10/10 [00:00<00:00, 477.08it/s]\n",
      " 24%|██████████▎                                | 12/50 [00:00<00:02, 17.58it/s]"
     ]
    },
    {
     "name": "stdout",
     "output_type": "stream",
     "text": [
      "Gradient of gamma: 0.023320922628045082\n",
      "Epoch 11 - Loss: 0.6874226331710815\n",
      "Parameter name: gamma\n",
      "Parameter shape: torch.Size([])\n",
      "Parameter value: Parameter containing:\n",
      "tensor(2.1088, device='cuda:0', requires_grad=True)\n",
      "\n"
     ]
    },
    {
     "name": "stderr",
     "output_type": "stream",
     "text": [
      "\n",
      "100%|██████████████████████████████████████████| 10/10 [00:00<00:00, 497.56it/s]\n"
     ]
    },
    {
     "name": "stdout",
     "output_type": "stream",
     "text": [
      "Gradient of gamma: 0.032435014843940735\n",
      "Epoch 12 - Loss: 0.684878945350647\n",
      "Parameter name: gamma\n",
      "Parameter shape: torch.Size([])\n",
      "Parameter value: Parameter containing:\n",
      "tensor(2.2014, device='cuda:0', requires_grad=True)\n",
      "\n"
     ]
    },
    {
     "name": "stderr",
     "output_type": "stream",
     "text": [
      "\n",
      "100%|██████████████████████████████████████████| 10/10 [00:00<00:00, 508.25it/s]\n",
      " 28%|████████████                               | 14/50 [00:00<00:02, 18.00it/s]"
     ]
    },
    {
     "name": "stdout",
     "output_type": "stream",
     "text": [
      "Gradient of gamma: 0.04449238255620003\n",
      "Epoch 13 - Loss: 0.6813660264015198\n",
      "Parameter name: gamma\n",
      "Parameter shape: torch.Size([])\n",
      "Parameter value: Parameter containing:\n",
      "tensor(2.2952, device='cuda:0', requires_grad=True)\n",
      "\n"
     ]
    },
    {
     "name": "stderr",
     "output_type": "stream",
     "text": [
      "\n",
      "100%|██████████████████████████████████████████| 10/10 [00:00<00:00, 508.79it/s]\n"
     ]
    },
    {
     "name": "stdout",
     "output_type": "stream",
     "text": [
      "Gradient of gamma: 0.06062690541148186\n",
      "Epoch 14 - Loss: 0.6764608025550842\n",
      "Parameter name: gamma\n",
      "Parameter shape: torch.Size([])\n",
      "Parameter value: Parameter containing:\n",
      "tensor(2.3902, device='cuda:0', requires_grad=True)\n",
      "\n"
     ]
    },
    {
     "name": "stderr",
     "output_type": "stream",
     "text": [
      "\n",
      "100%|██████████████████████████████████████████| 10/10 [00:00<00:00, 504.29it/s]\n",
      " 32%|█████████████▊                             | 16/50 [00:00<00:01, 18.26it/s]"
     ]
    },
    {
     "name": "stdout",
     "output_type": "stream",
     "text": [
      "Gradient of gamma: 0.08161161839962006\n",
      "Epoch 15 - Loss: 0.66977459192276\n",
      "Parameter name: gamma\n",
      "Parameter shape: torch.Size([])\n",
      "Parameter value: Parameter containing:\n",
      "tensor(2.4866, device='cuda:0', requires_grad=True)\n",
      "\n"
     ]
    },
    {
     "name": "stderr",
     "output_type": "stream",
     "text": [
      "\n",
      "100%|██████████████████████████████████████████| 10/10 [00:00<00:00, 507.48it/s]\n"
     ]
    },
    {
     "name": "stdout",
     "output_type": "stream",
     "text": [
      "Gradient of gamma: 0.10910912603139877\n",
      "Epoch 16 - Loss: 0.6605804562568665\n",
      "Parameter name: gamma\n",
      "Parameter shape: torch.Size([])\n",
      "Parameter value: Parameter containing:\n",
      "tensor(2.5845, device='cuda:0', requires_grad=True)\n",
      "\n"
     ]
    },
    {
     "name": "stderr",
     "output_type": "stream",
     "text": [
      "\n",
      "100%|██████████████████████████████████████████| 10/10 [00:00<00:00, 488.79it/s]\n",
      " 36%|███████████████▍                           | 18/50 [00:01<00:01, 18.26it/s]"
     ]
    },
    {
     "name": "stdout",
     "output_type": "stream",
     "text": [
      "Gradient of gamma: 0.14399586617946625\n",
      "Epoch 17 - Loss: 0.6482135057449341\n",
      "Parameter name: gamma\n",
      "Parameter shape: torch.Size([])\n",
      "Parameter value: Parameter containing:\n",
      "tensor(2.6840, device='cuda:0', requires_grad=True)\n",
      "\n"
     ]
    },
    {
     "name": "stderr",
     "output_type": "stream",
     "text": [
      "\n",
      "100%|██████████████████████████████████████████| 10/10 [00:00<00:00, 496.09it/s]\n"
     ]
    },
    {
     "name": "stdout",
     "output_type": "stream",
     "text": [
      "Gradient of gamma: 0.18669289350509644\n",
      "Epoch 18 - Loss: 0.6320224404335022\n",
      "Parameter name: gamma\n",
      "Parameter shape: torch.Size([])\n",
      "Parameter value: Parameter containing:\n",
      "tensor(2.7853, device='cuda:0', requires_grad=True)\n",
      "\n"
     ]
    },
    {
     "name": "stderr",
     "output_type": "stream",
     "text": [
      "\n",
      "100%|██████████████████████████████████████████| 10/10 [00:00<00:00, 491.40it/s]\n",
      " 40%|█████████████████▏                         | 20/50 [00:01<00:01, 18.30it/s]"
     ]
    },
    {
     "name": "stdout",
     "output_type": "stream",
     "text": [
      "Gradient of gamma: 0.23900824785232544\n",
      "Epoch 19 - Loss: 0.6102990508079529\n",
      "Parameter name: gamma\n",
      "Parameter shape: torch.Size([])\n",
      "Parameter value: Parameter containing:\n",
      "tensor(2.8884, device='cuda:0', requires_grad=True)\n",
      "\n"
     ]
    },
    {
     "name": "stderr",
     "output_type": "stream",
     "text": [
      "\n",
      "100%|██████████████████████████████████████████| 10/10 [00:00<00:00, 469.49it/s]\n"
     ]
    },
    {
     "name": "stdout",
     "output_type": "stream",
     "text": [
      "Gradient of gamma: 0.29739683866500854\n",
      "Epoch 20 - Loss: 0.5827645063400269\n",
      "Parameter name: gamma\n",
      "Parameter shape: torch.Size([])\n",
      "Parameter value: Parameter containing:\n",
      "tensor(2.9937, device='cuda:0', requires_grad=True)\n",
      "\n"
     ]
    },
    {
     "name": "stderr",
     "output_type": "stream",
     "text": [
      "\n",
      "100%|██████████████████████████████████████████| 10/10 [00:00<00:00, 475.10it/s]\n",
      " 44%|██████████████████▉                        | 22/50 [00:01<00:01, 18.29it/s]"
     ]
    },
    {
     "name": "stdout",
     "output_type": "stream",
     "text": [
      "Gradient of gamma: 0.3568051755428314\n",
      "Epoch 21 - Loss: 0.548391580581665\n",
      "Parameter name: gamma\n",
      "Parameter shape: torch.Size([])\n",
      "Parameter value: Parameter containing:\n",
      "tensor(3.1014, device='cuda:0', requires_grad=True)\n",
      "\n"
     ]
    },
    {
     "name": "stderr",
     "output_type": "stream",
     "text": [
      "\n",
      "100%|██████████████████████████████████████████| 10/10 [00:00<00:00, 498.60it/s]\n"
     ]
    },
    {
     "name": "stdout",
     "output_type": "stream",
     "text": [
      "Gradient of gamma: 0.4057551622390747\n",
      "Epoch 22 - Loss: 0.5070620775222778\n",
      "Parameter name: gamma\n",
      "Parameter shape: torch.Size([])\n",
      "Parameter value: Parameter containing:\n",
      "tensor(3.2119, device='cuda:0', requires_grad=True)\n",
      "\n"
     ]
    },
    {
     "name": "stderr",
     "output_type": "stream",
     "text": [
      "\n",
      "100%|██████████████████████████████████████████| 10/10 [00:00<00:00, 495.59it/s]\n",
      " 48%|████████████████████▋                      | 24/50 [00:01<00:01, 18.30it/s]"
     ]
    },
    {
     "name": "stdout",
     "output_type": "stream",
     "text": [
      "Gradient of gamma: 0.4252561926841736\n",
      "Epoch 23 - Loss: 0.4610137939453125\n",
      "Parameter name: gamma\n",
      "Parameter shape: torch.Size([])\n",
      "Parameter value: Parameter containing:\n",
      "tensor(3.3255, device='cuda:0', requires_grad=True)\n",
      "\n"
     ]
    },
    {
     "name": "stderr",
     "output_type": "stream",
     "text": [
      "\n",
      "100%|██████████████████████████████████████████| 10/10 [00:00<00:00, 448.21it/s]\n"
     ]
    },
    {
     "name": "stdout",
     "output_type": "stream",
     "text": [
      "Gradient of gamma: 0.3960883319377899\n",
      "Epoch 24 - Loss: 0.41397976875305176\n",
      "Parameter name: gamma\n",
      "Parameter shape: torch.Size([])\n",
      "Parameter value: Parameter containing:\n",
      "tensor(3.4419, device='cuda:0', requires_grad=True)\n",
      "\n"
     ]
    },
    {
     "name": "stderr",
     "output_type": "stream",
     "text": [
      "\n",
      "100%|██████████████████████████████████████████| 10/10 [00:00<00:00, 453.54it/s]\n",
      " 52%|██████████████████████▎                    | 26/50 [00:01<00:01, 18.09it/s]"
     ]
    },
    {
     "name": "stdout",
     "output_type": "stream",
     "text": [
      "Gradient of gamma: 0.31250953674316406\n",
      "Epoch 25 - Loss: 0.37198227643966675\n",
      "Parameter name: gamma\n",
      "Parameter shape: torch.Size([])\n",
      "Parameter value: Parameter containing:\n",
      "tensor(3.5598, device='cuda:0', requires_grad=True)\n",
      "\n"
     ]
    },
    {
     "name": "stderr",
     "output_type": "stream",
     "text": [
      "\n",
      "100%|██████████████████████████████████████████| 10/10 [00:00<00:00, 429.70it/s]\n"
     ]
    },
    {
     "name": "stdout",
     "output_type": "stream",
     "text": [
      "Gradient of gamma: 0.20052799582481384\n",
      "Epoch 26 - Loss: 0.34168797731399536\n",
      "Parameter name: gamma\n",
      "Parameter shape: torch.Size([])\n",
      "Parameter value: Parameter containing:\n",
      "tensor(3.6760, device='cuda:0', requires_grad=True)\n",
      "\n"
     ]
    },
    {
     "name": "stderr",
     "output_type": "stream",
     "text": [
      "\n",
      "100%|██████████████████████████████████████████| 10/10 [00:00<00:00, 459.87it/s]\n",
      " 56%|████████████████████████                   | 28/50 [00:01<00:01, 17.98it/s]"
     ]
    },
    {
     "name": "stdout",
     "output_type": "stream",
     "text": [
      "Gradient of gamma: 0.101070836186409\n",
      "Epoch 27 - Loss: 0.32428351044654846\n",
      "Parameter name: gamma\n",
      "Parameter shape: torch.Size([])\n",
      "Parameter value: Parameter containing:\n",
      "tensor(3.7869, device='cuda:0', requires_grad=True)\n",
      "\n"
     ]
    },
    {
     "name": "stderr",
     "output_type": "stream",
     "text": [
      "\n",
      "100%|██████████████████████████████████████████| 10/10 [00:00<00:00, 464.63it/s]\n"
     ]
    },
    {
     "name": "stdout",
     "output_type": "stream",
     "text": [
      "Gradient of gamma: 0.04085485637187958\n",
      "Epoch 28 - Loss: 0.31678783893585205\n",
      "Parameter name: gamma\n",
      "Parameter shape: torch.Size([])\n",
      "Parameter value: Parameter containing:\n",
      "tensor(3.8902, device='cuda:0', requires_grad=True)\n",
      "\n"
     ]
    },
    {
     "name": "stderr",
     "output_type": "stream",
     "text": [
      "\n",
      "100%|██████████████████████████████████████████| 10/10 [00:00<00:00, 475.28it/s]\n",
      " 60%|█████████████████████████▊                 | 30/50 [00:01<00:01, 17.71it/s]"
     ]
    },
    {
     "name": "stdout",
     "output_type": "stream",
     "text": [
      "Gradient of gamma: 0.013341126963496208\n",
      "Epoch 29 - Loss: 0.31419456005096436\n",
      "Parameter name: gamma\n",
      "Parameter shape: torch.Size([])\n",
      "Parameter value: Parameter containing:\n",
      "tensor(3.9850, device='cuda:0', requires_grad=True)\n",
      "\n"
     ]
    },
    {
     "name": "stderr",
     "output_type": "stream",
     "text": [
      "\n",
      "100%|██████████████████████████████████████████| 10/10 [00:00<00:00, 460.93it/s]\n"
     ]
    },
    {
     "name": "stdout",
     "output_type": "stream",
     "text": [
      "Gradient of gamma: 0.003606819547712803\n",
      "Epoch 30 - Loss: 0.3134705722332001\n",
      "Parameter name: gamma\n",
      "Parameter shape: torch.Size([])\n",
      "Parameter value: Parameter containing:\n",
      "tensor(4.0716, device='cuda:0', requires_grad=True)\n",
      "\n"
     ]
    },
    {
     "name": "stderr",
     "output_type": "stream",
     "text": [
      "\n",
      "100%|██████████████████████████████████████████| 10/10 [00:00<00:00, 485.97it/s]\n",
      " 64%|███████████████████████████▌               | 32/50 [00:01<00:01, 17.82it/s]"
     ]
    },
    {
     "name": "stdout",
     "output_type": "stream",
     "text": [
      "Gradient of gamma: 0.0008533626096323133\n",
      "Epoch 31 - Loss: 0.31330353021621704\n",
      "Parameter name: gamma\n",
      "Parameter shape: torch.Size([])\n",
      "Parameter value: Parameter containing:\n",
      "tensor(4.1506, device='cuda:0', requires_grad=True)\n",
      "\n"
     ]
    },
    {
     "name": "stderr",
     "output_type": "stream",
     "text": [
      "\n",
      "100%|██████████████████████████████████████████| 10/10 [00:00<00:00, 479.41it/s]\n"
     ]
    },
    {
     "name": "stdout",
     "output_type": "stream",
     "text": [
      "Gradient of gamma: 0.0001767973299138248\n",
      "Epoch 32 - Loss: 0.31326913833618164\n",
      "Parameter name: gamma\n",
      "Parameter shape: torch.Size([])\n",
      "Parameter value: Parameter containing:\n",
      "tensor(4.2225, device='cuda:0', requires_grad=True)\n",
      "\n"
     ]
    },
    {
     "name": "stderr",
     "output_type": "stream",
     "text": [
      "\n",
      "100%|██████████████████████████████████████████| 10/10 [00:00<00:00, 461.86it/s]\n",
      " 68%|█████████████████████████████▏             | 34/50 [00:01<00:00, 17.97it/s]"
     ]
    },
    {
     "name": "stdout",
     "output_type": "stream",
     "text": [
      "Gradient of gamma: 3.253148679505102e-05\n",
      "Epoch 33 - Loss: 0.3132629096508026\n",
      "Parameter name: gamma\n",
      "Parameter shape: torch.Size([])\n",
      "Parameter value: Parameter containing:\n",
      "tensor(4.2881, device='cuda:0', requires_grad=True)\n",
      "\n"
     ]
    },
    {
     "name": "stderr",
     "output_type": "stream",
     "text": [
      "\n",
      "100%|██████████████████████████████████████████| 10/10 [00:00<00:00, 473.95it/s]\n"
     ]
    },
    {
     "name": "stdout",
     "output_type": "stream",
     "text": [
      "Gradient of gamma: 5.455293376144255e-06\n",
      "Epoch 34 - Loss: 0.3132619261741638\n",
      "Parameter name: gamma\n",
      "Parameter shape: torch.Size([])\n",
      "Parameter value: Parameter containing:\n",
      "tensor(4.3478, device='cuda:0', requires_grad=True)\n",
      "\n"
     ]
    },
    {
     "name": "stderr",
     "output_type": "stream",
     "text": [
      "\n",
      "100%|██████████████████████████████████████████| 10/10 [00:00<00:00, 451.44it/s]\n",
      " 72%|██████████████████████████████▉            | 36/50 [00:02<00:00, 18.09it/s]"
     ]
    },
    {
     "name": "stdout",
     "output_type": "stream",
     "text": [
      "Gradient of gamma: 8.853706958689145e-07\n",
      "Epoch 35 - Loss: 0.3132617473602295\n",
      "Parameter name: gamma\n",
      "Parameter shape: torch.Size([])\n",
      "Parameter value: Parameter containing:\n",
      "tensor(4.4021, device='cuda:0', requires_grad=True)\n",
      "\n"
     ]
    },
    {
     "name": "stderr",
     "output_type": "stream",
     "text": [
      "\n",
      "100%|██████████████████████████████████████████| 10/10 [00:00<00:00, 480.56it/s]\n"
     ]
    },
    {
     "name": "stdout",
     "output_type": "stream",
     "text": [
      "Gradient of gamma: 1.3537604104385537e-07\n",
      "Epoch 36 - Loss: 0.3132617473602295\n",
      "Parameter name: gamma\n",
      "Parameter shape: torch.Size([])\n",
      "Parameter value: Parameter containing:\n",
      "tensor(4.4516, device='cuda:0', requires_grad=True)\n",
      "\n"
     ]
    },
    {
     "name": "stderr",
     "output_type": "stream",
     "text": [
      "\n",
      "100%|██████████████████████████████████████████| 10/10 [00:00<00:00, 487.68it/s]\n",
      " 76%|████████████████████████████████▋          | 38/50 [00:02<00:00, 18.23it/s]"
     ]
    },
    {
     "name": "stdout",
     "output_type": "stream",
     "text": [
      "Gradient of gamma: 2.202687632291145e-08\n",
      "Epoch 37 - Loss: 0.3132617473602295\n",
      "Parameter name: gamma\n",
      "Parameter shape: torch.Size([])\n",
      "Parameter value: Parameter containing:\n",
      "tensor(4.4967, device='cuda:0', requires_grad=True)\n",
      "\n"
     ]
    },
    {
     "name": "stderr",
     "output_type": "stream",
     "text": [
      "\n",
      "100%|██████████████████████████████████████████| 10/10 [00:00<00:00, 485.53it/s]\n"
     ]
    },
    {
     "name": "stdout",
     "output_type": "stream",
     "text": [
      "Gradient of gamma: 3.5328888703389794e-09\n",
      "Epoch 38 - Loss: 0.3132617473602295\n",
      "Parameter name: gamma\n",
      "Parameter shape: torch.Size([])\n",
      "Parameter value: Parameter containing:\n",
      "tensor(4.5377, device='cuda:0', requires_grad=True)\n",
      "\n"
     ]
    },
    {
     "name": "stderr",
     "output_type": "stream",
     "text": [
      "\n",
      "100%|██████████████████████████████████████████| 10/10 [00:00<00:00, 483.76it/s]\n",
      " 80%|██████████████████████████████████▍        | 40/50 [00:02<00:00, 18.36it/s]"
     ]
    },
    {
     "name": "stdout",
     "output_type": "stream",
     "text": [
      "Gradient of gamma: 5.512599265955487e-10\n",
      "Epoch 39 - Loss: 0.3132617473602295\n",
      "Parameter name: gamma\n",
      "Parameter shape: torch.Size([])\n",
      "Parameter value: Parameter containing:\n",
      "tensor(4.5750, device='cuda:0', requires_grad=True)\n",
      "\n"
     ]
    },
    {
     "name": "stderr",
     "output_type": "stream",
     "text": [
      "\n",
      "100%|██████████████████████████████████████████| 10/10 [00:00<00:00, 486.98it/s]\n"
     ]
    },
    {
     "name": "stdout",
     "output_type": "stream",
     "text": [
      "Gradient of gamma: 1.0102817193935465e-10\n",
      "Epoch 40 - Loss: 0.3132617473602295\n",
      "Parameter name: gamma\n",
      "Parameter shape: torch.Size([])\n",
      "Parameter value: Parameter containing:\n",
      "tensor(4.6090, device='cuda:0', requires_grad=True)\n",
      "\n"
     ]
    },
    {
     "name": "stderr",
     "output_type": "stream",
     "text": [
      "\n",
      "100%|██████████████████████████████████████████| 10/10 [00:00<00:00, 474.94it/s]\n",
      " 84%|████████████████████████████████████       | 42/50 [00:02<00:00, 18.42it/s]"
     ]
    },
    {
     "name": "stdout",
     "output_type": "stream",
     "text": [
      "Gradient of gamma: 1.693640193367596e-11\n",
      "Epoch 41 - Loss: 0.3132617473602295\n",
      "Parameter name: gamma\n",
      "Parameter shape: torch.Size([])\n",
      "Parameter value: Parameter containing:\n",
      "tensor(4.6399, device='cuda:0', requires_grad=True)\n",
      "\n"
     ]
    },
    {
     "name": "stderr",
     "output_type": "stream",
     "text": [
      "\n",
      "100%|██████████████████████████████████████████| 10/10 [00:00<00:00, 484.60it/s]\n"
     ]
    },
    {
     "name": "stdout",
     "output_type": "stream",
     "text": [
      "Gradient of gamma: 3.413690120510071e-12\n",
      "Epoch 42 - Loss: 0.3132617473602295\n",
      "Parameter name: gamma\n",
      "Parameter shape: torch.Size([])\n",
      "Parameter value: Parameter containing:\n",
      "tensor(4.6680, device='cuda:0', requires_grad=True)\n",
      "\n"
     ]
    },
    {
     "name": "stderr",
     "output_type": "stream",
     "text": [
      "\n",
      "100%|██████████████████████████████████████████| 10/10 [00:00<00:00, 482.17it/s]\n",
      " 88%|█████████████████████████████████████▊     | 44/50 [00:02<00:00, 18.50it/s]"
     ]
    },
    {
     "name": "stdout",
     "output_type": "stream",
     "text": [
      "Gradient of gamma: 6.781914981858483e-13\n",
      "Epoch 43 - Loss: 0.3132617473602295\n",
      "Parameter name: gamma\n",
      "Parameter shape: torch.Size([])\n",
      "Parameter value: Parameter containing:\n",
      "tensor(4.6936, device='cuda:0', requires_grad=True)\n",
      "\n"
     ]
    },
    {
     "name": "stderr",
     "output_type": "stream",
     "text": [
      "\n",
      "100%|██████████████████████████████████████████| 10/10 [00:00<00:00, 488.52it/s]\n"
     ]
    },
    {
     "name": "stdout",
     "output_type": "stream",
     "text": [
      "Gradient of gamma: 1.4776805538734006e-13\n",
      "Epoch 44 - Loss: 0.3132617473602295\n",
      "Parameter name: gamma\n",
      "Parameter shape: torch.Size([])\n",
      "Parameter value: Parameter containing:\n",
      "tensor(4.7168, device='cuda:0', requires_grad=True)\n",
      "\n"
     ]
    },
    {
     "name": "stderr",
     "output_type": "stream",
     "text": [
      "\n",
      "100%|██████████████████████████████████████████| 10/10 [00:00<00:00, 478.85it/s]\n",
      " 92%|███████████████████████████████████████▌   | 46/50 [00:02<00:00, 18.61it/s]"
     ]
    },
    {
     "name": "stdout",
     "output_type": "stream",
     "text": [
      "Gradient of gamma: 3.7882159431915086e-14\n",
      "Epoch 45 - Loss: 0.3132617473602295\n",
      "Parameter name: gamma\n",
      "Parameter shape: torch.Size([])\n",
      "Parameter value: Parameter containing:\n",
      "tensor(4.7380, device='cuda:0', requires_grad=True)\n",
      "\n"
     ]
    },
    {
     "name": "stderr",
     "output_type": "stream",
     "text": [
      "\n",
      "100%|██████████████████████████████████████████| 10/10 [00:00<00:00, 479.14it/s]\n"
     ]
    },
    {
     "name": "stdout",
     "output_type": "stream",
     "text": [
      "Gradient of gamma: 9.060924889081959e-15\n",
      "Epoch 46 - Loss: 0.3132617473602295\n",
      "Parameter name: gamma\n",
      "Parameter shape: torch.Size([])\n",
      "Parameter value: Parameter containing:\n",
      "tensor(4.7572, device='cuda:0', requires_grad=True)\n",
      "\n"
     ]
    },
    {
     "name": "stderr",
     "output_type": "stream",
     "text": [
      "\n",
      "100%|██████████████████████████████████████████| 10/10 [00:00<00:00, 483.21it/s]\n",
      " 96%|█████████████████████████████████████████▎ | 48/50 [00:02<00:00, 18.59it/s]"
     ]
    },
    {
     "name": "stdout",
     "output_type": "stream",
     "text": [
      "Gradient of gamma: 2.8675260696351583e-15\n",
      "Epoch 47 - Loss: 0.3132617473602295\n",
      "Parameter name: gamma\n",
      "Parameter shape: torch.Size([])\n",
      "Parameter value: Parameter containing:\n",
      "tensor(4.7747, device='cuda:0', requires_grad=True)\n",
      "\n"
     ]
    },
    {
     "name": "stderr",
     "output_type": "stream",
     "text": [
      "\n",
      "100%|██████████████████████████████████████████| 10/10 [00:00<00:00, 431.50it/s]\n"
     ]
    },
    {
     "name": "stdout",
     "output_type": "stream",
     "text": [
      "Gradient of gamma: 7.94336857083683e-16\n",
      "Epoch 48 - Loss: 0.3132617473602295\n",
      "Parameter name: gamma\n",
      "Parameter shape: torch.Size([])\n",
      "Parameter value: Parameter containing:\n",
      "tensor(4.7906, device='cuda:0', requires_grad=True)\n",
      "\n"
     ]
    },
    {
     "name": "stderr",
     "output_type": "stream",
     "text": [
      "\n",
      "100%|██████████████████████████████████████████| 10/10 [00:00<00:00, 477.29it/s]\n",
      "100%|███████████████████████████████████████████| 50/50 [00:02<00:00, 18.06it/s]\n"
     ]
    },
    {
     "name": "stdout",
     "output_type": "stream",
     "text": [
      "Gradient of gamma: 2.745851057311499e-16\n",
      "Epoch 49 - Loss: 0.3132617473602295\n",
      "Parameter name: gamma\n",
      "Parameter shape: torch.Size([])\n",
      "Parameter value: Parameter containing:\n",
      "tensor(4.8051, device='cuda:0', requires_grad=True)\n",
      "\n"
     ]
    },
    {
     "name": "stderr",
     "output_type": "stream",
     "text": [
      "  0%|                                                    | 0/50 [00:00<?, ?it/s]\n",
      "100%|██████████████████████████████████████████| 10/10 [00:00<00:00, 402.35it/s]\n"
     ]
    },
    {
     "name": "stdout",
     "output_type": "stream",
     "text": [
      "Gradient of gamma: 1.199403777718544e-05\n",
      "Epoch 0 - Loss: 0.6931489706039429\n",
      "Parameter name: gamma\n",
      "Parameter shape: torch.Size([])\n",
      "Parameter value: Parameter containing:\n",
      "tensor(0.9001, device='cuda:0', requires_grad=True)\n",
      "\n"
     ]
    },
    {
     "name": "stderr",
     "output_type": "stream",
     "text": [
      "\n",
      "100%|██████████████████████████████████████████| 10/10 [00:00<00:00, 461.06it/s]\n",
      "  4%|█▊                                          | 2/50 [00:00<00:02, 17.05it/s]"
     ]
    },
    {
     "name": "stdout",
     "output_type": "stream",
     "text": [
      "Gradient of gamma: 6.0289166867733e-06\n",
      "Epoch 1 - Loss: 0.693148136138916\n",
      "Parameter name: gamma\n",
      "Parameter shape: torch.Size([])\n",
      "Parameter value: Parameter containing:\n",
      "tensor(0.8069, device='cuda:0', requires_grad=True)\n",
      "\n"
     ]
    },
    {
     "name": "stderr",
     "output_type": "stream",
     "text": [
      "\n",
      "100%|██████████████████████████████████████████| 10/10 [00:00<00:00, 476.51it/s]\n"
     ]
    },
    {
     "name": "stdout",
     "output_type": "stream",
     "text": [
      "Gradient of gamma: 3.123888745903969e-06\n",
      "Epoch 2 - Loss: 0.6931477785110474\n",
      "Parameter name: gamma\n",
      "Parameter shape: torch.Size([])\n",
      "Parameter value: Parameter containing:\n",
      "tensor(0.7223, device='cuda:0', requires_grad=True)\n",
      "\n"
     ]
    },
    {
     "name": "stderr",
     "output_type": "stream",
     "text": [
      "\n",
      "100%|██████████████████████████████████████████| 10/10 [00:00<00:00, 492.68it/s]\n",
      "  8%|███▌                                        | 4/50 [00:00<00:02, 17.88it/s]"
     ]
    },
    {
     "name": "stdout",
     "output_type": "stream",
     "text": [
      "Gradient of gamma: 1.6244594007730484e-06\n",
      "Epoch 3 - Loss: 0.6931475400924683\n",
      "Parameter name: gamma\n",
      "Parameter shape: torch.Size([])\n",
      "Parameter value: Parameter containing:\n",
      "tensor(0.6466, device='cuda:0', requires_grad=True)\n",
      "\n"
     ]
    },
    {
     "name": "stderr",
     "output_type": "stream",
     "text": [
      "\n",
      "100%|██████████████████████████████████████████| 10/10 [00:00<00:00, 469.19it/s]\n"
     ]
    },
    {
     "name": "stdout",
     "output_type": "stream",
     "text": [
      "Gradient of gamma: 1.080567017197609e-06\n",
      "Epoch 4 - Loss: 0.6931475400924683\n",
      "Parameter name: gamma\n",
      "Parameter shape: torch.Size([])\n",
      "Parameter value: Parameter containing:\n",
      "tensor(0.5787, device='cuda:0', requires_grad=True)\n",
      "\n"
     ]
    },
    {
     "name": "stderr",
     "output_type": "stream",
     "text": [
      "\n",
      "100%|██████████████████████████████████████████| 10/10 [00:00<00:00, 468.57it/s]\n",
      " 12%|█████▎                                      | 6/50 [00:00<00:02, 17.94it/s]"
     ]
    },
    {
     "name": "stdout",
     "output_type": "stream",
     "text": [
      "Gradient of gamma: 6.838454282842577e-07\n",
      "Epoch 5 - Loss: 0.6931474804878235\n",
      "Parameter name: gamma\n",
      "Parameter shape: torch.Size([])\n",
      "Parameter value: Parameter containing:\n",
      "tensor(0.5176, device='cuda:0', requires_grad=True)\n",
      "\n"
     ]
    },
    {
     "name": "stderr",
     "output_type": "stream",
     "text": [
      "\n",
      "100%|██████████████████████████████████████████| 10/10 [00:00<00:00, 495.42it/s]\n"
     ]
    },
    {
     "name": "stdout",
     "output_type": "stream",
     "text": [
      "Gradient of gamma: 3.953136911150068e-07\n",
      "Epoch 6 - Loss: 0.6931473612785339\n",
      "Parameter name: gamma\n",
      "Parameter shape: torch.Size([])\n",
      "Parameter value: Parameter containing:\n",
      "tensor(0.4629, device='cuda:0', requires_grad=True)\n",
      "\n"
     ]
    },
    {
     "name": "stderr",
     "output_type": "stream",
     "text": [
      "\n",
      "100%|██████████████████████████████████████████| 10/10 [00:00<00:00, 494.87it/s]\n",
      " 16%|███████                                     | 8/50 [00:00<00:02, 18.17it/s]"
     ]
    },
    {
     "name": "stdout",
     "output_type": "stream",
     "text": [
      "Gradient of gamma: 3.3915057429112494e-07\n",
      "Epoch 7 - Loss: 0.6931473612785339\n",
      "Parameter name: gamma\n",
      "Parameter shape: torch.Size([])\n",
      "Parameter value: Parameter containing:\n",
      "tensor(0.4135, device='cuda:0', requires_grad=True)\n",
      "\n"
     ]
    },
    {
     "name": "stderr",
     "output_type": "stream",
     "text": [
      "\n",
      "100%|██████████████████████████████████████████| 10/10 [00:00<00:00, 496.52it/s]\n"
     ]
    },
    {
     "name": "stdout",
     "output_type": "stream",
     "text": [
      "Gradient of gamma: 3.0681394491693936e-07\n",
      "Epoch 8 - Loss: 0.6931473612785339\n",
      "Parameter name: gamma\n",
      "Parameter shape: torch.Size([])\n",
      "Parameter value: Parameter containing:\n",
      "tensor(0.3685, device='cuda:0', requires_grad=True)\n",
      "\n"
     ]
    },
    {
     "name": "stderr",
     "output_type": "stream",
     "text": [
      "\n",
      "100%|██████████████████████████████████████████| 10/10 [00:00<00:00, 514.97it/s]\n",
      " 20%|████████▌                                  | 10/50 [00:00<00:02, 18.38it/s]"
     ]
    },
    {
     "name": "stdout",
     "output_type": "stream",
     "text": [
      "Gradient of gamma: 2.836181920429226e-07\n",
      "Epoch 9 - Loss: 0.6931473016738892\n",
      "Parameter name: gamma\n",
      "Parameter shape: torch.Size([])\n",
      "Parameter value: Parameter containing:\n",
      "tensor(0.3275, device='cuda:0', requires_grad=True)\n",
      "\n"
     ]
    },
    {
     "name": "stderr",
     "output_type": "stream",
     "text": [
      "\n",
      "100%|██████████████████████████████████████████| 10/10 [00:00<00:00, 502.99it/s]\n"
     ]
    },
    {
     "name": "stdout",
     "output_type": "stream",
     "text": [
      "Gradient of gamma: 2.6592067570163636e-07\n",
      "Epoch 10 - Loss: 0.6931473016738892\n",
      "Parameter name: gamma\n",
      "Parameter shape: torch.Size([])\n",
      "Parameter value: Parameter containing:\n",
      "tensor(0.2897, device='cuda:0', requires_grad=True)\n",
      "\n"
     ]
    },
    {
     "name": "stderr",
     "output_type": "stream",
     "text": [
      "\n",
      "100%|██████████████████████████████████████████| 10/10 [00:00<00:00, 499.71it/s]\n",
      " 24%|██████████▎                                | 12/50 [00:00<00:02, 18.50it/s]"
     ]
    },
    {
     "name": "stdout",
     "output_type": "stream",
     "text": [
      "Gradient of gamma: 2.50680443514284e-07\n",
      "Epoch 11 - Loss: 0.6931473016738892\n",
      "Parameter name: gamma\n",
      "Parameter shape: torch.Size([])\n",
      "Parameter value: Parameter containing:\n",
      "tensor(0.2549, device='cuda:0', requires_grad=True)\n",
      "\n"
     ]
    },
    {
     "name": "stderr",
     "output_type": "stream",
     "text": [
      "\n",
      "100%|██████████████████████████████████████████| 10/10 [00:00<00:00, 482.48it/s]\n"
     ]
    },
    {
     "name": "stdout",
     "output_type": "stream",
     "text": [
      "Gradient of gamma: 2.3925059622342815e-07\n",
      "Epoch 12 - Loss: 0.6931473016738892\n",
      "Parameter name: gamma\n",
      "Parameter shape: torch.Size([])\n",
      "Parameter value: Parameter containing:\n",
      "tensor(0.2228, device='cuda:0', requires_grad=True)\n",
      "\n"
     ]
    },
    {
     "name": "stderr",
     "output_type": "stream",
     "text": [
      "\n",
      "100%|██████████████████████████████████████████| 10/10 [00:00<00:00, 467.21it/s]\n",
      " 28%|████████████                               | 14/50 [00:00<00:01, 18.47it/s]"
     ]
    },
    {
     "name": "stdout",
     "output_type": "stream",
     "text": [
      "Gradient of gamma: 2.2801566501584603e-07\n",
      "Epoch 13 - Loss: 0.6931473016738892\n",
      "Parameter name: gamma\n",
      "Parameter shape: torch.Size([])\n",
      "Parameter value: Parameter containing:\n",
      "tensor(0.1929, device='cuda:0', requires_grad=True)\n",
      "\n"
     ]
    },
    {
     "name": "stderr",
     "output_type": "stream",
     "text": [
      "\n",
      "100%|██████████████████████████████████████████| 10/10 [00:00<00:00, 464.16it/s]\n"
     ]
    },
    {
     "name": "stdout",
     "output_type": "stream",
     "text": [
      "Gradient of gamma: 2.195885002720388e-07\n",
      "Epoch 14 - Loss: 0.6931473016738892\n",
      "Parameter name: gamma\n",
      "Parameter shape: torch.Size([])\n",
      "Parameter value: Parameter containing:\n",
      "tensor(0.1651, device='cuda:0', requires_grad=True)\n",
      "\n"
     ]
    },
    {
     "name": "stderr",
     "output_type": "stream",
     "text": [
      "\n",
      "100%|██████████████████████████████████████████| 10/10 [00:00<00:00, 455.17it/s]\n",
      " 32%|█████████████▊                             | 16/50 [00:00<00:01, 18.35it/s]"
     ]
    },
    {
     "name": "stdout",
     "output_type": "stream",
     "text": [
      "Gradient of gamma: 1.4475136822511558e-07\n",
      "Epoch 15 - Loss: 0.6931472420692444\n",
      "Parameter name: gamma\n",
      "Parameter shape: torch.Size([])\n",
      "Parameter value: Parameter containing:\n",
      "tensor(0.1395, device='cuda:0', requires_grad=True)\n",
      "\n"
     ]
    },
    {
     "name": "stderr",
     "output_type": "stream",
     "text": [
      "\n",
      "100%|██████████████████████████████████████████| 10/10 [00:00<00:00, 438.50it/s]\n"
     ]
    },
    {
     "name": "stdout",
     "output_type": "stream",
     "text": [
      "Gradient of gamma: 1.4054428731924418e-07\n",
      "Epoch 16 - Loss: 0.6931472420692444\n",
      "Parameter name: gamma\n",
      "Parameter shape: torch.Size([])\n",
      "Parameter value: Parameter containing:\n",
      "tensor(0.1157, device='cuda:0', requires_grad=True)\n",
      "\n"
     ]
    },
    {
     "name": "stderr",
     "output_type": "stream",
     "text": [
      "\n",
      "100%|██████████████████████████████████████████| 10/10 [00:00<00:00, 478.99it/s]\n",
      " 36%|███████████████▍                           | 18/50 [00:00<00:01, 18.27it/s]"
     ]
    },
    {
     "name": "stdout",
     "output_type": "stream",
     "text": [
      "Gradient of gamma: 1.3644307728100102e-07\n",
      "Epoch 17 - Loss: 0.6931472420692444\n",
      "Parameter name: gamma\n",
      "Parameter shape: torch.Size([])\n",
      "Parameter value: Parameter containing:\n",
      "tensor(0.0936, device='cuda:0', requires_grad=True)\n",
      "\n"
     ]
    },
    {
     "name": "stderr",
     "output_type": "stream",
     "text": [
      "\n",
      "100%|██████████████████████████████████████████| 10/10 [00:00<00:00, 477.25it/s]\n"
     ]
    },
    {
     "name": "stdout",
     "output_type": "stream",
     "text": [
      "Gradient of gamma: 1.333888661747551e-07\n",
      "Epoch 18 - Loss: 0.6931472420692444\n",
      "Parameter name: gamma\n",
      "Parameter shape: torch.Size([])\n",
      "Parameter value: Parameter containing:\n",
      "tensor(0.0730, device='cuda:0', requires_grad=True)\n",
      "\n"
     ]
    },
    {
     "name": "stderr",
     "output_type": "stream",
     "text": [
      "\n",
      "100%|██████████████████████████████████████████| 10/10 [00:00<00:00, 473.82it/s]\n",
      " 40%|█████████████████▏                         | 20/50 [00:01<00:01, 18.31it/s]"
     ]
    },
    {
     "name": "stdout",
     "output_type": "stream",
     "text": [
      "Gradient of gamma: 1.299147669442391e-07\n",
      "Epoch 19 - Loss: 0.6931472420692444\n",
      "Parameter name: gamma\n",
      "Parameter shape: torch.Size([])\n",
      "Parameter value: Parameter containing:\n",
      "tensor(0.0538, device='cuda:0', requires_grad=True)\n",
      "\n"
     ]
    },
    {
     "name": "stderr",
     "output_type": "stream",
     "text": [
      "\n",
      "100%|██████████████████████████████████████████| 10/10 [00:00<00:00, 480.75it/s]\n"
     ]
    },
    {
     "name": "stdout",
     "output_type": "stream",
     "text": [
      "Gradient of gamma: 1.273672580737184e-07\n",
      "Epoch 20 - Loss: 0.6931472420692444\n",
      "Parameter name: gamma\n",
      "Parameter shape: torch.Size([])\n",
      "Parameter value: Parameter containing:\n",
      "tensor(0.0359, device='cuda:0', requires_grad=True)\n",
      "\n"
     ]
    },
    {
     "name": "stderr",
     "output_type": "stream",
     "text": [
      "\n",
      "100%|██████████████████████████████████████████| 10/10 [00:00<00:00, 468.19it/s]\n",
      " 44%|██████████████████▉                        | 22/50 [00:01<00:01, 18.31it/s]"
     ]
    },
    {
     "name": "stdout",
     "output_type": "stream",
     "text": [
      "Gradient of gamma: 1.249831456107131e-07\n",
      "Epoch 21 - Loss: 0.6931472420692444\n",
      "Parameter name: gamma\n",
      "Parameter shape: torch.Size([])\n",
      "Parameter value: Parameter containing:\n",
      "tensor(0.0192, device='cuda:0', requires_grad=True)\n",
      "\n"
     ]
    },
    {
     "name": "stderr",
     "output_type": "stream",
     "text": [
      "\n",
      "100%|██████████████████████████████████████████| 10/10 [00:00<00:00, 469.42it/s]\n"
     ]
    },
    {
     "name": "stdout",
     "output_type": "stream",
     "text": [
      "Gradient of gamma: 1.2296476370465825e-07\n",
      "Epoch 22 - Loss: 0.6931472420692444\n",
      "Parameter name: gamma\n",
      "Parameter shape: torch.Size([])\n",
      "Parameter value: Parameter containing:\n",
      "tensor(0.0034, device='cuda:0', requires_grad=True)\n",
      "\n"
     ]
    },
    {
     "name": "stderr",
     "output_type": "stream",
     "text": [
      "\n",
      "100%|██████████████████████████████████████████| 10/10 [00:00<00:00, 466.31it/s]\n",
      " 48%|████████████████████▋                      | 24/50 [00:01<00:01, 18.33it/s]"
     ]
    },
    {
     "name": "stdout",
     "output_type": "stream",
     "text": [
      "Gradient of gamma: 9.204558892861314e-08\n",
      "Epoch 23 - Loss: 0.6931472420692444\n",
      "Parameter name: gamma\n",
      "Parameter shape: torch.Size([])\n",
      "Parameter value: Parameter containing:\n",
      "tensor(-0.0112, device='cuda:0', requires_grad=True)\n",
      "\n"
     ]
    },
    {
     "name": "stderr",
     "output_type": "stream",
     "text": [
      "\n",
      "100%|██████████████████████████████████████████| 10/10 [00:00<00:00, 467.50it/s]\n"
     ]
    },
    {
     "name": "stdout",
     "output_type": "stream",
     "text": [
      "Gradient of gamma: 9.072765294604324e-08\n",
      "Epoch 24 - Loss: 0.6931472420692444\n",
      "Parameter name: gamma\n",
      "Parameter shape: torch.Size([])\n",
      "Parameter value: Parameter containing:\n",
      "tensor(-0.0250, device='cuda:0', requires_grad=True)\n",
      "\n"
     ]
    },
    {
     "name": "stderr",
     "output_type": "stream",
     "text": [
      "\n",
      "100%|██████████████████████████████████████████| 10/10 [00:00<00:00, 484.82it/s]\n",
      " 52%|██████████████████████▎                    | 26/50 [00:01<00:01, 18.37it/s]"
     ]
    },
    {
     "name": "stdout",
     "output_type": "stream",
     "text": [
      "Gradient of gamma: 8.863075606768689e-08\n",
      "Epoch 25 - Loss: 0.6931471824645996\n",
      "Parameter name: gamma\n",
      "Parameter shape: torch.Size([])\n",
      "Parameter value: Parameter containing:\n",
      "tensor(-0.0378, device='cuda:0', requires_grad=True)\n",
      "\n"
     ]
    },
    {
     "name": "stderr",
     "output_type": "stream",
     "text": [
      "\n",
      "100%|██████████████████████████████████████████| 10/10 [00:00<00:00, 484.34it/s]\n"
     ]
    },
    {
     "name": "stdout",
     "output_type": "stream",
     "text": [
      "Gradient of gamma: 8.75541559253179e-08\n",
      "Epoch 26 - Loss: 0.6931471824645996\n",
      "Parameter name: gamma\n",
      "Parameter shape: torch.Size([])\n",
      "Parameter value: Parameter containing:\n",
      "tensor(-0.0498, device='cuda:0', requires_grad=True)\n",
      "\n"
     ]
    },
    {
     "name": "stderr",
     "output_type": "stream",
     "text": [
      "\n",
      "100%|██████████████████████████████████████████| 10/10 [00:00<00:00, 454.41it/s]\n",
      " 56%|████████████████████████                   | 28/50 [00:01<00:01, 18.39it/s]"
     ]
    },
    {
     "name": "stdout",
     "output_type": "stream",
     "text": [
      "Gradient of gamma: 8.659864647597715e-08\n",
      "Epoch 27 - Loss: 0.6931471824645996\n",
      "Parameter name: gamma\n",
      "Parameter shape: torch.Size([])\n",
      "Parameter value: Parameter containing:\n",
      "tensor(-0.0612, device='cuda:0', requires_grad=True)\n",
      "\n"
     ]
    },
    {
     "name": "stderr",
     "output_type": "stream",
     "text": [
      "\n",
      "100%|██████████████████████████████████████████| 10/10 [00:00<00:00, 460.88it/s]\n"
     ]
    },
    {
     "name": "stdout",
     "output_type": "stream",
     "text": [
      "Gradient of gamma: 8.570602005875116e-08\n",
      "Epoch 28 - Loss: 0.6931471824645996\n",
      "Parameter name: gamma\n",
      "Parameter shape: torch.Size([])\n",
      "Parameter value: Parameter containing:\n",
      "tensor(-0.0718, device='cuda:0', requires_grad=True)\n",
      "\n"
     ]
    },
    {
     "name": "stderr",
     "output_type": "stream",
     "text": [
      "\n",
      "100%|██████████████████████████████████████████| 10/10 [00:00<00:00, 455.77it/s]\n",
      " 60%|█████████████████████████▊                 | 30/50 [00:01<00:01, 18.32it/s]"
     ]
    },
    {
     "name": "stdout",
     "output_type": "stream",
     "text": [
      "Gradient of gamma: 8.470844647945341e-08\n",
      "Epoch 29 - Loss: 0.6931471824645996\n",
      "Parameter name: gamma\n",
      "Parameter shape: torch.Size([])\n",
      "Parameter value: Parameter containing:\n",
      "tensor(-0.0819, device='cuda:0', requires_grad=True)\n",
      "\n"
     ]
    },
    {
     "name": "stderr",
     "output_type": "stream",
     "text": [
      "\n",
      "100%|██████████████████████████████████████████| 10/10 [00:00<00:00, 464.62it/s]\n"
     ]
    },
    {
     "name": "stdout",
     "output_type": "stream",
     "text": [
      "Gradient of gamma: 8.309603316547509e-08\n",
      "Epoch 30 - Loss: 0.6931471824645996\n",
      "Parameter name: gamma\n",
      "Parameter shape: torch.Size([])\n",
      "Parameter value: Parameter containing:\n",
      "tensor(-0.0914, device='cuda:0', requires_grad=True)\n",
      "\n"
     ]
    },
    {
     "name": "stderr",
     "output_type": "stream",
     "text": [
      "\n",
      "100%|██████████████████████████████████████████| 10/10 [00:00<00:00, 469.74it/s]\n",
      " 64%|███████████████████████████▌               | 32/50 [00:01<00:00, 18.35it/s]"
     ]
    },
    {
     "name": "stdout",
     "output_type": "stream",
     "text": [
      "Gradient of gamma: 8.234612636215388e-08\n",
      "Epoch 31 - Loss: 0.6931471824645996\n",
      "Parameter name: gamma\n",
      "Parameter shape: torch.Size([])\n",
      "Parameter value: Parameter containing:\n",
      "tensor(-0.1004, device='cuda:0', requires_grad=True)\n",
      "\n"
     ]
    },
    {
     "name": "stderr",
     "output_type": "stream",
     "text": [
      "\n",
      "100%|██████████████████████████████████████████| 10/10 [00:00<00:00, 454.66it/s]\n"
     ]
    },
    {
     "name": "stdout",
     "output_type": "stream",
     "text": [
      "Gradient of gamma: 8.227424785900439e-08\n",
      "Epoch 32 - Loss: 0.6931471824645996\n",
      "Parameter name: gamma\n",
      "Parameter shape: torch.Size([])\n",
      "Parameter value: Parameter containing:\n",
      "tensor(-0.1090, device='cuda:0', requires_grad=True)\n",
      "\n"
     ]
    },
    {
     "name": "stderr",
     "output_type": "stream",
     "text": [
      "\n",
      "100%|██████████████████████████████████████████| 10/10 [00:00<00:00, 454.82it/s]\n",
      " 68%|█████████████████████████████▏             | 34/50 [00:01<00:00, 18.23it/s]"
     ]
    },
    {
     "name": "stdout",
     "output_type": "stream",
     "text": [
      "Gradient of gamma: 8.147004848524375e-08\n",
      "Epoch 33 - Loss: 0.6931471824645996\n",
      "Parameter name: gamma\n",
      "Parameter shape: torch.Size([])\n",
      "Parameter value: Parameter containing:\n",
      "tensor(-0.1171, device='cuda:0', requires_grad=True)\n",
      "\n"
     ]
    },
    {
     "name": "stderr",
     "output_type": "stream",
     "text": [
      "\n",
      "100%|██████████████████████████████████████████| 10/10 [00:00<00:00, 427.83it/s]\n"
     ]
    },
    {
     "name": "stdout",
     "output_type": "stream",
     "text": [
      "Gradient of gamma: 8.448625976598123e-08\n",
      "Epoch 34 - Loss: 0.6931471824645996\n",
      "Parameter name: gamma\n",
      "Parameter shape: torch.Size([])\n",
      "Parameter value: Parameter containing:\n",
      "tensor(-0.1249, device='cuda:0', requires_grad=True)\n",
      "\n"
     ]
    },
    {
     "name": "stderr",
     "output_type": "stream",
     "text": [
      "\n",
      "100%|██████████████████████████████████████████| 10/10 [00:00<00:00, 458.98it/s]\n",
      " 72%|██████████████████████████████▉            | 36/50 [00:01<00:00, 18.06it/s]"
     ]
    },
    {
     "name": "stdout",
     "output_type": "stream",
     "text": [
      "Gradient of gamma: 8.421339714459464e-08\n",
      "Epoch 35 - Loss: 0.6931471824645996\n",
      "Parameter name: gamma\n",
      "Parameter shape: torch.Size([])\n",
      "Parameter value: Parameter containing:\n",
      "tensor(-0.1323, device='cuda:0', requires_grad=True)\n",
      "\n"
     ]
    },
    {
     "name": "stderr",
     "output_type": "stream",
     "text": [
      "\n",
      "100%|██████████████████████████████████████████| 10/10 [00:00<00:00, 466.57it/s]\n"
     ]
    },
    {
     "name": "stdout",
     "output_type": "stream",
     "text": [
      "Gradient of gamma: 8.423970143667248e-08\n",
      "Epoch 36 - Loss: 0.6931471824645996\n",
      "Parameter name: gamma\n",
      "Parameter shape: torch.Size([])\n",
      "Parameter value: Parameter containing:\n",
      "tensor(-0.1395, device='cuda:0', requires_grad=True)\n",
      "\n"
     ]
    },
    {
     "name": "stderr",
     "output_type": "stream",
     "text": [
      "\n",
      "100%|██████████████████████████████████████████| 10/10 [00:00<00:00, 456.37it/s]\n",
      " 76%|████████████████████████████████▋          | 38/50 [00:02<00:00, 18.13it/s]"
     ]
    },
    {
     "name": "stdout",
     "output_type": "stream",
     "text": [
      "Gradient of gamma: 8.264565565241355e-08\n",
      "Epoch 37 - Loss: 0.6931471824645996\n",
      "Parameter name: gamma\n",
      "Parameter shape: torch.Size([])\n",
      "Parameter value: Parameter containing:\n",
      "tensor(-0.1464, device='cuda:0', requires_grad=True)\n",
      "\n"
     ]
    },
    {
     "name": "stderr",
     "output_type": "stream",
     "text": [
      "\n",
      "100%|██████████████████████████████████████████| 10/10 [00:00<00:00, 455.36it/s]\n"
     ]
    },
    {
     "name": "stdout",
     "output_type": "stream",
     "text": [
      "Gradient of gamma: 8.315363686506316e-08\n",
      "Epoch 38 - Loss: 0.6931471824645996\n",
      "Parameter name: gamma\n",
      "Parameter shape: torch.Size([])\n",
      "Parameter value: Parameter containing:\n",
      "tensor(-0.1531, device='cuda:0', requires_grad=True)\n",
      "\n"
     ]
    },
    {
     "name": "stderr",
     "output_type": "stream",
     "text": [
      "\n",
      "100%|██████████████████████████████████████████| 10/10 [00:00<00:00, 453.55it/s]\n",
      " 80%|██████████████████████████████████▍        | 40/50 [00:02<00:00, 18.15it/s]"
     ]
    },
    {
     "name": "stdout",
     "output_type": "stream",
     "text": [
      "Gradient of gamma: 8.249647009961336e-08\n",
      "Epoch 39 - Loss: 0.6931471824645996\n",
      "Parameter name: gamma\n",
      "Parameter shape: torch.Size([])\n",
      "Parameter value: Parameter containing:\n",
      "tensor(-0.1595, device='cuda:0', requires_grad=True)\n",
      "\n"
     ]
    },
    {
     "name": "stderr",
     "output_type": "stream",
     "text": [
      "\n",
      "100%|██████████████████████████████████████████| 10/10 [00:00<00:00, 462.02it/s]\n"
     ]
    },
    {
     "name": "stdout",
     "output_type": "stream",
     "text": [
      "Gradient of gamma: 8.26541111109691e-08\n",
      "Epoch 40 - Loss: 0.6931471824645996\n",
      "Parameter name: gamma\n",
      "Parameter shape: torch.Size([])\n",
      "Parameter value: Parameter containing:\n",
      "tensor(-0.1658, device='cuda:0', requires_grad=True)\n",
      "\n"
     ]
    },
    {
     "name": "stderr",
     "output_type": "stream",
     "text": [
      "\n",
      "100%|██████████████████████████████████████████| 10/10 [00:00<00:00, 473.78it/s]\n",
      " 84%|████████████████████████████████████       | 42/50 [00:02<00:00, 18.16it/s]"
     ]
    },
    {
     "name": "stdout",
     "output_type": "stream",
     "text": [
      "Gradient of gamma: 8.260320072395189e-08\n",
      "Epoch 41 - Loss: 0.6931471824645996\n",
      "Parameter name: gamma\n",
      "Parameter shape: torch.Size([])\n",
      "Parameter value: Parameter containing:\n",
      "tensor(-0.1718, device='cuda:0', requires_grad=True)\n",
      "\n"
     ]
    },
    {
     "name": "stderr",
     "output_type": "stream",
     "text": [
      "\n",
      "100%|██████████████████████████████████████████| 10/10 [00:00<00:00, 474.06it/s]\n"
     ]
    },
    {
     "name": "stdout",
     "output_type": "stream",
     "text": [
      "Gradient of gamma: 8.20162000536584e-08\n",
      "Epoch 42 - Loss: 0.6931471824645996\n",
      "Parameter name: gamma\n",
      "Parameter shape: torch.Size([])\n",
      "Parameter value: Parameter containing:\n",
      "tensor(-0.1778, device='cuda:0', requires_grad=True)\n",
      "\n"
     ]
    },
    {
     "name": "stderr",
     "output_type": "stream",
     "text": [
      "\n",
      "100%|██████████████████████████████████████████| 10/10 [00:00<00:00, 462.18it/s]\n",
      " 88%|█████████████████████████████████████▊     | 44/50 [00:02<00:00, 18.18it/s]"
     ]
    },
    {
     "name": "stdout",
     "output_type": "stream",
     "text": [
      "Gradient of gamma: 8.19538570340228e-08\n",
      "Epoch 43 - Loss: 0.6931471824645996\n",
      "Parameter name: gamma\n",
      "Parameter shape: torch.Size([])\n",
      "Parameter value: Parameter containing:\n",
      "tensor(-0.1835, device='cuda:0', requires_grad=True)\n",
      "\n"
     ]
    },
    {
     "name": "stderr",
     "output_type": "stream",
     "text": [
      "\n",
      "100%|██████████████████████████████████████████| 10/10 [00:00<00:00, 493.71it/s]\n"
     ]
    },
    {
     "name": "stdout",
     "output_type": "stream",
     "text": [
      "Gradient of gamma: 8.279518937115427e-08\n",
      "Epoch 44 - Loss: 0.6931471824645996\n",
      "Parameter name: gamma\n",
      "Parameter shape: torch.Size([])\n",
      "Parameter value: Parameter containing:\n",
      "tensor(-0.1892, device='cuda:0', requires_grad=True)\n",
      "\n"
     ]
    },
    {
     "name": "stderr",
     "output_type": "stream",
     "text": [
      "\n",
      "100%|██████████████████████████████████████████| 10/10 [00:00<00:00, 475.78it/s]\n",
      " 92%|███████████████████████████████████████▌   | 46/50 [00:02<00:00, 18.14it/s]"
     ]
    },
    {
     "name": "stdout",
     "output_type": "stream",
     "text": [
      "Gradient of gamma: 8.287791075645146e-08\n",
      "Epoch 45 - Loss: 0.6931471824645996\n",
      "Parameter name: gamma\n",
      "Parameter shape: torch.Size([])\n",
      "Parameter value: Parameter containing:\n",
      "tensor(-0.1947, device='cuda:0', requires_grad=True)\n",
      "\n"
     ]
    },
    {
     "name": "stderr",
     "output_type": "stream",
     "text": [
      "\n",
      "100%|██████████████████████████████████████████| 10/10 [00:00<00:00, 480.30it/s]\n"
     ]
    },
    {
     "name": "stdout",
     "output_type": "stream",
     "text": [
      "Gradient of gamma: 8.22787029619576e-08\n",
      "Epoch 46 - Loss: 0.6931471824645996\n",
      "Parameter name: gamma\n",
      "Parameter shape: torch.Size([])\n",
      "Parameter value: Parameter containing:\n",
      "tensor(-0.2002, device='cuda:0', requires_grad=True)\n",
      "\n"
     ]
    },
    {
     "name": "stderr",
     "output_type": "stream",
     "text": [
      "\n",
      "100%|██████████████████████████████████████████| 10/10 [00:00<00:00, 470.54it/s]\n",
      " 96%|█████████████████████████████████████████▎ | 48/50 [00:02<00:00, 18.15it/s]"
     ]
    },
    {
     "name": "stdout",
     "output_type": "stream",
     "text": [
      "Gradient of gamma: 8.221258696039513e-08\n",
      "Epoch 47 - Loss: 0.6931471824645996\n",
      "Parameter name: gamma\n",
      "Parameter shape: torch.Size([])\n",
      "Parameter value: Parameter containing:\n",
      "tensor(-0.2056, device='cuda:0', requires_grad=True)\n",
      "\n"
     ]
    },
    {
     "name": "stderr",
     "output_type": "stream",
     "text": [
      "\n",
      "100%|██████████████████████████████████████████| 10/10 [00:00<00:00, 469.08it/s]\n"
     ]
    },
    {
     "name": "stdout",
     "output_type": "stream",
     "text": [
      "Gradient of gamma: 8.224194658623674e-08\n",
      "Epoch 48 - Loss: 0.6931471824645996\n",
      "Parameter name: gamma\n",
      "Parameter shape: torch.Size([])\n",
      "Parameter value: Parameter containing:\n",
      "tensor(-0.2109, device='cuda:0', requires_grad=True)\n",
      "\n"
     ]
    },
    {
     "name": "stderr",
     "output_type": "stream",
     "text": [
      "\n",
      "100%|██████████████████████████████████████████| 10/10 [00:00<00:00, 472.74it/s]\n",
      "100%|███████████████████████████████████████████| 50/50 [00:02<00:00, 18.21it/s]\n"
     ]
    },
    {
     "name": "stdout",
     "output_type": "stream",
     "text": [
      "Gradient of gamma: 8.199859280466626e-08\n",
      "Epoch 49 - Loss: 0.6931471824645996\n",
      "Parameter name: gamma\n",
      "Parameter shape: torch.Size([])\n",
      "Parameter value: Parameter containing:\n",
      "tensor(-0.2161, device='cuda:0', requires_grad=True)\n",
      "\n"
     ]
    },
    {
     "name": "stderr",
     "output_type": "stream",
     "text": [
      "  0%|                                                    | 0/50 [00:00<?, ?it/s]\n",
      "100%|██████████████████████████████████████████| 10/10 [00:00<00:00, 406.12it/s]\n"
     ]
    },
    {
     "name": "stdout",
     "output_type": "stream",
     "text": [
      "Gradient of gamma: 5.953386425971985e-05\n",
      "Epoch 0 - Loss: 0.693157434463501\n",
      "Parameter name: gamma\n",
      "Parameter shape: torch.Size([])\n",
      "Parameter value: Parameter containing:\n",
      "tensor(0.9000, device='cuda:0', requires_grad=True)\n",
      "\n"
     ]
    },
    {
     "name": "stderr",
     "output_type": "stream",
     "text": [
      "\n",
      "100%|██████████████████████████████████████████| 10/10 [00:00<00:00, 441.47it/s]\n",
      "  4%|█▊                                          | 2/50 [00:00<00:02, 16.92it/s]"
     ]
    },
    {
     "name": "stdout",
     "output_type": "stream",
     "text": [
      "Gradient of gamma: 3.080139867961407e-05\n",
      "Epoch 1 - Loss: 0.6931530237197876\n",
      "Parameter name: gamma\n",
      "Parameter shape: torch.Size([])\n",
      "Parameter value: Parameter containing:\n",
      "tensor(0.8063, device='cuda:0', requires_grad=True)\n",
      "\n"
     ]
    },
    {
     "name": "stderr",
     "output_type": "stream",
     "text": [
      "\n",
      "100%|██████████████████████████████████████████| 10/10 [00:00<00:00, 442.77it/s]\n"
     ]
    },
    {
     "name": "stdout",
     "output_type": "stream",
     "text": [
      "Gradient of gamma: 1.6592908650636673e-05\n",
      "Epoch 2 - Loss: 0.6931509971618652\n",
      "Parameter name: gamma\n",
      "Parameter shape: torch.Size([])\n",
      "Parameter value: Parameter containing:\n",
      "tensor(0.7207, device='cuda:0', requires_grad=True)\n",
      "\n"
     ]
    },
    {
     "name": "stderr",
     "output_type": "stream",
     "text": [
      "\n",
      "100%|██████████████████████████████████████████| 10/10 [00:00<00:00, 494.27it/s]\n",
      "  8%|███▌                                        | 4/50 [00:00<00:02, 17.39it/s]"
     ]
    },
    {
     "name": "stdout",
     "output_type": "stream",
     "text": [
      "Gradient of gamma: 9.54564893618226e-06\n",
      "Epoch 3 - Loss: 0.6931498050689697\n",
      "Parameter name: gamma\n",
      "Parameter shape: torch.Size([])\n",
      "Parameter value: Parameter containing:\n",
      "tensor(0.6432, device='cuda:0', requires_grad=True)\n",
      "\n"
     ]
    },
    {
     "name": "stderr",
     "output_type": "stream",
     "text": [
      "\n",
      "100%|██████████████████████████████████████████| 10/10 [00:00<00:00, 481.13it/s]\n"
     ]
    },
    {
     "name": "stdout",
     "output_type": "stream",
     "text": [
      "Gradient of gamma: 6.022368324920535e-06\n",
      "Epoch 4 - Loss: 0.6931492686271667\n",
      "Parameter name: gamma\n",
      "Parameter shape: torch.Size([])\n",
      "Parameter value: Parameter containing:\n",
      "tensor(0.5733, device='cuda:0', requires_grad=True)\n",
      "\n"
     ]
    },
    {
     "name": "stderr",
     "output_type": "stream",
     "text": [
      "\n",
      "100%|██████████████████████████████████████████| 10/10 [00:00<00:00, 478.86it/s]\n",
      " 12%|█████▎                                      | 6/50 [00:00<00:02, 17.78it/s]"
     ]
    },
    {
     "name": "stdout",
     "output_type": "stream",
     "text": [
      "Gradient of gamma: 4.121844540350139e-06\n",
      "Epoch 5 - Loss: 0.6931488513946533\n",
      "Parameter name: gamma\n",
      "Parameter shape: torch.Size([])\n",
      "Parameter value: Parameter containing:\n",
      "tensor(0.5100, device='cuda:0', requires_grad=True)\n",
      "\n"
     ]
    },
    {
     "name": "stderr",
     "output_type": "stream",
     "text": [
      "\n",
      "100%|██████████████████████████████████████████| 10/10 [00:00<00:00, 470.74it/s]\n"
     ]
    },
    {
     "name": "stdout",
     "output_type": "stream",
     "text": [
      "Gradient of gamma: 3.168403054587543e-06\n",
      "Epoch 6 - Loss: 0.693148672580719\n",
      "Parameter name: gamma\n",
      "Parameter shape: torch.Size([])\n",
      "Parameter value: Parameter containing:\n",
      "tensor(0.4526, device='cuda:0', requires_grad=True)\n",
      "\n"
     ]
    },
    {
     "name": "stderr",
     "output_type": "stream",
     "text": [
      "\n",
      "100%|██████████████████████████████████████████| 10/10 [00:00<00:00, 463.87it/s]\n",
      " 16%|███████                                     | 8/50 [00:00<00:02, 17.97it/s]"
     ]
    },
    {
     "name": "stdout",
     "output_type": "stream",
     "text": [
      "Gradient of gamma: 2.521212081774138e-06\n",
      "Epoch 7 - Loss: 0.6931486129760742\n",
      "Parameter name: gamma\n",
      "Parameter shape: torch.Size([])\n",
      "Parameter value: Parameter containing:\n",
      "tensor(0.4002, device='cuda:0', requires_grad=True)\n",
      "\n"
     ]
    },
    {
     "name": "stderr",
     "output_type": "stream",
     "text": [
      "\n",
      "100%|██████████████████████████████████████████| 10/10 [00:00<00:00, 463.23it/s]\n"
     ]
    },
    {
     "name": "stdout",
     "output_type": "stream",
     "text": [
      "Gradient of gamma: 2.003135250561172e-06\n",
      "Epoch 8 - Loss: 0.6931484341621399\n",
      "Parameter name: gamma\n",
      "Parameter shape: torch.Size([])\n",
      "Parameter value: Parameter containing:\n",
      "tensor(0.3522, device='cuda:0', requires_grad=True)\n",
      "\n"
     ]
    },
    {
     "name": "stderr",
     "output_type": "stream",
     "text": [
      "\n",
      "100%|██████████████████████████████████████████| 10/10 [00:00<00:00, 477.34it/s]\n",
      " 20%|████████▌                                  | 10/50 [00:00<00:02, 18.05it/s]"
     ]
    },
    {
     "name": "stdout",
     "output_type": "stream",
     "text": [
      "Gradient of gamma: 1.7507153415863286e-06\n",
      "Epoch 9 - Loss: 0.6931483149528503\n",
      "Parameter name: gamma\n",
      "Parameter shape: torch.Size([])\n",
      "Parameter value: Parameter containing:\n",
      "tensor(0.3083, device='cuda:0', requires_grad=True)\n",
      "\n"
     ]
    },
    {
     "name": "stderr",
     "output_type": "stream",
     "text": [
      "\n",
      "100%|██████████████████████████████████████████| 10/10 [00:00<00:00, 457.09it/s]\n"
     ]
    },
    {
     "name": "stdout",
     "output_type": "stream",
     "text": [
      "Gradient of gamma: 1.5304850649044965e-06\n",
      "Epoch 10 - Loss: 0.6931482553482056\n",
      "Parameter name: gamma\n",
      "Parameter shape: torch.Size([])\n",
      "Parameter value: Parameter containing:\n",
      "tensor(0.2679, device='cuda:0', requires_grad=True)\n",
      "\n"
     ]
    },
    {
     "name": "stderr",
     "output_type": "stream",
     "text": [
      "\n",
      "100%|██████████████████████████████████████████| 10/10 [00:00<00:00, 463.41it/s]\n",
      " 24%|██████████▎                                | 12/50 [00:00<00:02, 18.01it/s]"
     ]
    },
    {
     "name": "stdout",
     "output_type": "stream",
     "text": [
      "Gradient of gamma: 1.4247827948565828e-06\n",
      "Epoch 11 - Loss: 0.6931481957435608\n",
      "Parameter name: gamma\n",
      "Parameter shape: torch.Size([])\n",
      "Parameter value: Parameter containing:\n",
      "tensor(0.2305, device='cuda:0', requires_grad=True)\n",
      "\n"
     ]
    },
    {
     "name": "stderr",
     "output_type": "stream",
     "text": [
      "\n",
      "100%|██████████████████████████████████████████| 10/10 [00:00<00:00, 469.21it/s]\n"
     ]
    },
    {
     "name": "stdout",
     "output_type": "stream",
     "text": [
      "Gradient of gamma: 1.239836592503707e-06\n",
      "Epoch 12 - Loss: 0.693148136138916\n",
      "Parameter name: gamma\n",
      "Parameter shape: torch.Size([])\n",
      "Parameter value: Parameter containing:\n",
      "tensor(0.1960, device='cuda:0', requires_grad=True)\n",
      "\n"
     ]
    },
    {
     "name": "stderr",
     "output_type": "stream",
     "text": [
      "\n",
      "100%|██████████████████████████████████████████| 10/10 [00:00<00:00, 472.85it/s]\n",
      " 28%|████████████                               | 14/50 [00:00<00:01, 18.06it/s]"
     ]
    },
    {
     "name": "stdout",
     "output_type": "stream",
     "text": [
      "Gradient of gamma: 1.1129111499030842e-06\n",
      "Epoch 13 - Loss: 0.693148136138916\n",
      "Parameter name: gamma\n",
      "Parameter shape: torch.Size([])\n",
      "Parameter value: Parameter containing:\n",
      "tensor(0.1641, device='cuda:0', requires_grad=True)\n",
      "\n"
     ]
    },
    {
     "name": "stderr",
     "output_type": "stream",
     "text": [
      "\n",
      "100%|██████████████████████████████████████████| 10/10 [00:00<00:00, 465.86it/s]\n"
     ]
    },
    {
     "name": "stdout",
     "output_type": "stream",
     "text": [
      "Gradient of gamma: 1.0695384844439104e-06\n",
      "Epoch 14 - Loss: 0.693148136138916\n",
      "Parameter name: gamma\n",
      "Parameter shape: torch.Size([])\n",
      "Parameter value: Parameter containing:\n",
      "tensor(0.1345, device='cuda:0', requires_grad=True)\n",
      "\n"
     ]
    },
    {
     "name": "stderr",
     "output_type": "stream",
     "text": [
      "\n",
      "100%|██████████████████████████████████████████| 10/10 [00:00<00:00, 443.42it/s]\n",
      " 32%|█████████████▊                             | 16/50 [00:00<00:01, 18.03it/s]"
     ]
    },
    {
     "name": "stdout",
     "output_type": "stream",
     "text": [
      "Gradient of gamma: 1.0325419452783535e-06\n",
      "Epoch 15 - Loss: 0.6931480169296265\n",
      "Parameter name: gamma\n",
      "Parameter shape: torch.Size([])\n",
      "Parameter value: Parameter containing:\n",
      "tensor(0.1069, device='cuda:0', requires_grad=True)\n",
      "\n"
     ]
    },
    {
     "name": "stderr",
     "output_type": "stream",
     "text": [
      "\n",
      "100%|██████████████████████████████████████████| 10/10 [00:00<00:00, 463.72it/s]\n"
     ]
    },
    {
     "name": "stdout",
     "output_type": "stream",
     "text": [
      "Gradient of gamma: 9.005320293908881e-07\n",
      "Epoch 16 - Loss: 0.6931480169296265\n",
      "Parameter name: gamma\n",
      "Parameter shape: torch.Size([])\n",
      "Parameter value: Parameter containing:\n",
      "tensor(0.0812, device='cuda:0', requires_grad=True)\n",
      "\n"
     ]
    },
    {
     "name": "stderr",
     "output_type": "stream",
     "text": [
      "\n",
      "100%|██████████████████████████████████████████| 10/10 [00:00<00:00, 464.50it/s]\n",
      " 36%|███████████████▍                           | 18/50 [00:01<00:01, 18.02it/s]"
     ]
    },
    {
     "name": "stdout",
     "output_type": "stream",
     "text": [
      "Gradient of gamma: 8.43879320200358e-07\n",
      "Epoch 17 - Loss: 0.6931480169296265\n",
      "Parameter name: gamma\n",
      "Parameter shape: torch.Size([])\n",
      "Parameter value: Parameter containing:\n",
      "tensor(0.0573, device='cuda:0', requires_grad=True)\n",
      "\n"
     ]
    },
    {
     "name": "stderr",
     "output_type": "stream",
     "text": [
      "\n",
      "100%|██████████████████████████████████████████| 10/10 [00:00<00:00, 467.75it/s]\n"
     ]
    },
    {
     "name": "stdout",
     "output_type": "stream",
     "text": [
      "Gradient of gamma: 8.247469622801873e-07\n",
      "Epoch 18 - Loss: 0.6931480169296265\n",
      "Parameter name: gamma\n",
      "Parameter shape: torch.Size([])\n",
      "Parameter value: Parameter containing:\n",
      "tensor(0.0350, device='cuda:0', requires_grad=True)\n",
      "\n"
     ]
    },
    {
     "name": "stderr",
     "output_type": "stream",
     "text": [
      "\n",
      "100%|██████████████████████████████████████████| 10/10 [00:00<00:00, 487.06it/s]\n",
      " 40%|█████████████████▏                         | 20/50 [00:01<00:01, 18.03it/s]"
     ]
    },
    {
     "name": "stdout",
     "output_type": "stream",
     "text": [
      "Gradient of gamma: 8.030311846596305e-07\n",
      "Epoch 19 - Loss: 0.6931478977203369\n",
      "Parameter name: gamma\n",
      "Parameter shape: torch.Size([])\n",
      "Parameter value: Parameter containing:\n",
      "tensor(0.0142, device='cuda:0', requires_grad=True)\n",
      "\n"
     ]
    },
    {
     "name": "stderr",
     "output_type": "stream",
     "text": [
      "\n",
      "100%|██████████████████████████████████████████| 10/10 [00:00<00:00, 414.76it/s]\n"
     ]
    },
    {
     "name": "stdout",
     "output_type": "stream",
     "text": [
      "Gradient of gamma: 7.250569638017623e-07\n",
      "Epoch 20 - Loss: 0.6931480169296265\n",
      "Parameter name: gamma\n",
      "Parameter shape: torch.Size([])\n",
      "Parameter value: Parameter containing:\n",
      "tensor(-0.0054, device='cuda:0', requires_grad=True)\n",
      "\n"
     ]
    },
    {
     "name": "stderr",
     "output_type": "stream",
     "text": [
      "\n",
      "100%|██████████████████████████████████████████| 10/10 [00:00<00:00, 460.60it/s]\n",
      " 44%|██████████████████▉                        | 22/50 [00:01<00:01, 17.95it/s]"
     ]
    },
    {
     "name": "stdout",
     "output_type": "stream",
     "text": [
      "Gradient of gamma: 7.114598474800005e-07\n",
      "Epoch 21 - Loss: 0.6931478977203369\n",
      "Parameter name: gamma\n",
      "Parameter shape: torch.Size([])\n",
      "Parameter value: Parameter containing:\n",
      "tensor(-0.0237, device='cuda:0', requires_grad=True)\n",
      "\n"
     ]
    },
    {
     "name": "stderr",
     "output_type": "stream",
     "text": [
      "\n",
      "100%|██████████████████████████████████████████| 10/10 [00:00<00:00, 485.52it/s]\n"
     ]
    },
    {
     "name": "stdout",
     "output_type": "stream",
     "text": [
      "Gradient of gamma: 6.987223741816706e-07\n",
      "Epoch 22 - Loss: 0.6931478977203369\n",
      "Parameter name: gamma\n",
      "Parameter shape: torch.Size([])\n",
      "Parameter value: Parameter containing:\n",
      "tensor(-0.0408, device='cuda:0', requires_grad=True)\n",
      "\n"
     ]
    },
    {
     "name": "stderr",
     "output_type": "stream",
     "text": [
      "\n",
      "100%|██████████████████████████████████████████| 10/10 [00:00<00:00, 485.15it/s]\n",
      " 48%|████████████████████▋                      | 24/50 [00:01<00:01, 18.08it/s]"
     ]
    },
    {
     "name": "stdout",
     "output_type": "stream",
     "text": [
      "Gradient of gamma: 6.884610002089175e-07\n",
      "Epoch 23 - Loss: 0.6931478977203369\n",
      "Parameter name: gamma\n",
      "Parameter shape: torch.Size([])\n",
      "Parameter value: Parameter containing:\n",
      "tensor(-0.0570, device='cuda:0', requires_grad=True)\n",
      "\n"
     ]
    },
    {
     "name": "stderr",
     "output_type": "stream",
     "text": [
      "\n",
      "100%|██████████████████████████████████████████| 10/10 [00:00<00:00, 474.65it/s]\n"
     ]
    },
    {
     "name": "stdout",
     "output_type": "stream",
     "text": [
      "Gradient of gamma: 6.484755203928216e-07\n",
      "Epoch 24 - Loss: 0.6931478977203369\n",
      "Parameter name: gamma\n",
      "Parameter shape: torch.Size([])\n",
      "Parameter value: Parameter containing:\n",
      "tensor(-0.0722, device='cuda:0', requires_grad=True)\n",
      "\n"
     ]
    },
    {
     "name": "stderr",
     "output_type": "stream",
     "text": [
      "\n",
      "100%|██████████████████████████████████████████| 10/10 [00:00<00:00, 459.98it/s]\n",
      " 52%|██████████████████████▎                    | 26/50 [00:01<00:01, 18.12it/s]"
     ]
    },
    {
     "name": "stdout",
     "output_type": "stream",
     "text": [
      "Gradient of gamma: 6.116918598308985e-07\n",
      "Epoch 25 - Loss: 0.6931478977203369\n",
      "Parameter name: gamma\n",
      "Parameter shape: torch.Size([])\n",
      "Parameter value: Parameter containing:\n",
      "tensor(-0.0866, device='cuda:0', requires_grad=True)\n",
      "\n"
     ]
    },
    {
     "name": "stderr",
     "output_type": "stream",
     "text": [
      "\n",
      "100%|██████████████████████████████████████████| 10/10 [00:00<00:00, 454.21it/s]\n"
     ]
    },
    {
     "name": "stdout",
     "output_type": "stream",
     "text": [
      "Gradient of gamma: 6.019629950060335e-07\n",
      "Epoch 26 - Loss: 0.6931478381156921\n",
      "Parameter name: gamma\n",
      "Parameter shape: torch.Size([])\n",
      "Parameter value: Parameter containing:\n",
      "tensor(-0.1001, device='cuda:0', requires_grad=True)\n",
      "\n"
     ]
    },
    {
     "name": "stderr",
     "output_type": "stream",
     "text": [
      "\n",
      "100%|██████████████████████████████████████████| 10/10 [00:00<00:00, 475.52it/s]\n",
      " 56%|████████████████████████                   | 28/50 [00:01<00:01, 18.13it/s]"
     ]
    },
    {
     "name": "stdout",
     "output_type": "stream",
     "text": [
      "Gradient of gamma: 5.946275791757216e-07\n",
      "Epoch 27 - Loss: 0.6931478381156921\n",
      "Parameter name: gamma\n",
      "Parameter shape: torch.Size([])\n",
      "Parameter value: Parameter containing:\n",
      "tensor(-0.1129, device='cuda:0', requires_grad=True)\n",
      "\n"
     ]
    },
    {
     "name": "stderr",
     "output_type": "stream",
     "text": [
      "\n",
      "100%|██████████████████████████████████████████| 10/10 [00:00<00:00, 456.82it/s]\n"
     ]
    },
    {
     "name": "stdout",
     "output_type": "stream",
     "text": [
      "Gradient of gamma: 5.897176720282005e-07\n",
      "Epoch 28 - Loss: 0.6931478381156921\n",
      "Parameter name: gamma\n",
      "Parameter shape: torch.Size([])\n",
      "Parameter value: Parameter containing:\n",
      "tensor(-0.1251, device='cuda:0', requires_grad=True)\n",
      "\n"
     ]
    },
    {
     "name": "stderr",
     "output_type": "stream",
     "text": [
      "\n",
      "100%|██████████████████████████████████████████| 10/10 [00:00<00:00, 459.36it/s]\n",
      " 60%|█████████████████████████▊                 | 30/50 [00:01<00:01, 18.16it/s]"
     ]
    },
    {
     "name": "stdout",
     "output_type": "stream",
     "text": [
      "Gradient of gamma: 5.838159040649771e-07\n",
      "Epoch 29 - Loss: 0.6931477785110474\n",
      "Parameter name: gamma\n",
      "Parameter shape: torch.Size([])\n",
      "Parameter value: Parameter containing:\n",
      "tensor(-0.1366, device='cuda:0', requires_grad=True)\n",
      "\n"
     ]
    },
    {
     "name": "stderr",
     "output_type": "stream",
     "text": [
      "\n",
      "100%|██████████████████████████████████████████| 10/10 [00:00<00:00, 446.50it/s]\n"
     ]
    },
    {
     "name": "stdout",
     "output_type": "stream",
     "text": [
      "Gradient of gamma: 5.770105531155423e-07\n",
      "Epoch 30 - Loss: 0.6931477785110474\n",
      "Parameter name: gamma\n",
      "Parameter shape: torch.Size([])\n",
      "Parameter value: Parameter containing:\n",
      "tensor(-0.1476, device='cuda:0', requires_grad=True)\n",
      "\n"
     ]
    },
    {
     "name": "stderr",
     "output_type": "stream",
     "text": [
      "\n",
      "100%|██████████████████████████████████████████| 10/10 [00:00<00:00, 466.24it/s]\n",
      " 64%|███████████████████████████▌               | 32/50 [00:01<00:00, 18.05it/s]"
     ]
    },
    {
     "name": "stdout",
     "output_type": "stream",
     "text": [
      "Gradient of gamma: 5.714945245927083e-07\n",
      "Epoch 31 - Loss: 0.6931477785110474\n",
      "Parameter name: gamma\n",
      "Parameter shape: torch.Size([])\n",
      "Parameter value: Parameter containing:\n",
      "tensor(-0.1581, device='cuda:0', requires_grad=True)\n",
      "\n"
     ]
    },
    {
     "name": "stderr",
     "output_type": "stream",
     "text": [
      "\n",
      "100%|██████████████████████████████████████████| 10/10 [00:00<00:00, 466.42it/s]\n"
     ]
    },
    {
     "name": "stdout",
     "output_type": "stream",
     "text": [
      "Gradient of gamma: 5.651723995470093e-07\n",
      "Epoch 32 - Loss: 0.6931477785110474\n",
      "Parameter name: gamma\n",
      "Parameter shape: torch.Size([])\n",
      "Parameter value: Parameter containing:\n",
      "tensor(-0.1682, device='cuda:0', requires_grad=True)\n",
      "\n"
     ]
    },
    {
     "name": "stderr",
     "output_type": "stream",
     "text": [
      "\n",
      "100%|██████████████████████████████████████████| 10/10 [00:00<00:00, 466.33it/s]\n",
      " 68%|█████████████████████████████▏             | 34/50 [00:01<00:00, 18.03it/s]"
     ]
    },
    {
     "name": "stdout",
     "output_type": "stream",
     "text": [
      "Gradient of gamma: 5.60329112886393e-07\n",
      "Epoch 33 - Loss: 0.6931477785110474\n",
      "Parameter name: gamma\n",
      "Parameter shape: torch.Size([])\n",
      "Parameter value: Parameter containing:\n",
      "tensor(-0.1778, device='cuda:0', requires_grad=True)\n",
      "\n"
     ]
    },
    {
     "name": "stderr",
     "output_type": "stream",
     "text": [
      "\n",
      "100%|██████████████████████████████████████████| 10/10 [00:00<00:00, 461.65it/s]\n"
     ]
    },
    {
     "name": "stdout",
     "output_type": "stream",
     "text": [
      "Gradient of gamma: 5.24581423633208e-07\n",
      "Epoch 34 - Loss: 0.6931477785110474\n",
      "Parameter name: gamma\n",
      "Parameter shape: torch.Size([])\n",
      "Parameter value: Parameter containing:\n",
      "tensor(-0.1870, device='cuda:0', requires_grad=True)\n",
      "\n"
     ]
    },
    {
     "name": "stderr",
     "output_type": "stream",
     "text": [
      "\n",
      "100%|██████████████████████████████████████████| 10/10 [00:00<00:00, 463.09it/s]\n",
      " 72%|██████████████████████████████▉            | 36/50 [00:01<00:00, 18.06it/s]"
     ]
    },
    {
     "name": "stdout",
     "output_type": "stream",
     "text": [
      "Gradient of gamma: 5.262540980766062e-07\n",
      "Epoch 35 - Loss: 0.6931477785110474\n",
      "Parameter name: gamma\n",
      "Parameter shape: torch.Size([])\n",
      "Parameter value: Parameter containing:\n",
      "tensor(-0.1959, device='cuda:0', requires_grad=True)\n",
      "\n"
     ]
    },
    {
     "name": "stderr",
     "output_type": "stream",
     "text": [
      "\n",
      "100%|██████████████████████████████████████████| 10/10 [00:00<00:00, 477.81it/s]\n"
     ]
    },
    {
     "name": "stdout",
     "output_type": "stream",
     "text": [
      "Gradient of gamma: 5.228499730947078e-07\n",
      "Epoch 36 - Loss: 0.6931477785110474\n",
      "Parameter name: gamma\n",
      "Parameter shape: torch.Size([])\n",
      "Parameter value: Parameter containing:\n",
      "tensor(-0.2044, device='cuda:0', requires_grad=True)\n",
      "\n"
     ]
    },
    {
     "name": "stderr",
     "output_type": "stream",
     "text": [
      "\n",
      "100%|██████████████████████████████████████████| 10/10 [00:00<00:00, 467.94it/s]\n",
      " 76%|████████████████████████████████▋          | 38/50 [00:02<00:00, 18.14it/s]"
     ]
    },
    {
     "name": "stdout",
     "output_type": "stream",
     "text": [
      "Gradient of gamma: 5.249288506092853e-07\n",
      "Epoch 37 - Loss: 0.6931477785110474\n",
      "Parameter name: gamma\n",
      "Parameter shape: torch.Size([])\n",
      "Parameter value: Parameter containing:\n",
      "tensor(-0.2127, device='cuda:0', requires_grad=True)\n",
      "\n"
     ]
    },
    {
     "name": "stderr",
     "output_type": "stream",
     "text": [
      "\n",
      "100%|██████████████████████████████████████████| 10/10 [00:00<00:00, 433.38it/s]\n"
     ]
    },
    {
     "name": "stdout",
     "output_type": "stream",
     "text": [
      "Gradient of gamma: 4.912290592073987e-07\n",
      "Epoch 38 - Loss: 0.6931477785110474\n",
      "Parameter name: gamma\n",
      "Parameter shape: torch.Size([])\n",
      "Parameter value: Parameter containing:\n",
      "tensor(-0.2206, device='cuda:0', requires_grad=True)\n",
      "\n"
     ]
    },
    {
     "name": "stderr",
     "output_type": "stream",
     "text": [
      "\n",
      "100%|██████████████████████████████████████████| 10/10 [00:00<00:00, 488.15it/s]\n",
      " 80%|██████████████████████████████████▍        | 40/50 [00:02<00:00, 18.08it/s]"
     ]
    },
    {
     "name": "stdout",
     "output_type": "stream",
     "text": [
      "Gradient of gamma: 4.883407882516622e-07\n",
      "Epoch 39 - Loss: 0.6931477785110474\n",
      "Parameter name: gamma\n",
      "Parameter shape: torch.Size([])\n",
      "Parameter value: Parameter containing:\n",
      "tensor(-0.2283, device='cuda:0', requires_grad=True)\n",
      "\n"
     ]
    },
    {
     "name": "stderr",
     "output_type": "stream",
     "text": [
      "\n",
      "100%|██████████████████████████████████████████| 10/10 [00:00<00:00, 485.73it/s]\n"
     ]
    },
    {
     "name": "stdout",
     "output_type": "stream",
     "text": [
      "Gradient of gamma: 4.852707888858276e-07\n",
      "Epoch 40 - Loss: 0.6931477785110474\n",
      "Parameter name: gamma\n",
      "Parameter shape: torch.Size([])\n",
      "Parameter value: Parameter containing:\n",
      "tensor(-0.2358, device='cuda:0', requires_grad=True)\n",
      "\n"
     ]
    },
    {
     "name": "stderr",
     "output_type": "stream",
     "text": [
      "\n",
      "100%|██████████████████████████████████████████| 10/10 [00:00<00:00, 484.82it/s]\n",
      " 84%|████████████████████████████████████       | 42/50 [00:02<00:00, 18.26it/s]"
     ]
    },
    {
     "name": "stdout",
     "output_type": "stream",
     "text": [
      "Gradient of gamma: 4.827575708077347e-07\n",
      "Epoch 41 - Loss: 0.6931477785110474\n",
      "Parameter name: gamma\n",
      "Parameter shape: torch.Size([])\n",
      "Parameter value: Parameter containing:\n",
      "tensor(-0.2430, device='cuda:0', requires_grad=True)\n",
      "\n"
     ]
    },
    {
     "name": "stderr",
     "output_type": "stream",
     "text": [
      "\n",
      "100%|██████████████████████████████████████████| 10/10 [00:00<00:00, 494.86it/s]\n"
     ]
    },
    {
     "name": "stdout",
     "output_type": "stream",
     "text": [
      "Gradient of gamma: 4.797394126399013e-07\n",
      "Epoch 42 - Loss: 0.6931477785110474\n",
      "Parameter name: gamma\n",
      "Parameter shape: torch.Size([])\n",
      "Parameter value: Parameter containing:\n",
      "tensor(-0.2500, device='cuda:0', requires_grad=True)\n",
      "\n"
     ]
    },
    {
     "name": "stderr",
     "output_type": "stream",
     "text": [
      "\n",
      "100%|██████████████████████████████████████████| 10/10 [00:00<00:00, 496.28it/s]\n",
      " 88%|█████████████████████████████████████▊     | 44/50 [00:02<00:00, 18.42it/s]"
     ]
    },
    {
     "name": "stdout",
     "output_type": "stream",
     "text": [
      "Gradient of gamma: 4.770363375428133e-07\n",
      "Epoch 43 - Loss: 0.6931477785110474\n",
      "Parameter name: gamma\n",
      "Parameter shape: torch.Size([])\n",
      "Parameter value: Parameter containing:\n",
      "tensor(-0.2569, device='cuda:0', requires_grad=True)\n",
      "\n"
     ]
    },
    {
     "name": "stderr",
     "output_type": "stream",
     "text": [
      "\n",
      "100%|██████████████████████████████████████████| 10/10 [00:00<00:00, 495.62it/s]\n"
     ]
    },
    {
     "name": "stdout",
     "output_type": "stream",
     "text": [
      "Gradient of gamma: 4.7455301910304115e-07\n",
      "Epoch 44 - Loss: 0.6931477785110474\n",
      "Parameter name: gamma\n",
      "Parameter shape: torch.Size([])\n",
      "Parameter value: Parameter containing:\n",
      "tensor(-0.2636, device='cuda:0', requires_grad=True)\n",
      "\n"
     ]
    },
    {
     "name": "stderr",
     "output_type": "stream",
     "text": [
      "\n",
      "100%|██████████████████████████████████████████| 10/10 [00:00<00:00, 487.51it/s]\n",
      " 92%|███████████████████████████████████████▌   | 46/50 [00:02<00:00, 18.48it/s]"
     ]
    },
    {
     "name": "stdout",
     "output_type": "stream",
     "text": [
      "Gradient of gamma: 4.7213785592248314e-07\n",
      "Epoch 45 - Loss: 0.6931477785110474\n",
      "Parameter name: gamma\n",
      "Parameter shape: torch.Size([])\n",
      "Parameter value: Parameter containing:\n",
      "tensor(-0.2701, device='cuda:0', requires_grad=True)\n",
      "\n"
     ]
    },
    {
     "name": "stderr",
     "output_type": "stream",
     "text": [
      "\n",
      "100%|██████████████████████████████████████████| 10/10 [00:00<00:00, 487.56it/s]\n"
     ]
    },
    {
     "name": "stdout",
     "output_type": "stream",
     "text": [
      "Gradient of gamma: 4.699926421380951e-07\n",
      "Epoch 46 - Loss: 0.6931477785110474\n",
      "Parameter name: gamma\n",
      "Parameter shape: torch.Size([])\n",
      "Parameter value: Parameter containing:\n",
      "tensor(-0.2765, device='cuda:0', requires_grad=True)\n",
      "\n"
     ]
    },
    {
     "name": "stderr",
     "output_type": "stream",
     "text": [
      "\n",
      "100%|██████████████████████████████████████████| 10/10 [00:00<00:00, 488.98it/s]\n",
      " 96%|█████████████████████████████████████████▎ | 48/50 [00:02<00:00, 18.56it/s]"
     ]
    },
    {
     "name": "stdout",
     "output_type": "stream",
     "text": [
      "Gradient of gamma: 4.676037690387602e-07\n",
      "Epoch 47 - Loss: 0.6931477785110474\n",
      "Parameter name: gamma\n",
      "Parameter shape: torch.Size([])\n",
      "Parameter value: Parameter containing:\n",
      "tensor(-0.2828, device='cuda:0', requires_grad=True)\n",
      "\n"
     ]
    },
    {
     "name": "stderr",
     "output_type": "stream",
     "text": [
      "\n",
      "100%|██████████████████████████████████████████| 10/10 [00:00<00:00, 491.14it/s]\n"
     ]
    },
    {
     "name": "stdout",
     "output_type": "stream",
     "text": [
      "Gradient of gamma: 4.334947902862041e-07\n",
      "Epoch 48 - Loss: 0.6931477785110474\n",
      "Parameter name: gamma\n",
      "Parameter shape: torch.Size([])\n",
      "Parameter value: Parameter containing:\n",
      "tensor(-0.2890, device='cuda:0', requires_grad=True)\n",
      "\n"
     ]
    },
    {
     "name": "stderr",
     "output_type": "stream",
     "text": [
      "\n",
      "100%|██████████████████████████████████████████| 10/10 [00:00<00:00, 489.41it/s]\n",
      "100%|███████████████████████████████████████████| 50/50 [00:02<00:00, 18.14it/s]\n"
     ]
    },
    {
     "name": "stdout",
     "output_type": "stream",
     "text": [
      "Gradient of gamma: 4.7289682925111265e-07\n",
      "Epoch 49 - Loss: 0.6931477189064026\n",
      "Parameter name: gamma\n",
      "Parameter shape: torch.Size([])\n",
      "Parameter value: Parameter containing:\n",
      "tensor(-0.2951, device='cuda:0', requires_grad=True)\n",
      "\n"
     ]
    },
    {
     "name": "stderr",
     "output_type": "stream",
     "text": [
      "  0%|                                                    | 0/50 [00:00<?, ?it/s]\n",
      "100%|██████████████████████████████████████████| 10/10 [00:00<00:00, 410.30it/s]\n"
     ]
    },
    {
     "name": "stdout",
     "output_type": "stream",
     "text": [
      "Gradient of gamma: 3.49096953868866e-05\n",
      "Epoch 0 - Loss: 0.6931403875350952\n",
      "Parameter name: gamma\n",
      "Parameter shape: torch.Size([])\n",
      "Parameter value: Parameter containing:\n",
      "tensor(1.1000, device='cuda:0', requires_grad=True)\n",
      "\n"
     ]
    },
    {
     "name": "stderr",
     "output_type": "stream",
     "text": [
      "\n",
      "100%|██████████████████████████████████████████| 10/10 [00:00<00:00, 412.52it/s]\n",
      "  4%|█▊                                          | 2/50 [00:00<00:02, 16.53it/s]"
     ]
    },
    {
     "name": "stdout",
     "output_type": "stream",
     "text": [
      "Gradient of gamma: 6.326846778392792e-05\n",
      "Epoch 1 - Loss: 0.6931356191635132\n",
      "Parameter name: gamma\n",
      "Parameter shape: torch.Size([])\n",
      "Parameter value: Parameter containing:\n",
      "tensor(1.1975, device='cuda:0', requires_grad=True)\n",
      "\n"
     ]
    },
    {
     "name": "stderr",
     "output_type": "stream",
     "text": [
      "\n",
      "100%|██████████████████████████████████████████| 10/10 [00:00<00:00, 475.86it/s]\n"
     ]
    },
    {
     "name": "stdout",
     "output_type": "stream",
     "text": [
      "Gradient of gamma: 0.00011112261563539505\n",
      "Epoch 2 - Loss: 0.6931271553039551\n",
      "Parameter name: gamma\n",
      "Parameter shape: torch.Size([])\n",
      "Parameter value: Parameter containing:\n",
      "tensor(1.2921, device='cuda:0', requires_grad=True)\n",
      "\n"
     ]
    },
    {
     "name": "stderr",
     "output_type": "stream",
     "text": [
      "\n",
      "100%|██████████████████████████████████████████| 10/10 [00:00<00:00, 459.13it/s]\n",
      "  8%|███▌                                        | 4/50 [00:00<00:02, 17.39it/s]"
     ]
    },
    {
     "name": "stdout",
     "output_type": "stream",
     "text": [
      "Gradient of gamma: 0.00018631760030984879\n",
      "Epoch 3 - Loss: 0.6931134462356567\n",
      "Parameter name: gamma\n",
      "Parameter shape: torch.Size([])\n",
      "Parameter value: Parameter containing:\n",
      "tensor(1.3844, device='cuda:0', requires_grad=True)\n",
      "\n"
     ]
    },
    {
     "name": "stderr",
     "output_type": "stream",
     "text": [
      "\n",
      "100%|██████████████████████████████████████████| 10/10 [00:00<00:00, 457.95it/s]\n"
     ]
    },
    {
     "name": "stdout",
     "output_type": "stream",
     "text": [
      "Gradient of gamma: 0.00030911993235349655\n",
      "Epoch 4 - Loss: 0.6930903792381287\n",
      "Parameter name: gamma\n",
      "Parameter shape: torch.Size([])\n",
      "Parameter value: Parameter containing:\n",
      "tensor(1.4746, device='cuda:0', requires_grad=True)\n",
      "\n"
     ]
    },
    {
     "name": "stderr",
     "output_type": "stream",
     "text": [
      "\n",
      "100%|██████████████████████████████████████████| 10/10 [00:00<00:00, 466.09it/s]\n",
      " 12%|█████▎                                      | 6/50 [00:00<00:02, 17.56it/s]"
     ]
    },
    {
     "name": "stdout",
     "output_type": "stream",
     "text": [
      "Gradient of gamma: 0.0004732566885650158\n",
      "Epoch 5 - Loss: 0.6930571794509888\n",
      "Parameter name: gamma\n",
      "Parameter shape: torch.Size([])\n",
      "Parameter value: Parameter containing:\n",
      "tensor(1.5641, device='cuda:0', requires_grad=True)\n",
      "\n"
     ]
    },
    {
     "name": "stderr",
     "output_type": "stream",
     "text": [
      "\n",
      "100%|██████████████████████████████████████████| 10/10 [00:00<00:00, 426.70it/s]\n"
     ]
    },
    {
     "name": "stdout",
     "output_type": "stream",
     "text": [
      "Gradient of gamma: 0.0007237871177494526\n",
      "Epoch 6 - Loss: 0.6930049657821655\n",
      "Parameter name: gamma\n",
      "Parameter shape: torch.Size([])\n",
      "Parameter value: Parameter containing:\n",
      "tensor(1.6532, device='cuda:0', requires_grad=True)\n",
      "\n"
     ]
    },
    {
     "name": "stderr",
     "output_type": "stream",
     "text": [
      "\n",
      "100%|██████████████████████████████████████████| 10/10 [00:00<00:00, 462.48it/s]\n",
      " 16%|███████                                     | 8/50 [00:00<00:02, 17.59it/s]"
     ]
    },
    {
     "name": "stdout",
     "output_type": "stream",
     "text": [
      "Gradient of gamma: 0.0010990453884005547\n",
      "Epoch 7 - Loss: 0.6929229497909546\n",
      "Parameter name: gamma\n",
      "Parameter shape: torch.Size([])\n",
      "Parameter value: Parameter containing:\n",
      "tensor(1.7421, device='cuda:0', requires_grad=True)\n",
      "\n"
     ]
    },
    {
     "name": "stderr",
     "output_type": "stream",
     "text": [
      "\n",
      "100%|██████████████████████████████████████████| 10/10 [00:00<00:00, 423.65it/s]\n"
     ]
    },
    {
     "name": "stdout",
     "output_type": "stream",
     "text": [
      "Gradient of gamma: 0.0016237287782132626\n",
      "Epoch 8 - Loss: 0.6928033828735352\n",
      "Parameter name: gamma\n",
      "Parameter shape: torch.Size([])\n",
      "Parameter value: Parameter containing:\n",
      "tensor(1.8310, device='cuda:0', requires_grad=True)\n",
      "\n"
     ]
    },
    {
     "name": "stderr",
     "output_type": "stream",
     "text": [
      "\n",
      "100%|██████████████████████████████████████████| 10/10 [00:00<00:00, 465.23it/s]\n",
      " 20%|████████▌                                  | 10/50 [00:00<00:02, 17.70it/s]"
     ]
    },
    {
     "name": "stdout",
     "output_type": "stream",
     "text": [
      "Gradient of gamma: 0.00243660481646657\n",
      "Epoch 9 - Loss: 0.6926113367080688\n",
      "Parameter name: gamma\n",
      "Parameter shape: torch.Size([])\n",
      "Parameter value: Parameter containing:\n",
      "tensor(1.9200, device='cuda:0', requires_grad=True)\n",
      "\n"
     ]
    },
    {
     "name": "stderr",
     "output_type": "stream",
     "text": [
      "\n",
      "100%|██████████████████████████████████████████| 10/10 [00:00<00:00, 459.33it/s]\n"
     ]
    },
    {
     "name": "stdout",
     "output_type": "stream",
     "text": [
      "Gradient of gamma: 0.003451012074947357\n",
      "Epoch 10 - Loss: 0.6923598647117615\n",
      "Parameter name: gamma\n",
      "Parameter shape: torch.Size([])\n",
      "Parameter value: Parameter containing:\n",
      "tensor(2.0099, device='cuda:0', requires_grad=True)\n",
      "\n"
     ]
    },
    {
     "name": "stderr",
     "output_type": "stream",
     "text": [
      "\n",
      "100%|██████████████████████████████████████████| 10/10 [00:00<00:00, 462.92it/s]\n",
      " 24%|██████████▎                                | 12/50 [00:00<00:02, 17.88it/s]"
     ]
    },
    {
     "name": "stdout",
     "output_type": "stream",
     "text": [
      "Gradient of gamma: 0.004860447719693184\n",
      "Epoch 11 - Loss: 0.6919944882392883\n",
      "Parameter name: gamma\n",
      "Parameter shape: torch.Size([])\n",
      "Parameter value: Parameter containing:\n",
      "tensor(2.1008, device='cuda:0', requires_grad=True)\n",
      "\n"
     ]
    },
    {
     "name": "stderr",
     "output_type": "stream",
     "text": [
      "\n",
      "100%|██████████████████████████████████████████| 10/10 [00:00<00:00, 467.35it/s]\n"
     ]
    },
    {
     "name": "stdout",
     "output_type": "stream",
     "text": [
      "Gradient of gamma: 0.006653841584920883\n",
      "Epoch 12 - Loss: 0.6915042996406555\n",
      "Parameter name: gamma\n",
      "Parameter shape: torch.Size([])\n",
      "Parameter value: Parameter containing:\n",
      "tensor(2.1930, device='cuda:0', requires_grad=True)\n",
      "\n"
     ]
    },
    {
     "name": "stderr",
     "output_type": "stream",
     "text": [
      "\n",
      "100%|██████████████████████████████████████████| 10/10 [00:00<00:00, 460.36it/s]\n",
      " 28%|████████████                               | 14/50 [00:00<00:02, 17.89it/s]"
     ]
    },
    {
     "name": "stdout",
     "output_type": "stream",
     "text": [
      "Gradient of gamma: 0.009231291711330414\n",
      "Epoch 13 - Loss: 0.6907796263694763\n",
      "Parameter name: gamma\n",
      "Parameter shape: torch.Size([])\n",
      "Parameter value: Parameter containing:\n",
      "tensor(2.2865, device='cuda:0', requires_grad=True)\n",
      "\n"
     ]
    },
    {
     "name": "stderr",
     "output_type": "stream",
     "text": [
      "\n",
      "100%|██████████████████████████████████████████| 10/10 [00:00<00:00, 462.96it/s]\n"
     ]
    },
    {
     "name": "stdout",
     "output_type": "stream",
     "text": [
      "Gradient of gamma: 0.012718206271529198\n",
      "Epoch 14 - Loss: 0.6897576451301575\n",
      "Parameter name: gamma\n",
      "Parameter shape: torch.Size([])\n",
      "Parameter value: Parameter containing:\n",
      "tensor(2.3812, device='cuda:0', requires_grad=True)\n",
      "\n"
     ]
    },
    {
     "name": "stderr",
     "output_type": "stream",
     "text": [
      "\n",
      "100%|██████████████████████████████████████████| 10/10 [00:00<00:00, 442.99it/s]\n",
      " 32%|█████████████▊                             | 16/50 [00:00<00:01, 17.51it/s]"
     ]
    },
    {
     "name": "stdout",
     "output_type": "stream",
     "text": [
      "Gradient of gamma: 0.01799548789858818\n",
      "Epoch 15 - Loss: 0.6881723403930664\n",
      "Parameter name: gamma\n",
      "Parameter shape: torch.Size([])\n",
      "Parameter value: Parameter containing:\n",
      "tensor(2.4767, device='cuda:0', requires_grad=True)\n",
      "\n"
     ]
    },
    {
     "name": "stderr",
     "output_type": "stream",
     "text": [
      "\n",
      "100%|██████████████████████████████████████████| 10/10 [00:00<00:00, 464.98it/s]\n"
     ]
    },
    {
     "name": "stdout",
     "output_type": "stream",
     "text": [
      "Gradient of gamma: 0.023550178855657578\n",
      "Epoch 16 - Loss: 0.6863852143287659\n",
      "Parameter name: gamma\n",
      "Parameter shape: torch.Size([])\n",
      "Parameter value: Parameter containing:\n",
      "tensor(2.5739, device='cuda:0', requires_grad=True)\n",
      "\n"
     ]
    },
    {
     "name": "stderr",
     "output_type": "stream",
     "text": [
      "\n",
      "100%|██████████████████████████████████████████| 10/10 [00:00<00:00, 464.70it/s]\n",
      " 36%|███████████████▍                           | 18/50 [00:01<00:01, 17.52it/s]"
     ]
    },
    {
     "name": "stdout",
     "output_type": "stream",
     "text": [
      "Gradient of gamma: 0.03271175175905228\n",
      "Epoch 17 - Loss: 0.6834061741828918\n",
      "Parameter name: gamma\n",
      "Parameter shape: torch.Size([])\n",
      "Parameter value: Parameter containing:\n",
      "tensor(2.6722, device='cuda:0', requires_grad=True)\n",
      "\n"
     ]
    },
    {
     "name": "stderr",
     "output_type": "stream",
     "text": [
      "\n",
      "100%|██████████████████████████████████████████| 10/10 [00:00<00:00, 462.11it/s]\n"
     ]
    },
    {
     "name": "stdout",
     "output_type": "stream",
     "text": [
      "Gradient of gamma: 0.042292024940252304\n",
      "Epoch 18 - Loss: 0.6800625920295715\n",
      "Parameter name: gamma\n",
      "Parameter shape: torch.Size([])\n",
      "Parameter value: Parameter containing:\n",
      "tensor(2.7724, device='cuda:0', requires_grad=True)\n",
      "\n"
     ]
    },
    {
     "name": "stderr",
     "output_type": "stream",
     "text": [
      "\n",
      "100%|██████████████████████████████████████████| 10/10 [00:00<00:00, 478.70it/s]\n",
      " 40%|█████████████████▏                         | 20/50 [00:01<00:01, 17.59it/s]"
     ]
    },
    {
     "name": "stdout",
     "output_type": "stream",
     "text": [
      "Gradient of gamma: 0.05750717222690582\n",
      "Epoch 19 - Loss: 0.6746981739997864\n",
      "Parameter name: gamma\n",
      "Parameter shape: torch.Size([])\n",
      "Parameter value: Parameter containing:\n",
      "tensor(2.8740, device='cuda:0', requires_grad=True)\n",
      "\n"
     ]
    },
    {
     "name": "stderr",
     "output_type": "stream",
     "text": [
      "\n",
      "100%|██████████████████████████████████████████| 10/10 [00:00<00:00, 453.42it/s]\n"
     ]
    },
    {
     "name": "stdout",
     "output_type": "stream",
     "text": [
      "Gradient of gamma: 0.07318772375583649\n",
      "Epoch 20 - Loss: 0.6687389612197876\n",
      "Parameter name: gamma\n",
      "Parameter shape: torch.Size([])\n",
      "Parameter value: Parameter containing:\n",
      "tensor(2.9776, device='cuda:0', requires_grad=True)\n",
      "\n"
     ]
    },
    {
     "name": "stderr",
     "output_type": "stream",
     "text": [
      "\n",
      "100%|██████████████████████████████████████████| 10/10 [00:00<00:00, 485.70it/s]\n",
      " 44%|██████████████████▉                        | 22/50 [00:01<00:01, 17.83it/s]"
     ]
    },
    {
     "name": "stdout",
     "output_type": "stream",
     "text": [
      "Gradient of gamma: 0.09568962454795837\n",
      "Epoch 21 - Loss: 0.6599294543266296\n",
      "Parameter name: gamma\n",
      "Parameter shape: torch.Size([])\n",
      "Parameter value: Parameter containing:\n",
      "tensor(3.0829, device='cuda:0', requires_grad=True)\n",
      "\n"
     ]
    },
    {
     "name": "stderr",
     "output_type": "stream",
     "text": [
      "\n",
      "100%|██████████████████████████████████████████| 10/10 [00:00<00:00, 482.86it/s]\n"
     ]
    },
    {
     "name": "stdout",
     "output_type": "stream",
     "text": [
      "Gradient of gamma: 0.12710019946098328\n",
      "Epoch 22 - Loss: 0.6471244692802429\n",
      "Parameter name: gamma\n",
      "Parameter shape: torch.Size([])\n",
      "Parameter value: Parameter containing:\n",
      "tensor(3.1898, device='cuda:0', requires_grad=True)\n",
      "\n"
     ]
    },
    {
     "name": "stderr",
     "output_type": "stream",
     "text": [
      "\n",
      "100%|██████████████████████████████████████████| 10/10 [00:00<00:00, 459.69it/s]\n",
      " 48%|████████████████████▋                      | 24/50 [00:01<00:01, 17.79it/s]"
     ]
    },
    {
     "name": "stdout",
     "output_type": "stream",
     "text": [
      "Gradient of gamma: 0.15682744979858398\n",
      "Epoch 23 - Loss: 0.6337725520133972\n",
      "Parameter name: gamma\n",
      "Parameter shape: torch.Size([])\n",
      "Parameter value: Parameter containing:\n",
      "tensor(3.2988, device='cuda:0', requires_grad=True)\n",
      "\n"
     ]
    },
    {
     "name": "stderr",
     "output_type": "stream",
     "text": [
      "\n",
      "100%|██████████████████████████████████████████| 10/10 [00:00<00:00, 454.86it/s]\n"
     ]
    },
    {
     "name": "stdout",
     "output_type": "stream",
     "text": [
      "Gradient of gamma: 0.20374882221221924\n",
      "Epoch 24 - Loss: 0.6116489171981812\n",
      "Parameter name: gamma\n",
      "Parameter shape: torch.Size([])\n",
      "Parameter value: Parameter containing:\n",
      "tensor(3.4096, device='cuda:0', requires_grad=True)\n",
      "\n"
     ]
    },
    {
     "name": "stderr",
     "output_type": "stream",
     "text": [
      "\n",
      "100%|██████████████████████████████████████████| 10/10 [00:00<00:00, 463.70it/s]\n",
      " 52%|██████████████████████▎                    | 26/50 [00:01<00:01, 17.86it/s]"
     ]
    },
    {
     "name": "stdout",
     "output_type": "stream",
     "text": [
      "Gradient of gamma: 0.24902711808681488\n",
      "Epoch 25 - Loss: 0.587154746055603\n",
      "Parameter name: gamma\n",
      "Parameter shape: torch.Size([])\n",
      "Parameter value: Parameter containing:\n",
      "tensor(3.5226, device='cuda:0', requires_grad=True)\n",
      "\n"
     ]
    },
    {
     "name": "stderr",
     "output_type": "stream",
     "text": [
      "\n",
      "100%|██████████████████████████████████████████| 10/10 [00:00<00:00, 461.91it/s]\n"
     ]
    },
    {
     "name": "stdout",
     "output_type": "stream",
     "text": [
      "Gradient of gamma: 0.2910463809967041\n",
      "Epoch 26 - Loss: 0.5597037076950073\n",
      "Parameter name: gamma\n",
      "Parameter shape: torch.Size([])\n",
      "Parameter value: Parameter containing:\n",
      "tensor(3.6382, device='cuda:0', requires_grad=True)\n",
      "\n"
     ]
    },
    {
     "name": "stderr",
     "output_type": "stream",
     "text": [
      "\n",
      "100%|██████████████████████████████████████████| 10/10 [00:00<00:00, 463.01it/s]\n",
      " 56%|████████████████████████                   | 28/50 [00:01<00:01, 17.89it/s]"
     ]
    },
    {
     "name": "stdout",
     "output_type": "stream",
     "text": [
      "Gradient of gamma: 0.33961886167526245\n",
      "Epoch 27 - Loss: 0.5193585157394409\n",
      "Parameter name: gamma\n",
      "Parameter shape: torch.Size([])\n",
      "Parameter value: Parameter containing:\n",
      "tensor(3.7565, device='cuda:0', requires_grad=True)\n",
      "\n"
     ]
    },
    {
     "name": "stderr",
     "output_type": "stream",
     "text": [
      "\n",
      "100%|██████████████████████████████████████████| 10/10 [00:00<00:00, 463.08it/s]\n"
     ]
    },
    {
     "name": "stdout",
     "output_type": "stream",
     "text": [
      "Gradient of gamma: 0.36163532733917236\n",
      "Epoch 28 - Loss: 0.4816838204860687\n",
      "Parameter name: gamma\n",
      "Parameter shape: torch.Size([])\n",
      "Parameter value: Parameter containing:\n",
      "tensor(3.8778, device='cuda:0', requires_grad=True)\n",
      "\n"
     ]
    },
    {
     "name": "stderr",
     "output_type": "stream",
     "text": [
      "\n",
      "100%|██████████████████████████████████████████| 10/10 [00:00<00:00, 459.20it/s]\n",
      " 60%|█████████████████████████▊                 | 30/50 [00:01<00:01, 17.87it/s]"
     ]
    },
    {
     "name": "stdout",
     "output_type": "stream",
     "text": [
      "Gradient of gamma: 0.3570055067539215\n",
      "Epoch 29 - Loss: 0.4327498972415924\n",
      "Parameter name: gamma\n",
      "Parameter shape: torch.Size([])\n",
      "Parameter value: Parameter containing:\n",
      "tensor(4.0021, device='cuda:0', requires_grad=True)\n",
      "\n"
     ]
    },
    {
     "name": "stderr",
     "output_type": "stream",
     "text": [
      "\n",
      "100%|██████████████████████████████████████████| 10/10 [00:00<00:00, 467.64it/s]\n"
     ]
    },
    {
     "name": "stdout",
     "output_type": "stream",
     "text": [
      "Gradient of gamma: 0.3164163827896118\n",
      "Epoch 30 - Loss: 0.3965020477771759\n",
      "Parameter name: gamma\n",
      "Parameter shape: torch.Size([])\n",
      "Parameter value: Parameter containing:\n",
      "tensor(4.1285, device='cuda:0', requires_grad=True)\n",
      "\n"
     ]
    },
    {
     "name": "stderr",
     "output_type": "stream",
     "text": [
      "\n",
      "100%|██████████████████████████████████████████| 10/10 [00:00<00:00, 455.62it/s]\n",
      " 64%|███████████████████████████▌               | 32/50 [00:01<00:01, 17.86it/s]"
     ]
    },
    {
     "name": "stdout",
     "output_type": "stream",
     "text": [
      "Gradient of gamma: 0.2393457442522049\n",
      "Epoch 31 - Loss: 0.36131900548934937\n",
      "Parameter name: gamma\n",
      "Parameter shape: torch.Size([])\n",
      "Parameter value: Parameter containing:\n",
      "tensor(4.2552, device='cuda:0', requires_grad=True)\n",
      "\n"
     ]
    },
    {
     "name": "stderr",
     "output_type": "stream",
     "text": [
      "\n",
      "100%|██████████████████████████████████████████| 10/10 [00:00<00:00, 461.72it/s]\n"
     ]
    },
    {
     "name": "stdout",
     "output_type": "stream",
     "text": [
      "Gradient of gamma: 0.1497696042060852\n",
      "Epoch 32 - Loss: 0.33653610944747925\n",
      "Parameter name: gamma\n",
      "Parameter shape: torch.Size([])\n",
      "Parameter value: Parameter containing:\n",
      "tensor(4.3788, device='cuda:0', requires_grad=True)\n",
      "\n"
     ]
    },
    {
     "name": "stderr",
     "output_type": "stream",
     "text": [
      "\n",
      "100%|██████████████████████████████████████████| 10/10 [00:00<00:00, 461.43it/s]\n",
      " 68%|█████████████████████████████▏             | 34/50 [00:01<00:00, 17.85it/s]"
     ]
    },
    {
     "name": "stdout",
     "output_type": "stream",
     "text": [
      "Gradient of gamma: 0.07689353823661804\n",
      "Epoch 33 - Loss: 0.32271239161491394\n",
      "Parameter name: gamma\n",
      "Parameter shape: torch.Size([])\n",
      "Parameter value: Parameter containing:\n",
      "tensor(4.4961, device='cuda:0', requires_grad=True)\n",
      "\n"
     ]
    },
    {
     "name": "stderr",
     "output_type": "stream",
     "text": [
      "\n",
      "100%|██████████████████████████████████████████| 10/10 [00:00<00:00, 467.34it/s]\n"
     ]
    },
    {
     "name": "stdout",
     "output_type": "stream",
     "text": [
      "Gradient of gamma: 0.0318085215985775\n",
      "Epoch 34 - Loss: 0.31640323996543884\n",
      "Parameter name: gamma\n",
      "Parameter shape: torch.Size([])\n",
      "Parameter value: Parameter containing:\n",
      "tensor(4.6049, device='cuda:0', requires_grad=True)\n",
      "\n"
     ]
    },
    {
     "name": "stderr",
     "output_type": "stream",
     "text": [
      "\n",
      "100%|██████████████████████████████████████████| 10/10 [00:00<00:00, 470.85it/s]\n",
      " 72%|██████████████████████████████▉            | 36/50 [00:02<00:00, 17.93it/s]"
     ]
    },
    {
     "name": "stdout",
     "output_type": "stream",
     "text": [
      "Gradient of gamma: 0.011994972825050354\n",
      "Epoch 35 - Loss: 0.31424957513809204\n",
      "Parameter name: gamma\n",
      "Parameter shape: torch.Size([])\n",
      "Parameter value: Parameter containing:\n",
      "tensor(4.7049, device='cuda:0', requires_grad=True)\n",
      "\n"
     ]
    },
    {
     "name": "stderr",
     "output_type": "stream",
     "text": [
      "\n",
      "100%|██████████████████████████████████████████| 10/10 [00:00<00:00, 465.78it/s]\n"
     ]
    },
    {
     "name": "stdout",
     "output_type": "stream",
     "text": [
      "Gradient of gamma: 0.0036690784618258476\n",
      "Epoch 36 - Loss: 0.3135156035423279\n",
      "Parameter name: gamma\n",
      "Parameter shape: torch.Size([])\n",
      "Parameter value: Parameter containing:\n",
      "tensor(4.7961, device='cuda:0', requires_grad=True)\n",
      "\n"
     ]
    },
    {
     "name": "stderr",
     "output_type": "stream",
     "text": [
      "\n",
      "100%|██████████████████████████████████████████| 10/10 [00:00<00:00, 482.82it/s]\n",
      " 76%|████████████████████████████████▋          | 38/50 [00:02<00:00, 17.95it/s]"
     ]
    },
    {
     "name": "stdout",
     "output_type": "stream",
     "text": [
      "Gradient of gamma: 0.0010441004997119308\n",
      "Epoch 37 - Loss: 0.31332388520240784\n",
      "Parameter name: gamma\n",
      "Parameter shape: torch.Size([])\n",
      "Parameter value: Parameter containing:\n",
      "tensor(4.8792, device='cuda:0', requires_grad=True)\n",
      "\n"
     ]
    },
    {
     "name": "stderr",
     "output_type": "stream",
     "text": [
      "\n",
      "100%|██████████████████████████████████████████| 10/10 [00:00<00:00, 485.26it/s]\n"
     ]
    },
    {
     "name": "stdout",
     "output_type": "stream",
     "text": [
      "Gradient of gamma: 0.0002746320387814194\n",
      "Epoch 38 - Loss: 0.31327590346336365\n",
      "Parameter name: gamma\n",
      "Parameter shape: torch.Size([])\n",
      "Parameter value: Parameter containing:\n",
      "tensor(4.9550, device='cuda:0', requires_grad=True)\n",
      "\n"
     ]
    },
    {
     "name": "stderr",
     "output_type": "stream",
     "text": [
      "\n",
      "100%|██████████████████████████████████████████| 10/10 [00:00<00:00, 495.12it/s]\n",
      " 80%|██████████████████████████████████▍        | 40/50 [00:02<00:00, 18.10it/s]"
     ]
    },
    {
     "name": "stdout",
     "output_type": "stream",
     "text": [
      "Gradient of gamma: 6.154064612928778e-05\n",
      "Epoch 39 - Loss: 0.31326454877853394\n",
      "Parameter name: gamma\n",
      "Parameter shape: torch.Size([])\n",
      "Parameter value: Parameter containing:\n",
      "tensor(5.0239, device='cuda:0', requires_grad=True)\n",
      "\n"
     ]
    },
    {
     "name": "stderr",
     "output_type": "stream",
     "text": [
      "\n",
      "100%|██████████████████████████████████████████| 10/10 [00:00<00:00, 480.95it/s]\n"
     ]
    },
    {
     "name": "stdout",
     "output_type": "stream",
     "text": [
      "Gradient of gamma: 1.468746722821379e-05\n",
      "Epoch 40 - Loss: 0.3132622539997101\n",
      "Parameter name: gamma\n",
      "Parameter shape: torch.Size([])\n",
      "Parameter value: Parameter containing:\n",
      "tensor(5.0866, device='cuda:0', requires_grad=True)\n",
      "\n"
     ]
    },
    {
     "name": "stderr",
     "output_type": "stream",
     "text": [
      "\n",
      "100%|██████████████████████████████████████████| 10/10 [00:00<00:00, 477.93it/s]\n",
      " 84%|████████████████████████████████████       | 42/50 [00:02<00:00, 18.05it/s]"
     ]
    },
    {
     "name": "stdout",
     "output_type": "stream",
     "text": [
      "Gradient of gamma: 3.2466969059896655e-06\n",
      "Epoch 41 - Loss: 0.31326180696487427\n",
      "Parameter name: gamma\n",
      "Parameter shape: torch.Size([])\n",
      "Parameter value: Parameter containing:\n",
      "tensor(5.1437, device='cuda:0', requires_grad=True)\n",
      "\n"
     ]
    },
    {
     "name": "stderr",
     "output_type": "stream",
     "text": [
      "\n",
      "100%|██████████████████████████████████████████| 10/10 [00:00<00:00, 467.35it/s]\n"
     ]
    },
    {
     "name": "stdout",
     "output_type": "stream",
     "text": [
      "Gradient of gamma: 6.513358812298975e-07\n",
      "Epoch 42 - Loss: 0.3132617473602295\n",
      "Parameter name: gamma\n",
      "Parameter shape: torch.Size([])\n",
      "Parameter value: Parameter containing:\n",
      "tensor(5.1956, device='cuda:0', requires_grad=True)\n",
      "\n"
     ]
    },
    {
     "name": "stderr",
     "output_type": "stream",
     "text": [
      "\n",
      "100%|██████████████████████████████████████████| 10/10 [00:00<00:00, 464.96it/s]\n",
      " 88%|█████████████████████████████████████▊     | 44/50 [00:02<00:00, 18.10it/s]"
     ]
    },
    {
     "name": "stdout",
     "output_type": "stream",
     "text": [
      "Gradient of gamma: 1.4439028461765702e-07\n",
      "Epoch 43 - Loss: 0.3132617473602295\n",
      "Parameter name: gamma\n",
      "Parameter shape: torch.Size([])\n",
      "Parameter value: Parameter containing:\n",
      "tensor(5.2428, device='cuda:0', requires_grad=True)\n",
      "\n"
     ]
    },
    {
     "name": "stderr",
     "output_type": "stream",
     "text": [
      "\n",
      "100%|██████████████████████████████████████████| 10/10 [00:00<00:00, 466.27it/s]\n"
     ]
    },
    {
     "name": "stdout",
     "output_type": "stream",
     "text": [
      "Gradient of gamma: 3.336814202725691e-08\n",
      "Epoch 44 - Loss: 0.3132617473602295\n",
      "Parameter name: gamma\n",
      "Parameter shape: torch.Size([])\n",
      "Parameter value: Parameter containing:\n",
      "tensor(5.2857, device='cuda:0', requires_grad=True)\n",
      "\n"
     ]
    },
    {
     "name": "stderr",
     "output_type": "stream",
     "text": [
      "\n",
      "100%|██████████████████████████████████████████| 10/10 [00:00<00:00, 466.17it/s]\n",
      " 92%|███████████████████████████████████████▌   | 46/50 [00:02<00:00, 18.12it/s]"
     ]
    },
    {
     "name": "stdout",
     "output_type": "stream",
     "text": [
      "Gradient of gamma: 8.569806198011065e-09\n",
      "Epoch 45 - Loss: 0.3132617473602295\n",
      "Parameter name: gamma\n",
      "Parameter shape: torch.Size([])\n",
      "Parameter value: Parameter containing:\n",
      "tensor(5.3248, device='cuda:0', requires_grad=True)\n",
      "\n"
     ]
    },
    {
     "name": "stderr",
     "output_type": "stream",
     "text": [
      "\n",
      "100%|██████████████████████████████████████████| 10/10 [00:00<00:00, 461.85it/s]\n"
     ]
    },
    {
     "name": "stdout",
     "output_type": "stream",
     "text": [
      "Gradient of gamma: 2.0322945548656435e-09\n",
      "Epoch 46 - Loss: 0.3132617473602295\n",
      "Parameter name: gamma\n",
      "Parameter shape: torch.Size([])\n",
      "Parameter value: Parameter containing:\n",
      "tensor(5.3603, device='cuda:0', requires_grad=True)\n",
      "\n"
     ]
    },
    {
     "name": "stderr",
     "output_type": "stream",
     "text": [
      "\n",
      "100%|██████████████████████████████████████████| 10/10 [00:00<00:00, 462.99it/s]\n",
      " 96%|█████████████████████████████████████████▎ | 48/50 [00:02<00:00, 18.02it/s]"
     ]
    },
    {
     "name": "stdout",
     "output_type": "stream",
     "text": [
      "Gradient of gamma: 5.278613102177587e-10\n",
      "Epoch 47 - Loss: 0.3132617473602295\n",
      "Parameter name: gamma\n",
      "Parameter shape: torch.Size([])\n",
      "Parameter value: Parameter containing:\n",
      "tensor(5.3926, device='cuda:0', requires_grad=True)\n",
      "\n"
     ]
    },
    {
     "name": "stderr",
     "output_type": "stream",
     "text": [
      "\n",
      "100%|██████████████████████████████████████████| 10/10 [00:00<00:00, 474.89it/s]\n"
     ]
    },
    {
     "name": "stdout",
     "output_type": "stream",
     "text": [
      "Gradient of gamma: 1.4862561181772094e-10\n",
      "Epoch 48 - Loss: 0.3132617473602295\n",
      "Parameter name: gamma\n",
      "Parameter shape: torch.Size([])\n",
      "Parameter value: Parameter containing:\n",
      "tensor(5.4220, device='cuda:0', requires_grad=True)\n",
      "\n"
     ]
    },
    {
     "name": "stderr",
     "output_type": "stream",
     "text": [
      "\n",
      "100%|██████████████████████████████████████████| 10/10 [00:00<00:00, 473.04it/s]\n",
      "100%|███████████████████████████████████████████| 50/50 [00:02<00:00, 17.85it/s]\n"
     ]
    },
    {
     "name": "stdout",
     "output_type": "stream",
     "text": [
      "Gradient of gamma: 4.478372533922581e-11\n",
      "Epoch 49 - Loss: 0.3132617473602295\n",
      "Parameter name: gamma\n",
      "Parameter shape: torch.Size([])\n",
      "Parameter value: Parameter containing:\n",
      "tensor(5.4486, device='cuda:0', requires_grad=True)\n",
      "\n"
     ]
    },
    {
     "name": "stderr",
     "output_type": "stream",
     "text": [
      "  0%|                                                    | 0/50 [00:00<?, ?it/s]\n",
      "100%|██████████████████████████████████████████| 10/10 [00:00<00:00, 421.22it/s]\n"
     ]
    },
    {
     "name": "stdout",
     "output_type": "stream",
     "text": [
      "Gradient of gamma: 5.1573850214481354e-05\n",
      "Epoch 0 - Loss: 0.6931579113006592\n",
      "Parameter name: gamma\n",
      "Parameter shape: torch.Size([])\n",
      "Parameter value: Parameter containing:\n",
      "tensor(0.9000, device='cuda:0', requires_grad=True)\n",
      "\n"
     ]
    },
    {
     "name": "stderr",
     "output_type": "stream",
     "text": [
      "\n",
      "100%|██████████████████████████████████████████| 10/10 [00:00<00:00, 450.70it/s]\n",
      "  4%|█▊                                          | 2/50 [00:00<00:02, 17.34it/s]"
     ]
    },
    {
     "name": "stdout",
     "output_type": "stream",
     "text": [
      "Gradient of gamma: 2.9485207051038742e-05\n",
      "Epoch 1 - Loss: 0.6931540966033936\n",
      "Parameter name: gamma\n",
      "Parameter shape: torch.Size([])\n",
      "Parameter value: Parameter containing:\n",
      "tensor(0.8049, device='cuda:0', requires_grad=True)\n",
      "\n"
     ]
    },
    {
     "name": "stderr",
     "output_type": "stream",
     "text": [
      "\n",
      "100%|██████████████████████████████████████████| 10/10 [00:00<00:00, 477.59it/s]\n"
     ]
    },
    {
     "name": "stdout",
     "output_type": "stream",
     "text": [
      "Gradient of gamma: 1.718325074762106e-05\n",
      "Epoch 2 - Loss: 0.6931518316268921\n",
      "Parameter name: gamma\n",
      "Parameter shape: torch.Size([])\n",
      "Parameter value: Parameter containing:\n",
      "tensor(0.7166, device='cuda:0', requires_grad=True)\n",
      "\n"
     ]
    },
    {
     "name": "stderr",
     "output_type": "stream",
     "text": [
      "\n",
      "100%|██████████████████████████████████████████| 10/10 [00:00<00:00, 422.70it/s]\n",
      "  8%|███▌                                        | 4/50 [00:00<00:02, 17.66it/s]"
     ]
    },
    {
     "name": "stdout",
     "output_type": "stream",
     "text": [
      "Gradient of gamma: 1.079408684745431e-05\n",
      "Epoch 3 - Loss: 0.6931506395339966\n",
      "Parameter name: gamma\n",
      "Parameter shape: torch.Size([])\n",
      "Parameter value: Parameter containing:\n",
      "tensor(0.6353, device='cuda:0', requires_grad=True)\n",
      "\n"
     ]
    },
    {
     "name": "stderr",
     "output_type": "stream",
     "text": [
      "\n",
      "100%|██████████████████████████████████████████| 10/10 [00:00<00:00, 445.70it/s]\n"
     ]
    },
    {
     "name": "stdout",
     "output_type": "stream",
     "text": [
      "Gradient of gamma: 7.199632818810642e-06\n",
      "Epoch 4 - Loss: 0.6931499242782593\n",
      "Parameter name: gamma\n",
      "Parameter shape: torch.Size([])\n",
      "Parameter value: Parameter containing:\n",
      "tensor(0.5608, device='cuda:0', requires_grad=True)\n",
      "\n"
     ]
    },
    {
     "name": "stderr",
     "output_type": "stream",
     "text": [
      "\n",
      "100%|██████████████████████████████████████████| 10/10 [00:00<00:00, 472.67it/s]\n",
      " 12%|█████▎                                      | 6/50 [00:00<00:02, 17.87it/s]"
     ]
    },
    {
     "name": "stdout",
     "output_type": "stream",
     "text": [
      "Gradient of gamma: 5.185436748433858e-06\n",
      "Epoch 5 - Loss: 0.6931494474411011\n",
      "Parameter name: gamma\n",
      "Parameter shape: torch.Size([])\n",
      "Parameter value: Parameter containing:\n",
      "tensor(0.4925, device='cuda:0', requires_grad=True)\n",
      "\n"
     ]
    },
    {
     "name": "stderr",
     "output_type": "stream",
     "text": [
      "\n",
      "100%|██████████████████████████████████████████| 10/10 [00:00<00:00, 453.00it/s]\n"
     ]
    },
    {
     "name": "stdout",
     "output_type": "stream",
     "text": [
      "Gradient of gamma: 3.838280463241972e-06\n",
      "Epoch 6 - Loss: 0.693149209022522\n",
      "Parameter name: gamma\n",
      "Parameter shape: torch.Size([])\n",
      "Parameter value: Parameter containing:\n",
      "tensor(0.4300, device='cuda:0', requires_grad=True)\n",
      "\n"
     ]
    },
    {
     "name": "stderr",
     "output_type": "stream",
     "text": [
      "\n",
      "100%|██████████████████████████████████████████| 10/10 [00:00<00:00, 449.09it/s]\n",
      " 16%|███████                                     | 8/50 [00:00<00:02, 17.89it/s]"
     ]
    },
    {
     "name": "stdout",
     "output_type": "stream",
     "text": [
      "Gradient of gamma: 3.004854079335928e-06\n",
      "Epoch 7 - Loss: 0.6931489706039429\n",
      "Parameter name: gamma\n",
      "Parameter shape: torch.Size([])\n",
      "Parameter value: Parameter containing:\n",
      "tensor(0.3725, device='cuda:0', requires_grad=True)\n",
      "\n"
     ]
    },
    {
     "name": "stderr",
     "output_type": "stream",
     "text": [
      "\n",
      "100%|██████████████████████████████████████████| 10/10 [00:00<00:00, 469.95it/s]\n"
     ]
    },
    {
     "name": "stdout",
     "output_type": "stream",
     "text": [
      "Gradient of gamma: 2.5639269551902544e-06\n",
      "Epoch 8 - Loss: 0.6931487321853638\n",
      "Parameter name: gamma\n",
      "Parameter shape: torch.Size([])\n",
      "Parameter value: Parameter containing:\n",
      "tensor(0.3196, device='cuda:0', requires_grad=True)\n",
      "\n"
     ]
    },
    {
     "name": "stderr",
     "output_type": "stream",
     "text": [
      "\n",
      "100%|██████████████████████████████████████████| 10/10 [00:00<00:00, 485.06it/s]\n",
      " 20%|████████▌                                  | 10/50 [00:00<00:02, 17.85it/s]"
     ]
    },
    {
     "name": "stdout",
     "output_type": "stream",
     "text": [
      "Gradient of gamma: 2.1691594156436622e-06\n",
      "Epoch 9 - Loss: 0.6931487321853638\n",
      "Parameter name: gamma\n",
      "Parameter shape: torch.Size([])\n",
      "Parameter value: Parameter containing:\n",
      "tensor(0.2707, device='cuda:0', requires_grad=True)\n",
      "\n"
     ]
    },
    {
     "name": "stderr",
     "output_type": "stream",
     "text": [
      "\n",
      "100%|██████████████████████████████████████████| 10/10 [00:00<00:00, 482.29it/s]\n"
     ]
    },
    {
     "name": "stdout",
     "output_type": "stream",
     "text": [
      "Gradient of gamma: 1.8796021095113247e-06\n",
      "Epoch 10 - Loss: 0.6931485533714294\n",
      "Parameter name: gamma\n",
      "Parameter shape: torch.Size([])\n",
      "Parameter value: Parameter containing:\n",
      "tensor(0.2255, device='cuda:0', requires_grad=True)\n",
      "\n"
     ]
    },
    {
     "name": "stderr",
     "output_type": "stream",
     "text": [
      "\n",
      "100%|██████████████████████████████████████████| 10/10 [00:00<00:00, 487.14it/s]\n",
      " 24%|██████████▎                                | 12/50 [00:00<00:02, 18.02it/s]"
     ]
    },
    {
     "name": "stdout",
     "output_type": "stream",
     "text": [
      "Gradient of gamma: 1.7528778926134692e-06\n",
      "Epoch 11 - Loss: 0.6931484937667847\n",
      "Parameter name: gamma\n",
      "Parameter shape: torch.Size([])\n",
      "Parameter value: Parameter containing:\n",
      "tensor(0.1836, device='cuda:0', requires_grad=True)\n",
      "\n"
     ]
    },
    {
     "name": "stderr",
     "output_type": "stream",
     "text": [
      "\n",
      "100%|██████████████████████████████████████████| 10/10 [00:00<00:00, 499.23it/s]\n"
     ]
    },
    {
     "name": "stdout",
     "output_type": "stream",
     "text": [
      "Gradient of gamma: 1.5163368516368791e-06\n",
      "Epoch 12 - Loss: 0.6931483745574951\n",
      "Parameter name: gamma\n",
      "Parameter shape: torch.Size([])\n",
      "Parameter value: Parameter containing:\n",
      "tensor(0.1446, device='cuda:0', requires_grad=True)\n",
      "\n"
     ]
    },
    {
     "name": "stderr",
     "output_type": "stream",
     "text": [
      "\n",
      "100%|██████████████████████████████████████████| 10/10 [00:00<00:00, 448.67it/s]\n",
      " 28%|████████████                               | 14/50 [00:00<00:01, 18.10it/s]"
     ]
    },
    {
     "name": "stdout",
     "output_type": "stream",
     "text": [
      "Gradient of gamma: 1.324316372119938e-06\n",
      "Epoch 13 - Loss: 0.6931483745574951\n",
      "Parameter name: gamma\n",
      "Parameter shape: torch.Size([])\n",
      "Parameter value: Parameter containing:\n",
      "tensor(0.1084, device='cuda:0', requires_grad=True)\n",
      "\n"
     ]
    },
    {
     "name": "stderr",
     "output_type": "stream",
     "text": [
      "\n",
      "100%|██████████████████████████████████████████| 10/10 [00:00<00:00, 473.69it/s]\n"
     ]
    },
    {
     "name": "stdout",
     "output_type": "stream",
     "text": [
      "Gradient of gamma: 1.269221684196964e-06\n",
      "Epoch 14 - Loss: 0.6931483149528503\n",
      "Parameter name: gamma\n",
      "Parameter shape: torch.Size([])\n",
      "Parameter value: Parameter containing:\n",
      "tensor(0.0747, device='cuda:0', requires_grad=True)\n",
      "\n"
     ]
    },
    {
     "name": "stderr",
     "output_type": "stream",
     "text": [
      "\n",
      "100%|██████████████████████████████████████████| 10/10 [00:00<00:00, 478.15it/s]\n",
      " 32%|█████████████▊                             | 16/50 [00:00<00:01, 18.20it/s]"
     ]
    },
    {
     "name": "stdout",
     "output_type": "stream",
     "text": [
      "Gradient of gamma: 1.142474729931564e-06\n",
      "Epoch 15 - Loss: 0.6931483149528503\n",
      "Parameter name: gamma\n",
      "Parameter shape: torch.Size([])\n",
      "Parameter value: Parameter containing:\n",
      "tensor(0.0433, device='cuda:0', requires_grad=True)\n",
      "\n"
     ]
    },
    {
     "name": "stderr",
     "output_type": "stream",
     "text": [
      "\n",
      "100%|██████████████████████████████████████████| 10/10 [00:00<00:00, 472.94it/s]\n"
     ]
    },
    {
     "name": "stdout",
     "output_type": "stream",
     "text": [
      "Gradient of gamma: 1.10681980913796e-06\n",
      "Epoch 16 - Loss: 0.6931483149528503\n",
      "Parameter name: gamma\n",
      "Parameter shape: torch.Size([])\n",
      "Parameter value: Parameter containing:\n",
      "tensor(0.0139, device='cuda:0', requires_grad=True)\n",
      "\n"
     ]
    },
    {
     "name": "stderr",
     "output_type": "stream",
     "text": [
      "\n",
      "100%|██████████████████████████████████████████| 10/10 [00:00<00:00, 470.08it/s]\n",
      " 36%|███████████████▍                           | 18/50 [00:00<00:01, 18.14it/s]"
     ]
    },
    {
     "name": "stdout",
     "output_type": "stream",
     "text": [
      "Gradient of gamma: 1.0280216429237043e-06\n",
      "Epoch 17 - Loss: 0.6931482553482056\n",
      "Parameter name: gamma\n",
      "Parameter shape: torch.Size([])\n",
      "Parameter value: Parameter containing:\n",
      "tensor(-0.0136, device='cuda:0', requires_grad=True)\n",
      "\n"
     ]
    },
    {
     "name": "stderr",
     "output_type": "stream",
     "text": [
      "\n",
      "100%|██████████████████████████████████████████| 10/10 [00:00<00:00, 472.21it/s]\n"
     ]
    },
    {
     "name": "stdout",
     "output_type": "stream",
     "text": [
      "Gradient of gamma: 9.707413255455322e-07\n",
      "Epoch 18 - Loss: 0.6931482553482056\n",
      "Parameter name: gamma\n",
      "Parameter shape: torch.Size([])\n",
      "Parameter value: Parameter containing:\n",
      "tensor(-0.0394, device='cuda:0', requires_grad=True)\n",
      "\n"
     ]
    },
    {
     "name": "stderr",
     "output_type": "stream",
     "text": [
      "\n",
      "100%|██████████████████████████████████████████| 10/10 [00:00<00:00, 461.73it/s]\n",
      " 40%|█████████████████▏                         | 20/50 [00:01<00:01, 18.11it/s]"
     ]
    },
    {
     "name": "stdout",
     "output_type": "stream",
     "text": [
      "Gradient of gamma: 9.166783456748817e-07\n",
      "Epoch 19 - Loss: 0.693148136138916\n",
      "Parameter name: gamma\n",
      "Parameter shape: torch.Size([])\n",
      "Parameter value: Parameter containing:\n",
      "tensor(-0.0635, device='cuda:0', requires_grad=True)\n",
      "\n"
     ]
    },
    {
     "name": "stderr",
     "output_type": "stream",
     "text": [
      "\n",
      "100%|██████████████████████████████████████████| 10/10 [00:00<00:00, 463.07it/s]\n"
     ]
    },
    {
     "name": "stdout",
     "output_type": "stream",
     "text": [
      "Gradient of gamma: 8.68232348238962e-07\n",
      "Epoch 20 - Loss: 0.693148136138916\n",
      "Parameter name: gamma\n",
      "Parameter shape: torch.Size([])\n",
      "Parameter value: Parameter containing:\n",
      "tensor(-0.0862, device='cuda:0', requires_grad=True)\n",
      "\n"
     ]
    },
    {
     "name": "stderr",
     "output_type": "stream",
     "text": [
      "\n",
      "100%|██████████████████████████████████████████| 10/10 [00:00<00:00, 470.68it/s]\n",
      " 44%|██████████████████▉                        | 22/50 [00:01<00:01, 18.19it/s]"
     ]
    },
    {
     "name": "stdout",
     "output_type": "stream",
     "text": [
      "Gradient of gamma: 8.231811534642475e-07\n",
      "Epoch 21 - Loss: 0.693148136138916\n",
      "Parameter name: gamma\n",
      "Parameter shape: torch.Size([])\n",
      "Parameter value: Parameter containing:\n",
      "tensor(-0.1075, device='cuda:0', requires_grad=True)\n",
      "\n"
     ]
    },
    {
     "name": "stderr",
     "output_type": "stream",
     "text": [
      "\n",
      "100%|██████████████████████████████████████████| 10/10 [00:00<00:00, 472.69it/s]\n"
     ]
    },
    {
     "name": "stdout",
     "output_type": "stream",
     "text": [
      "Gradient of gamma: 8.074731567830895e-07\n",
      "Epoch 22 - Loss: 0.6931480169296265\n",
      "Parameter name: gamma\n",
      "Parameter shape: torch.Size([])\n",
      "Parameter value: Parameter containing:\n",
      "tensor(-0.1275, device='cuda:0', requires_grad=True)\n",
      "\n"
     ]
    },
    {
     "name": "stderr",
     "output_type": "stream",
     "text": [
      "\n",
      "100%|██████████████████████████████████████████| 10/10 [00:00<00:00, 454.15it/s]\n",
      " 48%|████████████████████▋                      | 24/50 [00:01<00:01, 18.13it/s]"
     ]
    },
    {
     "name": "stdout",
     "output_type": "stream",
     "text": [
      "Gradient of gamma: 7.928890113362286e-07\n",
      "Epoch 23 - Loss: 0.6931480169296265\n",
      "Parameter name: gamma\n",
      "Parameter shape: torch.Size([])\n",
      "Parameter value: Parameter containing:\n",
      "tensor(-0.1465, device='cuda:0', requires_grad=True)\n",
      "\n"
     ]
    },
    {
     "name": "stderr",
     "output_type": "stream",
     "text": [
      "\n",
      "100%|██████████████████████████████████████████| 10/10 [00:00<00:00, 460.92it/s]\n"
     ]
    },
    {
     "name": "stdout",
     "output_type": "stream",
     "text": [
      "Gradient of gamma: 7.801679089425306e-07\n",
      "Epoch 24 - Loss: 0.6931480169296265\n",
      "Parameter name: gamma\n",
      "Parameter shape: torch.Size([])\n",
      "Parameter value: Parameter containing:\n",
      "tensor(-0.1644, device='cuda:0', requires_grad=True)\n",
      "\n"
     ]
    },
    {
     "name": "stderr",
     "output_type": "stream",
     "text": [
      "\n",
      "100%|██████████████████████████████████████████| 10/10 [00:00<00:00, 465.01it/s]\n",
      " 52%|██████████████████████▎                    | 26/50 [00:01<00:01, 18.10it/s]"
     ]
    },
    {
     "name": "stdout",
     "output_type": "stream",
     "text": [
      "Gradient of gamma: 7.681322244934563e-07\n",
      "Epoch 25 - Loss: 0.6931480169296265\n",
      "Parameter name: gamma\n",
      "Parameter shape: torch.Size([])\n",
      "Parameter value: Parameter containing:\n",
      "tensor(-0.1814, device='cuda:0', requires_grad=True)\n",
      "\n"
     ]
    },
    {
     "name": "stderr",
     "output_type": "stream",
     "text": [
      "\n",
      "100%|██████████████████████████████████████████| 10/10 [00:00<00:00, 474.54it/s]\n"
     ]
    },
    {
     "name": "stdout",
     "output_type": "stream",
     "text": [
      "Gradient of gamma: 7.571132414341264e-07\n",
      "Epoch 26 - Loss: 0.6931480169296265\n",
      "Parameter name: gamma\n",
      "Parameter shape: torch.Size([])\n",
      "Parameter value: Parameter containing:\n",
      "tensor(-0.1975, device='cuda:0', requires_grad=True)\n",
      "\n"
     ]
    },
    {
     "name": "stderr",
     "output_type": "stream",
     "text": [
      "\n",
      "100%|██████████████████████████████████████████| 10/10 [00:00<00:00, 437.89it/s]\n",
      " 56%|████████████████████████                   | 28/50 [00:01<00:01, 17.99it/s]"
     ]
    },
    {
     "name": "stdout",
     "output_type": "stream",
     "text": [
      "Gradient of gamma: 7.52945481963252e-07\n",
      "Epoch 27 - Loss: 0.6931480169296265\n",
      "Parameter name: gamma\n",
      "Parameter shape: torch.Size([])\n",
      "Parameter value: Parameter containing:\n",
      "tensor(-0.2128, device='cuda:0', requires_grad=True)\n",
      "\n"
     ]
    },
    {
     "name": "stderr",
     "output_type": "stream",
     "text": [
      "\n",
      "100%|██████████████████████████████████████████| 10/10 [00:00<00:00, 465.79it/s]\n"
     ]
    },
    {
     "name": "stdout",
     "output_type": "stream",
     "text": [
      "Gradient of gamma: 7.117141649359837e-07\n",
      "Epoch 28 - Loss: 0.6931480169296265\n",
      "Parameter name: gamma\n",
      "Parameter shape: torch.Size([])\n",
      "Parameter value: Parameter containing:\n",
      "tensor(-0.2275, device='cuda:0', requires_grad=True)\n",
      "\n"
     ]
    },
    {
     "name": "stderr",
     "output_type": "stream",
     "text": [
      "\n",
      "100%|██████████████████████████████████████████| 10/10 [00:00<00:00, 479.67it/s]\n",
      " 60%|█████████████████████████▊                 | 30/50 [00:01<00:01, 18.04it/s]"
     ]
    },
    {
     "name": "stdout",
     "output_type": "stream",
     "text": [
      "Gradient of gamma: 7.03880459695938e-07\n",
      "Epoch 29 - Loss: 0.6931480169296265\n",
      "Parameter name: gamma\n",
      "Parameter shape: torch.Size([])\n",
      "Parameter value: Parameter containing:\n",
      "tensor(-0.2414, device='cuda:0', requires_grad=True)\n",
      "\n"
     ]
    },
    {
     "name": "stderr",
     "output_type": "stream",
     "text": [
      "\n",
      "100%|██████████████████████████████████████████| 10/10 [00:00<00:00, 465.49it/s]\n"
     ]
    },
    {
     "name": "stdout",
     "output_type": "stream",
     "text": [
      "Gradient of gamma: 6.965404395486985e-07\n",
      "Epoch 30 - Loss: 0.6931480169296265\n",
      "Parameter name: gamma\n",
      "Parameter shape: torch.Size([])\n",
      "Parameter value: Parameter containing:\n",
      "tensor(-0.2547, device='cuda:0', requires_grad=True)\n",
      "\n"
     ]
    },
    {
     "name": "stderr",
     "output_type": "stream",
     "text": [
      "\n",
      "100%|██████████████████████████████████████████| 10/10 [00:00<00:00, 464.84it/s]\n",
      " 64%|███████████████████████████▌               | 32/50 [00:01<00:00, 18.01it/s]"
     ]
    },
    {
     "name": "stdout",
     "output_type": "stream",
     "text": [
      "Gradient of gamma: 7.130028052415582e-07\n",
      "Epoch 31 - Loss: 0.6931478977203369\n",
      "Parameter name: gamma\n",
      "Parameter shape: torch.Size([])\n",
      "Parameter value: Parameter containing:\n",
      "tensor(-0.2676, device='cuda:0', requires_grad=True)\n",
      "\n"
     ]
    },
    {
     "name": "stderr",
     "output_type": "stream",
     "text": [
      "\n",
      "100%|██████████████████████████████████████████| 10/10 [00:00<00:00, 457.69it/s]\n"
     ]
    },
    {
     "name": "stdout",
     "output_type": "stream",
     "text": [
      "Gradient of gamma: 7.07083415818488e-07\n",
      "Epoch 32 - Loss: 0.6931478977203369\n",
      "Parameter name: gamma\n",
      "Parameter shape: torch.Size([])\n",
      "Parameter value: Parameter containing:\n",
      "tensor(-0.2799, device='cuda:0', requires_grad=True)\n",
      "\n"
     ]
    },
    {
     "name": "stderr",
     "output_type": "stream",
     "text": [
      "\n",
      "100%|██████████████████████████████████████████| 10/10 [00:00<00:00, 456.24it/s]\n",
      " 68%|█████████████████████████████▏             | 34/50 [00:01<00:00, 18.00it/s]"
     ]
    },
    {
     "name": "stdout",
     "output_type": "stream",
     "text": [
      "Gradient of gamma: 6.054220875739702e-07\n",
      "Epoch 33 - Loss: 0.6931479573249817\n",
      "Parameter name: gamma\n",
      "Parameter shape: torch.Size([])\n",
      "Parameter value: Parameter containing:\n",
      "tensor(-0.2917, device='cuda:0', requires_grad=True)\n",
      "\n"
     ]
    },
    {
     "name": "stderr",
     "output_type": "stream",
     "text": [
      "\n",
      "100%|██████████████████████████████████████████| 10/10 [00:00<00:00, 457.19it/s]\n"
     ]
    },
    {
     "name": "stdout",
     "output_type": "stream",
     "text": [
      "Gradient of gamma: 6.006443413753004e-07\n",
      "Epoch 34 - Loss: 0.6931478977203369\n",
      "Parameter name: gamma\n",
      "Parameter shape: torch.Size([])\n",
      "Parameter value: Parameter containing:\n",
      "tensor(-0.3030, device='cuda:0', requires_grad=True)\n",
      "\n"
     ]
    },
    {
     "name": "stderr",
     "output_type": "stream",
     "text": [
      "\n",
      "100%|██████████████████████████████████████████| 10/10 [00:00<00:00, 475.50it/s]\n",
      " 72%|██████████████████████████████▉            | 36/50 [00:01<00:00, 17.99it/s]"
     ]
    },
    {
     "name": "stdout",
     "output_type": "stream",
     "text": [
      "Gradient of gamma: 5.948733132754569e-07\n",
      "Epoch 35 - Loss: 0.6931478977203369\n",
      "Parameter name: gamma\n",
      "Parameter shape: torch.Size([])\n",
      "Parameter value: Parameter containing:\n",
      "tensor(-0.3139, device='cuda:0', requires_grad=True)\n",
      "\n"
     ]
    },
    {
     "name": "stderr",
     "output_type": "stream",
     "text": [
      "\n",
      "100%|██████████████████████████████████████████| 10/10 [00:00<00:00, 477.72it/s]\n"
     ]
    },
    {
     "name": "stdout",
     "output_type": "stream",
     "text": [
      "Gradient of gamma: 5.894648325011076e-07\n",
      "Epoch 36 - Loss: 0.6931478977203369\n",
      "Parameter name: gamma\n",
      "Parameter shape: torch.Size([])\n",
      "Parameter value: Parameter containing:\n",
      "tensor(-0.3244, device='cuda:0', requires_grad=True)\n",
      "\n"
     ]
    },
    {
     "name": "stderr",
     "output_type": "stream",
     "text": [
      "\n",
      "100%|██████████████████████████████████████████| 10/10 [00:00<00:00, 475.04it/s]\n",
      " 76%|████████████████████████████████▋          | 38/50 [00:02<00:00, 17.27it/s]"
     ]
    },
    {
     "name": "stdout",
     "output_type": "stream",
     "text": [
      "Gradient of gamma: 5.851816240465268e-07\n",
      "Epoch 37 - Loss: 0.6931478977203369\n",
      "Parameter name: gamma\n",
      "Parameter shape: torch.Size([])\n",
      "Parameter value: Parameter containing:\n",
      "tensor(-0.3345, device='cuda:0', requires_grad=True)\n",
      "\n"
     ]
    },
    {
     "name": "stderr",
     "output_type": "stream",
     "text": [
      "\n",
      "100%|██████████████████████████████████████████| 10/10 [00:00<00:00, 375.05it/s]\n"
     ]
    },
    {
     "name": "stdout",
     "output_type": "stream",
     "text": [
      "Gradient of gamma: 5.927324764343211e-07\n",
      "Epoch 38 - Loss: 0.6931478977203369\n",
      "Parameter name: gamma\n",
      "Parameter shape: torch.Size([])\n",
      "Parameter value: Parameter containing:\n",
      "tensor(-0.3444, device='cuda:0', requires_grad=True)\n",
      "\n"
     ]
    },
    {
     "name": "stderr",
     "output_type": "stream",
     "text": [
      "\n",
      "100%|██████████████████████████████████████████| 10/10 [00:00<00:00, 451.33it/s]\n",
      " 80%|██████████████████████████████████▍        | 40/50 [00:02<00:00, 17.09it/s]"
     ]
    },
    {
     "name": "stdout",
     "output_type": "stream",
     "text": [
      "Gradient of gamma: 5.555962161452044e-07\n",
      "Epoch 39 - Loss: 0.6931478977203369\n",
      "Parameter name: gamma\n",
      "Parameter shape: torch.Size([])\n",
      "Parameter value: Parameter containing:\n",
      "tensor(-0.3539, device='cuda:0', requires_grad=True)\n",
      "\n"
     ]
    },
    {
     "name": "stderr",
     "output_type": "stream",
     "text": [
      "\n",
      "100%|██████████████████████████████████████████| 10/10 [00:00<00:00, 462.01it/s]\n"
     ]
    },
    {
     "name": "stdout",
     "output_type": "stream",
     "text": [
      "Gradient of gamma: 5.528087285711081e-07\n",
      "Epoch 40 - Loss: 0.6931478977203369\n",
      "Parameter name: gamma\n",
      "Parameter shape: torch.Size([])\n",
      "Parameter value: Parameter containing:\n",
      "tensor(-0.3631, device='cuda:0', requires_grad=True)\n",
      "\n"
     ]
    },
    {
     "name": "stderr",
     "output_type": "stream",
     "text": [
      "\n",
      "100%|██████████████████████████████████████████| 10/10 [00:00<00:00, 453.70it/s]\n",
      " 84%|████████████████████████████████████       | 42/50 [00:02<00:00, 17.44it/s]"
     ]
    },
    {
     "name": "stdout",
     "output_type": "stream",
     "text": [
      "Gradient of gamma: 5.606316335615702e-07\n",
      "Epoch 41 - Loss: 0.6931478977203369\n",
      "Parameter name: gamma\n",
      "Parameter shape: torch.Size([])\n",
      "Parameter value: Parameter containing:\n",
      "tensor(-0.3720, device='cuda:0', requires_grad=True)\n",
      "\n"
     ]
    },
    {
     "name": "stderr",
     "output_type": "stream",
     "text": [
      "\n",
      "100%|██████████████████████████████████████████| 10/10 [00:00<00:00, 467.01it/s]\n"
     ]
    },
    {
     "name": "stdout",
     "output_type": "stream",
     "text": [
      "Gradient of gamma: 5.603476438409416e-07\n",
      "Epoch 42 - Loss: 0.6931478977203369\n",
      "Parameter name: gamma\n",
      "Parameter shape: torch.Size([])\n",
      "Parameter value: Parameter containing:\n",
      "tensor(-0.3808, device='cuda:0', requires_grad=True)\n",
      "\n"
     ]
    },
    {
     "name": "stderr",
     "output_type": "stream",
     "text": [
      "\n",
      "100%|██████████████████████████████████████████| 10/10 [00:00<00:00, 497.80it/s]\n",
      " 88%|█████████████████████████████████████▊     | 44/50 [00:02<00:00, 17.75it/s]"
     ]
    },
    {
     "name": "stdout",
     "output_type": "stream",
     "text": [
      "Gradient of gamma: 5.258202691038605e-07\n",
      "Epoch 43 - Loss: 0.6931478977203369\n",
      "Parameter name: gamma\n",
      "Parameter shape: torch.Size([])\n",
      "Parameter value: Parameter containing:\n",
      "tensor(-0.3893, device='cuda:0', requires_grad=True)\n",
      "\n"
     ]
    },
    {
     "name": "stderr",
     "output_type": "stream",
     "text": [
      "\n",
      "100%|██████████████████████████████████████████| 10/10 [00:00<00:00, 508.23it/s]\n"
     ]
    },
    {
     "name": "stdout",
     "output_type": "stream",
     "text": [
      "Gradient of gamma: 5.649494596582372e-07\n",
      "Epoch 44 - Loss: 0.6931478977203369\n",
      "Parameter name: gamma\n",
      "Parameter shape: torch.Size([])\n",
      "Parameter value: Parameter containing:\n",
      "tensor(-0.3976, device='cuda:0', requires_grad=True)\n",
      "\n"
     ]
    },
    {
     "name": "stderr",
     "output_type": "stream",
     "text": [
      "\n",
      "100%|██████████████████████████████████████████| 10/10 [00:00<00:00, 432.20it/s]\n",
      " 92%|███████████████████████████████████████▌   | 46/50 [00:02<00:00, 17.84it/s]"
     ]
    },
    {
     "name": "stdout",
     "output_type": "stream",
     "text": [
      "Gradient of gamma: 5.774022611149121e-07\n",
      "Epoch 45 - Loss: 0.6931478977203369\n",
      "Parameter name: gamma\n",
      "Parameter shape: torch.Size([])\n",
      "Parameter value: Parameter containing:\n",
      "tensor(-0.4058, device='cuda:0', requires_grad=True)\n",
      "\n"
     ]
    },
    {
     "name": "stderr",
     "output_type": "stream",
     "text": [
      "\n",
      "100%|██████████████████████████████████████████| 10/10 [00:00<00:00, 476.11it/s]\n"
     ]
    },
    {
     "name": "stdout",
     "output_type": "stream",
     "text": [
      "Gradient of gamma: 5.770771167590283e-07\n",
      "Epoch 46 - Loss: 0.6931478977203369\n",
      "Parameter name: gamma\n",
      "Parameter shape: torch.Size([])\n",
      "Parameter value: Parameter containing:\n",
      "tensor(-0.4139, device='cuda:0', requires_grad=True)\n",
      "\n"
     ]
    },
    {
     "name": "stderr",
     "output_type": "stream",
     "text": [
      "\n",
      "100%|██████████████████████████████████████████| 10/10 [00:00<00:00, 464.47it/s]\n",
      " 96%|█████████████████████████████████████████▎ | 48/50 [00:02<00:00, 17.85it/s]"
     ]
    },
    {
     "name": "stdout",
     "output_type": "stream",
     "text": [
      "Gradient of gamma: 5.269839675747789e-07\n",
      "Epoch 47 - Loss: 0.6931478977203369\n",
      "Parameter name: gamma\n",
      "Parameter shape: torch.Size([])\n",
      "Parameter value: Parameter containing:\n",
      "tensor(-0.4218, device='cuda:0', requires_grad=True)\n",
      "\n"
     ]
    },
    {
     "name": "stderr",
     "output_type": "stream",
     "text": [
      "\n",
      "100%|██████████████████████████████████████████| 10/10 [00:00<00:00, 452.89it/s]\n"
     ]
    },
    {
     "name": "stdout",
     "output_type": "stream",
     "text": [
      "Gradient of gamma: 5.383635652833618e-07\n",
      "Epoch 48 - Loss: 0.6931478977203369\n",
      "Parameter name: gamma\n",
      "Parameter shape: torch.Size([])\n",
      "Parameter value: Parameter containing:\n",
      "tensor(-0.4296, device='cuda:0', requires_grad=True)\n",
      "\n"
     ]
    },
    {
     "name": "stderr",
     "output_type": "stream",
     "text": [
      "\n",
      "100%|██████████████████████████████████████████| 10/10 [00:00<00:00, 461.38it/s]\n",
      "100%|███████████████████████████████████████████| 50/50 [00:02<00:00, 17.87it/s]\n"
     ]
    },
    {
     "name": "stdout",
     "output_type": "stream",
     "text": [
      "Gradient of gamma: 5.387437340687029e-07\n",
      "Epoch 49 - Loss: 0.6931478977203369\n",
      "Parameter name: gamma\n",
      "Parameter shape: torch.Size([])\n",
      "Parameter value: Parameter containing:\n",
      "tensor(-0.4373, device='cuda:0', requires_grad=True)\n",
      "\n"
     ]
    },
    {
     "name": "stderr",
     "output_type": "stream",
     "text": [
      "  0%|                                                    | 0/50 [00:00<?, ?it/s]\n",
      "100%|██████████████████████████████████████████| 10/10 [00:00<00:00, 426.86it/s]\n"
     ]
    },
    {
     "name": "stdout",
     "output_type": "stream",
     "text": [
      "Gradient of gamma: 0.0002437620423734188\n",
      "Epoch 0 - Loss: 0.6930958032608032\n",
      "Parameter name: gamma\n",
      "Parameter shape: torch.Size([])\n",
      "Parameter value: Parameter containing:\n",
      "tensor(1.1000, device='cuda:0', requires_grad=True)\n",
      "\n"
     ]
    },
    {
     "name": "stderr",
     "output_type": "stream",
     "text": [
      "\n",
      "100%|██████████████████████████████████████████| 10/10 [00:00<00:00, 456.06it/s]\n",
      "  4%|█▊                                          | 2/50 [00:00<00:02, 16.74it/s]"
     ]
    },
    {
     "name": "stdout",
     "output_type": "stream",
     "text": [
      "Gradient of gamma: 0.0004259822890162468\n",
      "Epoch 1 - Loss: 0.6930629014968872\n",
      "Parameter name: gamma\n",
      "Parameter shape: torch.Size([])\n",
      "Parameter value: Parameter containing:\n",
      "tensor(1.1979, device='cuda:0', requires_grad=True)\n",
      "\n"
     ]
    },
    {
     "name": "stderr",
     "output_type": "stream",
     "text": [
      "\n",
      "100%|██████████████████████████████████████████| 10/10 [00:00<00:00, 470.50it/s]\n"
     ]
    },
    {
     "name": "stdout",
     "output_type": "stream",
     "text": [
      "Gradient of gamma: 0.0007227081805467606\n",
      "Epoch 2 - Loss: 0.6930080652236938\n",
      "Parameter name: gamma\n",
      "Parameter shape: torch.Size([])\n",
      "Parameter value: Parameter containing:\n",
      "tensor(1.2932, device='cuda:0', requires_grad=True)\n",
      "\n"
     ]
    },
    {
     "name": "stderr",
     "output_type": "stream",
     "text": [
      "\n",
      "100%|██████████████████████████████████████████| 10/10 [00:00<00:00, 467.00it/s]\n",
      "  8%|███▌                                        | 4/50 [00:00<00:02, 17.34it/s]"
     ]
    },
    {
     "name": "stdout",
     "output_type": "stream",
     "text": [
      "Gradient of gamma: 0.0011899922974407673\n",
      "Epoch 3 - Loss: 0.692918598651886\n",
      "Parameter name: gamma\n",
      "Parameter shape: torch.Size([])\n",
      "Parameter value: Parameter containing:\n",
      "tensor(1.3862, device='cuda:0', requires_grad=True)\n",
      "\n"
     ]
    },
    {
     "name": "stderr",
     "output_type": "stream",
     "text": [
      "\n",
      "100%|██████████████████████████████████████████| 10/10 [00:00<00:00, 490.05it/s]\n"
     ]
    },
    {
     "name": "stdout",
     "output_type": "stream",
     "text": [
      "Gradient of gamma: 0.001899878028780222\n",
      "Epoch 4 - Loss: 0.6927769780158997\n",
      "Parameter name: gamma\n",
      "Parameter shape: torch.Size([])\n",
      "Parameter value: Parameter containing:\n",
      "tensor(1.4776, device='cuda:0', requires_grad=True)\n",
      "\n"
     ]
    },
    {
     "name": "stderr",
     "output_type": "stream",
     "text": [
      "\n",
      "100%|██████████████████████████████████████████| 10/10 [00:00<00:00, 484.08it/s]\n",
      " 12%|█████▎                                      | 6/50 [00:00<00:02, 17.75it/s]"
     ]
    },
    {
     "name": "stdout",
     "output_type": "stream",
     "text": [
      "Gradient of gamma: 0.0029481062665581703\n",
      "Epoch 5 - Loss: 0.6925589442253113\n",
      "Parameter name: gamma\n",
      "Parameter shape: torch.Size([])\n",
      "Parameter value: Parameter containing:\n",
      "tensor(1.5678, device='cuda:0', requires_grad=True)\n",
      "\n"
     ]
    },
    {
     "name": "stderr",
     "output_type": "stream",
     "text": [
      "\n",
      "100%|██████████████████████████████████████████| 10/10 [00:00<00:00, 469.40it/s]\n"
     ]
    },
    {
     "name": "stdout",
     "output_type": "stream",
     "text": [
      "Gradient of gamma: 0.004475932102650404\n",
      "Epoch 6 - Loss: 0.6922274827957153\n",
      "Parameter name: gamma\n",
      "Parameter shape: torch.Size([])\n",
      "Parameter value: Parameter containing:\n",
      "tensor(1.6574, device='cuda:0', requires_grad=True)\n",
      "\n"
     ]
    },
    {
     "name": "stderr",
     "output_type": "stream",
     "text": [
      "\n",
      "100%|██████████████████████████████████████████| 10/10 [00:00<00:00, 467.23it/s]\n",
      " 16%|███████                                     | 8/50 [00:00<00:02, 17.79it/s]"
     ]
    },
    {
     "name": "stdout",
     "output_type": "stream",
     "text": [
      "Gradient of gamma: 0.0066415960900485516\n",
      "Epoch 7 - Loss: 0.691737174987793\n",
      "Parameter name: gamma\n",
      "Parameter shape: torch.Size([])\n",
      "Parameter value: Parameter containing:\n",
      "tensor(1.7468, device='cuda:0', requires_grad=True)\n",
      "\n"
     ]
    },
    {
     "name": "stderr",
     "output_type": "stream",
     "text": [
      "\n",
      "100%|██████████████████████████████████████████| 10/10 [00:00<00:00, 511.92it/s]\n"
     ]
    },
    {
     "name": "stdout",
     "output_type": "stream",
     "text": [
      "Gradient of gamma: 0.009718099609017372\n",
      "Epoch 8 - Loss: 0.691010594367981\n",
      "Parameter name: gamma\n",
      "Parameter shape: torch.Size([])\n",
      "Parameter value: Parameter containing:\n",
      "tensor(1.8364, device='cuda:0', requires_grad=True)\n",
      "\n"
     ]
    },
    {
     "name": "stderr",
     "output_type": "stream",
     "text": [
      "\n",
      "100%|██████████████████████████████████████████| 10/10 [00:00<00:00, 465.25it/s]\n",
      " 20%|████████▌                                  | 10/50 [00:00<00:02, 17.90it/s]"
     ]
    },
    {
     "name": "stdout",
     "output_type": "stream",
     "text": [
      "Gradient of gamma: 0.013959821313619614\n",
      "Epoch 9 - Loss: 0.6899650692939758\n",
      "Parameter name: gamma\n",
      "Parameter shape: torch.Size([])\n",
      "Parameter value: Parameter containing:\n",
      "tensor(1.9265, device='cuda:0', requires_grad=True)\n",
      "\n"
     ]
    },
    {
     "name": "stderr",
     "output_type": "stream",
     "text": [
      "\n",
      "100%|██████████████████████████████████████████| 10/10 [00:00<00:00, 473.56it/s]\n"
     ]
    },
    {
     "name": "stdout",
     "output_type": "stream",
     "text": [
      "Gradient of gamma: 0.019845012575387955\n",
      "Epoch 10 - Loss: 0.6884518265724182\n",
      "Parameter name: gamma\n",
      "Parameter shape: torch.Size([])\n",
      "Parameter value: Parameter containing:\n",
      "tensor(2.0173, device='cuda:0', requires_grad=True)\n",
      "\n"
     ]
    },
    {
     "name": "stderr",
     "output_type": "stream",
     "text": [
      "\n",
      "100%|██████████████████████████████████████████| 10/10 [00:00<00:00, 482.10it/s]\n",
      " 24%|██████████▎                                | 12/50 [00:00<00:02, 17.96it/s]"
     ]
    },
    {
     "name": "stdout",
     "output_type": "stream",
     "text": [
      "Gradient of gamma: 0.027800099924206734\n",
      "Epoch 11 - Loss: 0.6863190531730652\n",
      "Parameter name: gamma\n",
      "Parameter shape: torch.Size([])\n",
      "Parameter value: Parameter containing:\n",
      "tensor(2.1089, device='cuda:0', requires_grad=True)\n",
      "\n"
     ]
    },
    {
     "name": "stderr",
     "output_type": "stream",
     "text": [
      "\n",
      "100%|██████████████████████████████████████████| 10/10 [00:00<00:00, 479.63it/s]\n"
     ]
    },
    {
     "name": "stdout",
     "output_type": "stream",
     "text": [
      "Gradient of gamma: 0.038691118359565735\n",
      "Epoch 12 - Loss: 0.683276355266571\n",
      "Parameter name: gamma\n",
      "Parameter shape: torch.Size([])\n",
      "Parameter value: Parameter containing:\n",
      "tensor(2.2016, device='cuda:0', requires_grad=True)\n",
      "\n"
     ]
    },
    {
     "name": "stderr",
     "output_type": "stream",
     "text": [
      "\n",
      "100%|██████████████████████████████████████████| 10/10 [00:00<00:00, 463.03it/s]\n",
      " 28%|████████████                               | 14/50 [00:00<00:02, 17.94it/s]"
     ]
    },
    {
     "name": "stdout",
     "output_type": "stream",
     "text": [
      "Gradient of gamma: 0.053066037595272064\n",
      "Epoch 13 - Loss: 0.6790772676467896\n",
      "Parameter name: gamma\n",
      "Parameter shape: torch.Size([])\n",
      "Parameter value: Parameter containing:\n",
      "tensor(2.2954, device='cuda:0', requires_grad=True)\n",
      "\n"
     ]
    },
    {
     "name": "stderr",
     "output_type": "stream",
     "text": [
      "\n",
      "100%|██████████████████████████████████████████| 10/10 [00:00<00:00, 489.54it/s]\n"
     ]
    },
    {
     "name": "stdout",
     "output_type": "stream",
     "text": [
      "Gradient of gamma: 0.07227349281311035\n",
      "Epoch 14 - Loss: 0.6732115745544434\n",
      "Parameter name: gamma\n",
      "Parameter shape: torch.Size([])\n",
      "Parameter value: Parameter containing:\n",
      "tensor(2.3905, device='cuda:0', requires_grad=True)\n",
      "\n"
     ]
    },
    {
     "name": "stderr",
     "output_type": "stream",
     "text": [
      "\n",
      "100%|██████████████████████████████████████████| 10/10 [00:00<00:00, 468.56it/s]\n",
      " 32%|█████████████▊                             | 16/50 [00:00<00:01, 18.00it/s]"
     ]
    },
    {
     "name": "stdout",
     "output_type": "stream",
     "text": [
      "Gradient of gamma: 0.09711943566799164\n",
      "Epoch 15 - Loss: 0.6652470827102661\n",
      "Parameter name: gamma\n",
      "Parameter shape: torch.Size([])\n",
      "Parameter value: Parameter containing:\n",
      "tensor(2.4870, device='cuda:0', requires_grad=True)\n",
      "\n"
     ]
    },
    {
     "name": "stderr",
     "output_type": "stream",
     "text": [
      "\n",
      "100%|██████████████████████████████████████████| 10/10 [00:00<00:00, 476.97it/s]\n"
     ]
    },
    {
     "name": "stdout",
     "output_type": "stream",
     "text": [
      "Gradient of gamma: 0.129444420337677\n",
      "Epoch 16 - Loss: 0.6543208956718445\n",
      "Parameter name: gamma\n",
      "Parameter shape: torch.Size([])\n",
      "Parameter value: Parameter containing:\n",
      "tensor(2.5849, device='cuda:0', requires_grad=True)\n",
      "\n"
     ]
    },
    {
     "name": "stderr",
     "output_type": "stream",
     "text": [
      "\n",
      "100%|██████████████████████████████████████████| 10/10 [00:00<00:00, 475.89it/s]\n",
      " 36%|███████████████▍                           | 18/50 [00:01<00:01, 17.94it/s]"
     ]
    },
    {
     "name": "stdout",
     "output_type": "stream",
     "text": [
      "Gradient of gamma: 0.1700146347284317\n",
      "Epoch 17 - Loss: 0.6397133469581604\n",
      "Parameter name: gamma\n",
      "Parameter shape: torch.Size([])\n",
      "Parameter value: Parameter containing:\n",
      "tensor(2.6845, device='cuda:0', requires_grad=True)\n",
      "\n"
     ]
    },
    {
     "name": "stderr",
     "output_type": "stream",
     "text": [
      "\n",
      "100%|██████████████████████████████████████████| 10/10 [00:00<00:00, 474.06it/s]\n"
     ]
    },
    {
     "name": "stdout",
     "output_type": "stream",
     "text": [
      "Gradient of gamma: 0.21961098909378052\n",
      "Epoch 18 - Loss: 0.6203721165657043\n",
      "Parameter name: gamma\n",
      "Parameter shape: torch.Size([])\n",
      "Parameter value: Parameter containing:\n",
      "tensor(2.7860, device='cuda:0', requires_grad=True)\n",
      "\n"
     ]
    },
    {
     "name": "stderr",
     "output_type": "stream",
     "text": [
      "\n",
      "100%|██████████████████████████████████████████| 10/10 [00:00<00:00, 464.56it/s]\n",
      " 40%|█████████████████▏                         | 20/50 [00:01<00:01, 17.91it/s]"
     ]
    },
    {
     "name": "stdout",
     "output_type": "stream",
     "text": [
      "Gradient of gamma: 0.27746742963790894\n",
      "Epoch 19 - Loss: 0.5951799750328064\n",
      "Parameter name: gamma\n",
      "Parameter shape: torch.Size([])\n",
      "Parameter value: Parameter containing:\n",
      "tensor(2.8894, device='cuda:0', requires_grad=True)\n",
      "\n"
     ]
    },
    {
     "name": "stderr",
     "output_type": "stream",
     "text": [
      "\n",
      "100%|██████████████████████████████████████████| 10/10 [00:00<00:00, 469.31it/s]\n"
     ]
    },
    {
     "name": "stdout",
     "output_type": "stream",
     "text": [
      "Gradient of gamma: 0.3390035629272461\n",
      "Epoch 20 - Loss: 0.563535749912262\n",
      "Parameter name: gamma\n",
      "Parameter shape: torch.Size([])\n",
      "Parameter value: Parameter containing:\n",
      "tensor(2.9951, device='cuda:0', requires_grad=True)\n",
      "\n"
     ]
    },
    {
     "name": "stderr",
     "output_type": "stream",
     "text": [
      "\n",
      "100%|██████████████████████████████████████████| 10/10 [00:00<00:00, 463.46it/s]\n",
      " 44%|██████████████████▉                        | 22/50 [00:01<00:01, 17.88it/s]"
     ]
    },
    {
     "name": "stdout",
     "output_type": "stream",
     "text": [
      "Gradient of gamma: 0.3961261808872223\n",
      "Epoch 21 - Loss: 0.5243575572967529\n",
      "Parameter name: gamma\n",
      "Parameter shape: torch.Size([])\n",
      "Parameter value: Parameter containing:\n",
      "tensor(3.1035, device='cuda:0', requires_grad=True)\n",
      "\n"
     ]
    },
    {
     "name": "stderr",
     "output_type": "stream",
     "text": [
      "\n",
      "100%|██████████████████████████████████████████| 10/10 [00:00<00:00, 460.53it/s]\n"
     ]
    },
    {
     "name": "stdout",
     "output_type": "stream",
     "text": [
      "Gradient of gamma: 0.4307234287261963\n",
      "Epoch 22 - Loss: 0.47928863763809204\n",
      "Parameter name: gamma\n",
      "Parameter shape: torch.Size([])\n",
      "Parameter value: Parameter containing:\n",
      "tensor(3.2149, device='cuda:0', requires_grad=True)\n",
      "\n"
     ]
    },
    {
     "name": "stderr",
     "output_type": "stream",
     "text": [
      "\n",
      "100%|██████████████████████████████████████████| 10/10 [00:00<00:00, 470.78it/s]\n",
      " 48%|████████████████████▋                      | 24/50 [00:01<00:01, 17.83it/s]"
     ]
    },
    {
     "name": "stdout",
     "output_type": "stream",
     "text": [
      "Gradient of gamma: 0.42155927419662476\n",
      "Epoch 23 - Loss: 0.4311210513114929\n",
      "Parameter name: gamma\n",
      "Parameter shape: torch.Size([])\n",
      "Parameter value: Parameter containing:\n",
      "tensor(3.3293, device='cuda:0', requires_grad=True)\n",
      "\n"
     ]
    },
    {
     "name": "stderr",
     "output_type": "stream",
     "text": [
      "\n",
      "100%|██████████████████████████████████████████| 10/10 [00:00<00:00, 476.28it/s]\n"
     ]
    },
    {
     "name": "stdout",
     "output_type": "stream",
     "text": [
      "Gradient of gamma: 0.35583317279815674\n",
      "Epoch 24 - Loss: 0.38648897409439087\n",
      "Parameter name: gamma\n",
      "Parameter shape: torch.Size([])\n",
      "Parameter value: Parameter containing:\n",
      "tensor(3.4458, device='cuda:0', requires_grad=True)\n",
      "\n"
     ]
    },
    {
     "name": "stderr",
     "output_type": "stream",
     "text": [
      "\n",
      "100%|██████████████████████████████████████████| 10/10 [00:00<00:00, 475.08it/s]\n",
      " 52%|██████████████████████▎                    | 26/50 [00:01<00:01, 17.88it/s]"
     ]
    },
    {
     "name": "stdout",
     "output_type": "stream",
     "text": [
      "Gradient of gamma: 0.24605679512023926\n",
      "Epoch 25 - Loss: 0.3510147035121918\n",
      "Parameter name: gamma\n",
      "Parameter shape: torch.Size([])\n",
      "Parameter value: Parameter containing:\n",
      "tensor(3.5621, device='cuda:0', requires_grad=True)\n",
      "\n"
     ]
    },
    {
     "name": "stderr",
     "output_type": "stream",
     "text": [
      "\n",
      "100%|██████████████████████████████████████████| 10/10 [00:00<00:00, 481.30it/s]\n"
     ]
    },
    {
     "name": "stdout",
     "output_type": "stream",
     "text": [
      "Gradient of gamma: 0.13501524925231934\n",
      "Epoch 26 - Loss: 0.3290594518184662\n",
      "Parameter name: gamma\n",
      "Parameter shape: torch.Size([])\n",
      "Parameter value: Parameter containing:\n",
      "tensor(3.6743, device='cuda:0', requires_grad=True)\n",
      "\n"
     ]
    },
    {
     "name": "stderr",
     "output_type": "stream",
     "text": [
      "\n",
      "100%|██████████████████████████████████████████| 10/10 [00:00<00:00, 472.19it/s]\n",
      " 56%|████████████████████████                   | 28/50 [00:01<00:01, 17.82it/s]"
     ]
    },
    {
     "name": "stdout",
     "output_type": "stream",
     "text": [
      "Gradient of gamma: 0.058124441653490067\n",
      "Epoch 27 - Loss: 0.31857413053512573\n",
      "Parameter name: gamma\n",
      "Parameter shape: torch.Size([])\n",
      "Parameter value: Parameter containing:\n",
      "tensor(3.7796, device='cuda:0', requires_grad=True)\n",
      "\n"
     ]
    },
    {
     "name": "stderr",
     "output_type": "stream",
     "text": [
      "\n",
      "100%|██████████████████████████████████████████| 10/10 [00:00<00:00, 456.42it/s]\n"
     ]
    },
    {
     "name": "stdout",
     "output_type": "stream",
     "text": [
      "Gradient of gamma: 0.019903872162103653\n",
      "Epoch 28 - Loss: 0.3147180676460266\n",
      "Parameter name: gamma\n",
      "Parameter shape: torch.Size([])\n",
      "Parameter value: Parameter containing:\n",
      "tensor(3.8766, device='cuda:0', requires_grad=True)\n",
      "\n"
     ]
    },
    {
     "name": "stderr",
     "output_type": "stream",
     "text": [
      "\n",
      "100%|██████████████████████████████████████████| 10/10 [00:00<00:00, 469.17it/s]\n",
      " 60%|█████████████████████████▊                 | 30/50 [00:01<00:01, 17.83it/s]"
     ]
    },
    {
     "name": "stdout",
     "output_type": "stream",
     "text": [
      "Gradient of gamma: 0.005635877139866352\n",
      "Epoch 29 - Loss: 0.3136003315448761\n",
      "Parameter name: gamma\n",
      "Parameter shape: torch.Size([])\n",
      "Parameter value: Parameter containing:\n",
      "tensor(3.9653, device='cuda:0', requires_grad=True)\n",
      "\n"
     ]
    },
    {
     "name": "stderr",
     "output_type": "stream",
     "text": [
      "\n",
      "100%|██████████████████████████████████████████| 10/10 [00:00<00:00, 463.05it/s]\n"
     ]
    },
    {
     "name": "stdout",
     "output_type": "stream",
     "text": [
      "Gradient of gamma: 0.0013230054173618555\n",
      "Epoch 30 - Loss: 0.31332823634147644\n",
      "Parameter name: gamma\n",
      "Parameter shape: torch.Size([])\n",
      "Parameter value: Parameter containing:\n",
      "tensor(4.0462, device='cuda:0', requires_grad=True)\n",
      "\n"
     ]
    },
    {
     "name": "stderr",
     "output_type": "stream",
     "text": [
      "\n",
      "100%|██████████████████████████████████████████| 10/10 [00:00<00:00, 452.79it/s]\n",
      " 64%|███████████████████████████▌               | 32/50 [00:01<00:01, 17.67it/s]"
     ]
    },
    {
     "name": "stdout",
     "output_type": "stream",
     "text": [
      "Gradient of gamma: 0.0002716190065257251\n",
      "Epoch 31 - Loss: 0.3132733404636383\n",
      "Parameter name: gamma\n",
      "Parameter shape: torch.Size([])\n",
      "Parameter value: Parameter containing:\n",
      "tensor(4.1199, device='cuda:0', requires_grad=True)\n",
      "\n"
     ]
    },
    {
     "name": "stderr",
     "output_type": "stream",
     "text": [
      "\n",
      "100%|██████████████████████████████████████████| 10/10 [00:00<00:00, 469.63it/s]\n"
     ]
    },
    {
     "name": "stdout",
     "output_type": "stream",
     "text": [
      "Gradient of gamma: 4.979674122296274e-05\n",
      "Epoch 32 - Loss: 0.31326359510421753\n",
      "Parameter name: gamma\n",
      "Parameter shape: torch.Size([])\n",
      "Parameter value: Parameter containing:\n",
      "tensor(4.1870, device='cuda:0', requires_grad=True)\n",
      "\n"
     ]
    },
    {
     "name": "stderr",
     "output_type": "stream",
     "text": [
      "\n",
      "100%|██████████████████████████████████████████| 10/10 [00:00<00:00, 470.98it/s]\n",
      " 68%|█████████████████████████████▏             | 34/50 [00:01<00:00, 17.83it/s]"
     ]
    },
    {
     "name": "stdout",
     "output_type": "stream",
     "text": [
      "Gradient of gamma: 8.2767883213819e-06\n",
      "Epoch 33 - Loss: 0.3132619857788086\n",
      "Parameter name: gamma\n",
      "Parameter shape: torch.Size([])\n",
      "Parameter value: Parameter containing:\n",
      "tensor(4.2482, device='cuda:0', requires_grad=True)\n",
      "\n"
     ]
    },
    {
     "name": "stderr",
     "output_type": "stream",
     "text": [
      "\n",
      "100%|██████████████████████████████████████████| 10/10 [00:00<00:00, 468.89it/s]\n"
     ]
    },
    {
     "name": "stdout",
     "output_type": "stream",
     "text": [
      "Gradient of gamma: 1.3151259281585226e-06\n",
      "Epoch 34 - Loss: 0.3132617473602295\n",
      "Parameter name: gamma\n",
      "Parameter shape: torch.Size([])\n",
      "Parameter value: Parameter containing:\n",
      "tensor(4.3039, device='cuda:0', requires_grad=True)\n",
      "\n"
     ]
    },
    {
     "name": "stderr",
     "output_type": "stream",
     "text": [
      "\n",
      "100%|██████████████████████████████████████████| 10/10 [00:00<00:00, 475.64it/s]\n",
      " 72%|██████████████████████████████▉            | 36/50 [00:02<00:00, 17.88it/s]"
     ]
    },
    {
     "name": "stdout",
     "output_type": "stream",
     "text": [
      "Gradient of gamma: 1.8619604702507786e-07\n",
      "Epoch 35 - Loss: 0.3132617473602295\n",
      "Parameter name: gamma\n",
      "Parameter shape: torch.Size([])\n",
      "Parameter value: Parameter containing:\n",
      "tensor(4.3546, device='cuda:0', requires_grad=True)\n",
      "\n"
     ]
    },
    {
     "name": "stderr",
     "output_type": "stream",
     "text": [
      "\n",
      "100%|██████████████████████████████████████████| 10/10 [00:00<00:00, 494.12it/s]\n"
     ]
    },
    {
     "name": "stdout",
     "output_type": "stream",
     "text": [
      "Gradient of gamma: 2.842907242950332e-08\n",
      "Epoch 36 - Loss: 0.3132617473602295\n",
      "Parameter name: gamma\n",
      "Parameter shape: torch.Size([])\n",
      "Parameter value: Parameter containing:\n",
      "tensor(4.4008, device='cuda:0', requires_grad=True)\n",
      "\n"
     ]
    },
    {
     "name": "stderr",
     "output_type": "stream",
     "text": [
      "\n",
      "100%|██████████████████████████████████████████| 10/10 [00:00<00:00, 492.32it/s]\n",
      " 76%|████████████████████████████████▋          | 38/50 [00:02<00:00, 18.02it/s]"
     ]
    },
    {
     "name": "stdout",
     "output_type": "stream",
     "text": [
      "Gradient of gamma: 4.235192196944126e-09\n",
      "Epoch 37 - Loss: 0.3132617473602295\n",
      "Parameter name: gamma\n",
      "Parameter shape: torch.Size([])\n",
      "Parameter value: Parameter containing:\n",
      "tensor(4.4429, device='cuda:0', requires_grad=True)\n",
      "\n"
     ]
    },
    {
     "name": "stderr",
     "output_type": "stream",
     "text": [
      "\n",
      "100%|██████████████████████████████████████████| 10/10 [00:00<00:00, 472.48it/s]\n"
     ]
    },
    {
     "name": "stdout",
     "output_type": "stream",
     "text": [
      "Gradient of gamma: 6.353894077548716e-10\n",
      "Epoch 38 - Loss: 0.3132617473602295\n",
      "Parameter name: gamma\n",
      "Parameter shape: torch.Size([])\n",
      "Parameter value: Parameter containing:\n",
      "tensor(4.4811, device='cuda:0', requires_grad=True)\n",
      "\n"
     ]
    },
    {
     "name": "stderr",
     "output_type": "stream",
     "text": [
      "\n",
      "100%|██████████████████████████████████████████| 10/10 [00:00<00:00, 484.05it/s]\n",
      " 80%|██████████████████████████████████▍        | 40/50 [00:02<00:00, 18.12it/s]"
     ]
    },
    {
     "name": "stdout",
     "output_type": "stream",
     "text": [
      "Gradient of gamma: 1.0085805801640646e-10\n",
      "Epoch 39 - Loss: 0.3132617473602295\n",
      "Parameter name: gamma\n",
      "Parameter shape: torch.Size([])\n",
      "Parameter value: Parameter containing:\n",
      "tensor(4.5160, device='cuda:0', requires_grad=True)\n",
      "\n"
     ]
    },
    {
     "name": "stderr",
     "output_type": "stream",
     "text": [
      "\n",
      "100%|██████████████████████████████████████████| 10/10 [00:00<00:00, 465.79it/s]\n"
     ]
    },
    {
     "name": "stdout",
     "output_type": "stream",
     "text": [
      "Gradient of gamma: 1.650037398381876e-11\n",
      "Epoch 40 - Loss: 0.3132617473602295\n",
      "Parameter name: gamma\n",
      "Parameter shape: torch.Size([])\n",
      "Parameter value: Parameter containing:\n",
      "tensor(4.5477, device='cuda:0', requires_grad=True)\n",
      "\n"
     ]
    },
    {
     "name": "stderr",
     "output_type": "stream",
     "text": [
      "\n",
      "100%|██████████████████████████████████████████| 10/10 [00:00<00:00, 489.71it/s]\n",
      " 84%|████████████████████████████████████       | 42/50 [00:02<00:00, 18.20it/s]"
     ]
    },
    {
     "name": "stdout",
     "output_type": "stream",
     "text": [
      "Gradient of gamma: 2.9575226816180855e-12\n",
      "Epoch 41 - Loss: 0.3132617473602295\n",
      "Parameter name: gamma\n",
      "Parameter shape: torch.Size([])\n",
      "Parameter value: Parameter containing:\n",
      "tensor(4.5765, device='cuda:0', requires_grad=True)\n",
      "\n"
     ]
    },
    {
     "name": "stderr",
     "output_type": "stream",
     "text": [
      "\n",
      "100%|██████████████████████████████████████████| 10/10 [00:00<00:00, 503.65it/s]\n"
     ]
    },
    {
     "name": "stdout",
     "output_type": "stream",
     "text": [
      "Gradient of gamma: 5.767262752434665e-13\n",
      "Epoch 42 - Loss: 0.3132617473602295\n",
      "Parameter name: gamma\n",
      "Parameter shape: torch.Size([])\n",
      "Parameter value: Parameter containing:\n",
      "tensor(4.6028, device='cuda:0', requires_grad=True)\n",
      "\n"
     ]
    },
    {
     "name": "stderr",
     "output_type": "stream",
     "text": [
      "\n",
      "100%|██████████████████████████████████████████| 10/10 [00:00<00:00, 492.44it/s]\n",
      " 88%|█████████████████████████████████████▊     | 44/50 [00:02<00:00, 18.31it/s]"
     ]
    },
    {
     "name": "stdout",
     "output_type": "stream",
     "text": [
      "Gradient of gamma: 1.1540166608772773e-13\n",
      "Epoch 43 - Loss: 0.3132617473602295\n",
      "Parameter name: gamma\n",
      "Parameter shape: torch.Size([])\n",
      "Parameter value: Parameter containing:\n",
      "tensor(4.6267, device='cuda:0', requires_grad=True)\n",
      "\n"
     ]
    },
    {
     "name": "stderr",
     "output_type": "stream",
     "text": [
      "\n",
      "100%|██████████████████████████████████████████| 10/10 [00:00<00:00, 489.22it/s]\n"
     ]
    },
    {
     "name": "stdout",
     "output_type": "stream",
     "text": [
      "Gradient of gamma: 2.512338854478418e-14\n",
      "Epoch 44 - Loss: 0.3132617473602295\n",
      "Parameter name: gamma\n",
      "Parameter shape: torch.Size([])\n",
      "Parameter value: Parameter containing:\n",
      "tensor(4.6484, device='cuda:0', requires_grad=True)\n",
      "\n"
     ]
    },
    {
     "name": "stderr",
     "output_type": "stream",
     "text": [
      "\n",
      "100%|██████████████████████████████████████████| 10/10 [00:00<00:00, 493.67it/s]\n",
      " 92%|███████████████████████████████████████▌   | 46/50 [00:02<00:00, 18.35it/s]"
     ]
    },
    {
     "name": "stdout",
     "output_type": "stream",
     "text": [
      "Gradient of gamma: 6.1759196593054975e-15\n",
      "Epoch 45 - Loss: 0.3132617473602295\n",
      "Parameter name: gamma\n",
      "Parameter shape: torch.Size([])\n",
      "Parameter value: Parameter containing:\n",
      "tensor(4.6681, device='cuda:0', requires_grad=True)\n",
      "\n"
     ]
    },
    {
     "name": "stderr",
     "output_type": "stream",
     "text": [
      "\n",
      "100%|██████████████████████████████████████████| 10/10 [00:00<00:00, 491.44it/s]\n"
     ]
    },
    {
     "name": "stdout",
     "output_type": "stream",
     "text": [
      "Gradient of gamma: 1.5702535004216635e-15\n",
      "Epoch 46 - Loss: 0.3132617473602295\n",
      "Parameter name: gamma\n",
      "Parameter shape: torch.Size([])\n",
      "Parameter value: Parameter containing:\n",
      "tensor(4.6861, device='cuda:0', requires_grad=True)\n",
      "\n"
     ]
    },
    {
     "name": "stderr",
     "output_type": "stream",
     "text": [
      "\n",
      "100%|██████████████████████████████████████████| 10/10 [00:00<00:00, 481.39it/s]\n",
      " 96%|█████████████████████████████████████████▎ | 48/50 [00:02<00:00, 18.25it/s]"
     ]
    },
    {
     "name": "stdout",
     "output_type": "stream",
     "text": [
      "Gradient of gamma: 4.687755615813156e-16\n",
      "Epoch 47 - Loss: 0.3132617473602295\n",
      "Parameter name: gamma\n",
      "Parameter shape: torch.Size([])\n",
      "Parameter value: Parameter containing:\n",
      "tensor(4.7024, device='cuda:0', requires_grad=True)\n",
      "\n"
     ]
    },
    {
     "name": "stderr",
     "output_type": "stream",
     "text": [
      "\n",
      "100%|██████████████████████████████████████████| 10/10 [00:00<00:00, 494.88it/s]\n"
     ]
    },
    {
     "name": "stdout",
     "output_type": "stream",
     "text": [
      "Gradient of gamma: 1.3139038758443758e-16\n",
      "Epoch 48 - Loss: 0.3132617473602295\n",
      "Parameter name: gamma\n",
      "Parameter shape: torch.Size([])\n",
      "Parameter value: Parameter containing:\n",
      "tensor(4.7172, device='cuda:0', requires_grad=True)\n",
      "\n"
     ]
    },
    {
     "name": "stderr",
     "output_type": "stream",
     "text": [
      "\n",
      "100%|██████████████████████████████████████████| 10/10 [00:00<00:00, 461.42it/s]\n",
      "100%|███████████████████████████████████████████| 50/50 [00:02<00:00, 17.94it/s]\n"
     ]
    },
    {
     "name": "stdout",
     "output_type": "stream",
     "text": [
      "Gradient of gamma: 4.532062357429445e-17\n",
      "Epoch 49 - Loss: 0.3132617473602295\n",
      "Parameter name: gamma\n",
      "Parameter shape: torch.Size([])\n",
      "Parameter value: Parameter containing:\n",
      "tensor(4.7307, device='cuda:0', requires_grad=True)\n",
      "\n"
     ]
    },
    {
     "name": "stderr",
     "output_type": "stream",
     "text": [
      "  0%|                                                    | 0/50 [00:00<?, ?it/s]\n",
      "100%|██████████████████████████████████████████| 10/10 [00:00<00:00, 423.62it/s]\n"
     ]
    },
    {
     "name": "stdout",
     "output_type": "stream",
     "text": [
      "Gradient of gamma: 0.0002540517598390579\n",
      "Epoch 0 - Loss: 0.6931101083755493\n",
      "Parameter name: gamma\n",
      "Parameter shape: torch.Size([])\n",
      "Parameter value: Parameter containing:\n",
      "tensor(1.1000, device='cuda:0', requires_grad=True)\n",
      "\n"
     ]
    },
    {
     "name": "stderr",
     "output_type": "stream",
     "text": [
      "\n",
      "100%|██████████████████████████████████████████| 10/10 [00:00<00:00, 459.72it/s]\n",
      "  4%|█▊                                          | 2/50 [00:00<00:02, 16.91it/s]"
     ]
    },
    {
     "name": "stdout",
     "output_type": "stream",
     "text": [
      "Gradient of gamma: 0.000510654877871275\n",
      "Epoch 1 - Loss: 0.6930731534957886\n",
      "Parameter name: gamma\n",
      "Parameter shape: torch.Size([])\n",
      "Parameter value: Parameter containing:\n",
      "tensor(1.1965, device='cuda:0', requires_grad=True)\n",
      "\n"
     ]
    },
    {
     "name": "stderr",
     "output_type": "stream",
     "text": [
      "\n",
      "100%|██████████████████████████████████████████| 10/10 [00:00<00:00, 459.31it/s]\n"
     ]
    },
    {
     "name": "stdout",
     "output_type": "stream",
     "text": [
      "Gradient of gamma: 0.0009584184736013412\n",
      "Epoch 2 - Loss: 0.6930042505264282\n",
      "Parameter name: gamma\n",
      "Parameter shape: torch.Size([])\n",
      "Parameter value: Parameter containing:\n",
      "tensor(1.2895, device='cuda:0', requires_grad=True)\n",
      "\n"
     ]
    },
    {
     "name": "stderr",
     "output_type": "stream",
     "text": [
      "\n",
      "100%|██████████████████████████████████████████| 10/10 [00:00<00:00, 467.08it/s]\n",
      "  8%|███▌                                        | 4/50 [00:00<00:02, 17.40it/s]"
     ]
    },
    {
     "name": "stdout",
     "output_type": "stream",
     "text": [
      "Gradient of gamma: 0.0016936520114541054\n",
      "Epoch 3 - Loss: 0.6928839683532715\n",
      "Parameter name: gamma\n",
      "Parameter shape: torch.Size([])\n",
      "Parameter value: Parameter containing:\n",
      "tensor(1.3799, device='cuda:0', requires_grad=True)\n",
      "\n"
     ]
    },
    {
     "name": "stderr",
     "output_type": "stream",
     "text": [
      "\n",
      "100%|██████████████████████████████████████████| 10/10 [00:00<00:00, 477.90it/s]\n"
     ]
    },
    {
     "name": "stdout",
     "output_type": "stream",
     "text": [
      "Gradient of gamma: 0.0028526047244668007\n",
      "Epoch 4 - Loss: 0.6926825046539307\n",
      "Parameter name: gamma\n",
      "Parameter shape: torch.Size([])\n",
      "Parameter value: Parameter containing:\n",
      "tensor(1.4686, device='cuda:0', requires_grad=True)\n",
      "\n"
     ]
    },
    {
     "name": "stderr",
     "output_type": "stream",
     "text": [
      "\n",
      "100%|██████████████████████████████████████████| 10/10 [00:00<00:00, 475.31it/s]\n",
      " 12%|█████▎                                      | 6/50 [00:00<00:02, 17.72it/s]"
     ]
    },
    {
     "name": "stdout",
     "output_type": "stream",
     "text": [
      "Gradient of gamma: 0.0046236272901296616\n",
      "Epoch 5 - Loss: 0.6923559308052063\n",
      "Parameter name: gamma\n",
      "Parameter shape: torch.Size([])\n",
      "Parameter value: Parameter containing:\n",
      "tensor(1.5564, device='cuda:0', requires_grad=True)\n",
      "\n"
     ]
    },
    {
     "name": "stderr",
     "output_type": "stream",
     "text": [
      "\n",
      "100%|██████████████████████████████████████████| 10/10 [00:00<00:00, 479.06it/s]\n"
     ]
    },
    {
     "name": "stdout",
     "output_type": "stream",
     "text": [
      "Gradient of gamma: 0.007255056872963905\n",
      "Epoch 6 - Loss: 0.6918433904647827\n",
      "Parameter name: gamma\n",
      "Parameter shape: torch.Size([])\n",
      "Parameter value: Parameter containing:\n",
      "tensor(1.6438, device='cuda:0', requires_grad=True)\n",
      "\n"
     ]
    },
    {
     "name": "stderr",
     "output_type": "stream",
     "text": [
      "\n",
      "100%|██████████████████████████████████████████| 10/10 [00:00<00:00, 428.00it/s]\n",
      " 16%|███████                                     | 8/50 [00:00<00:02, 17.41it/s]"
     ]
    },
    {
     "name": "stdout",
     "output_type": "stream",
     "text": [
      "Gradient of gamma: 0.011116204783320427\n",
      "Epoch 7 - Loss: 0.6910497546195984\n",
      "Parameter name: gamma\n",
      "Parameter shape: torch.Size([])\n",
      "Parameter value: Parameter containing:\n",
      "tensor(1.7313, device='cuda:0', requires_grad=True)\n",
      "\n"
     ]
    },
    {
     "name": "stderr",
     "output_type": "stream",
     "text": [
      "\n",
      "100%|██████████████████████████████████████████| 10/10 [00:00<00:00, 456.78it/s]\n"
     ]
    },
    {
     "name": "stdout",
     "output_type": "stream",
     "text": [
      "Gradient of gamma: 0.01665923185646534\n",
      "Epoch 8 - Loss: 0.6898499131202698\n",
      "Parameter name: gamma\n",
      "Parameter shape: torch.Size([])\n",
      "Parameter value: Parameter containing:\n",
      "tensor(1.8191, device='cuda:0', requires_grad=True)\n",
      "\n"
     ]
    },
    {
     "name": "stderr",
     "output_type": "stream",
     "text": [
      "\n",
      "100%|██████████████████████████████████████████| 10/10 [00:00<00:00, 468.38it/s]\n",
      " 20%|████████▌                                  | 10/50 [00:00<00:02, 17.56it/s]"
     ]
    },
    {
     "name": "stdout",
     "output_type": "stream",
     "text": [
      "Gradient of gamma: 0.02450486458837986\n",
      "Epoch 9 - Loss: 0.6880624890327454\n",
      "Parameter name: gamma\n",
      "Parameter shape: torch.Size([])\n",
      "Parameter value: Parameter containing:\n",
      "tensor(1.9075, device='cuda:0', requires_grad=True)\n",
      "\n"
     ]
    },
    {
     "name": "stderr",
     "output_type": "stream",
     "text": [
      "\n",
      "100%|██████████████████████████████████████████| 10/10 [00:00<00:00, 493.88it/s]\n"
     ]
    },
    {
     "name": "stdout",
     "output_type": "stream",
     "text": [
      "Gradient of gamma: 0.03545794636011124\n",
      "Epoch 10 - Loss: 0.6854378581047058\n",
      "Parameter name: gamma\n",
      "Parameter shape: torch.Size([])\n",
      "Parameter value: Parameter containing:\n",
      "tensor(1.9968, device='cuda:0', requires_grad=True)\n",
      "\n"
     ]
    },
    {
     "name": "stderr",
     "output_type": "stream",
     "text": [
      "\n",
      "100%|██████████████████████████████████████████| 10/10 [00:00<00:00, 469.46it/s]\n",
      " 24%|██████████▎                                | 12/50 [00:00<00:02, 17.73it/s]"
     ]
    },
    {
     "name": "stdout",
     "output_type": "stream",
     "text": [
      "Gradient of gamma: 0.05053866654634476\n",
      "Epoch 11 - Loss: 0.6816332340240479\n",
      "Parameter name: gamma\n",
      "Parameter shape: torch.Size([])\n",
      "Parameter value: Parameter containing:\n",
      "tensor(2.0871, device='cuda:0', requires_grad=True)\n",
      "\n"
     ]
    },
    {
     "name": "stderr",
     "output_type": "stream",
     "text": [
      "\n",
      "100%|██████████████████████████████████████████| 10/10 [00:00<00:00, 474.95it/s]\n"
     ]
    },
    {
     "name": "stdout",
     "output_type": "stream",
     "text": [
      "Gradient of gamma: 0.07097465544939041\n",
      "Epoch 12 - Loss: 0.676190972328186\n",
      "Parameter name: gamma\n",
      "Parameter shape: torch.Size([])\n",
      "Parameter value: Parameter containing:\n",
      "tensor(2.1785, device='cuda:0', requires_grad=True)\n",
      "\n"
     ]
    },
    {
     "name": "stderr",
     "output_type": "stream",
     "text": [
      "\n",
      "100%|██████████████████████████████████████████| 10/10 [00:00<00:00, 479.88it/s]\n",
      " 28%|████████████                               | 14/50 [00:00<00:02, 17.94it/s]"
     ]
    },
    {
     "name": "stdout",
     "output_type": "stream",
     "text": [
      "Gradient of gamma: 0.09818775951862335\n",
      "Epoch 13 - Loss: 0.6685059666633606\n",
      "Parameter name: gamma\n",
      "Parameter shape: torch.Size([])\n",
      "Parameter value: Parameter containing:\n",
      "tensor(2.2713, device='cuda:0', requires_grad=True)\n",
      "\n"
     ]
    },
    {
     "name": "stderr",
     "output_type": "stream",
     "text": [
      "\n",
      "100%|██████████████████████████████████████████| 10/10 [00:00<00:00, 481.94it/s]\n"
     ]
    },
    {
     "name": "stdout",
     "output_type": "stream",
     "text": [
      "Gradient of gamma: 0.13355961441993713\n",
      "Epoch 14 - Loss: 0.6578105688095093\n",
      "Parameter name: gamma\n",
      "Parameter shape: torch.Size([])\n",
      "Parameter value: Parameter containing:\n",
      "tensor(2.3656, device='cuda:0', requires_grad=True)\n",
      "\n"
     ]
    },
    {
     "name": "stderr",
     "output_type": "stream",
     "text": [
      "\n",
      "100%|██████████████████████████████████████████| 10/10 [00:00<00:00, 493.29it/s]\n",
      " 32%|█████████████▊                             | 16/50 [00:00<00:01, 18.09it/s]"
     ]
    },
    {
     "name": "stdout",
     "output_type": "stream",
     "text": [
      "Gradient of gamma: 0.17801669239997864\n",
      "Epoch 15 - Loss: 0.6431850790977478\n",
      "Parameter name: gamma\n",
      "Parameter shape: torch.Size([])\n",
      "Parameter value: Parameter containing:\n",
      "tensor(2.4616, device='cuda:0', requires_grad=True)\n",
      "\n"
     ]
    },
    {
     "name": "stderr",
     "output_type": "stream",
     "text": [
      "\n",
      "100%|██████████████████████████████████████████| 10/10 [00:00<00:00, 486.66it/s]\n"
     ]
    },
    {
     "name": "stdout",
     "output_type": "stream",
     "text": [
      "Gradient of gamma: 0.23093704879283905\n",
      "Epoch 16 - Loss: 0.6236356496810913\n",
      "Parameter name: gamma\n",
      "Parameter shape: torch.Size([])\n",
      "Parameter value: Parameter containing:\n",
      "tensor(2.5595, device='cuda:0', requires_grad=True)\n",
      "\n"
     ]
    },
    {
     "name": "stderr",
     "output_type": "stream",
     "text": [
      "\n",
      "100%|██████████████████████████████████████████| 10/10 [00:00<00:00, 472.11it/s]\n",
      " 36%|███████████████▍                           | 18/50 [00:01<00:01, 18.04it/s]"
     ]
    },
    {
     "name": "stdout",
     "output_type": "stream",
     "text": [
      "Gradient of gamma: 0.28846675157546997\n",
      "Epoch 17 - Loss: 0.5981974601745605\n",
      "Parameter name: gamma\n",
      "Parameter shape: torch.Size([])\n",
      "Parameter value: Parameter containing:\n",
      "tensor(2.6598, device='cuda:0', requires_grad=True)\n",
      "\n"
     ]
    },
    {
     "name": "stderr",
     "output_type": "stream",
     "text": [
      "\n",
      "100%|██████████████████████████████████████████| 10/10 [00:00<00:00, 473.47it/s]\n"
     ]
    },
    {
     "name": "stdout",
     "output_type": "stream",
     "text": [
      "Gradient of gamma: 0.3401709794998169\n",
      "Epoch 18 - Loss: 0.5666030645370483\n",
      "Parameter name: gamma\n",
      "Parameter shape: torch.Size([])\n",
      "Parameter value: Parameter containing:\n",
      "tensor(2.7627, device='cuda:0', requires_grad=True)\n",
      "\n"
     ]
    },
    {
     "name": "stderr",
     "output_type": "stream",
     "text": [
      "\n",
      "100%|██████████████████████████████████████████| 10/10 [00:00<00:00, 481.79it/s]\n",
      " 40%|█████████████████▏                         | 20/50 [00:01<00:01, 18.08it/s]"
     ]
    },
    {
     "name": "stdout",
     "output_type": "stream",
     "text": [
      "Gradient of gamma: 0.3671771287918091\n",
      "Epoch 19 - Loss: 0.5297975540161133\n",
      "Parameter name: gamma\n",
      "Parameter shape: torch.Size([])\n",
      "Parameter value: Parameter containing:\n",
      "tensor(2.8689, device='cuda:0', requires_grad=True)\n",
      "\n"
     ]
    },
    {
     "name": "stderr",
     "output_type": "stream",
     "text": [
      "\n",
      "100%|██████████████████████████████████████████| 10/10 [00:00<00:00, 492.17it/s]\n"
     ]
    },
    {
     "name": "stdout",
     "output_type": "stream",
     "text": [
      "Gradient of gamma: 0.3462892472743988\n",
      "Epoch 20 - Loss: 0.49145954847335815\n",
      "Parameter name: gamma\n",
      "Parameter shape: torch.Size([])\n",
      "Parameter value: Parameter containing:\n",
      "tensor(2.9782, device='cuda:0', requires_grad=True)\n",
      "\n"
     ]
    },
    {
     "name": "stderr",
     "output_type": "stream",
     "text": [
      "\n",
      "100%|██████████████████████████████████████████| 10/10 [00:00<00:00, 481.47it/s]\n",
      " 44%|██████████████████▉                        | 22/50 [00:01<00:01, 18.11it/s]"
     ]
    },
    {
     "name": "stdout",
     "output_type": "stream",
     "text": [
      "Gradient of gamma: 0.2695322632789612\n",
      "Epoch 21 - Loss: 0.4573598802089691\n",
      "Parameter name: gamma\n",
      "Parameter shape: torch.Size([])\n",
      "Parameter value: Parameter containing:\n",
      "tensor(3.0892, device='cuda:0', requires_grad=True)\n",
      "\n"
     ]
    },
    {
     "name": "stderr",
     "output_type": "stream",
     "text": [
      "\n",
      "100%|██████████████████████████████████████████| 10/10 [00:00<00:00, 470.45it/s]\n"
     ]
    },
    {
     "name": "stdout",
     "output_type": "stream",
     "text": [
      "Gradient of gamma: 0.1645171046257019\n",
      "Epoch 22 - Loss: 0.43322962522506714\n",
      "Parameter name: gamma\n",
      "Parameter shape: torch.Size([])\n",
      "Parameter value: Parameter containing:\n",
      "tensor(3.1988, device='cuda:0', requires_grad=True)\n",
      "\n"
     ]
    },
    {
     "name": "stderr",
     "output_type": "stream",
     "text": [
      "\n",
      "100%|██████████████████████████████████████████| 10/10 [00:00<00:00, 511.21it/s]\n",
      " 48%|████████████████████▋                      | 24/50 [00:01<00:01, 18.12it/s]"
     ]
    },
    {
     "name": "stdout",
     "output_type": "stream",
     "text": [
      "Gradient of gamma: 0.07642477750778198\n",
      "Epoch 23 - Loss: 0.4202943742275238\n",
      "Parameter name: gamma\n",
      "Parameter shape: torch.Size([])\n",
      "Parameter value: Parameter containing:\n",
      "tensor(3.3031, device='cuda:0', requires_grad=True)\n",
      "\n"
     ]
    },
    {
     "name": "stderr",
     "output_type": "stream",
     "text": [
      "\n",
      "100%|██████████████████████████████████████████| 10/10 [00:00<00:00, 497.86it/s]\n"
     ]
    },
    {
     "name": "stdout",
     "output_type": "stream",
     "text": [
      "Gradient of gamma: 0.027133433148264885\n",
      "Epoch 24 - Loss: 0.41519975662231445\n",
      "Parameter name: gamma\n",
      "Parameter shape: torch.Size([])\n",
      "Parameter value: Parameter containing:\n",
      "tensor(3.3998, device='cuda:0', requires_grad=True)\n",
      "\n"
     ]
    },
    {
     "name": "stderr",
     "output_type": "stream",
     "text": [
      "\n",
      "100%|██████████████████████████████████████████| 10/10 [00:00<00:00, 464.15it/s]\n",
      " 52%|██████████████████████▎                    | 26/50 [00:01<00:01, 18.12it/s]"
     ]
    },
    {
     "name": "stdout",
     "output_type": "stream",
     "text": [
      "Gradient of gamma: 0.007464969530701637\n",
      "Epoch 25 - Loss: 0.4136858880519867\n",
      "Parameter name: gamma\n",
      "Parameter shape: torch.Size([])\n",
      "Parameter value: Parameter containing:\n",
      "tensor(3.4884, device='cuda:0', requires_grad=True)\n",
      "\n"
     ]
    },
    {
     "name": "stderr",
     "output_type": "stream",
     "text": [
      "\n",
      "100%|██████████████████████████████████████████| 10/10 [00:00<00:00, 478.95it/s]\n"
     ]
    },
    {
     "name": "stdout",
     "output_type": "stream",
     "text": [
      "Gradient of gamma: 0.0016169900773093104\n",
      "Epoch 26 - Loss: 0.4133366048336029\n",
      "Parameter name: gamma\n",
      "Parameter shape: torch.Size([])\n",
      "Parameter value: Parameter containing:\n",
      "tensor(3.5692, device='cuda:0', requires_grad=True)\n",
      "\n"
     ]
    },
    {
     "name": "stderr",
     "output_type": "stream",
     "text": [
      "\n",
      "100%|██████████████████████████████████████████| 10/10 [00:00<00:00, 403.01it/s]\n",
      " 56%|████████████████████████                   | 28/50 [00:01<00:01, 17.43it/s]"
     ]
    },
    {
     "name": "stdout",
     "output_type": "stream",
     "text": [
      "Gradient of gamma: 0.00028580872458405793\n",
      "Epoch 27 - Loss: 0.4132726788520813\n",
      "Parameter name: gamma\n",
      "Parameter shape: torch.Size([])\n",
      "Parameter value: Parameter containing:\n",
      "tensor(3.6428, device='cuda:0', requires_grad=True)\n",
      "\n"
     ]
    },
    {
     "name": "stderr",
     "output_type": "stream",
     "text": [
      "\n",
      "100%|██████████████████████████████████████████| 10/10 [00:00<00:00, 402.14it/s]\n"
     ]
    },
    {
     "name": "stdout",
     "output_type": "stream",
     "text": [
      "Gradient of gamma: 4.224573785904795e-05\n",
      "Epoch 28 - Loss: 0.41326308250427246\n",
      "Parameter name: gamma\n",
      "Parameter shape: torch.Size([])\n",
      "Parameter value: Parameter containing:\n",
      "tensor(3.7099, device='cuda:0', requires_grad=True)\n",
      "\n"
     ]
    },
    {
     "name": "stderr",
     "output_type": "stream",
     "text": [
      "\n",
      "100%|██████████████████████████████████████████| 10/10 [00:00<00:00, 405.89it/s]\n",
      " 60%|█████████████████████████▊                 | 30/50 [00:01<00:01, 16.30it/s]"
     ]
    },
    {
     "name": "stdout",
     "output_type": "stream",
     "text": [
      "Gradient of gamma: 5.426801180874463e-06\n",
      "Epoch 29 - Loss: 0.41326189041137695\n",
      "Parameter name: gamma\n",
      "Parameter shape: torch.Size([])\n",
      "Parameter value: Parameter containing:\n",
      "tensor(3.7711, device='cuda:0', requires_grad=True)\n",
      "\n"
     ]
    },
    {
     "name": "stderr",
     "output_type": "stream",
     "text": [
      "\n",
      "100%|██████████████████████████████████████████| 10/10 [00:00<00:00, 411.15it/s]\n"
     ]
    },
    {
     "name": "stdout",
     "output_type": "stream",
     "text": [
      "Gradient of gamma: 6.118694386714196e-07\n",
      "Epoch 30 - Loss: 0.413261741399765\n",
      "Parameter name: gamma\n",
      "Parameter shape: torch.Size([])\n",
      "Parameter value: Parameter containing:\n",
      "tensor(3.8268, device='cuda:0', requires_grad=True)\n",
      "\n"
     ]
    },
    {
     "name": "stderr",
     "output_type": "stream",
     "text": [
      "\n",
      "100%|██████████████████████████████████████████| 10/10 [00:00<00:00, 418.57it/s]\n",
      " 64%|███████████████████████████▌               | 32/50 [00:01<00:01, 16.24it/s]"
     ]
    },
    {
     "name": "stdout",
     "output_type": "stream",
     "text": [
      "Gradient of gamma: 6.232602345335181e-08\n",
      "Epoch 31 - Loss: 0.413261741399765\n",
      "Parameter name: gamma\n",
      "Parameter shape: torch.Size([])\n",
      "Parameter value: Parameter containing:\n",
      "tensor(3.8775, device='cuda:0', requires_grad=True)\n",
      "\n"
     ]
    },
    {
     "name": "stderr",
     "output_type": "stream",
     "text": [
      "\n",
      "100%|██████████████████████████████████████████| 10/10 [00:00<00:00, 453.08it/s]\n"
     ]
    },
    {
     "name": "stdout",
     "output_type": "stream",
     "text": [
      "Gradient of gamma: 6.2520539856336654e-09\n",
      "Epoch 32 - Loss: 0.413261741399765\n",
      "Parameter name: gamma\n",
      "Parameter shape: torch.Size([])\n",
      "Parameter value: Parameter containing:\n",
      "tensor(3.9237, device='cuda:0', requires_grad=True)\n",
      "\n"
     ]
    },
    {
     "name": "stderr",
     "output_type": "stream",
     "text": [
      "\n",
      "100%|██████████████████████████████████████████| 10/10 [00:00<00:00, 459.73it/s]\n",
      " 68%|█████████████████████████████▏             | 34/50 [00:01<00:00, 16.56it/s]"
     ]
    },
    {
     "name": "stdout",
     "output_type": "stream",
     "text": [
      "Gradient of gamma: 6.074492020502475e-10\n",
      "Epoch 33 - Loss: 0.413261741399765\n",
      "Parameter name: gamma\n",
      "Parameter shape: torch.Size([])\n",
      "Parameter value: Parameter containing:\n",
      "tensor(3.9659, device='cuda:0', requires_grad=True)\n",
      "\n"
     ]
    },
    {
     "name": "stderr",
     "output_type": "stream",
     "text": [
      "\n",
      "100%|██████████████████████████████████████████| 10/10 [00:00<00:00, 488.78it/s]\n"
     ]
    },
    {
     "name": "stdout",
     "output_type": "stream",
     "text": [
      "Gradient of gamma: 5.851153589420122e-11\n",
      "Epoch 34 - Loss: 0.413261741399765\n",
      "Parameter name: gamma\n",
      "Parameter shape: torch.Size([])\n",
      "Parameter value: Parameter containing:\n",
      "tensor(4.0042, device='cuda:0', requires_grad=True)\n",
      "\n"
     ]
    },
    {
     "name": "stderr",
     "output_type": "stream",
     "text": [
      "\n",
      "100%|██████████████████████████████████████████| 10/10 [00:00<00:00, 489.93it/s]\n",
      " 72%|██████████████████████████████▉            | 36/50 [00:02<00:00, 17.17it/s]"
     ]
    },
    {
     "name": "stdout",
     "output_type": "stream",
     "text": [
      "Gradient of gamma: 5.757801353756253e-12\n",
      "Epoch 35 - Loss: 0.413261741399765\n",
      "Parameter name: gamma\n",
      "Parameter shape: torch.Size([])\n",
      "Parameter value: Parameter containing:\n",
      "tensor(4.0391, device='cuda:0', requires_grad=True)\n",
      "\n"
     ]
    },
    {
     "name": "stderr",
     "output_type": "stream",
     "text": [
      "\n",
      "100%|██████████████████████████████████████████| 10/10 [00:00<00:00, 476.46it/s]\n"
     ]
    },
    {
     "name": "stdout",
     "output_type": "stream",
     "text": [
      "Gradient of gamma: 5.974138284764452e-13\n",
      "Epoch 36 - Loss: 0.413261741399765\n",
      "Parameter name: gamma\n",
      "Parameter shape: torch.Size([])\n",
      "Parameter value: Parameter containing:\n",
      "tensor(4.0709, device='cuda:0', requires_grad=True)\n",
      "\n"
     ]
    },
    {
     "name": "stderr",
     "output_type": "stream",
     "text": [
      "\n",
      "100%|██████████████████████████████████████████| 10/10 [00:00<00:00, 472.82it/s]\n",
      " 76%|████████████████████████████████▋          | 38/50 [00:02<00:00, 17.50it/s]"
     ]
    },
    {
     "name": "stdout",
     "output_type": "stream",
     "text": [
      "Gradient of gamma: 6.549464746583022e-14\n",
      "Epoch 37 - Loss: 0.413261741399765\n",
      "Parameter name: gamma\n",
      "Parameter shape: torch.Size([])\n",
      "Parameter value: Parameter containing:\n",
      "tensor(4.0999, device='cuda:0', requires_grad=True)\n",
      "\n"
     ]
    },
    {
     "name": "stderr",
     "output_type": "stream",
     "text": [
      "\n",
      "100%|██████████████████████████████████████████| 10/10 [00:00<00:00, 459.82it/s]\n"
     ]
    },
    {
     "name": "stdout",
     "output_type": "stream",
     "text": [
      "Gradient of gamma: 7.850613063277445e-15\n",
      "Epoch 38 - Loss: 0.413261741399765\n",
      "Parameter name: gamma\n",
      "Parameter shape: torch.Size([])\n",
      "Parameter value: Parameter containing:\n",
      "tensor(4.1262, device='cuda:0', requires_grad=True)\n",
      "\n"
     ]
    },
    {
     "name": "stderr",
     "output_type": "stream",
     "text": [
      "\n",
      "100%|██████████████████████████████████████████| 10/10 [00:00<00:00, 450.70it/s]\n",
      " 80%|██████████████████████████████████▍        | 40/50 [00:02<00:00, 17.55it/s]"
     ]
    },
    {
     "name": "stdout",
     "output_type": "stream",
     "text": [
      "Gradient of gamma: 9.857037815437356e-16\n",
      "Epoch 39 - Loss: 0.413261741399765\n",
      "Parameter name: gamma\n",
      "Parameter shape: torch.Size([])\n",
      "Parameter value: Parameter containing:\n",
      "tensor(4.1502, device='cuda:0', requires_grad=True)\n",
      "\n"
     ]
    },
    {
     "name": "stderr",
     "output_type": "stream",
     "text": [
      "\n",
      "100%|██████████████████████████████████████████| 10/10 [00:00<00:00, 451.42it/s]\n"
     ]
    },
    {
     "name": "stdout",
     "output_type": "stream",
     "text": [
      "Gradient of gamma: 1.3939326074921462e-16\n",
      "Epoch 40 - Loss: 0.413261741399765\n",
      "Parameter name: gamma\n",
      "Parameter shape: torch.Size([])\n",
      "Parameter value: Parameter containing:\n",
      "tensor(4.1720, device='cuda:0', requires_grad=True)\n",
      "\n"
     ]
    },
    {
     "name": "stderr",
     "output_type": "stream",
     "text": [
      "\n",
      "100%|██████████████████████████████████████████| 10/10 [00:00<00:00, 483.68it/s]\n",
      " 84%|████████████████████████████████████       | 42/50 [00:02<00:00, 17.73it/s]"
     ]
    },
    {
     "name": "stdout",
     "output_type": "stream",
     "text": [
      "Gradient of gamma: 2.1609163751939338e-17\n",
      "Epoch 41 - Loss: 0.413261741399765\n",
      "Parameter name: gamma\n",
      "Parameter shape: torch.Size([])\n",
      "Parameter value: Parameter containing:\n",
      "tensor(4.1919, device='cuda:0', requires_grad=True)\n",
      "\n"
     ]
    },
    {
     "name": "stderr",
     "output_type": "stream",
     "text": [
      "\n",
      "100%|██████████████████████████████████████████| 10/10 [00:00<00:00, 471.33it/s]\n"
     ]
    },
    {
     "name": "stdout",
     "output_type": "stream",
     "text": [
      "Gradient of gamma: 3.75974143843573e-18\n",
      "Epoch 42 - Loss: 0.413261741399765\n",
      "Parameter name: gamma\n",
      "Parameter shape: torch.Size([])\n",
      "Parameter value: Parameter containing:\n",
      "tensor(4.2100, device='cuda:0', requires_grad=True)\n",
      "\n"
     ]
    },
    {
     "name": "stderr",
     "output_type": "stream",
     "text": [
      "\n",
      "100%|██████████████████████████████████████████| 10/10 [00:00<00:00, 458.06it/s]\n",
      " 88%|█████████████████████████████████████▊     | 44/50 [00:02<00:00, 17.84it/s]"
     ]
    },
    {
     "name": "stdout",
     "output_type": "stream",
     "text": [
      "Gradient of gamma: 7.5020628667614e-19\n",
      "Epoch 43 - Loss: 0.413261741399765\n",
      "Parameter name: gamma\n",
      "Parameter shape: torch.Size([])\n",
      "Parameter value: Parameter containing:\n",
      "tensor(4.2264, device='cuda:0', requires_grad=True)\n",
      "\n"
     ]
    },
    {
     "name": "stderr",
     "output_type": "stream",
     "text": [
      "\n",
      "100%|██████████████████████████████████████████| 10/10 [00:00<00:00, 460.07it/s]\n"
     ]
    },
    {
     "name": "stdout",
     "output_type": "stream",
     "text": [
      "Gradient of gamma: 1.657088336188066e-19\n",
      "Epoch 44 - Loss: 0.413261741399765\n",
      "Parameter name: gamma\n",
      "Parameter shape: torch.Size([])\n",
      "Parameter value: Parameter containing:\n",
      "tensor(4.2414, device='cuda:0', requires_grad=True)\n",
      "\n"
     ]
    },
    {
     "name": "stderr",
     "output_type": "stream",
     "text": [
      "\n",
      "100%|██████████████████████████████████████████| 10/10 [00:00<00:00, 480.01it/s]\n",
      " 92%|███████████████████████████████████████▌   | 46/50 [00:02<00:00, 17.85it/s]"
     ]
    },
    {
     "name": "stdout",
     "output_type": "stream",
     "text": [
      "Gradient of gamma: 3.996377726707903e-20\n",
      "Epoch 45 - Loss: 0.413261741399765\n",
      "Parameter name: gamma\n",
      "Parameter shape: torch.Size([])\n",
      "Parameter value: Parameter containing:\n",
      "tensor(4.2550, device='cuda:0', requires_grad=True)\n",
      "\n"
     ]
    },
    {
     "name": "stderr",
     "output_type": "stream",
     "text": [
      "\n",
      "100%|██████████████████████████████████████████| 10/10 [00:00<00:00, 437.54it/s]\n"
     ]
    },
    {
     "name": "stdout",
     "output_type": "stream",
     "text": [
      "Gradient of gamma: 1.0847287892676681e-20\n",
      "Epoch 46 - Loss: 0.413261741399765\n",
      "Parameter name: gamma\n",
      "Parameter shape: torch.Size([])\n",
      "Parameter value: Parameter containing:\n",
      "tensor(4.2673, device='cuda:0', requires_grad=True)\n",
      "\n"
     ]
    },
    {
     "name": "stderr",
     "output_type": "stream",
     "text": [
      "\n",
      "100%|██████████████████████████████████████████| 10/10 [00:00<00:00, 462.00it/s]\n",
      " 96%|█████████████████████████████████████████▎ | 48/50 [00:02<00:00, 17.80it/s]"
     ]
    },
    {
     "name": "stdout",
     "output_type": "stream",
     "text": [
      "Gradient of gamma: 3.396440349750028e-21\n",
      "Epoch 47 - Loss: 0.413261741399765\n",
      "Parameter name: gamma\n",
      "Parameter shape: torch.Size([])\n",
      "Parameter value: Parameter containing:\n",
      "tensor(4.2786, device='cuda:0', requires_grad=True)\n",
      "\n"
     ]
    },
    {
     "name": "stderr",
     "output_type": "stream",
     "text": [
      "\n",
      "100%|██████████████████████████████████████████| 10/10 [00:00<00:00, 489.55it/s]\n"
     ]
    },
    {
     "name": "stdout",
     "output_type": "stream",
     "text": [
      "Gradient of gamma: 1.1792565299388167e-21\n",
      "Epoch 48 - Loss: 0.413261741399765\n",
      "Parameter name: gamma\n",
      "Parameter shape: torch.Size([])\n",
      "Parameter value: Parameter containing:\n",
      "tensor(4.2888, device='cuda:0', requires_grad=True)\n",
      "\n"
     ]
    },
    {
     "name": "stderr",
     "output_type": "stream",
     "text": [
      "\n",
      "100%|██████████████████████████████████████████| 10/10 [00:00<00:00, 463.29it/s]\n",
      "100%|███████████████████████████████████████████| 50/50 [00:02<00:00, 17.60it/s]\n"
     ]
    },
    {
     "name": "stdout",
     "output_type": "stream",
     "text": [
      "Gradient of gamma: 4.481314077378445e-22\n",
      "Epoch 49 - Loss: 0.413261741399765\n",
      "Parameter name: gamma\n",
      "Parameter shape: torch.Size([])\n",
      "Parameter value: Parameter containing:\n",
      "tensor(4.2981, device='cuda:0', requires_grad=True)\n",
      "\n"
     ]
    },
    {
     "name": "stderr",
     "output_type": "stream",
     "text": [
      "  0%|                                                    | 0/50 [00:00<?, ?it/s]\n",
      "100%|██████████████████████████████████████████| 10/10 [00:00<00:00, 401.38it/s]\n"
     ]
    },
    {
     "name": "stdout",
     "output_type": "stream",
     "text": [
      "Gradient of gamma: 0.00011229375377297401\n",
      "Epoch 0 - Loss: 0.6931277513504028\n",
      "Parameter name: gamma\n",
      "Parameter shape: torch.Size([])\n",
      "Parameter value: Parameter containing:\n",
      "tensor(1.1000, device='cuda:0', requires_grad=True)\n",
      "\n"
     ]
    },
    {
     "name": "stderr",
     "output_type": "stream",
     "text": [
      "\n",
      "100%|██████████████████████████████████████████| 10/10 [00:00<00:00, 372.63it/s]\n",
      "  4%|█▊                                          | 2/50 [00:00<00:03, 15.66it/s]"
     ]
    },
    {
     "name": "stdout",
     "output_type": "stream",
     "text": [
      "Gradient of gamma: 0.00021343445405364037\n",
      "Epoch 1 - Loss: 0.6931120157241821\n",
      "Parameter name: gamma\n",
      "Parameter shape: torch.Size([])\n",
      "Parameter value: Parameter containing:\n",
      "tensor(1.1970, device='cuda:0', requires_grad=True)\n",
      "\n"
     ]
    },
    {
     "name": "stderr",
     "output_type": "stream",
     "text": [
      "\n",
      "100%|██████████████████████████████████████████| 10/10 [00:00<00:00, 448.16it/s]\n"
     ]
    },
    {
     "name": "stdout",
     "output_type": "stream",
     "text": [
      "Gradient of gamma: 0.00038490118458867073\n",
      "Epoch 2 - Loss: 0.6930839419364929\n",
      "Parameter name: gamma\n",
      "Parameter shape: torch.Size([])\n",
      "Parameter value: Parameter containing:\n",
      "tensor(1.2910, device='cuda:0', requires_grad=True)\n",
      "\n"
     ]
    },
    {
     "name": "stderr",
     "output_type": "stream",
     "text": [
      "\n",
      "100%|██████████████████████████████████████████| 10/10 [00:00<00:00, 458.48it/s]\n",
      "  8%|███▌                                        | 4/50 [00:00<00:02, 16.75it/s]"
     ]
    },
    {
     "name": "stdout",
     "output_type": "stream",
     "text": [
      "Gradient of gamma: 0.0006673354655504227\n",
      "Epoch 3 - Loss: 0.6930352449417114\n",
      "Parameter name: gamma\n",
      "Parameter shape: torch.Size([])\n",
      "Parameter value: Parameter containing:\n",
      "tensor(1.3823, device='cuda:0', requires_grad=True)\n",
      "\n"
     ]
    },
    {
     "name": "stderr",
     "output_type": "stream",
     "text": [
      "\n",
      "100%|██████████████████████████████████████████| 10/10 [00:00<00:00, 484.02it/s]\n"
     ]
    },
    {
     "name": "stdout",
     "output_type": "stream",
     "text": [
      "Gradient of gamma: 0.0011018821969628334\n",
      "Epoch 4 - Loss: 0.6929563283920288\n",
      "Parameter name: gamma\n",
      "Parameter shape: torch.Size([])\n",
      "Parameter value: Parameter containing:\n",
      "tensor(1.4719, device='cuda:0', requires_grad=True)\n",
      "\n"
     ]
    },
    {
     "name": "stderr",
     "output_type": "stream",
     "text": [
      "\n",
      "100%|██████████████████████████████████████████| 10/10 [00:00<00:00, 501.60it/s]\n",
      " 12%|█████▎                                      | 6/50 [00:00<00:02, 17.58it/s]"
     ]
    },
    {
     "name": "stdout",
     "output_type": "stream",
     "text": [
      "Gradient of gamma: 0.0017706514336168766\n",
      "Epoch 5 - Loss: 0.6928285360336304\n",
      "Parameter name: gamma\n",
      "Parameter shape: torch.Size([])\n",
      "Parameter value: Parameter containing:\n",
      "tensor(1.5604, device='cuda:0', requires_grad=True)\n",
      "\n"
     ]
    },
    {
     "name": "stderr",
     "output_type": "stream",
     "text": [
      "\n",
      "100%|██████████████████████████████████████████| 10/10 [00:00<00:00, 440.47it/s]\n"
     ]
    },
    {
     "name": "stdout",
     "output_type": "stream",
     "text": [
      "Gradient of gamma: 0.002746022306382656\n",
      "Epoch 6 - Loss: 0.6926324367523193\n",
      "Parameter name: gamma\n",
      "Parameter shape: torch.Size([])\n",
      "Parameter value: Parameter containing:\n",
      "tensor(1.6485, device='cuda:0', requires_grad=True)\n",
      "\n"
     ]
    },
    {
     "name": "stderr",
     "output_type": "stream",
     "text": [
      "\n",
      "100%|██████████████████████████████████████████| 10/10 [00:00<00:00, 499.43it/s]\n",
      " 16%|███████                                     | 8/50 [00:00<00:02, 17.78it/s]"
     ]
    },
    {
     "name": "stdout",
     "output_type": "stream",
     "text": [
      "Gradient of gamma: 0.00415791105479002\n",
      "Epoch 7 - Loss: 0.6923345327377319\n",
      "Parameter name: gamma\n",
      "Parameter shape: torch.Size([])\n",
      "Parameter value: Parameter containing:\n",
      "tensor(1.7366, device='cuda:0', requires_grad=True)\n",
      "\n"
     ]
    },
    {
     "name": "stderr",
     "output_type": "stream",
     "text": [
      "\n",
      "100%|██████████████████████████████████████████| 10/10 [00:00<00:00, 504.30it/s]\n"
     ]
    },
    {
     "name": "stdout",
     "output_type": "stream",
     "text": [
      "Gradient of gamma: 0.0062036761082708836\n",
      "Epoch 8 - Loss: 0.6918814182281494\n",
      "Parameter name: gamma\n",
      "Parameter shape: torch.Size([])\n",
      "Parameter value: Parameter containing:\n",
      "tensor(1.8249, device='cuda:0', requires_grad=True)\n",
      "\n"
     ]
    },
    {
     "name": "stderr",
     "output_type": "stream",
     "text": [
      "\n",
      "100%|██████████████████████████████████████████| 10/10 [00:00<00:00, 470.98it/s]\n",
      " 20%|████████▌                                  | 10/50 [00:00<00:02, 17.95it/s]"
     ]
    },
    {
     "name": "stdout",
     "output_type": "stream",
     "text": [
      "Gradient of gamma: 0.009083490818738937\n",
      "Epoch 9 - Loss: 0.6912133693695068\n",
      "Parameter name: gamma\n",
      "Parameter shape: torch.Size([])\n",
      "Parameter value: Parameter containing:\n",
      "tensor(1.9138, device='cuda:0', requires_grad=True)\n",
      "\n"
     ]
    },
    {
     "name": "stderr",
     "output_type": "stream",
     "text": [
      "\n",
      "100%|██████████████████████████████████████████| 10/10 [00:00<00:00, 477.02it/s]\n"
     ]
    },
    {
     "name": "stdout",
     "output_type": "stream",
     "text": [
      "Gradient of gamma: 0.013117650523781776\n",
      "Epoch 10 - Loss: 0.6902346014976501\n",
      "Parameter name: gamma\n",
      "Parameter shape: torch.Size([])\n",
      "Parameter value: Parameter containing:\n",
      "tensor(2.0034, device='cuda:0', requires_grad=True)\n",
      "\n"
     ]
    },
    {
     "name": "stderr",
     "output_type": "stream",
     "text": [
      "\n",
      "100%|██████████████████████████████████████████| 10/10 [00:00<00:00, 481.31it/s]\n",
      " 24%|██████████▎                                | 12/50 [00:00<00:02, 18.03it/s]"
     ]
    },
    {
     "name": "stdout",
     "output_type": "stream",
     "text": [
      "Gradient of gamma: 0.018652938306331635\n",
      "Epoch 11 - Loss: 0.6888286471366882\n",
      "Parameter name: gamma\n",
      "Parameter shape: torch.Size([])\n",
      "Parameter value: Parameter containing:\n",
      "tensor(2.0940, device='cuda:0', requires_grad=True)\n",
      "\n"
     ]
    },
    {
     "name": "stderr",
     "output_type": "stream",
     "text": [
      "\n",
      "100%|██████████████████████████████████████████| 10/10 [00:00<00:00, 481.33it/s]\n"
     ]
    },
    {
     "name": "stdout",
     "output_type": "stream",
     "text": [
      "Gradient of gamma: 0.02626821957528591\n",
      "Epoch 12 - Loss: 0.6868089437484741\n",
      "Parameter name: gamma\n",
      "Parameter shape: torch.Size([])\n",
      "Parameter value: Parameter containing:\n",
      "tensor(2.1856, device='cuda:0', requires_grad=True)\n",
      "\n"
     ]
    },
    {
     "name": "stderr",
     "output_type": "stream",
     "text": [
      "\n",
      "100%|██████████████████████████████████████████| 10/10 [00:00<00:00, 480.97it/s]\n",
      " 28%|████████████                               | 14/50 [00:00<00:01, 18.10it/s]"
     ]
    },
    {
     "name": "stdout",
     "output_type": "stream",
     "text": [
      "Gradient of gamma: 0.03659436106681824\n",
      "Epoch 13 - Loss: 0.6839448809623718\n",
      "Parameter name: gamma\n",
      "Parameter shape: torch.Size([])\n",
      "Parameter value: Parameter containing:\n",
      "tensor(2.2784, device='cuda:0', requires_grad=True)\n",
      "\n"
     ]
    },
    {
     "name": "stderr",
     "output_type": "stream",
     "text": [
      "\n",
      "100%|██████████████████████████████████████████| 10/10 [00:00<00:00, 479.72it/s]\n"
     ]
    },
    {
     "name": "stdout",
     "output_type": "stream",
     "text": [
      "Gradient of gamma: 0.05036717653274536\n",
      "Epoch 14 - Loss: 0.6799523830413818\n",
      "Parameter name: gamma\n",
      "Parameter shape: torch.Size([])\n",
      "Parameter value: Parameter containing:\n",
      "tensor(2.3726, device='cuda:0', requires_grad=True)\n",
      "\n"
     ]
    },
    {
     "name": "stderr",
     "output_type": "stream",
     "text": [
      "\n",
      "100%|██████████████████████████████████████████| 10/10 [00:00<00:00, 485.81it/s]\n",
      " 32%|█████████████▊                             | 16/50 [00:00<00:01, 18.17it/s]"
     ]
    },
    {
     "name": "stdout",
     "output_type": "stream",
     "text": [
      "Gradient of gamma: 0.06864285469055176\n",
      "Epoch 15 - Loss: 0.6744061708450317\n",
      "Parameter name: gamma\n",
      "Parameter shape: torch.Size([])\n",
      "Parameter value: Parameter containing:\n",
      "tensor(2.4681, device='cuda:0', requires_grad=True)\n",
      "\n"
     ]
    },
    {
     "name": "stderr",
     "output_type": "stream",
     "text": [
      "\n",
      "100%|██████████████████████████████████████████| 10/10 [00:00<00:00, 479.64it/s]\n"
     ]
    },
    {
     "name": "stdout",
     "output_type": "stream",
     "text": [
      "Gradient of gamma: 0.09277406334877014\n",
      "Epoch 16 - Loss: 0.6667125225067139\n",
      "Parameter name: gamma\n",
      "Parameter shape: torch.Size([])\n",
      "Parameter value: Parameter containing:\n",
      "tensor(2.5651, device='cuda:0', requires_grad=True)\n",
      "\n"
     ]
    },
    {
     "name": "stderr",
     "output_type": "stream",
     "text": [
      "\n",
      "100%|██████████████████████████████████████████| 10/10 [00:00<00:00, 483.39it/s]\n",
      " 36%|███████████████▍                           | 18/50 [00:01<00:01, 18.16it/s]"
     ]
    },
    {
     "name": "stdout",
     "output_type": "stream",
     "text": [
      "Gradient of gamma: 0.12367569655179977\n",
      "Epoch 17 - Loss: 0.6563231945037842\n",
      "Parameter name: gamma\n",
      "Parameter shape: torch.Size([])\n",
      "Parameter value: Parameter containing:\n",
      "tensor(2.6638, device='cuda:0', requires_grad=True)\n",
      "\n"
     ]
    },
    {
     "name": "stderr",
     "output_type": "stream",
     "text": [
      "\n",
      "100%|██████████████████████████████████████████| 10/10 [00:00<00:00, 486.14it/s]\n"
     ]
    },
    {
     "name": "stdout",
     "output_type": "stream",
     "text": [
      "Gradient of gamma: 0.16315583884716034\n",
      "Epoch 18 - Loss: 0.642196536064148\n",
      "Parameter name: gamma\n",
      "Parameter shape: torch.Size([])\n",
      "Parameter value: Parameter containing:\n",
      "tensor(2.7641, device='cuda:0', requires_grad=True)\n",
      "\n"
     ]
    },
    {
     "name": "stderr",
     "output_type": "stream",
     "text": [
      "\n",
      "100%|██████████████████████████████████████████| 10/10 [00:00<00:00, 453.25it/s]\n",
      " 40%|█████████████████▏                         | 20/50 [00:01<00:01, 18.06it/s]"
     ]
    },
    {
     "name": "stdout",
     "output_type": "stream",
     "text": [
      "Gradient of gamma: 0.2115483283996582\n",
      "Epoch 19 - Loss: 0.6234617829322815\n",
      "Parameter name: gamma\n",
      "Parameter shape: torch.Size([])\n",
      "Parameter value: Parameter containing:\n",
      "tensor(2.8663, device='cuda:0', requires_grad=True)\n",
      "\n"
     ]
    },
    {
     "name": "stderr",
     "output_type": "stream",
     "text": [
      "\n",
      "100%|██████████████████████████████████████████| 10/10 [00:00<00:00, 482.04it/s]\n"
     ]
    },
    {
     "name": "stdout",
     "output_type": "stream",
     "text": [
      "Gradient of gamma: 0.26848065853118896\n",
      "Epoch 20 - Loss: 0.5989622473716736\n",
      "Parameter name: gamma\n",
      "Parameter shape: torch.Size([])\n",
      "Parameter value: Parameter containing:\n",
      "tensor(2.9706, device='cuda:0', requires_grad=True)\n",
      "\n"
     ]
    },
    {
     "name": "stderr",
     "output_type": "stream",
     "text": [
      "\n",
      "100%|██████████████████████████████████████████| 10/10 [00:00<00:00, 459.52it/s]\n",
      " 44%|██████████████████▉                        | 22/50 [00:01<00:01, 18.03it/s]"
     ]
    },
    {
     "name": "stdout",
     "output_type": "stream",
     "text": [
      "Gradient of gamma: 0.33008331060409546\n",
      "Epoch 21 - Loss: 0.5679036378860474\n",
      "Parameter name: gamma\n",
      "Parameter shape: torch.Size([])\n",
      "Parameter value: Parameter containing:\n",
      "tensor(3.0772, device='cuda:0', requires_grad=True)\n",
      "\n"
     ]
    },
    {
     "name": "stderr",
     "output_type": "stream",
     "text": [
      "\n",
      "100%|██████████████████████████████████████████| 10/10 [00:00<00:00, 455.59it/s]\n"
     ]
    },
    {
     "name": "stdout",
     "output_type": "stream",
     "text": [
      "Gradient of gamma: 0.38865333795547485\n",
      "Epoch 22 - Loss: 0.5291994214057922\n",
      "Parameter name: gamma\n",
      "Parameter shape: torch.Size([])\n",
      "Parameter value: Parameter containing:\n",
      "tensor(3.1865, device='cuda:0', requires_grad=True)\n",
      "\n"
     ]
    },
    {
     "name": "stderr",
     "output_type": "stream",
     "text": [
      "\n",
      "100%|██████████████████████████████████████████| 10/10 [00:00<00:00, 473.17it/s]\n",
      " 48%|████████████████████▋                      | 24/50 [00:01<00:01, 17.97it/s]"
     ]
    },
    {
     "name": "stdout",
     "output_type": "stream",
     "text": [
      "Gradient of gamma: 0.42646557092666626\n",
      "Epoch 23 - Loss: 0.4847787022590637\n",
      "Parameter name: gamma\n",
      "Parameter shape: torch.Size([])\n",
      "Parameter value: Parameter containing:\n",
      "tensor(3.2989, device='cuda:0', requires_grad=True)\n",
      "\n"
     ]
    },
    {
     "name": "stderr",
     "output_type": "stream",
     "text": [
      "\n",
      "100%|██████████████████████████████████████████| 10/10 [00:00<00:00, 473.42it/s]\n"
     ]
    },
    {
     "name": "stdout",
     "output_type": "stream",
     "text": [
      "Gradient of gamma: 0.4229884445667267\n",
      "Epoch 24 - Loss: 0.4363272190093994\n",
      "Parameter name: gamma\n",
      "Parameter shape: torch.Size([])\n",
      "Parameter value: Parameter containing:\n",
      "tensor(3.4143, device='cuda:0', requires_grad=True)\n",
      "\n"
     ]
    },
    {
     "name": "stderr",
     "output_type": "stream",
     "text": [
      "\n",
      "100%|██████████████████████████████████████████| 10/10 [00:00<00:00, 471.84it/s]\n",
      " 52%|██████████████████████▎                    | 26/50 [00:01<00:01, 18.08it/s]"
     ]
    },
    {
     "name": "stdout",
     "output_type": "stream",
     "text": [
      "Gradient of gamma: 0.36235371232032776\n",
      "Epoch 25 - Loss: 0.39042532444000244\n",
      "Parameter name: gamma\n",
      "Parameter shape: torch.Size([])\n",
      "Parameter value: Parameter containing:\n",
      "tensor(3.5322, device='cuda:0', requires_grad=True)\n",
      "\n"
     ]
    },
    {
     "name": "stderr",
     "output_type": "stream",
     "text": [
      "\n",
      "100%|██████████████████████████████████████████| 10/10 [00:00<00:00, 471.22it/s]\n"
     ]
    },
    {
     "name": "stdout",
     "output_type": "stream",
     "text": [
      "Gradient of gamma: 0.25496673583984375\n",
      "Epoch 26 - Loss: 0.3536263704299927\n",
      "Parameter name: gamma\n",
      "Parameter shape: torch.Size([])\n",
      "Parameter value: Parameter containing:\n",
      "tensor(3.6500, device='cuda:0', requires_grad=True)\n",
      "\n"
     ]
    },
    {
     "name": "stderr",
     "output_type": "stream",
     "text": [
      "\n",
      "100%|██████████████████████████████████████████| 10/10 [00:00<00:00, 465.85it/s]\n",
      " 56%|████████████████████████                   | 28/50 [00:01<00:01, 18.15it/s]"
     ]
    },
    {
     "name": "stdout",
     "output_type": "stream",
     "text": [
      "Gradient of gamma: 0.1424613893032074\n",
      "Epoch 27 - Loss: 0.3304135501384735\n",
      "Parameter name: gamma\n",
      "Parameter shape: torch.Size([])\n",
      "Parameter value: Parameter containing:\n",
      "tensor(3.7642, device='cuda:0', requires_grad=True)\n",
      "\n"
     ]
    },
    {
     "name": "stderr",
     "output_type": "stream",
     "text": [
      "\n",
      "100%|██████████████████████████████████████████| 10/10 [00:00<00:00, 482.07it/s]\n"
     ]
    },
    {
     "name": "stdout",
     "output_type": "stream",
     "text": [
      "Gradient of gamma: 0.062103062868118286\n",
      "Epoch 28 - Loss: 0.3190808892250061\n",
      "Parameter name: gamma\n",
      "Parameter shape: torch.Size([])\n",
      "Parameter value: Parameter containing:\n",
      "tensor(3.8714, device='cuda:0', requires_grad=True)\n",
      "\n"
     ]
    },
    {
     "name": "stderr",
     "output_type": "stream",
     "text": [
      "\n",
      "100%|██████████████████████████████████████████| 10/10 [00:00<00:00, 479.15it/s]\n",
      " 60%|█████████████████████████▊                 | 30/50 [00:01<00:01, 18.27it/s]"
     ]
    },
    {
     "name": "stdout",
     "output_type": "stream",
     "text": [
      "Gradient of gamma: 0.021668974310159683\n",
      "Epoch 29 - Loss: 0.3148852288722992\n",
      "Parameter name: gamma\n",
      "Parameter shape: torch.Size([])\n",
      "Parameter value: Parameter containing:\n",
      "tensor(3.9703, device='cuda:0', requires_grad=True)\n",
      "\n"
     ]
    },
    {
     "name": "stderr",
     "output_type": "stream",
     "text": [
      "\n",
      "100%|██████████████████████████████████████████| 10/10 [00:00<00:00, 474.22it/s]\n"
     ]
    },
    {
     "name": "stdout",
     "output_type": "stream",
     "text": [
      "Gradient of gamma: 0.006093893200159073\n",
      "Epoch 30 - Loss: 0.3136349320411682\n",
      "Parameter name: gamma\n",
      "Parameter shape: torch.Size([])\n",
      "Parameter value: Parameter containing:\n",
      "tensor(4.0608, device='cuda:0', requires_grad=True)\n",
      "\n"
     ]
    },
    {
     "name": "stderr",
     "output_type": "stream",
     "text": [
      "\n",
      "100%|██████████████████████████████████████████| 10/10 [00:00<00:00, 442.38it/s]\n",
      " 64%|███████████████████████████▌               | 32/50 [00:01<00:00, 18.20it/s]"
     ]
    },
    {
     "name": "stdout",
     "output_type": "stream",
     "text": [
      "Gradient of gamma: 0.0014235272537916899\n",
      "Epoch 31 - Loss: 0.31333449482917786\n",
      "Parameter name: gamma\n",
      "Parameter shape: torch.Size([])\n",
      "Parameter value: Parameter containing:\n",
      "tensor(4.1433, device='cuda:0', requires_grad=True)\n",
      "\n"
     ]
    },
    {
     "name": "stderr",
     "output_type": "stream",
     "text": [
      "\n",
      "100%|██████████████████████████████████████████| 10/10 [00:00<00:00, 446.69it/s]\n"
     ]
    },
    {
     "name": "stdout",
     "output_type": "stream",
     "text": [
      "Gradient of gamma: 0.0002886178554035723\n",
      "Epoch 32 - Loss: 0.3132743239402771\n",
      "Parameter name: gamma\n",
      "Parameter shape: torch.Size([])\n",
      "Parameter value: Parameter containing:\n",
      "tensor(4.2185, device='cuda:0', requires_grad=True)\n",
      "\n"
     ]
    },
    {
     "name": "stderr",
     "output_type": "stream",
     "text": [
      "\n",
      "100%|██████████████████████████████████████████| 10/10 [00:00<00:00, 468.08it/s]\n",
      " 68%|█████████████████████████████▏             | 34/50 [00:01<00:00, 18.03it/s]"
     ]
    },
    {
     "name": "stdout",
     "output_type": "stream",
     "text": [
      "Gradient of gamma: 5.292927016853355e-05\n",
      "Epoch 33 - Loss: 0.3132636547088623\n",
      "Parameter name: gamma\n",
      "Parameter shape: torch.Size([])\n",
      "Parameter value: Parameter containing:\n",
      "tensor(4.2870, device='cuda:0', requires_grad=True)\n",
      "\n"
     ]
    },
    {
     "name": "stderr",
     "output_type": "stream",
     "text": [
      "\n",
      "100%|██████████████████████████████████████████| 10/10 [00:00<00:00, 464.39it/s]\n"
     ]
    },
    {
     "name": "stdout",
     "output_type": "stream",
     "text": [
      "Gradient of gamma: 8.77490674611181e-06\n",
      "Epoch 34 - Loss: 0.3132619857788086\n",
      "Parameter name: gamma\n",
      "Parameter shape: torch.Size([])\n",
      "Parameter value: Parameter containing:\n",
      "tensor(4.3493, device='cuda:0', requires_grad=True)\n",
      "\n"
     ]
    },
    {
     "name": "stderr",
     "output_type": "stream",
     "text": [
      "\n",
      "100%|██████████████████████████████████████████| 10/10 [00:00<00:00, 469.63it/s]\n",
      " 72%|██████████████████████████████▉            | 36/50 [00:02<00:00, 17.83it/s]"
     ]
    },
    {
     "name": "stdout",
     "output_type": "stream",
     "text": [
      "Gradient of gamma: 1.358022586828156e-06\n",
      "Epoch 35 - Loss: 0.3132617473602295\n",
      "Parameter name: gamma\n",
      "Parameter shape: torch.Size([])\n",
      "Parameter value: Parameter containing:\n",
      "tensor(4.4061, device='cuda:0', requires_grad=True)\n",
      "\n"
     ]
    },
    {
     "name": "stderr",
     "output_type": "stream",
     "text": [
      "\n",
      "100%|██████████████████████████████████████████| 10/10 [00:00<00:00, 473.62it/s]\n"
     ]
    },
    {
     "name": "stdout",
     "output_type": "stream",
     "text": [
      "Gradient of gamma: 1.882469433667211e-07\n",
      "Epoch 36 - Loss: 0.3132617473602295\n",
      "Parameter name: gamma\n",
      "Parameter shape: torch.Size([])\n",
      "Parameter value: Parameter containing:\n",
      "tensor(4.4578, device='cuda:0', requires_grad=True)\n",
      "\n"
     ]
    },
    {
     "name": "stderr",
     "output_type": "stream",
     "text": [
      "\n",
      "100%|██████████████████████████████████████████| 10/10 [00:00<00:00, 416.35it/s]\n",
      " 76%|████████████████████████████████▋          | 38/50 [00:02<00:00, 17.56it/s]"
     ]
    },
    {
     "name": "stdout",
     "output_type": "stream",
     "text": [
      "Gradient of gamma: 2.775353991069096e-08\n",
      "Epoch 37 - Loss: 0.3132617473602295\n",
      "Parameter name: gamma\n",
      "Parameter shape: torch.Size([])\n",
      "Parameter value: Parameter containing:\n",
      "tensor(4.5049, device='cuda:0', requires_grad=True)\n",
      "\n"
     ]
    },
    {
     "name": "stderr",
     "output_type": "stream",
     "text": [
      "\n",
      "100%|██████████████████████████████████████████| 10/10 [00:00<00:00, 470.52it/s]\n"
     ]
    },
    {
     "name": "stdout",
     "output_type": "stream",
     "text": [
      "Gradient of gamma: 4.089158345266242e-09\n",
      "Epoch 38 - Loss: 0.3132617473602295\n",
      "Parameter name: gamma\n",
      "Parameter shape: torch.Size([])\n",
      "Parameter value: Parameter containing:\n",
      "tensor(4.5478, device='cuda:0', requires_grad=True)\n",
      "\n"
     ]
    },
    {
     "name": "stderr",
     "output_type": "stream",
     "text": [
      "\n",
      "100%|██████████████████████████████████████████| 10/10 [00:00<00:00, 464.69it/s]\n",
      " 80%|██████████████████████████████████▍        | 40/50 [00:02<00:00, 17.59it/s]"
     ]
    },
    {
     "name": "stdout",
     "output_type": "stream",
     "text": [
      "Gradient of gamma: 6.073447855747816e-10\n",
      "Epoch 39 - Loss: 0.3132617473602295\n",
      "Parameter name: gamma\n",
      "Parameter shape: torch.Size([])\n",
      "Parameter value: Parameter containing:\n",
      "tensor(4.5868, device='cuda:0', requires_grad=True)\n",
      "\n"
     ]
    },
    {
     "name": "stderr",
     "output_type": "stream",
     "text": [
      "\n",
      "100%|██████████████████████████████████████████| 10/10 [00:00<00:00, 473.05it/s]\n"
     ]
    },
    {
     "name": "stdout",
     "output_type": "stream",
     "text": [
      "Gradient of gamma: 9.124666300319717e-11\n",
      "Epoch 40 - Loss: 0.3132617473602295\n",
      "Parameter name: gamma\n",
      "Parameter shape: torch.Size([])\n",
      "Parameter value: Parameter containing:\n",
      "tensor(4.6223, device='cuda:0', requires_grad=True)\n",
      "\n"
     ]
    },
    {
     "name": "stderr",
     "output_type": "stream",
     "text": [
      "\n",
      "100%|██████████████████████████████████████████| 10/10 [00:00<00:00, 467.27it/s]\n",
      " 84%|████████████████████████████████████       | 42/50 [00:02<00:00, 17.61it/s]"
     ]
    },
    {
     "name": "stdout",
     "output_type": "stream",
     "text": [
      "Gradient of gamma: 1.4913476703570794e-11\n",
      "Epoch 41 - Loss: 0.3132617473602295\n",
      "Parameter name: gamma\n",
      "Parameter shape: torch.Size([])\n",
      "Parameter value: Parameter containing:\n",
      "tensor(4.6546, device='cuda:0', requires_grad=True)\n",
      "\n"
     ]
    },
    {
     "name": "stderr",
     "output_type": "stream",
     "text": [
      "\n",
      "100%|██████████████████████████████████████████| 10/10 [00:00<00:00, 466.92it/s]\n"
     ]
    },
    {
     "name": "stdout",
     "output_type": "stream",
     "text": [
      "Gradient of gamma: 2.5339823555431407e-12\n",
      "Epoch 42 - Loss: 0.3132617473602295\n",
      "Parameter name: gamma\n",
      "Parameter shape: torch.Size([])\n",
      "Parameter value: Parameter containing:\n",
      "tensor(4.6840, device='cuda:0', requires_grad=True)\n",
      "\n"
     ]
    },
    {
     "name": "stderr",
     "output_type": "stream",
     "text": [
      "\n",
      "100%|██████████████████████████████████████████| 10/10 [00:00<00:00, 468.26it/s]\n",
      " 88%|█████████████████████████████████████▊     | 44/50 [00:02<00:00, 17.64it/s]"
     ]
    },
    {
     "name": "stdout",
     "output_type": "stream",
     "text": [
      "Gradient of gamma: 4.891230649672895e-13\n",
      "Epoch 43 - Loss: 0.3132617473602295\n",
      "Parameter name: gamma\n",
      "Parameter shape: torch.Size([])\n",
      "Parameter value: Parameter containing:\n",
      "tensor(4.7107, device='cuda:0', requires_grad=True)\n",
      "\n"
     ]
    },
    {
     "name": "stderr",
     "output_type": "stream",
     "text": [
      "\n",
      "100%|██████████████████████████████████████████| 10/10 [00:00<00:00, 469.53it/s]\n"
     ]
    },
    {
     "name": "stdout",
     "output_type": "stream",
     "text": [
      "Gradient of gamma: 9.532286526954536e-14\n",
      "Epoch 44 - Loss: 0.3132617473602295\n",
      "Parameter name: gamma\n",
      "Parameter shape: torch.Size([])\n",
      "Parameter value: Parameter containing:\n",
      "tensor(4.7350, device='cuda:0', requires_grad=True)\n",
      "\n"
     ]
    },
    {
     "name": "stderr",
     "output_type": "stream",
     "text": [
      "\n",
      "100%|██████████████████████████████████████████| 10/10 [00:00<00:00, 464.02it/s]\n",
      " 92%|███████████████████████████████████████▌   | 46/50 [00:02<00:00, 17.60it/s]"
     ]
    },
    {
     "name": "stdout",
     "output_type": "stream",
     "text": [
      "Gradient of gamma: 2.059635319554779e-14\n",
      "Epoch 45 - Loss: 0.3132617473602295\n",
      "Parameter name: gamma\n",
      "Parameter shape: torch.Size([])\n",
      "Parameter value: Parameter containing:\n",
      "tensor(4.7571, device='cuda:0', requires_grad=True)\n",
      "\n"
     ]
    },
    {
     "name": "stderr",
     "output_type": "stream",
     "text": [
      "\n",
      "100%|██████████████████████████████████████████| 10/10 [00:00<00:00, 468.51it/s]\n"
     ]
    },
    {
     "name": "stdout",
     "output_type": "stream",
     "text": [
      "Gradient of gamma: 5.091587890779063e-15\n",
      "Epoch 46 - Loss: 0.3132617473602295\n",
      "Parameter name: gamma\n",
      "Parameter shape: torch.Size([])\n",
      "Parameter value: Parameter containing:\n",
      "tensor(4.7772, device='cuda:0', requires_grad=True)\n",
      "\n"
     ]
    },
    {
     "name": "stderr",
     "output_type": "stream",
     "text": [
      "\n",
      "100%|██████████████████████████████████████████| 10/10 [00:00<00:00, 467.66it/s]\n",
      " 96%|█████████████████████████████████████████▎ | 48/50 [00:02<00:00, 17.68it/s]"
     ]
    },
    {
     "name": "stdout",
     "output_type": "stream",
     "text": [
      "Gradient of gamma: 1.2411586481611472e-15\n",
      "Epoch 47 - Loss: 0.3132617473602295\n",
      "Parameter name: gamma\n",
      "Parameter shape: torch.Size([])\n",
      "Parameter value: Parameter containing:\n",
      "tensor(4.7955, device='cuda:0', requires_grad=True)\n",
      "\n"
     ]
    },
    {
     "name": "stderr",
     "output_type": "stream",
     "text": [
      "\n",
      "100%|██████████████████████████████████████████| 10/10 [00:00<00:00, 464.46it/s]\n"
     ]
    },
    {
     "name": "stdout",
     "output_type": "stream",
     "text": [
      "Gradient of gamma: 3.295093690090789e-16\n",
      "Epoch 48 - Loss: 0.3132617473602295\n",
      "Parameter name: gamma\n",
      "Parameter shape: torch.Size([])\n",
      "Parameter value: Parameter containing:\n",
      "tensor(4.8121, device='cuda:0', requires_grad=True)\n",
      "\n"
     ]
    },
    {
     "name": "stderr",
     "output_type": "stream",
     "text": [
      "\n",
      "100%|██████████████████████████████████████████| 10/10 [00:00<00:00, 463.83it/s]\n",
      "100%|███████████████████████████████████████████| 50/50 [00:02<00:00, 17.82it/s]\n"
     ]
    },
    {
     "name": "stdout",
     "output_type": "stream",
     "text": [
      "Gradient of gamma: 1.0068420578427281e-16\n",
      "Epoch 49 - Loss: 0.3132617473602295\n",
      "Parameter name: gamma\n",
      "Parameter shape: torch.Size([])\n",
      "Parameter value: Parameter containing:\n",
      "tensor(4.8272, device='cuda:0', requires_grad=True)\n",
      "\n"
     ]
    },
    {
     "name": "stderr",
     "output_type": "stream",
     "text": [
      "  0%|                                                    | 0/50 [00:00<?, ?it/s]\n",
      "100%|██████████████████████████████████████████| 10/10 [00:00<00:00, 434.67it/s]\n"
     ]
    },
    {
     "name": "stdout",
     "output_type": "stream",
     "text": [
      "Gradient of gamma: 0.00014023995026946068\n",
      "Epoch 0 - Loss: 0.6931745409965515\n",
      "Parameter name: gamma\n",
      "Parameter shape: torch.Size([])\n",
      "Parameter value: Parameter containing:\n",
      "tensor(0.9000, device='cuda:0', requires_grad=True)\n",
      "\n"
     ]
    },
    {
     "name": "stderr",
     "output_type": "stream",
     "text": [
      "\n",
      "100%|██████████████████████████████████████████| 10/10 [00:00<00:00, 445.23it/s]\n",
      "  4%|█▊                                          | 2/50 [00:00<00:02, 16.95it/s]"
     ]
    },
    {
     "name": "stdout",
     "output_type": "stream",
     "text": [
      "Gradient of gamma: 7.686065509915352e-05\n",
      "Epoch 1 - Loss: 0.6931639909744263\n",
      "Parameter name: gamma\n",
      "Parameter shape: torch.Size([])\n",
      "Parameter value: Parameter containing:\n",
      "tensor(0.8055, device='cuda:0', requires_grad=True)\n",
      "\n"
     ]
    },
    {
     "name": "stderr",
     "output_type": "stream",
     "text": [
      "\n",
      "100%|██████████████████████████████████████████| 10/10 [00:00<00:00, 454.05it/s]\n"
     ]
    },
    {
     "name": "stdout",
     "output_type": "stream",
     "text": [
      "Gradient of gamma: 4.373304545879364e-05\n",
      "Epoch 2 - Loss: 0.6931584477424622\n",
      "Parameter name: gamma\n",
      "Parameter shape: torch.Size([])\n",
      "Parameter value: Parameter containing:\n",
      "tensor(0.7181, device='cuda:0', requires_grad=True)\n",
      "\n"
     ]
    },
    {
     "name": "stderr",
     "output_type": "stream",
     "text": [
      "\n",
      "100%|██████████████████████████████████████████| 10/10 [00:00<00:00, 489.51it/s]\n",
      "  8%|███▌                                        | 4/50 [00:00<00:02, 17.37it/s]"
     ]
    },
    {
     "name": "stdout",
     "output_type": "stream",
     "text": [
      "Gradient of gamma: 2.6632449589669704e-05\n",
      "Epoch 3 - Loss: 0.6931554675102234\n",
      "Parameter name: gamma\n",
      "Parameter shape: torch.Size([])\n",
      "Parameter value: Parameter containing:\n",
      "tensor(0.6383, device='cuda:0', requires_grad=True)\n",
      "\n"
     ]
    },
    {
     "name": "stderr",
     "output_type": "stream",
     "text": [
      "\n",
      "100%|██████████████████████████████████████████| 10/10 [00:00<00:00, 476.05it/s]\n"
     ]
    },
    {
     "name": "stdout",
     "output_type": "stream",
     "text": [
      "Gradient of gamma: 1.7525249859318137e-05\n",
      "Epoch 4 - Loss: 0.6931536197662354\n",
      "Parameter name: gamma\n",
      "Parameter shape: torch.Size([])\n",
      "Parameter value: Parameter containing:\n",
      "tensor(0.5655, device='cuda:0', requires_grad=True)\n",
      "\n"
     ]
    },
    {
     "name": "stderr",
     "output_type": "stream",
     "text": [
      "\n",
      "100%|██████████████████████████████████████████| 10/10 [00:00<00:00, 479.14it/s]\n",
      " 12%|█████▎                                      | 6/50 [00:00<00:02, 17.52it/s]"
     ]
    },
    {
     "name": "stdout",
     "output_type": "stream",
     "text": [
      "Gradient of gamma: 1.2443641026038677e-05\n",
      "Epoch 5 - Loss: 0.6931526064872742\n",
      "Parameter name: gamma\n",
      "Parameter shape: torch.Size([])\n",
      "Parameter value: Parameter containing:\n",
      "tensor(0.4991, device='cuda:0', requires_grad=True)\n",
      "\n"
     ]
    },
    {
     "name": "stderr",
     "output_type": "stream",
     "text": [
      "\n",
      "100%|██████████████████████████████████████████| 10/10 [00:00<00:00, 482.92it/s]\n"
     ]
    },
    {
     "name": "stdout",
     "output_type": "stream",
     "text": [
      "Gradient of gamma: 9.381436029798351e-06\n",
      "Epoch 6 - Loss: 0.6931518316268921\n",
      "Parameter name: gamma\n",
      "Parameter shape: torch.Size([])\n",
      "Parameter value: Parameter containing:\n",
      "tensor(0.4383, device='cuda:0', requires_grad=True)\n",
      "\n"
     ]
    },
    {
     "name": "stderr",
     "output_type": "stream",
     "text": [
      "\n",
      "100%|██████████████████████████████████████████| 10/10 [00:00<00:00, 479.53it/s]\n",
      " 16%|███████                                     | 8/50 [00:00<00:02, 17.79it/s]"
     ]
    },
    {
     "name": "stdout",
     "output_type": "stream",
     "text": [
      "Gradient of gamma: 7.5149328040424734e-06\n",
      "Epoch 7 - Loss: 0.6931514143943787\n",
      "Parameter name: gamma\n",
      "Parameter shape: torch.Size([])\n",
      "Parameter value: Parameter containing:\n",
      "tensor(0.3827, device='cuda:0', requires_grad=True)\n",
      "\n"
     ]
    },
    {
     "name": "stderr",
     "output_type": "stream",
     "text": [
      "\n",
      "100%|██████████████████████████████████████████| 10/10 [00:00<00:00, 485.95it/s]\n"
     ]
    },
    {
     "name": "stdout",
     "output_type": "stream",
     "text": [
      "Gradient of gamma: 6.182601737236837e-06\n",
      "Epoch 8 - Loss: 0.6931509971618652\n",
      "Parameter name: gamma\n",
      "Parameter shape: torch.Size([])\n",
      "Parameter value: Parameter containing:\n",
      "tensor(0.3315, device='cuda:0', requires_grad=True)\n",
      "\n"
     ]
    },
    {
     "name": "stderr",
     "output_type": "stream",
     "text": [
      "\n",
      "100%|██████████████████████████████████████████| 10/10 [00:00<00:00, 418.99it/s]\n",
      " 20%|████████▌                                  | 10/50 [00:00<00:02, 17.59it/s]"
     ]
    },
    {
     "name": "stdout",
     "output_type": "stream",
     "text": [
      "Gradient of gamma: 5.260299531073542e-06\n",
      "Epoch 9 - Loss: 0.6931506991386414\n",
      "Parameter name: gamma\n",
      "Parameter shape: torch.Size([])\n",
      "Parameter value: Parameter containing:\n",
      "tensor(0.2843, device='cuda:0', requires_grad=True)\n",
      "\n"
     ]
    },
    {
     "name": "stderr",
     "output_type": "stream",
     "text": [
      "\n",
      "100%|██████████████████████████████████████████| 10/10 [00:00<00:00, 458.25it/s]\n"
     ]
    },
    {
     "name": "stdout",
     "output_type": "stream",
     "text": [
      "Gradient of gamma: 4.560355591820553e-06\n",
      "Epoch 10 - Loss: 0.6931504607200623\n",
      "Parameter name: gamma\n",
      "Parameter shape: torch.Size([])\n",
      "Parameter value: Parameter containing:\n",
      "tensor(0.2408, device='cuda:0', requires_grad=True)\n",
      "\n"
     ]
    },
    {
     "name": "stderr",
     "output_type": "stream",
     "text": [
      "\n",
      "100%|██████████████████████████████████████████| 10/10 [00:00<00:00, 462.97it/s]\n",
      " 24%|██████████▎                                | 12/50 [00:00<00:02, 17.56it/s]"
     ]
    },
    {
     "name": "stdout",
     "output_type": "stream",
     "text": [
      "Gradient of gamma: 4.042540240334347e-06\n",
      "Epoch 11 - Loss: 0.6931502819061279\n",
      "Parameter name: gamma\n",
      "Parameter shape: torch.Size([])\n",
      "Parameter value: Parameter containing:\n",
      "tensor(0.2005, device='cuda:0', requires_grad=True)\n",
      "\n"
     ]
    },
    {
     "name": "stderr",
     "output_type": "stream",
     "text": [
      "\n",
      "100%|██████████████████████████████████████████| 10/10 [00:00<00:00, 454.53it/s]\n"
     ]
    },
    {
     "name": "stdout",
     "output_type": "stream",
     "text": [
      "Gradient of gamma: 3.634975200839108e-06\n",
      "Epoch 12 - Loss: 0.6931501626968384\n",
      "Parameter name: gamma\n",
      "Parameter shape: torch.Size([])\n",
      "Parameter value: Parameter containing:\n",
      "tensor(0.1631, device='cuda:0', requires_grad=True)\n",
      "\n"
     ]
    },
    {
     "name": "stderr",
     "output_type": "stream",
     "text": [
      "\n",
      "100%|██████████████████████████████████████████| 10/10 [00:00<00:00, 470.71it/s]\n",
      " 28%|████████████                               | 14/50 [00:00<00:02, 17.58it/s]"
     ]
    },
    {
     "name": "stdout",
     "output_type": "stream",
     "text": [
      "Gradient of gamma: 3.3292703847109806e-06\n",
      "Epoch 13 - Loss: 0.693149983882904\n",
      "Parameter name: gamma\n",
      "Parameter shape: torch.Size([])\n",
      "Parameter value: Parameter containing:\n",
      "tensor(0.1284, device='cuda:0', requires_grad=True)\n",
      "\n"
     ]
    },
    {
     "name": "stderr",
     "output_type": "stream",
     "text": [
      "\n",
      "100%|██████████████████████████████████████████| 10/10 [00:00<00:00, 481.47it/s]\n"
     ]
    },
    {
     "name": "stdout",
     "output_type": "stream",
     "text": [
      "Gradient of gamma: 3.0588887511839857e-06\n",
      "Epoch 14 - Loss: 0.6931498646736145\n",
      "Parameter name: gamma\n",
      "Parameter shape: torch.Size([])\n",
      "Parameter value: Parameter containing:\n",
      "tensor(0.0961, device='cuda:0', requires_grad=True)\n",
      "\n"
     ]
    },
    {
     "name": "stderr",
     "output_type": "stream",
     "text": [
      "\n",
      "100%|██████████████████████████████████████████| 10/10 [00:00<00:00, 506.03it/s]\n",
      " 32%|█████████████▊                             | 16/50 [00:00<00:01, 17.74it/s]"
     ]
    },
    {
     "name": "stdout",
     "output_type": "stream",
     "text": [
      "Gradient of gamma: 2.8683396067208378e-06\n",
      "Epoch 15 - Loss: 0.6931498050689697\n",
      "Parameter name: gamma\n",
      "Parameter shape: torch.Size([])\n",
      "Parameter value: Parameter containing:\n",
      "tensor(0.0661, device='cuda:0', requires_grad=True)\n",
      "\n"
     ]
    },
    {
     "name": "stderr",
     "output_type": "stream",
     "text": [
      "\n",
      "100%|██████████████████████████████████████████| 10/10 [00:00<00:00, 484.71it/s]\n"
     ]
    },
    {
     "name": "stdout",
     "output_type": "stream",
     "text": [
      "Gradient of gamma: 2.664034809640725e-06\n",
      "Epoch 16 - Loss: 0.6931496858596802\n",
      "Parameter name: gamma\n",
      "Parameter shape: torch.Size([])\n",
      "Parameter value: Parameter containing:\n",
      "tensor(0.0380, device='cuda:0', requires_grad=True)\n",
      "\n"
     ]
    },
    {
     "name": "stderr",
     "output_type": "stream",
     "text": [
      "\n",
      "100%|██████████████████████████████████████████| 10/10 [00:00<00:00, 482.29it/s]\n",
      " 36%|███████████████▍                           | 18/50 [00:01<00:01, 17.96it/s]"
     ]
    },
    {
     "name": "stdout",
     "output_type": "stream",
     "text": [
      "Gradient of gamma: 2.5248853035009233e-06\n",
      "Epoch 17 - Loss: 0.6931496858596802\n",
      "Parameter name: gamma\n",
      "Parameter shape: torch.Size([])\n",
      "Parameter value: Parameter containing:\n",
      "tensor(0.0118, device='cuda:0', requires_grad=True)\n",
      "\n"
     ]
    },
    {
     "name": "stderr",
     "output_type": "stream",
     "text": [
      "\n",
      "100%|██████████████████████████████████████████| 10/10 [00:00<00:00, 518.00it/s]\n"
     ]
    },
    {
     "name": "stdout",
     "output_type": "stream",
     "text": [
      "Gradient of gamma: 2.412643425486749e-06\n",
      "Epoch 18 - Loss: 0.6931495666503906\n",
      "Parameter name: gamma\n",
      "Parameter shape: torch.Size([])\n",
      "Parameter value: Parameter containing:\n",
      "tensor(-0.0127, device='cuda:0', requires_grad=True)\n",
      "\n"
     ]
    },
    {
     "name": "stderr",
     "output_type": "stream",
     "text": [
      "\n",
      "100%|██████████████████████████████████████████| 10/10 [00:00<00:00, 495.23it/s]\n",
      " 40%|█████████████████▏                         | 20/50 [00:01<00:01, 18.11it/s]"
     ]
    },
    {
     "name": "stdout",
     "output_type": "stream",
     "text": [
      "Gradient of gamma: 2.2806405013398034e-06\n",
      "Epoch 19 - Loss: 0.6931495070457458\n",
      "Parameter name: gamma\n",
      "Parameter shape: torch.Size([])\n",
      "Parameter value: Parameter containing:\n",
      "tensor(-0.0358, device='cuda:0', requires_grad=True)\n",
      "\n"
     ]
    },
    {
     "name": "stderr",
     "output_type": "stream",
     "text": [
      "\n",
      "100%|██████████████████████████████████████████| 10/10 [00:00<00:00, 496.00it/s]\n"
     ]
    },
    {
     "name": "stdout",
     "output_type": "stream",
     "text": [
      "Gradient of gamma: 2.229992787761148e-06\n",
      "Epoch 20 - Loss: 0.6931495070457458\n",
      "Parameter name: gamma\n",
      "Parameter shape: torch.Size([])\n",
      "Parameter value: Parameter containing:\n",
      "tensor(-0.0574, device='cuda:0', requires_grad=True)\n",
      "\n"
     ]
    },
    {
     "name": "stderr",
     "output_type": "stream",
     "text": [
      "\n",
      "100%|██████████████████████████████████████████| 10/10 [00:00<00:00, 495.76it/s]\n",
      " 44%|██████████████████▉                        | 22/50 [00:01<00:01, 18.24it/s]"
     ]
    },
    {
     "name": "stdout",
     "output_type": "stream",
     "text": [
      "Gradient of gamma: 2.073068117169896e-06\n",
      "Epoch 21 - Loss: 0.6931494474411011\n",
      "Parameter name: gamma\n",
      "Parameter shape: torch.Size([])\n",
      "Parameter value: Parameter containing:\n",
      "tensor(-0.0777, device='cuda:0', requires_grad=True)\n",
      "\n"
     ]
    },
    {
     "name": "stderr",
     "output_type": "stream",
     "text": [
      "\n",
      "100%|██████████████████████████████████████████| 10/10 [00:00<00:00, 479.26it/s]\n"
     ]
    },
    {
     "name": "stdout",
     "output_type": "stream",
     "text": [
      "Gradient of gamma: 2.032714746746933e-06\n",
      "Epoch 22 - Loss: 0.6931493282318115\n",
      "Parameter name: gamma\n",
      "Parameter shape: torch.Size([])\n",
      "Parameter value: Parameter containing:\n",
      "tensor(-0.0968, device='cuda:0', requires_grad=True)\n",
      "\n"
     ]
    },
    {
     "name": "stderr",
     "output_type": "stream",
     "text": [
      "\n",
      "100%|██████████████████████████████████████████| 10/10 [00:00<00:00, 497.23it/s]\n",
      " 48%|████████████████████▋                      | 24/50 [00:01<00:01, 18.16it/s]"
     ]
    },
    {
     "name": "stdout",
     "output_type": "stream",
     "text": [
      "Gradient of gamma: 1.9297713151900098e-06\n",
      "Epoch 23 - Loss: 0.6931493282318115\n",
      "Parameter name: gamma\n",
      "Parameter shape: torch.Size([])\n",
      "Parameter value: Parameter containing:\n",
      "tensor(-0.1148, device='cuda:0', requires_grad=True)\n",
      "\n"
     ]
    },
    {
     "name": "stderr",
     "output_type": "stream",
     "text": [
      "\n",
      "100%|██████████████████████████████████████████| 10/10 [00:00<00:00, 495.52it/s]\n"
     ]
    },
    {
     "name": "stdout",
     "output_type": "stream",
     "text": [
      "Gradient of gamma: 1.8979028482135618e-06\n",
      "Epoch 24 - Loss: 0.6931492686271667\n",
      "Parameter name: gamma\n",
      "Parameter shape: torch.Size([])\n",
      "Parameter value: Parameter containing:\n",
      "tensor(-0.1318, device='cuda:0', requires_grad=True)\n",
      "\n"
     ]
    },
    {
     "name": "stderr",
     "output_type": "stream",
     "text": [
      "\n",
      "100%|██████████████████████████████████████████| 10/10 [00:00<00:00, 484.44it/s]\n",
      " 52%|██████████████████████▎                    | 26/50 [00:01<00:01, 18.18it/s]"
     ]
    },
    {
     "name": "stdout",
     "output_type": "stream",
     "text": [
      "Gradient of gamma: 1.8430957879900234e-06\n",
      "Epoch 25 - Loss: 0.6931492686271667\n",
      "Parameter name: gamma\n",
      "Parameter shape: torch.Size([])\n",
      "Parameter value: Parameter containing:\n",
      "tensor(-0.1479, device='cuda:0', requires_grad=True)\n",
      "\n"
     ]
    },
    {
     "name": "stderr",
     "output_type": "stream",
     "text": [
      "\n",
      "100%|██████████████████████████████████████████| 10/10 [00:00<00:00, 470.82it/s]\n"
     ]
    },
    {
     "name": "stdout",
     "output_type": "stream",
     "text": [
      "Gradient of gamma: 1.7785541785997339e-06\n",
      "Epoch 26 - Loss: 0.6931492686271667\n",
      "Parameter name: gamma\n",
      "Parameter shape: torch.Size([])\n",
      "Parameter value: Parameter containing:\n",
      "tensor(-0.1631, device='cuda:0', requires_grad=True)\n",
      "\n"
     ]
    },
    {
     "name": "stderr",
     "output_type": "stream",
     "text": [
      "\n",
      "100%|██████████████████████████████████████████| 10/10 [00:00<00:00, 500.91it/s]\n",
      " 56%|████████████████████████                   | 28/50 [00:01<00:01, 18.17it/s]"
     ]
    },
    {
     "name": "stdout",
     "output_type": "stream",
     "text": [
      "Gradient of gamma: 1.7295959651164594e-06\n",
      "Epoch 27 - Loss: 0.693149209022522\n",
      "Parameter name: gamma\n",
      "Parameter shape: torch.Size([])\n",
      "Parameter value: Parameter containing:\n",
      "tensor(-0.1776, device='cuda:0', requires_grad=True)\n",
      "\n"
     ]
    },
    {
     "name": "stderr",
     "output_type": "stream",
     "text": [
      "\n",
      "100%|██████████████████████████████████████████| 10/10 [00:00<00:00, 492.73it/s]\n"
     ]
    },
    {
     "name": "stdout",
     "output_type": "stream",
     "text": [
      "Gradient of gamma: 1.6820753216961748e-06\n",
      "Epoch 28 - Loss: 0.6931492686271667\n",
      "Parameter name: gamma\n",
      "Parameter shape: torch.Size([])\n",
      "Parameter value: Parameter containing:\n",
      "tensor(-0.1913, device='cuda:0', requires_grad=True)\n",
      "\n"
     ]
    },
    {
     "name": "stderr",
     "output_type": "stream",
     "text": [
      "\n",
      "100%|██████████████████████████████████████████| 10/10 [00:00<00:00, 495.04it/s]\n",
      " 60%|█████████████████████████▊                 | 30/50 [00:01<00:01, 18.28it/s]"
     ]
    },
    {
     "name": "stdout",
     "output_type": "stream",
     "text": [
      "Gradient of gamma: 1.637825903344492e-06\n",
      "Epoch 29 - Loss: 0.693149209022522\n",
      "Parameter name: gamma\n",
      "Parameter shape: torch.Size([])\n",
      "Parameter value: Parameter containing:\n",
      "tensor(-0.2044, device='cuda:0', requires_grad=True)\n",
      "\n"
     ]
    },
    {
     "name": "stderr",
     "output_type": "stream",
     "text": [
      "\n",
      "100%|██████████████████████████████████████████| 10/10 [00:00<00:00, 501.95it/s]\n"
     ]
    },
    {
     "name": "stdout",
     "output_type": "stream",
     "text": [
      "Gradient of gamma: 1.618191731722618e-06\n",
      "Epoch 30 - Loss: 0.6931490898132324\n",
      "Parameter name: gamma\n",
      "Parameter shape: torch.Size([])\n",
      "Parameter value: Parameter containing:\n",
      "tensor(-0.2168, device='cuda:0', requires_grad=True)\n",
      "\n"
     ]
    },
    {
     "name": "stderr",
     "output_type": "stream",
     "text": [
      "\n",
      "100%|██████████████████████████████████████████| 10/10 [00:00<00:00, 504.86it/s]\n",
      " 64%|███████████████████████████▌               | 32/50 [00:01<00:00, 18.35it/s]"
     ]
    },
    {
     "name": "stdout",
     "output_type": "stream",
     "text": [
      "Gradient of gamma: 1.5919752058835002e-06\n",
      "Epoch 31 - Loss: 0.6931490898132324\n",
      "Parameter name: gamma\n",
      "Parameter shape: torch.Size([])\n",
      "Parameter value: Parameter containing:\n",
      "tensor(-0.2287, device='cuda:0', requires_grad=True)\n",
      "\n"
     ]
    },
    {
     "name": "stderr",
     "output_type": "stream",
     "text": [
      "\n",
      "100%|██████████████████████████████████████████| 10/10 [00:00<00:00, 504.10it/s]\n"
     ]
    },
    {
     "name": "stdout",
     "output_type": "stream",
     "text": [
      "Gradient of gamma: 1.5538377056145691e-06\n",
      "Epoch 32 - Loss: 0.6931490898132324\n",
      "Parameter name: gamma\n",
      "Parameter shape: torch.Size([])\n",
      "Parameter value: Parameter containing:\n",
      "tensor(-0.2401, device='cuda:0', requires_grad=True)\n",
      "\n"
     ]
    },
    {
     "name": "stderr",
     "output_type": "stream",
     "text": [
      "\n",
      "100%|██████████████████████████████████████████| 10/10 [00:00<00:00, 503.44it/s]\n",
      " 68%|█████████████████████████████▏             | 34/50 [00:01<00:00, 18.44it/s]"
     ]
    },
    {
     "name": "stdout",
     "output_type": "stream",
     "text": [
      "Gradient of gamma: 1.537785124128277e-06\n",
      "Epoch 33 - Loss: 0.6931490898132324\n",
      "Parameter name: gamma\n",
      "Parameter shape: torch.Size([])\n",
      "Parameter value: Parameter containing:\n",
      "tensor(-0.2510, device='cuda:0', requires_grad=True)\n",
      "\n"
     ]
    },
    {
     "name": "stderr",
     "output_type": "stream",
     "text": [
      "\n",
      "100%|██████████████████████████████████████████| 10/10 [00:00<00:00, 508.89it/s]\n"
     ]
    },
    {
     "name": "stdout",
     "output_type": "stream",
     "text": [
      "Gradient of gamma: 1.5011374898676877e-06\n",
      "Epoch 34 - Loss: 0.6931490898132324\n",
      "Parameter name: gamma\n",
      "Parameter shape: torch.Size([])\n",
      "Parameter value: Parameter containing:\n",
      "tensor(-0.2615, device='cuda:0', requires_grad=True)\n",
      "\n"
     ]
    },
    {
     "name": "stderr",
     "output_type": "stream",
     "text": [
      "\n",
      "100%|██████████████████████████████████████████| 10/10 [00:00<00:00, 511.13it/s]\n",
      " 72%|██████████████████████████████▉            | 36/50 [00:01<00:00, 18.57it/s]"
     ]
    },
    {
     "name": "stdout",
     "output_type": "stream",
     "text": [
      "Gradient of gamma: 1.4997414155004662e-06\n",
      "Epoch 35 - Loss: 0.6931490302085876\n",
      "Parameter name: gamma\n",
      "Parameter shape: torch.Size([])\n",
      "Parameter value: Parameter containing:\n",
      "tensor(-0.2716, device='cuda:0', requires_grad=True)\n",
      "\n"
     ]
    },
    {
     "name": "stderr",
     "output_type": "stream",
     "text": [
      "\n",
      "100%|██████████████████████████████████████████| 10/10 [00:00<00:00, 508.10it/s]\n"
     ]
    },
    {
     "name": "stdout",
     "output_type": "stream",
     "text": [
      "Gradient of gamma: 1.4424475693886052e-06\n",
      "Epoch 36 - Loss: 0.6931489706039429\n",
      "Parameter name: gamma\n",
      "Parameter shape: torch.Size([])\n",
      "Parameter value: Parameter containing:\n",
      "tensor(-0.2813, device='cuda:0', requires_grad=True)\n",
      "\n"
     ]
    },
    {
     "name": "stderr",
     "output_type": "stream",
     "text": [
      "\n",
      "100%|██████████████████████████████████████████| 10/10 [00:00<00:00, 503.02it/s]\n",
      " 76%|████████████████████████████████▋          | 38/50 [00:02<00:00, 18.60it/s]"
     ]
    },
    {
     "name": "stdout",
     "output_type": "stream",
     "text": [
      "Gradient of gamma: 1.43199019930762e-06\n",
      "Epoch 37 - Loss: 0.6931489706039429\n",
      "Parameter name: gamma\n",
      "Parameter shape: torch.Size([])\n",
      "Parameter value: Parameter containing:\n",
      "tensor(-0.2907, device='cuda:0', requires_grad=True)\n",
      "\n"
     ]
    },
    {
     "name": "stderr",
     "output_type": "stream",
     "text": [
      "\n",
      "100%|██████████████████████████████████████████| 10/10 [00:00<00:00, 505.72it/s]\n"
     ]
    },
    {
     "name": "stdout",
     "output_type": "stream",
     "text": [
      "Gradient of gamma: 1.4207843150870758e-06\n",
      "Epoch 38 - Loss: 0.6931489706039429\n",
      "Parameter name: gamma\n",
      "Parameter shape: torch.Size([])\n",
      "Parameter value: Parameter containing:\n",
      "tensor(-0.2997, device='cuda:0', requires_grad=True)\n",
      "\n"
     ]
    },
    {
     "name": "stderr",
     "output_type": "stream",
     "text": [
      "\n",
      "100%|██████████████████████████████████████████| 10/10 [00:00<00:00, 508.57it/s]\n",
      " 80%|██████████████████████████████████▍        | 40/50 [00:02<00:00, 18.69it/s]"
     ]
    },
    {
     "name": "stdout",
     "output_type": "stream",
     "text": [
      "Gradient of gamma: 1.4118518265604507e-06\n",
      "Epoch 39 - Loss: 0.6931489706039429\n",
      "Parameter name: gamma\n",
      "Parameter shape: torch.Size([])\n",
      "Parameter value: Parameter containing:\n",
      "tensor(-0.3085, device='cuda:0', requires_grad=True)\n",
      "\n"
     ]
    },
    {
     "name": "stderr",
     "output_type": "stream",
     "text": [
      "\n",
      "100%|██████████████████████████████████████████| 10/10 [00:00<00:00, 461.10it/s]\n"
     ]
    },
    {
     "name": "stdout",
     "output_type": "stream",
     "text": [
      "Gradient of gamma: 1.4122140328254318e-06\n",
      "Epoch 40 - Loss: 0.6931489706039429\n",
      "Parameter name: gamma\n",
      "Parameter shape: torch.Size([])\n",
      "Parameter value: Parameter containing:\n",
      "tensor(-0.3171, device='cuda:0', requires_grad=True)\n",
      "\n"
     ]
    },
    {
     "name": "stderr",
     "output_type": "stream",
     "text": [
      "\n",
      "100%|██████████████████████████████████████████| 10/10 [00:00<00:00, 475.34it/s]\n",
      " 84%|████████████████████████████████████       | 42/50 [00:02<00:00, 18.34it/s]"
     ]
    },
    {
     "name": "stdout",
     "output_type": "stream",
     "text": [
      "Gradient of gamma: 1.4250231288315263e-06\n",
      "Epoch 41 - Loss: 0.6931489706039429\n",
      "Parameter name: gamma\n",
      "Parameter shape: torch.Size([])\n",
      "Parameter value: Parameter containing:\n",
      "tensor(-0.3254, device='cuda:0', requires_grad=True)\n",
      "\n"
     ]
    },
    {
     "name": "stderr",
     "output_type": "stream",
     "text": [
      "\n",
      "100%|██████████████████████████████████████████| 10/10 [00:00<00:00, 489.59it/s]\n"
     ]
    },
    {
     "name": "stdout",
     "output_type": "stream",
     "text": [
      "Gradient of gamma: 1.3950532320450293e-06\n",
      "Epoch 42 - Loss: 0.6931489706039429\n",
      "Parameter name: gamma\n",
      "Parameter shape: torch.Size([])\n",
      "Parameter value: Parameter containing:\n",
      "tensor(-0.3335, device='cuda:0', requires_grad=True)\n",
      "\n"
     ]
    },
    {
     "name": "stderr",
     "output_type": "stream",
     "text": [
      "\n",
      "100%|██████████████████████████████████████████| 10/10 [00:00<00:00, 500.93it/s]\n",
      " 88%|█████████████████████████████████████▊     | 44/50 [00:02<00:00, 18.35it/s]"
     ]
    },
    {
     "name": "stdout",
     "output_type": "stream",
     "text": [
      "Gradient of gamma: 1.3546241461881436e-06\n",
      "Epoch 43 - Loss: 0.6931489109992981\n",
      "Parameter name: gamma\n",
      "Parameter shape: torch.Size([])\n",
      "Parameter value: Parameter containing:\n",
      "tensor(-0.3414, device='cuda:0', requires_grad=True)\n",
      "\n"
     ]
    },
    {
     "name": "stderr",
     "output_type": "stream",
     "text": [
      "\n",
      "100%|██████████████████████████████████████████| 10/10 [00:00<00:00, 485.08it/s]\n"
     ]
    },
    {
     "name": "stdout",
     "output_type": "stream",
     "text": [
      "Gradient of gamma: 1.3165304153517354e-06\n",
      "Epoch 44 - Loss: 0.6931489109992981\n",
      "Parameter name: gamma\n",
      "Parameter shape: torch.Size([])\n",
      "Parameter value: Parameter containing:\n",
      "tensor(-0.3492, device='cuda:0', requires_grad=True)\n",
      "\n"
     ]
    },
    {
     "name": "stderr",
     "output_type": "stream",
     "text": [
      "\n",
      "100%|██████████████████████████████████████████| 10/10 [00:00<00:00, 503.58it/s]\n",
      " 92%|███████████████████████████████████████▌   | 46/50 [00:02<00:00, 18.34it/s]"
     ]
    },
    {
     "name": "stdout",
     "output_type": "stream",
     "text": [
      "Gradient of gamma: 1.2759730907418998e-06\n",
      "Epoch 45 - Loss: 0.6931489109992981\n",
      "Parameter name: gamma\n",
      "Parameter shape: torch.Size([])\n",
      "Parameter value: Parameter containing:\n",
      "tensor(-0.3567, device='cuda:0', requires_grad=True)\n",
      "\n"
     ]
    },
    {
     "name": "stderr",
     "output_type": "stream",
     "text": [
      "\n",
      "100%|██████████████████████████████████████████| 10/10 [00:00<00:00, 462.92it/s]\n"
     ]
    },
    {
     "name": "stdout",
     "output_type": "stream",
     "text": [
      "Gradient of gamma: 1.2702444109891076e-06\n",
      "Epoch 46 - Loss: 0.6931489109992981\n",
      "Parameter name: gamma\n",
      "Parameter shape: torch.Size([])\n",
      "Parameter value: Parameter containing:\n",
      "tensor(-0.3641, device='cuda:0', requires_grad=True)\n",
      "\n"
     ]
    },
    {
     "name": "stderr",
     "output_type": "stream",
     "text": [
      "\n",
      "100%|██████████████████████████████████████████| 10/10 [00:00<00:00, 482.73it/s]\n",
      " 96%|█████████████████████████████████████████▎ | 48/50 [00:02<00:00, 18.21it/s]"
     ]
    },
    {
     "name": "stdout",
     "output_type": "stream",
     "text": [
      "Gradient of gamma: 1.2653376870730426e-06\n",
      "Epoch 47 - Loss: 0.6931489109992981\n",
      "Parameter name: gamma\n",
      "Parameter shape: torch.Size([])\n",
      "Parameter value: Parameter containing:\n",
      "tensor(-0.3713, device='cuda:0', requires_grad=True)\n",
      "\n"
     ]
    },
    {
     "name": "stderr",
     "output_type": "stream",
     "text": [
      "\n",
      "100%|██████████████████████████████████████████| 10/10 [00:00<00:00, 486.48it/s]\n"
     ]
    },
    {
     "name": "stdout",
     "output_type": "stream",
     "text": [
      "Gradient of gamma: 1.260617864318192e-06\n",
      "Epoch 48 - Loss: 0.6931488513946533\n",
      "Parameter name: gamma\n",
      "Parameter shape: torch.Size([])\n",
      "Parameter value: Parameter containing:\n",
      "tensor(-0.3784, device='cuda:0', requires_grad=True)\n",
      "\n"
     ]
    },
    {
     "name": "stderr",
     "output_type": "stream",
     "text": [
      "\n",
      "100%|██████████████████████████████████████████| 10/10 [00:00<00:00, 489.30it/s]\n",
      "100%|███████████████████████████████████████████| 50/50 [00:02<00:00, 18.11it/s]\n"
     ]
    },
    {
     "name": "stdout",
     "output_type": "stream",
     "text": [
      "Gradient of gamma: 1.2577786492329324e-06\n",
      "Epoch 49 - Loss: 0.6931489109992981\n",
      "Parameter name: gamma\n",
      "Parameter shape: torch.Size([])\n",
      "Parameter value: Parameter containing:\n",
      "tensor(-0.3854, device='cuda:0', requires_grad=True)\n",
      "\n"
     ]
    },
    {
     "name": "stderr",
     "output_type": "stream",
     "text": [
      "  0%|                                                    | 0/50 [00:00<?, ?it/s]\n",
      "100%|██████████████████████████████████████████| 10/10 [00:00<00:00, 430.98it/s]\n"
     ]
    },
    {
     "name": "stdout",
     "output_type": "stream",
     "text": [
      "Gradient of gamma: 2.5062821805477142e-05\n",
      "Epoch 0 - Loss: 0.6931419968605042\n",
      "Parameter name: gamma\n",
      "Parameter shape: torch.Size([])\n",
      "Parameter value: Parameter containing:\n",
      "tensor(1.1000, device='cuda:0', requires_grad=True)\n",
      "\n"
     ]
    },
    {
     "name": "stderr",
     "output_type": "stream",
     "text": [
      "\n",
      "100%|██████████████████████████████████████████| 10/10 [00:00<00:00, 456.90it/s]\n",
      "  4%|█▊                                          | 2/50 [00:00<00:02, 17.61it/s]"
     ]
    },
    {
     "name": "stdout",
     "output_type": "stream",
     "text": [
      "Gradient of gamma: 4.4862739741802216e-05\n",
      "Epoch 1 - Loss: 0.6931384205818176\n",
      "Parameter name: gamma\n",
      "Parameter shape: torch.Size([])\n",
      "Parameter value: Parameter containing:\n",
      "tensor(1.1976, device='cuda:0', requires_grad=True)\n",
      "\n"
     ]
    },
    {
     "name": "stderr",
     "output_type": "stream",
     "text": [
      "\n",
      "100%|██████████████████████████████████████████| 10/10 [00:00<00:00, 494.38it/s]\n"
     ]
    },
    {
     "name": "stdout",
     "output_type": "stream",
     "text": [
      "Gradient of gamma: 7.669813930988312e-05\n",
      "Epoch 2 - Loss: 0.6931326985359192\n",
      "Parameter name: gamma\n",
      "Parameter shape: torch.Size([])\n",
      "Parameter value: Parameter containing:\n",
      "tensor(1.2926, device='cuda:0', requires_grad=True)\n",
      "\n"
     ]
    },
    {
     "name": "stderr",
     "output_type": "stream",
     "text": [
      "\n",
      "100%|██████████████████████████████████████████| 10/10 [00:00<00:00, 486.47it/s]\n",
      "  8%|███▌                                        | 4/50 [00:00<00:02, 18.31it/s]"
     ]
    },
    {
     "name": "stdout",
     "output_type": "stream",
     "text": [
      "Gradient of gamma: 0.00012485496699810028\n",
      "Epoch 3 - Loss: 0.6931235790252686\n",
      "Parameter name: gamma\n",
      "Parameter shape: torch.Size([])\n",
      "Parameter value: Parameter containing:\n",
      "tensor(1.3856, device='cuda:0', requires_grad=True)\n",
      "\n"
     ]
    },
    {
     "name": "stderr",
     "output_type": "stream",
     "text": [
      "\n",
      "100%|██████████████████████████████████████████| 10/10 [00:00<00:00, 493.67it/s]\n"
     ]
    },
    {
     "name": "stdout",
     "output_type": "stream",
     "text": [
      "Gradient of gamma: 0.00020181667059659958\n",
      "Epoch 4 - Loss: 0.6931082606315613\n",
      "Parameter name: gamma\n",
      "Parameter shape: torch.Size([])\n",
      "Parameter value: Parameter containing:\n",
      "tensor(1.4768, device='cuda:0', requires_grad=True)\n",
      "\n"
     ]
    },
    {
     "name": "stderr",
     "output_type": "stream",
     "text": [
      "\n",
      "100%|██████████████████████████████████████████| 10/10 [00:00<00:00, 493.38it/s]\n",
      " 12%|█████▎                                      | 6/50 [00:00<00:02, 18.49it/s]"
     ]
    },
    {
     "name": "stdout",
     "output_type": "stream",
     "text": [
      "Gradient of gamma: 0.0003091874532401562\n",
      "Epoch 5 - Loss: 0.6930861473083496\n",
      "Parameter name: gamma\n",
      "Parameter shape: torch.Size([])\n",
      "Parameter value: Parameter containing:\n",
      "tensor(1.5670, device='cuda:0', requires_grad=True)\n",
      "\n"
     ]
    },
    {
     "name": "stderr",
     "output_type": "stream",
     "text": [
      "\n",
      "100%|██████████████████████████████████████████| 10/10 [00:00<00:00, 472.38it/s]\n"
     ]
    },
    {
     "name": "stdout",
     "output_type": "stream",
     "text": [
      "Gradient of gamma: 0.0004756329581141472\n",
      "Epoch 6 - Loss: 0.6930505037307739\n",
      "Parameter name: gamma\n",
      "Parameter shape: torch.Size([])\n",
      "Parameter value: Parameter containing:\n",
      "tensor(1.6565, device='cuda:0', requires_grad=True)\n",
      "\n"
     ]
    },
    {
     "name": "stderr",
     "output_type": "stream",
     "text": [
      "\n",
      "100%|██████████████████████████████████████████| 10/10 [00:00<00:00, 470.23it/s]\n",
      " 16%|███████                                     | 8/50 [00:00<00:02, 18.29it/s]"
     ]
    },
    {
     "name": "stdout",
     "output_type": "stream",
     "text": [
      "Gradient of gamma: 0.000707605853676796\n",
      "Epoch 7 - Loss: 0.6929986476898193\n",
      "Parameter name: gamma\n",
      "Parameter shape: torch.Size([])\n",
      "Parameter value: Parameter containing:\n",
      "tensor(1.7458, device='cuda:0', requires_grad=True)\n",
      "\n"
     ]
    },
    {
     "name": "stderr",
     "output_type": "stream",
     "text": [
      "\n",
      "100%|██████████████████████████████████████████| 10/10 [00:00<00:00, 469.76it/s]\n"
     ]
    },
    {
     "name": "stdout",
     "output_type": "stream",
     "text": [
      "Gradient of gamma: 0.001050394494086504\n",
      "Epoch 8 - Loss: 0.6929187774658203\n",
      "Parameter name: gamma\n",
      "Parameter shape: torch.Size([])\n",
      "Parameter value: Parameter containing:\n",
      "tensor(1.8351, device='cuda:0', requires_grad=True)\n",
      "\n"
     ]
    },
    {
     "name": "stderr",
     "output_type": "stream",
     "text": [
      "\n",
      "100%|██████████████████████████████████████████| 10/10 [00:00<00:00, 429.76it/s]\n",
      " 20%|████████▌                                  | 10/50 [00:00<00:02, 18.03it/s]"
     ]
    },
    {
     "name": "stdout",
     "output_type": "stream",
     "text": [
      "Gradient of gamma: 0.001511288806796074\n",
      "Epoch 9 - Loss: 0.6928064227104187\n",
      "Parameter name: gamma\n",
      "Parameter shape: torch.Size([])\n",
      "Parameter value: Parameter containing:\n",
      "tensor(1.9249, device='cuda:0', requires_grad=True)\n",
      "\n"
     ]
    },
    {
     "name": "stderr",
     "output_type": "stream",
     "text": [
      "\n",
      "100%|██████████████████████████████████████████| 10/10 [00:00<00:00, 442.05it/s]\n"
     ]
    },
    {
     "name": "stdout",
     "output_type": "stream",
     "text": [
      "Gradient of gamma: 0.002154373098164797\n",
      "Epoch 10 - Loss: 0.6926431059837341\n",
      "Parameter name: gamma\n",
      "Parameter shape: torch.Size([])\n",
      "Parameter value: Parameter containing:\n",
      "tensor(2.0154, device='cuda:0', requires_grad=True)\n",
      "\n"
     ]
    },
    {
     "name": "stderr",
     "output_type": "stream",
     "text": [
      "\n",
      "100%|██████████████████████████████████████████| 10/10 [00:00<00:00, 466.37it/s]\n",
      " 24%|██████████▎                                | 12/50 [00:00<00:02, 18.02it/s]"
     ]
    },
    {
     "name": "stdout",
     "output_type": "stream",
     "text": [
      "Gradient of gamma: 0.003136065788567066\n",
      "Epoch 11 - Loss: 0.6923860311508179\n",
      "Parameter name: gamma\n",
      "Parameter shape: torch.Size([])\n",
      "Parameter value: Parameter containing:\n",
      "tensor(2.1064, device='cuda:0', requires_grad=True)\n",
      "\n"
     ]
    },
    {
     "name": "stderr",
     "output_type": "stream",
     "text": [
      "\n",
      "100%|██████████████████████████████████████████| 10/10 [00:00<00:00, 442.51it/s]\n"
     ]
    },
    {
     "name": "stdout",
     "output_type": "stream",
     "text": [
      "Gradient of gamma: 0.004264776594936848\n",
      "Epoch 12 - Loss: 0.6920750141143799\n",
      "Parameter name: gamma\n",
      "Parameter shape: torch.Size([])\n",
      "Parameter value: Parameter containing:\n",
      "tensor(2.1986, device='cuda:0', requires_grad=True)\n",
      "\n"
     ]
    },
    {
     "name": "stderr",
     "output_type": "stream",
     "text": [
      "\n",
      "100%|██████████████████████████████████████████| 10/10 [00:00<00:00, 441.42it/s]\n",
      " 28%|████████████                               | 14/50 [00:00<00:02, 17.97it/s]"
     ]
    },
    {
     "name": "stdout",
     "output_type": "stream",
     "text": [
      "Gradient of gamma: 0.006021932698786259\n",
      "Epoch 13 - Loss: 0.6915757060050964\n",
      "Parameter name: gamma\n",
      "Parameter shape: torch.Size([])\n",
      "Parameter value: Parameter containing:\n",
      "tensor(2.2918, device='cuda:0', requires_grad=True)\n",
      "\n"
     ]
    },
    {
     "name": "stderr",
     "output_type": "stream",
     "text": [
      "\n",
      "100%|██████████████████████████████████████████| 10/10 [00:00<00:00, 511.08it/s]\n"
     ]
    },
    {
     "name": "stdout",
     "output_type": "stream",
     "text": [
      "Gradient of gamma: 0.008273953571915627\n",
      "Epoch 14 - Loss: 0.6909050345420837\n",
      "Parameter name: gamma\n",
      "Parameter shape: torch.Size([])\n",
      "Parameter value: Parameter containing:\n",
      "tensor(2.3862, device='cuda:0', requires_grad=True)\n",
      "\n"
     ]
    },
    {
     "name": "stderr",
     "output_type": "stream",
     "text": [
      "\n",
      "100%|██████████████████████████████████████████| 10/10 [00:00<00:00, 508.22it/s]\n",
      " 32%|█████████████▊                             | 16/50 [00:00<00:01, 18.21it/s]"
     ]
    },
    {
     "name": "stdout",
     "output_type": "stream",
     "text": [
      "Gradient of gamma: 0.011147391051054\n",
      "Epoch 15 - Loss: 0.6900177001953125\n",
      "Parameter name: gamma\n",
      "Parameter shape: torch.Size([])\n",
      "Parameter value: Parameter containing:\n",
      "tensor(2.4821, device='cuda:0', requires_grad=True)\n",
      "\n"
     ]
    },
    {
     "name": "stderr",
     "output_type": "stream",
     "text": [
      "\n",
      "100%|██████████████████████████████████████████| 10/10 [00:00<00:00, 516.67it/s]\n"
     ]
    },
    {
     "name": "stdout",
     "output_type": "stream",
     "text": [
      "Gradient of gamma: 0.014771582558751106\n",
      "Epoch 16 - Loss: 0.6888580322265625\n",
      "Parameter name: gamma\n",
      "Parameter shape: torch.Size([])\n",
      "Parameter value: Parameter containing:\n",
      "tensor(2.5796, device='cuda:0', requires_grad=True)\n",
      "\n"
     ]
    },
    {
     "name": "stderr",
     "output_type": "stream",
     "text": [
      "\n",
      "100%|██████████████████████████████████████████| 10/10 [00:00<00:00, 507.38it/s]\n",
      " 36%|███████████████▍                           | 18/50 [00:00<00:01, 18.37it/s]"
     ]
    },
    {
     "name": "stdout",
     "output_type": "stream",
     "text": [
      "Gradient of gamma: 0.020179156213998795\n",
      "Epoch 17 - Loss: 0.6870543956756592\n",
      "Parameter name: gamma\n",
      "Parameter shape: torch.Size([])\n",
      "Parameter value: Parameter containing:\n",
      "tensor(2.6785, device='cuda:0', requires_grad=True)\n",
      "\n"
     ]
    },
    {
     "name": "stderr",
     "output_type": "stream",
     "text": [
      "\n",
      "100%|██████████████████████████████████████████| 10/10 [00:00<00:00, 491.14it/s]\n"
     ]
    },
    {
     "name": "stdout",
     "output_type": "stream",
     "text": [
      "Gradient of gamma: 0.026519788429141045\n",
      "Epoch 18 - Loss: 0.6848711967468262\n",
      "Parameter name: gamma\n",
      "Parameter shape: torch.Size([])\n",
      "Parameter value: Parameter containing:\n",
      "tensor(2.7790, device='cuda:0', requires_grad=True)\n",
      "\n"
     ]
    },
    {
     "name": "stderr",
     "output_type": "stream",
     "text": [
      "\n",
      "100%|██████████████████████████████████████████| 10/10 [00:00<00:00, 495.00it/s]\n",
      " 40%|█████████████████▏                         | 20/50 [00:01<00:01, 18.42it/s]"
     ]
    },
    {
     "name": "stdout",
     "output_type": "stream",
     "text": [
      "Gradient of gamma: 0.03546954318881035\n",
      "Epoch 19 - Loss: 0.6816743612289429\n",
      "Parameter name: gamma\n",
      "Parameter shape: torch.Size([])\n",
      "Parameter value: Parameter containing:\n",
      "tensor(2.8810, device='cuda:0', requires_grad=True)\n",
      "\n"
     ]
    },
    {
     "name": "stderr",
     "output_type": "stream",
     "text": [
      "\n",
      "100%|██████████████████████████████████████████| 10/10 [00:00<00:00, 495.11it/s]\n"
     ]
    },
    {
     "name": "stdout",
     "output_type": "stream",
     "text": [
      "Gradient of gamma: 0.046257808804512024\n",
      "Epoch 20 - Loss: 0.6776247024536133\n",
      "Parameter name: gamma\n",
      "Parameter shape: torch.Size([])\n",
      "Parameter value: Parameter containing:\n",
      "tensor(2.9846, device='cuda:0', requires_grad=True)\n",
      "\n"
     ]
    },
    {
     "name": "stderr",
     "output_type": "stream",
     "text": [
      "\n",
      "100%|██████████████████████████████████████████| 10/10 [00:00<00:00, 494.91it/s]\n",
      " 44%|██████████████████▉                        | 22/50 [00:01<00:01, 18.49it/s]"
     ]
    },
    {
     "name": "stdout",
     "output_type": "stream",
     "text": [
      "Gradient of gamma: 0.06051265820860863\n",
      "Epoch 21 - Loss: 0.6720954179763794\n",
      "Parameter name: gamma\n",
      "Parameter shape: torch.Size([])\n",
      "Parameter value: Parameter containing:\n",
      "tensor(3.0899, device='cuda:0', requires_grad=True)\n",
      "\n"
     ]
    },
    {
     "name": "stderr",
     "output_type": "stream",
     "text": [
      "\n",
      "100%|██████████████████████████████████████████| 10/10 [00:00<00:00, 497.05it/s]\n"
     ]
    },
    {
     "name": "stdout",
     "output_type": "stream",
     "text": [
      "Gradient of gamma: 0.07915123552083969\n",
      "Epoch 22 - Loss: 0.6645237803459167\n",
      "Parameter name: gamma\n",
      "Parameter shape: torch.Size([])\n",
      "Parameter value: Parameter containing:\n",
      "tensor(3.1968, device='cuda:0', requires_grad=True)\n",
      "\n"
     ]
    },
    {
     "name": "stderr",
     "output_type": "stream",
     "text": [
      "\n",
      "100%|██████████████████████████████████████████| 10/10 [00:00<00:00, 490.48it/s]\n",
      " 48%|████████████████████▋                      | 24/50 [00:01<00:01, 18.48it/s]"
     ]
    },
    {
     "name": "stdout",
     "output_type": "stream",
     "text": [
      "Gradient of gamma: 0.10111216455698013\n",
      "Epoch 23 - Loss: 0.6551398038864136\n",
      "Parameter name: gamma\n",
      "Parameter shape: torch.Size([])\n",
      "Parameter value: Parameter containing:\n",
      "tensor(3.3056, device='cuda:0', requires_grad=True)\n",
      "\n"
     ]
    },
    {
     "name": "stderr",
     "output_type": "stream",
     "text": [
      "\n",
      "100%|██████████████████████████████████████████| 10/10 [00:00<00:00, 496.14it/s]\n"
     ]
    },
    {
     "name": "stdout",
     "output_type": "stream",
     "text": [
      "Gradient of gamma: 0.12885934114456177\n",
      "Epoch 24 - Loss: 0.6426258683204651\n",
      "Parameter name: gamma\n",
      "Parameter shape: torch.Size([])\n",
      "Parameter value: Parameter containing:\n",
      "tensor(3.4162, device='cuda:0', requires_grad=True)\n",
      "\n"
     ]
    },
    {
     "name": "stderr",
     "output_type": "stream",
     "text": [
      "\n",
      "100%|██████████████████████████████████████████| 10/10 [00:00<00:00, 495.45it/s]\n",
      " 52%|██████████████████████▎                    | 26/50 [00:01<00:01, 18.53it/s]"
     ]
    },
    {
     "name": "stdout",
     "output_type": "stream",
     "text": [
      "Gradient of gamma: 0.16136613488197327\n",
      "Epoch 25 - Loss: 0.6269705891609192\n",
      "Parameter name: gamma\n",
      "Parameter shape: torch.Size([])\n",
      "Parameter value: Parameter containing:\n",
      "tensor(3.5289, device='cuda:0', requires_grad=True)\n",
      "\n"
     ]
    },
    {
     "name": "stderr",
     "output_type": "stream",
     "text": [
      "\n",
      "100%|██████████████████████████████████████████| 10/10 [00:00<00:00, 440.93it/s]\n"
     ]
    },
    {
     "name": "stdout",
     "output_type": "stream",
     "text": [
      "Gradient of gamma: 0.2002636194229126\n",
      "Epoch 26 - Loss: 0.606521487236023\n",
      "Parameter name: gamma\n",
      "Parameter shape: torch.Size([])\n",
      "Parameter value: Parameter containing:\n",
      "tensor(3.6436, device='cuda:0', requires_grad=True)\n",
      "\n"
     ]
    },
    {
     "name": "stderr",
     "output_type": "stream",
     "text": [
      "\n",
      "100%|██████████████████████████████████████████| 10/10 [00:00<00:00, 452.76it/s]\n",
      " 56%|████████████████████████                   | 28/50 [00:01<00:01, 18.22it/s]"
     ]
    },
    {
     "name": "stdout",
     "output_type": "stream",
     "text": [
      "Gradient of gamma: 0.24330610036849976\n",
      "Epoch 27 - Loss: 0.5809450149536133\n",
      "Parameter name: gamma\n",
      "Parameter shape: torch.Size([])\n",
      "Parameter value: Parameter containing:\n",
      "tensor(3.7607, device='cuda:0', requires_grad=True)\n",
      "\n"
     ]
    },
    {
     "name": "stderr",
     "output_type": "stream",
     "text": [
      "\n",
      "100%|██████████████████████████████████████████| 10/10 [00:00<00:00, 513.29it/s]\n"
     ]
    },
    {
     "name": "stdout",
     "output_type": "stream",
     "text": [
      "Gradient of gamma: 0.2860828638076782\n",
      "Epoch 28 - Loss: 0.550197184085846\n",
      "Parameter name: gamma\n",
      "Parameter shape: torch.Size([])\n",
      "Parameter value: Parameter containing:\n",
      "tensor(3.8802, device='cuda:0', requires_grad=True)\n",
      "\n"
     ]
    },
    {
     "name": "stderr",
     "output_type": "stream",
     "text": [
      "\n",
      "100%|██████████████████████████████████████████| 10/10 [00:00<00:00, 508.73it/s]\n",
      " 60%|█████████████████████████▊                 | 30/50 [00:01<00:01, 18.37it/s]"
     ]
    },
    {
     "name": "stdout",
     "output_type": "stream",
     "text": [
      "Gradient of gamma: 0.3239322006702423\n",
      "Epoch 29 - Loss: 0.5122606158256531\n",
      "Parameter name: gamma\n",
      "Parameter shape: torch.Size([])\n",
      "Parameter value: Parameter containing:\n",
      "tensor(4.0024, device='cuda:0', requires_grad=True)\n",
      "\n"
     ]
    },
    {
     "name": "stderr",
     "output_type": "stream",
     "text": [
      "\n",
      "100%|██████████████████████████████████████████| 10/10 [00:00<00:00, 507.01it/s]\n"
     ]
    },
    {
     "name": "stdout",
     "output_type": "stream",
     "text": [
      "Gradient of gamma: 0.33785098791122437\n",
      "Epoch 30 - Loss: 0.4817360043525696\n",
      "Parameter name: gamma\n",
      "Parameter shape: torch.Size([])\n",
      "Parameter value: Parameter containing:\n",
      "tensor(4.1277, device='cuda:0', requires_grad=True)\n",
      "\n"
     ]
    },
    {
     "name": "stderr",
     "output_type": "stream",
     "text": [
      "\n",
      "100%|██████████████████████████████████████████| 10/10 [00:00<00:00, 499.62it/s]\n",
      " 64%|███████████████████████████▌               | 32/50 [00:01<00:00, 18.42it/s]"
     ]
    },
    {
     "name": "stdout",
     "output_type": "stream",
     "text": [
      "Gradient of gamma: 0.33556854724884033\n",
      "Epoch 31 - Loss: 0.4393945634365082\n",
      "Parameter name: gamma\n",
      "Parameter shape: torch.Size([])\n",
      "Parameter value: Parameter containing:\n",
      "tensor(4.2557, device='cuda:0', requires_grad=True)\n",
      "\n"
     ]
    },
    {
     "name": "stderr",
     "output_type": "stream",
     "text": [
      "\n",
      "100%|██████████████████████████████████████████| 10/10 [00:00<00:00, 505.65it/s]\n"
     ]
    },
    {
     "name": "stdout",
     "output_type": "stream",
     "text": [
      "Gradient of gamma: 0.2999862730503082\n",
      "Epoch 32 - Loss: 0.39950403571128845\n",
      "Parameter name: gamma\n",
      "Parameter shape: torch.Size([])\n",
      "Parameter value: Parameter containing:\n",
      "tensor(4.3858, device='cuda:0', requires_grad=True)\n",
      "\n"
     ]
    },
    {
     "name": "stderr",
     "output_type": "stream",
     "text": [
      "\n",
      "100%|██████████████████████████████████████████| 10/10 [00:00<00:00, 431.11it/s]\n",
      " 68%|█████████████████████████████▏             | 34/50 [00:01<00:00, 18.24it/s]"
     ]
    },
    {
     "name": "stdout",
     "output_type": "stream",
     "text": [
      "Gradient of gamma: 0.2299022376537323\n",
      "Epoch 33 - Loss: 0.3637007176876068\n",
      "Parameter name: gamma\n",
      "Parameter shape: torch.Size([])\n",
      "Parameter value: Parameter containing:\n",
      "tensor(4.5159, device='cuda:0', requires_grad=True)\n",
      "\n"
     ]
    },
    {
     "name": "stderr",
     "output_type": "stream",
     "text": [
      "\n",
      "100%|██████████████████████████████████████████| 10/10 [00:00<00:00, 438.01it/s]\n"
     ]
    },
    {
     "name": "stdout",
     "output_type": "stream",
     "text": [
      "Gradient of gamma: 0.1509312093257904\n",
      "Epoch 34 - Loss: 0.3392307460308075\n",
      "Parameter name: gamma\n",
      "Parameter shape: torch.Size([])\n",
      "Parameter value: Parameter containing:\n",
      "tensor(4.6431, device='cuda:0', requires_grad=True)\n",
      "\n"
     ]
    },
    {
     "name": "stderr",
     "output_type": "stream",
     "text": [
      "\n",
      "100%|██████████████████████████████████████████| 10/10 [00:00<00:00, 486.67it/s]\n",
      " 72%|██████████████████████████████▉            | 36/50 [00:01<00:00, 18.14it/s]"
     ]
    },
    {
     "name": "stdout",
     "output_type": "stream",
     "text": [
      "Gradient of gamma: 0.07895297557115555\n",
      "Epoch 35 - Loss: 0.3239445090293884\n",
      "Parameter name: gamma\n",
      "Parameter shape: torch.Size([])\n",
      "Parameter value: Parameter containing:\n",
      "tensor(4.7641, device='cuda:0', requires_grad=True)\n",
      "\n"
     ]
    },
    {
     "name": "stderr",
     "output_type": "stream",
     "text": [
      "\n",
      "100%|██████████████████████████████████████████| 10/10 [00:00<00:00, 492.34it/s]\n"
     ]
    },
    {
     "name": "stdout",
     "output_type": "stream",
     "text": [
      "Gradient of gamma: 0.037047550082206726\n",
      "Epoch 36 - Loss: 0.3173714280128479\n",
      "Parameter name: gamma\n",
      "Parameter shape: torch.Size([])\n",
      "Parameter value: Parameter containing:\n",
      "tensor(4.8768, device='cuda:0', requires_grad=True)\n",
      "\n"
     ]
    },
    {
     "name": "stderr",
     "output_type": "stream",
     "text": [
      "\n",
      "100%|██████████████████████████████████████████| 10/10 [00:00<00:00, 487.21it/s]\n",
      " 76%|████████████████████████████████▋          | 38/50 [00:02<00:00, 18.24it/s]"
     ]
    },
    {
     "name": "stdout",
     "output_type": "stream",
     "text": [
      "Gradient of gamma: 0.015033065341413021\n",
      "Epoch 37 - Loss: 0.31465500593185425\n",
      "Parameter name: gamma\n",
      "Parameter shape: torch.Size([])\n",
      "Parameter value: Parameter containing:\n",
      "tensor(4.9804, device='cuda:0', requires_grad=True)\n",
      "\n"
     ]
    },
    {
     "name": "stderr",
     "output_type": "stream",
     "text": [
      "\n",
      "100%|██████████████████████████████████████████| 10/10 [00:00<00:00, 499.51it/s]\n"
     ]
    },
    {
     "name": "stdout",
     "output_type": "stream",
     "text": [
      "Gradient of gamma: 0.005160883534699678\n",
      "Epoch 38 - Loss: 0.31366586685180664\n",
      "Parameter name: gamma\n",
      "Parameter shape: torch.Size([])\n",
      "Parameter value: Parameter containing:\n",
      "tensor(5.0751, device='cuda:0', requires_grad=True)\n",
      "\n"
     ]
    },
    {
     "name": "stderr",
     "output_type": "stream",
     "text": [
      "\n",
      "100%|██████████████████████████████████████████| 10/10 [00:00<00:00, 493.96it/s]\n",
      " 80%|██████████████████████████████████▍        | 40/50 [00:02<00:00, 18.31it/s]"
     ]
    },
    {
     "name": "stdout",
     "output_type": "stream",
     "text": [
      "Gradient of gamma: 0.0016560957301408052\n",
      "Epoch 39 - Loss: 0.31337374448776245\n",
      "Parameter name: gamma\n",
      "Parameter shape: torch.Size([])\n",
      "Parameter value: Parameter containing:\n",
      "tensor(5.1614, device='cuda:0', requires_grad=True)\n",
      "\n"
     ]
    },
    {
     "name": "stderr",
     "output_type": "stream",
     "text": [
      "\n",
      "100%|██████████████████████████████████████████| 10/10 [00:00<00:00, 489.22it/s]\n"
     ]
    },
    {
     "name": "stdout",
     "output_type": "stream",
     "text": [
      "Gradient of gamma: 0.00044173517380841076\n",
      "Epoch 40 - Loss: 0.3132876455783844\n",
      "Parameter name: gamma\n",
      "Parameter shape: torch.Size([])\n",
      "Parameter value: Parameter containing:\n",
      "tensor(5.2400, device='cuda:0', requires_grad=True)\n",
      "\n"
     ]
    },
    {
     "name": "stderr",
     "output_type": "stream",
     "text": [
      "\n",
      "100%|██████████████████████████████████████████| 10/10 [00:00<00:00, 483.64it/s]\n",
      " 84%|████████████████████████████████████       | 42/50 [00:02<00:00, 18.33it/s]"
     ]
    },
    {
     "name": "stdout",
     "output_type": "stream",
     "text": [
      "Gradient of gamma: 0.00012300880916882306\n",
      "Epoch 41 - Loss: 0.31326812505722046\n",
      "Parameter name: gamma\n",
      "Parameter shape: torch.Size([])\n",
      "Parameter value: Parameter containing:\n",
      "tensor(5.3115, device='cuda:0', requires_grad=True)\n",
      "\n"
     ]
    },
    {
     "name": "stderr",
     "output_type": "stream",
     "text": [
      "\n",
      "100%|██████████████████████████████████████████| 10/10 [00:00<00:00, 485.33it/s]\n"
     ]
    },
    {
     "name": "stdout",
     "output_type": "stream",
     "text": [
      "Gradient of gamma: 3.2665055186953396e-05\n",
      "Epoch 42 - Loss: 0.3132632076740265\n",
      "Parameter name: gamma\n",
      "Parameter shape: torch.Size([])\n",
      "Parameter value: Parameter containing:\n",
      "tensor(5.3766, device='cuda:0', requires_grad=True)\n",
      "\n"
     ]
    },
    {
     "name": "stderr",
     "output_type": "stream",
     "text": [
      "\n",
      "100%|██████████████████████████████████████████| 10/10 [00:00<00:00, 489.15it/s]\n",
      " 88%|█████████████████████████████████████▊     | 44/50 [00:02<00:00, 18.33it/s]"
     ]
    },
    {
     "name": "stdout",
     "output_type": "stream",
     "text": [
      "Gradient of gamma: 9.191627214022446e-06\n",
      "Epoch 43 - Loss: 0.31326204538345337\n",
      "Parameter name: gamma\n",
      "Parameter shape: torch.Size([])\n",
      "Parameter value: Parameter containing:\n",
      "tensor(5.4358, device='cuda:0', requires_grad=True)\n",
      "\n"
     ]
    },
    {
     "name": "stderr",
     "output_type": "stream",
     "text": [
      "\n",
      "100%|██████████████████████████████████████████| 10/10 [00:00<00:00, 487.53it/s]\n"
     ]
    },
    {
     "name": "stdout",
     "output_type": "stream",
     "text": [
      "Gradient of gamma: 2.1964976895105792e-06\n",
      "Epoch 44 - Loss: 0.31326180696487427\n",
      "Parameter name: gamma\n",
      "Parameter shape: torch.Size([])\n",
      "Parameter value: Parameter containing:\n",
      "tensor(5.4896, device='cuda:0', requires_grad=True)\n",
      "\n"
     ]
    },
    {
     "name": "stderr",
     "output_type": "stream",
     "text": [
      "\n",
      "100%|██████████████████████████████████████████| 10/10 [00:00<00:00, 491.27it/s]\n",
      " 92%|███████████████████████████████████████▌   | 46/50 [00:02<00:00, 18.24it/s]"
     ]
    },
    {
     "name": "stdout",
     "output_type": "stream",
     "text": [
      "Gradient of gamma: 5.824272193422075e-07\n",
      "Epoch 45 - Loss: 0.3132617473602295\n",
      "Parameter name: gamma\n",
      "Parameter shape: torch.Size([])\n",
      "Parameter value: Parameter containing:\n",
      "tensor(5.5386, device='cuda:0', requires_grad=True)\n",
      "\n"
     ]
    },
    {
     "name": "stderr",
     "output_type": "stream",
     "text": [
      "\n",
      "100%|██████████████████████████████████████████| 10/10 [00:00<00:00, 480.63it/s]\n"
     ]
    },
    {
     "name": "stdout",
     "output_type": "stream",
     "text": [
      "Gradient of gamma: 1.4197206610333524e-07\n",
      "Epoch 46 - Loss: 0.3132617473602295\n",
      "Parameter name: gamma\n",
      "Parameter shape: torch.Size([])\n",
      "Parameter value: Parameter containing:\n",
      "tensor(5.5831, device='cuda:0', requires_grad=True)\n",
      "\n"
     ]
    },
    {
     "name": "stderr",
     "output_type": "stream",
     "text": [
      "\n",
      "100%|██████████████████████████████████████████| 10/10 [00:00<00:00, 479.61it/s]\n",
      " 96%|█████████████████████████████████████████▎ | 48/50 [00:02<00:00, 18.24it/s]"
     ]
    },
    {
     "name": "stdout",
     "output_type": "stream",
     "text": [
      "Gradient of gamma: 3.542186988170215e-08\n",
      "Epoch 47 - Loss: 0.3132617473602295\n",
      "Parameter name: gamma\n",
      "Parameter shape: torch.Size([])\n",
      "Parameter value: Parameter containing:\n",
      "tensor(5.6236, device='cuda:0', requires_grad=True)\n",
      "\n"
     ]
    },
    {
     "name": "stderr",
     "output_type": "stream",
     "text": [
      "\n",
      "100%|██████████████████████████████████████████| 10/10 [00:00<00:00, 481.59it/s]\n"
     ]
    },
    {
     "name": "stdout",
     "output_type": "stream",
     "text": [
      "Gradient of gamma: 1.2082320921535938e-08\n",
      "Epoch 48 - Loss: 0.3132617473602295\n",
      "Parameter name: gamma\n",
      "Parameter shape: torch.Size([])\n",
      "Parameter value: Parameter containing:\n",
      "tensor(5.6604, device='cuda:0', requires_grad=True)\n",
      "\n"
     ]
    },
    {
     "name": "stderr",
     "output_type": "stream",
     "text": [
      "\n",
      "100%|██████████████████████████████████████████| 10/10 [00:00<00:00, 502.42it/s]\n",
      "100%|███████████████████████████████████████████| 50/50 [00:02<00:00, 18.26it/s]\n"
     ]
    },
    {
     "name": "stdout",
     "output_type": "stream",
     "text": [
      "Gradient of gamma: 3.983855911826595e-09\n",
      "Epoch 49 - Loss: 0.3132617473602295\n",
      "Parameter name: gamma\n",
      "Parameter shape: torch.Size([])\n",
      "Parameter value: Parameter containing:\n",
      "tensor(5.6938, device='cuda:0', requires_grad=True)\n",
      "\n"
     ]
    },
    {
     "name": "stderr",
     "output_type": "stream",
     "text": [
      "  0%|                                                    | 0/50 [00:00<?, ?it/s]\n",
      "100%|██████████████████████████████████████████| 10/10 [00:00<00:00, 438.15it/s]\n"
     ]
    },
    {
     "name": "stdout",
     "output_type": "stream",
     "text": [
      "Gradient of gamma: 6.801029667258263e-05\n",
      "Epoch 0 - Loss: 0.6931614875793457\n",
      "Parameter name: gamma\n",
      "Parameter shape: torch.Size([])\n",
      "Parameter value: Parameter containing:\n",
      "tensor(0.9000, device='cuda:0', requires_grad=True)\n",
      "\n"
     ]
    },
    {
     "name": "stderr",
     "output_type": "stream",
     "text": [
      "\n",
      "100%|██████████████████████████████████████████| 10/10 [00:00<00:00, 478.40it/s]\n",
      "  4%|█▊                                          | 2/50 [00:00<00:02, 17.45it/s]"
     ]
    },
    {
     "name": "stdout",
     "output_type": "stream",
     "text": [
      "Gradient of gamma: 3.8845231756567955e-05\n",
      "Epoch 1 - Loss: 0.693156361579895\n",
      "Parameter name: gamma\n",
      "Parameter shape: torch.Size([])\n",
      "Parameter value: Parameter containing:\n",
      "tensor(0.8049, device='cuda:0', requires_grad=True)\n",
      "\n"
     ]
    },
    {
     "name": "stderr",
     "output_type": "stream",
     "text": [
      "\n",
      "100%|██████████████████████████████████████████| 10/10 [00:00<00:00, 476.21it/s]\n"
     ]
    },
    {
     "name": "stdout",
     "output_type": "stream",
     "text": [
      "Gradient of gamma: 2.2989697754383087e-05\n",
      "Epoch 2 - Loss: 0.6931535005569458\n",
      "Parameter name: gamma\n",
      "Parameter shape: torch.Size([])\n",
      "Parameter value: Parameter containing:\n",
      "tensor(0.7164, device='cuda:0', requires_grad=True)\n",
      "\n"
     ]
    },
    {
     "name": "stderr",
     "output_type": "stream",
     "text": [
      "\n",
      "100%|██████████████████████████████████████████| 10/10 [00:00<00:00, 474.58it/s]\n",
      "  8%|███▌                                        | 4/50 [00:00<00:02, 17.81it/s]"
     ]
    },
    {
     "name": "stdout",
     "output_type": "stream",
     "text": [
      "Gradient of gamma: 1.4453951735049486e-05\n",
      "Epoch 3 - Loss: 0.6931518912315369\n",
      "Parameter name: gamma\n",
      "Parameter shape: torch.Size([])\n",
      "Parameter value: Parameter containing:\n",
      "tensor(0.6349, device='cuda:0', requires_grad=True)\n",
      "\n"
     ]
    },
    {
     "name": "stderr",
     "output_type": "stream",
     "text": [
      "\n",
      "100%|██████████████████████████████████████████| 10/10 [00:00<00:00, 490.40it/s]\n"
     ]
    },
    {
     "name": "stdout",
     "output_type": "stream",
     "text": [
      "Gradient of gamma: 9.64135688263923e-06\n",
      "Epoch 4 - Loss: 0.6931509375572205\n",
      "Parameter name: gamma\n",
      "Parameter shape: torch.Size([])\n",
      "Parameter value: Parameter containing:\n",
      "tensor(0.5601, device='cuda:0', requires_grad=True)\n",
      "\n"
     ]
    },
    {
     "name": "stderr",
     "output_type": "stream",
     "text": [
      "\n",
      "100%|██████████████████████████████████████████| 10/10 [00:00<00:00, 449.34it/s]\n",
      " 12%|█████▎                                      | 6/50 [00:00<00:02, 17.88it/s]"
     ]
    },
    {
     "name": "stdout",
     "output_type": "stream",
     "text": [
      "Gradient of gamma: 6.836424290668219e-06\n",
      "Epoch 5 - Loss: 0.6931502223014832\n",
      "Parameter name: gamma\n",
      "Parameter shape: torch.Size([])\n",
      "Parameter value: Parameter containing:\n",
      "tensor(0.4916, device='cuda:0', requires_grad=True)\n",
      "\n"
     ]
    },
    {
     "name": "stderr",
     "output_type": "stream",
     "text": [
      "\n",
      "100%|██████████████████████████████████████████| 10/10 [00:00<00:00, 490.44it/s]\n"
     ]
    },
    {
     "name": "stdout",
     "output_type": "stream",
     "text": [
      "Gradient of gamma: 5.227080691838637e-06\n",
      "Epoch 6 - Loss: 0.6931498050689697\n",
      "Parameter name: gamma\n",
      "Parameter shape: torch.Size([])\n",
      "Parameter value: Parameter containing:\n",
      "tensor(0.4288, device='cuda:0', requires_grad=True)\n",
      "\n"
     ]
    },
    {
     "name": "stderr",
     "output_type": "stream",
     "text": [
      "\n",
      "100%|██████████████████████████████████████████| 10/10 [00:00<00:00, 489.46it/s]\n",
      " 16%|███████                                     | 8/50 [00:00<00:02, 18.00it/s]"
     ]
    },
    {
     "name": "stdout",
     "output_type": "stream",
     "text": [
      "Gradient of gamma: 4.0663453546585515e-06\n",
      "Epoch 7 - Loss: 0.6931495666503906\n",
      "Parameter name: gamma\n",
      "Parameter shape: torch.Size([])\n",
      "Parameter value: Parameter containing:\n",
      "tensor(0.3710, device='cuda:0', requires_grad=True)\n",
      "\n"
     ]
    },
    {
     "name": "stderr",
     "output_type": "stream",
     "text": [
      "\n",
      "100%|██████████████████████████████████████████| 10/10 [00:00<00:00, 491.02it/s]\n"
     ]
    },
    {
     "name": "stdout",
     "output_type": "stream",
     "text": [
      "Gradient of gamma: 3.4821541703422554e-06\n",
      "Epoch 8 - Loss: 0.6931493878364563\n",
      "Parameter name: gamma\n",
      "Parameter shape: torch.Size([])\n",
      "Parameter value: Parameter containing:\n",
      "tensor(0.3178, device='cuda:0', requires_grad=True)\n",
      "\n"
     ]
    },
    {
     "name": "stderr",
     "output_type": "stream",
     "text": [
      "\n",
      "100%|██████████████████████████████████████████| 10/10 [00:00<00:00, 467.89it/s]\n",
      " 20%|████████▌                                  | 10/50 [00:00<00:02, 17.91it/s]"
     ]
    },
    {
     "name": "stdout",
     "output_type": "stream",
     "text": [
      "Gradient of gamma: 2.9487871415767586e-06\n",
      "Epoch 9 - Loss: 0.693149209022522\n",
      "Parameter name: gamma\n",
      "Parameter shape: torch.Size([])\n",
      "Parameter value: Parameter containing:\n",
      "tensor(0.2686, device='cuda:0', requires_grad=True)\n",
      "\n"
     ]
    },
    {
     "name": "stderr",
     "output_type": "stream",
     "text": [
      "\n",
      "100%|██████████████████████████████████████████| 10/10 [00:00<00:00, 430.07it/s]\n"
     ]
    },
    {
     "name": "stdout",
     "output_type": "stream",
     "text": [
      "Gradient of gamma: 2.5233341602870496e-06\n",
      "Epoch 10 - Loss: 0.6931490898132324\n",
      "Parameter name: gamma\n",
      "Parameter shape: torch.Size([])\n",
      "Parameter value: Parameter containing:\n",
      "tensor(0.2230, device='cuda:0', requires_grad=True)\n",
      "\n"
     ]
    },
    {
     "name": "stderr",
     "output_type": "stream",
     "text": [
      "\n",
      "100%|██████████████████████████████████████████| 10/10 [00:00<00:00, 486.89it/s]\n",
      " 24%|██████████▎                                | 12/50 [00:00<00:02, 17.69it/s]"
     ]
    },
    {
     "name": "stdout",
     "output_type": "stream",
     "text": [
      "Gradient of gamma: 2.2813146642874926e-06\n",
      "Epoch 11 - Loss: 0.6931488513946533\n",
      "Parameter name: gamma\n",
      "Parameter shape: torch.Size([])\n",
      "Parameter value: Parameter containing:\n",
      "tensor(0.1808, device='cuda:0', requires_grad=True)\n",
      "\n"
     ]
    },
    {
     "name": "stderr",
     "output_type": "stream",
     "text": [
      "\n",
      "100%|██████████████████████████████████████████| 10/10 [00:00<00:00, 508.08it/s]\n"
     ]
    },
    {
     "name": "stdout",
     "output_type": "stream",
     "text": [
      "Gradient of gamma: 2.039969331235625e-06\n",
      "Epoch 12 - Loss: 0.6931487917900085\n",
      "Parameter name: gamma\n",
      "Parameter shape: torch.Size([])\n",
      "Parameter value: Parameter containing:\n",
      "tensor(0.1416, device='cuda:0', requires_grad=True)\n",
      "\n"
     ]
    },
    {
     "name": "stderr",
     "output_type": "stream",
     "text": [
      "\n",
      "100%|██████████████████████████████████████████| 10/10 [00:00<00:00, 432.48it/s]\n",
      " 28%|████████████                               | 14/50 [00:00<00:02, 17.81it/s]"
     ]
    },
    {
     "name": "stdout",
     "output_type": "stream",
     "text": [
      "Gradient of gamma: 1.8592753576740506e-06\n",
      "Epoch 13 - Loss: 0.6931487321853638\n",
      "Parameter name: gamma\n",
      "Parameter shape: torch.Size([])\n",
      "Parameter value: Parameter containing:\n",
      "tensor(0.1051, device='cuda:0', requires_grad=True)\n",
      "\n"
     ]
    },
    {
     "name": "stderr",
     "output_type": "stream",
     "text": [
      "\n",
      "100%|██████████████████████████████████████████| 10/10 [00:00<00:00, 463.48it/s]\n"
     ]
    },
    {
     "name": "stdout",
     "output_type": "stream",
     "text": [
      "Gradient of gamma: 1.7160590459752711e-06\n",
      "Epoch 14 - Loss: 0.6931487321853638\n",
      "Parameter name: gamma\n",
      "Parameter shape: torch.Size([])\n",
      "Parameter value: Parameter containing:\n",
      "tensor(0.0710, device='cuda:0', requires_grad=True)\n",
      "\n"
     ]
    },
    {
     "name": "stderr",
     "output_type": "stream",
     "text": [
      "\n",
      "100%|██████████████████████████████████████████| 10/10 [00:00<00:00, 476.39it/s]\n",
      " 32%|█████████████▊                             | 16/50 [00:00<00:01, 17.93it/s]"
     ]
    },
    {
     "name": "stdout",
     "output_type": "stream",
     "text": [
      "Gradient of gamma: 1.5406071725010406e-06\n",
      "Epoch 15 - Loss: 0.693148672580719\n",
      "Parameter name: gamma\n",
      "Parameter shape: torch.Size([])\n",
      "Parameter value: Parameter containing:\n",
      "tensor(0.0393, device='cuda:0', requires_grad=True)\n",
      "\n"
     ]
    },
    {
     "name": "stderr",
     "output_type": "stream",
     "text": [
      "\n",
      "100%|██████████████████████████████████████████| 10/10 [00:00<00:00, 479.40it/s]\n"
     ]
    },
    {
     "name": "stdout",
     "output_type": "stream",
     "text": [
      "Gradient of gamma: 1.457154667150462e-06\n",
      "Epoch 16 - Loss: 0.6931486129760742\n",
      "Parameter name: gamma\n",
      "Parameter shape: torch.Size([])\n",
      "Parameter value: Parameter containing:\n",
      "tensor(0.0097, device='cuda:0', requires_grad=True)\n",
      "\n"
     ]
    },
    {
     "name": "stderr",
     "output_type": "stream",
     "text": [
      "\n",
      "100%|██████████████████████████████████████████| 10/10 [00:00<00:00, 464.03it/s]\n",
      " 36%|███████████████▍                           | 18/50 [00:01<00:01, 18.05it/s]"
     ]
    },
    {
     "name": "stdout",
     "output_type": "stream",
     "text": [
      "Gradient of gamma: 1.3838349559591734e-06\n",
      "Epoch 17 - Loss: 0.6931485533714294\n",
      "Parameter name: gamma\n",
      "Parameter shape: torch.Size([])\n",
      "Parameter value: Parameter containing:\n",
      "tensor(-0.0181, device='cuda:0', requires_grad=True)\n",
      "\n"
     ]
    },
    {
     "name": "stderr",
     "output_type": "stream",
     "text": [
      "\n",
      "100%|██████████████████████████████████████████| 10/10 [00:00<00:00, 470.24it/s]\n"
     ]
    },
    {
     "name": "stdout",
     "output_type": "stream",
     "text": [
      "Gradient of gamma: 1.3310617532624747e-06\n",
      "Epoch 18 - Loss: 0.6931485533714294\n",
      "Parameter name: gamma\n",
      "Parameter shape: torch.Size([])\n",
      "Parameter value: Parameter containing:\n",
      "tensor(-0.0441, device='cuda:0', requires_grad=True)\n",
      "\n"
     ]
    },
    {
     "name": "stderr",
     "output_type": "stream",
     "text": [
      "\n",
      "100%|██████████████████████████████████████████| 10/10 [00:00<00:00, 479.75it/s]\n",
      " 40%|█████████████████▏                         | 20/50 [00:01<00:01, 18.13it/s]"
     ]
    },
    {
     "name": "stdout",
     "output_type": "stream",
     "text": [
      "Gradient of gamma: 1.2688019523920957e-06\n",
      "Epoch 19 - Loss: 0.6931484937667847\n",
      "Parameter name: gamma\n",
      "Parameter shape: torch.Size([])\n",
      "Parameter value: Parameter containing:\n",
      "tensor(-0.0685, device='cuda:0', requires_grad=True)\n",
      "\n"
     ]
    },
    {
     "name": "stderr",
     "output_type": "stream",
     "text": [
      "\n",
      "100%|██████████████████████████████████████████| 10/10 [00:00<00:00, 476.30it/s]\n"
     ]
    },
    {
     "name": "stdout",
     "output_type": "stream",
     "text": [
      "Gradient of gamma: 1.2142699006290059e-06\n",
      "Epoch 20 - Loss: 0.6931484937667847\n",
      "Parameter name: gamma\n",
      "Parameter shape: torch.Size([])\n",
      "Parameter value: Parameter containing:\n",
      "tensor(-0.0914, device='cuda:0', requires_grad=True)\n",
      "\n"
     ]
    },
    {
     "name": "stderr",
     "output_type": "stream",
     "text": [
      "\n",
      "100%|██████████████████████████████████████████| 10/10 [00:00<00:00, 487.91it/s]\n",
      " 44%|██████████████████▉                        | 22/50 [00:01<00:01, 18.26it/s]"
     ]
    },
    {
     "name": "stdout",
     "output_type": "stream",
     "text": [
      "Gradient of gamma: 1.1307861313980538e-06\n",
      "Epoch 21 - Loss: 0.6931484341621399\n",
      "Parameter name: gamma\n",
      "Parameter shape: torch.Size([])\n",
      "Parameter value: Parameter containing:\n",
      "tensor(-0.1130, device='cuda:0', requires_grad=True)\n",
      "\n"
     ]
    },
    {
     "name": "stderr",
     "output_type": "stream",
     "text": [
      "\n",
      "100%|██████████████████████████████████████████| 10/10 [00:00<00:00, 486.68it/s]\n"
     ]
    },
    {
     "name": "stdout",
     "output_type": "stream",
     "text": [
      "Gradient of gamma: 1.1126809340566979e-06\n",
      "Epoch 22 - Loss: 0.6931483149528503\n",
      "Parameter name: gamma\n",
      "Parameter shape: torch.Size([])\n",
      "Parameter value: Parameter containing:\n",
      "tensor(-0.1334, device='cuda:0', requires_grad=True)\n",
      "\n"
     ]
    },
    {
     "name": "stderr",
     "output_type": "stream",
     "text": [
      "\n",
      "100%|██████████████████████████████████████████| 10/10 [00:00<00:00, 494.93it/s]\n",
      " 48%|████████████████████▋                      | 24/50 [00:01<00:01, 18.35it/s]"
     ]
    },
    {
     "name": "stdout",
     "output_type": "stream",
     "text": [
      "Gradient of gamma: 1.0522383036004612e-06\n",
      "Epoch 23 - Loss: 0.6931483149528503\n",
      "Parameter name: gamma\n",
      "Parameter shape: torch.Size([])\n",
      "Parameter value: Parameter containing:\n",
      "tensor(-0.1526, device='cuda:0', requires_grad=True)\n",
      "\n"
     ]
    },
    {
     "name": "stderr",
     "output_type": "stream",
     "text": [
      "\n",
      "100%|██████████████████████████████████████████| 10/10 [00:00<00:00, 493.37it/s]\n"
     ]
    },
    {
     "name": "stdout",
     "output_type": "stream",
     "text": [
      "Gradient of gamma: 1.0074261354020564e-06\n",
      "Epoch 24 - Loss: 0.6931483149528503\n",
      "Parameter name: gamma\n",
      "Parameter shape: torch.Size([])\n",
      "Parameter value: Parameter containing:\n",
      "tensor(-0.1707, device='cuda:0', requires_grad=True)\n",
      "\n"
     ]
    },
    {
     "name": "stderr",
     "output_type": "stream",
     "text": [
      "\n",
      "100%|██████████████████████████████████████████| 10/10 [00:00<00:00, 495.52it/s]\n",
      " 52%|██████████████████████▎                    | 26/50 [00:01<00:01, 18.40it/s]"
     ]
    },
    {
     "name": "stdout",
     "output_type": "stream",
     "text": [
      "Gradient of gamma: 9.683634516477468e-07\n",
      "Epoch 25 - Loss: 0.6931483149528503\n",
      "Parameter name: gamma\n",
      "Parameter shape: torch.Size([])\n",
      "Parameter value: Parameter containing:\n",
      "tensor(-0.1879, device='cuda:0', requires_grad=True)\n",
      "\n"
     ]
    },
    {
     "name": "stderr",
     "output_type": "stream",
     "text": [
      "\n",
      "100%|██████████████████████████████████████████| 10/10 [00:00<00:00, 499.73it/s]\n"
     ]
    },
    {
     "name": "stdout",
     "output_type": "stream",
     "text": [
      "Gradient of gamma: 9.531814839647268e-07\n",
      "Epoch 26 - Loss: 0.6931483149528503\n",
      "Parameter name: gamma\n",
      "Parameter shape: torch.Size([])\n",
      "Parameter value: Parameter containing:\n",
      "tensor(-0.2041, device='cuda:0', requires_grad=True)\n",
      "\n"
     ]
    },
    {
     "name": "stderr",
     "output_type": "stream",
     "text": [
      "\n",
      "100%|██████████████████████████████████████████| 10/10 [00:00<00:00, 495.60it/s]\n",
      " 56%|████████████████████████                   | 28/50 [00:01<00:01, 18.40it/s]"
     ]
    },
    {
     "name": "stdout",
     "output_type": "stream",
     "text": [
      "Gradient of gamma: 9.28100234887097e-07\n",
      "Epoch 27 - Loss: 0.6931482553482056\n",
      "Parameter name: gamma\n",
      "Parameter shape: torch.Size([])\n",
      "Parameter value: Parameter containing:\n",
      "tensor(-0.2196, device='cuda:0', requires_grad=True)\n",
      "\n"
     ]
    },
    {
     "name": "stderr",
     "output_type": "stream",
     "text": [
      "\n",
      "100%|██████████████████████████████████████████| 10/10 [00:00<00:00, 497.79it/s]\n"
     ]
    },
    {
     "name": "stdout",
     "output_type": "stream",
     "text": [
      "Gradient of gamma: 9.162654350802768e-07\n",
      "Epoch 28 - Loss: 0.6931482553482056\n",
      "Parameter name: gamma\n",
      "Parameter shape: torch.Size([])\n",
      "Parameter value: Parameter containing:\n",
      "tensor(-0.2342, device='cuda:0', requires_grad=True)\n",
      "\n"
     ]
    },
    {
     "name": "stderr",
     "output_type": "stream",
     "text": [
      "\n",
      "100%|██████████████████████████████████████████| 10/10 [00:00<00:00, 496.70it/s]\n",
      " 60%|█████████████████████████▊                 | 30/50 [00:01<00:01, 18.44it/s]"
     ]
    },
    {
     "name": "stdout",
     "output_type": "stream",
     "text": [
      "Gradient of gamma: 8.816963941171707e-07\n",
      "Epoch 29 - Loss: 0.6931482553482056\n",
      "Parameter name: gamma\n",
      "Parameter shape: torch.Size([])\n",
      "Parameter value: Parameter containing:\n",
      "tensor(-0.2482, device='cuda:0', requires_grad=True)\n",
      "\n"
     ]
    },
    {
     "name": "stderr",
     "output_type": "stream",
     "text": [
      "\n",
      "100%|██████████████████████████████████████████| 10/10 [00:00<00:00, 497.81it/s]\n"
     ]
    },
    {
     "name": "stdout",
     "output_type": "stream",
     "text": [
      "Gradient of gamma: 8.718952813069336e-07\n",
      "Epoch 30 - Loss: 0.6931482553482056\n",
      "Parameter name: gamma\n",
      "Parameter shape: torch.Size([])\n",
      "Parameter value: Parameter containing:\n",
      "tensor(-0.2615, device='cuda:0', requires_grad=True)\n",
      "\n"
     ]
    },
    {
     "name": "stderr",
     "output_type": "stream",
     "text": [
      "\n",
      "100%|██████████████████████████████████████████| 10/10 [00:00<00:00, 493.80it/s]\n",
      " 64%|███████████████████████████▌               | 32/50 [00:01<00:00, 18.27it/s]"
     ]
    },
    {
     "name": "stdout",
     "output_type": "stream",
     "text": [
      "Gradient of gamma: 8.624552378933004e-07\n",
      "Epoch 31 - Loss: 0.6931482553482056\n",
      "Parameter name: gamma\n",
      "Parameter shape: torch.Size([])\n",
      "Parameter value: Parameter containing:\n",
      "tensor(-0.2743, device='cuda:0', requires_grad=True)\n",
      "\n"
     ]
    },
    {
     "name": "stderr",
     "output_type": "stream",
     "text": [
      "\n",
      "100%|██████████████████████████████████████████| 10/10 [00:00<00:00, 503.29it/s]\n"
     ]
    },
    {
     "name": "stdout",
     "output_type": "stream",
     "text": [
      "Gradient of gamma: 8.635372523713158e-07\n",
      "Epoch 32 - Loss: 0.6931482553482056\n",
      "Parameter name: gamma\n",
      "Parameter shape: torch.Size([])\n",
      "Parameter value: Parameter containing:\n",
      "tensor(-0.2865, device='cuda:0', requires_grad=True)\n",
      "\n"
     ]
    },
    {
     "name": "stderr",
     "output_type": "stream",
     "text": [
      "\n",
      "100%|██████████████████████████████████████████| 10/10 [00:00<00:00, 503.27it/s]\n",
      " 68%|█████████████████████████████▏             | 34/50 [00:01<00:00, 18.24it/s]"
     ]
    },
    {
     "name": "stdout",
     "output_type": "stream",
     "text": [
      "Gradient of gamma: 8.229766308431863e-07\n",
      "Epoch 33 - Loss: 0.6931482553482056\n",
      "Parameter name: gamma\n",
      "Parameter shape: torch.Size([])\n",
      "Parameter value: Parameter containing:\n",
      "tensor(-0.2982, device='cuda:0', requires_grad=True)\n",
      "\n"
     ]
    },
    {
     "name": "stderr",
     "output_type": "stream",
     "text": [
      "\n",
      "100%|██████████████████████████████████████████| 10/10 [00:00<00:00, 503.46it/s]\n"
     ]
    },
    {
     "name": "stdout",
     "output_type": "stream",
     "text": [
      "Gradient of gamma: 8.158745004038792e-07\n",
      "Epoch 34 - Loss: 0.6931482553482056\n",
      "Parameter name: gamma\n",
      "Parameter shape: torch.Size([])\n",
      "Parameter value: Parameter containing:\n",
      "tensor(-0.3095, device='cuda:0', requires_grad=True)\n",
      "\n"
     ]
    },
    {
     "name": "stderr",
     "output_type": "stream",
     "text": [
      "\n",
      "100%|██████████████████████████████████████████| 10/10 [00:00<00:00, 504.85it/s]\n",
      " 72%|██████████████████████████████▉            | 36/50 [00:01<00:00, 18.33it/s]"
     ]
    },
    {
     "name": "stdout",
     "output_type": "stream",
     "text": [
      "Gradient of gamma: 8.084633122962259e-07\n",
      "Epoch 35 - Loss: 0.6931482553482056\n",
      "Parameter name: gamma\n",
      "Parameter shape: torch.Size([])\n",
      "Parameter value: Parameter containing:\n",
      "tensor(-0.3203, device='cuda:0', requires_grad=True)\n",
      "\n"
     ]
    },
    {
     "name": "stderr",
     "output_type": "stream",
     "text": [
      "\n",
      "100%|██████████████████████████████████████████| 10/10 [00:00<00:00, 495.80it/s]\n"
     ]
    },
    {
     "name": "stdout",
     "output_type": "stream",
     "text": [
      "Gradient of gamma: 7.903440177869925e-07\n",
      "Epoch 36 - Loss: 0.6931482553482056\n",
      "Parameter name: gamma\n",
      "Parameter shape: torch.Size([])\n",
      "Parameter value: Parameter containing:\n",
      "tensor(-0.3308, device='cuda:0', requires_grad=True)\n",
      "\n"
     ]
    },
    {
     "name": "stderr",
     "output_type": "stream",
     "text": [
      "\n",
      "100%|██████████████████████████████████████████| 10/10 [00:00<00:00, 458.82it/s]\n",
      " 76%|████████████████████████████████▋          | 38/50 [00:02<00:00, 18.13it/s]"
     ]
    },
    {
     "name": "stdout",
     "output_type": "stream",
     "text": [
      "Gradient of gamma: 7.849565690776217e-07\n",
      "Epoch 37 - Loss: 0.6931482553482056\n",
      "Parameter name: gamma\n",
      "Parameter shape: torch.Size([])\n",
      "Parameter value: Parameter containing:\n",
      "tensor(-0.3409, device='cuda:0', requires_grad=True)\n",
      "\n"
     ]
    },
    {
     "name": "stderr",
     "output_type": "stream",
     "text": [
      "\n",
      "100%|██████████████████████████████████████████| 10/10 [00:00<00:00, 477.79it/s]\n"
     ]
    },
    {
     "name": "stdout",
     "output_type": "stream",
     "text": [
      "Gradient of gamma: 8.184305215763743e-07\n",
      "Epoch 38 - Loss: 0.6931481957435608\n",
      "Parameter name: gamma\n",
      "Parameter shape: torch.Size([])\n",
      "Parameter value: Parameter containing:\n",
      "tensor(-0.3507, device='cuda:0', requires_grad=True)\n",
      "\n"
     ]
    },
    {
     "name": "stderr",
     "output_type": "stream",
     "text": [
      "\n",
      "100%|██████████████████████████████████████████| 10/10 [00:00<00:00, 475.80it/s]\n",
      " 80%|██████████████████████████████████▍        | 40/50 [00:02<00:00, 17.97it/s]"
     ]
    },
    {
     "name": "stdout",
     "output_type": "stream",
     "text": [
      "Gradient of gamma: 8.248330232163426e-07\n",
      "Epoch 39 - Loss: 0.6931481957435608\n",
      "Parameter name: gamma\n",
      "Parameter shape: torch.Size([])\n",
      "Parameter value: Parameter containing:\n",
      "tensor(-0.3603, device='cuda:0', requires_grad=True)\n",
      "\n"
     ]
    },
    {
     "name": "stderr",
     "output_type": "stream",
     "text": [
      "\n",
      "100%|██████████████████████████████████████████| 10/10 [00:00<00:00, 474.55it/s]\n"
     ]
    },
    {
     "name": "stdout",
     "output_type": "stream",
     "text": [
      "Gradient of gamma: 8.050581072893692e-07\n",
      "Epoch 40 - Loss: 0.693148136138916\n",
      "Parameter name: gamma\n",
      "Parameter shape: torch.Size([])\n",
      "Parameter value: Parameter containing:\n",
      "tensor(-0.3696, device='cuda:0', requires_grad=True)\n",
      "\n"
     ]
    },
    {
     "name": "stderr",
     "output_type": "stream",
     "text": [
      "\n",
      "100%|██████████████████████████████████████████| 10/10 [00:00<00:00, 466.75it/s]\n",
      " 84%|████████████████████████████████████       | 42/50 [00:02<00:00, 17.88it/s]"
     ]
    },
    {
     "name": "stdout",
     "output_type": "stream",
     "text": [
      "Gradient of gamma: 7.681135230086511e-07\n",
      "Epoch 41 - Loss: 0.6931481957435608\n",
      "Parameter name: gamma\n",
      "Parameter shape: torch.Size([])\n",
      "Parameter value: Parameter containing:\n",
      "tensor(-0.3787, device='cuda:0', requires_grad=True)\n",
      "\n"
     ]
    },
    {
     "name": "stderr",
     "output_type": "stream",
     "text": [
      "\n",
      "100%|██████████████████████████████████████████| 10/10 [00:00<00:00, 461.95it/s]\n"
     ]
    },
    {
     "name": "stdout",
     "output_type": "stream",
     "text": [
      "Gradient of gamma: 7.626922524650581e-07\n",
      "Epoch 42 - Loss: 0.693148136138916\n",
      "Parameter name: gamma\n",
      "Parameter shape: torch.Size([])\n",
      "Parameter value: Parameter containing:\n",
      "tensor(-0.3876, device='cuda:0', requires_grad=True)\n",
      "\n"
     ]
    },
    {
     "name": "stderr",
     "output_type": "stream",
     "text": [
      "\n",
      "100%|██████████████████████████████████████████| 10/10 [00:00<00:00, 470.39it/s]\n",
      " 88%|█████████████████████████████████████▊     | 44/50 [00:02<00:00, 17.72it/s]"
     ]
    },
    {
     "name": "stdout",
     "output_type": "stream",
     "text": [
      "Gradient of gamma: 7.01214958098717e-07\n",
      "Epoch 43 - Loss: 0.6931481957435608\n",
      "Parameter name: gamma\n",
      "Parameter shape: torch.Size([])\n",
      "Parameter value: Parameter containing:\n",
      "tensor(-0.3963, device='cuda:0', requires_grad=True)\n",
      "\n"
     ]
    },
    {
     "name": "stderr",
     "output_type": "stream",
     "text": [
      "\n",
      "100%|██████████████████████████████████████████| 10/10 [00:00<00:00, 462.64it/s]\n"
     ]
    },
    {
     "name": "stdout",
     "output_type": "stream",
     "text": [
      "Gradient of gamma: 6.885070433781948e-07\n",
      "Epoch 44 - Loss: 0.693148136138916\n",
      "Parameter name: gamma\n",
      "Parameter shape: torch.Size([])\n",
      "Parameter value: Parameter containing:\n",
      "tensor(-0.4047, device='cuda:0', requires_grad=True)\n",
      "\n"
     ]
    },
    {
     "name": "stderr",
     "output_type": "stream",
     "text": [
      "\n",
      "100%|██████████████████████████████████████████| 10/10 [00:00<00:00, 468.51it/s]\n",
      " 92%|███████████████████████████████████████▌   | 46/50 [00:02<00:00, 17.56it/s]"
     ]
    },
    {
     "name": "stdout",
     "output_type": "stream",
     "text": [
      "Gradient of gamma: 6.873133315821178e-07\n",
      "Epoch 45 - Loss: 0.693148136138916\n",
      "Parameter name: gamma\n",
      "Parameter shape: torch.Size([])\n",
      "Parameter value: Parameter containing:\n",
      "tensor(-0.4129, device='cuda:0', requires_grad=True)\n",
      "\n"
     ]
    },
    {
     "name": "stderr",
     "output_type": "stream",
     "text": [
      "\n",
      "100%|██████████████████████████████████████████| 10/10 [00:00<00:00, 491.29it/s]\n"
     ]
    },
    {
     "name": "stdout",
     "output_type": "stream",
     "text": [
      "Gradient of gamma: 6.812942956457846e-07\n",
      "Epoch 46 - Loss: 0.693148136138916\n",
      "Parameter name: gamma\n",
      "Parameter shape: torch.Size([])\n",
      "Parameter value: Parameter containing:\n",
      "tensor(-0.4209, device='cuda:0', requires_grad=True)\n",
      "\n"
     ]
    },
    {
     "name": "stderr",
     "output_type": "stream",
     "text": [
      "\n",
      "100%|██████████████████████████████████████████| 10/10 [00:00<00:00, 494.18it/s]\n",
      " 96%|█████████████████████████████████████████▎ | 48/50 [00:02<00:00, 17.73it/s]"
     ]
    },
    {
     "name": "stdout",
     "output_type": "stream",
     "text": [
      "Gradient of gamma: 6.764416866644751e-07\n",
      "Epoch 47 - Loss: 0.693148136138916\n",
      "Parameter name: gamma\n",
      "Parameter shape: torch.Size([])\n",
      "Parameter value: Parameter containing:\n",
      "tensor(-0.4288, device='cuda:0', requires_grad=True)\n",
      "\n"
     ]
    },
    {
     "name": "stderr",
     "output_type": "stream",
     "text": [
      "\n",
      "100%|██████████████████████████████████████████| 10/10 [00:00<00:00, 491.44it/s]\n"
     ]
    },
    {
     "name": "stdout",
     "output_type": "stream",
     "text": [
      "Gradient of gamma: 6.895297701703385e-07\n",
      "Epoch 48 - Loss: 0.693148136138916\n",
      "Parameter name: gamma\n",
      "Parameter shape: torch.Size([])\n",
      "Parameter value: Parameter containing:\n",
      "tensor(-0.4365, device='cuda:0', requires_grad=True)\n",
      "\n"
     ]
    },
    {
     "name": "stderr",
     "output_type": "stream",
     "text": [
      "\n",
      "100%|██████████████████████████████████████████| 10/10 [00:00<00:00, 444.96it/s]\n",
      "100%|███████████████████████████████████████████| 50/50 [00:02<00:00, 17.98it/s]\n"
     ]
    },
    {
     "name": "stdout",
     "output_type": "stream",
     "text": [
      "Gradient of gamma: 6.862646841909736e-07\n",
      "Epoch 49 - Loss: 0.693148136138916\n",
      "Parameter name: gamma\n",
      "Parameter shape: torch.Size([])\n",
      "Parameter value: Parameter containing:\n",
      "tensor(-0.4441, device='cuda:0', requires_grad=True)\n",
      "\n"
     ]
    },
    {
     "name": "stderr",
     "output_type": "stream",
     "text": [
      "  0%|                                                    | 0/50 [00:00<?, ?it/s]\n",
      "100%|██████████████████████████████████████████| 10/10 [00:00<00:00, 439.39it/s]\n"
     ]
    },
    {
     "name": "stdout",
     "output_type": "stream",
     "text": [
      "Gradient of gamma: 7.28522427380085e-05\n",
      "Epoch 0 - Loss: 0.6931576728820801\n",
      "Parameter name: gamma\n",
      "Parameter shape: torch.Size([])\n",
      "Parameter value: Parameter containing:\n",
      "tensor(0.9000, device='cuda:0', requires_grad=True)\n",
      "\n"
     ]
    },
    {
     "name": "stderr",
     "output_type": "stream",
     "text": [
      "\n",
      "100%|██████████████████████████████████████████| 10/10 [00:00<00:00, 472.58it/s]\n",
      "  4%|█▊                                          | 2/50 [00:00<00:02, 17.51it/s]"
     ]
    },
    {
     "name": "stdout",
     "output_type": "stream",
     "text": [
      "Gradient of gamma: 3.495183773338795e-05\n",
      "Epoch 1 - Loss: 0.693152666091919\n",
      "Parameter name: gamma\n",
      "Parameter shape: torch.Size([])\n",
      "Parameter value: Parameter containing:\n",
      "tensor(0.8074, device='cuda:0', requires_grad=True)\n",
      "\n"
     ]
    },
    {
     "name": "stderr",
     "output_type": "stream",
     "text": [
      "\n",
      "100%|██████████████████████████████████████████| 10/10 [00:00<00:00, 469.18it/s]\n"
     ]
    },
    {
     "name": "stdout",
     "output_type": "stream",
     "text": [
      "Gradient of gamma: 1.7282553017139435e-05\n",
      "Epoch 2 - Loss: 0.6931503415107727\n",
      "Parameter name: gamma\n",
      "Parameter shape: torch.Size([])\n",
      "Parameter value: Parameter containing:\n",
      "tensor(0.7241, device='cuda:0', requires_grad=True)\n",
      "\n"
     ]
    },
    {
     "name": "stderr",
     "output_type": "stream",
     "text": [
      "\n",
      "100%|██████████████████████████████████████████| 10/10 [00:00<00:00, 481.09it/s]\n",
      "  8%|███▌                                        | 4/50 [00:00<00:02, 18.02it/s]"
     ]
    },
    {
     "name": "stdout",
     "output_type": "stream",
     "text": [
      "Gradient of gamma: 9.120558388531208e-06\n",
      "Epoch 3 - Loss: 0.6931492686271667\n",
      "Parameter name: gamma\n",
      "Parameter shape: torch.Size([])\n",
      "Parameter value: Parameter containing:\n",
      "tensor(0.6498, device='cuda:0', requires_grad=True)\n",
      "\n"
     ]
    },
    {
     "name": "stderr",
     "output_type": "stream",
     "text": [
      "\n",
      "100%|██████████████████████████████████████████| 10/10 [00:00<00:00, 483.76it/s]\n"
     ]
    },
    {
     "name": "stdout",
     "output_type": "stream",
     "text": [
      "Gradient of gamma: 5.420661182142794e-06\n",
      "Epoch 4 - Loss: 0.6931487321853638\n",
      "Parameter name: gamma\n",
      "Parameter shape: torch.Size([])\n",
      "Parameter value: Parameter containing:\n",
      "tensor(0.5836, device='cuda:0', requires_grad=True)\n",
      "\n"
     ]
    },
    {
     "name": "stderr",
     "output_type": "stream",
     "text": [
      "\n",
      "100%|██████████████████████████████████████████| 10/10 [00:00<00:00, 473.13it/s]\n",
      " 12%|█████▎                                      | 6/50 [00:00<00:02, 18.09it/s]"
     ]
    },
    {
     "name": "stdout",
     "output_type": "stream",
     "text": [
      "Gradient of gamma: 3.5449847928248346e-06\n",
      "Epoch 5 - Loss: 0.6931484937667847\n",
      "Parameter name: gamma\n",
      "Parameter shape: torch.Size([])\n",
      "Parameter value: Parameter containing:\n",
      "tensor(0.5244, device='cuda:0', requires_grad=True)\n",
      "\n"
     ]
    },
    {
     "name": "stderr",
     "output_type": "stream",
     "text": [
      "\n",
      "100%|██████████████████████████████████████████| 10/10 [00:00<00:00, 495.00it/s]\n"
     ]
    },
    {
     "name": "stdout",
     "output_type": "stream",
     "text": [
      "Gradient of gamma: 2.464792487444356e-06\n",
      "Epoch 6 - Loss: 0.6931482553482056\n",
      "Parameter name: gamma\n",
      "Parameter shape: torch.Size([])\n",
      "Parameter value: Parameter containing:\n",
      "tensor(0.4713, device='cuda:0', requires_grad=True)\n",
      "\n"
     ]
    },
    {
     "name": "stderr",
     "output_type": "stream",
     "text": [
      "\n",
      "100%|██████████████████████████████████████████| 10/10 [00:00<00:00, 493.61it/s]\n",
      " 16%|███████                                     | 8/50 [00:00<00:02, 18.27it/s]"
     ]
    },
    {
     "name": "stdout",
     "output_type": "stream",
     "text": [
      "Gradient of gamma: 1.8812424968928099e-06\n",
      "Epoch 7 - Loss: 0.6931480765342712\n",
      "Parameter name: gamma\n",
      "Parameter shape: torch.Size([])\n",
      "Parameter value: Parameter containing:\n",
      "tensor(0.4233, device='cuda:0', requires_grad=True)\n",
      "\n"
     ]
    },
    {
     "name": "stderr",
     "output_type": "stream",
     "text": [
      "\n",
      "100%|██████████████████████████████████████████| 10/10 [00:00<00:00, 484.33it/s]\n"
     ]
    },
    {
     "name": "stdout",
     "output_type": "stream",
     "text": [
      "Gradient of gamma: 1.586237885931041e-06\n",
      "Epoch 8 - Loss: 0.6931480765342712\n",
      "Parameter name: gamma\n",
      "Parameter shape: torch.Size([])\n",
      "Parameter value: Parameter containing:\n",
      "tensor(0.3797, device='cuda:0', requires_grad=True)\n",
      "\n"
     ]
    },
    {
     "name": "stderr",
     "output_type": "stream",
     "text": [
      "\n",
      "100%|██████████████████████████████████████████| 10/10 [00:00<00:00, 496.21it/s]\n",
      " 20%|████████▌                                  | 10/50 [00:00<00:02, 18.29it/s]"
     ]
    },
    {
     "name": "stdout",
     "output_type": "stream",
     "text": [
      "Gradient of gamma: 1.4505599210679065e-06\n",
      "Epoch 9 - Loss: 0.6931480169296265\n",
      "Parameter name: gamma\n",
      "Parameter shape: torch.Size([])\n",
      "Parameter value: Parameter containing:\n",
      "tensor(0.3401, device='cuda:0', requires_grad=True)\n",
      "\n"
     ]
    },
    {
     "name": "stderr",
     "output_type": "stream",
     "text": [
      "\n",
      "100%|██████████████████████████████████████████| 10/10 [00:00<00:00, 487.44it/s]\n"
     ]
    },
    {
     "name": "stdout",
     "output_type": "stream",
     "text": [
      "Gradient of gamma: 1.1359450127201853e-06\n",
      "Epoch 10 - Loss: 0.6931479573249817\n",
      "Parameter name: gamma\n",
      "Parameter shape: torch.Size([])\n",
      "Parameter value: Parameter containing:\n",
      "tensor(0.3038, device='cuda:0', requires_grad=True)\n",
      "\n"
     ]
    },
    {
     "name": "stderr",
     "output_type": "stream",
     "text": [
      "\n",
      "100%|██████████████████████████████████████████| 10/10 [00:00<00:00, 470.55it/s]\n",
      " 24%|██████████▎                                | 12/50 [00:00<00:02, 18.37it/s]"
     ]
    },
    {
     "name": "stdout",
     "output_type": "stream",
     "text": [
      "Gradient of gamma: 1.0281470395057113e-06\n",
      "Epoch 11 - Loss: 0.6931478977203369\n",
      "Parameter name: gamma\n",
      "Parameter shape: torch.Size([])\n",
      "Parameter value: Parameter containing:\n",
      "tensor(0.2707, device='cuda:0', requires_grad=True)\n",
      "\n"
     ]
    },
    {
     "name": "stderr",
     "output_type": "stream",
     "text": [
      "\n",
      "100%|██████████████████████████████████████████| 10/10 [00:00<00:00, 485.05it/s]\n"
     ]
    },
    {
     "name": "stdout",
     "output_type": "stream",
     "text": [
      "Gradient of gamma: 9.800384077607305e-07\n",
      "Epoch 12 - Loss: 0.6931478977203369\n",
      "Parameter name: gamma\n",
      "Parameter shape: torch.Size([])\n",
      "Parameter value: Parameter containing:\n",
      "tensor(0.2402, device='cuda:0', requires_grad=True)\n",
      "\n"
     ]
    },
    {
     "name": "stderr",
     "output_type": "stream",
     "text": [
      "\n",
      "100%|██████████████████████████████████████████| 10/10 [00:00<00:00, 483.71it/s]\n",
      " 28%|████████████                               | 14/50 [00:00<00:01, 18.51it/s]"
     ]
    },
    {
     "name": "stdout",
     "output_type": "stream",
     "text": [
      "Gradient of gamma: 8.637883865958429e-07\n",
      "Epoch 13 - Loss: 0.6931478977203369\n",
      "Parameter name: gamma\n",
      "Parameter shape: torch.Size([])\n",
      "Parameter value: Parameter containing:\n",
      "tensor(0.2122, device='cuda:0', requires_grad=True)\n",
      "\n"
     ]
    },
    {
     "name": "stderr",
     "output_type": "stream",
     "text": [
      "\n",
      "100%|██████████████████████████████████████████| 10/10 [00:00<00:00, 491.15it/s]\n"
     ]
    },
    {
     "name": "stdout",
     "output_type": "stream",
     "text": [
      "Gradient of gamma: 7.936021688692563e-07\n",
      "Epoch 14 - Loss: 0.6931478977203369\n",
      "Parameter name: gamma\n",
      "Parameter shape: torch.Size([])\n",
      "Parameter value: Parameter containing:\n",
      "tensor(0.1864, device='cuda:0', requires_grad=True)\n",
      "\n"
     ]
    },
    {
     "name": "stderr",
     "output_type": "stream",
     "text": [
      "\n",
      "100%|██████████████████████████████████████████| 10/10 [00:00<00:00, 494.35it/s]\n",
      " 32%|█████████████▊                             | 16/50 [00:00<00:01, 18.53it/s]"
     ]
    },
    {
     "name": "stdout",
     "output_type": "stream",
     "text": [
      "Gradient of gamma: 7.681759939259791e-07\n",
      "Epoch 15 - Loss: 0.6931477785110474\n",
      "Parameter name: gamma\n",
      "Parameter shape: torch.Size([])\n",
      "Parameter value: Parameter containing:\n",
      "tensor(0.1625, device='cuda:0', requires_grad=True)\n",
      "\n"
     ]
    },
    {
     "name": "stderr",
     "output_type": "stream",
     "text": [
      "\n",
      "100%|██████████████████████████████████████████| 10/10 [00:00<00:00, 497.53it/s]\n"
     ]
    },
    {
     "name": "stdout",
     "output_type": "stream",
     "text": [
      "Gradient of gamma: 7.117662335076602e-07\n",
      "Epoch 16 - Loss: 0.6931477785110474\n",
      "Parameter name: gamma\n",
      "Parameter shape: torch.Size([])\n",
      "Parameter value: Parameter containing:\n",
      "tensor(0.1405, device='cuda:0', requires_grad=True)\n",
      "\n"
     ]
    },
    {
     "name": "stderr",
     "output_type": "stream",
     "text": [
      "\n",
      "100%|██████████████████████████████████████████| 10/10 [00:00<00:00, 477.44it/s]\n",
      " 36%|███████████████▍                           | 18/50 [00:00<00:01, 18.30it/s]"
     ]
    },
    {
     "name": "stdout",
     "output_type": "stream",
     "text": [
      "Gradient of gamma: 6.934273528713675e-07\n",
      "Epoch 17 - Loss: 0.6931477785110474\n",
      "Parameter name: gamma\n",
      "Parameter shape: torch.Size([])\n",
      "Parameter value: Parameter containing:\n",
      "tensor(0.1200, device='cuda:0', requires_grad=True)\n",
      "\n"
     ]
    },
    {
     "name": "stderr",
     "output_type": "stream",
     "text": [
      "\n",
      "100%|██████████████████████████████████████████| 10/10 [00:00<00:00, 499.38it/s]\n"
     ]
    },
    {
     "name": "stdout",
     "output_type": "stream",
     "text": [
      "Gradient of gamma: 6.424429557227995e-07\n",
      "Epoch 18 - Loss: 0.6931477785110474\n",
      "Parameter name: gamma\n",
      "Parameter shape: torch.Size([])\n",
      "Parameter value: Parameter containing:\n",
      "tensor(0.1010, device='cuda:0', requires_grad=True)\n",
      "\n"
     ]
    },
    {
     "name": "stderr",
     "output_type": "stream",
     "text": [
      "\n",
      "100%|██████████████████████████████████████████| 10/10 [00:00<00:00, 492.84it/s]\n",
      " 40%|█████████████████▏                         | 20/50 [00:01<00:01, 18.31it/s]"
     ]
    },
    {
     "name": "stdout",
     "output_type": "stream",
     "text": [
      "Gradient of gamma: 6.284403752943035e-07\n",
      "Epoch 19 - Loss: 0.6931477189064026\n",
      "Parameter name: gamma\n",
      "Parameter shape: torch.Size([])\n",
      "Parameter value: Parameter containing:\n",
      "tensor(0.0834, device='cuda:0', requires_grad=True)\n",
      "\n"
     ]
    },
    {
     "name": "stderr",
     "output_type": "stream",
     "text": [
      "\n",
      "100%|██████████████████████████████████████████| 10/10 [00:00<00:00, 500.84it/s]\n"
     ]
    },
    {
     "name": "stdout",
     "output_type": "stream",
     "text": [
      "Gradient of gamma: 5.871586949979246e-07\n",
      "Epoch 20 - Loss: 0.6931477189064026\n",
      "Parameter name: gamma\n",
      "Parameter shape: torch.Size([])\n",
      "Parameter value: Parameter containing:\n",
      "tensor(0.0670, device='cuda:0', requires_grad=True)\n",
      "\n"
     ]
    },
    {
     "name": "stderr",
     "output_type": "stream",
     "text": [
      "\n",
      "100%|██████████████████████████████████████████| 10/10 [00:00<00:00, 492.35it/s]\n",
      " 44%|██████████████████▉                        | 22/50 [00:01<00:01, 18.34it/s]"
     ]
    },
    {
     "name": "stdout",
     "output_type": "stream",
     "text": [
      "Gradient of gamma: 5.754528160650807e-07\n",
      "Epoch 21 - Loss: 0.6931477189064026\n",
      "Parameter name: gamma\n",
      "Parameter shape: torch.Size([])\n",
      "Parameter value: Parameter containing:\n",
      "tensor(0.0517, device='cuda:0', requires_grad=True)\n",
      "\n"
     ]
    },
    {
     "name": "stderr",
     "output_type": "stream",
     "text": [
      "\n",
      "100%|██████████████████████████████████████████| 10/10 [00:00<00:00, 499.66it/s]\n"
     ]
    },
    {
     "name": "stdout",
     "output_type": "stream",
     "text": [
      "Gradient of gamma: 5.661857471750409e-07\n",
      "Epoch 22 - Loss: 0.6931477189064026\n",
      "Parameter name: gamma\n",
      "Parameter shape: torch.Size([])\n",
      "Parameter value: Parameter containing:\n",
      "tensor(0.0374, device='cuda:0', requires_grad=True)\n",
      "\n"
     ]
    },
    {
     "name": "stderr",
     "output_type": "stream",
     "text": [
      "\n",
      "100%|██████████████████████████████████████████| 10/10 [00:00<00:00, 492.82it/s]\n",
      " 48%|████████████████████▋                      | 24/50 [00:01<00:01, 18.31it/s]"
     ]
    },
    {
     "name": "stdout",
     "output_type": "stream",
     "text": [
      "Gradient of gamma: 5.280402888274693e-07\n",
      "Epoch 23 - Loss: 0.693147599697113\n",
      "Parameter name: gamma\n",
      "Parameter shape: torch.Size([])\n",
      "Parameter value: Parameter containing:\n",
      "tensor(0.0241, device='cuda:0', requires_grad=True)\n",
      "\n"
     ]
    },
    {
     "name": "stderr",
     "output_type": "stream",
     "text": [
      "\n",
      "100%|██████████████████████████████████████████| 10/10 [00:00<00:00, 497.90it/s]\n"
     ]
    },
    {
     "name": "stdout",
     "output_type": "stream",
     "text": [
      "Gradient of gamma: 5.205465072322113e-07\n",
      "Epoch 24 - Loss: 0.693147599697113\n",
      "Parameter name: gamma\n",
      "Parameter shape: torch.Size([])\n",
      "Parameter value: Parameter containing:\n",
      "tensor(0.0116, device='cuda:0', requires_grad=True)\n",
      "\n"
     ]
    },
    {
     "name": "stderr",
     "output_type": "stream",
     "text": [
      "\n",
      "100%|██████████████████████████████████████████| 10/10 [00:00<00:00, 503.03it/s]\n",
      " 52%|██████████████████████▎                    | 26/50 [00:01<00:01, 18.30it/s]"
     ]
    },
    {
     "name": "stdout",
     "output_type": "stream",
     "text": [
      "Gradient of gamma: 4.824170787287585e-07\n",
      "Epoch 25 - Loss: 0.693147599697113\n",
      "Parameter name: gamma\n",
      "Parameter shape: torch.Size([])\n",
      "Parameter value: Parameter containing:\n",
      "tensor(-0.0001, device='cuda:0', requires_grad=True)\n",
      "\n"
     ]
    },
    {
     "name": "stderr",
     "output_type": "stream",
     "text": [
      "\n",
      "100%|██████████████████████████████████████████| 10/10 [00:00<00:00, 510.33it/s]\n"
     ]
    },
    {
     "name": "stdout",
     "output_type": "stream",
     "text": [
      "Gradient of gamma: 4.7677178827143507e-07\n",
      "Epoch 26 - Loss: 0.693147599697113\n",
      "Parameter name: gamma\n",
      "Parameter shape: torch.Size([])\n",
      "Parameter value: Parameter containing:\n",
      "tensor(-0.0111, device='cuda:0', requires_grad=True)\n",
      "\n"
     ]
    },
    {
     "name": "stderr",
     "output_type": "stream",
     "text": [
      "\n",
      "100%|██████████████████████████████████████████| 10/10 [00:00<00:00, 496.72it/s]\n",
      " 56%|████████████████████████                   | 28/50 [00:01<00:01, 18.37it/s]"
     ]
    },
    {
     "name": "stdout",
     "output_type": "stream",
     "text": [
      "Gradient of gamma: 4.7156950699900335e-07\n",
      "Epoch 27 - Loss: 0.693147599697113\n",
      "Parameter name: gamma\n",
      "Parameter shape: torch.Size([])\n",
      "Parameter value: Parameter containing:\n",
      "tensor(-0.0214, device='cuda:0', requires_grad=True)\n",
      "\n"
     ]
    },
    {
     "name": "stderr",
     "output_type": "stream",
     "text": [
      "\n",
      "100%|██████████████████████████████████████████| 10/10 [00:00<00:00, 498.85it/s]\n"
     ]
    },
    {
     "name": "stdout",
     "output_type": "stream",
     "text": [
      "Gradient of gamma: 4.6639976858386945e-07\n",
      "Epoch 28 - Loss: 0.693147599697113\n",
      "Parameter name: gamma\n",
      "Parameter shape: torch.Size([])\n",
      "Parameter value: Parameter containing:\n",
      "tensor(-0.0312, device='cuda:0', requires_grad=True)\n",
      "\n"
     ]
    },
    {
     "name": "stderr",
     "output_type": "stream",
     "text": [
      "\n",
      "100%|██████████████████████████████████████████| 10/10 [00:00<00:00, 496.13it/s]\n",
      " 60%|█████████████████████████▊                 | 30/50 [00:01<00:01, 18.37it/s]"
     ]
    },
    {
     "name": "stdout",
     "output_type": "stream",
     "text": [
      "Gradient of gamma: 4.6197797587410605e-07\n",
      "Epoch 29 - Loss: 0.693147599697113\n",
      "Parameter name: gamma\n",
      "Parameter shape: torch.Size([])\n",
      "Parameter value: Parameter containing:\n",
      "tensor(-0.0403, device='cuda:0', requires_grad=True)\n",
      "\n"
     ]
    },
    {
     "name": "stderr",
     "output_type": "stream",
     "text": [
      "\n",
      "100%|██████████████████████████████████████████| 10/10 [00:00<00:00, 497.43it/s]\n"
     ]
    },
    {
     "name": "stdout",
     "output_type": "stream",
     "text": [
      "Gradient of gamma: 4.579058554554649e-07\n",
      "Epoch 30 - Loss: 0.693147599697113\n",
      "Parameter name: gamma\n",
      "Parameter shape: torch.Size([])\n",
      "Parameter value: Parameter containing:\n",
      "tensor(-0.0490, device='cuda:0', requires_grad=True)\n",
      "\n"
     ]
    },
    {
     "name": "stderr",
     "output_type": "stream",
     "text": [
      "\n",
      "100%|██████████████████████████████████████████| 10/10 [00:00<00:00, 493.38it/s]\n",
      " 64%|███████████████████████████▌               | 32/50 [00:01<00:00, 18.38it/s]"
     ]
    },
    {
     "name": "stdout",
     "output_type": "stream",
     "text": [
      "Gradient of gamma: 4.535406787908869e-07\n",
      "Epoch 31 - Loss: 0.693147599697113\n",
      "Parameter name: gamma\n",
      "Parameter shape: torch.Size([])\n",
      "Parameter value: Parameter containing:\n",
      "tensor(-0.0572, device='cuda:0', requires_grad=True)\n",
      "\n"
     ]
    },
    {
     "name": "stderr",
     "output_type": "stream",
     "text": [
      "\n",
      "100%|██████████████████████████████████████████| 10/10 [00:00<00:00, 498.25it/s]\n"
     ]
    },
    {
     "name": "stdout",
     "output_type": "stream",
     "text": [
      "Gradient of gamma: 4.5008422944192716e-07\n",
      "Epoch 32 - Loss: 0.693147599697113\n",
      "Parameter name: gamma\n",
      "Parameter shape: torch.Size([])\n",
      "Parameter value: Parameter containing:\n",
      "tensor(-0.0650, device='cuda:0', requires_grad=True)\n",
      "\n"
     ]
    },
    {
     "name": "stderr",
     "output_type": "stream",
     "text": [
      "\n",
      "100%|██████████████████████████████████████████| 10/10 [00:00<00:00, 497.99it/s]\n",
      " 68%|█████████████████████████████▏             | 34/50 [00:01<00:00, 18.48it/s]"
     ]
    },
    {
     "name": "stdout",
     "output_type": "stream",
     "text": [
      "Gradient of gamma: 4.46598562575673e-07\n",
      "Epoch 33 - Loss: 0.693147599697113\n",
      "Parameter name: gamma\n",
      "Parameter shape: torch.Size([])\n",
      "Parameter value: Parameter containing:\n",
      "tensor(-0.0725, device='cuda:0', requires_grad=True)\n",
      "\n"
     ]
    },
    {
     "name": "stderr",
     "output_type": "stream",
     "text": [
      "\n",
      "100%|██████████████████████████████████████████| 10/10 [00:00<00:00, 499.52it/s]\n"
     ]
    },
    {
     "name": "stdout",
     "output_type": "stream",
     "text": [
      "Gradient of gamma: 4.435480605025077e-07\n",
      "Epoch 34 - Loss: 0.693147599697113\n",
      "Parameter name: gamma\n",
      "Parameter shape: torch.Size([])\n",
      "Parameter value: Parameter containing:\n",
      "tensor(-0.0796, device='cuda:0', requires_grad=True)\n",
      "\n"
     ]
    },
    {
     "name": "stderr",
     "output_type": "stream",
     "text": [
      "\n",
      "100%|██████████████████████████████████████████| 10/10 [00:00<00:00, 501.88it/s]\n",
      " 72%|██████████████████████████████▉            | 36/50 [00:01<00:00, 18.45it/s]"
     ]
    },
    {
     "name": "stdout",
     "output_type": "stream",
     "text": [
      "Gradient of gamma: 4.409752989431581e-07\n",
      "Epoch 35 - Loss: 0.693147599697113\n",
      "Parameter name: gamma\n",
      "Parameter shape: torch.Size([])\n",
      "Parameter value: Parameter containing:\n",
      "tensor(-0.0864, device='cuda:0', requires_grad=True)\n",
      "\n"
     ]
    },
    {
     "name": "stderr",
     "output_type": "stream",
     "text": [
      "\n",
      "100%|██████████████████████████████████████████| 10/10 [00:00<00:00, 454.84it/s]\n"
     ]
    },
    {
     "name": "stdout",
     "output_type": "stream",
     "text": [
      "Gradient of gamma: 4.3778746317002515e-07\n",
      "Epoch 36 - Loss: 0.693147599697113\n",
      "Parameter name: gamma\n",
      "Parameter shape: torch.Size([])\n",
      "Parameter value: Parameter containing:\n",
      "tensor(-0.0929, device='cuda:0', requires_grad=True)\n",
      "\n"
     ]
    },
    {
     "name": "stderr",
     "output_type": "stream",
     "text": [
      "\n",
      "100%|██████████████████████████████████████████| 10/10 [00:00<00:00, 472.62it/s]\n",
      " 76%|████████████████████████████████▋          | 38/50 [00:02<00:00, 18.17it/s]"
     ]
    },
    {
     "name": "stdout",
     "output_type": "stream",
     "text": [
      "Gradient of gamma: 4.35901824857865e-07\n",
      "Epoch 37 - Loss: 0.693147599697113\n",
      "Parameter name: gamma\n",
      "Parameter shape: torch.Size([])\n",
      "Parameter value: Parameter containing:\n",
      "tensor(-0.0992, device='cuda:0', requires_grad=True)\n",
      "\n"
     ]
    },
    {
     "name": "stderr",
     "output_type": "stream",
     "text": [
      "\n",
      "100%|██████████████████████████████████████████| 10/10 [00:00<00:00, 469.36it/s]\n"
     ]
    },
    {
     "name": "stdout",
     "output_type": "stream",
     "text": [
      "Gradient of gamma: 4.332981404786551e-07\n",
      "Epoch 38 - Loss: 0.693147599697113\n",
      "Parameter name: gamma\n",
      "Parameter shape: torch.Size([])\n",
      "Parameter value: Parameter containing:\n",
      "tensor(-0.1052, device='cuda:0', requires_grad=True)\n",
      "\n"
     ]
    },
    {
     "name": "stderr",
     "output_type": "stream",
     "text": [
      "\n",
      "100%|██████████████████████████████████████████| 10/10 [00:00<00:00, 477.23it/s]\n",
      " 80%|██████████████████████████████████▍        | 40/50 [00:02<00:00, 18.16it/s]"
     ]
    },
    {
     "name": "stdout",
     "output_type": "stream",
     "text": [
      "Gradient of gamma: 4.310371082283382e-07\n",
      "Epoch 39 - Loss: 0.693147599697113\n",
      "Parameter name: gamma\n",
      "Parameter shape: torch.Size([])\n",
      "Parameter value: Parameter containing:\n",
      "tensor(-0.1110, device='cuda:0', requires_grad=True)\n",
      "\n"
     ]
    },
    {
     "name": "stderr",
     "output_type": "stream",
     "text": [
      "\n",
      "100%|██████████████████████████████████████████| 10/10 [00:00<00:00, 463.17it/s]\n"
     ]
    },
    {
     "name": "stdout",
     "output_type": "stream",
     "text": [
      "Gradient of gamma: 4.286212913484633e-07\n",
      "Epoch 40 - Loss: 0.693147599697113\n",
      "Parameter name: gamma\n",
      "Parameter shape: torch.Size([])\n",
      "Parameter value: Parameter containing:\n",
      "tensor(-0.1166, device='cuda:0', requires_grad=True)\n",
      "\n"
     ]
    },
    {
     "name": "stderr",
     "output_type": "stream",
     "text": [
      "\n",
      "100%|██████████████████████████████████████████| 10/10 [00:00<00:00, 466.39it/s]\n",
      " 84%|████████████████████████████████████       | 42/50 [00:02<00:00, 18.02it/s]"
     ]
    },
    {
     "name": "stdout",
     "output_type": "stream",
     "text": [
      "Gradient of gamma: 4.264958590738388e-07\n",
      "Epoch 41 - Loss: 0.693147599697113\n",
      "Parameter name: gamma\n",
      "Parameter shape: torch.Size([])\n",
      "Parameter value: Parameter containing:\n",
      "tensor(-0.1221, device='cuda:0', requires_grad=True)\n",
      "\n"
     ]
    },
    {
     "name": "stderr",
     "output_type": "stream",
     "text": [
      "\n",
      "100%|██████████████████████████████████████████| 10/10 [00:00<00:00, 469.71it/s]\n"
     ]
    },
    {
     "name": "stdout",
     "output_type": "stream",
     "text": [
      "Gradient of gamma: 4.2443889469723217e-07\n",
      "Epoch 42 - Loss: 0.693147599697113\n",
      "Parameter name: gamma\n",
      "Parameter shape: torch.Size([])\n",
      "Parameter value: Parameter containing:\n",
      "tensor(-0.1274, device='cuda:0', requires_grad=True)\n",
      "\n"
     ]
    },
    {
     "name": "stderr",
     "output_type": "stream",
     "text": [
      "\n",
      "100%|██████████████████████████████████████████| 10/10 [00:00<00:00, 488.07it/s]\n",
      " 88%|█████████████████████████████████████▊     | 44/50 [00:02<00:00, 18.04it/s]"
     ]
    },
    {
     "name": "stdout",
     "output_type": "stream",
     "text": [
      "Gradient of gamma: 3.925444502783648e-07\n",
      "Epoch 43 - Loss: 0.693147599697113\n",
      "Parameter name: gamma\n",
      "Parameter shape: torch.Size([])\n",
      "Parameter value: Parameter containing:\n",
      "tensor(-0.1326, device='cuda:0', requires_grad=True)\n",
      "\n"
     ]
    },
    {
     "name": "stderr",
     "output_type": "stream",
     "text": [
      "\n",
      "100%|██████████████████████████████████████████| 10/10 [00:00<00:00, 472.75it/s]\n"
     ]
    },
    {
     "name": "stdout",
     "output_type": "stream",
     "text": [
      "Gradient of gamma: 4.263311552676896e-07\n",
      "Epoch 44 - Loss: 0.693147599697113\n",
      "Parameter name: gamma\n",
      "Parameter shape: torch.Size([])\n",
      "Parameter value: Parameter containing:\n",
      "tensor(-0.1376, device='cuda:0', requires_grad=True)\n",
      "\n"
     ]
    },
    {
     "name": "stderr",
     "output_type": "stream",
     "text": [
      "\n",
      "100%|██████████████████████████████████████████| 10/10 [00:00<00:00, 481.50it/s]\n",
      " 92%|███████████████████████████████████████▌   | 46/50 [00:02<00:00, 18.05it/s]"
     ]
    },
    {
     "name": "stdout",
     "output_type": "stream",
     "text": [
      "Gradient of gamma: 4.247787330768915e-07\n",
      "Epoch 45 - Loss: 0.693147599697113\n",
      "Parameter name: gamma\n",
      "Parameter shape: torch.Size([])\n",
      "Parameter value: Parameter containing:\n",
      "tensor(-0.1425, device='cuda:0', requires_grad=True)\n",
      "\n"
     ]
    },
    {
     "name": "stderr",
     "output_type": "stream",
     "text": [
      "\n",
      "100%|██████████████████████████████████████████| 10/10 [00:00<00:00, 477.33it/s]\n"
     ]
    },
    {
     "name": "stdout",
     "output_type": "stream",
     "text": [
      "Gradient of gamma: 3.86811308317192e-07\n",
      "Epoch 46 - Loss: 0.693147599697113\n",
      "Parameter name: gamma\n",
      "Parameter shape: torch.Size([])\n",
      "Parameter value: Parameter containing:\n",
      "tensor(-0.1473, device='cuda:0', requires_grad=True)\n",
      "\n"
     ]
    },
    {
     "name": "stderr",
     "output_type": "stream",
     "text": [
      "\n",
      "100%|██████████████████████████████████████████| 10/10 [00:00<00:00, 474.46it/s]\n",
      " 96%|█████████████████████████████████████████▎ | 48/50 [00:02<00:00, 18.03it/s]"
     ]
    },
    {
     "name": "stdout",
     "output_type": "stream",
     "text": [
      "Gradient of gamma: 3.891512960763066e-07\n",
      "Epoch 47 - Loss: 0.693147599697113\n",
      "Parameter name: gamma\n",
      "Parameter shape: torch.Size([])\n",
      "Parameter value: Parameter containing:\n",
      "tensor(-0.1520, device='cuda:0', requires_grad=True)\n",
      "\n"
     ]
    },
    {
     "name": "stderr",
     "output_type": "stream",
     "text": [
      "\n",
      "100%|██████████████████████████████████████████| 10/10 [00:00<00:00, 479.11it/s]\n"
     ]
    },
    {
     "name": "stdout",
     "output_type": "stream",
     "text": [
      "Gradient of gamma: 3.8818626535430667e-07\n",
      "Epoch 48 - Loss: 0.693147599697113\n",
      "Parameter name: gamma\n",
      "Parameter shape: torch.Size([])\n",
      "Parameter value: Parameter containing:\n",
      "tensor(-0.1566, device='cuda:0', requires_grad=True)\n",
      "\n"
     ]
    },
    {
     "name": "stderr",
     "output_type": "stream",
     "text": [
      "\n",
      "100%|██████████████████████████████████████████| 10/10 [00:00<00:00, 477.86it/s]\n",
      "100%|███████████████████████████████████████████| 50/50 [00:02<00:00, 18.22it/s]\n"
     ]
    },
    {
     "name": "stdout",
     "output_type": "stream",
     "text": [
      "Gradient of gamma: 3.862783728436625e-07\n",
      "Epoch 49 - Loss: 0.693147599697113\n",
      "Parameter name: gamma\n",
      "Parameter shape: torch.Size([])\n",
      "Parameter value: Parameter containing:\n",
      "tensor(-0.1611, device='cuda:0', requires_grad=True)\n",
      "\n"
     ]
    },
    {
     "name": "stderr",
     "output_type": "stream",
     "text": [
      "  0%|                                                    | 0/50 [00:00<?, ?it/s]\n",
      "100%|██████████████████████████████████████████| 10/10 [00:00<00:00, 429.99it/s]\n"
     ]
    },
    {
     "name": "stdout",
     "output_type": "stream",
     "text": [
      "Gradient of gamma: 0.00013075396418571472\n",
      "Epoch 0 - Loss: 0.6931697130203247\n",
      "Parameter name: gamma\n",
      "Parameter shape: torch.Size([])\n",
      "Parameter value: Parameter containing:\n",
      "tensor(0.9000, device='cuda:0', requires_grad=True)\n",
      "\n"
     ]
    },
    {
     "name": "stderr",
     "output_type": "stream",
     "text": [
      "\n",
      "100%|██████████████████████████████████████████| 10/10 [00:00<00:00, 425.24it/s]\n",
      "  4%|█▊                                          | 2/50 [00:00<00:02, 16.89it/s]"
     ]
    },
    {
     "name": "stdout",
     "output_type": "stream",
     "text": [
      "Gradient of gamma: 6.753066554665565e-05\n",
      "Epoch 1 - Loss: 0.6931601762771606\n",
      "Parameter name: gamma\n",
      "Parameter shape: torch.Size([])\n",
      "Parameter value: Parameter containing:\n",
      "tensor(0.8063, device='cuda:0', requires_grad=True)\n",
      "\n"
     ]
    },
    {
     "name": "stderr",
     "output_type": "stream",
     "text": [
      "\n",
      "100%|██████████████████████████████████████████| 10/10 [00:00<00:00, 451.62it/s]\n"
     ]
    },
    {
     "name": "stdout",
     "output_type": "stream",
     "text": [
      "Gradient of gamma: 3.5823904909193516e-05\n",
      "Epoch 2 - Loss: 0.6931553483009338\n",
      "Parameter name: gamma\n",
      "Parameter shape: torch.Size([])\n",
      "Parameter value: Parameter containing:\n",
      "tensor(0.7209, device='cuda:0', requires_grad=True)\n",
      "\n"
     ]
    },
    {
     "name": "stderr",
     "output_type": "stream",
     "text": [
      "\n",
      "100%|██████████████████████████████████████████| 10/10 [00:00<00:00, 429.79it/s]\n",
      "  8%|███▌                                        | 4/50 [00:00<00:02, 17.22it/s]"
     ]
    },
    {
     "name": "stdout",
     "output_type": "stream",
     "text": [
      "Gradient of gamma: 2.1003943402320147e-05\n",
      "Epoch 3 - Loss: 0.6931530833244324\n",
      "Parameter name: gamma\n",
      "Parameter shape: torch.Size([])\n",
      "Parameter value: Parameter containing:\n",
      "tensor(0.6435, device='cuda:0', requires_grad=True)\n",
      "\n"
     ]
    },
    {
     "name": "stderr",
     "output_type": "stream",
     "text": [
      "\n",
      "100%|██████████████████████████████████████████| 10/10 [00:00<00:00, 441.68it/s]\n"
     ]
    },
    {
     "name": "stdout",
     "output_type": "stream",
     "text": [
      "Gradient of gamma: 1.3424709322862327e-05\n",
      "Epoch 4 - Loss: 0.6931517720222473\n",
      "Parameter name: gamma\n",
      "Parameter shape: torch.Size([])\n",
      "Parameter value: Parameter containing:\n",
      "tensor(0.5736, device='cuda:0', requires_grad=True)\n",
      "\n"
     ]
    },
    {
     "name": "stderr",
     "output_type": "stream",
     "text": [
      "\n",
      "100%|██████████████████████████████████████████| 10/10 [00:00<00:00, 445.12it/s]\n",
      " 12%|█████▎                                      | 6/50 [00:00<00:02, 17.42it/s]"
     ]
    },
    {
     "name": "stdout",
     "output_type": "stream",
     "text": [
      "Gradient of gamma: 9.134084393735975e-06\n",
      "Epoch 5 - Loss: 0.6931508779525757\n",
      "Parameter name: gamma\n",
      "Parameter shape: torch.Size([])\n",
      "Parameter value: Parameter containing:\n",
      "tensor(0.5104, device='cuda:0', requires_grad=True)\n",
      "\n"
     ]
    },
    {
     "name": "stderr",
     "output_type": "stream",
     "text": [
      "\n",
      "100%|██████████████████████████████████████████| 10/10 [00:00<00:00, 457.30it/s]\n"
     ]
    },
    {
     "name": "stdout",
     "output_type": "stream",
     "text": [
      "Gradient of gamma: 6.827380275353789e-06\n",
      "Epoch 6 - Loss: 0.6931504607200623\n",
      "Parameter name: gamma\n",
      "Parameter shape: torch.Size([])\n",
      "Parameter value: Parameter containing:\n",
      "tensor(0.4529, device='cuda:0', requires_grad=True)\n",
      "\n"
     ]
    },
    {
     "name": "stderr",
     "output_type": "stream",
     "text": [
      "\n",
      "100%|██████████████████████████████████████████| 10/10 [00:00<00:00, 460.87it/s]\n",
      " 16%|███████                                     | 8/50 [00:00<00:02, 17.56it/s]"
     ]
    },
    {
     "name": "stdout",
     "output_type": "stream",
     "text": [
      "Gradient of gamma: 5.4681349865859374e-06\n",
      "Epoch 7 - Loss: 0.6931501626968384\n",
      "Parameter name: gamma\n",
      "Parameter shape: torch.Size([])\n",
      "Parameter value: Parameter containing:\n",
      "tensor(0.4006, device='cuda:0', requires_grad=True)\n",
      "\n"
     ]
    },
    {
     "name": "stderr",
     "output_type": "stream",
     "text": [
      "\n",
      "100%|██████████████████████████████████████████| 10/10 [00:00<00:00, 463.27it/s]\n"
     ]
    },
    {
     "name": "stdout",
     "output_type": "stream",
     "text": [
      "Gradient of gamma: 4.612240445567295e-06\n",
      "Epoch 8 - Loss: 0.6931498646736145\n",
      "Parameter name: gamma\n",
      "Parameter shape: torch.Size([])\n",
      "Parameter value: Parameter containing:\n",
      "tensor(0.3527, device='cuda:0', requires_grad=True)\n",
      "\n"
     ]
    },
    {
     "name": "stderr",
     "output_type": "stream",
     "text": [
      "\n",
      "100%|██████████████████████████████████████████| 10/10 [00:00<00:00, 454.90it/s]\n",
      " 20%|████████▌                                  | 10/50 [00:00<00:02, 17.63it/s]"
     ]
    },
    {
     "name": "stdout",
     "output_type": "stream",
     "text": [
      "Gradient of gamma: 3.8498219510074705e-06\n",
      "Epoch 9 - Loss: 0.6931496858596802\n",
      "Parameter name: gamma\n",
      "Parameter shape: torch.Size([])\n",
      "Parameter value: Parameter containing:\n",
      "tensor(0.3087, device='cuda:0', requires_grad=True)\n",
      "\n"
     ]
    },
    {
     "name": "stderr",
     "output_type": "stream",
     "text": [
      "\n",
      "100%|██████████████████████████████████████████| 10/10 [00:00<00:00, 481.74it/s]\n"
     ]
    },
    {
     "name": "stdout",
     "output_type": "stream",
     "text": [
      "Gradient of gamma: 3.3665658065729076e-06\n",
      "Epoch 10 - Loss: 0.6931494474411011\n",
      "Parameter name: gamma\n",
      "Parameter shape: torch.Size([])\n",
      "Parameter value: Parameter containing:\n",
      "tensor(0.2682, device='cuda:0', requires_grad=True)\n",
      "\n"
     ]
    },
    {
     "name": "stderr",
     "output_type": "stream",
     "text": [
      "\n",
      "100%|██████████████████████████████████████████| 10/10 [00:00<00:00, 476.53it/s]\n",
      " 24%|██████████▎                                | 12/50 [00:00<00:02, 17.88it/s]"
     ]
    },
    {
     "name": "stdout",
     "output_type": "stream",
     "text": [
      "Gradient of gamma: 3.0386538583115907e-06\n",
      "Epoch 11 - Loss: 0.6931494474411011\n",
      "Parameter name: gamma\n",
      "Parameter shape: torch.Size([])\n",
      "Parameter value: Parameter containing:\n",
      "tensor(0.2309, device='cuda:0', requires_grad=True)\n",
      "\n"
     ]
    },
    {
     "name": "stderr",
     "output_type": "stream",
     "text": [
      "\n",
      "100%|██████████████████████████████████████████| 10/10 [00:00<00:00, 460.60it/s]\n"
     ]
    },
    {
     "name": "stdout",
     "output_type": "stream",
     "text": [
      "Gradient of gamma: 2.7126829991175327e-06\n",
      "Epoch 12 - Loss: 0.6931493282318115\n",
      "Parameter name: gamma\n",
      "Parameter shape: torch.Size([])\n",
      "Parameter value: Parameter containing:\n",
      "tensor(0.1964, device='cuda:0', requires_grad=True)\n",
      "\n"
     ]
    },
    {
     "name": "stderr",
     "output_type": "stream",
     "text": [
      "\n",
      "100%|██████████████████████████████████████████| 10/10 [00:00<00:00, 423.66it/s]\n",
      " 28%|████████████                               | 14/50 [00:00<00:02, 17.58it/s]"
     ]
    },
    {
     "name": "stdout",
     "output_type": "stream",
     "text": [
      "Gradient of gamma: 2.5034489681274863e-06\n",
      "Epoch 13 - Loss: 0.693149209022522\n",
      "Parameter name: gamma\n",
      "Parameter shape: torch.Size([])\n",
      "Parameter value: Parameter containing:\n",
      "tensor(0.1645, device='cuda:0', requires_grad=True)\n",
      "\n"
     ]
    },
    {
     "name": "stderr",
     "output_type": "stream",
     "text": [
      "\n",
      "100%|██████████████████████████████████████████| 10/10 [00:00<00:00, 461.41it/s]\n"
     ]
    },
    {
     "name": "stdout",
     "output_type": "stream",
     "text": [
      "Gradient of gamma: 2.2823878680355847e-06\n",
      "Epoch 14 - Loss: 0.6931490898132324\n",
      "Parameter name: gamma\n",
      "Parameter shape: torch.Size([])\n",
      "Parameter value: Parameter containing:\n",
      "tensor(0.1348, device='cuda:0', requires_grad=True)\n",
      "\n"
     ]
    },
    {
     "name": "stderr",
     "output_type": "stream",
     "text": [
      "\n",
      "100%|██████████████████████████████████████████| 10/10 [00:00<00:00, 497.98it/s]\n",
      " 32%|█████████████▊                             | 16/50 [00:00<00:01, 17.84it/s]"
     ]
    },
    {
     "name": "stdout",
     "output_type": "stream",
     "text": [
      "Gradient of gamma: 2.1375922187871765e-06\n",
      "Epoch 15 - Loss: 0.6931489706039429\n",
      "Parameter name: gamma\n",
      "Parameter shape: torch.Size([])\n",
      "Parameter value: Parameter containing:\n",
      "tensor(0.1073, device='cuda:0', requires_grad=True)\n",
      "\n"
     ]
    },
    {
     "name": "stderr",
     "output_type": "stream",
     "text": [
      "\n",
      "100%|██████████████████████████████████████████| 10/10 [00:00<00:00, 501.11it/s]\n"
     ]
    },
    {
     "name": "stdout",
     "output_type": "stream",
     "text": [
      "Gradient of gamma: 2.0211766695865663e-06\n",
      "Epoch 16 - Loss: 0.6931489706039429\n",
      "Parameter name: gamma\n",
      "Parameter shape: torch.Size([])\n",
      "Parameter value: Parameter containing:\n",
      "tensor(0.0817, device='cuda:0', requires_grad=True)\n",
      "\n"
     ]
    },
    {
     "name": "stderr",
     "output_type": "stream",
     "text": [
      "\n",
      "100%|██████████████████████████████████████████| 10/10 [00:00<00:00, 454.59it/s]\n",
      " 36%|███████████████▍                           | 18/50 [00:01<00:01, 17.98it/s]"
     ]
    },
    {
     "name": "stdout",
     "output_type": "stream",
     "text": [
      "Gradient of gamma: 1.9307083221065113e-06\n",
      "Epoch 17 - Loss: 0.6931489706039429\n",
      "Parameter name: gamma\n",
      "Parameter shape: torch.Size([])\n",
      "Parameter value: Parameter containing:\n",
      "tensor(0.0578, device='cuda:0', requires_grad=True)\n",
      "\n"
     ]
    },
    {
     "name": "stderr",
     "output_type": "stream",
     "text": [
      "\n",
      "100%|██████████████████████████████████████████| 10/10 [00:00<00:00, 470.60it/s]\n"
     ]
    },
    {
     "name": "stdout",
     "output_type": "stream",
     "text": [
      "Gradient of gamma: 1.7735872006596765e-06\n",
      "Epoch 18 - Loss: 0.6931488513946533\n",
      "Parameter name: gamma\n",
      "Parameter shape: torch.Size([])\n",
      "Parameter value: Parameter containing:\n",
      "tensor(0.0355, device='cuda:0', requires_grad=True)\n",
      "\n"
     ]
    },
    {
     "name": "stderr",
     "output_type": "stream",
     "text": [
      "\n",
      "100%|██████████████████████████████████████████| 10/10 [00:00<00:00, 446.04it/s]\n",
      " 40%|█████████████████▏                         | 20/50 [00:01<00:01, 17.99it/s]"
     ]
    },
    {
     "name": "stdout",
     "output_type": "stream",
     "text": [
      "Gradient of gamma: 1.730365511320997e-06\n",
      "Epoch 19 - Loss: 0.6931488513946533\n",
      "Parameter name: gamma\n",
      "Parameter shape: torch.Size([])\n",
      "Parameter value: Parameter containing:\n",
      "tensor(0.0146, device='cuda:0', requires_grad=True)\n",
      "\n"
     ]
    },
    {
     "name": "stderr",
     "output_type": "stream",
     "text": [
      "\n",
      "100%|██████████████████████████████████████████| 10/10 [00:00<00:00, 493.23it/s]\n"
     ]
    },
    {
     "name": "stdout",
     "output_type": "stream",
     "text": [
      "Gradient of gamma: 1.6327395542248269e-06\n",
      "Epoch 20 - Loss: 0.6931488513946533\n",
      "Parameter name: gamma\n",
      "Parameter shape: torch.Size([])\n",
      "Parameter value: Parameter containing:\n",
      "tensor(-0.0049, device='cuda:0', requires_grad=True)\n",
      "\n"
     ]
    },
    {
     "name": "stderr",
     "output_type": "stream",
     "text": [
      "\n",
      "100%|██████████████████████████████████████████| 10/10 [00:00<00:00, 471.44it/s]\n",
      " 44%|██████████████████▉                        | 22/50 [00:01<00:01, 18.08it/s]"
     ]
    },
    {
     "name": "stdout",
     "output_type": "stream",
     "text": [
      "Gradient of gamma: 1.600552536729083e-06\n",
      "Epoch 21 - Loss: 0.6931487917900085\n",
      "Parameter name: gamma\n",
      "Parameter shape: torch.Size([])\n",
      "Parameter value: Parameter containing:\n",
      "tensor(-0.0232, device='cuda:0', requires_grad=True)\n",
      "\n"
     ]
    },
    {
     "name": "stderr",
     "output_type": "stream",
     "text": [
      "\n",
      "100%|██████████████████████████████████████████| 10/10 [00:00<00:00, 498.36it/s]\n"
     ]
    },
    {
     "name": "stdout",
     "output_type": "stream",
     "text": [
      "Gradient of gamma: 1.5587235111524933e-06\n",
      "Epoch 22 - Loss: 0.6931487917900085\n",
      "Parameter name: gamma\n",
      "Parameter shape: torch.Size([])\n",
      "Parameter value: Parameter containing:\n",
      "tensor(-0.0404, device='cuda:0', requires_grad=True)\n",
      "\n"
     ]
    },
    {
     "name": "stderr",
     "output_type": "stream",
     "text": [
      "\n",
      "100%|██████████████████████████████████████████| 10/10 [00:00<00:00, 499.02it/s]\n",
      " 48%|████████████████████▋                      | 24/50 [00:01<00:01, 18.22it/s]"
     ]
    },
    {
     "name": "stdout",
     "output_type": "stream",
     "text": [
      "Gradient of gamma: 1.4734051774212276e-06\n",
      "Epoch 23 - Loss: 0.6931487321853638\n",
      "Parameter name: gamma\n",
      "Parameter shape: torch.Size([])\n",
      "Parameter value: Parameter containing:\n",
      "tensor(-0.0566, device='cuda:0', requires_grad=True)\n",
      "\n"
     ]
    },
    {
     "name": "stderr",
     "output_type": "stream",
     "text": [
      "\n",
      "100%|██████████████████████████████████████████| 10/10 [00:00<00:00, 498.93it/s]\n"
     ]
    },
    {
     "name": "stdout",
     "output_type": "stream",
     "text": [
      "Gradient of gamma: 1.4512543202727102e-06\n",
      "Epoch 24 - Loss: 0.6931487321853638\n",
      "Parameter name: gamma\n",
      "Parameter shape: torch.Size([])\n",
      "Parameter value: Parameter containing:\n",
      "tensor(-0.0718, device='cuda:0', requires_grad=True)\n",
      "\n"
     ]
    },
    {
     "name": "stderr",
     "output_type": "stream",
     "text": [
      "\n",
      "100%|██████████████████████████████████████████| 10/10 [00:00<00:00, 517.85it/s]\n",
      " 52%|██████████████████████▎                    | 26/50 [00:01<00:01, 18.37it/s]"
     ]
    },
    {
     "name": "stdout",
     "output_type": "stream",
     "text": [
      "Gradient of gamma: 1.402779503223428e-06\n",
      "Epoch 25 - Loss: 0.693148672580719\n",
      "Parameter name: gamma\n",
      "Parameter shape: torch.Size([])\n",
      "Parameter value: Parameter containing:\n",
      "tensor(-0.0862, device='cuda:0', requires_grad=True)\n",
      "\n"
     ]
    },
    {
     "name": "stderr",
     "output_type": "stream",
     "text": [
      "\n",
      "100%|██████████████████████████████████████████| 10/10 [00:00<00:00, 481.79it/s]\n"
     ]
    },
    {
     "name": "stdout",
     "output_type": "stream",
     "text": [
      "Gradient of gamma: 1.3476934555001208e-06\n",
      "Epoch 26 - Loss: 0.693148672580719\n",
      "Parameter name: gamma\n",
      "Parameter shape: torch.Size([])\n",
      "Parameter value: Parameter containing:\n",
      "tensor(-0.0998, device='cuda:0', requires_grad=True)\n",
      "\n"
     ]
    },
    {
     "name": "stderr",
     "output_type": "stream",
     "text": [
      "\n",
      "100%|██████████████████████████████████████████| 10/10 [00:00<00:00, 512.89it/s]\n",
      " 56%|████████████████████████                   | 28/50 [00:01<00:01, 18.29it/s]"
     ]
    },
    {
     "name": "stdout",
     "output_type": "stream",
     "text": [
      "Gradient of gamma: 1.2998589227208868e-06\n",
      "Epoch 27 - Loss: 0.6931486129760742\n",
      "Parameter name: gamma\n",
      "Parameter shape: torch.Size([])\n",
      "Parameter value: Parameter containing:\n",
      "tensor(-0.1127, device='cuda:0', requires_grad=True)\n",
      "\n"
     ]
    },
    {
     "name": "stderr",
     "output_type": "stream",
     "text": [
      "\n",
      "100%|██████████████████████████████████████████| 10/10 [00:00<00:00, 497.13it/s]\n"
     ]
    },
    {
     "name": "stdout",
     "output_type": "stream",
     "text": [
      "Gradient of gamma: 1.2838326028941083e-06\n",
      "Epoch 28 - Loss: 0.6931485533714294\n",
      "Parameter name: gamma\n",
      "Parameter shape: torch.Size([])\n",
      "Parameter value: Parameter containing:\n",
      "tensor(-0.1249, device='cuda:0', requires_grad=True)\n",
      "\n"
     ]
    },
    {
     "name": "stderr",
     "output_type": "stream",
     "text": [
      "\n",
      "100%|██████████████████████████████████████████| 10/10 [00:00<00:00, 491.51it/s]\n",
      " 60%|█████████████████████████▊                 | 30/50 [00:01<00:01, 18.45it/s]"
     ]
    },
    {
     "name": "stdout",
     "output_type": "stream",
     "text": [
      "Gradient of gamma: 1.2726096656479058e-06\n",
      "Epoch 29 - Loss: 0.6931486129760742\n",
      "Parameter name: gamma\n",
      "Parameter shape: torch.Size([])\n",
      "Parameter value: Parameter containing:\n",
      "tensor(-0.1364, device='cuda:0', requires_grad=True)\n",
      "\n"
     ]
    },
    {
     "name": "stderr",
     "output_type": "stream",
     "text": [
      "\n",
      "100%|██████████████████████████████████████████| 10/10 [00:00<00:00, 491.77it/s]\n"
     ]
    },
    {
     "name": "stdout",
     "output_type": "stream",
     "text": [
      "Gradient of gamma: 1.2588077424879884e-06\n",
      "Epoch 30 - Loss: 0.6931486129760742\n",
      "Parameter name: gamma\n",
      "Parameter shape: torch.Size([])\n",
      "Parameter value: Parameter containing:\n",
      "tensor(-0.1474, device='cuda:0', requires_grad=True)\n",
      "\n"
     ]
    },
    {
     "name": "stderr",
     "output_type": "stream",
     "text": [
      "\n",
      "100%|██████████████████████████████████████████| 10/10 [00:00<00:00, 499.26it/s]\n",
      " 64%|███████████████████████████▌               | 32/50 [00:01<00:00, 18.44it/s]"
     ]
    },
    {
     "name": "stdout",
     "output_type": "stream",
     "text": [
      "Gradient of gamma: 1.2533174640338984e-06\n",
      "Epoch 31 - Loss: 0.6931486129760742\n",
      "Parameter name: gamma\n",
      "Parameter shape: torch.Size([])\n",
      "Parameter value: Parameter containing:\n",
      "tensor(-0.1580, device='cuda:0', requires_grad=True)\n",
      "\n"
     ]
    },
    {
     "name": "stderr",
     "output_type": "stream",
     "text": [
      "\n",
      "100%|██████████████████████████████████████████| 10/10 [00:00<00:00, 499.46it/s]\n"
     ]
    },
    {
     "name": "stdout",
     "output_type": "stream",
     "text": [
      "Gradient of gamma: 1.1829965842480306e-06\n",
      "Epoch 32 - Loss: 0.6931486129760742\n",
      "Parameter name: gamma\n",
      "Parameter shape: torch.Size([])\n",
      "Parameter value: Parameter containing:\n",
      "tensor(-0.1680, device='cuda:0', requires_grad=True)\n",
      "\n"
     ]
    },
    {
     "name": "stderr",
     "output_type": "stream",
     "text": [
      "\n",
      "100%|██████████████████████████████████████████| 10/10 [00:00<00:00, 498.79it/s]\n",
      " 68%|█████████████████████████████▏             | 34/50 [00:01<00:00, 18.47it/s]"
     ]
    },
    {
     "name": "stdout",
     "output_type": "stream",
     "text": [
      "Gradient of gamma: 1.1734525742213009e-06\n",
      "Epoch 33 - Loss: 0.6931485533714294\n",
      "Parameter name: gamma\n",
      "Parameter shape: torch.Size([])\n",
      "Parameter value: Parameter containing:\n",
      "tensor(-0.1776, device='cuda:0', requires_grad=True)\n",
      "\n"
     ]
    },
    {
     "name": "stderr",
     "output_type": "stream",
     "text": [
      "\n",
      "100%|██████████████████████████████████████████| 10/10 [00:00<00:00, 493.96it/s]\n"
     ]
    },
    {
     "name": "stdout",
     "output_type": "stream",
     "text": [
      "Gradient of gamma: 1.1637803254416212e-06\n",
      "Epoch 34 - Loss: 0.6931484937667847\n",
      "Parameter name: gamma\n",
      "Parameter shape: torch.Size([])\n",
      "Parameter value: Parameter containing:\n",
      "tensor(-0.1868, device='cuda:0', requires_grad=True)\n",
      "\n"
     ]
    },
    {
     "name": "stderr",
     "output_type": "stream",
     "text": [
      "\n",
      "100%|██████████████████████████████████████████| 10/10 [00:00<00:00, 497.04it/s]\n",
      " 72%|██████████████████████████████▉            | 36/50 [00:01<00:00, 18.45it/s]"
     ]
    },
    {
     "name": "stdout",
     "output_type": "stream",
     "text": [
      "Gradient of gamma: 1.1564686701603932e-06\n",
      "Epoch 35 - Loss: 0.6931484937667847\n",
      "Parameter name: gamma\n",
      "Parameter shape: torch.Size([])\n",
      "Parameter value: Parameter containing:\n",
      "tensor(-0.1957, device='cuda:0', requires_grad=True)\n",
      "\n"
     ]
    },
    {
     "name": "stderr",
     "output_type": "stream",
     "text": [
      "\n",
      "100%|██████████████████████████████████████████| 10/10 [00:00<00:00, 493.82it/s]\n"
     ]
    },
    {
     "name": "stdout",
     "output_type": "stream",
     "text": [
      "Gradient of gamma: 1.1345287020958494e-06\n",
      "Epoch 36 - Loss: 0.6931484937667847\n",
      "Parameter name: gamma\n",
      "Parameter shape: torch.Size([])\n",
      "Parameter value: Parameter containing:\n",
      "tensor(-0.2042, device='cuda:0', requires_grad=True)\n",
      "\n"
     ]
    },
    {
     "name": "stderr",
     "output_type": "stream",
     "text": [
      "\n",
      "100%|██████████████████████████████████████████| 10/10 [00:00<00:00, 497.47it/s]\n",
      " 76%|████████████████████████████████▋          | 38/50 [00:02<00:00, 18.53it/s]"
     ]
    },
    {
     "name": "stdout",
     "output_type": "stream",
     "text": [
      "Gradient of gamma: 1.1001554867107188e-06\n",
      "Epoch 37 - Loss: 0.6931484937667847\n",
      "Parameter name: gamma\n",
      "Parameter shape: torch.Size([])\n",
      "Parameter value: Parameter containing:\n",
      "tensor(-0.2124, device='cuda:0', requires_grad=True)\n",
      "\n"
     ]
    },
    {
     "name": "stderr",
     "output_type": "stream",
     "text": [
      "\n",
      "100%|██████████████████████████████████████████| 10/10 [00:00<00:00, 496.72it/s]\n"
     ]
    },
    {
     "name": "stdout",
     "output_type": "stream",
     "text": [
      "Gradient of gamma: 1.0948452882075799e-06\n",
      "Epoch 38 - Loss: 0.6931484937667847\n",
      "Parameter name: gamma\n",
      "Parameter shape: torch.Size([])\n",
      "Parameter value: Parameter containing:\n",
      "tensor(-0.2203, device='cuda:0', requires_grad=True)\n",
      "\n"
     ]
    },
    {
     "name": "stderr",
     "output_type": "stream",
     "text": [
      "\n",
      "100%|██████████████████████████████████████████| 10/10 [00:00<00:00, 497.16it/s]\n",
      " 80%|██████████████████████████████████▍        | 40/50 [00:02<00:00, 18.45it/s]"
     ]
    },
    {
     "name": "stdout",
     "output_type": "stream",
     "text": [
      "Gradient of gamma: 1.0879989531531464e-06\n",
      "Epoch 39 - Loss: 0.6931484937667847\n",
      "Parameter name: gamma\n",
      "Parameter shape: torch.Size([])\n",
      "Parameter value: Parameter containing:\n",
      "tensor(-0.2280, device='cuda:0', requires_grad=True)\n",
      "\n"
     ]
    },
    {
     "name": "stderr",
     "output_type": "stream",
     "text": [
      "\n",
      "100%|██████████████████████████████████████████| 10/10 [00:00<00:00, 477.35it/s]\n"
     ]
    },
    {
     "name": "stdout",
     "output_type": "stream",
     "text": [
      "Gradient of gamma: 1.0800356449180981e-06\n",
      "Epoch 40 - Loss: 0.6931484937667847\n",
      "Parameter name: gamma\n",
      "Parameter shape: torch.Size([])\n",
      "Parameter value: Parameter containing:\n",
      "tensor(-0.2354, device='cuda:0', requires_grad=True)\n",
      "\n"
     ]
    },
    {
     "name": "stderr",
     "output_type": "stream",
     "text": [
      "\n",
      "100%|██████████████████████████████████████████| 10/10 [00:00<00:00, 498.34it/s]\n",
      " 84%|████████████████████████████████████       | 42/50 [00:02<00:00, 18.38it/s]"
     ]
    },
    {
     "name": "stdout",
     "output_type": "stream",
     "text": [
      "Gradient of gamma: 1.0735695923358435e-06\n",
      "Epoch 41 - Loss: 0.6931484937667847\n",
      "Parameter name: gamma\n",
      "Parameter shape: torch.Size([])\n",
      "Parameter value: Parameter containing:\n",
      "tensor(-0.2426, device='cuda:0', requires_grad=True)\n",
      "\n"
     ]
    },
    {
     "name": "stderr",
     "output_type": "stream",
     "text": [
      "\n",
      "100%|██████████████████████████████████████████| 10/10 [00:00<00:00, 496.84it/s]\n"
     ]
    },
    {
     "name": "stdout",
     "output_type": "stream",
     "text": [
      "Gradient of gamma: 1.0669485845937743e-06\n",
      "Epoch 42 - Loss: 0.6931484937667847\n",
      "Parameter name: gamma\n",
      "Parameter shape: torch.Size([])\n",
      "Parameter value: Parameter containing:\n",
      "tensor(-0.2497, device='cuda:0', requires_grad=True)\n",
      "\n"
     ]
    },
    {
     "name": "stderr",
     "output_type": "stream",
     "text": [
      "\n",
      "100%|██████████████████████████████████████████| 10/10 [00:00<00:00, 502.21it/s]\n",
      " 88%|█████████████████████████████████████▊     | 44/50 [00:02<00:00, 18.44it/s]"
     ]
    },
    {
     "name": "stdout",
     "output_type": "stream",
     "text": [
      "Gradient of gamma: 1.0623959951772122e-06\n",
      "Epoch 43 - Loss: 0.6931484937667847\n",
      "Parameter name: gamma\n",
      "Parameter shape: torch.Size([])\n",
      "Parameter value: Parameter containing:\n",
      "tensor(-0.2565, device='cuda:0', requires_grad=True)\n",
      "\n"
     ]
    },
    {
     "name": "stderr",
     "output_type": "stream",
     "text": [
      "\n",
      "100%|██████████████████████████████████████████| 10/10 [00:00<00:00, 498.66it/s]\n"
     ]
    },
    {
     "name": "stdout",
     "output_type": "stream",
     "text": [
      "Gradient of gamma: 1.0645603651937563e-06\n",
      "Epoch 44 - Loss: 0.6931484937667847\n",
      "Parameter name: gamma\n",
      "Parameter shape: torch.Size([])\n",
      "Parameter value: Parameter containing:\n",
      "tensor(-0.2632, device='cuda:0', requires_grad=True)\n",
      "\n"
     ]
    },
    {
     "name": "stderr",
     "output_type": "stream",
     "text": [
      "\n",
      "100%|██████████████████████████████████████████| 10/10 [00:00<00:00, 495.65it/s]\n",
      " 92%|███████████████████████████████████████▌   | 46/50 [00:02<00:00, 18.49it/s]"
     ]
    },
    {
     "name": "stdout",
     "output_type": "stream",
     "text": [
      "Gradient of gamma: 1.0652496484908625e-06\n",
      "Epoch 45 - Loss: 0.6931484937667847\n",
      "Parameter name: gamma\n",
      "Parameter shape: torch.Size([])\n",
      "Parameter value: Parameter containing:\n",
      "tensor(-0.2698, device='cuda:0', requires_grad=True)\n",
      "\n"
     ]
    },
    {
     "name": "stderr",
     "output_type": "stream",
     "text": [
      "\n",
      "100%|██████████████████████████████████████████| 10/10 [00:00<00:00, 496.24it/s]\n"
     ]
    },
    {
     "name": "stdout",
     "output_type": "stream",
     "text": [
      "Gradient of gamma: 9.907217872751062e-07\n",
      "Epoch 46 - Loss: 0.6931484937667847\n",
      "Parameter name: gamma\n",
      "Parameter shape: torch.Size([])\n",
      "Parameter value: Parameter containing:\n",
      "tensor(-0.2763, device='cuda:0', requires_grad=True)\n",
      "\n"
     ]
    },
    {
     "name": "stderr",
     "output_type": "stream",
     "text": [
      "\n",
      "100%|██████████████████████████████████████████| 10/10 [00:00<00:00, 498.27it/s]\n",
      " 96%|█████████████████████████████████████████▎ | 48/50 [00:02<00:00, 18.49it/s]"
     ]
    },
    {
     "name": "stdout",
     "output_type": "stream",
     "text": [
      "Gradient of gamma: 1.080596803149092e-06\n",
      "Epoch 47 - Loss: 0.6931484341621399\n",
      "Parameter name: gamma\n",
      "Parameter shape: torch.Size([])\n",
      "Parameter value: Parameter containing:\n",
      "tensor(-0.2826, device='cuda:0', requires_grad=True)\n",
      "\n"
     ]
    },
    {
     "name": "stderr",
     "output_type": "stream",
     "text": [
      "\n",
      "100%|██████████████████████████████████████████| 10/10 [00:00<00:00, 497.51it/s]\n"
     ]
    },
    {
     "name": "stdout",
     "output_type": "stream",
     "text": [
      "Gradient of gamma: 1.0043745533039328e-06\n",
      "Epoch 48 - Loss: 0.6931484341621399\n",
      "Parameter name: gamma\n",
      "Parameter shape: torch.Size([])\n",
      "Parameter value: Parameter containing:\n",
      "tensor(-0.2888, device='cuda:0', requires_grad=True)\n",
      "\n"
     ]
    },
    {
     "name": "stderr",
     "output_type": "stream",
     "text": [
      "\n",
      "100%|██████████████████████████████████████████| 10/10 [00:00<00:00, 485.36it/s]\n",
      "100%|███████████████████████████████████████████| 50/50 [00:02<00:00, 18.16it/s]\n"
     ]
    },
    {
     "name": "stdout",
     "output_type": "stream",
     "text": [
      "Gradient of gamma: 9.99066287477035e-07\n",
      "Epoch 49 - Loss: 0.6931484341621399\n",
      "Parameter name: gamma\n",
      "Parameter shape: torch.Size([])\n",
      "Parameter value: Parameter containing:\n",
      "tensor(-0.2950, device='cuda:0', requires_grad=True)\n",
      "\n"
     ]
    },
    {
     "name": "stderr",
     "output_type": "stream",
     "text": [
      "  0%|                                                    | 0/50 [00:00<?, ?it/s]\n",
      "100%|██████████████████████████████████████████| 10/10 [00:00<00:00, 400.80it/s]\n"
     ]
    },
    {
     "name": "stdout",
     "output_type": "stream",
     "text": [
      "Gradient of gamma: 0.00010384805500507355\n",
      "Epoch 0 - Loss: 0.6931269764900208\n",
      "Parameter name: gamma\n",
      "Parameter shape: torch.Size([])\n",
      "Parameter value: Parameter containing:\n",
      "tensor(1.1000, device='cuda:0', requires_grad=True)\n",
      "\n"
     ]
    },
    {
     "name": "stderr",
     "output_type": "stream",
     "text": [
      "\n",
      "100%|██████████████████████████████████████████| 10/10 [00:00<00:00, 455.56it/s]\n",
      "  4%|█▊                                          | 2/50 [00:00<00:02, 17.05it/s]"
     ]
    },
    {
     "name": "stdout",
     "output_type": "stream",
     "text": [
      "Gradient of gamma: 0.00018781470134854317\n",
      "Epoch 1 - Loss: 0.6931127309799194\n",
      "Parameter name: gamma\n",
      "Parameter shape: torch.Size([])\n",
      "Parameter value: Parameter containing:\n",
      "tensor(1.1975, device='cuda:0', requires_grad=True)\n",
      "\n"
     ]
    },
    {
     "name": "stderr",
     "output_type": "stream",
     "text": [
      "\n",
      "100%|██████████████████████████████████████████| 10/10 [00:00<00:00, 488.11it/s]\n"
     ]
    },
    {
     "name": "stdout",
     "output_type": "stream",
     "text": [
      "Gradient of gamma: 0.0003290819004178047\n",
      "Epoch 2 - Loss: 0.6930880546569824\n",
      "Parameter name: gamma\n",
      "Parameter shape: torch.Size([])\n",
      "Parameter value: Parameter containing:\n",
      "tensor(1.2922, device='cuda:0', requires_grad=True)\n",
      "\n"
     ]
    },
    {
     "name": "stderr",
     "output_type": "stream",
     "text": [
      "\n",
      "100%|██████████████████████████████████████████| 10/10 [00:00<00:00, 486.38it/s]\n",
      "  8%|███▌                                        | 4/50 [00:00<00:02, 17.83it/s]"
     ]
    },
    {
     "name": "stdout",
     "output_type": "stream",
     "text": [
      "Gradient of gamma: 0.0005501089617609978\n",
      "Epoch 3 - Loss: 0.6930478811264038\n",
      "Parameter name: gamma\n",
      "Parameter shape: torch.Size([])\n",
      "Parameter value: Parameter containing:\n",
      "tensor(1.3846, device='cuda:0', requires_grad=True)\n",
      "\n"
     ]
    },
    {
     "name": "stderr",
     "output_type": "stream",
     "text": [
      "\n",
      "100%|██████████████████████████████████████████| 10/10 [00:00<00:00, 478.08it/s]\n"
     ]
    },
    {
     "name": "stdout",
     "output_type": "stream",
     "text": [
      "Gradient of gamma: 0.000894513912498951\n",
      "Epoch 4 - Loss: 0.6929821968078613\n",
      "Parameter name: gamma\n",
      "Parameter shape: torch.Size([])\n",
      "Parameter value: Parameter containing:\n",
      "tensor(1.4751, device='cuda:0', requires_grad=True)\n",
      "\n"
     ]
    },
    {
     "name": "stderr",
     "output_type": "stream",
     "text": [
      "\n",
      "100%|██████████████████████████████████████████| 10/10 [00:00<00:00, 488.82it/s]\n",
      " 12%|█████▎                                      | 6/50 [00:00<00:02, 18.11it/s]"
     ]
    },
    {
     "name": "stdout",
     "output_type": "stream",
     "text": [
      "Gradient of gamma: 0.0014172829687595367\n",
      "Epoch 5 - Loss: 0.6928779482841492\n",
      "Parameter name: gamma\n",
      "Parameter shape: torch.Size([])\n",
      "Parameter value: Parameter containing:\n",
      "tensor(1.5645, device='cuda:0', requires_grad=True)\n",
      "\n"
     ]
    },
    {
     "name": "stderr",
     "output_type": "stream",
     "text": [
      "\n",
      "100%|██████████████████████████████████████████| 10/10 [00:00<00:00, 475.87it/s]\n"
     ]
    },
    {
     "name": "stdout",
     "output_type": "stream",
     "text": [
      "Gradient of gamma: 0.0021656937897205353\n",
      "Epoch 6 - Loss: 0.6927216649055481\n",
      "Parameter name: gamma\n",
      "Parameter shape: torch.Size([])\n",
      "Parameter value: Parameter containing:\n",
      "tensor(1.6534, device='cuda:0', requires_grad=True)\n",
      "\n"
     ]
    },
    {
     "name": "stderr",
     "output_type": "stream",
     "text": [
      "\n",
      "100%|██████████████████████████████████████████| 10/10 [00:00<00:00, 472.84it/s]\n",
      " 16%|███████                                     | 8/50 [00:00<00:02, 18.13it/s]"
     ]
    },
    {
     "name": "stdout",
     "output_type": "stream",
     "text": [
      "Gradient of gamma: 0.0032630693167448044\n",
      "Epoch 7 - Loss: 0.6924819350242615\n",
      "Parameter name: gamma\n",
      "Parameter shape: torch.Size([])\n",
      "Parameter value: Parameter containing:\n",
      "tensor(1.7421, device='cuda:0', requires_grad=True)\n",
      "\n"
     ]
    },
    {
     "name": "stderr",
     "output_type": "stream",
     "text": [
      "\n",
      "100%|██████████████████████████████████████████| 10/10 [00:00<00:00, 464.51it/s]\n"
     ]
    },
    {
     "name": "stdout",
     "output_type": "stream",
     "text": [
      "Gradient of gamma: 0.004798810463398695\n",
      "Epoch 8 - Loss: 0.6921316981315613\n",
      "Parameter name: gamma\n",
      "Parameter shape: torch.Size([])\n",
      "Parameter value: Parameter containing:\n",
      "tensor(1.8311, device='cuda:0', requires_grad=True)\n",
      "\n"
     ]
    },
    {
     "name": "stderr",
     "output_type": "stream",
     "text": [
      "\n",
      "100%|██████████████████████████████████████████| 10/10 [00:00<00:00, 479.90it/s]\n",
      " 20%|████████▌                                  | 10/50 [00:00<00:02, 18.18it/s]"
     ]
    },
    {
     "name": "stdout",
     "output_type": "stream",
     "text": [
      "Gradient of gamma: 0.007003845646977425\n",
      "Epoch 9 - Loss: 0.6916056871414185\n",
      "Parameter name: gamma\n",
      "Parameter shape: torch.Size([])\n",
      "Parameter value: Parameter containing:\n",
      "tensor(1.9205, device='cuda:0', requires_grad=True)\n",
      "\n"
     ]
    },
    {
     "name": "stderr",
     "output_type": "stream",
     "text": [
      "\n",
      "100%|██████████████████████████████████████████| 10/10 [00:00<00:00, 487.68it/s]\n"
     ]
    },
    {
     "name": "stdout",
     "output_type": "stream",
     "text": [
      "Gradient of gamma: 0.010031484998762608\n",
      "Epoch 10 - Loss: 0.6908506751060486\n",
      "Parameter name: gamma\n",
      "Parameter shape: torch.Size([])\n",
      "Parameter value: Parameter containing:\n",
      "tensor(2.0107, device='cuda:0', requires_grad=True)\n",
      "\n"
     ]
    },
    {
     "name": "stderr",
     "output_type": "stream",
     "text": [
      "\n",
      "100%|██████████████████████████████████████████| 10/10 [00:00<00:00, 484.16it/s]\n",
      " 24%|██████████▎                                | 12/50 [00:00<00:02, 18.35it/s]"
     ]
    },
    {
     "name": "stdout",
     "output_type": "stream",
     "text": [
      "Gradient of gamma: 0.014174560084939003\n",
      "Epoch 11 - Loss: 0.6897729635238647\n",
      "Parameter name: gamma\n",
      "Parameter shape: torch.Size([])\n",
      "Parameter value: Parameter containing:\n",
      "tensor(2.1017, device='cuda:0', requires_grad=True)\n",
      "\n"
     ]
    },
    {
     "name": "stderr",
     "output_type": "stream",
     "text": [
      "\n",
      "100%|██████████████████████████████████████████| 10/10 [00:00<00:00, 494.08it/s]\n"
     ]
    },
    {
     "name": "stdout",
     "output_type": "stream",
     "text": [
      "Gradient of gamma: 0.019843166694045067\n",
      "Epoch 12 - Loss: 0.6882377862930298\n",
      "Parameter name: gamma\n",
      "Parameter shape: torch.Size([])\n",
      "Parameter value: Parameter containing:\n",
      "tensor(2.1938, device='cuda:0', requires_grad=True)\n",
      "\n"
     ]
    },
    {
     "name": "stderr",
     "output_type": "stream",
     "text": [
      "\n",
      "100%|██████████████████████████████████████████| 10/10 [00:00<00:00, 493.80it/s]\n",
      " 28%|████████████                               | 14/50 [00:00<00:01, 18.45it/s]"
     ]
    },
    {
     "name": "stdout",
     "output_type": "stream",
     "text": [
      "Gradient of gamma: 0.02748573198914528\n",
      "Epoch 13 - Loss: 0.6860774755477905\n",
      "Parameter name: gamma\n",
      "Parameter shape: torch.Size([])\n",
      "Parameter value: Parameter containing:\n",
      "tensor(2.2870, device='cuda:0', requires_grad=True)\n",
      "\n"
     ]
    },
    {
     "name": "stderr",
     "output_type": "stream",
     "text": [
      "\n",
      "100%|██████████████████████████████████████████| 10/10 [00:00<00:00, 496.61it/s]\n"
     ]
    },
    {
     "name": "stdout",
     "output_type": "stream",
     "text": [
      "Gradient of gamma: 0.03772934526205063\n",
      "Epoch 14 - Loss: 0.6830542087554932\n",
      "Parameter name: gamma\n",
      "Parameter shape: torch.Size([])\n",
      "Parameter value: Parameter containing:\n",
      "tensor(2.3816, device='cuda:0', requires_grad=True)\n",
      "\n"
     ]
    },
    {
     "name": "stderr",
     "output_type": "stream",
     "text": [
      "\n",
      "100%|██████████████████████████████████████████| 10/10 [00:00<00:00, 493.70it/s]\n",
      " 32%|█████████████▊                             | 16/50 [00:00<00:01, 18.49it/s]"
     ]
    },
    {
     "name": "stdout",
     "output_type": "stream",
     "text": [
      "Gradient of gamma: 0.05130846053361893\n",
      "Epoch 15 - Loss: 0.6788753271102905\n",
      "Parameter name: gamma\n",
      "Parameter shape: torch.Size([])\n",
      "Parameter value: Parameter containing:\n",
      "tensor(2.4774, device='cuda:0', requires_grad=True)\n",
      "\n"
     ]
    },
    {
     "name": "stderr",
     "output_type": "stream",
     "text": [
      "\n",
      "100%|██████████████████████████████████████████| 10/10 [00:00<00:00, 476.12it/s]\n"
     ]
    },
    {
     "name": "stdout",
     "output_type": "stream",
     "text": [
      "Gradient of gamma: 0.06913907080888748\n",
      "Epoch 16 - Loss: 0.6731386184692383\n",
      "Parameter name: gamma\n",
      "Parameter shape: torch.Size([])\n",
      "Parameter value: Parameter containing:\n",
      "tensor(2.5747, device='cuda:0', requires_grad=True)\n",
      "\n"
     ]
    },
    {
     "name": "stderr",
     "output_type": "stream",
     "text": [
      "\n",
      "100%|██████████████████████████████████████████| 10/10 [00:00<00:00, 471.99it/s]\n",
      " 36%|███████████████▍                           | 18/50 [00:00<00:01, 18.46it/s]"
     ]
    },
    {
     "name": "stdout",
     "output_type": "stream",
     "text": [
      "Gradient of gamma: 0.09220526367425919\n",
      "Epoch 17 - Loss: 0.6653520464897156\n",
      "Parameter name: gamma\n",
      "Parameter shape: torch.Size([])\n",
      "Parameter value: Parameter containing:\n",
      "tensor(2.6736, device='cuda:0', requires_grad=True)\n",
      "\n"
     ]
    },
    {
     "name": "stderr",
     "output_type": "stream",
     "text": [
      "\n",
      "100%|██████████████████████████████████████████| 10/10 [00:00<00:00, 470.53it/s]\n"
     ]
    },
    {
     "name": "stdout",
     "output_type": "stream",
     "text": [
      "Gradient of gamma: 0.12190882116556168\n",
      "Epoch 18 - Loss: 0.6547885537147522\n",
      "Parameter name: gamma\n",
      "Parameter shape: torch.Size([])\n",
      "Parameter value: Parameter containing:\n",
      "tensor(2.7741, device='cuda:0', requires_grad=True)\n",
      "\n"
     ]
    },
    {
     "name": "stderr",
     "output_type": "stream",
     "text": [
      "\n",
      "100%|██████████████████████████████████████████| 10/10 [00:00<00:00, 484.02it/s]\n",
      " 40%|█████████████████▏                         | 20/50 [00:01<00:01, 18.39it/s]"
     ]
    },
    {
     "name": "stdout",
     "output_type": "stream",
     "text": [
      "Gradient of gamma: 0.15934167802333832\n",
      "Epoch 19 - Loss: 0.6406115889549255\n",
      "Parameter name: gamma\n",
      "Parameter shape: torch.Size([])\n",
      "Parameter value: Parameter containing:\n",
      "tensor(2.8763, device='cuda:0', requires_grad=True)\n",
      "\n"
     ]
    },
    {
     "name": "stderr",
     "output_type": "stream",
     "text": [
      "\n",
      "100%|██████████████████████████████████████████| 10/10 [00:00<00:00, 441.42it/s]\n"
     ]
    },
    {
     "name": "stdout",
     "output_type": "stream",
     "text": [
      "Gradient of gamma: 0.204384446144104\n",
      "Epoch 20 - Loss: 0.6221957802772522\n",
      "Parameter name: gamma\n",
      "Parameter shape: torch.Size([])\n",
      "Parameter value: Parameter containing:\n",
      "tensor(2.9805, device='cuda:0', requires_grad=True)\n",
      "\n"
     ]
    },
    {
     "name": "stderr",
     "output_type": "stream",
     "text": [
      "\n",
      "100%|██████████████████████████████████████████| 10/10 [00:00<00:00, 474.24it/s]\n",
      " 44%|██████████████████▉                        | 22/50 [00:01<00:01, 18.34it/s]"
     ]
    },
    {
     "name": "stdout",
     "output_type": "stream",
     "text": [
      "Gradient of gamma: 0.2572835087776184\n",
      "Epoch 21 - Loss: 0.5981990098953247\n",
      "Parameter name: gamma\n",
      "Parameter shape: torch.Size([])\n",
      "Parameter value: Parameter containing:\n",
      "tensor(3.0867, device='cuda:0', requires_grad=True)\n",
      "\n"
     ]
    },
    {
     "name": "stderr",
     "output_type": "stream",
     "text": [
      "\n",
      "100%|██████████████████████████████████████████| 10/10 [00:00<00:00, 477.08it/s]\n"
     ]
    },
    {
     "name": "stdout",
     "output_type": "stream",
     "text": [
      "Gradient of gamma: 0.3144315481185913\n",
      "Epoch 22 - Loss: 0.5679086446762085\n",
      "Parameter name: gamma\n",
      "Parameter shape: torch.Size([])\n",
      "Parameter value: Parameter containing:\n",
      "tensor(3.1953, device='cuda:0', requires_grad=True)\n",
      "\n"
     ]
    },
    {
     "name": "stderr",
     "output_type": "stream",
     "text": [
      "\n",
      "100%|██████████████████████████████████████████| 10/10 [00:00<00:00, 456.90it/s]\n",
      " 48%|████████████████████▋                      | 24/50 [00:01<00:01, 18.29it/s]"
     ]
    },
    {
     "name": "stdout",
     "output_type": "stream",
     "text": [
      "Gradient of gamma: 0.3685688078403473\n",
      "Epoch 23 - Loss: 0.5306647419929504\n",
      "Parameter name: gamma\n",
      "Parameter shape: torch.Size([])\n",
      "Parameter value: Parameter containing:\n",
      "tensor(3.3065, device='cuda:0', requires_grad=True)\n",
      "\n"
     ]
    },
    {
     "name": "stderr",
     "output_type": "stream",
     "text": [
      "\n",
      "100%|██████████████████████████████████████████| 10/10 [00:00<00:00, 448.04it/s]\n"
     ]
    },
    {
     "name": "stdout",
     "output_type": "stream",
     "text": [
      "Gradient of gamma: 0.4051626920700073\n",
      "Epoch 24 - Loss: 0.48752516508102417\n",
      "Parameter name: gamma\n",
      "Parameter shape: torch.Size([])\n",
      "Parameter value: Parameter containing:\n",
      "tensor(3.4207, device='cuda:0', requires_grad=True)\n",
      "\n"
     ]
    },
    {
     "name": "stderr",
     "output_type": "stream",
     "text": [
      "\n",
      "100%|██████████████████████████████████████████| 10/10 [00:00<00:00, 460.07it/s]\n",
      " 52%|██████████████████████▎                    | 26/50 [00:01<00:01, 18.17it/s]"
     ]
    },
    {
     "name": "stdout",
     "output_type": "stream",
     "text": [
      "Gradient of gamma: 0.4056001305580139\n",
      "Epoch 25 - Loss: 0.44064968824386597\n",
      "Parameter name: gamma\n",
      "Parameter shape: torch.Size([])\n",
      "Parameter value: Parameter containing:\n",
      "tensor(3.5379, device='cuda:0', requires_grad=True)\n",
      "\n"
     ]
    },
    {
     "name": "stderr",
     "output_type": "stream",
     "text": [
      "\n",
      "100%|██████████████████████████████████████████| 10/10 [00:00<00:00, 419.83it/s]\n"
     ]
    },
    {
     "name": "stdout",
     "output_type": "stream",
     "text": [
      "Gradient of gamma: 0.3554025888442993\n",
      "Epoch 26 - Loss: 0.3957304358482361\n",
      "Parameter name: gamma\n",
      "Parameter shape: torch.Size([])\n",
      "Parameter value: Parameter containing:\n",
      "tensor(3.6576, device='cuda:0', requires_grad=True)\n",
      "\n"
     ]
    },
    {
     "name": "stderr",
     "output_type": "stream",
     "text": [
      "\n",
      "100%|██████████████████████████████████████████| 10/10 [00:00<00:00, 478.23it/s]\n",
      " 56%|████████████████████████                   | 28/50 [00:01<00:01, 17.99it/s]"
     ]
    },
    {
     "name": "stdout",
     "output_type": "stream",
     "text": [
      "Gradient of gamma: 0.26005464792251587\n",
      "Epoch 27 - Loss: 0.35837799310684204\n",
      "Parameter name: gamma\n",
      "Parameter shape: torch.Size([])\n",
      "Parameter value: Parameter containing:\n",
      "tensor(3.7776, device='cuda:0', requires_grad=True)\n",
      "\n"
     ]
    },
    {
     "name": "stderr",
     "output_type": "stream",
     "text": [
      "\n",
      "100%|██████████████████████████████████████████| 10/10 [00:00<00:00, 491.44it/s]\n"
     ]
    },
    {
     "name": "stdout",
     "output_type": "stream",
     "text": [
      "Gradient of gamma: 0.15427620708942413\n",
      "Epoch 28 - Loss: 0.3337319493293762\n",
      "Parameter name: gamma\n",
      "Parameter shape: torch.Size([])\n",
      "Parameter value: Parameter containing:\n",
      "tensor(3.8945, device='cuda:0', requires_grad=True)\n",
      "\n"
     ]
    },
    {
     "name": "stderr",
     "output_type": "stream",
     "text": [
      "\n",
      "100%|██████████████████████████████████████████| 10/10 [00:00<00:00, 471.15it/s]\n",
      " 60%|█████████████████████████▊                 | 30/50 [00:01<00:01, 18.10it/s]"
     ]
    },
    {
     "name": "stdout",
     "output_type": "stream",
     "text": [
      "Gradient of gamma: 0.07258505374193192\n",
      "Epoch 29 - Loss: 0.3207833170890808\n",
      "Parameter name: gamma\n",
      "Parameter shape: torch.Size([])\n",
      "Parameter value: Parameter containing:\n",
      "tensor(4.0049, device='cuda:0', requires_grad=True)\n",
      "\n"
     ]
    },
    {
     "name": "stderr",
     "output_type": "stream",
     "text": [
      "\n",
      "100%|██████████████████████████████████████████| 10/10 [00:00<00:00, 475.61it/s]\n"
     ]
    },
    {
     "name": "stdout",
     "output_type": "stream",
     "text": [
      "Gradient of gamma: 0.027660474181175232\n",
      "Epoch 30 - Loss: 0.315558522939682\n",
      "Parameter name: gamma\n",
      "Parameter shape: torch.Size([])\n",
      "Parameter value: Parameter containing:\n",
      "tensor(4.1071, device='cuda:0', requires_grad=True)\n",
      "\n"
     ]
    },
    {
     "name": "stderr",
     "output_type": "stream",
     "text": [
      "\n",
      "100%|██████████████████████████████████████████| 10/10 [00:00<00:00, 473.38it/s]\n",
      " 64%|███████████████████████████▌               | 32/50 [00:01<00:00, 18.21it/s]"
     ]
    },
    {
     "name": "stdout",
     "output_type": "stream",
     "text": [
      "Gradient of gamma: 0.008590606041252613\n",
      "Epoch 31 - Loss: 0.31384557485580444\n",
      "Parameter name: gamma\n",
      "Parameter shape: torch.Size([])\n",
      "Parameter value: Parameter containing:\n",
      "tensor(4.2007, device='cuda:0', requires_grad=True)\n",
      "\n"
     ]
    },
    {
     "name": "stderr",
     "output_type": "stream",
     "text": [
      "\n",
      "100%|██████████████████████████████████████████| 10/10 [00:00<00:00, 476.03it/s]\n"
     ]
    },
    {
     "name": "stdout",
     "output_type": "stream",
     "text": [
      "Gradient of gamma: 0.002240726724267006\n",
      "Epoch 32 - Loss: 0.31338900327682495\n",
      "Parameter name: gamma\n",
      "Parameter shape: torch.Size([])\n",
      "Parameter value: Parameter containing:\n",
      "tensor(4.2861, device='cuda:0', requires_grad=True)\n",
      "\n"
     ]
    },
    {
     "name": "stderr",
     "output_type": "stream",
     "text": [
      "\n",
      "100%|██████████████████████████████████████████| 10/10 [00:00<00:00, 464.88it/s]\n",
      " 68%|█████████████████████████████▏             | 34/50 [00:01<00:00, 18.28it/s]"
     ]
    },
    {
     "name": "stdout",
     "output_type": "stream",
     "text": [
      "Gradient of gamma: 0.0005131907528266311\n",
      "Epoch 33 - Loss: 0.31328657269477844\n",
      "Parameter name: gamma\n",
      "Parameter shape: torch.Size([])\n",
      "Parameter value: Parameter containing:\n",
      "tensor(4.3640, device='cuda:0', requires_grad=True)\n",
      "\n"
     ]
    },
    {
     "name": "stderr",
     "output_type": "stream",
     "text": [
      "\n",
      "100%|██████████████████████████████████████████| 10/10 [00:00<00:00, 483.97it/s]\n"
     ]
    },
    {
     "name": "stdout",
     "output_type": "stream",
     "text": [
      "Gradient of gamma: 0.00010712353105191141\n",
      "Epoch 34 - Loss: 0.31326621770858765\n",
      "Parameter name: gamma\n",
      "Parameter shape: torch.Size([])\n",
      "Parameter value: Parameter containing:\n",
      "tensor(4.4348, device='cuda:0', requires_grad=True)\n",
      "\n"
     ]
    },
    {
     "name": "stderr",
     "output_type": "stream",
     "text": [
      "\n",
      "100%|██████████████████████████████████████████| 10/10 [00:00<00:00, 466.32it/s]\n",
      " 72%|██████████████████████████████▉            | 36/50 [00:01<00:00, 18.39it/s]"
     ]
    },
    {
     "name": "stdout",
     "output_type": "stream",
     "text": [
      "Gradient of gamma: 2.005069109145552e-05\n",
      "Epoch 35 - Loss: 0.3132624328136444\n",
      "Parameter name: gamma\n",
      "Parameter shape: torch.Size([])\n",
      "Parameter value: Parameter containing:\n",
      "tensor(4.4994, device='cuda:0', requires_grad=True)\n",
      "\n"
     ]
    },
    {
     "name": "stderr",
     "output_type": "stream",
     "text": [
      "\n",
      "100%|██████████████████████████████████████████| 10/10 [00:00<00:00, 480.01it/s]\n"
     ]
    },
    {
     "name": "stdout",
     "output_type": "stream",
     "text": [
      "Gradient of gamma: 3.587680566852214e-06\n",
      "Epoch 36 - Loss: 0.31326180696487427\n",
      "Parameter name: gamma\n",
      "Parameter shape: torch.Size([])\n",
      "Parameter value: Parameter containing:\n",
      "tensor(4.5582, device='cuda:0', requires_grad=True)\n",
      "\n"
     ]
    },
    {
     "name": "stderr",
     "output_type": "stream",
     "text": [
      "\n",
      "100%|██████████████████████████████████████████| 10/10 [00:00<00:00, 460.67it/s]\n",
      " 76%|████████████████████████████████▋          | 38/50 [00:02<00:00, 18.39it/s]"
     ]
    },
    {
     "name": "stdout",
     "output_type": "stream",
     "text": [
      "Gradient of gamma: 5.805899832012074e-07\n",
      "Epoch 37 - Loss: 0.3132617473602295\n",
      "Parameter name: gamma\n",
      "Parameter shape: torch.Size([])\n",
      "Parameter value: Parameter containing:\n",
      "tensor(4.6117, device='cuda:0', requires_grad=True)\n",
      "\n"
     ]
    },
    {
     "name": "stderr",
     "output_type": "stream",
     "text": [
      "\n",
      "100%|██████████████████████████████████████████| 10/10 [00:00<00:00, 476.01it/s]\n"
     ]
    },
    {
     "name": "stdout",
     "output_type": "stream",
     "text": [
      "Gradient of gamma: 9.831821756733916e-08\n",
      "Epoch 38 - Loss: 0.3132617473602295\n",
      "Parameter name: gamma\n",
      "Parameter shape: torch.Size([])\n",
      "Parameter value: Parameter containing:\n",
      "tensor(4.6604, device='cuda:0', requires_grad=True)\n",
      "\n"
     ]
    },
    {
     "name": "stderr",
     "output_type": "stream",
     "text": [
      "\n",
      "100%|██████████████████████████████████████████| 10/10 [00:00<00:00, 501.92it/s]\n",
      " 80%|██████████████████████████████████▍        | 40/50 [00:02<00:00, 18.45it/s]"
     ]
    },
    {
     "name": "stdout",
     "output_type": "stream",
     "text": [
      "Gradient of gamma: 1.67001683593071e-08\n",
      "Epoch 39 - Loss: 0.3132617473602295\n",
      "Parameter name: gamma\n",
      "Parameter shape: torch.Size([])\n",
      "Parameter value: Parameter containing:\n",
      "tensor(4.7047, device='cuda:0', requires_grad=True)\n",
      "\n"
     ]
    },
    {
     "name": "stderr",
     "output_type": "stream",
     "text": [
      "\n",
      "100%|██████████████████████████████████████████| 10/10 [00:00<00:00, 497.92it/s]\n"
     ]
    },
    {
     "name": "stdout",
     "output_type": "stream",
     "text": [
      "Gradient of gamma: 2.8982383160069958e-09\n",
      "Epoch 40 - Loss: 0.3132617473602295\n",
      "Parameter name: gamma\n",
      "Parameter shape: torch.Size([])\n",
      "Parameter value: Parameter containing:\n",
      "tensor(4.7451, device='cuda:0', requires_grad=True)\n",
      "\n"
     ]
    },
    {
     "name": "stderr",
     "output_type": "stream",
     "text": [
      "\n",
      "100%|██████████████████████████████████████████| 10/10 [00:00<00:00, 477.16it/s]\n",
      " 84%|████████████████████████████████████       | 42/50 [00:02<00:00, 18.40it/s]"
     ]
    },
    {
     "name": "stdout",
     "output_type": "stream",
     "text": [
      "Gradient of gamma: 4.989625379536733e-10\n",
      "Epoch 41 - Loss: 0.3132617473602295\n",
      "Parameter name: gamma\n",
      "Parameter shape: torch.Size([])\n",
      "Parameter value: Parameter containing:\n",
      "tensor(4.7818, device='cuda:0', requires_grad=True)\n",
      "\n"
     ]
    },
    {
     "name": "stderr",
     "output_type": "stream",
     "text": [
      "\n",
      "100%|██████████████████████████████████████████| 10/10 [00:00<00:00, 446.47it/s]\n"
     ]
    },
    {
     "name": "stdout",
     "output_type": "stream",
     "text": [
      "Gradient of gamma: 9.62031010409703e-11\n",
      "Epoch 42 - Loss: 0.3132617473602295\n",
      "Parameter name: gamma\n",
      "Parameter shape: torch.Size([])\n",
      "Parameter value: Parameter containing:\n",
      "tensor(4.8152, device='cuda:0', requires_grad=True)\n",
      "\n"
     ]
    },
    {
     "name": "stderr",
     "output_type": "stream",
     "text": [
      "\n",
      "100%|██████████████████████████████████████████| 10/10 [00:00<00:00, 472.84it/s]\n",
      " 88%|█████████████████████████████████████▊     | 44/50 [00:02<00:00, 18.19it/s]"
     ]
    },
    {
     "name": "stdout",
     "output_type": "stream",
     "text": [
      "Gradient of gamma: 1.8518681380030877e-11\n",
      "Epoch 43 - Loss: 0.3132617473602295\n",
      "Parameter name: gamma\n",
      "Parameter shape: torch.Size([])\n",
      "Parameter value: Parameter containing:\n",
      "tensor(4.8456, device='cuda:0', requires_grad=True)\n",
      "\n"
     ]
    },
    {
     "name": "stderr",
     "output_type": "stream",
     "text": [
      "\n",
      "100%|██████████████████████████████████████████| 10/10 [00:00<00:00, 361.59it/s]\n"
     ]
    },
    {
     "name": "stdout",
     "output_type": "stream",
     "text": [
      "Gradient of gamma: 4.2962924884371034e-12\n",
      "Epoch 44 - Loss: 0.3132617473602295\n",
      "Parameter name: gamma\n",
      "Parameter shape: torch.Size([])\n",
      "Parameter value: Parameter containing:\n",
      "tensor(4.8732, device='cuda:0', requires_grad=True)\n",
      "\n"
     ]
    },
    {
     "name": "stderr",
     "output_type": "stream",
     "text": [
      "\n",
      "100%|██████████████████████████████████████████| 10/10 [00:00<00:00, 477.10it/s]\n",
      " 92%|███████████████████████████████████████▌   | 46/50 [00:02<00:00, 17.91it/s]"
     ]
    },
    {
     "name": "stdout",
     "output_type": "stream",
     "text": [
      "Gradient of gamma: 8.937580493403874e-13\n",
      "Epoch 45 - Loss: 0.3132617473602295\n",
      "Parameter name: gamma\n",
      "Parameter shape: torch.Size([])\n",
      "Parameter value: Parameter containing:\n",
      "tensor(4.8984, device='cuda:0', requires_grad=True)\n",
      "\n"
     ]
    },
    {
     "name": "stderr",
     "output_type": "stream",
     "text": [
      "\n",
      "100%|██████████████████████████████████████████| 10/10 [00:00<00:00, 464.91it/s]\n"
     ]
    },
    {
     "name": "stdout",
     "output_type": "stream",
     "text": [
      "Gradient of gamma: 2.2283910827702869e-13\n",
      "Epoch 46 - Loss: 0.3132617473602295\n",
      "Parameter name: gamma\n",
      "Parameter shape: torch.Size([])\n",
      "Parameter value: Parameter containing:\n",
      "tensor(4.9212, device='cuda:0', requires_grad=True)\n",
      "\n"
     ]
    },
    {
     "name": "stderr",
     "output_type": "stream",
     "text": [
      "\n",
      "100%|██████████████████████████████████████████| 10/10 [00:00<00:00, 477.31it/s]\n",
      " 96%|█████████████████████████████████████████▎ | 48/50 [00:02<00:00, 18.11it/s]"
     ]
    },
    {
     "name": "stdout",
     "output_type": "stream",
     "text": [
      "Gradient of gamma: 5.6691589899078576e-14\n",
      "Epoch 47 - Loss: 0.3132617473602295\n",
      "Parameter name: gamma\n",
      "Parameter shape: torch.Size([])\n",
      "Parameter value: Parameter containing:\n",
      "tensor(4.9420, device='cuda:0', requires_grad=True)\n",
      "\n"
     ]
    },
    {
     "name": "stderr",
     "output_type": "stream",
     "text": [
      "\n",
      "100%|██████████████████████████████████████████| 10/10 [00:00<00:00, 480.90it/s]\n"
     ]
    },
    {
     "name": "stdout",
     "output_type": "stream",
     "text": [
      "Gradient of gamma: 1.7050181999231882e-14\n",
      "Epoch 48 - Loss: 0.3132617473602295\n",
      "Parameter name: gamma\n",
      "Parameter shape: torch.Size([])\n",
      "Parameter value: Parameter containing:\n",
      "tensor(4.9609, device='cuda:0', requires_grad=True)\n",
      "\n"
     ]
    },
    {
     "name": "stderr",
     "output_type": "stream",
     "text": [
      "\n",
      "100%|██████████████████████████████████████████| 10/10 [00:00<00:00, 496.76it/s]\n",
      "100%|███████████████████████████████████████████| 50/50 [00:02<00:00, 18.23it/s]\n"
     ]
    },
    {
     "name": "stdout",
     "output_type": "stream",
     "text": [
      "Gradient of gamma: 5.089485555003978e-15\n",
      "Epoch 49 - Loss: 0.3132617473602295\n",
      "Parameter name: gamma\n",
      "Parameter shape: torch.Size([])\n",
      "Parameter value: Parameter containing:\n",
      "tensor(4.9780, device='cuda:0', requires_grad=True)\n",
      "\n"
     ]
    },
    {
     "name": "stderr",
     "output_type": "stream",
     "text": [
      "  0%|                                                    | 0/50 [00:00<?, ?it/s]\n",
      "100%|██████████████████████████████████████████| 10/10 [00:00<00:00, 433.56it/s]\n"
     ]
    },
    {
     "name": "stdout",
     "output_type": "stream",
     "text": [
      "Gradient of gamma: 2.3352913558483124e-05\n",
      "Epoch 0 - Loss: 0.6931520700454712\n",
      "Parameter name: gamma\n",
      "Parameter shape: torch.Size([])\n",
      "Parameter value: Parameter containing:\n",
      "tensor(0.9000, device='cuda:0', requires_grad=True)\n",
      "\n"
     ]
    },
    {
     "name": "stderr",
     "output_type": "stream",
     "text": [
      "\n",
      "100%|██████████████████████████████████████████| 10/10 [00:00<00:00, 449.43it/s]\n",
      "  4%|█▊                                          | 2/50 [00:00<00:02, 17.51it/s]"
     ]
    },
    {
     "name": "stdout",
     "output_type": "stream",
     "text": [
      "Gradient of gamma: 1.3281824067234993e-05\n",
      "Epoch 1 - Loss: 0.6931503415107727\n",
      "Parameter name: gamma\n",
      "Parameter shape: torch.Size([])\n",
      "Parameter value: Parameter containing:\n",
      "tensor(0.8051, device='cuda:0', requires_grad=True)\n",
      "\n"
     ]
    },
    {
     "name": "stderr",
     "output_type": "stream",
     "text": [
      "\n",
      "100%|██████████████████████████████████████████| 10/10 [00:00<00:00, 470.75it/s]\n"
     ]
    },
    {
     "name": "stdout",
     "output_type": "stream",
     "text": [
      "Gradient of gamma: 7.88120087236166e-06\n",
      "Epoch 2 - Loss: 0.6931493878364563\n",
      "Parameter name: gamma\n",
      "Parameter shape: torch.Size([])\n",
      "Parameter value: Parameter containing:\n",
      "tensor(0.7166, device='cuda:0', requires_grad=True)\n",
      "\n"
     ]
    },
    {
     "name": "stderr",
     "output_type": "stream",
     "text": [
      "\n",
      "100%|██████████████████████████████████████████| 10/10 [00:00<00:00, 480.94it/s]\n",
      "  8%|███▌                                        | 4/50 [00:00<00:02, 18.00it/s]"
     ]
    },
    {
     "name": "stdout",
     "output_type": "stream",
     "text": [
      "Gradient of gamma: 5.0219823606312275e-06\n",
      "Epoch 3 - Loss: 0.6931487917900085\n",
      "Parameter name: gamma\n",
      "Parameter shape: torch.Size([])\n",
      "Parameter value: Parameter containing:\n",
      "tensor(0.6351, device='cuda:0', requires_grad=True)\n",
      "\n"
     ]
    },
    {
     "name": "stderr",
     "output_type": "stream",
     "text": [
      "\n",
      "100%|██████████████████████████████████████████| 10/10 [00:00<00:00, 499.51it/s]\n"
     ]
    },
    {
     "name": "stdout",
     "output_type": "stream",
     "text": [
      "Gradient of gamma: 3.1059898901730776e-06\n",
      "Epoch 4 - Loss: 0.6931484341621399\n",
      "Parameter name: gamma\n",
      "Parameter shape: torch.Size([])\n",
      "Parameter value: Parameter containing:\n",
      "tensor(0.5606, device='cuda:0', requires_grad=True)\n",
      "\n"
     ]
    },
    {
     "name": "stderr",
     "output_type": "stream",
     "text": [
      "\n",
      "100%|██████████████████████████████████████████| 10/10 [00:00<00:00, 479.13it/s]\n",
      " 12%|█████▎                                      | 6/50 [00:00<00:02, 18.17it/s]"
     ]
    },
    {
     "name": "stdout",
     "output_type": "stream",
     "text": [
      "Gradient of gamma: 2.3508764570578933e-06\n",
      "Epoch 5 - Loss: 0.6931482553482056\n",
      "Parameter name: gamma\n",
      "Parameter shape: torch.Size([])\n",
      "Parameter value: Parameter containing:\n",
      "tensor(0.4924, device='cuda:0', requires_grad=True)\n",
      "\n"
     ]
    },
    {
     "name": "stderr",
     "output_type": "stream",
     "text": [
      "\n",
      "100%|██████████████████████████████████████████| 10/10 [00:00<00:00, 476.72it/s]\n"
     ]
    },
    {
     "name": "stdout",
     "output_type": "stream",
     "text": [
      "Gradient of gamma: 1.7584243323653936e-06\n",
      "Epoch 6 - Loss: 0.6931480169296265\n",
      "Parameter name: gamma\n",
      "Parameter shape: torch.Size([])\n",
      "Parameter value: Parameter containing:\n",
      "tensor(0.4298, device='cuda:0', requires_grad=True)\n",
      "\n"
     ]
    },
    {
     "name": "stderr",
     "output_type": "stream",
     "text": [
      "\n",
      "100%|██████████████████████████████████████████| 10/10 [00:00<00:00, 478.70it/s]\n",
      " 16%|███████                                     | 8/50 [00:00<00:02, 18.29it/s]"
     ]
    },
    {
     "name": "stdout",
     "output_type": "stream",
     "text": [
      "Gradient of gamma: 1.410665390721988e-06\n",
      "Epoch 7 - Loss: 0.6931480169296265\n",
      "Parameter name: gamma\n",
      "Parameter shape: torch.Size([])\n",
      "Parameter value: Parameter containing:\n",
      "tensor(0.3723, device='cuda:0', requires_grad=True)\n",
      "\n"
     ]
    },
    {
     "name": "stderr",
     "output_type": "stream",
     "text": [
      "\n",
      "100%|██████████████████████████████████████████| 10/10 [00:00<00:00, 478.61it/s]\n"
     ]
    },
    {
     "name": "stdout",
     "output_type": "stream",
     "text": [
      "Gradient of gamma: 1.234010142070474e-06\n",
      "Epoch 8 - Loss: 0.6931479573249817\n",
      "Parameter name: gamma\n",
      "Parameter shape: torch.Size([])\n",
      "Parameter value: Parameter containing:\n",
      "tensor(0.3192, device='cuda:0', requires_grad=True)\n",
      "\n"
     ]
    },
    {
     "name": "stderr",
     "output_type": "stream",
     "text": [
      "\n",
      "100%|██████████████████████████████████████████| 10/10 [00:00<00:00, 476.78it/s]\n",
      " 20%|████████▌                                  | 10/50 [00:00<00:02, 18.32it/s]"
     ]
    },
    {
     "name": "stdout",
     "output_type": "stream",
     "text": [
      "Gradient of gamma: 9.647143315305584e-07\n",
      "Epoch 9 - Loss: 0.6931478381156921\n",
      "Parameter name: gamma\n",
      "Parameter shape: torch.Size([])\n",
      "Parameter value: Parameter containing:\n",
      "tensor(0.2702, device='cuda:0', requires_grad=True)\n",
      "\n"
     ]
    },
    {
     "name": "stderr",
     "output_type": "stream",
     "text": [
      "\n",
      "100%|██████████████████████████████████████████| 10/10 [00:00<00:00, 476.74it/s]\n"
     ]
    },
    {
     "name": "stdout",
     "output_type": "stream",
     "text": [
      "Gradient of gamma: 8.976481922218227e-07\n",
      "Epoch 10 - Loss: 0.6931478381156921\n",
      "Parameter name: gamma\n",
      "Parameter shape: torch.Size([])\n",
      "Parameter value: Parameter containing:\n",
      "tensor(0.2248, device='cuda:0', requires_grad=True)\n",
      "\n"
     ]
    },
    {
     "name": "stderr",
     "output_type": "stream",
     "text": [
      "\n",
      "100%|██████████████████████████████████████████| 10/10 [00:00<00:00, 477.04it/s]\n",
      " 24%|██████████▎                                | 12/50 [00:00<00:02, 18.32it/s]"
     ]
    },
    {
     "name": "stdout",
     "output_type": "stream",
     "text": [
      "Gradient of gamma: 8.088745744316839e-07\n",
      "Epoch 11 - Loss: 0.6931477785110474\n",
      "Parameter name: gamma\n",
      "Parameter shape: torch.Size([])\n",
      "Parameter value: Parameter containing:\n",
      "tensor(0.1827, device='cuda:0', requires_grad=True)\n",
      "\n"
     ]
    },
    {
     "name": "stderr",
     "output_type": "stream",
     "text": [
      "\n",
      "100%|██████████████████████████████████████████| 10/10 [00:00<00:00, 467.14it/s]\n"
     ]
    },
    {
     "name": "stdout",
     "output_type": "stream",
     "text": [
      "Gradient of gamma: 7.288120968951262e-07\n",
      "Epoch 12 - Loss: 0.6931477189064026\n",
      "Parameter name: gamma\n",
      "Parameter shape: torch.Size([])\n",
      "Parameter value: Parameter containing:\n",
      "tensor(0.1435, device='cuda:0', requires_grad=True)\n",
      "\n"
     ]
    },
    {
     "name": "stderr",
     "output_type": "stream",
     "text": [
      "\n",
      "100%|██████████████████████████████████████████| 10/10 [00:00<00:00, 478.08it/s]\n",
      " 28%|████████████                               | 14/50 [00:00<00:01, 18.19it/s]"
     ]
    },
    {
     "name": "stdout",
     "output_type": "stream",
     "text": [
      "Gradient of gamma: 6.262400802370394e-07\n",
      "Epoch 13 - Loss: 0.6931476593017578\n",
      "Parameter name: gamma\n",
      "Parameter shape: torch.Size([])\n",
      "Parameter value: Parameter containing:\n",
      "tensor(0.1070, device='cuda:0', requires_grad=True)\n",
      "\n"
     ]
    },
    {
     "name": "stderr",
     "output_type": "stream",
     "text": [
      "\n",
      "100%|██████████████████████████████████████████| 10/10 [00:00<00:00, 473.33it/s]\n"
     ]
    },
    {
     "name": "stdout",
     "output_type": "stream",
     "text": [
      "Gradient of gamma: 5.99998884354136e-07\n",
      "Epoch 14 - Loss: 0.6931476593017578\n",
      "Parameter name: gamma\n",
      "Parameter shape: torch.Size([])\n",
      "Parameter value: Parameter containing:\n",
      "tensor(0.0730, device='cuda:0', requires_grad=True)\n",
      "\n"
     ]
    },
    {
     "name": "stderr",
     "output_type": "stream",
     "text": [
      "\n",
      "100%|██████████████████████████████████████████| 10/10 [00:00<00:00, 486.30it/s]\n",
      " 32%|█████████████▊                             | 16/50 [00:00<00:01, 18.18it/s]"
     ]
    },
    {
     "name": "stdout",
     "output_type": "stream",
     "text": [
      "Gradient of gamma: 5.156657607585657e-07\n",
      "Epoch 15 - Loss: 0.6931476593017578\n",
      "Parameter name: gamma\n",
      "Parameter shape: torch.Size([])\n",
      "Parameter value: Parameter containing:\n",
      "tensor(0.0413, device='cuda:0', requires_grad=True)\n",
      "\n"
     ]
    },
    {
     "name": "stderr",
     "output_type": "stream",
     "text": [
      "\n",
      "100%|██████████████████████████████████████████| 10/10 [00:00<00:00, 478.02it/s]\n"
     ]
    },
    {
     "name": "stdout",
     "output_type": "stream",
     "text": [
      "Gradient of gamma: 4.993093511984625e-07\n",
      "Epoch 16 - Loss: 0.6931476593017578\n",
      "Parameter name: gamma\n",
      "Parameter shape: torch.Size([])\n",
      "Parameter value: Parameter containing:\n",
      "tensor(0.0117, device='cuda:0', requires_grad=True)\n",
      "\n"
     ]
    },
    {
     "name": "stderr",
     "output_type": "stream",
     "text": [
      "\n",
      "100%|██████████████████████████████████████████| 10/10 [00:00<00:00, 468.34it/s]\n",
      " 36%|███████████████▍                           | 18/50 [00:00<00:01, 18.16it/s]"
     ]
    },
    {
     "name": "stdout",
     "output_type": "stream",
     "text": [
      "Gradient of gamma: 4.523356267327472e-07\n",
      "Epoch 17 - Loss: 0.6931476593017578\n",
      "Parameter name: gamma\n",
      "Parameter shape: torch.Size([])\n",
      "Parameter value: Parameter containing:\n",
      "tensor(-0.0160, device='cuda:0', requires_grad=True)\n",
      "\n"
     ]
    },
    {
     "name": "stderr",
     "output_type": "stream",
     "text": [
      "\n",
      "100%|██████████████████████████████████████████| 10/10 [00:00<00:00, 475.97it/s]\n"
     ]
    },
    {
     "name": "stdout",
     "output_type": "stream",
     "text": [
      "Gradient of gamma: 4.4001629362355743e-07\n",
      "Epoch 18 - Loss: 0.6931476593017578\n",
      "Parameter name: gamma\n",
      "Parameter shape: torch.Size([])\n",
      "Parameter value: Parameter containing:\n",
      "tensor(-0.0419, device='cuda:0', requires_grad=True)\n",
      "\n"
     ]
    },
    {
     "name": "stderr",
     "output_type": "stream",
     "text": [
      "\n",
      "100%|██████████████████████████████████████████| 10/10 [00:00<00:00, 502.89it/s]\n",
      " 40%|█████████████████▏                         | 20/50 [00:01<00:01, 18.14it/s]"
     ]
    },
    {
     "name": "stdout",
     "output_type": "stream",
     "text": [
      "Gradient of gamma: 4.2901370989056886e-07\n",
      "Epoch 19 - Loss: 0.6931476593017578\n",
      "Parameter name: gamma\n",
      "Parameter shape: torch.Size([])\n",
      "Parameter value: Parameter containing:\n",
      "tensor(-0.0662, device='cuda:0', requires_grad=True)\n",
      "\n"
     ]
    },
    {
     "name": "stderr",
     "output_type": "stream",
     "text": [
      "\n",
      "100%|██████████████████████████████████████████| 10/10 [00:00<00:00, 504.94it/s]\n"
     ]
    },
    {
     "name": "stdout",
     "output_type": "stream",
     "text": [
      "Gradient of gamma: 3.9042333810357377e-07\n",
      "Epoch 20 - Loss: 0.6931476593017578\n",
      "Parameter name: gamma\n",
      "Parameter shape: torch.Size([])\n",
      "Parameter value: Parameter containing:\n",
      "tensor(-0.0890, device='cuda:0', requires_grad=True)\n",
      "\n"
     ]
    },
    {
     "name": "stderr",
     "output_type": "stream",
     "text": [
      "\n",
      "100%|██████████████████████████████████████████| 10/10 [00:00<00:00, 488.03it/s]\n",
      " 44%|██████████████████▉                        | 22/50 [00:01<00:01, 18.16it/s]"
     ]
    },
    {
     "name": "stdout",
     "output_type": "stream",
     "text": [
      "Gradient of gamma: 3.8313226013997337e-07\n",
      "Epoch 21 - Loss: 0.6931476593017578\n",
      "Parameter name: gamma\n",
      "Parameter shape: torch.Size([])\n",
      "Parameter value: Parameter containing:\n",
      "tensor(-0.1104, device='cuda:0', requires_grad=True)\n",
      "\n"
     ]
    },
    {
     "name": "stderr",
     "output_type": "stream",
     "text": [
      "\n",
      "100%|██████████████████████████████████████████| 10/10 [00:00<00:00, 461.43it/s]\n"
     ]
    },
    {
     "name": "stdout",
     "output_type": "stream",
     "text": [
      "Gradient of gamma: 3.761295204185444e-07\n",
      "Epoch 22 - Loss: 0.6931475400924683\n",
      "Parameter name: gamma\n",
      "Parameter shape: torch.Size([])\n",
      "Parameter value: Parameter containing:\n",
      "tensor(-0.1307, device='cuda:0', requires_grad=True)\n",
      "\n"
     ]
    },
    {
     "name": "stderr",
     "output_type": "stream",
     "text": [
      "\n",
      "100%|██████████████████████████████████████████| 10/10 [00:00<00:00, 500.65it/s]\n",
      " 48%|████████████████████▋                      | 24/50 [00:01<00:01, 18.12it/s]"
     ]
    },
    {
     "name": "stdout",
     "output_type": "stream",
     "text": [
      "Gradient of gamma: 3.7001325381424977e-07\n",
      "Epoch 23 - Loss: 0.6931475400924683\n",
      "Parameter name: gamma\n",
      "Parameter shape: torch.Size([])\n",
      "Parameter value: Parameter containing:\n",
      "tensor(-0.1498, device='cuda:0', requires_grad=True)\n",
      "\n"
     ]
    },
    {
     "name": "stderr",
     "output_type": "stream",
     "text": [
      "\n",
      "100%|██████████████████████████████████████████| 10/10 [00:00<00:00, 492.20it/s]\n"
     ]
    },
    {
     "name": "stdout",
     "output_type": "stream",
     "text": [
      "Gradient of gamma: 3.6319113405625103e-07\n",
      "Epoch 24 - Loss: 0.6931475400924683\n",
      "Parameter name: gamma\n",
      "Parameter shape: torch.Size([])\n",
      "Parameter value: Parameter containing:\n",
      "tensor(-0.1678, device='cuda:0', requires_grad=True)\n",
      "\n"
     ]
    },
    {
     "name": "stderr",
     "output_type": "stream",
     "text": [
      "\n",
      "100%|██████████████████████████████████████████| 10/10 [00:00<00:00, 498.26it/s]\n",
      " 52%|██████████████████████▎                    | 26/50 [00:01<00:01, 18.18it/s]"
     ]
    },
    {
     "name": "stdout",
     "output_type": "stream",
     "text": [
      "Gradient of gamma: 3.571055344764318e-07\n",
      "Epoch 25 - Loss: 0.6931475400924683\n",
      "Parameter name: gamma\n",
      "Parameter shape: torch.Size([])\n",
      "Parameter value: Parameter containing:\n",
      "tensor(-0.1850, device='cuda:0', requires_grad=True)\n",
      "\n"
     ]
    },
    {
     "name": "stderr",
     "output_type": "stream",
     "text": [
      "\n",
      "100%|██████████████████████████████████████████| 10/10 [00:00<00:00, 494.73it/s]\n"
     ]
    },
    {
     "name": "stdout",
     "output_type": "stream",
     "text": [
      "Gradient of gamma: 3.514909678870026e-07\n",
      "Epoch 26 - Loss: 0.6931475400924683\n",
      "Parameter name: gamma\n",
      "Parameter shape: torch.Size([])\n",
      "Parameter value: Parameter containing:\n",
      "tensor(-0.2013, device='cuda:0', requires_grad=True)\n",
      "\n"
     ]
    },
    {
     "name": "stderr",
     "output_type": "stream",
     "text": [
      "\n",
      "100%|██████████████████████████████████████████| 10/10 [00:00<00:00, 496.40it/s]\n",
      " 56%|████████████████████████                   | 28/50 [00:01<00:01, 18.21it/s]"
     ]
    },
    {
     "name": "stdout",
     "output_type": "stream",
     "text": [
      "Gradient of gamma: 3.459646791270643e-07\n",
      "Epoch 27 - Loss: 0.6931475400924683\n",
      "Parameter name: gamma\n",
      "Parameter shape: torch.Size([])\n",
      "Parameter value: Parameter containing:\n",
      "tensor(-0.2168, device='cuda:0', requires_grad=True)\n",
      "\n"
     ]
    },
    {
     "name": "stderr",
     "output_type": "stream",
     "text": [
      "\n",
      "100%|██████████████████████████████████████████| 10/10 [00:00<00:00, 501.81it/s]\n"
     ]
    },
    {
     "name": "stdout",
     "output_type": "stream",
     "text": [
      "Gradient of gamma: 3.422145198328508e-07\n",
      "Epoch 28 - Loss: 0.6931475400924683\n",
      "Parameter name: gamma\n",
      "Parameter shape: torch.Size([])\n",
      "Parameter value: Parameter containing:\n",
      "tensor(-0.2316, device='cuda:0', requires_grad=True)\n",
      "\n"
     ]
    },
    {
     "name": "stderr",
     "output_type": "stream",
     "text": [
      "\n",
      "100%|██████████████████████████████████████████| 10/10 [00:00<00:00, 495.62it/s]\n",
      " 60%|█████████████████████████▊                 | 30/50 [00:01<00:01, 18.25it/s]"
     ]
    },
    {
     "name": "stdout",
     "output_type": "stream",
     "text": [
      "Gradient of gamma: 3.377673181148566e-07\n",
      "Epoch 29 - Loss: 0.6931475400924683\n",
      "Parameter name: gamma\n",
      "Parameter shape: torch.Size([])\n",
      "Parameter value: Parameter containing:\n",
      "tensor(-0.2457, device='cuda:0', requires_grad=True)\n",
      "\n"
     ]
    },
    {
     "name": "stderr",
     "output_type": "stream",
     "text": [
      "\n",
      "100%|██████████████████████████████████████████| 10/10 [00:00<00:00, 401.94it/s]\n"
     ]
    },
    {
     "name": "stdout",
     "output_type": "stream",
     "text": [
      "Gradient of gamma: 3.499987428767781e-07\n",
      "Epoch 30 - Loss: 0.6931475400924683\n",
      "Parameter name: gamma\n",
      "Parameter shape: torch.Size([])\n",
      "Parameter value: Parameter containing:\n",
      "tensor(-0.2593, device='cuda:0', requires_grad=True)\n",
      "\n"
     ]
    },
    {
     "name": "stderr",
     "output_type": "stream",
     "text": [
      "\n",
      "100%|██████████████████████████████████████████| 10/10 [00:00<00:00, 504.33it/s]\n",
      " 64%|███████████████████████████▌               | 32/50 [00:01<00:01, 17.96it/s]"
     ]
    },
    {
     "name": "stdout",
     "output_type": "stream",
     "text": [
      "Gradient of gamma: 3.4721034580798005e-07\n",
      "Epoch 31 - Loss: 0.6931475400924683\n",
      "Parameter name: gamma\n",
      "Parameter shape: torch.Size([])\n",
      "Parameter value: Parameter containing:\n",
      "tensor(-0.2724, device='cuda:0', requires_grad=True)\n",
      "\n"
     ]
    },
    {
     "name": "stderr",
     "output_type": "stream",
     "text": [
      "\n",
      "100%|██████████████████████████████████████████| 10/10 [00:00<00:00, 483.54it/s]\n"
     ]
    },
    {
     "name": "stdout",
     "output_type": "stream",
     "text": [
      "Gradient of gamma: 3.451145005328726e-07\n",
      "Epoch 32 - Loss: 0.6931475400924683\n",
      "Parameter name: gamma\n",
      "Parameter shape: torch.Size([])\n",
      "Parameter value: Parameter containing:\n",
      "tensor(-0.2850, device='cuda:0', requires_grad=True)\n",
      "\n"
     ]
    },
    {
     "name": "stderr",
     "output_type": "stream",
     "text": [
      "\n",
      "100%|██████████████████████████████████████████| 10/10 [00:00<00:00, 476.64it/s]\n",
      " 68%|█████████████████████████████▏             | 34/50 [00:01<00:00, 17.98it/s]"
     ]
    },
    {
     "name": "stdout",
     "output_type": "stream",
     "text": [
      "Gradient of gamma: 3.109022372882464e-07\n",
      "Epoch 33 - Loss: 0.6931475400924683\n",
      "Parameter name: gamma\n",
      "Parameter shape: torch.Size([])\n",
      "Parameter value: Parameter containing:\n",
      "tensor(-0.2972, device='cuda:0', requires_grad=True)\n",
      "\n"
     ]
    },
    {
     "name": "stderr",
     "output_type": "stream",
     "text": [
      "\n",
      "100%|██████████████████████████████████████████| 10/10 [00:00<00:00, 486.38it/s]\n"
     ]
    },
    {
     "name": "stdout",
     "output_type": "stream",
     "text": [
      "Gradient of gamma: 2.7695955395756755e-07\n",
      "Epoch 34 - Loss: 0.6931475400924683\n",
      "Parameter name: gamma\n",
      "Parameter shape: torch.Size([])\n",
      "Parameter value: Parameter containing:\n",
      "tensor(-0.3089, device='cuda:0', requires_grad=True)\n",
      "\n"
     ]
    },
    {
     "name": "stderr",
     "output_type": "stream",
     "text": [
      "\n",
      "100%|██████████████████████████████████████████| 10/10 [00:00<00:00, 500.42it/s]\n",
      " 72%|██████████████████████████████▉            | 36/50 [00:01<00:00, 18.02it/s]"
     ]
    },
    {
     "name": "stdout",
     "output_type": "stream",
     "text": [
      "Gradient of gamma: 3.4908862289739773e-07\n",
      "Epoch 35 - Loss: 0.6931474804878235\n",
      "Parameter name: gamma\n",
      "Parameter shape: torch.Size([])\n",
      "Parameter value: Parameter containing:\n",
      "tensor(-0.3202, device='cuda:0', requires_grad=True)\n",
      "\n"
     ]
    },
    {
     "name": "stderr",
     "output_type": "stream",
     "text": [
      "\n",
      "100%|██████████████████████████████████████████| 10/10 [00:00<00:00, 427.12it/s]\n"
     ]
    },
    {
     "name": "stdout",
     "output_type": "stream",
     "text": [
      "Gradient of gamma: 2.718571749937837e-07\n",
      "Epoch 36 - Loss: 0.6931475400924683\n",
      "Parameter name: gamma\n",
      "Parameter shape: torch.Size([])\n",
      "Parameter value: Parameter containing:\n",
      "tensor(-0.3311, device='cuda:0', requires_grad=True)\n",
      "\n"
     ]
    },
    {
     "name": "stderr",
     "output_type": "stream",
     "text": [
      "\n",
      "100%|██████████████████████████████████████████| 10/10 [00:00<00:00, 418.42it/s]\n",
      " 76%|████████████████████████████████▋          | 38/50 [00:02<00:00, 17.21it/s]"
     ]
    },
    {
     "name": "stdout",
     "output_type": "stream",
     "text": [
      "Gradient of gamma: 2.685953859327128e-07\n",
      "Epoch 37 - Loss: 0.6931475400924683\n",
      "Parameter name: gamma\n",
      "Parameter shape: torch.Size([])\n",
      "Parameter value: Parameter containing:\n",
      "tensor(-0.3417, device='cuda:0', requires_grad=True)\n",
      "\n"
     ]
    },
    {
     "name": "stderr",
     "output_type": "stream",
     "text": [
      "\n",
      "100%|██████████████████████████████████████████| 10/10 [00:00<00:00, 409.00it/s]\n"
     ]
    },
    {
     "name": "stdout",
     "output_type": "stream",
     "text": [
      "Gradient of gamma: 2.6595012059260625e-07\n",
      "Epoch 38 - Loss: 0.6931475400924683\n",
      "Parameter name: gamma\n",
      "Parameter shape: torch.Size([])\n",
      "Parameter value: Parameter containing:\n",
      "tensor(-0.3519, device='cuda:0', requires_grad=True)\n",
      "\n"
     ]
    },
    {
     "name": "stderr",
     "output_type": "stream",
     "text": [
      "\n",
      "100%|██████████████████████████████████████████| 10/10 [00:00<00:00, 432.99it/s]\n",
      " 80%|██████████████████████████████████▍        | 40/50 [00:02<00:00, 16.73it/s]"
     ]
    },
    {
     "name": "stdout",
     "output_type": "stream",
     "text": [
      "Gradient of gamma: 2.6553254883765476e-07\n",
      "Epoch 39 - Loss: 0.6931474804878235\n",
      "Parameter name: gamma\n",
      "Parameter shape: torch.Size([])\n",
      "Parameter value: Parameter containing:\n",
      "tensor(-0.3617, device='cuda:0', requires_grad=True)\n",
      "\n"
     ]
    },
    {
     "name": "stderr",
     "output_type": "stream",
     "text": [
      "\n",
      "100%|██████████████████████████████████████████| 10/10 [00:00<00:00, 463.13it/s]\n"
     ]
    },
    {
     "name": "stdout",
     "output_type": "stream",
     "text": [
      "Gradient of gamma: 2.7564260562940035e-07\n",
      "Epoch 40 - Loss: 0.6931474804878235\n",
      "Parameter name: gamma\n",
      "Parameter shape: torch.Size([])\n",
      "Parameter value: Parameter containing:\n",
      "tensor(-0.3713, device='cuda:0', requires_grad=True)\n",
      "\n"
     ]
    },
    {
     "name": "stderr",
     "output_type": "stream",
     "text": [
      "\n",
      "100%|██████████████████████████████████████████| 10/10 [00:00<00:00, 446.49it/s]\n",
      " 84%|████████████████████████████████████       | 42/50 [00:02<00:00, 17.05it/s]"
     ]
    },
    {
     "name": "stdout",
     "output_type": "stream",
     "text": [
      "Gradient of gamma: 2.7430041882325895e-07\n",
      "Epoch 41 - Loss: 0.6931474804878235\n",
      "Parameter name: gamma\n",
      "Parameter shape: torch.Size([])\n",
      "Parameter value: Parameter containing:\n",
      "tensor(-0.3807, device='cuda:0', requires_grad=True)\n",
      "\n"
     ]
    },
    {
     "name": "stderr",
     "output_type": "stream",
     "text": [
      "\n",
      "100%|██████████████████████████████████████████| 10/10 [00:00<00:00, 463.28it/s]\n"
     ]
    },
    {
     "name": "stdout",
     "output_type": "stream",
     "text": [
      "Gradient of gamma: 2.7157557269674726e-07\n",
      "Epoch 42 - Loss: 0.6931474804878235\n",
      "Parameter name: gamma\n",
      "Parameter shape: torch.Size([])\n",
      "Parameter value: Parameter containing:\n",
      "tensor(-0.3898, device='cuda:0', requires_grad=True)\n",
      "\n"
     ]
    },
    {
     "name": "stderr",
     "output_type": "stream",
     "text": [
      "\n",
      "100%|██████████████████████████████████████████| 10/10 [00:00<00:00, 477.97it/s]\n",
      " 88%|█████████████████████████████████████▊     | 44/50 [00:02<00:00, 17.23it/s]"
     ]
    },
    {
     "name": "stdout",
     "output_type": "stream",
     "text": [
      "Gradient of gamma: 2.3881966626504436e-07\n",
      "Epoch 43 - Loss: 0.6931474804878235\n",
      "Parameter name: gamma\n",
      "Parameter shape: torch.Size([])\n",
      "Parameter value: Parameter containing:\n",
      "tensor(-0.3987, device='cuda:0', requires_grad=True)\n",
      "\n"
     ]
    },
    {
     "name": "stderr",
     "output_type": "stream",
     "text": [
      "\n",
      "100%|██████████████████████████████████████████| 10/10 [00:00<00:00, 432.79it/s]\n"
     ]
    },
    {
     "name": "stdout",
     "output_type": "stream",
     "text": [
      "Gradient of gamma: 2.3765824153088033e-07\n",
      "Epoch 44 - Loss: 0.6931474804878235\n",
      "Parameter name: gamma\n",
      "Parameter shape: torch.Size([])\n",
      "Parameter value: Parameter containing:\n",
      "tensor(-0.4073, device='cuda:0', requires_grad=True)\n",
      "\n"
     ]
    },
    {
     "name": "stderr",
     "output_type": "stream",
     "text": [
      "\n",
      "100%|██████████████████████████████████████████| 10/10 [00:00<00:00, 445.09it/s]\n",
      " 92%|███████████████████████████████████████▌   | 46/50 [00:02<00:00, 17.26it/s]"
     ]
    },
    {
     "name": "stdout",
     "output_type": "stream",
     "text": [
      "Gradient of gamma: 2.3763459466863424e-07\n",
      "Epoch 45 - Loss: 0.6931475400924683\n",
      "Parameter name: gamma\n",
      "Parameter shape: torch.Size([])\n",
      "Parameter value: Parameter containing:\n",
      "tensor(-0.4157, device='cuda:0', requires_grad=True)\n",
      "\n"
     ]
    },
    {
     "name": "stderr",
     "output_type": "stream",
     "text": [
      "\n",
      "100%|██████████████████████████████████████████| 10/10 [00:00<00:00, 439.15it/s]\n"
     ]
    },
    {
     "name": "stdout",
     "output_type": "stream",
     "text": [
      "Gradient of gamma: 2.3393795345327817e-07\n",
      "Epoch 46 - Loss: 0.6931475400924683\n",
      "Parameter name: gamma\n",
      "Parameter shape: torch.Size([])\n",
      "Parameter value: Parameter containing:\n",
      "tensor(-0.4239, device='cuda:0', requires_grad=True)\n",
      "\n"
     ]
    },
    {
     "name": "stderr",
     "output_type": "stream",
     "text": [
      "\n",
      "100%|██████████████████████████████████████████| 10/10 [00:00<00:00, 446.83it/s]\n",
      " 96%|█████████████████████████████████████████▎ | 48/50 [00:02<00:00, 17.08it/s]"
     ]
    },
    {
     "name": "stdout",
     "output_type": "stream",
     "text": [
      "Gradient of gamma: 2.3267966753337532e-07\n",
      "Epoch 47 - Loss: 0.6931475400924683\n",
      "Parameter name: gamma\n",
      "Parameter shape: torch.Size([])\n",
      "Parameter value: Parameter containing:\n",
      "tensor(-0.4319, device='cuda:0', requires_grad=True)\n",
      "\n"
     ]
    },
    {
     "name": "stderr",
     "output_type": "stream",
     "text": [
      "\n",
      "100%|██████████████████████████████████████████| 10/10 [00:00<00:00, 430.54it/s]\n"
     ]
    },
    {
     "name": "stdout",
     "output_type": "stream",
     "text": [
      "Gradient of gamma: 2.3063694243319333e-07\n",
      "Epoch 48 - Loss: 0.6931475400924683\n",
      "Parameter name: gamma\n",
      "Parameter shape: torch.Size([])\n",
      "Parameter value: Parameter containing:\n",
      "tensor(-0.4398, device='cuda:0', requires_grad=True)\n",
      "\n"
     ]
    },
    {
     "name": "stderr",
     "output_type": "stream",
     "text": [
      "\n",
      "100%|██████████████████████████████████████████| 10/10 [00:00<00:00, 429.26it/s]\n",
      "100%|███████████████████████████████████████████| 50/50 [00:02<00:00, 17.72it/s]\n"
     ]
    },
    {
     "name": "stdout",
     "output_type": "stream",
     "text": [
      "Gradient of gamma: 2.315582605660893e-07\n",
      "Epoch 49 - Loss: 0.6931475400924683\n",
      "Parameter name: gamma\n",
      "Parameter shape: torch.Size([])\n",
      "Parameter value: Parameter containing:\n",
      "tensor(-0.4475, device='cuda:0', requires_grad=True)\n",
      "\n"
     ]
    },
    {
     "name": "stderr",
     "output_type": "stream",
     "text": [
      "  0%|                                                    | 0/50 [00:00<?, ?it/s]\n",
      "100%|██████████████████████████████████████████| 10/10 [00:00<00:00, 412.53it/s]\n"
     ]
    },
    {
     "name": "stdout",
     "output_type": "stream",
     "text": [
      "Gradient of gamma: 0.0012324554845690727\n",
      "Epoch 0 - Loss: 0.6928870677947998\n",
      "Parameter name: gamma\n",
      "Parameter shape: torch.Size([])\n",
      "Parameter value: Parameter containing:\n",
      "tensor(1.1000, device='cuda:0', requires_grad=True)\n",
      "\n"
     ]
    },
    {
     "name": "stderr",
     "output_type": "stream",
     "text": [
      "\n",
      "100%|██████████████████████████████████████████| 10/10 [00:00<00:00, 443.18it/s]\n",
      "  4%|█▊                                          | 2/50 [00:00<00:02, 16.77it/s]"
     ]
    },
    {
     "name": "stdout",
     "output_type": "stream",
     "text": [
      "Gradient of gamma: 0.002148472238332033\n",
      "Epoch 1 - Loss: 0.6927222013473511\n",
      "Parameter name: gamma\n",
      "Parameter shape: torch.Size([])\n",
      "Parameter value: Parameter containing:\n",
      "tensor(1.1979, device='cuda:0', requires_grad=True)\n",
      "\n"
     ]
    },
    {
     "name": "stderr",
     "output_type": "stream",
     "text": [
      "\n",
      "100%|██████████████████████████████████████████| 10/10 [00:00<00:00, 476.25it/s]\n"
     ]
    },
    {
     "name": "stdout",
     "output_type": "stream",
     "text": [
      "Gradient of gamma: 0.0036499714478850365\n",
      "Epoch 2 - Loss: 0.692444384098053\n",
      "Parameter name: gamma\n",
      "Parameter shape: torch.Size([])\n",
      "Parameter value: Parameter containing:\n",
      "tensor(1.2932, device='cuda:0', requires_grad=True)\n",
      "\n"
     ]
    },
    {
     "name": "stderr",
     "output_type": "stream",
     "text": [
      "\n",
      "100%|██████████████████████████████████████████| 10/10 [00:00<00:00, 474.67it/s]\n",
      "  8%|███▌                                        | 4/50 [00:00<00:02, 17.68it/s]"
     ]
    },
    {
     "name": "stdout",
     "output_type": "stream",
     "text": [
      "Gradient of gamma: 0.006002875044941902\n",
      "Epoch 3 - Loss: 0.691993236541748\n",
      "Parameter name: gamma\n",
      "Parameter shape: torch.Size([])\n",
      "Parameter value: Parameter containing:\n",
      "tensor(1.3863, device='cuda:0', requires_grad=True)\n",
      "\n"
     ]
    },
    {
     "name": "stderr",
     "output_type": "stream",
     "text": [
      "\n",
      "100%|██████████████████████████████████████████| 10/10 [00:00<00:00, 479.10it/s]\n"
     ]
    },
    {
     "name": "stdout",
     "output_type": "stream",
     "text": [
      "Gradient of gamma: 0.009578198194503784\n",
      "Epoch 4 - Loss: 0.6912791728973389\n",
      "Parameter name: gamma\n",
      "Parameter shape: torch.Size([])\n",
      "Parameter value: Parameter containing:\n",
      "tensor(1.4776, device='cuda:0', requires_grad=True)\n",
      "\n"
     ]
    },
    {
     "name": "stderr",
     "output_type": "stream",
     "text": [
      "\n",
      "100%|██████████████████████████████████████████| 10/10 [00:00<00:00, 476.34it/s]\n",
      " 12%|█████▎                                      | 6/50 [00:00<00:02, 18.05it/s]"
     ]
    },
    {
     "name": "stdout",
     "output_type": "stream",
     "text": [
      "Gradient of gamma: 0.0148581862449646\n",
      "Epoch 5 - Loss: 0.6901789903640747\n",
      "Parameter name: gamma\n",
      "Parameter shape: torch.Size([])\n",
      "Parameter value: Parameter containing:\n",
      "tensor(1.5678, device='cuda:0', requires_grad=True)\n",
      "\n"
     ]
    },
    {
     "name": "stderr",
     "output_type": "stream",
     "text": [
      "\n",
      "100%|██████████████████████████████████████████| 10/10 [00:00<00:00, 468.68it/s]\n"
     ]
    },
    {
     "name": "stdout",
     "output_type": "stream",
     "text": [
      "Gradient of gamma: 0.022494716569781303\n",
      "Epoch 6 - Loss: 0.6885160803794861\n",
      "Parameter name: gamma\n",
      "Parameter shape: torch.Size([])\n",
      "Parameter value: Parameter containing:\n",
      "tensor(1.6575, device='cuda:0', requires_grad=True)\n",
      "\n"
     ]
    },
    {
     "name": "stderr",
     "output_type": "stream",
     "text": [
      "\n",
      "100%|██████████████████████████████████████████| 10/10 [00:00<00:00, 481.43it/s]\n",
      " 16%|███████                                     | 8/50 [00:00<00:02, 18.02it/s]"
     ]
    },
    {
     "name": "stdout",
     "output_type": "stream",
     "text": [
      "Gradient of gamma: 0.03336528316140175\n",
      "Epoch 7 - Loss: 0.6860408782958984\n",
      "Parameter name: gamma\n",
      "Parameter shape: torch.Size([])\n",
      "Parameter value: Parameter containing:\n",
      "tensor(1.7470, device='cuda:0', requires_grad=True)\n",
      "\n"
     ]
    },
    {
     "name": "stderr",
     "output_type": "stream",
     "text": [
      "\n",
      "100%|██████████████████████████████████████████| 10/10 [00:00<00:00, 460.02it/s]\n"
     ]
    },
    {
     "name": "stdout",
     "output_type": "stream",
     "text": [
      "Gradient of gamma: 0.04858022555708885\n",
      "Epoch 8 - Loss: 0.682413637638092\n",
      "Parameter name: gamma\n",
      "Parameter shape: torch.Size([])\n",
      "Parameter value: Parameter containing:\n",
      "tensor(1.8367, device='cuda:0', requires_grad=True)\n",
      "\n"
     ]
    },
    {
     "name": "stderr",
     "output_type": "stream",
     "text": [
      "\n",
      "100%|██████████████████████████████████████████| 10/10 [00:00<00:00, 448.03it/s]\n",
      " 20%|████████▌                                  | 10/50 [00:00<00:02, 17.90it/s]"
     ]
    },
    {
     "name": "stdout",
     "output_type": "stream",
     "text": [
      "Gradient of gamma: 0.06963300704956055\n",
      "Epoch 9 - Loss: 0.6771526336669922\n",
      "Parameter name: gamma\n",
      "Parameter shape: torch.Size([])\n",
      "Parameter value: Parameter containing:\n",
      "tensor(1.9269, device='cuda:0', requires_grad=True)\n",
      "\n"
     ]
    },
    {
     "name": "stderr",
     "output_type": "stream",
     "text": [
      "\n",
      "100%|██████████████████████████████████████████| 10/10 [00:00<00:00, 472.32it/s]\n"
     ]
    },
    {
     "name": "stdout",
     "output_type": "stream",
     "text": [
      "Gradient of gamma: 0.09823577105998993\n",
      "Epoch 10 - Loss: 0.6696372628211975\n",
      "Parameter name: gamma\n",
      "Parameter shape: torch.Size([])\n",
      "Parameter value: Parameter containing:\n",
      "tensor(2.0179, device='cuda:0', requires_grad=True)\n",
      "\n"
     ]
    },
    {
     "name": "stderr",
     "output_type": "stream",
     "text": [
      "\n",
      "100%|██████████████████████████████████████████| 10/10 [00:00<00:00, 481.28it/s]\n",
      " 24%|██████████▎                                | 12/50 [00:00<00:02, 17.98it/s]"
     ]
    },
    {
     "name": "stdout",
     "output_type": "stream",
     "text": [
      "Gradient of gamma: 0.1362019181251526\n",
      "Epoch 11 - Loss: 0.6590898036956787\n",
      "Parameter name: gamma\n",
      "Parameter shape: torch.Size([])\n",
      "Parameter value: Parameter containing:\n",
      "tensor(2.1099, device='cuda:0', requires_grad=True)\n",
      "\n"
     ]
    },
    {
     "name": "stderr",
     "output_type": "stream",
     "text": [
      "\n",
      "100%|██████████████████████████████████████████| 10/10 [00:00<00:00, 479.76it/s]\n"
     ]
    },
    {
     "name": "stdout",
     "output_type": "stream",
     "text": [
      "Gradient of gamma: 0.1859181970357895\n",
      "Epoch 12 - Loss: 0.6443679928779602\n",
      "Parameter name: gamma\n",
      "Parameter shape: torch.Size([])\n",
      "Parameter value: Parameter containing:\n",
      "tensor(2.2030, device='cuda:0', requires_grad=True)\n",
      "\n"
     ]
    },
    {
     "name": "stderr",
     "output_type": "stream",
     "text": [
      "\n",
      "100%|██████████████████████████████████████████| 10/10 [00:00<00:00, 473.41it/s]\n",
      " 28%|████████████                               | 14/50 [00:00<00:02, 17.99it/s]"
     ]
    },
    {
     "name": "stdout",
     "output_type": "stream",
     "text": [
      "Gradient of gamma: 0.2486668974161148\n",
      "Epoch 13 - Loss: 0.6242114901542664\n",
      "Parameter name: gamma\n",
      "Parameter shape: torch.Size([])\n",
      "Parameter value: Parameter containing:\n",
      "tensor(2.2976, device='cuda:0', requires_grad=True)\n",
      "\n"
     ]
    },
    {
     "name": "stderr",
     "output_type": "stream",
     "text": [
      "\n",
      "100%|██████████████████████████████████████████| 10/10 [00:00<00:00, 451.69it/s]\n"
     ]
    },
    {
     "name": "stdout",
     "output_type": "stream",
     "text": [
      "Gradient of gamma: 0.32358837127685547\n",
      "Epoch 14 - Loss: 0.5972510576248169\n",
      "Parameter name: gamma\n",
      "Parameter shape: torch.Size([])\n",
      "Parameter value: Parameter containing:\n",
      "tensor(2.3939, device='cuda:0', requires_grad=True)\n",
      "\n"
     ]
    },
    {
     "name": "stderr",
     "output_type": "stream",
     "text": [
      "\n",
      "100%|██████████████████████████████████████████| 10/10 [00:00<00:00, 422.46it/s]\n",
      " 32%|█████████████▊                             | 16/50 [00:00<00:01, 17.69it/s]"
     ]
    },
    {
     "name": "stdout",
     "output_type": "stream",
     "text": [
      "Gradient of gamma: 0.40519285202026367\n",
      "Epoch 15 - Loss: 0.5621570944786072\n",
      "Parameter name: gamma\n",
      "Parameter shape: torch.Size([])\n",
      "Parameter value: Parameter containing:\n",
      "tensor(2.4923, device='cuda:0', requires_grad=True)\n",
      "\n"
     ]
    },
    {
     "name": "stderr",
     "output_type": "stream",
     "text": [
      "\n",
      "100%|██████████████████████████████████████████| 10/10 [00:00<00:00, 458.70it/s]\n"
     ]
    },
    {
     "name": "stdout",
     "output_type": "stream",
     "text": [
      "Gradient of gamma: 0.4783881604671478\n",
      "Epoch 16 - Loss: 0.5184670686721802\n",
      "Parameter name: gamma\n",
      "Parameter shape: torch.Size([])\n",
      "Parameter value: Parameter containing:\n",
      "tensor(2.5932, device='cuda:0', requires_grad=True)\n",
      "\n"
     ]
    },
    {
     "name": "stderr",
     "output_type": "stream",
     "text": [
      "\n",
      "100%|██████████████████████████████████████████| 10/10 [00:00<00:00, 472.02it/s]\n",
      " 36%|███████████████▍                           | 18/50 [00:01<00:01, 17.73it/s]"
     ]
    },
    {
     "name": "stdout",
     "output_type": "stream",
     "text": [
      "Gradient of gamma: 0.5153197050094604\n",
      "Epoch 17 - Loss: 0.467893123626709\n",
      "Parameter name: gamma\n",
      "Parameter shape: torch.Size([])\n",
      "Parameter value: Parameter containing:\n",
      "tensor(2.6972, device='cuda:0', requires_grad=True)\n",
      "\n"
     ]
    },
    {
     "name": "stderr",
     "output_type": "stream",
     "text": [
      "\n",
      "100%|██████████████████████████████████████████| 10/10 [00:00<00:00, 461.73it/s]\n"
     ]
    },
    {
     "name": "stdout",
     "output_type": "stream",
     "text": [
      "Gradient of gamma: 0.4826495051383972\n",
      "Epoch 18 - Loss: 0.4152836799621582\n",
      "Parameter name: gamma\n",
      "Parameter shape: torch.Size([])\n",
      "Parameter value: Parameter containing:\n",
      "tensor(2.8042, device='cuda:0', requires_grad=True)\n",
      "\n"
     ]
    },
    {
     "name": "stderr",
     "output_type": "stream",
     "text": [
      "\n",
      "100%|██████████████████████████████████████████| 10/10 [00:00<00:00, 464.51it/s]\n",
      " 40%|█████████████████▏                         | 20/50 [00:01<00:01, 17.86it/s]"
     ]
    },
    {
     "name": "stdout",
     "output_type": "stream",
     "text": [
      "Gradient of gamma: 0.3693593442440033\n",
      "Epoch 19 - Loss: 0.36912256479263306\n",
      "Parameter name: gamma\n",
      "Parameter shape: torch.Size([])\n",
      "Parameter value: Parameter containing:\n",
      "tensor(2.9127, device='cuda:0', requires_grad=True)\n",
      "\n"
     ]
    },
    {
     "name": "stderr",
     "output_type": "stream",
     "text": [
      "\n",
      "100%|██████████████████████████████████████████| 10/10 [00:00<00:00, 477.18it/s]\n"
     ]
    },
    {
     "name": "stdout",
     "output_type": "stream",
     "text": [
      "Gradient of gamma: 0.21709729731082916\n",
      "Epoch 20 - Loss: 0.33727461099624634\n",
      "Parameter name: gamma\n",
      "Parameter shape: torch.Size([])\n",
      "Parameter value: Parameter containing:\n",
      "tensor(3.0193, device='cuda:0', requires_grad=True)\n",
      "\n"
     ]
    },
    {
     "name": "stderr",
     "output_type": "stream",
     "text": [
      "\n",
      "100%|██████████████████████████████████████████| 10/10 [00:00<00:00, 494.40it/s]\n",
      " 44%|██████████████████▉                        | 22/50 [00:01<00:01, 17.97it/s]"
     ]
    },
    {
     "name": "stdout",
     "output_type": "stream",
     "text": [
      "Gradient of gamma: 0.0944177657365799\n",
      "Epoch 21 - Loss: 0.3211052417755127\n",
      "Parameter name: gamma\n",
      "Parameter shape: torch.Size([])\n",
      "Parameter value: Parameter containing:\n",
      "tensor(3.1204, device='cuda:0', requires_grad=True)\n",
      "\n"
     ]
    },
    {
     "name": "stderr",
     "output_type": "stream",
     "text": [
      "\n",
      "100%|██████████████████████████████████████████| 10/10 [00:00<00:00, 477.53it/s]\n"
     ]
    },
    {
     "name": "stdout",
     "output_type": "stream",
     "text": [
      "Gradient of gamma: 0.030548395588994026\n",
      "Epoch 22 - Loss: 0.3152253031730652\n",
      "Parameter name: gamma\n",
      "Parameter shape: torch.Size([])\n",
      "Parameter value: Parameter containing:\n",
      "tensor(3.2137, device='cuda:0', requires_grad=True)\n",
      "\n"
     ]
    },
    {
     "name": "stderr",
     "output_type": "stream",
     "text": [
      "\n",
      "100%|██████████████████████████████████████████| 10/10 [00:00<00:00, 475.77it/s]\n",
      " 48%|████████████████████▋                      | 24/50 [00:01<00:01, 17.99it/s]"
     ]
    },
    {
     "name": "stdout",
     "output_type": "stream",
     "text": [
      "Gradient of gamma: 0.00749238533899188\n",
      "Epoch 23 - Loss: 0.3136448264122009\n",
      "Parameter name: gamma\n",
      "Parameter shape: torch.Size([])\n",
      "Parameter value: Parameter containing:\n",
      "tensor(3.2990, device='cuda:0', requires_grad=True)\n",
      "\n"
     ]
    },
    {
     "name": "stderr",
     "output_type": "stream",
     "text": [
      "\n",
      "100%|██████████████████████████████████████████| 10/10 [00:00<00:00, 476.57it/s]\n"
     ]
    },
    {
     "name": "stdout",
     "output_type": "stream",
     "text": [
      "Gradient of gamma: 0.0014417334459722042\n",
      "Epoch 24 - Loss: 0.3133218586444855\n",
      "Parameter name: gamma\n",
      "Parameter shape: torch.Size([])\n",
      "Parameter value: Parameter containing:\n",
      "tensor(3.3769, device='cuda:0', requires_grad=True)\n",
      "\n"
     ]
    },
    {
     "name": "stderr",
     "output_type": "stream",
     "text": [
      "\n",
      "100%|██████████████████████████████████████████| 10/10 [00:00<00:00, 507.84it/s]\n",
      " 52%|██████████████████████▎                    | 26/50 [00:01<00:01, 18.05it/s]"
     ]
    },
    {
     "name": "stdout",
     "output_type": "stream",
     "text": [
      "Gradient of gamma: 0.00022348202764987946\n",
      "Epoch 25 - Loss: 0.3132695257663727\n",
      "Parameter name: gamma\n",
      "Parameter shape: torch.Size([])\n",
      "Parameter value: Parameter containing:\n",
      "tensor(3.4478, device='cuda:0', requires_grad=True)\n",
      "\n"
     ]
    },
    {
     "name": "stderr",
     "output_type": "stream",
     "text": [
      "\n",
      "100%|██████████████████████████████████████████| 10/10 [00:00<00:00, 449.06it/s]\n"
     ]
    },
    {
     "name": "stdout",
     "output_type": "stream",
     "text": [
      "Gradient of gamma: 2.878810846596025e-05\n",
      "Epoch 26 - Loss: 0.3132624924182892\n",
      "Parameter name: gamma\n",
      "Parameter shape: torch.Size([])\n",
      "Parameter value: Parameter containing:\n",
      "tensor(3.5123, device='cuda:0', requires_grad=True)\n",
      "\n"
     ]
    },
    {
     "name": "stderr",
     "output_type": "stream",
     "text": [
      "\n",
      "100%|██████████████████████████████████████████| 10/10 [00:00<00:00, 464.21it/s]\n",
      " 56%|████████████████████████                   | 28/50 [00:01<00:01, 17.93it/s]"
     ]
    },
    {
     "name": "stdout",
     "output_type": "stream",
     "text": [
      "Gradient of gamma: 3.1964073059498332e-06\n",
      "Epoch 27 - Loss: 0.31326180696487427\n",
      "Parameter name: gamma\n",
      "Parameter shape: torch.Size([])\n",
      "Parameter value: Parameter containing:\n",
      "tensor(3.5712, device='cuda:0', requires_grad=True)\n",
      "\n"
     ]
    },
    {
     "name": "stderr",
     "output_type": "stream",
     "text": [
      "\n",
      "100%|██████████████████████████████████████████| 10/10 [00:00<00:00, 472.85it/s]\n"
     ]
    },
    {
     "name": "stdout",
     "output_type": "stream",
     "text": [
      "Gradient of gamma: 3.061140034787968e-07\n",
      "Epoch 28 - Loss: 0.3132617473602295\n",
      "Parameter name: gamma\n",
      "Parameter shape: torch.Size([])\n",
      "Parameter value: Parameter containing:\n",
      "tensor(3.6248, device='cuda:0', requires_grad=True)\n",
      "\n"
     ]
    },
    {
     "name": "stderr",
     "output_type": "stream",
     "text": [
      "\n",
      "100%|██████████████████████████████████████████| 10/10 [00:00<00:00, 519.77it/s]\n",
      " 60%|█████████████████████████▊                 | 30/50 [00:01<00:01, 18.01it/s]"
     ]
    },
    {
     "name": "stdout",
     "output_type": "stream",
     "text": [
      "Gradient of gamma: 2.7783796596736465e-08\n",
      "Epoch 29 - Loss: 0.3132617473602295\n",
      "Parameter name: gamma\n",
      "Parameter shape: torch.Size([])\n",
      "Parameter value: Parameter containing:\n",
      "tensor(3.6737, device='cuda:0', requires_grad=True)\n",
      "\n"
     ]
    },
    {
     "name": "stderr",
     "output_type": "stream",
     "text": [
      "\n",
      "100%|██████████████████████████████████████████| 10/10 [00:00<00:00, 490.38it/s]\n"
     ]
    },
    {
     "name": "stdout",
     "output_type": "stream",
     "text": [
      "Gradient of gamma: 2.401174592492339e-09\n",
      "Epoch 30 - Loss: 0.3132617473602295\n",
      "Parameter name: gamma\n",
      "Parameter shape: torch.Size([])\n",
      "Parameter value: Parameter containing:\n",
      "tensor(3.7182, device='cuda:0', requires_grad=True)\n",
      "\n"
     ]
    },
    {
     "name": "stderr",
     "output_type": "stream",
     "text": [
      "\n",
      "100%|██████████████████████████████████████████| 10/10 [00:00<00:00, 497.10it/s]\n",
      " 64%|███████████████████████████▌               | 32/50 [00:01<00:00, 18.11it/s]"
     ]
    },
    {
     "name": "stdout",
     "output_type": "stream",
     "text": [
      "Gradient of gamma: 1.9958140695663928e-10\n",
      "Epoch 31 - Loss: 0.3132617473602295\n",
      "Parameter name: gamma\n",
      "Parameter shape: torch.Size([])\n",
      "Parameter value: Parameter containing:\n",
      "tensor(3.7587, device='cuda:0', requires_grad=True)\n",
      "\n"
     ]
    },
    {
     "name": "stderr",
     "output_type": "stream",
     "text": [
      "\n",
      "100%|██████████████████████████████████████████| 10/10 [00:00<00:00, 492.25it/s]\n"
     ]
    },
    {
     "name": "stdout",
     "output_type": "stream",
     "text": [
      "Gradient of gamma: 1.681808164955001e-11\n",
      "Epoch 32 - Loss: 0.3132617473602295\n",
      "Parameter name: gamma\n",
      "Parameter shape: torch.Size([])\n",
      "Parameter value: Parameter containing:\n",
      "tensor(3.7957, device='cuda:0', requires_grad=True)\n",
      "\n"
     ]
    },
    {
     "name": "stderr",
     "output_type": "stream",
     "text": [
      "\n",
      "100%|██████████████████████████████████████████| 10/10 [00:00<00:00, 460.81it/s]\n",
      " 68%|█████████████████████████████▏             | 34/50 [00:01<00:00, 18.05it/s]"
     ]
    },
    {
     "name": "stdout",
     "output_type": "stream",
     "text": [
      "Gradient of gamma: 1.4563970689163153e-12\n",
      "Epoch 33 - Loss: 0.3132617473602295\n",
      "Parameter name: gamma\n",
      "Parameter shape: torch.Size([])\n",
      "Parameter value: Parameter containing:\n",
      "tensor(3.8293, device='cuda:0', requires_grad=True)\n",
      "\n"
     ]
    },
    {
     "name": "stderr",
     "output_type": "stream",
     "text": [
      "\n",
      "100%|██████████████████████████████████████████| 10/10 [00:00<00:00, 492.64it/s]\n"
     ]
    },
    {
     "name": "stdout",
     "output_type": "stream",
     "text": [
      "Gradient of gamma: 1.3166568800949269e-13\n",
      "Epoch 34 - Loss: 0.3132617473602295\n",
      "Parameter name: gamma\n",
      "Parameter shape: torch.Size([])\n",
      "Parameter value: Parameter containing:\n",
      "tensor(3.8600, device='cuda:0', requires_grad=True)\n",
      "\n"
     ]
    },
    {
     "name": "stderr",
     "output_type": "stream",
     "text": [
      "\n",
      "100%|██████████████████████████████████████████| 10/10 [00:00<00:00, 464.08it/s]\n",
      " 72%|██████████████████████████████▉            | 36/50 [00:02<00:00, 18.05it/s]"
     ]
    },
    {
     "name": "stdout",
     "output_type": "stream",
     "text": [
      "Gradient of gamma: 1.2618976569516056e-14\n",
      "Epoch 35 - Loss: 0.3132617473602295\n",
      "Parameter name: gamma\n",
      "Parameter shape: torch.Size([])\n",
      "Parameter value: Parameter containing:\n",
      "tensor(3.8879, device='cuda:0', requires_grad=True)\n",
      "\n"
     ]
    },
    {
     "name": "stderr",
     "output_type": "stream",
     "text": [
      "\n",
      "100%|██████████████████████████████████████████| 10/10 [00:00<00:00, 480.71it/s]\n"
     ]
    },
    {
     "name": "stdout",
     "output_type": "stream",
     "text": [
      "Gradient of gamma: 1.3303497351993673e-15\n",
      "Epoch 36 - Loss: 0.3132617473602295\n",
      "Parameter name: gamma\n",
      "Parameter shape: torch.Size([])\n",
      "Parameter value: Parameter containing:\n",
      "tensor(3.9133, device='cuda:0', requires_grad=True)\n",
      "\n"
     ]
    },
    {
     "name": "stderr",
     "output_type": "stream",
     "text": [
      "\n",
      "100%|██████████████████████████████████████████| 10/10 [00:00<00:00, 475.59it/s]\n",
      " 76%|████████████████████████████████▋          | 38/50 [00:02<00:00, 18.01it/s]"
     ]
    },
    {
     "name": "stdout",
     "output_type": "stream",
     "text": [
      "Gradient of gamma: 1.5584260088022373e-16\n",
      "Epoch 37 - Loss: 0.3132617473602295\n",
      "Parameter name: gamma\n",
      "Parameter shape: torch.Size([])\n",
      "Parameter value: Parameter containing:\n",
      "tensor(3.9364, device='cuda:0', requires_grad=True)\n",
      "\n"
     ]
    },
    {
     "name": "stderr",
     "output_type": "stream",
     "text": [
      "\n",
      "100%|██████████████████████████████████████████| 10/10 [00:00<00:00, 502.01it/s]\n"
     ]
    },
    {
     "name": "stdout",
     "output_type": "stream",
     "text": [
      "Gradient of gamma: 2.036446703392262e-17\n",
      "Epoch 38 - Loss: 0.3132617473602295\n",
      "Parameter name: gamma\n",
      "Parameter shape: torch.Size([])\n",
      "Parameter value: Parameter containing:\n",
      "tensor(3.9575, device='cuda:0', requires_grad=True)\n",
      "\n"
     ]
    },
    {
     "name": "stderr",
     "output_type": "stream",
     "text": [
      "\n",
      "100%|██████████████████████████████████████████| 10/10 [00:00<00:00, 493.89it/s]\n",
      " 80%|██████████████████████████████████▍        | 40/50 [00:02<00:00, 18.14it/s]"
     ]
    },
    {
     "name": "stdout",
     "output_type": "stream",
     "text": [
      "Gradient of gamma: 3.0091527875214376e-18\n",
      "Epoch 39 - Loss: 0.3132617473602295\n",
      "Parameter name: gamma\n",
      "Parameter shape: torch.Size([])\n",
      "Parameter value: Parameter containing:\n",
      "tensor(3.9767, device='cuda:0', requires_grad=True)\n",
      "\n"
     ]
    },
    {
     "name": "stderr",
     "output_type": "stream",
     "text": [
      "\n",
      "100%|██████████████████████████████████████████| 10/10 [00:00<00:00, 479.38it/s]\n"
     ]
    },
    {
     "name": "stdout",
     "output_type": "stream",
     "text": [
      "Gradient of gamma: 5.128823786703885e-19\n",
      "Epoch 40 - Loss: 0.3132617473602295\n",
      "Parameter name: gamma\n",
      "Parameter shape: torch.Size([])\n",
      "Parameter value: Parameter containing:\n",
      "tensor(3.9941, device='cuda:0', requires_grad=True)\n",
      "\n"
     ]
    },
    {
     "name": "stderr",
     "output_type": "stream",
     "text": [
      "\n",
      "100%|██████████████████████████████████████████| 10/10 [00:00<00:00, 492.90it/s]\n",
      " 84%|████████████████████████████████████       | 42/50 [00:02<00:00, 18.15it/s]"
     ]
    },
    {
     "name": "stdout",
     "output_type": "stream",
     "text": [
      "Gradient of gamma: 1.0170213419438178e-19\n",
      "Epoch 41 - Loss: 0.3132617473602295\n",
      "Parameter name: gamma\n",
      "Parameter shape: torch.Size([])\n",
      "Parameter value: Parameter containing:\n",
      "tensor(4.0100, device='cuda:0', requires_grad=True)\n",
      "\n"
     ]
    },
    {
     "name": "stderr",
     "output_type": "stream",
     "text": [
      "\n",
      "100%|██████████████████████████████████████████| 10/10 [00:00<00:00, 464.87it/s]\n"
     ]
    },
    {
     "name": "stdout",
     "output_type": "stream",
     "text": [
      "Gradient of gamma: 2.2982504077034095e-20\n",
      "Epoch 42 - Loss: 0.3132617473602295\n",
      "Parameter name: gamma\n",
      "Parameter shape: torch.Size([])\n",
      "Parameter value: Parameter containing:\n",
      "tensor(4.0244, device='cuda:0', requires_grad=True)\n",
      "\n"
     ]
    },
    {
     "name": "stderr",
     "output_type": "stream",
     "text": [
      "\n",
      "100%|██████████████████████████████████████████| 10/10 [00:00<00:00, 486.52it/s]\n",
      " 88%|█████████████████████████████████████▊     | 44/50 [00:02<00:00, 18.08it/s]"
     ]
    },
    {
     "name": "stdout",
     "output_type": "stream",
     "text": [
      "Gradient of gamma: 6.1987832661344186e-21\n",
      "Epoch 43 - Loss: 0.3132617473602295\n",
      "Parameter name: gamma\n",
      "Parameter shape: torch.Size([])\n",
      "Parameter value: Parameter containing:\n",
      "tensor(4.0375, device='cuda:0', requires_grad=True)\n",
      "\n"
     ]
    },
    {
     "name": "stderr",
     "output_type": "stream",
     "text": [
      "\n",
      "100%|██████████████████████████████████████████| 10/10 [00:00<00:00, 495.99it/s]\n"
     ]
    },
    {
     "name": "stdout",
     "output_type": "stream",
     "text": [
      "Gradient of gamma: 1.950413124527262e-21\n",
      "Epoch 44 - Loss: 0.3132617473602295\n",
      "Parameter name: gamma\n",
      "Parameter shape: torch.Size([])\n",
      "Parameter value: Parameter containing:\n",
      "tensor(4.0495, device='cuda:0', requires_grad=True)\n",
      "\n"
     ]
    },
    {
     "name": "stderr",
     "output_type": "stream",
     "text": [
      "\n",
      "100%|██████████████████████████████████████████| 10/10 [00:00<00:00, 489.82it/s]\n",
      " 92%|███████████████████████████████████████▌   | 46/50 [00:02<00:00, 18.19it/s]"
     ]
    },
    {
     "name": "stdout",
     "output_type": "stream",
     "text": [
      "Gradient of gamma: 7.247208843151239e-22\n",
      "Epoch 45 - Loss: 0.3132617473602295\n",
      "Parameter name: gamma\n",
      "Parameter shape: torch.Size([])\n",
      "Parameter value: Parameter containing:\n",
      "tensor(4.0604, device='cuda:0', requires_grad=True)\n",
      "\n"
     ]
    },
    {
     "name": "stderr",
     "output_type": "stream",
     "text": [
      "\n",
      "100%|██████████████████████████████████████████| 10/10 [00:00<00:00, 486.95it/s]\n"
     ]
    },
    {
     "name": "stdout",
     "output_type": "stream",
     "text": [
      "Gradient of gamma: 3.0543063516894304e-22\n",
      "Epoch 46 - Loss: 0.3132617473602295\n",
      "Parameter name: gamma\n",
      "Parameter shape: torch.Size([])\n",
      "Parameter value: Parameter containing:\n",
      "tensor(4.0702, device='cuda:0', requires_grad=True)\n",
      "\n"
     ]
    },
    {
     "name": "stderr",
     "output_type": "stream",
     "text": [
      "\n",
      "100%|██████████████████████████████████████████| 10/10 [00:00<00:00, 480.86it/s]\n",
      " 96%|█████████████████████████████████████████▎ | 48/50 [00:02<00:00, 18.20it/s]"
     ]
    },
    {
     "name": "stdout",
     "output_type": "stream",
     "text": [
      "Gradient of gamma: 1.4571213863405595e-22\n",
      "Epoch 47 - Loss: 0.3132617473602295\n",
      "Parameter name: gamma\n",
      "Parameter shape: torch.Size([])\n",
      "Parameter value: Parameter containing:\n",
      "tensor(4.0792, device='cuda:0', requires_grad=True)\n",
      "\n"
     ]
    },
    {
     "name": "stderr",
     "output_type": "stream",
     "text": [
      "\n",
      "100%|██████████████████████████████████████████| 10/10 [00:00<00:00, 479.50it/s]\n"
     ]
    },
    {
     "name": "stdout",
     "output_type": "stream",
     "text": [
      "Gradient of gamma: 7.730624194265868e-23\n",
      "Epoch 48 - Loss: 0.3132617473602295\n",
      "Parameter name: gamma\n",
      "Parameter shape: torch.Size([])\n",
      "Parameter value: Parameter containing:\n",
      "tensor(4.0874, device='cuda:0', requires_grad=True)\n",
      "\n"
     ]
    },
    {
     "name": "stderr",
     "output_type": "stream",
     "text": [
      "\n",
      "100%|██████████████████████████████████████████| 10/10 [00:00<00:00, 485.03it/s]\n",
      "100%|███████████████████████████████████████████| 50/50 [00:02<00:00, 18.01it/s]\n"
     ]
    },
    {
     "name": "stdout",
     "output_type": "stream",
     "text": [
      "Gradient of gamma: 4.5381044263807954e-23\n",
      "Epoch 49 - Loss: 0.3132617473602295\n",
      "Parameter name: gamma\n",
      "Parameter shape: torch.Size([])\n",
      "Parameter value: Parameter containing:\n",
      "tensor(4.0948, device='cuda:0', requires_grad=True)\n",
      "\n"
     ]
    },
    {
     "name": "stderr",
     "output_type": "stream",
     "text": [
      "  0%|                                                    | 0/50 [00:00<?, ?it/s]\n",
      "100%|██████████████████████████████████████████| 10/10 [00:00<00:00, 444.82it/s]\n"
     ]
    },
    {
     "name": "stdout",
     "output_type": "stream",
     "text": [
      "Gradient of gamma: 0.00011593615636229515\n",
      "Epoch 0 - Loss: 0.693164050579071\n",
      "Parameter name: gamma\n",
      "Parameter shape: torch.Size([])\n",
      "Parameter value: Parameter containing:\n",
      "tensor(0.9000, device='cuda:0', requires_grad=True)\n",
      "\n"
     ]
    },
    {
     "name": "stderr",
     "output_type": "stream",
     "text": [
      "\n",
      "100%|██████████████████████████████████████████| 10/10 [00:00<00:00, 437.94it/s]\n",
      "  4%|█▊                                          | 2/50 [00:00<00:02, 17.46it/s]"
     ]
    },
    {
     "name": "stdout",
     "output_type": "stream",
     "text": [
      "Gradient of gamma: 5.549285560846329e-05\n",
      "Epoch 1 - Loss: 0.693155825138092\n",
      "Parameter name: gamma\n",
      "Parameter shape: torch.Size([])\n",
      "Parameter value: Parameter containing:\n",
      "tensor(0.8074, device='cuda:0', requires_grad=True)\n",
      "\n"
     ]
    },
    {
     "name": "stderr",
     "output_type": "stream",
     "text": [
      "\n",
      "100%|██████████████████████████████████████████| 10/10 [00:00<00:00, 447.31it/s]\n"
     ]
    },
    {
     "name": "stdout",
     "output_type": "stream",
     "text": [
      "Gradient of gamma: 2.747843973338604e-05\n",
      "Epoch 2 - Loss: 0.693152129650116\n",
      "Parameter name: gamma\n",
      "Parameter shape: torch.Size([])\n",
      "Parameter value: Parameter containing:\n",
      "tensor(0.7241, device='cuda:0', requires_grad=True)\n",
      "\n"
     ]
    },
    {
     "name": "stderr",
     "output_type": "stream",
     "text": [
      "\n",
      "100%|██████████████████████████████████████████| 10/10 [00:00<00:00, 450.09it/s]\n",
      "  8%|███▌                                        | 4/50 [00:00<00:02, 17.61it/s]"
     ]
    },
    {
     "name": "stdout",
     "output_type": "stream",
     "text": [
      "Gradient of gamma: 1.449178671464324e-05\n",
      "Epoch 3 - Loss: 0.6931504011154175\n",
      "Parameter name: gamma\n",
      "Parameter shape: torch.Size([])\n",
      "Parameter value: Parameter containing:\n",
      "tensor(0.6499, device='cuda:0', requires_grad=True)\n",
      "\n"
     ]
    },
    {
     "name": "stderr",
     "output_type": "stream",
     "text": [
      "\n",
      "100%|██████████████████████████████████████████| 10/10 [00:00<00:00, 471.71it/s]\n"
     ]
    },
    {
     "name": "stdout",
     "output_type": "stream",
     "text": [
      "Gradient of gamma: 8.325863745994866e-06\n",
      "Epoch 4 - Loss: 0.6931496858596802\n",
      "Parameter name: gamma\n",
      "Parameter shape: torch.Size([])\n",
      "Parameter value: Parameter containing:\n",
      "tensor(0.5838, device='cuda:0', requires_grad=True)\n",
      "\n"
     ]
    },
    {
     "name": "stderr",
     "output_type": "stream",
     "text": [
      "\n",
      "100%|██████████████████████████████████████████| 10/10 [00:00<00:00, 472.27it/s]\n",
      " 12%|█████▎                                      | 6/50 [00:00<00:02, 17.92it/s]"
     ]
    },
    {
     "name": "stdout",
     "output_type": "stream",
     "text": [
      "Gradient of gamma: 5.515117663890123e-06\n",
      "Epoch 5 - Loss: 0.693149209022522\n",
      "Parameter name: gamma\n",
      "Parameter shape: torch.Size([])\n",
      "Parameter value: Parameter containing:\n",
      "tensor(0.5248, device='cuda:0', requires_grad=True)\n",
      "\n"
     ]
    },
    {
     "name": "stderr",
     "output_type": "stream",
     "text": [
      "\n",
      "100%|██████████████████████████████████████████| 10/10 [00:00<00:00, 468.88it/s]\n"
     ]
    },
    {
     "name": "stdout",
     "output_type": "stream",
     "text": [
      "Gradient of gamma: 3.962093614973128e-06\n",
      "Epoch 6 - Loss: 0.6931489109992981\n",
      "Parameter name: gamma\n",
      "Parameter shape: torch.Size([])\n",
      "Parameter value: Parameter containing:\n",
      "tensor(0.4717, device='cuda:0', requires_grad=True)\n",
      "\n"
     ]
    },
    {
     "name": "stderr",
     "output_type": "stream",
     "text": [
      "\n",
      "100%|██████████████████████████████████████████| 10/10 [00:00<00:00, 479.32it/s]\n",
      " 16%|███████                                     | 8/50 [00:00<00:02, 18.09it/s]"
     ]
    },
    {
     "name": "stdout",
     "output_type": "stream",
     "text": [
      "Gradient of gamma: 3.0007631721673533e-06\n",
      "Epoch 7 - Loss: 0.6931487321853638\n",
      "Parameter name: gamma\n",
      "Parameter shape: torch.Size([])\n",
      "Parameter value: Parameter containing:\n",
      "tensor(0.4239, device='cuda:0', requires_grad=True)\n",
      "\n"
     ]
    },
    {
     "name": "stderr",
     "output_type": "stream",
     "text": [
      "\n",
      "100%|██████████████████████████████████████████| 10/10 [00:00<00:00, 466.67it/s]\n"
     ]
    },
    {
     "name": "stdout",
     "output_type": "stream",
     "text": [
      "Gradient of gamma: 2.469530954840593e-06\n",
      "Epoch 8 - Loss: 0.6931484937667847\n",
      "Parameter name: gamma\n",
      "Parameter shape: torch.Size([])\n",
      "Parameter value: Parameter containing:\n",
      "tensor(0.3804, device='cuda:0', requires_grad=True)\n",
      "\n"
     ]
    },
    {
     "name": "stderr",
     "output_type": "stream",
     "text": [
      "\n",
      "100%|██████████████████████████████████████████| 10/10 [00:00<00:00, 471.01it/s]\n",
      " 20%|████████▌                                  | 10/50 [00:00<00:02, 18.15it/s]"
     ]
    },
    {
     "name": "stdout",
     "output_type": "stream",
     "text": [
      "Gradient of gamma: 2.1155417471163673e-06\n",
      "Epoch 9 - Loss: 0.6931484341621399\n",
      "Parameter name: gamma\n",
      "Parameter shape: torch.Size([])\n",
      "Parameter value: Parameter containing:\n",
      "tensor(0.3409, device='cuda:0', requires_grad=True)\n",
      "\n"
     ]
    },
    {
     "name": "stderr",
     "output_type": "stream",
     "text": [
      "\n",
      "100%|██████████████████████████████████████████| 10/10 [00:00<00:00, 478.53it/s]\n"
     ]
    },
    {
     "name": "stdout",
     "output_type": "stream",
     "text": [
      "Gradient of gamma: 1.865141598500486e-06\n",
      "Epoch 10 - Loss: 0.6931483149528503\n",
      "Parameter name: gamma\n",
      "Parameter shape: torch.Size([])\n",
      "Parameter value: Parameter containing:\n",
      "tensor(0.3048, device='cuda:0', requires_grad=True)\n",
      "\n"
     ]
    },
    {
     "name": "stderr",
     "output_type": "stream",
     "text": [
      "\n",
      "100%|██████████████████████████████████████████| 10/10 [00:00<00:00, 464.06it/s]\n",
      " 24%|██████████▎                                | 12/50 [00:00<00:02, 18.14it/s]"
     ]
    },
    {
     "name": "stdout",
     "output_type": "stream",
     "text": [
      "Gradient of gamma: 1.611628249520436e-06\n",
      "Epoch 11 - Loss: 0.6931483149528503\n",
      "Parameter name: gamma\n",
      "Parameter shape: torch.Size([])\n",
      "Parameter value: Parameter containing:\n",
      "tensor(0.2718, device='cuda:0', requires_grad=True)\n",
      "\n"
     ]
    },
    {
     "name": "stderr",
     "output_type": "stream",
     "text": [
      "\n",
      "100%|██████████████████████████████████████████| 10/10 [00:00<00:00, 470.43it/s]\n"
     ]
    },
    {
     "name": "stdout",
     "output_type": "stream",
     "text": [
      "Gradient of gamma: 1.535578576294938e-06\n",
      "Epoch 12 - Loss: 0.6931482553482056\n",
      "Parameter name: gamma\n",
      "Parameter shape: torch.Size([])\n",
      "Parameter value: Parameter containing:\n",
      "tensor(0.2415, device='cuda:0', requires_grad=True)\n",
      "\n"
     ]
    },
    {
     "name": "stderr",
     "output_type": "stream",
     "text": [
      "\n",
      "100%|██████████████████████████████████████████| 10/10 [00:00<00:00, 457.33it/s]\n",
      " 28%|████████████                               | 14/50 [00:00<00:01, 18.01it/s]"
     ]
    },
    {
     "name": "stdout",
     "output_type": "stream",
     "text": [
      "Gradient of gamma: 1.395426579620107e-06\n",
      "Epoch 13 - Loss: 0.6931482553482056\n",
      "Parameter name: gamma\n",
      "Parameter shape: torch.Size([])\n",
      "Parameter value: Parameter containing:\n",
      "tensor(0.2135, device='cuda:0', requires_grad=True)\n",
      "\n"
     ]
    },
    {
     "name": "stderr",
     "output_type": "stream",
     "text": [
      "\n",
      "100%|██████████████████████████████████████████| 10/10 [00:00<00:00, 464.90it/s]\n"
     ]
    },
    {
     "name": "stdout",
     "output_type": "stream",
     "text": [
      "Gradient of gamma: 1.3263547771202866e-06\n",
      "Epoch 14 - Loss: 0.6931481957435608\n",
      "Parameter name: gamma\n",
      "Parameter shape: torch.Size([])\n",
      "Parameter value: Parameter containing:\n",
      "tensor(0.1878, device='cuda:0', requires_grad=True)\n",
      "\n"
     ]
    },
    {
     "name": "stderr",
     "output_type": "stream",
     "text": [
      "\n",
      "100%|██████████████████████████████████████████| 10/10 [00:00<00:00, 456.53it/s]\n",
      " 32%|█████████████▊                             | 16/50 [00:00<00:01, 18.06it/s]"
     ]
    },
    {
     "name": "stdout",
     "output_type": "stream",
     "text": [
      "Gradient of gamma: 1.1746744803531328e-06\n",
      "Epoch 15 - Loss: 0.693148136138916\n",
      "Parameter name: gamma\n",
      "Parameter shape: torch.Size([])\n",
      "Parameter value: Parameter containing:\n",
      "tensor(0.1640, device='cuda:0', requires_grad=True)\n",
      "\n"
     ]
    },
    {
     "name": "stderr",
     "output_type": "stream",
     "text": [
      "\n",
      "100%|██████████████████████████████████████████| 10/10 [00:00<00:00, 472.09it/s]\n"
     ]
    },
    {
     "name": "stdout",
     "output_type": "stream",
     "text": [
      "Gradient of gamma: 1.1417707810323918e-06\n",
      "Epoch 16 - Loss: 0.693148136138916\n",
      "Parameter name: gamma\n",
      "Parameter shape: torch.Size([])\n",
      "Parameter value: Parameter containing:\n",
      "tensor(0.1420, device='cuda:0', requires_grad=True)\n",
      "\n"
     ]
    },
    {
     "name": "stderr",
     "output_type": "stream",
     "text": [
      "\n",
      "100%|██████████████████████████████████████████| 10/10 [00:00<00:00, 465.34it/s]\n",
      " 36%|███████████████▍                           | 18/50 [00:01<00:01, 18.01it/s]"
     ]
    },
    {
     "name": "stdout",
     "output_type": "stream",
     "text": [
      "Gradient of gamma: 1.078426635103824e-06\n",
      "Epoch 17 - Loss: 0.693148136138916\n",
      "Parameter name: gamma\n",
      "Parameter shape: torch.Size([])\n",
      "Parameter value: Parameter containing:\n",
      "tensor(0.1216, device='cuda:0', requires_grad=True)\n",
      "\n"
     ]
    },
    {
     "name": "stderr",
     "output_type": "stream",
     "text": [
      "\n",
      "100%|██████████████████████████████████████████| 10/10 [00:00<00:00, 458.99it/s]\n"
     ]
    },
    {
     "name": "stdout",
     "output_type": "stream",
     "text": [
      "Gradient of gamma: 1.0179239779972704e-06\n",
      "Epoch 18 - Loss: 0.6931480765342712\n",
      "Parameter name: gamma\n",
      "Parameter shape: torch.Size([])\n",
      "Parameter value: Parameter containing:\n",
      "tensor(0.1027, device='cuda:0', requires_grad=True)\n",
      "\n"
     ]
    },
    {
     "name": "stderr",
     "output_type": "stream",
     "text": [
      "\n",
      "100%|██████████████████████████████████████████| 10/10 [00:00<00:00, 418.57it/s]\n",
      " 40%|█████████████████▏                         | 20/50 [00:01<00:01, 17.80it/s]"
     ]
    },
    {
     "name": "stdout",
     "output_type": "stream",
     "text": [
      "Gradient of gamma: 9.963865750250989e-07\n",
      "Epoch 19 - Loss: 0.6931480765342712\n",
      "Parameter name: gamma\n",
      "Parameter shape: torch.Size([])\n",
      "Parameter value: Parameter containing:\n",
      "tensor(0.0852, device='cuda:0', requires_grad=True)\n",
      "\n"
     ]
    },
    {
     "name": "stderr",
     "output_type": "stream",
     "text": [
      "\n",
      "100%|██████████████████████████████████████████| 10/10 [00:00<00:00, 457.00it/s]\n"
     ]
    },
    {
     "name": "stdout",
     "output_type": "stream",
     "text": [
      "Gradient of gamma: 9.774289537745062e-07\n",
      "Epoch 20 - Loss: 0.6931480765342712\n",
      "Parameter name: gamma\n",
      "Parameter shape: torch.Size([])\n",
      "Parameter value: Parameter containing:\n",
      "tensor(0.0688, device='cuda:0', requires_grad=True)\n",
      "\n"
     ]
    },
    {
     "name": "stderr",
     "output_type": "stream",
     "text": [
      "\n",
      "100%|██████████████████████████████████████████| 10/10 [00:00<00:00, 460.34it/s]\n",
      " 44%|██████████████████▉                        | 22/50 [00:01<00:01, 17.81it/s]"
     ]
    },
    {
     "name": "stdout",
     "output_type": "stream",
     "text": [
      "Gradient of gamma: 9.599019676898024e-07\n",
      "Epoch 21 - Loss: 0.6931480765342712\n",
      "Parameter name: gamma\n",
      "Parameter shape: torch.Size([])\n",
      "Parameter value: Parameter containing:\n",
      "tensor(0.0535, device='cuda:0', requires_grad=True)\n",
      "\n"
     ]
    },
    {
     "name": "stderr",
     "output_type": "stream",
     "text": [
      "\n",
      "100%|██████████████████████████████████████████| 10/10 [00:00<00:00, 456.59it/s]\n"
     ]
    },
    {
     "name": "stdout",
     "output_type": "stream",
     "text": [
      "Gradient of gamma: 9.131265983342018e-07\n",
      "Epoch 22 - Loss: 0.6931480169296265\n",
      "Parameter name: gamma\n",
      "Parameter shape: torch.Size([])\n",
      "Parameter value: Parameter containing:\n",
      "tensor(0.0392, device='cuda:0', requires_grad=True)\n",
      "\n"
     ]
    },
    {
     "name": "stderr",
     "output_type": "stream",
     "text": [
      "\n",
      "100%|██████████████████████████████████████████| 10/10 [00:00<00:00, 461.03it/s]\n",
      " 48%|████████████████████▋                      | 24/50 [00:01<00:01, 17.91it/s]"
     ]
    },
    {
     "name": "stdout",
     "output_type": "stream",
     "text": [
      "Gradient of gamma: 8.703477192284481e-07\n",
      "Epoch 23 - Loss: 0.6931480169296265\n",
      "Parameter name: gamma\n",
      "Parameter shape: torch.Size([])\n",
      "Parameter value: Parameter containing:\n",
      "tensor(0.0259, device='cuda:0', requires_grad=True)\n",
      "\n"
     ]
    },
    {
     "name": "stderr",
     "output_type": "stream",
     "text": [
      "\n",
      "100%|██████████████████████████████████████████| 10/10 [00:00<00:00, 456.88it/s]\n"
     ]
    },
    {
     "name": "stdout",
     "output_type": "stream",
     "text": [
      "Gradient of gamma: 8.585114414927375e-07\n",
      "Epoch 24 - Loss: 0.6931480169296265\n",
      "Parameter name: gamma\n",
      "Parameter shape: torch.Size([])\n",
      "Parameter value: Parameter containing:\n",
      "tensor(0.0133, device='cuda:0', requires_grad=True)\n",
      "\n"
     ]
    },
    {
     "name": "stderr",
     "output_type": "stream",
     "text": [
      "\n",
      "100%|██████████████████████████████████████████| 10/10 [00:00<00:00, 452.34it/s]\n",
      " 52%|██████████████████████▎                    | 26/50 [00:01<00:01, 17.98it/s]"
     ]
    },
    {
     "name": "stdout",
     "output_type": "stream",
     "text": [
      "Gradient of gamma: 8.150744861268322e-07\n",
      "Epoch 25 - Loss: 0.6931480169296265\n",
      "Parameter name: gamma\n",
      "Parameter shape: torch.Size([])\n",
      "Parameter value: Parameter containing:\n",
      "tensor(0.0016, device='cuda:0', requires_grad=True)\n",
      "\n"
     ]
    },
    {
     "name": "stderr",
     "output_type": "stream",
     "text": [
      "\n",
      "100%|██████████████████████████████████████████| 10/10 [00:00<00:00, 460.67it/s]\n"
     ]
    },
    {
     "name": "stdout",
     "output_type": "stream",
     "text": [
      "Gradient of gamma: 8.045720392146904e-07\n",
      "Epoch 26 - Loss: 0.6931480169296265\n",
      "Parameter name: gamma\n",
      "Parameter shape: torch.Size([])\n",
      "Parameter value: Parameter containing:\n",
      "tensor(-0.0094, device='cuda:0', requires_grad=True)\n",
      "\n"
     ]
    },
    {
     "name": "stderr",
     "output_type": "stream",
     "text": [
      "\n",
      "100%|██████████████████████████████████████████| 10/10 [00:00<00:00, 458.80it/s]\n",
      " 56%|████████████████████████                   | 28/50 [00:01<00:01, 17.94it/s]"
     ]
    },
    {
     "name": "stdout",
     "output_type": "stream",
     "text": [
      "Gradient of gamma: 7.976393021635886e-07\n",
      "Epoch 27 - Loss: 0.6931479573249817\n",
      "Parameter name: gamma\n",
      "Parameter shape: torch.Size([])\n",
      "Parameter value: Parameter containing:\n",
      "tensor(-0.0198, device='cuda:0', requires_grad=True)\n",
      "\n"
     ]
    },
    {
     "name": "stderr",
     "output_type": "stream",
     "text": [
      "\n",
      "100%|██████████████████████████████████████████| 10/10 [00:00<00:00, 463.32it/s]\n"
     ]
    },
    {
     "name": "stdout",
     "output_type": "stream",
     "text": [
      "Gradient of gamma: 7.881210990490217e-07\n",
      "Epoch 28 - Loss: 0.6931479573249817\n",
      "Parameter name: gamma\n",
      "Parameter shape: torch.Size([])\n",
      "Parameter value: Parameter containing:\n",
      "tensor(-0.0296, device='cuda:0', requires_grad=True)\n",
      "\n"
     ]
    },
    {
     "name": "stderr",
     "output_type": "stream",
     "text": [
      "\n",
      "100%|██████████████████████████████████████████| 10/10 [00:00<00:00, 463.32it/s]\n",
      " 60%|█████████████████████████▊                 | 30/50 [00:01<00:01, 17.93it/s]"
     ]
    },
    {
     "name": "stdout",
     "output_type": "stream",
     "text": [
      "Gradient of gamma: 7.824276622159232e-07\n",
      "Epoch 29 - Loss: 0.6931479573249817\n",
      "Parameter name: gamma\n",
      "Parameter shape: torch.Size([])\n",
      "Parameter value: Parameter containing:\n",
      "tensor(-0.0389, device='cuda:0', requires_grad=True)\n",
      "\n"
     ]
    },
    {
     "name": "stderr",
     "output_type": "stream",
     "text": [
      "\n",
      "100%|██████████████████████████████████████████| 10/10 [00:00<00:00, 467.38it/s]\n"
     ]
    },
    {
     "name": "stdout",
     "output_type": "stream",
     "text": [
      "Gradient of gamma: 7.75477076331299e-07\n",
      "Epoch 30 - Loss: 0.6931479573249817\n",
      "Parameter name: gamma\n",
      "Parameter shape: torch.Size([])\n",
      "Parameter value: Parameter containing:\n",
      "tensor(-0.0477, device='cuda:0', requires_grad=True)\n",
      "\n"
     ]
    },
    {
     "name": "stderr",
     "output_type": "stream",
     "text": [
      "\n",
      "100%|██████████████████████████████████████████| 10/10 [00:00<00:00, 468.08it/s]\n",
      " 64%|███████████████████████████▌               | 32/50 [00:01<00:01, 17.95it/s]"
     ]
    },
    {
     "name": "stdout",
     "output_type": "stream",
     "text": [
      "Gradient of gamma: 7.685401897106203e-07\n",
      "Epoch 31 - Loss: 0.6931479573249817\n",
      "Parameter name: gamma\n",
      "Parameter shape: torch.Size([])\n",
      "Parameter value: Parameter containing:\n",
      "tensor(-0.0560, device='cuda:0', requires_grad=True)\n",
      "\n"
     ]
    },
    {
     "name": "stderr",
     "output_type": "stream",
     "text": [
      "\n",
      "100%|██████████████████████████████████████████| 10/10 [00:00<00:00, 465.62it/s]\n"
     ]
    },
    {
     "name": "stdout",
     "output_type": "stream",
     "text": [
      "Gradient of gamma: 7.054754291857535e-07\n",
      "Epoch 32 - Loss: 0.6931479573249817\n",
      "Parameter name: gamma\n",
      "Parameter shape: torch.Size([])\n",
      "Parameter value: Parameter containing:\n",
      "tensor(-0.0639, device='cuda:0', requires_grad=True)\n",
      "\n"
     ]
    },
    {
     "name": "stderr",
     "output_type": "stream",
     "text": [
      "\n",
      "100%|██████████████████████████████████████████| 10/10 [00:00<00:00, 462.86it/s]\n",
      " 68%|█████████████████████████████▏             | 34/50 [00:01<00:00, 17.99it/s]"
     ]
    },
    {
     "name": "stdout",
     "output_type": "stream",
     "text": [
      "Gradient of gamma: 7.327363960030198e-07\n",
      "Epoch 33 - Loss: 0.6931479573249817\n",
      "Parameter name: gamma\n",
      "Parameter shape: torch.Size([])\n",
      "Parameter value: Parameter containing:\n",
      "tensor(-0.0715, device='cuda:0', requires_grad=True)\n",
      "\n"
     ]
    },
    {
     "name": "stderr",
     "output_type": "stream",
     "text": [
      "\n",
      "100%|██████████████████████████████████████████| 10/10 [00:00<00:00, 460.50it/s]\n"
     ]
    },
    {
     "name": "stdout",
     "output_type": "stream",
     "text": [
      "Gradient of gamma: 6.690642635476252e-07\n",
      "Epoch 34 - Loss: 0.6931479573249817\n",
      "Parameter name: gamma\n",
      "Parameter shape: torch.Size([])\n",
      "Parameter value: Parameter containing:\n",
      "tensor(-0.0786, device='cuda:0', requires_grad=True)\n",
      "\n"
     ]
    },
    {
     "name": "stderr",
     "output_type": "stream",
     "text": [
      "\n",
      "100%|██████████████████████████████████████████| 10/10 [00:00<00:00, 463.20it/s]\n",
      " 72%|██████████████████████████████▉            | 36/50 [00:02<00:00, 17.94it/s]"
     ]
    },
    {
     "name": "stdout",
     "output_type": "stream",
     "text": [
      "Gradient of gamma: 6.642306402682152e-07\n",
      "Epoch 35 - Loss: 0.6931479573249817\n",
      "Parameter name: gamma\n",
      "Parameter shape: torch.Size([])\n",
      "Parameter value: Parameter containing:\n",
      "tensor(-0.0855, device='cuda:0', requires_grad=True)\n",
      "\n"
     ]
    },
    {
     "name": "stderr",
     "output_type": "stream",
     "text": [
      "\n",
      "100%|██████████████████████████████████████████| 10/10 [00:00<00:00, 466.10it/s]\n"
     ]
    },
    {
     "name": "stdout",
     "output_type": "stream",
     "text": [
      "Gradient of gamma: 6.603949032069067e-07\n",
      "Epoch 36 - Loss: 0.6931479573249817\n",
      "Parameter name: gamma\n",
      "Parameter shape: torch.Size([])\n",
      "Parameter value: Parameter containing:\n",
      "tensor(-0.0920, device='cuda:0', requires_grad=True)\n",
      "\n"
     ]
    },
    {
     "name": "stderr",
     "output_type": "stream",
     "text": [
      "\n",
      "100%|██████████████████████████████████████████| 10/10 [00:00<00:00, 440.15it/s]\n",
      " 76%|████████████████████████████████▋          | 38/50 [00:02<00:00, 17.85it/s]"
     ]
    },
    {
     "name": "stdout",
     "output_type": "stream",
     "text": [
      "Gradient of gamma: 6.280833986238576e-07\n",
      "Epoch 37 - Loss: 0.6931479573249817\n",
      "Parameter name: gamma\n",
      "Parameter shape: torch.Size([])\n",
      "Parameter value: Parameter containing:\n",
      "tensor(-0.0983, device='cuda:0', requires_grad=True)\n",
      "\n"
     ]
    },
    {
     "name": "stderr",
     "output_type": "stream",
     "text": [
      "\n",
      "100%|██████████████████████████████████████████| 10/10 [00:00<00:00, 467.67it/s]\n"
     ]
    },
    {
     "name": "stdout",
     "output_type": "stream",
     "text": [
      "Gradient of gamma: 6.250389219530916e-07\n",
      "Epoch 38 - Loss: 0.6931478381156921\n",
      "Parameter name: gamma\n",
      "Parameter shape: torch.Size([])\n",
      "Parameter value: Parameter containing:\n",
      "tensor(-0.1043, device='cuda:0', requires_grad=True)\n",
      "\n"
     ]
    },
    {
     "name": "stderr",
     "output_type": "stream",
     "text": [
      "\n",
      "100%|██████████████████████████████████████████| 10/10 [00:00<00:00, 470.70it/s]\n",
      " 80%|██████████████████████████████████▍        | 40/50 [00:02<00:00, 17.83it/s]"
     ]
    },
    {
     "name": "stdout",
     "output_type": "stream",
     "text": [
      "Gradient of gamma: 6.215360599526321e-07\n",
      "Epoch 39 - Loss: 0.6931478381156921\n",
      "Parameter name: gamma\n",
      "Parameter shape: torch.Size([])\n",
      "Parameter value: Parameter containing:\n",
      "tensor(-0.1100, device='cuda:0', requires_grad=True)\n",
      "\n"
     ]
    },
    {
     "name": "stderr",
     "output_type": "stream",
     "text": [
      "\n",
      "100%|██████████████████████████████████████████| 10/10 [00:00<00:00, 466.74it/s]\n"
     ]
    },
    {
     "name": "stdout",
     "output_type": "stream",
     "text": [
      "Gradient of gamma: 6.181393246151856e-07\n",
      "Epoch 40 - Loss: 0.6931478381156921\n",
      "Parameter name: gamma\n",
      "Parameter shape: torch.Size([])\n",
      "Parameter value: Parameter containing:\n",
      "tensor(-0.1156, device='cuda:0', requires_grad=True)\n",
      "\n"
     ]
    },
    {
     "name": "stderr",
     "output_type": "stream",
     "text": [
      "\n",
      "100%|██████████████████████████████████████████| 10/10 [00:00<00:00, 453.09it/s]\n",
      " 84%|████████████████████████████████████       | 42/50 [00:02<00:00, 17.62it/s]"
     ]
    },
    {
     "name": "stdout",
     "output_type": "stream",
     "text": [
      "Gradient of gamma: 6.130990186647978e-07\n",
      "Epoch 41 - Loss: 0.6931478381156921\n",
      "Parameter name: gamma\n",
      "Parameter shape: torch.Size([])\n",
      "Parameter value: Parameter containing:\n",
      "tensor(-0.1209, device='cuda:0', requires_grad=True)\n",
      "\n"
     ]
    },
    {
     "name": "stderr",
     "output_type": "stream",
     "text": [
      "\n",
      "100%|██████████████████████████████████████████| 10/10 [00:00<00:00, 456.97it/s]\n"
     ]
    },
    {
     "name": "stdout",
     "output_type": "stream",
     "text": [
      "Gradient of gamma: 6.09832284226286e-07\n",
      "Epoch 42 - Loss: 0.6931478381156921\n",
      "Parameter name: gamma\n",
      "Parameter shape: torch.Size([])\n",
      "Parameter value: Parameter containing:\n",
      "tensor(-0.1261, device='cuda:0', requires_grad=True)\n",
      "\n"
     ]
    },
    {
     "name": "stderr",
     "output_type": "stream",
     "text": [
      "\n",
      "100%|██████████████████████████████████████████| 10/10 [00:00<00:00, 506.99it/s]\n",
      " 88%|█████████████████████████████████████▊     | 44/50 [00:02<00:00, 17.62it/s]"
     ]
    },
    {
     "name": "stdout",
     "output_type": "stream",
     "text": [
      "Gradient of gamma: 6.074250791243685e-07\n",
      "Epoch 43 - Loss: 0.6931478381156921\n",
      "Parameter name: gamma\n",
      "Parameter shape: torch.Size([])\n",
      "Parameter value: Parameter containing:\n",
      "tensor(-0.1311, device='cuda:0', requires_grad=True)\n",
      "\n"
     ]
    },
    {
     "name": "stderr",
     "output_type": "stream",
     "text": [
      "\n",
      "100%|██████████████████████████████████████████| 10/10 [00:00<00:00, 513.10it/s]\n"
     ]
    },
    {
     "name": "stdout",
     "output_type": "stream",
     "text": [
      "Gradient of gamma: 6.053938363947964e-07\n",
      "Epoch 44 - Loss: 0.6931478381156921\n",
      "Parameter name: gamma\n",
      "Parameter shape: torch.Size([])\n",
      "Parameter value: Parameter containing:\n",
      "tensor(-0.1360, device='cuda:0', requires_grad=True)\n",
      "\n"
     ]
    },
    {
     "name": "stderr",
     "output_type": "stream",
     "text": [
      "\n",
      "100%|██████████████████████████████████████████| 10/10 [00:00<00:00, 472.71it/s]\n",
      " 92%|███████████████████████████████████████▌   | 46/50 [00:02<00:00, 17.71it/s]"
     ]
    },
    {
     "name": "stdout",
     "output_type": "stream",
     "text": [
      "Gradient of gamma: 6.027997301316645e-07\n",
      "Epoch 45 - Loss: 0.6931478381156921\n",
      "Parameter name: gamma\n",
      "Parameter shape: torch.Size([])\n",
      "Parameter value: Parameter containing:\n",
      "tensor(-0.1408, device='cuda:0', requires_grad=True)\n",
      "\n"
     ]
    },
    {
     "name": "stderr",
     "output_type": "stream",
     "text": [
      "\n",
      "100%|██████████████████████████████████████████| 10/10 [00:00<00:00, 462.01it/s]\n"
     ]
    },
    {
     "name": "stdout",
     "output_type": "stream",
     "text": [
      "Gradient of gamma: 6.006429771332478e-07\n",
      "Epoch 46 - Loss: 0.6931478381156921\n",
      "Parameter name: gamma\n",
      "Parameter shape: torch.Size([])\n",
      "Parameter value: Parameter containing:\n",
      "tensor(-0.1454, device='cuda:0', requires_grad=True)\n",
      "\n"
     ]
    },
    {
     "name": "stderr",
     "output_type": "stream",
     "text": [
      "\n",
      "100%|██████████████████████████████████████████| 10/10 [00:00<00:00, 479.63it/s]\n",
      " 96%|█████████████████████████████████████████▎ | 48/50 [00:02<00:00, 17.76it/s]"
     ]
    },
    {
     "name": "stdout",
     "output_type": "stream",
     "text": [
      "Gradient of gamma: 5.978936883366259e-07\n",
      "Epoch 47 - Loss: 0.6931478381156921\n",
      "Parameter name: gamma\n",
      "Parameter shape: torch.Size([])\n",
      "Parameter value: Parameter containing:\n",
      "tensor(-0.1499, device='cuda:0', requires_grad=True)\n",
      "\n"
     ]
    },
    {
     "name": "stderr",
     "output_type": "stream",
     "text": [
      "\n",
      "100%|██████████████████████████████████████████| 10/10 [00:00<00:00, 463.44it/s]\n"
     ]
    },
    {
     "name": "stdout",
     "output_type": "stream",
     "text": [
      "Gradient of gamma: 5.66198366414028e-07\n",
      "Epoch 48 - Loss: 0.6931478381156921\n",
      "Parameter name: gamma\n",
      "Parameter shape: torch.Size([])\n",
      "Parameter value: Parameter containing:\n",
      "tensor(-0.1544, device='cuda:0', requires_grad=True)\n",
      "\n"
     ]
    },
    {
     "name": "stderr",
     "output_type": "stream",
     "text": [
      "\n",
      "100%|██████████████████████████████████████████| 10/10 [00:00<00:00, 473.65it/s]\n",
      "100%|███████████████████████████████████████████| 50/50 [00:02<00:00, 17.87it/s]\n"
     ]
    },
    {
     "name": "stdout",
     "output_type": "stream",
     "text": [
      "Gradient of gamma: 5.690715738637664e-07\n",
      "Epoch 49 - Loss: 0.6931478381156921\n",
      "Parameter name: gamma\n",
      "Parameter shape: torch.Size([])\n",
      "Parameter value: Parameter containing:\n",
      "tensor(-0.1587, device='cuda:0', requires_grad=True)\n",
      "\n"
     ]
    },
    {
     "name": "stderr",
     "output_type": "stream",
     "text": [
      "  0%|                                                    | 0/50 [00:00<?, ?it/s]\n",
      "100%|██████████████████████████████████████████| 10/10 [00:00<00:00, 415.98it/s]\n"
     ]
    },
    {
     "name": "stdout",
     "output_type": "stream",
     "text": [
      "Gradient of gamma: 0.0001970226876437664\n",
      "Epoch 0 - Loss: 0.6931812167167664\n",
      "Parameter name: gamma\n",
      "Parameter shape: torch.Size([])\n",
      "Parameter value: Parameter containing:\n",
      "tensor(0.9000, device='cuda:0', requires_grad=True)\n",
      "\n"
     ]
    },
    {
     "name": "stderr",
     "output_type": "stream",
     "text": [
      "\n",
      "100%|██████████████████████████████████████████| 10/10 [00:00<00:00, 404.79it/s]\n",
      "  4%|█▊                                          | 2/50 [00:00<00:02, 16.67it/s]"
     ]
    },
    {
     "name": "stdout",
     "output_type": "stream",
     "text": [
      "Gradient of gamma: 0.00010175630450248718\n",
      "Epoch 1 - Loss: 0.6931667923927307\n",
      "Parameter name: gamma\n",
      "Parameter shape: torch.Size([])\n",
      "Parameter value: Parameter containing:\n",
      "tensor(0.8063, device='cuda:0', requires_grad=True)\n",
      "\n"
     ]
    },
    {
     "name": "stderr",
     "output_type": "stream",
     "text": [
      "\n",
      "100%|██████████████████████████████████████████| 10/10 [00:00<00:00, 430.11it/s]\n"
     ]
    },
    {
     "name": "stdout",
     "output_type": "stream",
     "text": [
      "Gradient of gamma: 5.469250027090311e-05\n",
      "Epoch 2 - Loss: 0.6931595802307129\n",
      "Parameter name: gamma\n",
      "Parameter shape: torch.Size([])\n",
      "Parameter value: Parameter containing:\n",
      "tensor(0.7207, device='cuda:0', requires_grad=True)\n",
      "\n"
     ]
    },
    {
     "name": "stderr",
     "output_type": "stream",
     "text": [
      "\n",
      "100%|██████████████████████████████████████████| 10/10 [00:00<00:00, 436.65it/s]\n",
      "  8%|███▌                                        | 4/50 [00:00<00:02, 17.02it/s]"
     ]
    },
    {
     "name": "stdout",
     "output_type": "stream",
     "text": [
      "Gradient of gamma: 3.173196455463767e-05\n",
      "Epoch 3 - Loss: 0.6931560635566711\n",
      "Parameter name: gamma\n",
      "Parameter shape: torch.Size([])\n",
      "Parameter value: Parameter containing:\n",
      "tensor(0.6432, device='cuda:0', requires_grad=True)\n",
      "\n"
     ]
    },
    {
     "name": "stderr",
     "output_type": "stream",
     "text": [
      "\n",
      "100%|██████████████████████████████████████████| 10/10 [00:00<00:00, 410.74it/s]\n"
     ]
    },
    {
     "name": "stdout",
     "output_type": "stream",
     "text": [
      "Gradient of gamma: 2.0023988327011466e-05\n",
      "Epoch 4 - Loss: 0.6931540369987488\n",
      "Parameter name: gamma\n",
      "Parameter shape: torch.Size([])\n",
      "Parameter value: Parameter containing:\n",
      "tensor(0.5733, device='cuda:0', requires_grad=True)\n",
      "\n"
     ]
    },
    {
     "name": "stderr",
     "output_type": "stream",
     "text": [
      "\n",
      "100%|██████████████████████████████████████████| 10/10 [00:00<00:00, 449.37it/s]\n",
      " 12%|█████▎                                      | 6/50 [00:00<00:02, 17.12it/s]"
     ]
    },
    {
     "name": "stdout",
     "output_type": "stream",
     "text": [
      "Gradient of gamma: 1.3899392797611654e-05\n",
      "Epoch 5 - Loss: 0.6931528449058533\n",
      "Parameter name: gamma\n",
      "Parameter shape: torch.Size([])\n",
      "Parameter value: Parameter containing:\n",
      "tensor(0.5100, device='cuda:0', requires_grad=True)\n",
      "\n"
     ]
    },
    {
     "name": "stderr",
     "output_type": "stream",
     "text": [
      "\n",
      "100%|██████████████████████████████████████████| 10/10 [00:00<00:00, 455.53it/s]\n"
     ]
    },
    {
     "name": "stdout",
     "output_type": "stream",
     "text": [
      "Gradient of gamma: 1.030782368616201e-05\n",
      "Epoch 6 - Loss: 0.693152129650116\n",
      "Parameter name: gamma\n",
      "Parameter shape: torch.Size([])\n",
      "Parameter value: Parameter containing:\n",
      "tensor(0.4525, device='cuda:0', requires_grad=True)\n",
      "\n"
     ]
    },
    {
     "name": "stderr",
     "output_type": "stream",
     "text": [
      "\n",
      "100%|██████████████████████████████████████████| 10/10 [00:00<00:00, 480.94it/s]\n",
      " 16%|███████                                     | 8/50 [00:00<00:02, 17.43it/s]"
     ]
    },
    {
     "name": "stdout",
     "output_type": "stream",
     "text": [
      "Gradient of gamma: 8.183563295460772e-06\n",
      "Epoch 7 - Loss: 0.6931516528129578\n",
      "Parameter name: gamma\n",
      "Parameter shape: torch.Size([])\n",
      "Parameter value: Parameter containing:\n",
      "tensor(0.4001, device='cuda:0', requires_grad=True)\n",
      "\n"
     ]
    },
    {
     "name": "stderr",
     "output_type": "stream",
     "text": [
      "\n",
      "100%|██████████████████████████████████████████| 10/10 [00:00<00:00, 447.76it/s]\n"
     ]
    },
    {
     "name": "stdout",
     "output_type": "stream",
     "text": [
      "Gradient of gamma: 6.711720743624028e-06\n",
      "Epoch 8 - Loss: 0.6931511759757996\n",
      "Parameter name: gamma\n",
      "Parameter shape: torch.Size([])\n",
      "Parameter value: Parameter containing:\n",
      "tensor(0.3521, device='cuda:0', requires_grad=True)\n",
      "\n"
     ]
    },
    {
     "name": "stderr",
     "output_type": "stream",
     "text": [
      "\n",
      "100%|██████████████████████████████████████████| 10/10 [00:00<00:00, 453.57it/s]\n",
      " 20%|████████▌                                  | 10/50 [00:00<00:02, 17.44it/s]"
     ]
    },
    {
     "name": "stdout",
     "output_type": "stream",
     "text": [
      "Gradient of gamma: 5.785116627521347e-06\n",
      "Epoch 9 - Loss: 0.6931509375572205\n",
      "Parameter name: gamma\n",
      "Parameter shape: torch.Size([])\n",
      "Parameter value: Parameter containing:\n",
      "tensor(0.3082, device='cuda:0', requires_grad=True)\n",
      "\n"
     ]
    },
    {
     "name": "stderr",
     "output_type": "stream",
     "text": [
      "\n",
      "100%|██████████████████████████████████████████| 10/10 [00:00<00:00, 440.00it/s]\n"
     ]
    },
    {
     "name": "stdout",
     "output_type": "stream",
     "text": [
      "Gradient of gamma: 5.064237939222949e-06\n",
      "Epoch 10 - Loss: 0.6931506991386414\n",
      "Parameter name: gamma\n",
      "Parameter shape: torch.Size([])\n",
      "Parameter value: Parameter containing:\n",
      "tensor(0.2677, device='cuda:0', requires_grad=True)\n",
      "\n"
     ]
    },
    {
     "name": "stderr",
     "output_type": "stream",
     "text": [
      "\n",
      "100%|██████████████████████████████████████████| 10/10 [00:00<00:00, 441.78it/s]\n",
      " 24%|██████████▎                                | 12/50 [00:00<00:02, 17.54it/s]"
     ]
    },
    {
     "name": "stdout",
     "output_type": "stream",
     "text": [
      "Gradient of gamma: 4.558812634058995e-06\n",
      "Epoch 11 - Loss: 0.6931504607200623\n",
      "Parameter name: gamma\n",
      "Parameter shape: torch.Size([])\n",
      "Parameter value: Parameter containing:\n",
      "tensor(0.2304, device='cuda:0', requires_grad=True)\n",
      "\n"
     ]
    },
    {
     "name": "stderr",
     "output_type": "stream",
     "text": [
      "\n",
      "100%|██████████████████████████████████████████| 10/10 [00:00<00:00, 498.66it/s]\n"
     ]
    },
    {
     "name": "stdout",
     "output_type": "stream",
     "text": [
      "Gradient of gamma: 4.083619387529325e-06\n",
      "Epoch 12 - Loss: 0.6931503415107727\n",
      "Parameter name: gamma\n",
      "Parameter shape: torch.Size([])\n",
      "Parameter value: Parameter containing:\n",
      "tensor(0.1959, device='cuda:0', requires_grad=True)\n",
      "\n"
     ]
    },
    {
     "name": "stderr",
     "output_type": "stream",
     "text": [
      "\n",
      "100%|██████████████████████████████████████████| 10/10 [00:00<00:00, 482.76it/s]\n",
      " 28%|████████████                               | 14/50 [00:00<00:02, 17.85it/s]"
     ]
    },
    {
     "name": "stdout",
     "output_type": "stream",
     "text": [
      "Gradient of gamma: 3.7623249227181077e-06\n",
      "Epoch 13 - Loss: 0.6931502223014832\n",
      "Parameter name: gamma\n",
      "Parameter shape: torch.Size([])\n",
      "Parameter value: Parameter containing:\n",
      "tensor(0.1640, device='cuda:0', requires_grad=True)\n",
      "\n"
     ]
    },
    {
     "name": "stderr",
     "output_type": "stream",
     "text": [
      "\n",
      "100%|██████████████████████████████████████████| 10/10 [00:00<00:00, 460.93it/s]\n"
     ]
    },
    {
     "name": "stdout",
     "output_type": "stream",
     "text": [
      "Gradient of gamma: 3.4245522329001687e-06\n",
      "Epoch 14 - Loss: 0.6931500434875488\n",
      "Parameter name: gamma\n",
      "Parameter shape: torch.Size([])\n",
      "Parameter value: Parameter containing:\n",
      "tensor(0.1344, device='cuda:0', requires_grad=True)\n",
      "\n"
     ]
    },
    {
     "name": "stderr",
     "output_type": "stream",
     "text": [
      "\n",
      "100%|██████████████████████████████████████████| 10/10 [00:00<00:00, 458.06it/s]\n",
      " 32%|█████████████▊                             | 16/50 [00:00<00:01, 17.89it/s]"
     ]
    },
    {
     "name": "stdout",
     "output_type": "stream",
     "text": [
      "Gradient of gamma: 3.21923380397493e-06\n",
      "Epoch 15 - Loss: 0.693149983882904\n",
      "Parameter name: gamma\n",
      "Parameter shape: torch.Size([])\n",
      "Parameter value: Parameter containing:\n",
      "tensor(0.1069, device='cuda:0', requires_grad=True)\n",
      "\n"
     ]
    },
    {
     "name": "stderr",
     "output_type": "stream",
     "text": [
      "\n",
      "100%|██████████████████████████████████████████| 10/10 [00:00<00:00, 461.78it/s]\n"
     ]
    },
    {
     "name": "stdout",
     "output_type": "stream",
     "text": [
      "Gradient of gamma: 3.053110049222596e-06\n",
      "Epoch 16 - Loss: 0.6931499242782593\n",
      "Parameter name: gamma\n",
      "Parameter shape: torch.Size([])\n",
      "Parameter value: Parameter containing:\n",
      "tensor(0.0812, device='cuda:0', requires_grad=True)\n",
      "\n"
     ]
    },
    {
     "name": "stderr",
     "output_type": "stream",
     "text": [
      "\n",
      "100%|██████████████████████████████████████████| 10/10 [00:00<00:00, 473.85it/s]\n",
      " 36%|███████████████▍                           | 18/50 [00:01<00:01, 17.97it/s]"
     ]
    },
    {
     "name": "stdout",
     "output_type": "stream",
     "text": [
      "Gradient of gamma: 2.8540264338516863e-06\n",
      "Epoch 17 - Loss: 0.693149745464325\n",
      "Parameter name: gamma\n",
      "Parameter shape: torch.Size([])\n",
      "Parameter value: Parameter containing:\n",
      "tensor(0.0574, device='cuda:0', requires_grad=True)\n",
      "\n"
     ]
    },
    {
     "name": "stderr",
     "output_type": "stream",
     "text": [
      "\n",
      "100%|██████████████████████████████████████████| 10/10 [00:00<00:00, 479.44it/s]\n"
     ]
    },
    {
     "name": "stdout",
     "output_type": "stream",
     "text": [
      "Gradient of gamma: 2.7026590032619424e-06\n",
      "Epoch 18 - Loss: 0.693149745464325\n",
      "Parameter name: gamma\n",
      "Parameter shape: torch.Size([])\n",
      "Parameter value: Parameter containing:\n",
      "tensor(0.0351, device='cuda:0', requires_grad=True)\n",
      "\n"
     ]
    },
    {
     "name": "stderr",
     "output_type": "stream",
     "text": [
      "\n",
      "100%|██████████████████████████████████████████| 10/10 [00:00<00:00, 467.22it/s]\n",
      " 40%|█████████████████▏                         | 20/50 [00:01<00:01, 18.02it/s]"
     ]
    },
    {
     "name": "stdout",
     "output_type": "stream",
     "text": [
      "Gradient of gamma: 2.5780470878089545e-06\n",
      "Epoch 19 - Loss: 0.6931496858596802\n",
      "Parameter name: gamma\n",
      "Parameter shape: torch.Size([])\n",
      "Parameter value: Parameter containing:\n",
      "tensor(0.0142, device='cuda:0', requires_grad=True)\n",
      "\n"
     ]
    },
    {
     "name": "stderr",
     "output_type": "stream",
     "text": [
      "\n",
      "100%|██████████████████████████████████████████| 10/10 [00:00<00:00, 435.38it/s]\n"
     ]
    },
    {
     "name": "stdout",
     "output_type": "stream",
     "text": [
      "Gradient of gamma: 2.463091959725716e-06\n",
      "Epoch 20 - Loss: 0.6931496858596802\n",
      "Parameter name: gamma\n",
      "Parameter shape: torch.Size([])\n",
      "Parameter value: Parameter containing:\n",
      "tensor(-0.0053, device='cuda:0', requires_grad=True)\n",
      "\n"
     ]
    },
    {
     "name": "stderr",
     "output_type": "stream",
     "text": [
      "\n",
      "100%|██████████████████████████████████████████| 10/10 [00:00<00:00, 441.83it/s]\n",
      " 44%|██████████████████▉                        | 22/50 [00:01<00:01, 17.32it/s]"
     ]
    },
    {
     "name": "stdout",
     "output_type": "stream",
     "text": [
      "Gradient of gamma: 2.371747314100503e-06\n",
      "Epoch 21 - Loss: 0.6931495070457458\n",
      "Parameter name: gamma\n",
      "Parameter shape: torch.Size([])\n",
      "Parameter value: Parameter containing:\n",
      "tensor(-0.0235, device='cuda:0', requires_grad=True)\n",
      "\n"
     ]
    },
    {
     "name": "stderr",
     "output_type": "stream",
     "text": [
      "\n",
      "100%|██████████████████████████████████████████| 10/10 [00:00<00:00, 418.50it/s]\n"
     ]
    },
    {
     "name": "stdout",
     "output_type": "stream",
     "text": [
      "Gradient of gamma: 2.3293628146348055e-06\n",
      "Epoch 22 - Loss: 0.6931495070457458\n",
      "Parameter name: gamma\n",
      "Parameter shape: torch.Size([])\n",
      "Parameter value: Parameter containing:\n",
      "tensor(-0.0407, device='cuda:0', requires_grad=True)\n",
      "\n"
     ]
    },
    {
     "name": "stderr",
     "output_type": "stream",
     "text": [
      "\n",
      "100%|██████████████████████████████████████████| 10/10 [00:00<00:00, 451.04it/s]\n",
      " 48%|████████████████████▋                      | 24/50 [00:01<00:01, 17.15it/s]"
     ]
    },
    {
     "name": "stdout",
     "output_type": "stream",
     "text": [
      "Gradient of gamma: 2.2192321011971217e-06\n",
      "Epoch 23 - Loss: 0.6931495070457458\n",
      "Parameter name: gamma\n",
      "Parameter shape: torch.Size([])\n",
      "Parameter value: Parameter containing:\n",
      "tensor(-0.0569, device='cuda:0', requires_grad=True)\n",
      "\n"
     ]
    },
    {
     "name": "stderr",
     "output_type": "stream",
     "text": [
      "\n",
      "100%|██████████████████████████████████████████| 10/10 [00:00<00:00, 434.12it/s]\n"
     ]
    },
    {
     "name": "stdout",
     "output_type": "stream",
     "text": [
      "Gradient of gamma: 2.1855141767446185e-06\n",
      "Epoch 24 - Loss: 0.6931495070457458\n",
      "Parameter name: gamma\n",
      "Parameter shape: torch.Size([])\n",
      "Parameter value: Parameter containing:\n",
      "tensor(-0.0721, device='cuda:0', requires_grad=True)\n",
      "\n"
     ]
    },
    {
     "name": "stderr",
     "output_type": "stream",
     "text": [
      "\n",
      "100%|██████████████████████████████████████████| 10/10 [00:00<00:00, 455.19it/s]\n",
      " 52%|██████████████████████▎                    | 26/50 [00:01<00:01, 17.13it/s]"
     ]
    },
    {
     "name": "stdout",
     "output_type": "stream",
     "text": [
      "Gradient of gamma: 2.0994550595787587e-06\n",
      "Epoch 25 - Loss: 0.6931494474411011\n",
      "Parameter name: gamma\n",
      "Parameter shape: torch.Size([])\n",
      "Parameter value: Parameter containing:\n",
      "tensor(-0.0864, device='cuda:0', requires_grad=True)\n",
      "\n"
     ]
    },
    {
     "name": "stderr",
     "output_type": "stream",
     "text": [
      "\n",
      "100%|██████████████████████████████████████████| 10/10 [00:00<00:00, 452.19it/s]\n"
     ]
    },
    {
     "name": "stdout",
     "output_type": "stream",
     "text": [
      "Gradient of gamma: 2.0452764601941453e-06\n",
      "Epoch 26 - Loss: 0.6931494474411011\n",
      "Parameter name: gamma\n",
      "Parameter shape: torch.Size([])\n",
      "Parameter value: Parameter containing:\n",
      "tensor(-0.1000, device='cuda:0', requires_grad=True)\n",
      "\n"
     ]
    },
    {
     "name": "stderr",
     "output_type": "stream",
     "text": [
      "\n",
      "100%|██████████████████████████████████████████| 10/10 [00:00<00:00, 444.95it/s]\n",
      " 56%|████████████████████████                   | 28/50 [00:01<00:01, 17.03it/s]"
     ]
    },
    {
     "name": "stdout",
     "output_type": "stream",
     "text": [
      "Gradient of gamma: 1.9917526969948085e-06\n",
      "Epoch 27 - Loss: 0.6931493878364563\n",
      "Parameter name: gamma\n",
      "Parameter shape: torch.Size([])\n",
      "Parameter value: Parameter containing:\n",
      "tensor(-0.1129, device='cuda:0', requires_grad=True)\n",
      "\n"
     ]
    },
    {
     "name": "stderr",
     "output_type": "stream",
     "text": [
      "\n",
      "100%|██████████████████████████████████████████| 10/10 [00:00<00:00, 455.19it/s]\n"
     ]
    },
    {
     "name": "stdout",
     "output_type": "stream",
     "text": [
      "Gradient of gamma: 1.9550368506315863e-06\n",
      "Epoch 28 - Loss: 0.6931493878364563\n",
      "Parameter name: gamma\n",
      "Parameter shape: torch.Size([])\n",
      "Parameter value: Parameter containing:\n",
      "tensor(-0.1250, device='cuda:0', requires_grad=True)\n",
      "\n"
     ]
    },
    {
     "name": "stderr",
     "output_type": "stream",
     "text": [
      "\n",
      "100%|██████████████████████████████████████████| 10/10 [00:00<00:00, 438.68it/s]\n",
      " 60%|█████████████████████████▊                 | 30/50 [00:01<00:01, 17.02it/s]"
     ]
    },
    {
     "name": "stdout",
     "output_type": "stream",
     "text": [
      "Gradient of gamma: 1.908382728288416e-06\n",
      "Epoch 29 - Loss: 0.6931493878364563\n",
      "Parameter name: gamma\n",
      "Parameter shape: torch.Size([])\n",
      "Parameter value: Parameter containing:\n",
      "tensor(-0.1366, device='cuda:0', requires_grad=True)\n",
      "\n"
     ]
    },
    {
     "name": "stderr",
     "output_type": "stream",
     "text": [
      "\n",
      "100%|██████████████████████████████████████████| 10/10 [00:00<00:00, 468.96it/s]\n"
     ]
    },
    {
     "name": "stdout",
     "output_type": "stream",
     "text": [
      "Gradient of gamma: 1.8601280089569627e-06\n",
      "Epoch 30 - Loss: 0.6931493878364563\n",
      "Parameter name: gamma\n",
      "Parameter shape: torch.Size([])\n",
      "Parameter value: Parameter containing:\n",
      "tensor(-0.1476, device='cuda:0', requires_grad=True)\n",
      "\n"
     ]
    },
    {
     "name": "stderr",
     "output_type": "stream",
     "text": [
      "\n",
      "100%|██████████████████████████████████████████| 10/10 [00:00<00:00, 441.87it/s]\n",
      " 64%|███████████████████████████▌               | 32/50 [00:01<00:01, 17.06it/s]"
     ]
    },
    {
     "name": "stdout",
     "output_type": "stream",
     "text": [
      "Gradient of gamma: 1.8176201592723373e-06\n",
      "Epoch 31 - Loss: 0.6931492686271667\n",
      "Parameter name: gamma\n",
      "Parameter shape: torch.Size([])\n",
      "Parameter value: Parameter containing:\n",
      "tensor(-0.1581, device='cuda:0', requires_grad=True)\n",
      "\n"
     ]
    },
    {
     "name": "stderr",
     "output_type": "stream",
     "text": [
      "\n",
      "100%|██████████████████████████████████████████| 10/10 [00:00<00:00, 445.15it/s]\n"
     ]
    },
    {
     "name": "stdout",
     "output_type": "stream",
     "text": [
      "Gradient of gamma: 1.8040594795820653e-06\n",
      "Epoch 32 - Loss: 0.6931492686271667\n",
      "Parameter name: gamma\n",
      "Parameter shape: torch.Size([])\n",
      "Parameter value: Parameter containing:\n",
      "tensor(-0.1681, device='cuda:0', requires_grad=True)\n",
      "\n"
     ]
    },
    {
     "name": "stderr",
     "output_type": "stream",
     "text": [
      "\n",
      "100%|██████████████████████████████████████████| 10/10 [00:00<00:00, 453.51it/s]\n",
      " 68%|█████████████████████████████▏             | 34/50 [00:01<00:00, 17.13it/s]"
     ]
    },
    {
     "name": "stdout",
     "output_type": "stream",
     "text": [
      "Gradient of gamma: 1.7756888155417982e-06\n",
      "Epoch 33 - Loss: 0.6931492686271667\n",
      "Parameter name: gamma\n",
      "Parameter shape: torch.Size([])\n",
      "Parameter value: Parameter containing:\n",
      "tensor(-0.1777, device='cuda:0', requires_grad=True)\n",
      "\n"
     ]
    },
    {
     "name": "stderr",
     "output_type": "stream",
     "text": [
      "\n",
      "100%|██████████████████████████████████████████| 10/10 [00:00<00:00, 465.84it/s]\n"
     ]
    },
    {
     "name": "stdout",
     "output_type": "stream",
     "text": [
      "Gradient of gamma: 1.7329140291622025e-06\n",
      "Epoch 34 - Loss: 0.693149209022522\n",
      "Parameter name: gamma\n",
      "Parameter shape: torch.Size([])\n",
      "Parameter value: Parameter containing:\n",
      "tensor(-0.1869, device='cuda:0', requires_grad=True)\n",
      "\n"
     ]
    },
    {
     "name": "stderr",
     "output_type": "stream",
     "text": [
      "\n",
      "100%|██████████████████████████████████████████| 10/10 [00:00<00:00, 478.29it/s]\n",
      " 72%|██████████████████████████████▉            | 36/50 [00:02<00:00, 17.38it/s]"
     ]
    },
    {
     "name": "stdout",
     "output_type": "stream",
     "text": [
      "Gradient of gamma: 1.7198094610648695e-06\n",
      "Epoch 35 - Loss: 0.693149209022522\n",
      "Parameter name: gamma\n",
      "Parameter shape: torch.Size([])\n",
      "Parameter value: Parameter containing:\n",
      "tensor(-0.1957, device='cuda:0', requires_grad=True)\n",
      "\n"
     ]
    },
    {
     "name": "stderr",
     "output_type": "stream",
     "text": [
      "\n",
      "100%|██████████████████████████████████████████| 10/10 [00:00<00:00, 454.99it/s]\n"
     ]
    },
    {
     "name": "stdout",
     "output_type": "stream",
     "text": [
      "Gradient of gamma: 1.682702531979885e-06\n",
      "Epoch 36 - Loss: 0.693149209022522\n",
      "Parameter name: gamma\n",
      "Parameter shape: torch.Size([])\n",
      "Parameter value: Parameter containing:\n",
      "tensor(-0.2042, device='cuda:0', requires_grad=True)\n",
      "\n"
     ]
    },
    {
     "name": "stderr",
     "output_type": "stream",
     "text": [
      "\n",
      "100%|██████████████████████████████████████████| 10/10 [00:00<00:00, 461.24it/s]\n",
      " 76%|████████████████████████████████▋          | 38/50 [00:02<00:00, 17.54it/s]"
     ]
    },
    {
     "name": "stdout",
     "output_type": "stream",
     "text": [
      "Gradient of gamma: 1.6702466609785915e-06\n",
      "Epoch 37 - Loss: 0.693149209022522\n",
      "Parameter name: gamma\n",
      "Parameter shape: torch.Size([])\n",
      "Parameter value: Parameter containing:\n",
      "tensor(-0.2124, device='cuda:0', requires_grad=True)\n",
      "\n"
     ]
    },
    {
     "name": "stderr",
     "output_type": "stream",
     "text": [
      "\n",
      "100%|██████████████████████████████████████████| 10/10 [00:00<00:00, 481.77it/s]\n"
     ]
    },
    {
     "name": "stdout",
     "output_type": "stream",
     "text": [
      "Gradient of gamma: 1.6594671023995033e-06\n",
      "Epoch 38 - Loss: 0.693149209022522\n",
      "Parameter name: gamma\n",
      "Parameter shape: torch.Size([])\n",
      "Parameter value: Parameter containing:\n",
      "tensor(-0.2203, device='cuda:0', requires_grad=True)\n",
      "\n"
     ]
    },
    {
     "name": "stderr",
     "output_type": "stream",
     "text": [
      "\n",
      "100%|██████████████████████████████████████████| 10/10 [00:00<00:00, 407.36it/s]\n",
      " 80%|██████████████████████████████████▍        | 40/50 [00:02<00:00, 17.51it/s]"
     ]
    },
    {
     "name": "stdout",
     "output_type": "stream",
     "text": [
      "Gradient of gamma: 1.6628825960651739e-06\n",
      "Epoch 39 - Loss: 0.693149209022522\n",
      "Parameter name: gamma\n",
      "Parameter shape: torch.Size([])\n",
      "Parameter value: Parameter containing:\n",
      "tensor(-0.2279, device='cuda:0', requires_grad=True)\n",
      "\n"
     ]
    },
    {
     "name": "stderr",
     "output_type": "stream",
     "text": [
      "\n",
      "100%|██████████████████████████████████████████| 10/10 [00:00<00:00, 468.83it/s]\n"
     ]
    },
    {
     "name": "stdout",
     "output_type": "stream",
     "text": [
      "Gradient of gamma: 1.5897635421424638e-06\n",
      "Epoch 40 - Loss: 0.693149209022522\n",
      "Parameter name: gamma\n",
      "Parameter shape: torch.Size([])\n",
      "Parameter value: Parameter containing:\n",
      "tensor(-0.2353, device='cuda:0', requires_grad=True)\n",
      "\n"
     ]
    },
    {
     "name": "stderr",
     "output_type": "stream",
     "text": [
      "\n",
      "100%|██████████████████████████████████████████| 10/10 [00:00<00:00, 467.31it/s]\n",
      " 84%|████████████████████████████████████       | 42/50 [00:02<00:00, 17.66it/s]"
     ]
    },
    {
     "name": "stdout",
     "output_type": "stream",
     "text": [
      "Gradient of gamma: 1.5838160152270575e-06\n",
      "Epoch 41 - Loss: 0.693149209022522\n",
      "Parameter name: gamma\n",
      "Parameter shape: torch.Size([])\n",
      "Parameter value: Parameter containing:\n",
      "tensor(-0.2425, device='cuda:0', requires_grad=True)\n",
      "\n"
     ]
    },
    {
     "name": "stderr",
     "output_type": "stream",
     "text": [
      "\n",
      "100%|██████████████████████████████████████████| 10/10 [00:00<00:00, 492.54it/s]\n"
     ]
    },
    {
     "name": "stdout",
     "output_type": "stream",
     "text": [
      "Gradient of gamma: 1.5595396689604968e-06\n",
      "Epoch 42 - Loss: 0.693149209022522\n",
      "Parameter name: gamma\n",
      "Parameter shape: torch.Size([])\n",
      "Parameter value: Parameter containing:\n",
      "tensor(-0.2495, device='cuda:0', requires_grad=True)\n",
      "\n"
     ]
    },
    {
     "name": "stderr",
     "output_type": "stream",
     "text": [
      "\n",
      "100%|██████████████████████████████████████████| 10/10 [00:00<00:00, 462.37it/s]\n",
      " 88%|█████████████████████████████████████▊     | 44/50 [00:02<00:00, 17.78it/s]"
     ]
    },
    {
     "name": "stdout",
     "output_type": "stream",
     "text": [
      "Gradient of gamma: 1.5510235016336082e-06\n",
      "Epoch 43 - Loss: 0.693149209022522\n",
      "Parameter name: gamma\n",
      "Parameter shape: torch.Size([])\n",
      "Parameter value: Parameter containing:\n",
      "tensor(-0.2563, device='cuda:0', requires_grad=True)\n",
      "\n"
     ]
    },
    {
     "name": "stderr",
     "output_type": "stream",
     "text": [
      "\n",
      "100%|██████████████████████████████████████████| 10/10 [00:00<00:00, 468.07it/s]\n"
     ]
    },
    {
     "name": "stdout",
     "output_type": "stream",
     "text": [
      "Gradient of gamma: 1.520878072369669e-06\n",
      "Epoch 44 - Loss: 0.6931490898132324\n",
      "Parameter name: gamma\n",
      "Parameter shape: torch.Size([])\n",
      "Parameter value: Parameter containing:\n",
      "tensor(-0.2630, device='cuda:0', requires_grad=True)\n",
      "\n"
     ]
    },
    {
     "name": "stderr",
     "output_type": "stream",
     "text": [
      "\n",
      "100%|██████████████████████████████████████████| 10/10 [00:00<00:00, 463.85it/s]\n",
      " 92%|███████████████████████████████████████▌   | 46/50 [00:02<00:00, 17.75it/s]"
     ]
    },
    {
     "name": "stdout",
     "output_type": "stream",
     "text": [
      "Gradient of gamma: 1.5111121456357068e-06\n",
      "Epoch 45 - Loss: 0.6931490898132324\n",
      "Parameter name: gamma\n",
      "Parameter shape: torch.Size([])\n",
      "Parameter value: Parameter containing:\n",
      "tensor(-0.2694, device='cuda:0', requires_grad=True)\n",
      "\n"
     ]
    },
    {
     "name": "stderr",
     "output_type": "stream",
     "text": [
      "\n",
      "100%|██████████████████████████████████████████| 10/10 [00:00<00:00, 463.09it/s]\n"
     ]
    },
    {
     "name": "stdout",
     "output_type": "stream",
     "text": [
      "Gradient of gamma: 1.5027611652840278e-06\n",
      "Epoch 46 - Loss: 0.6931490898132324\n",
      "Parameter name: gamma\n",
      "Parameter shape: torch.Size([])\n",
      "Parameter value: Parameter containing:\n",
      "tensor(-0.2758, device='cuda:0', requires_grad=True)\n",
      "\n"
     ]
    },
    {
     "name": "stderr",
     "output_type": "stream",
     "text": [
      "\n",
      "100%|██████████████████████████████████████████| 10/10 [00:00<00:00, 483.37it/s]\n",
      " 96%|█████████████████████████████████████████▎ | 48/50 [00:02<00:00, 17.83it/s]"
     ]
    },
    {
     "name": "stdout",
     "output_type": "stream",
     "text": [
      "Gradient of gamma: 1.4957448684072006e-06\n",
      "Epoch 47 - Loss: 0.6931490898132324\n",
      "Parameter name: gamma\n",
      "Parameter shape: torch.Size([])\n",
      "Parameter value: Parameter containing:\n",
      "tensor(-0.2820, device='cuda:0', requires_grad=True)\n",
      "\n"
     ]
    },
    {
     "name": "stderr",
     "output_type": "stream",
     "text": [
      "\n",
      "100%|██████████████████████████████████████████| 10/10 [00:00<00:00, 479.32it/s]\n"
     ]
    },
    {
     "name": "stdout",
     "output_type": "stream",
     "text": [
      "Gradient of gamma: 1.4873959344186005e-06\n",
      "Epoch 48 - Loss: 0.6931490302085876\n",
      "Parameter name: gamma\n",
      "Parameter shape: torch.Size([])\n",
      "Parameter value: Parameter containing:\n",
      "tensor(-0.2881, device='cuda:0', requires_grad=True)\n",
      "\n"
     ]
    },
    {
     "name": "stderr",
     "output_type": "stream",
     "text": [
      "\n",
      "100%|██████████████████████████████████████████| 10/10 [00:00<00:00, 472.00it/s]\n",
      "100%|███████████████████████████████████████████| 50/50 [00:02<00:00, 17.50it/s]\n"
     ]
    },
    {
     "name": "stdout",
     "output_type": "stream",
     "text": [
      "Gradient of gamma: 1.495985657129495e-06\n",
      "Epoch 49 - Loss: 0.6931490302085876\n",
      "Parameter name: gamma\n",
      "Parameter shape: torch.Size([])\n",
      "Parameter value: Parameter containing:\n",
      "tensor(-0.2941, device='cuda:0', requires_grad=True)\n",
      "\n"
     ]
    },
    {
     "name": "stderr",
     "output_type": "stream",
     "text": [
      "  0%|                                                    | 0/50 [00:00<?, ?it/s]\n",
      "100%|██████████████████████████████████████████| 10/10 [00:00<00:00, 416.26it/s]\n"
     ]
    },
    {
     "name": "stdout",
     "output_type": "stream",
     "text": [
      "Gradient of gamma: 6.411690264940262e-06\n",
      "Epoch 0 - Loss: 0.6931489706039429\n",
      "Parameter name: gamma\n",
      "Parameter shape: torch.Size([])\n",
      "Parameter value: Parameter containing:\n",
      "tensor(1.0998, device='cuda:0', requires_grad=True)\n",
      "\n"
     ]
    },
    {
     "name": "stderr",
     "output_type": "stream",
     "text": [
      "\n",
      "100%|██████████████████████████████████████████| 10/10 [00:00<00:00, 456.23it/s]\n",
      "  4%|█▊                                          | 2/50 [00:00<00:02, 16.95it/s]"
     ]
    },
    {
     "name": "stdout",
     "output_type": "stream",
     "text": [
      "Gradient of gamma: 1.162942498922348e-05\n",
      "Epoch 1 - Loss: 0.6931481957435608\n",
      "Parameter name: gamma\n",
      "Parameter shape: torch.Size([])\n",
      "Parameter value: Parameter containing:\n",
      "tensor(1.1973, device='cuda:0', requires_grad=True)\n",
      "\n"
     ]
    },
    {
     "name": "stderr",
     "output_type": "stream",
     "text": [
      "\n",
      "100%|██████████████████████████████████████████| 10/10 [00:00<00:00, 473.49it/s]\n"
     ]
    },
    {
     "name": "stdout",
     "output_type": "stream",
     "text": [
      "Gradient of gamma: 2.0286068320274353e-05\n",
      "Epoch 2 - Loss: 0.6931465864181519\n",
      "Parameter name: gamma\n",
      "Parameter shape: torch.Size([])\n",
      "Parameter value: Parameter containing:\n",
      "tensor(1.2919, device='cuda:0', requires_grad=True)\n",
      "\n"
     ]
    },
    {
     "name": "stderr",
     "output_type": "stream",
     "text": [
      "\n",
      "100%|██████████████████████████████████████████| 10/10 [00:00<00:00, 475.41it/s]\n",
      "  8%|███▌                                        | 4/50 [00:00<00:02, 17.66it/s]"
     ]
    },
    {
     "name": "stdout",
     "output_type": "stream",
     "text": [
      "Gradient of gamma: 3.2942742109298706e-05\n",
      "Epoch 3 - Loss: 0.6931443214416504\n",
      "Parameter name: gamma\n",
      "Parameter shape: torch.Size([])\n",
      "Parameter value: Parameter containing:\n",
      "tensor(1.3847, device='cuda:0', requires_grad=True)\n",
      "\n"
     ]
    },
    {
     "name": "stderr",
     "output_type": "stream",
     "text": [
      "\n",
      "100%|██████████████████████████████████████████| 10/10 [00:00<00:00, 453.53it/s]\n"
     ]
    },
    {
     "name": "stdout",
     "output_type": "stream",
     "text": [
      "Gradient of gamma: 5.536526441574097e-05\n",
      "Epoch 4 - Loss: 0.6931399703025818\n",
      "Parameter name: gamma\n",
      "Parameter shape: torch.Size([])\n",
      "Parameter value: Parameter containing:\n",
      "tensor(1.4751, device='cuda:0', requires_grad=True)\n",
      "\n"
     ]
    },
    {
     "name": "stderr",
     "output_type": "stream",
     "text": [
      "\n",
      "100%|██████████████████████████████████████████| 10/10 [00:00<00:00, 465.88it/s]\n",
      " 12%|█████▎                                      | 6/50 [00:00<00:02, 17.81it/s]"
     ]
    },
    {
     "name": "stdout",
     "output_type": "stream",
     "text": [
      "Gradient of gamma: 8.671032264828682e-05\n",
      "Epoch 5 - Loss: 0.6931337118148804\n",
      "Parameter name: gamma\n",
      "Parameter shape: torch.Size([])\n",
      "Parameter value: Parameter containing:\n",
      "tensor(1.5644, device='cuda:0', requires_grad=True)\n",
      "\n"
     ]
    },
    {
     "name": "stderr",
     "output_type": "stream",
     "text": [
      "\n",
      "100%|██████████████████████████████████████████| 10/10 [00:00<00:00, 474.12it/s]\n"
     ]
    },
    {
     "name": "stdout",
     "output_type": "stream",
     "text": [
      "Gradient of gamma: 0.00013239029794931412\n",
      "Epoch 6 - Loss: 0.6931241750717163\n",
      "Parameter name: gamma\n",
      "Parameter shape: torch.Size([])\n",
      "Parameter value: Parameter containing:\n",
      "tensor(1.6533, device='cuda:0', requires_grad=True)\n",
      "\n"
     ]
    },
    {
     "name": "stderr",
     "output_type": "stream",
     "text": [
      "\n",
      "100%|██████████████████████████████████████████| 10/10 [00:00<00:00, 462.13it/s]\n",
      " 16%|███████                                     | 8/50 [00:00<00:02, 17.25it/s]"
     ]
    },
    {
     "name": "stdout",
     "output_type": "stream",
     "text": [
      "Gradient of gamma: 0.00020169001072645187\n",
      "Epoch 7 - Loss: 0.6931090354919434\n",
      "Parameter name: gamma\n",
      "Parameter shape: torch.Size([])\n",
      "Parameter value: Parameter containing:\n",
      "tensor(1.7419, device='cuda:0', requires_grad=True)\n",
      "\n"
     ]
    },
    {
     "name": "stderr",
     "output_type": "stream",
     "text": [
      "\n",
      "100%|██████████████████████████████████████████| 10/10 [00:00<00:00, 458.05it/s]\n"
     ]
    },
    {
     "name": "stdout",
     "output_type": "stream",
     "text": [
      "Gradient of gamma: 0.0002916385419666767\n",
      "Epoch 8 - Loss: 0.693088173866272\n",
      "Parameter name: gamma\n",
      "Parameter shape: torch.Size([])\n",
      "Parameter value: Parameter containing:\n",
      "tensor(1.8310, device='cuda:0', requires_grad=True)\n",
      "\n"
     ]
    },
    {
     "name": "stderr",
     "output_type": "stream",
     "text": [
      "\n",
      "100%|██████████████████████████████████████████| 10/10 [00:00<00:00, 483.64it/s]\n",
      " 20%|████████▌                                  | 10/50 [00:00<00:02, 17.48it/s]"
     ]
    },
    {
     "name": "stdout",
     "output_type": "stream",
     "text": [
      "Gradient of gamma: 0.0004316391423344612\n",
      "Epoch 9 - Loss: 0.693054735660553\n",
      "Parameter name: gamma\n",
      "Parameter shape: torch.Size([])\n",
      "Parameter value: Parameter containing:\n",
      "tensor(1.9204, device='cuda:0', requires_grad=True)\n",
      "\n"
     ]
    },
    {
     "name": "stderr",
     "output_type": "stream",
     "text": [
      "\n",
      "100%|██████████████████████████████████████████| 10/10 [00:00<00:00, 480.14it/s]\n"
     ]
    },
    {
     "name": "stdout",
     "output_type": "stream",
     "text": [
      "Gradient of gamma: 0.0006107212975621223\n",
      "Epoch 10 - Loss: 0.6930099725723267\n",
      "Parameter name: gamma\n",
      "Parameter shape: torch.Size([])\n",
      "Parameter value: Parameter containing:\n",
      "tensor(2.0106, device='cuda:0', requires_grad=True)\n",
      "\n"
     ]
    },
    {
     "name": "stderr",
     "output_type": "stream",
     "text": [
      "\n",
      "100%|██████████████████████████████████████████| 10/10 [00:00<00:00, 493.49it/s]\n",
      " 24%|██████████▎                                | 12/50 [00:00<00:02, 17.72it/s]"
     ]
    },
    {
     "name": "stdout",
     "output_type": "stream",
     "text": [
      "Gradient of gamma: 0.0008593290112912655\n",
      "Epoch 11 - Loss: 0.6929455399513245\n",
      "Parameter name: gamma\n",
      "Parameter shape: torch.Size([])\n",
      "Parameter value: Parameter containing:\n",
      "tensor(2.1017, device='cuda:0', requires_grad=True)\n",
      "\n"
     ]
    },
    {
     "name": "stderr",
     "output_type": "stream",
     "text": [
      "\n",
      "100%|██████████████████████████████████████████| 10/10 [00:00<00:00, 486.33it/s]\n"
     ]
    },
    {
     "name": "stdout",
     "output_type": "stream",
     "text": [
      "Gradient of gamma: 0.0012085442431271076\n",
      "Epoch 12 - Loss: 0.6928507685661316\n",
      "Parameter name: gamma\n",
      "Parameter shape: torch.Size([])\n",
      "Parameter value: Parameter containing:\n",
      "tensor(2.1939, device='cuda:0', requires_grad=True)\n",
      "\n"
     ]
    },
    {
     "name": "stderr",
     "output_type": "stream",
     "text": [
      "\n",
      "100%|██████████████████████████████████████████| 10/10 [00:00<00:00, 479.91it/s]\n",
      " 28%|████████████                               | 14/50 [00:00<00:02, 17.87it/s]"
     ]
    },
    {
     "name": "stdout",
     "output_type": "stream",
     "text": [
      "Gradient of gamma: 0.001667938195168972\n",
      "Epoch 13 - Loss: 0.6927214860916138\n",
      "Parameter name: gamma\n",
      "Parameter shape: torch.Size([])\n",
      "Parameter value: Parameter containing:\n",
      "tensor(2.2873, device='cuda:0', requires_grad=True)\n",
      "\n"
     ]
    },
    {
     "name": "stderr",
     "output_type": "stream",
     "text": [
      "\n",
      "100%|██████████████████████████████████████████| 10/10 [00:00<00:00, 482.99it/s]\n"
     ]
    },
    {
     "name": "stdout",
     "output_type": "stream",
     "text": [
      "Gradient of gamma: 0.00229044072329998\n",
      "Epoch 14 - Loss: 0.6925390362739563\n",
      "Parameter name: gamma\n",
      "Parameter shape: torch.Size([])\n",
      "Parameter value: Parameter containing:\n",
      "tensor(2.3818, device='cuda:0', requires_grad=True)\n",
      "\n"
     ]
    },
    {
     "name": "stderr",
     "output_type": "stream",
     "text": [
      "\n",
      "100%|██████████████████████████████████████████| 10/10 [00:00<00:00, 488.47it/s]\n",
      " 32%|█████████████▊                             | 16/50 [00:00<00:01, 17.99it/s]"
     ]
    },
    {
     "name": "stdout",
     "output_type": "stream",
     "text": [
      "Gradient of gamma: 0.0031478730961680412\n",
      "Epoch 15 - Loss: 0.6922762393951416\n",
      "Parameter name: gamma\n",
      "Parameter shape: torch.Size([])\n",
      "Parameter value: Parameter containing:\n",
      "tensor(2.4776, device='cuda:0', requires_grad=True)\n",
      "\n"
     ]
    },
    {
     "name": "stderr",
     "output_type": "stream",
     "text": [
      "\n",
      "100%|██████████████████████████████████████████| 10/10 [00:00<00:00, 467.80it/s]\n"
     ]
    },
    {
     "name": "stdout",
     "output_type": "stream",
     "text": [
      "Gradient of gamma: 0.004190044943243265\n",
      "Epoch 16 - Loss: 0.6919444799423218\n",
      "Parameter name: gamma\n",
      "Parameter shape: torch.Size([])\n",
      "Parameter value: Parameter containing:\n",
      "tensor(2.5750, device='cuda:0', requires_grad=True)\n",
      "\n"
     ]
    },
    {
     "name": "stderr",
     "output_type": "stream",
     "text": [
      "\n",
      "100%|██████████████████████████████████████████| 10/10 [00:00<00:00, 487.19it/s]\n",
      " 36%|███████████████▍                           | 18/50 [00:01<00:01, 18.00it/s]"
     ]
    },
    {
     "name": "stdout",
     "output_type": "stream",
     "text": [
      "Gradient of gamma: 0.00570275355130434\n",
      "Epoch 17 - Loss: 0.6914472579956055\n",
      "Parameter name: gamma\n",
      "Parameter shape: torch.Size([])\n",
      "Parameter value: Parameter containing:\n",
      "tensor(2.6737, device='cuda:0', requires_grad=True)\n",
      "\n"
     ]
    },
    {
     "name": "stderr",
     "output_type": "stream",
     "text": [
      "\n",
      "100%|██████████████████████████████████████████| 10/10 [00:00<00:00, 485.77it/s]\n"
     ]
    },
    {
     "name": "stdout",
     "output_type": "stream",
     "text": [
      "Gradient of gamma: 0.007534123957157135\n",
      "Epoch 18 - Loss: 0.6908165812492371\n",
      "Parameter name: gamma\n",
      "Parameter shape: torch.Size([])\n",
      "Parameter value: Parameter containing:\n",
      "tensor(2.7740, device='cuda:0', requires_grad=True)\n",
      "\n"
     ]
    },
    {
     "name": "stderr",
     "output_type": "stream",
     "text": [
      "\n",
      "100%|██████████████████████████████████████████| 10/10 [00:00<00:00, 486.29it/s]\n",
      " 40%|█████████████████▏                         | 20/50 [00:01<00:01, 18.07it/s]"
     ]
    },
    {
     "name": "stdout",
     "output_type": "stream",
     "text": [
      "Gradient of gamma: 0.010127315297722816\n",
      "Epoch 19 - Loss: 0.689888596534729\n",
      "Parameter name: gamma\n",
      "Parameter shape: torch.Size([])\n",
      "Parameter value: Parameter containing:\n",
      "tensor(2.8757, device='cuda:0', requires_grad=True)\n",
      "\n"
     ]
    },
    {
     "name": "stderr",
     "output_type": "stream",
     "text": [
      "\n",
      "100%|██████████████████████████████████████████| 10/10 [00:00<00:00, 489.63it/s]\n"
     ]
    },
    {
     "name": "stdout",
     "output_type": "stream",
     "text": [
      "Gradient of gamma: 0.013225791044533253\n",
      "Epoch 20 - Loss: 0.6887281537055969\n",
      "Parameter name: gamma\n",
      "Parameter shape: torch.Size([])\n",
      "Parameter value: Parameter containing:\n",
      "tensor(2.9791, device='cuda:0', requires_grad=True)\n",
      "\n"
     ]
    },
    {
     "name": "stderr",
     "output_type": "stream",
     "text": [
      "\n",
      "100%|██████████████████████████████████████████| 10/10 [00:00<00:00, 484.44it/s]\n",
      " 44%|██████████████████▉                        | 22/50 [00:01<00:01, 18.12it/s]"
     ]
    },
    {
     "name": "stdout",
     "output_type": "stream",
     "text": [
      "Gradient of gamma: 0.01713418960571289\n",
      "Epoch 21 - Loss: 0.6871989965438843\n",
      "Parameter name: gamma\n",
      "Parameter shape: torch.Size([])\n",
      "Parameter value: Parameter containing:\n",
      "tensor(3.0843, device='cuda:0', requires_grad=True)\n",
      "\n"
     ]
    },
    {
     "name": "stderr",
     "output_type": "stream",
     "text": [
      "\n",
      "100%|██████████████████████████████████████████| 10/10 [00:00<00:00, 482.53it/s]\n"
     ]
    },
    {
     "name": "stdout",
     "output_type": "stream",
     "text": [
      "Gradient of gamma: 0.022156676277518272\n",
      "Epoch 22 - Loss: 0.6851330399513245\n",
      "Parameter name: gamma\n",
      "Parameter shape: torch.Size([])\n",
      "Parameter value: Parameter containing:\n",
      "tensor(3.1914, device='cuda:0', requires_grad=True)\n",
      "\n"
     ]
    },
    {
     "name": "stderr",
     "output_type": "stream",
     "text": [
      "\n",
      "100%|██████████████████████████████████████████| 10/10 [00:00<00:00, 485.77it/s]\n",
      " 48%|████████████████████▋                      | 24/50 [00:01<00:01, 18.16it/s]"
     ]
    },
    {
     "name": "stdout",
     "output_type": "stream",
     "text": [
      "Gradient of gamma: 0.028698040172457695\n",
      "Epoch 23 - Loss: 0.6822795867919922\n",
      "Parameter name: gamma\n",
      "Parameter shape: torch.Size([])\n",
      "Parameter value: Parameter containing:\n",
      "tensor(3.3001, device='cuda:0', requires_grad=True)\n",
      "\n"
     ]
    },
    {
     "name": "stderr",
     "output_type": "stream",
     "text": [
      "\n",
      "100%|██████████████████████████████████████████| 10/10 [00:00<00:00, 487.15it/s]\n"
     ]
    },
    {
     "name": "stdout",
     "output_type": "stream",
     "text": [
      "Gradient of gamma: 0.03603683412075043\n",
      "Epoch 24 - Loss: 0.6788570284843445\n",
      "Parameter name: gamma\n",
      "Parameter shape: torch.Size([])\n",
      "Parameter value: Parameter containing:\n",
      "tensor(3.4109, device='cuda:0', requires_grad=True)\n",
      "\n"
     ]
    },
    {
     "name": "stderr",
     "output_type": "stream",
     "text": [
      "\n",
      "100%|██████████████████████████████████████████| 10/10 [00:00<00:00, 466.07it/s]\n",
      " 52%|██████████████████████▎                    | 26/50 [00:01<00:01, 18.02it/s]"
     ]
    },
    {
     "name": "stdout",
     "output_type": "stream",
     "text": [
      "Gradient of gamma: 0.0441129170358181\n",
      "Epoch 25 - Loss: 0.6747546195983887\n",
      "Parameter name: gamma\n",
      "Parameter shape: torch.Size([])\n",
      "Parameter value: Parameter containing:\n",
      "tensor(3.5239, device='cuda:0', requires_grad=True)\n",
      "\n"
     ]
    },
    {
     "name": "stderr",
     "output_type": "stream",
     "text": [
      "\n",
      "100%|██████████████████████████████████████████| 10/10 [00:00<00:00, 489.40it/s]\n"
     ]
    },
    {
     "name": "stdout",
     "output_type": "stream",
     "text": [
      "Gradient of gamma: 0.05425853282213211\n",
      "Epoch 26 - Loss: 0.6690686941146851\n",
      "Parameter name: gamma\n",
      "Parameter shape: torch.Size([])\n",
      "Parameter value: Parameter containing:\n",
      "tensor(3.6392, device='cuda:0', requires_grad=True)\n",
      "\n"
     ]
    },
    {
     "name": "stderr",
     "output_type": "stream",
     "text": [
      "\n",
      "100%|██████████████████████████████████████████| 10/10 [00:00<00:00, 490.98it/s]\n",
      " 56%|████████████████████████                   | 28/50 [00:01<00:01, 18.12it/s]"
     ]
    },
    {
     "name": "stdout",
     "output_type": "stream",
     "text": [
      "Gradient of gamma: 0.0651964619755745\n",
      "Epoch 27 - Loss: 0.6618044972419739\n",
      "Parameter name: gamma\n",
      "Parameter shape: torch.Size([])\n",
      "Parameter value: Parameter containing:\n",
      "tensor(3.7568, device='cuda:0', requires_grad=True)\n",
      "\n"
     ]
    },
    {
     "name": "stderr",
     "output_type": "stream",
     "text": [
      "\n",
      "100%|██████████████████████████████████████████| 10/10 [00:00<00:00, 420.66it/s]\n"
     ]
    },
    {
     "name": "stdout",
     "output_type": "stream",
     "text": [
      "Gradient of gamma: 0.07417332381010056\n",
      "Epoch 28 - Loss: 0.6539463996887207\n",
      "Parameter name: gamma\n",
      "Parameter shape: torch.Size([])\n",
      "Parameter value: Parameter containing:\n",
      "tensor(3.8772, device='cuda:0', requires_grad=True)\n",
      "\n"
     ]
    },
    {
     "name": "stderr",
     "output_type": "stream",
     "text": [
      "\n",
      "100%|██████████████████████████████████████████| 10/10 [00:00<00:00, 403.70it/s]\n",
      " 60%|█████████████████████████▊                 | 30/50 [00:01<00:01, 17.65it/s]"
     ]
    },
    {
     "name": "stdout",
     "output_type": "stream",
     "text": [
      "Gradient of gamma: 0.08045842498540878\n",
      "Epoch 29 - Loss: 0.644648015499115\n",
      "Parameter name: gamma\n",
      "Parameter shape: torch.Size([])\n",
      "Parameter value: Parameter containing:\n",
      "tensor(4.0004, device='cuda:0', requires_grad=True)\n",
      "\n"
     ]
    },
    {
     "name": "stderr",
     "output_type": "stream",
     "text": [
      "\n",
      "100%|██████████████████████████████████████████| 10/10 [00:00<00:00, 472.11it/s]\n"
     ]
    },
    {
     "name": "stdout",
     "output_type": "stream",
     "text": [
      "Gradient of gamma: 0.08011239767074585\n",
      "Epoch 30 - Loss: 0.6343207359313965\n",
      "Parameter name: gamma\n",
      "Parameter shape: torch.Size([])\n",
      "Parameter value: Parameter containing:\n",
      "tensor(4.1265, device='cuda:0', requires_grad=True)\n",
      "\n"
     ]
    },
    {
     "name": "stderr",
     "output_type": "stream",
     "text": [
      "\n",
      "100%|██████████████████████████████████████████| 10/10 [00:00<00:00, 320.93it/s]\n"
     ]
    },
    {
     "name": "stdout",
     "output_type": "stream",
     "text": [
      "Gradient of gamma: 0.0675601065158844\n"
     ]
    },
    {
     "name": "stderr",
     "output_type": "stream",
     "text": [
      " 64%|███████████████████████████▌               | 32/50 [00:01<00:01, 16.39it/s]"
     ]
    },
    {
     "name": "stdout",
     "output_type": "stream",
     "text": [
      "Epoch 31 - Loss: 0.6235164403915405\n",
      "Parameter name: gamma\n",
      "Parameter shape: torch.Size([])\n",
      "Parameter value: Parameter containing:\n",
      "tensor(4.2546, device='cuda:0', requires_grad=True)\n",
      "\n"
     ]
    },
    {
     "name": "stderr",
     "output_type": "stream",
     "text": [
      "\n",
      "100%|██████████████████████████████████████████| 10/10 [00:00<00:00, 342.93it/s]\n"
     ]
    },
    {
     "name": "stdout",
     "output_type": "stream",
     "text": [
      "Gradient of gamma: 0.0458395853638649\n",
      "Epoch 32 - Loss: 0.6163363456726074\n",
      "Parameter name: gamma\n",
      "Parameter shape: torch.Size([])\n",
      "Parameter value: Parameter containing:\n",
      "tensor(4.3819, device='cuda:0', requires_grad=True)\n",
      "\n"
     ]
    },
    {
     "name": "stderr",
     "output_type": "stream",
     "text": [
      "\n",
      "100%|██████████████████████████████████████████| 10/10 [00:00<00:00, 373.12it/s]\n",
      " 68%|█████████████████████████████▏             | 34/50 [00:01<00:01, 15.46it/s]"
     ]
    },
    {
     "name": "stdout",
     "output_type": "stream",
     "text": [
      "Gradient of gamma: 0.020712371915578842\n",
      "Epoch 33 - Loss: 0.6121677160263062\n",
      "Parameter name: gamma\n",
      "Parameter shape: torch.Size([])\n",
      "Parameter value: Parameter containing:\n",
      "tensor(4.5035, device='cuda:0', requires_grad=True)\n",
      "\n"
     ]
    },
    {
     "name": "stderr",
     "output_type": "stream",
     "text": [
      "\n",
      "100%|██████████████████████████████████████████| 10/10 [00:00<00:00, 337.49it/s]\n"
     ]
    },
    {
     "name": "stdout",
     "output_type": "stream",
     "text": [
      "Gradient of gamma: 0.0014272566186264157\n",
      "Epoch 34 - Loss: 0.6108747720718384\n",
      "Parameter name: gamma\n",
      "Parameter shape: torch.Size([])\n",
      "Parameter value: Parameter containing:\n",
      "tensor(4.6148, device='cuda:0', requires_grad=True)\n",
      "\n"
     ]
    },
    {
     "name": "stderr",
     "output_type": "stream",
     "text": [
      "\n",
      "100%|██████████████████████████████████████████| 10/10 [00:00<00:00, 316.28it/s]\n",
      " 72%|██████████████████████████████▉            | 36/50 [00:02<00:00, 14.68it/s]"
     ]
    },
    {
     "name": "stdout",
     "output_type": "stream",
     "text": [
      "Gradient of gamma: 0.006431359797716141\n",
      "Epoch 35 - Loss: 0.6112473011016846\n",
      "Parameter name: gamma\n",
      "Parameter shape: torch.Size([])\n",
      "Parameter value: Parameter containing:\n",
      "tensor(4.7140, device='cuda:0', requires_grad=True)\n",
      "\n"
     ]
    },
    {
     "name": "stderr",
     "output_type": "stream",
     "text": [
      "\n",
      "100%|██████████████████████████████████████████| 10/10 [00:00<00:00, 302.59it/s]\n"
     ]
    },
    {
     "name": "stdout",
     "output_type": "stream",
     "text": [
      "Gradient of gamma: 0.007192858960479498\n",
      "Epoch 36 - Loss: 0.6118909120559692\n",
      "Parameter name: gamma\n",
      "Parameter shape: torch.Size([])\n",
      "Parameter value: Parameter containing:\n",
      "tensor(4.8020, device='cuda:0', requires_grad=True)\n",
      "\n"
     ]
    },
    {
     "name": "stderr",
     "output_type": "stream",
     "text": [
      "\n",
      "100%|██████████████████████████████████████████| 10/10 [00:00<00:00, 257.83it/s]\n",
      " 76%|████████████████████████████████▋          | 38/50 [00:02<00:00, 13.55it/s]"
     ]
    },
    {
     "name": "stdout",
     "output_type": "stream",
     "text": [
      "Gradient of gamma: 0.005391556769609451\n",
      "Epoch 37 - Loss: 0.6125053763389587\n",
      "Parameter name: gamma\n",
      "Parameter shape: torch.Size([])\n",
      "Parameter value: Parameter containing:\n",
      "tensor(4.8803, device='cuda:0', requires_grad=True)\n",
      "\n"
     ]
    },
    {
     "name": "stderr",
     "output_type": "stream",
     "text": [
      "\n",
      "100%|██████████████████████████████████████████| 10/10 [00:00<00:00, 303.06it/s]\n"
     ]
    },
    {
     "name": "stdout",
     "output_type": "stream",
     "text": [
      "Gradient of gamma: 0.003676528111100197\n",
      "Epoch 38 - Loss: 0.612825870513916\n",
      "Parameter name: gamma\n",
      "Parameter shape: torch.Size([])\n",
      "Parameter value: Parameter containing:\n",
      "tensor(4.9505, device='cuda:0', requires_grad=True)\n",
      "\n"
     ]
    },
    {
     "name": "stderr",
     "output_type": "stream",
     "text": [
      "\n",
      "100%|██████████████████████████████████████████| 10/10 [00:00<00:00, 325.38it/s]\n",
      " 80%|██████████████████████████████████▍        | 40/50 [00:02<00:00, 13.26it/s]"
     ]
    },
    {
     "name": "stdout",
     "output_type": "stream",
     "text": [
      "Gradient of gamma: 0.002116548363119364\n",
      "Epoch 39 - Loss: 0.6130470037460327\n",
      "Parameter name: gamma\n",
      "Parameter shape: torch.Size([])\n",
      "Parameter value: Parameter containing:\n",
      "tensor(5.0136, device='cuda:0', requires_grad=True)\n",
      "\n"
     ]
    },
    {
     "name": "stderr",
     "output_type": "stream",
     "text": [
      "\n",
      "100%|██████████████████████████████████████████| 10/10 [00:00<00:00, 423.58it/s]\n"
     ]
    },
    {
     "name": "stdout",
     "output_type": "stream",
     "text": [
      "Gradient of gamma: 0.0012953851837664843\n",
      "Epoch 40 - Loss: 0.6131431460380554\n",
      "Parameter name: gamma\n",
      "Parameter shape: torch.Size([])\n",
      "Parameter value: Parameter containing:\n",
      "tensor(5.0706, device='cuda:0', requires_grad=True)\n",
      "\n"
     ]
    },
    {
     "name": "stderr",
     "output_type": "stream",
     "text": [
      "\n",
      "100%|██████████████████████████████████████████| 10/10 [00:00<00:00, 379.62it/s]\n",
      " 84%|████████████████████████████████████       | 42/50 [00:02<00:00, 14.12it/s]"
     ]
    },
    {
     "name": "stdout",
     "output_type": "stream",
     "text": [
      "Gradient of gamma: 0.0007001794292591512\n",
      "Epoch 41 - Loss: 0.6132040023803711\n",
      "Parameter name: gamma\n",
      "Parameter shape: torch.Size([])\n",
      "Parameter value: Parameter containing:\n",
      "tensor(5.1223, device='cuda:0', requires_grad=True)\n",
      "\n"
     ]
    },
    {
     "name": "stderr",
     "output_type": "stream",
     "text": [
      "\n",
      "100%|██████████████████████████████████████████| 10/10 [00:00<00:00, 428.96it/s]\n"
     ]
    },
    {
     "name": "stdout",
     "output_type": "stream",
     "text": [
      "Gradient of gamma: 0.0004024345544166863\n",
      "Epoch 42 - Loss: 0.6132310628890991\n",
      "Parameter name: gamma\n",
      "Parameter shape: torch.Size([])\n",
      "Parameter value: Parameter containing:\n",
      "tensor(5.1691, device='cuda:0', requires_grad=True)\n",
      "\n"
     ]
    },
    {
     "name": "stderr",
     "output_type": "stream",
     "text": [
      "\n",
      "100%|██████████████████████████████████████████| 10/10 [00:00<00:00, 449.88it/s]\n",
      " 88%|█████████████████████████████████████▊     | 44/50 [00:02<00:00, 14.98it/s]"
     ]
    },
    {
     "name": "stdout",
     "output_type": "stream",
     "text": [
      "Gradient of gamma: 0.0002295426238561049\n",
      "Epoch 43 - Loss: 0.61324542760849\n",
      "Parameter name: gamma\n",
      "Parameter shape: torch.Size([])\n",
      "Parameter value: Parameter containing:\n",
      "tensor(5.2117, device='cuda:0', requires_grad=True)\n",
      "\n"
     ]
    },
    {
     "name": "stderr",
     "output_type": "stream",
     "text": [
      "\n",
      "100%|██████████████████████████████████████████| 10/10 [00:00<00:00, 473.02it/s]\n"
     ]
    },
    {
     "name": "stdout",
     "output_type": "stream",
     "text": [
      "Gradient of gamma: 0.00014150762581266463\n",
      "Epoch 44 - Loss: 0.6132522821426392\n",
      "Parameter name: gamma\n",
      "Parameter shape: torch.Size([])\n",
      "Parameter value: Parameter containing:\n",
      "tensor(5.2503, device='cuda:0', requires_grad=True)\n",
      "\n"
     ]
    },
    {
     "name": "stderr",
     "output_type": "stream",
     "text": [
      "\n",
      "100%|██████████████████████████████████████████| 10/10 [00:00<00:00, 433.39it/s]\n",
      " 92%|███████████████████████████████████████▌   | 46/50 [00:02<00:00, 15.06it/s]"
     ]
    },
    {
     "name": "stdout",
     "output_type": "stream",
     "text": [
      "Gradient of gamma: 7.025522063486278e-05\n",
      "Epoch 45 - Loss: 0.6132572889328003\n",
      "Parameter name: gamma\n",
      "Parameter shape: torch.Size([])\n",
      "Parameter value: Parameter containing:\n",
      "tensor(5.2854, device='cuda:0', requires_grad=True)\n",
      "\n"
     ]
    },
    {
     "name": "stderr",
     "output_type": "stream",
     "text": [
      "\n",
      "100%|██████████████████████████████████████████| 10/10 [00:00<00:00, 274.35it/s]\n"
     ]
    },
    {
     "name": "stdout",
     "output_type": "stream",
     "text": [
      "Gradient of gamma: 4.324124529375695e-05\n",
      "Epoch 46 - Loss: 0.6132592558860779\n",
      "Parameter name: gamma\n",
      "Parameter shape: torch.Size([])\n",
      "Parameter value: Parameter containing:\n",
      "tensor(5.3173, device='cuda:0', requires_grad=True)\n",
      "\n"
     ]
    },
    {
     "name": "stderr",
     "output_type": "stream",
     "text": [
      "\n",
      "100%|██████████████████████████████████████████| 10/10 [00:00<00:00, 362.50it/s]\n",
      " 96%|█████████████████████████████████████████▎ | 48/50 [00:02<00:00, 14.33it/s]"
     ]
    },
    {
     "name": "stdout",
     "output_type": "stream",
     "text": [
      "Gradient of gamma: 2.6788902687258087e-05\n",
      "Epoch 47 - Loss: 0.6132602095603943\n",
      "Parameter name: gamma\n",
      "Parameter shape: torch.Size([])\n",
      "Parameter value: Parameter containing:\n",
      "tensor(5.3463, device='cuda:0', requires_grad=True)\n",
      "\n"
     ]
    },
    {
     "name": "stderr",
     "output_type": "stream",
     "text": [
      "\n",
      "100%|██████████████████████████████████████████| 10/10 [00:00<00:00, 323.12it/s]\n"
     ]
    },
    {
     "name": "stdout",
     "output_type": "stream",
     "text": [
      "Gradient of gamma: 1.7090997062041424e-05\n",
      "Epoch 48 - Loss: 0.6132606863975525\n",
      "Parameter name: gamma\n",
      "Parameter shape: torch.Size([])\n",
      "Parameter value: Parameter containing:\n",
      "tensor(5.3727, device='cuda:0', requires_grad=True)\n",
      "\n"
     ]
    },
    {
     "name": "stderr",
     "output_type": "stream",
     "text": [
      "\n",
      "100%|██████████████████████████████████████████| 10/10 [00:00<00:00, 364.40it/s]\n",
      "100%|███████████████████████████████████████████| 50/50 [00:03<00:00, 15.99it/s]\n"
     ]
    },
    {
     "name": "stdout",
     "output_type": "stream",
     "text": [
      "Gradient of gamma: 1.137136041506892e-05\n",
      "Epoch 49 - Loss: 0.6132611036300659\n",
      "Parameter name: gamma\n",
      "Parameter shape: torch.Size([])\n",
      "Parameter value: Parameter containing:\n",
      "tensor(5.3967, device='cuda:0', requires_grad=True)\n",
      "\n"
     ]
    },
    {
     "name": "stderr",
     "output_type": "stream",
     "text": [
      "  0%|                                                    | 0/50 [00:00<?, ?it/s]\n",
      "100%|██████████████████████████████████████████| 10/10 [00:00<00:00, 339.27it/s]\n"
     ]
    },
    {
     "name": "stdout",
     "output_type": "stream",
     "text": [
      "Gradient of gamma: 0.00010231370106339455\n",
      "Epoch 0 - Loss: 0.6931704878807068\n",
      "Parameter name: gamma\n",
      "Parameter shape: torch.Size([])\n",
      "Parameter value: Parameter containing:\n",
      "tensor(0.9000, device='cuda:0', requires_grad=True)\n",
      "\n"
     ]
    },
    {
     "name": "stderr",
     "output_type": "stream",
     "text": [
      "\n",
      "100%|██████████████████████████████████████████| 10/10 [00:00<00:00, 435.20it/s]\n",
      "  4%|█▊                                          | 2/50 [00:00<00:03, 14.29it/s]"
     ]
    },
    {
     "name": "stdout",
     "output_type": "stream",
     "text": [
      "Gradient of gamma: 5.7913828641176224e-05\n",
      "Epoch 1 - Loss: 0.6931627988815308\n",
      "Parameter name: gamma\n",
      "Parameter shape: torch.Size([])\n",
      "Parameter value: Parameter containing:\n",
      "tensor(0.8050, device='cuda:0', requires_grad=True)\n",
      "\n"
     ]
    },
    {
     "name": "stderr",
     "output_type": "stream",
     "text": [
      "\n",
      "100%|██████████████████████████████████████████| 10/10 [00:00<00:00, 476.96it/s]\n"
     ]
    },
    {
     "name": "stdout",
     "output_type": "stream",
     "text": [
      "Gradient of gamma: 3.422447480261326e-05\n",
      "Epoch 2 - Loss: 0.6931585073471069\n",
      "Parameter name: gamma\n",
      "Parameter shape: torch.Size([])\n",
      "Parameter value: Parameter containing:\n",
      "tensor(0.7167, device='cuda:0', requires_grad=True)\n",
      "\n"
     ]
    },
    {
     "name": "stderr",
     "output_type": "stream",
     "text": [
      "\n",
      "100%|██████████████████████████████████████████| 10/10 [00:00<00:00, 469.49it/s]\n",
      "  8%|███▌                                        | 4/50 [00:00<00:02, 16.19it/s]"
     ]
    },
    {
     "name": "stdout",
     "output_type": "stream",
     "text": [
      "Gradient of gamma: 2.1143845515325665e-05\n",
      "Epoch 3 - Loss: 0.6931560635566711\n",
      "Parameter name: gamma\n",
      "Parameter shape: torch.Size([])\n",
      "Parameter value: Parameter containing:\n",
      "tensor(0.6355, device='cuda:0', requires_grad=True)\n",
      "\n"
     ]
    },
    {
     "name": "stderr",
     "output_type": "stream",
     "text": [
      "\n",
      "100%|██████████████████████████████████████████| 10/10 [00:00<00:00, 439.09it/s]\n"
     ]
    },
    {
     "name": "stdout",
     "output_type": "stream",
     "text": [
      "Gradient of gamma: 1.421655179001391e-05\n",
      "Epoch 4 - Loss: 0.6931546926498413\n",
      "Parameter name: gamma\n",
      "Parameter shape: torch.Size([])\n",
      "Parameter value: Parameter containing:\n",
      "tensor(0.5611, device='cuda:0', requires_grad=True)\n",
      "\n"
     ]
    },
    {
     "name": "stderr",
     "output_type": "stream",
     "text": [
      "\n",
      "100%|██████████████████████████████████████████| 10/10 [00:00<00:00, 353.93it/s]\n"
     ]
    },
    {
     "name": "stdout",
     "output_type": "stream",
     "text": [
      "Gradient of gamma: 1.0176896466873586e-05\n",
      "Epoch 5 - Loss: 0.6931537389755249\n",
      "Parameter name: gamma\n",
      "Parameter shape: torch.Size([])\n"
     ]
    },
    {
     "name": "stderr",
     "output_type": "stream",
     "text": [
      " 12%|█████▎                                      | 6/50 [00:00<00:02, 15.06it/s]"
     ]
    },
    {
     "name": "stdout",
     "output_type": "stream",
     "text": [
      "Parameter value: Parameter containing:\n",
      "tensor(0.4929, device='cuda:0', requires_grad=True)\n",
      "\n"
     ]
    },
    {
     "name": "stderr",
     "output_type": "stream",
     "text": [
      "\n",
      "100%|██████████████████████████████████████████| 10/10 [00:00<00:00, 319.72it/s]\n"
     ]
    },
    {
     "name": "stdout",
     "output_type": "stream",
     "text": [
      "Gradient of gamma: 7.666529199923389e-06\n",
      "Epoch 6 - Loss: 0.6931532621383667\n",
      "Parameter name: gamma\n",
      "Parameter shape: torch.Size([])\n",
      "Parameter value: Parameter containing:\n",
      "tensor(0.4304, device='cuda:0', requires_grad=True)\n",
      "\n"
     ]
    },
    {
     "name": "stderr",
     "output_type": "stream",
     "text": [
      "\n",
      "100%|██████████████████████████████████████████| 10/10 [00:00<00:00, 336.92it/s]\n",
      " 16%|███████                                     | 8/50 [00:00<00:02, 14.34it/s]"
     ]
    },
    {
     "name": "stdout",
     "output_type": "stream",
     "text": [
      "Gradient of gamma: 6.088432201067917e-06\n",
      "Epoch 7 - Loss: 0.6931528449058533\n",
      "Parameter name: gamma\n",
      "Parameter shape: torch.Size([])\n",
      "Parameter value: Parameter containing:\n",
      "tensor(0.3730, device='cuda:0', requires_grad=True)\n",
      "\n"
     ]
    },
    {
     "name": "stderr",
     "output_type": "stream",
     "text": [
      "\n",
      "100%|██████████████████████████████████████████| 10/10 [00:00<00:00, 483.34it/s]\n"
     ]
    },
    {
     "name": "stdout",
     "output_type": "stream",
     "text": [
      "Gradient of gamma: 5.076277375337668e-06\n",
      "Epoch 8 - Loss: 0.6931525468826294\n",
      "Parameter name: gamma\n",
      "Parameter shape: torch.Size([])\n",
      "Parameter value: Parameter containing:\n",
      "tensor(0.3201, device='cuda:0', requires_grad=True)\n",
      "\n"
     ]
    },
    {
     "name": "stderr",
     "output_type": "stream",
     "text": [
      "\n",
      "100%|██████████████████████████████████████████| 10/10 [00:00<00:00, 467.10it/s]\n",
      " 20%|████████▌                                  | 10/50 [00:00<00:02, 15.54it/s]"
     ]
    },
    {
     "name": "stdout",
     "output_type": "stream",
     "text": [
      "Gradient of gamma: 4.259976776666008e-06\n",
      "Epoch 9 - Loss: 0.6931521892547607\n",
      "Parameter name: gamma\n",
      "Parameter shape: torch.Size([])\n",
      "Parameter value: Parameter containing:\n",
      "tensor(0.2712, device='cuda:0', requires_grad=True)\n",
      "\n"
     ]
    },
    {
     "name": "stderr",
     "output_type": "stream",
     "text": [
      "\n",
      "100%|██████████████████████████████████████████| 10/10 [00:00<00:00, 469.95it/s]\n"
     ]
    },
    {
     "name": "stdout",
     "output_type": "stream",
     "text": [
      "Gradient of gamma: 3.713004161909339e-06\n",
      "Epoch 10 - Loss: 0.6931520700454712\n",
      "Parameter name: gamma\n",
      "Parameter shape: torch.Size([])\n",
      "Parameter value: Parameter containing:\n",
      "tensor(0.2261, device='cuda:0', requires_grad=True)\n",
      "\n"
     ]
    },
    {
     "name": "stderr",
     "output_type": "stream",
     "text": [
      "\n",
      "100%|██████████████████████████████████████████| 10/10 [00:00<00:00, 457.22it/s]\n",
      " 24%|██████████▎                                | 12/50 [00:00<00:02, 16.17it/s]"
     ]
    }
   ],
   "source": [
    "results = []\n",
    "param_history = []\n",
    "loss_histories = []\n",
    "for n_query in taelik.queries:\n",
    "    for shot in taelik.s_shots:\n",
    "        sampler = CategoriesSampler(all_labels_support, all_labels_query, taelik.n_batch,\n",
    "                                            taelik.k_eff, taelik.n_ways, shot, taelik.n_query, \n",
    "                                            taelik.sampling, 1, 0.1)\n",
    "        sampler.create_list_classes(all_labels_support, all_labels_query)\n",
    "        sampler_support = SamplerSupport(sampler)\n",
    "        sampler_query = SamplerQuery(sampler)\n",
    "        test_loader_query = []\n",
    "        for indices in sampler_query :\n",
    "            test_loader_query.append((all_features_query[indices,:], all_labels_query[indices]))\n",
    "        \n",
    "        test_loader_support = []\n",
    "        for indices in sampler_support :\n",
    "            test_loader_support.append((all_features_support[indices,:], all_labels_support[indices]))\n",
    "            \n",
    "        task_generator = Tasks_Generator(k_eff=taelik.k_eff, n_ways=taelik.n_ways, shot=shot, n_query=taelik.n_query, loader_support=test_loader_support, loader_query=test_loader_query, train_mean=torch.tensor([0]), log_file='./logs/mini/resnet18/uniform/PADDLE/PADDLE_run_0.log')\n",
    "        u_paddle = U_Paddle(n_layers=10, device='cuda', log_file='xx.log')\n",
    "        \n",
    "        tasks = task_generator.generate_tasks()\n",
    "        \n",
    "        criterion = torch.nn.CrossEntropyLoss()\n",
    "        optimizer = torch.optim.Adam(u_paddle.parameters(), lr=0.1)\n",
    "        scheduler = StepLR(optimizer, step_size=50, gamma=0.5)\n",
    "        \n",
    "        u_paddle, loss_history, params_history = training2(u_paddle, tasks, criterion, optimizer, scheduler, 50, 'cuda')\n",
    "        torch.cuda.empty_cache()\n",
    "        param_history.append(params_history)\n",
    "        results.append(u_paddle)\n",
    "        loss_histories.append(loss_history)"
   ]
  },
  {
   "cell_type": "code",
   "execution_count": null,
   "id": "b598ee92-acab-49ec-b363-f2d5e7bfa955",
   "metadata": {},
   "outputs": [],
   "source": [
    "i = 3\n",
    "x = results[i].run_task(task_dic=tasks, shot = taelik.s_shots[i])"
   ]
  },
  {
   "cell_type": "code",
   "execution_count": null,
   "id": "784a3448-0a70-4e5f-9608-65f634eeaf36",
   "metadata": {},
   "outputs": [],
   "source": [
    "print(f\"Confidence interval : {compute_confidence_interval(x['acc'][:, -1])[0]}\")"
   ]
  },
  {
   "cell_type": "code",
   "execution_count": null,
   "id": "e6fdb7a4-d4bc-42ad-a71d-e52b846aaa63",
   "metadata": {},
   "outputs": [],
   "source": [
    "x['predictions'].cpu().numpy().argmax(2)"
   ]
  },
  {
   "cell_type": "code",
   "execution_count": null,
   "id": "d564fc4e-221f-413a-bde3-4a3ac652cf40",
   "metadata": {},
   "outputs": [],
   "source": [
    "tasks['y_q'].cpu().numpy()[0].T"
   ]
  },
  {
   "cell_type": "code",
   "execution_count": null,
   "id": "9d59430c-75f8-40f9-9cec-124e809f7fb6",
   "metadata": {},
   "outputs": [],
   "source": [
    "print(f\"accuracy score : {accuracy_score(x['predictions'].cpu().numpy().argmax(2).T, tasks['y_q'].cpu().numpy()[0])}\")"
   ]
  },
  {
   "cell_type": "markdown",
   "id": "dd94575c-2876-4cfc-8e2b-637ff7282b95",
   "metadata": {
    "jp-MarkdownHeadingCollapsed": true
   },
   "source": [
    "## Laplacian Shot"
   ]
  },
  {
   "cell_type": "code",
   "execution_count": 3,
   "id": "d0ba11d9-0054-4dd7-8d08-b581c9358595",
   "metadata": {},
   "outputs": [],
   "source": [
    "import torch.nn.functional as F\n",
    "from tqdm import tqdm\n",
    "import torch\n",
    "import time\n",
    "from numpy import linalg as LA\n",
    "import numpy as np\n",
    "import math\n",
    "from scipy import sparse\n",
    "import matplotlib\n",
    "matplotlib.use('Agg')\n",
    "from sklearn.neighbors import NearestNeighbors\n",
    "from src.utils import get_metric, Logger, get_one_hot"
   ]
  },
  {
   "cell_type": "markdown",
   "id": "0f559b69-c017-443c-a0da-fff935e6dc80",
   "metadata": {},
   "source": [
    "#### Tools"
   ]
  },
  {
   "cell_type": "code",
   "execution_count": 154,
   "id": "d5642db3-a443-4ad1-b00a-eaba27c0c94a",
   "metadata": {},
   "outputs": [],
   "source": [
    "def normalize(Y_in):\n",
    "    maxcol = np.max(Y_in, axis=1)\n",
    "    Y_in = Y_in - maxcol[:, np.newaxis]\n",
    "    N = Y_in.shape[0]\n",
    "    size_limit = 150000\n",
    "    if N > size_limit:\n",
    "        batch_size = 1280\n",
    "        Y_out = []\n",
    "        num_batch = int(math.ceil(1.0 * N / batch_size))\n",
    "        for batch_idx in range(num_batch):\n",
    "            start = batch_idx * batch_size\n",
    "            end = min((batch_idx + 1) * batch_size, N)\n",
    "            tmp = np.exp(Y_in[start:end, :])\n",
    "            tmp = tmp / (np.sum(tmp, axis=1)[:, None])\n",
    "            Y_out.append(tmp)\n",
    "        del Y_in\n",
    "        Y_out = np.vstack(Y_out)\n",
    "    else:\n",
    "        Y_out = np.exp(Y_in)\n",
    "        Y_out = Y_out / (np.sum(Y_out, axis=1)[:, None])\n",
    "\n",
    "    return Y_out\n",
    "\n",
    "def normalization(z_s, z_q, train_mean, norm_type):\n",
    "    \"\"\"\n",
    "        inputs:\n",
    "            z_s : np.Array of shape [n_task, s_shot, feature_dim]\n",
    "            z_q : np.Array of shape [n_task, q_shot, feature_dim]\n",
    "            train_mean: np.Array of shape [feature_dim]\n",
    "    \"\"\"\n",
    "    z_s = z_s.cpu()\n",
    "    z_q = z_q.cpu()\n",
    "\n",
    "    # CL2N Normalization\n",
    "    if norm_type == 'CL2N':\n",
    "        z_s = z_s - train_mean\n",
    "        z_s = z_s / LA.norm(z_s, 2, 2)[:, :, None]\n",
    "        z_q = z_q - train_mean\n",
    "        z_q = z_q / LA.norm(z_q, 2, 2)[:, :, None]\n",
    "\n",
    "    # L2 Normalization\n",
    "    elif norm_type == 'L2N':\n",
    "        z_s = z_s / LA.norm(z_s, 2, 2)[:, :, None]\n",
    "        z_q = z_q / LA.norm(z_q, 2, 2)[:, :, None]\n",
    "    return z_s, z_q\n",
    "\n",
    "\n",
    "def run_prediction(support, query, y_s, y_q, shot, batch_size, lmd, bound_iter):\n",
    "    \"\"\"\n",
    "    Corresponds to the LaplacianShot inference\n",
    "    inputs:\n",
    "        support : torch.Tensor of shape [n_task, s_shot, feature_dim]\n",
    "        query : torch.Tensor of shape [n_task, q_shot, feature_dim]\n",
    "        y_s : torch.Tensor of shape [n_task, s_shot]\n",
    "        y_q : torch.Tensor of shape [n_task, q_shot]\n",
    "    records :\n",
    "        accuracy\n",
    "        ent_energy\n",
    "        inference time\n",
    "    \"\"\"\n",
    "    pred = []\n",
    "    for i in tqdm(range(batch_size)):\n",
    "        \n",
    "        substract = support[i][:, None, :] - query[i]\n",
    "        distance = LA.norm(substract, 2, axis=-1)\n",
    "        unary = distance.transpose() ** 2\n",
    "        W = create_affinity(query[i], knn=5)\n",
    "        preds, acc_list, ent_energy, times = bound_update(unary=unary, kernel=W, bound_lambda=lmd, y_s=y_s, y_q=y_q, task_i=i,\n",
    "                                            bound_iteration=bound_iter)\n",
    "        pred.append(preds)\n",
    "    return pred, y_q, acc_list\n",
    "\n",
    "def create_affinity(X,knn):\n",
    "    N, D = X.shape\n",
    "\n",
    "    nbrs = NearestNeighbors(n_neighbors=knn).fit(X)\n",
    "    dist, knnind = nbrs.kneighbors(X)\n",
    "\n",
    "    row = np.repeat(range(N), knn - 1)\n",
    "    col = knnind[:, 1:].flatten()\n",
    "    data = np.ones(X.shape[0] * (knn - 1))\n",
    "    W = sparse.csc_matrix((data, (row, col)), shape=(N, N), dtype=float)\n",
    "    return W\n",
    "\n",
    "    \n",
    "def bound_update(unary, kernel, bound_lambda, y_s, y_q, task_i, bound_iteration=20, batch=False):\n",
    "    oldE = float('inf')\n",
    "    Y = normalize(-unary)\n",
    "    E_list = []\n",
    "    out_list = []\n",
    "    acc_list = []\n",
    "    timestamps = []\n",
    "    t0 = time.time()\n",
    "    for i in range(bound_iteration):\n",
    "        additive = -unary\n",
    "        mul_kernel = kernel.dot(Y)\n",
    "        Y = -bound_lambda * mul_kernel\n",
    "        additive = additive - Y\n",
    "        Y = normalize(additive)\n",
    "        E = entropy_energy(Y, unary, kernel, bound_lambda, batch)\n",
    "        E_list.append(E)\n",
    "        # print('entropy_energy is ' +repr(E) + ' at iteration ',i)\n",
    "        l = np.argmax(Y, axis=1)\n",
    "        #out = np.take(y_s, l)\n",
    "        out = l\n",
    "        timestamps.append(time.time()-t0)\n",
    "\n",
    "        if (i > 1 and (abs(E - oldE) <= 1e-6 * abs(oldE))):\n",
    "            # print('Converged')\n",
    "            out_list.append(torch.from_numpy(out))\n",
    "            acc_list.append((torch.from_numpy(y_q[task_i]) == torch.from_numpy(out)).float())\n",
    "            for j in range(bound_iteration-i-1):\n",
    "                out_list.append(out_list[i].detach().clone())\n",
    "                acc_list.append(acc_list[i].detach().clone())\n",
    "                E_list.append(E_list[i])\n",
    "                timestamps.append(0)\n",
    "            break\n",
    "\n",
    "        else:\n",
    "            oldE = E.copy()\n",
    "\n",
    "            out_list.append(torch.from_numpy(out))\n",
    "            acc_list.append((torch.from_numpy(y_q[task_i]) == torch.from_numpy(out)).float())\n",
    "        t0 = time.time()\n",
    "\n",
    "    out_list = torch.stack(out_list, dim=0)\n",
    "    acc_list = torch.stack(acc_list, dim=0).mean(dim=1, keepdim=True)\n",
    "\n",
    "    return out, acc_list, E_list, timestamps\n",
    "def entropy_energy(Y, unary, kernel, bound_lambda, batch=False):\n",
    "    tot_size = Y.shape[0]\n",
    "    pairwise = kernel.dot(Y)\n",
    "    if batch == False:\n",
    "        temp = (unary * Y) + (-bound_lambda * pairwise * Y)\n",
    "        E = (Y * np.log(np.maximum(Y, 1e-20)) + temp).sum()\n",
    "    else:\n",
    "        batch_size = 1024\n",
    "        num_batch = int(math.ceil(1.0 * tot_size / batch_size))\n",
    "        E = 0\n",
    "        for batch_idx in range(num_batch):\n",
    "            start = batch_idx * batch_size\n",
    "            end = min((batch_idx + 1) * batch_size, tot_size)\n",
    "            temp = (unary[start:end] * Y[start:end]) + (-bound_lambda * pairwise[start:end] * Y[start:end])\n",
    "            E = E + (Y[start:end] * np.log(np.maximum(Y[start:end], 1e-20)) + temp).sum()\n",
    "\n",
    "    return E\n",
    "\n",
    "\n",
    "def proto_rectification(y_s, support, query, shot,temp = 2, number_tasks=5):\n",
    "    \"\"\"\n",
    "        inputs:\n",
    "            support : np.Array of shape [n_task, s_shot, feature_dim]\n",
    "            query : np.Array of shape [n_task, q_shot, feature_dim]\n",
    "            shot: Shot\n",
    "\n",
    "        ouput:\n",
    "            proto_weights: prototype of each class\n",
    "    \"\"\"\n",
    "    eta = support.mean(1) - query.mean(1)  # Shifting term\n",
    "    query = query + eta[:, np.newaxis, :]  # Adding shifting term to each normalized query feature\n",
    "    query_aug = torch.cat((support, query), axis=1)  # Augmented set S' (X')\n",
    "    one_hot = get_one_hot(y_s)\n",
    "    counts = one_hot.sum(1).view(support.size()[0], -1, 1)\n",
    "    weights = one_hot.transpose(1, 2).matmul(support)\n",
    "    init_prototypes = weights / counts\n",
    "\n",
    "    proto_weights = []\n",
    "    for j in tqdm(range(number_tasks)):\n",
    "        distance = get_metric('cosine')(init_prototypes[j], query_aug[j])\n",
    "        predict = torch.argmin(distance, dim=1)\n",
    "        cos_sim = F.cosine_similarity(query_aug[j][:, None, :], init_prototypes[j][None, :, :], dim=2)  # Cosine similarity between X' and Pn\n",
    "        cos_sim = temp * cos_sim\n",
    "        W = F.softmax(cos_sim, dim=1)\n",
    "        init_prototypeslist = [(W[predict == i, i].unsqueeze(1) * query_aug[j][predict == i]).mean(0, keepdim=True) for i in predict.unique()]\n",
    "        proto = torch.cat(init_prototypeslist, dim=0).cpu()  # Rectified prototypes P'n\n",
    "        \n",
    "        if proto.shape[0] != len(torch.unique(y_s)):\n",
    "            proto = init_prototypes[j]\n",
    "\n",
    "        proto_weights.append(proto)\n",
    "\n",
    "    proto_weights = np.stack(proto_weights, axis=0)\n",
    "    return proto_weights"
   ]
  },
  {
   "cell_type": "markdown",
   "id": "ca968bdd-6d97-4e38-ab04-d13663b1a681",
   "metadata": {},
   "source": [
    "#### Task generating"
   ]
  },
  {
   "cell_type": "code",
   "execution_count": 125,
   "id": "2435e543-cd38-4141-855a-2232d6b538b4",
   "metadata": {},
   "outputs": [],
   "source": [
    "sampler = CategoriesSampler(all_labels_support, all_labels_query, taelik.n_batch,\n",
    "                                    taelik.k_eff, taelik.n_ways, 4, taelik.n_query, \n",
    "                                    taelik.sampling, 1, 0.1)\n",
    "sampler.create_list_classes(all_labels_support, all_labels_query)\n",
    "sampler_support = SamplerSupport(sampler)\n",
    "sampler_query = SamplerQuery(sampler)\n",
    "test_loader_query = []\n",
    "for indices in sampler_query :\n",
    "    test_loader_query.append((all_features_query[indices,:], all_labels_query[indices]))\n",
    "\n",
    "test_loader_support = []\n",
    "for indices in sampler_support :\n",
    "    test_loader_support.append((all_features_support[indices,:], all_labels_support[indices]))\n",
    "    \n",
    "task_generator = Tasks_Generator(k_eff=taelik.k_eff, n_ways=taelik.n_ways, shot=5, n_query=taelik.n_query, loader_support=test_loader_support, loader_query=test_loader_query, train_mean=torch.tensor([0]), log_file='./logs/mini/resnet18/uniform/PADDLE/PADDLE_run_0.log')\n",
    "u_paddle = U_Paddle(n_layers=10, device='cuda', log_file='xx.log')\n",
    "\n",
    "task_dic = task_generator.generate_tasks()"
   ]
  },
  {
   "cell_type": "markdown",
   "id": "73dded1a-74ee-4bec-b9a0-9966e2957f89",
   "metadata": {},
   "source": [
    "#### Predictions"
   ]
  },
  {
   "cell_type": "code",
   "execution_count": 155,
   "id": "22e9e6c2-4062-4f1d-af3d-6979c10fa88d",
   "metadata": {},
   "outputs": [
    {
     "name": "stderr",
     "output_type": "stream",
     "text": [
      "/tmp/ipykernel_15842/3793071448.py:43: DeprecationWarning: __array_wrap__ must accept context and return_scalar arguments (positionally) in the future. (Deprecated NumPy 2.0)\n",
      "  z_s = z_s / LA.norm(z_s, 2, 2)[:, :, None]\n",
      "/tmp/ipykernel_15842/3793071448.py:44: DeprecationWarning: __array_wrap__ must accept context and return_scalar arguments (positionally) in the future. (Deprecated NumPy 2.0)\n",
      "  z_q = z_q / LA.norm(z_q, 2, 2)[:, :, None]\n",
      "100%|████████████████████████████████████████████| 5/5 [00:00<00:00, 254.93it/s]\n",
      "100%|█████████████████████████████████████████████| 5/5 [00:00<00:00, 11.17it/s]\n"
     ]
    }
   ],
   "source": [
    "device = 'cuda'\n",
    "proto_rect = True\n",
    "y_s, y_q = task_dic['y_s'], task_dic['y_q']\n",
    "x_s, x_q = task_dic['x_s'], task_dic['x_q']\n",
    "train_mean = torch.tensor([0])\n",
    "\n",
    "support, query = normalization(z_s=x_s, z_q=x_q, train_mean=train_mean, norm_type='L2N')\n",
    "y_s = y_s.squeeze(2).to(device)\n",
    "y_q = y_q.squeeze(2).to(device)\n",
    "support = support.to(device)\n",
    "query = query.to(device)\n",
    "\n",
    "if proto_rect:\n",
    "    support = proto_rectification(y_s=y_s, support=support, query=query, shot=shot)\n",
    "else:\n",
    "    one_hot = get_one_hot(y_s)\n",
    "    counts = one_hot.sum(1).view(support.size()[0], -1, 1)\n",
    "    weights = one_hot.transpose(1, 2).matmul(support)\n",
    "    support = weights / counts\n",
    "    support = support.cpu().numpy()\n",
    "query = query.cpu().numpy()\n",
    "y_s = y_s.cpu().numpy()\n",
    "y_q = y_q.cpu().numpy()\n",
    "\n",
    "# Run adaptation\n",
    "pred, y_q, acc_list = run_prediction(support=support, query=query, y_s=y_s, y_q=y_q,batch_size=5,lmd =0.1,bound_iter=5, shot=6)\n",
    "\n"
   ]
  },
  {
   "cell_type": "code",
   "execution_count": 156,
   "id": "dc0c83ad-4ae5-4972-9646-8053c2a235c0",
   "metadata": {},
   "outputs": [
    {
     "name": "stdout",
     "output_type": "stream",
     "text": [
      "Confidence interval : [0.8]\n"
     ]
    }
   ],
   "source": [
    "print(f\"Confidence interval : {compute_confidence_interval(acc_list)[0]}\")"
   ]
  },
  {
   "cell_type": "markdown",
   "id": "8bff165f-e661-4c4c-9671-8d831bd17a6d",
   "metadata": {
    "jp-MarkdownHeadingCollapsed": true
   },
   "source": [
    "# Paddle"
   ]
  },
  {
   "cell_type": "code",
   "execution_count": null,
   "id": "84153657-ca2d-4375-8011-c97ad40c8c1f",
   "metadata": {},
   "outputs": [],
   "source": []
  }
 ],
 "metadata": {
  "kernelspec": {
   "display_name": "Python 3 (ipykernel)",
   "language": "python",
   "name": "python3"
  },
  "language_info": {
   "codemirror_mode": {
    "name": "ipython",
    "version": 3
   },
   "file_extension": ".py",
   "mimetype": "text/x-python",
   "name": "python",
   "nbconvert_exporter": "python",
   "pygments_lexer": "ipython3",
   "version": "3.11.0"
  }
 },
 "nbformat": 4,
 "nbformat_minor": 5
}
