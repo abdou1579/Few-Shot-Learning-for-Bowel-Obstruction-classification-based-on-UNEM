{
 "cells": [
  {
   "cell_type": "code",
   "execution_count": 1,
   "metadata": {},
   "outputs": [
    {
     "name": "stdout",
     "output_type": "stream",
     "text": [
      "CSV file '.csv' has been created successfully.\n"
     ]
    }
   ],
   "source": [
    "import os\n",
    "import csv\n",
    "\n",
    "# Specify the directory containing the class folders\n",
    "main_dir = 'data/tiered_imagenet/'  # Replace with your actual path\n",
    "output_csv = '.csv'  # Name of the output CSV file\n",
    "out_dir = 'split/tiered/'\n",
    "\n",
    "for split in ['train', 'val', 'test']:\n",
    "    split_dir = main_dir + split + '/'\n",
    "    # Open the CSV file for writing\n",
    "    with open(out_dir + split + output_csv, 'w', newline='') as csvfile:\n",
    "        csvwriter = csv.writer(csvfile)\n",
    "        \n",
    "        # Write the header row\n",
    "        #csvwriter.writerow(['classname', 'file'])\n",
    "\n",
    "        # Traverse the main directory\n",
    "        for class_folder in os.listdir(split_dir):\n",
    "            class_folder_path = os.path.join(split_dir, class_folder)\n",
    "\n",
    "            # Check if it is a directory (class folder)\n",
    "            if os.path.isdir(class_folder_path):\n",
    "                # Iterate through all files in the class folder\n",
    "                for file_name in os.listdir(class_folder_path):\n",
    "                    file_path = os.path.join(class_folder_path, file_name)\n",
    "\n",
    "                    # Only consider files, ignore subfolders\n",
    "                    if os.path.isfile(file_path):\n",
    "                        # Write the classname and file_name to the CSV\n",
    "                        csvwriter.writerow([file_name, class_folder])\n",
    "\n",
    "print(f\"CSV file '{output_csv}' has been created successfully.\")"
   ]
  },
  {
   "cell_type": "code",
   "execution_count": 2,
   "metadata": {},
   "outputs": [
    {
     "name": "stdout",
     "output_type": "stream",
     "text": [
      "All images have been moved to data/tiered/\n"
     ]
    }
   ],
   "source": [
    "import os\n",
    "import shutil\n",
    "\n",
    "# Path to the main folder containing the 3 subfolders\n",
    "main_folder = 'data/tiered_imagenet/'  # Replace with your actual path\n",
    "\n",
    "# Path to the destination folder where you want to move all images\n",
    "destination_folder = 'data/tiered/'  # Replace with your actual path\n",
    "\n",
    "# Create destination folder if it doesn't exist\n",
    "if not os.path.exists(destination_folder):\n",
    "    os.makedirs(destination_folder)\n",
    "\n",
    "# Iterate over all subfolders in the main folder\n",
    "for subfolder in os.listdir(main_folder):\n",
    "    subfolder_path = os.path.join(main_folder, subfolder)\n",
    "\n",
    "    for subsubfolder in os.listdir(subfolder_path):\n",
    "        subsubfolder_path = os.path.join(subfolder_path, subsubfolder)\n",
    "\n",
    "        # Check if it's a directory (subfolder)\n",
    "        if os.path.isdir(subsubfolder_path):\n",
    "            # Iterate over all files in the subfolder\n",
    "            for file_name in os.listdir(subsubfolder_path):\n",
    "                file_path = os.path.join(subsubfolder_path, file_name)\n",
    "\n",
    "                # Check if the current file is an image (you can modify the extensions as needed)\n",
    "                if os.path.isfile(file_path) and file_name.lower().endswith(('.png', '.jpg', '.jpeg', '.bmp', '.gif')):\n",
    "                    # Move the file to the destination folder\n",
    "                    shutil.copy(file_path, os.path.join(destination_folder, file_name))\n",
    "\n",
    "print(f\"All images have been moved to {destination_folder}\")"
   ]
  }
 ],
 "metadata": {
  "kernelspec": {
   "display_name": "Python 3",
   "language": "python",
   "name": "python3"
  },
  "language_info": {
   "codemirror_mode": {
    "name": "ipython",
    "version": 3
   },
   "file_extension": ".py",
   "mimetype": "text/x-python",
   "name": "python",
   "nbconvert_exporter": "python",
   "pygments_lexer": "ipython3",
   "version": "3.10.12"
  }
 },
 "nbformat": 4,
 "nbformat_minor": 2
}
