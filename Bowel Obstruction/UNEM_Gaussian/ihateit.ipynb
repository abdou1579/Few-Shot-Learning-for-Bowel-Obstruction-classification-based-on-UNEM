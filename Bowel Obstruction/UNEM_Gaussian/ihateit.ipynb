{
 "cells": [
  {
   "cell_type": "code",
   "execution_count": 1,
   "id": "84b030ed-4c87-4c6c-8bd7-6a55bad16f55",
   "metadata": {},
   "outputs": [
    {
     "data": {
      "text/plain": [
       "'/home/baki/atsi/UNEM_Gaussian'"
      ]
     },
     "execution_count": 1,
     "metadata": {},
     "output_type": "execute_result"
    }
   ],
   "source": [
    "import os\n",
    "os.getcwd()"
   ]
  },
  {
   "cell_type": "markdown",
   "id": "c371cf94-eff3-40e3-b81f-29cf4ebba3f1",
   "metadata": {},
   "source": [
    "## Usage of different methods for fewshot classifications tasks"
   ]
  },
  {
   "cell_type": "code",
   "execution_count": 1,
   "id": "a90e8e8c-249c-44ee-a168-798a09cb7607",
   "metadata": {},
   "outputs": [],
   "source": [
    "import numpy as np\n",
    "import torch\n",
    "from torch.utils.data import TensorDataset, DataLoader\n",
    "from src.methods.U_Paddle import U_Paddle\n",
    "from src.methods.U_Paddle_embt import U_Paddle_EMBT\n",
    "from src.utils import compute_confidence_interval, load_checkpoint, Logger, extract_mean_features, extract_features\n",
    "from src.methods.tim import ALPHA_TIM, TIM_GD\n",
    "from src.methods.paddle import PADDLE\n",
    "from src.methods.soft_km import SOFT_KM\n",
    "from src.methods.laplacianshot import LaplacianShot\n",
    "from src.methods.paddle_gd import PADDLE_GD\n",
    "from src.methods.ici import ICI\n",
    "from src.methods.bdcspn import BDCSPN\n",
    "from src.methods.baseline import Baseline\n",
    "from src.methods.pt_map import PT_MAP\n",
    "from src.datasets import Tasks_Generator, get_dataset, get_dataloader, SamplerSupport, SamplerQuery, CategoriesSampler\n",
    "import torch\n",
    "import os\n",
    "from src.utils import load_pickle, save_pickle\n",
    "import random\n",
    "import matplotlib.pyplot as plt\n",
    "from src.datasets.loader import DatasetFolder\n",
    "from src.datasets.transform import with_augment, without_augment\n",
    "from torch.utils.data import DataLoader\n",
    "from src.models.ResNet import *\n",
    "from torch.optim.lr_scheduler import StepLR\n",
    "from src.unroll_trainer import *\n",
    "import random\n",
    "\n",
    "\n",
    "import pandas as pd"
   ]
  },
  {
   "cell_type": "code",
   "execution_count": 2,
   "id": "d77a5e51-0d7a-49cc-bc30-f466b8e76655",
   "metadata": {},
   "outputs": [],
   "source": [
    "df1 = pd.read_pickle('../Bride_fshot/train_softmax_RN50_T30.plk')\n",
    "df2 = pd.read_pickle('../Bride_fshot/train_visual_RN50.plk')"
   ]
  },
  {
   "cell_type": "markdown",
   "id": "f84ccb64-f4a5-473f-9d07-02a885635c03",
   "metadata": {},
   "source": [
    "## Training the UTRAINER bone "
   ]
  },
  {
   "cell_type": "code",
   "execution_count": 267,
   "id": "e755166a-8263-4274-9c86-d7d8e3338b68",
   "metadata": {},
   "outputs": [],
   "source": [
    "indices = torch.randperm(df1['concat_features'].size(0))\n",
    "\n",
    "# Shuffle both features and labels using the same indices\n",
    "shuffled_data = {\n",
    "    'concat_features': df1['concat_features'][indices],\n",
    "    'concat_labels': df1['concat_labels'][indices]\n",
    "}"
   ]
  },
  {
   "cell_type": "code",
   "execution_count": 7,
   "id": "11a1a9b6-72a0-4f67-bfa2-4a858d4def54",
   "metadata": {},
   "outputs": [],
   "source": [
    "all_features_support = df2['concat_features'][:250]\n",
    "all_labels_support = df2['concat_labels'][:250].long()\n",
    "all_features_query = df2['concat_features'][250:]\n",
    "all_labels_query = df2['concat_labels'][250:].long()"
   ]
  },
  {
   "cell_type": "code",
   "execution_count": 17,
   "id": "1ebb89ce-d74c-4e1a-90bc-7aa5d0a16bb8",
   "metadata": {},
   "outputs": [],
   "source": [
    "class taelik():\n",
    "    s_shots = [2,4,8,16,20]\n",
    "    k_eff = 2\n",
    "    n_ways = 2\n",
    "    n_query = 10\n",
    "    device = 'cuda'\n",
    "    sampling = 'uniform'\n",
    "    n_batch = 1"
   ]
  },
  {
   "cell_type": "code",
   "execution_count": 18,
   "id": "941de931-9757-4f9f-84fb-6c1c60819187",
   "metadata": {
    "scrolled": true
   },
   "outputs": [
    {
     "name": "stderr",
     "output_type": "stream",
     "text": [
      "  0%|                                                    | 0/80 [00:00<?, ?it/s]\n",
      "100%|██████████████████████████████████████████| 10/10 [00:00<00:00, 236.32it/s]\n"
     ]
    },
    {
     "name": "stdout",
     "output_type": "stream",
     "text": [
      "Gradient of gamma: 7.653026841580868e-06\n",
      "Epoch 0 - Loss: 0.6931501626968384\n",
      "Parameter name: gamma\n",
      "Parameter shape: torch.Size([])\n",
      "Parameter value: Parameter containing:\n",
      "tensor(0.9001, device='cuda:0', requires_grad=True)\n",
      "\n"
     ]
    },
    {
     "name": "stderr",
     "output_type": "stream",
     "text": [
      "\n",
      "100%|██████████████████████████████████████████| 10/10 [00:00<00:00, 284.98it/s]\n",
      "  2%|█                                           | 2/80 [00:00<00:07, 10.80it/s]"
     ]
    },
    {
     "name": "stdout",
     "output_type": "stream",
     "text": [
      "Gradient of gamma: 3.7446152418851852e-06\n",
      "Epoch 1 - Loss: 0.6931495666503906\n",
      "Parameter name: gamma\n",
      "Parameter shape: torch.Size([])\n",
      "Parameter value: Parameter containing:\n",
      "tensor(0.8074, device='cuda:0', requires_grad=True)\n",
      "\n"
     ]
    },
    {
     "name": "stderr",
     "output_type": "stream",
     "text": [
      "\n",
      "100%|██████████████████████████████████████████| 10/10 [00:00<00:00, 277.23it/s]\n"
     ]
    },
    {
     "name": "stdout",
     "output_type": "stream",
     "text": [
      "Gradient of gamma: 1.8120044842362404e-06\n",
      "Epoch 2 - Loss: 0.6931493878364563\n",
      "Parameter name: gamma\n",
      "Parameter shape: torch.Size([])\n",
      "Parameter value: Parameter containing:\n",
      "tensor(0.7240, device='cuda:0', requires_grad=True)\n",
      "\n"
     ]
    },
    {
     "name": "stderr",
     "output_type": "stream",
     "text": [
      "\n",
      "100%|██████████████████████████████████████████| 10/10 [00:00<00:00, 277.98it/s]\n",
      "  5%|██▏                                         | 4/80 [00:00<00:07, 10.54it/s]"
     ]
    },
    {
     "name": "stdout",
     "output_type": "stream",
     "text": [
      "Gradient of gamma: 9.494106052443385e-07\n",
      "Epoch 3 - Loss: 0.693149209022522\n",
      "Parameter name: gamma\n",
      "Parameter shape: torch.Size([])\n",
      "Parameter value: Parameter containing:\n",
      "tensor(0.6499, device='cuda:0', requires_grad=True)\n",
      "\n"
     ]
    },
    {
     "name": "stderr",
     "output_type": "stream",
     "text": [
      "\n",
      "100%|██████████████████████████████████████████| 10/10 [00:00<00:00, 275.95it/s]\n"
     ]
    },
    {
     "name": "stdout",
     "output_type": "stream",
     "text": [
      "Gradient of gamma: 5.817746568936855e-07\n",
      "Epoch 4 - Loss: 0.693149209022522\n",
      "Parameter name: gamma\n",
      "Parameter shape: torch.Size([])\n",
      "Parameter value: Parameter containing:\n",
      "tensor(0.5837, device='cuda:0', requires_grad=True)\n",
      "\n"
     ]
    },
    {
     "name": "stderr",
     "output_type": "stream",
     "text": [
      "\n",
      "100%|██████████████████████████████████████████| 10/10 [00:00<00:00, 317.09it/s]\n",
      "  8%|███▎                                        | 6/80 [00:00<00:06, 10.64it/s]"
     ]
    },
    {
     "name": "stdout",
     "output_type": "stream",
     "text": [
      "Gradient of gamma: 3.5497032513376325e-07\n",
      "Epoch 5 - Loss: 0.693149209022522\n",
      "Parameter name: gamma\n",
      "Parameter shape: torch.Size([])\n",
      "Parameter value: Parameter containing:\n",
      "tensor(0.5247, device='cuda:0', requires_grad=True)\n",
      "\n"
     ]
    },
    {
     "name": "stderr",
     "output_type": "stream",
     "text": [
      "\n",
      "100%|██████████████████████████████████████████| 10/10 [00:00<00:00, 291.31it/s]\n"
     ]
    },
    {
     "name": "stdout",
     "output_type": "stream",
     "text": [
      "Gradient of gamma: 2.8521844797069207e-07\n",
      "Epoch 6 - Loss: 0.693149209022522\n",
      "Parameter name: gamma\n",
      "Parameter shape: torch.Size([])\n",
      "Parameter value: Parameter containing:\n",
      "tensor(0.4715, device='cuda:0', requires_grad=True)\n",
      "\n"
     ]
    },
    {
     "name": "stderr",
     "output_type": "stream",
     "text": [
      "\n",
      "100%|██████████████████████████████████████████| 10/10 [00:00<00:00, 318.86it/s]\n",
      " 10%|████▍                                       | 8/80 [00:00<00:06, 11.04it/s]"
     ]
    },
    {
     "name": "stdout",
     "output_type": "stream",
     "text": [
      "Gradient of gamma: 2.302665507158963e-07\n",
      "Epoch 7 - Loss: 0.6931491494178772\n",
      "Parameter name: gamma\n",
      "Parameter shape: torch.Size([])\n",
      "Parameter value: Parameter containing:\n",
      "tensor(0.4233, device='cuda:0', requires_grad=True)\n",
      "\n"
     ]
    },
    {
     "name": "stderr",
     "output_type": "stream",
     "text": [
      "\n",
      "100%|██████████████████████████████████████████| 10/10 [00:00<00:00, 246.08it/s]\n"
     ]
    },
    {
     "name": "stdout",
     "output_type": "stream",
     "text": [
      "Gradient of gamma: 1.6050069007178536e-07\n",
      "Epoch 8 - Loss: 0.6931490898132324\n",
      "Parameter name: gamma\n",
      "Parameter shape: torch.Size([])\n",
      "Parameter value: Parameter containing:\n",
      "tensor(0.3797, device='cuda:0', requires_grad=True)\n",
      "\n"
     ]
    },
    {
     "name": "stderr",
     "output_type": "stream",
     "text": [
      "\n",
      "100%|██████████████████████████████████████████| 10/10 [00:00<00:00, 319.34it/s]\n",
      " 12%|█████▍                                     | 10/80 [00:00<00:06, 11.20it/s]"
     ]
    },
    {
     "name": "stdout",
     "output_type": "stream",
     "text": [
      "Gradient of gamma: 1.4519122260026052e-07\n",
      "Epoch 9 - Loss: 0.6931490898132324\n",
      "Parameter name: gamma\n",
      "Parameter shape: torch.Size([])\n",
      "Parameter value: Parameter containing:\n",
      "tensor(0.3400, device='cuda:0', requires_grad=True)\n",
      "\n"
     ]
    },
    {
     "name": "stderr",
     "output_type": "stream",
     "text": [
      "\n",
      "100%|██████████████████████████████████████████| 10/10 [00:00<00:00, 316.55it/s]\n"
     ]
    },
    {
     "name": "stdout",
     "output_type": "stream",
     "text": [
      "Gradient of gamma: 1.2815283412237477e-07\n",
      "Epoch 10 - Loss: 0.6931490898132324\n",
      "Parameter name: gamma\n",
      "Parameter shape: torch.Size([])\n",
      "Parameter value: Parameter containing:\n",
      "tensor(0.3037, device='cuda:0', requires_grad=True)\n",
      "\n"
     ]
    },
    {
     "name": "stderr",
     "output_type": "stream",
     "text": [
      "\n",
      "100%|██████████████████████████████████████████| 10/10 [00:00<00:00, 304.30it/s]\n",
      " 15%|██████▍                                    | 12/80 [00:01<00:05, 11.49it/s]"
     ]
    },
    {
     "name": "stdout",
     "output_type": "stream",
     "text": [
      "Gradient of gamma: 1.2024253237541416e-07\n",
      "Epoch 11 - Loss: 0.6931491494178772\n",
      "Parameter name: gamma\n",
      "Parameter shape: torch.Size([])\n",
      "Parameter value: Parameter containing:\n",
      "tensor(0.2704, device='cuda:0', requires_grad=True)\n",
      "\n"
     ]
    },
    {
     "name": "stderr",
     "output_type": "stream",
     "text": [
      "\n",
      "100%|██████████████████████████████████████████| 10/10 [00:00<00:00, 313.48it/s]\n"
     ]
    },
    {
     "name": "stdout",
     "output_type": "stream",
     "text": [
      "Gradient of gamma: 1.1534324073636526e-07\n",
      "Epoch 12 - Loss: 0.6931490898132324\n",
      "Parameter name: gamma\n",
      "Parameter shape: torch.Size([])\n",
      "Parameter value: Parameter containing:\n",
      "tensor(0.2398, device='cuda:0', requires_grad=True)\n",
      "\n"
     ]
    },
    {
     "name": "stderr",
     "output_type": "stream",
     "text": [
      "\n",
      "100%|██████████████████████████████████████████| 10/10 [00:00<00:00, 338.76it/s]\n",
      " 18%|███████▌                                   | 14/80 [00:01<00:05, 11.67it/s]"
     ]
    },
    {
     "name": "stdout",
     "output_type": "stream",
     "text": [
      "Gradient of gamma: 8.735827350392356e-08\n",
      "Epoch 13 - Loss: 0.693149209022522\n",
      "Parameter name: gamma\n",
      "Parameter shape: torch.Size([])\n",
      "Parameter value: Parameter containing:\n",
      "tensor(0.2117, device='cuda:0', requires_grad=True)\n",
      "\n"
     ]
    },
    {
     "name": "stderr",
     "output_type": "stream",
     "text": [
      "\n",
      "100%|██████████████████████████████████████████| 10/10 [00:00<00:00, 243.99it/s]\n"
     ]
    },
    {
     "name": "stdout",
     "output_type": "stream",
     "text": [
      "Gradient of gamma: 8.183431532415852e-08\n",
      "Epoch 14 - Loss: 0.693149209022522\n",
      "Parameter name: gamma\n",
      "Parameter shape: torch.Size([])\n",
      "Parameter value: Parameter containing:\n",
      "tensor(0.1858, device='cuda:0', requires_grad=True)\n",
      "\n"
     ]
    },
    {
     "name": "stderr",
     "output_type": "stream",
     "text": [
      "\n",
      "100%|██████████████████████████████████████████| 10/10 [00:00<00:00, 328.64it/s]\n",
      " 20%|████████▌                                  | 16/80 [00:01<00:05, 11.52it/s]"
     ]
    },
    {
     "name": "stdout",
     "output_type": "stream",
     "text": [
      "Gradient of gamma: 7.319622596924091e-08\n",
      "Epoch 15 - Loss: 0.693149209022522\n",
      "Parameter name: gamma\n",
      "Parameter shape: torch.Size([])\n",
      "Parameter value: Parameter containing:\n",
      "tensor(0.1619, device='cuda:0', requires_grad=True)\n",
      "\n"
     ]
    },
    {
     "name": "stderr",
     "output_type": "stream",
     "text": [
      "\n",
      "100%|██████████████████████████████████████████| 10/10 [00:00<00:00, 241.01it/s]\n"
     ]
    },
    {
     "name": "stdout",
     "output_type": "stream",
     "text": [
      "Gradient of gamma: 7.103295729393722e-08\n",
      "Epoch 16 - Loss: 0.6931490898132324\n",
      "Parameter name: gamma\n",
      "Parameter shape: torch.Size([])\n",
      "Parameter value: Parameter containing:\n",
      "tensor(0.1398, device='cuda:0', requires_grad=True)\n",
      "\n"
     ]
    },
    {
     "name": "stderr",
     "output_type": "stream",
     "text": [
      "\n",
      "100%|██████████████████████████████████████████| 10/10 [00:00<00:00, 249.53it/s]\n"
     ]
    },
    {
     "name": "stdout",
     "output_type": "stream",
     "text": [
      "Gradient of gamma: 6.927203344275767e-08\n"
     ]
    },
    {
     "name": "stderr",
     "output_type": "stream",
     "text": [
      " 22%|█████████▋                                 | 18/80 [00:01<00:05, 10.96it/s]"
     ]
    },
    {
     "name": "stdout",
     "output_type": "stream",
     "text": [
      "Epoch 17 - Loss: 0.6931490898132324\n",
      "Parameter name: gamma\n",
      "Parameter shape: torch.Size([])\n",
      "Parameter value: Parameter containing:\n",
      "tensor(0.1194, device='cuda:0', requires_grad=True)\n",
      "\n"
     ]
    },
    {
     "name": "stderr",
     "output_type": "stream",
     "text": [
      "\n",
      "100%|██████████████████████████████████████████| 10/10 [00:00<00:00, 230.13it/s]\n"
     ]
    },
    {
     "name": "stdout",
     "output_type": "stream",
     "text": [
      "Gradient of gamma: 6.768812710333805e-08\n",
      "Epoch 18 - Loss: 0.6931490898132324\n",
      "Parameter name: gamma\n",
      "Parameter shape: torch.Size([])\n",
      "Parameter value: Parameter containing:\n",
      "tensor(0.1004, device='cuda:0', requires_grad=True)\n",
      "\n"
     ]
    },
    {
     "name": "stderr",
     "output_type": "stream",
     "text": [
      "\n",
      "100%|██████████████████████████████████████████| 10/10 [00:00<00:00, 245.10it/s]\n",
      " 25%|██████████▊                                | 20/80 [00:01<00:05, 10.48it/s]"
     ]
    },
    {
     "name": "stdout",
     "output_type": "stream",
     "text": [
      "Gradient of gamma: 6.621480963531212e-08\n",
      "Epoch 19 - Loss: 0.6931490898132324\n",
      "Parameter name: gamma\n",
      "Parameter shape: torch.Size([])\n",
      "Parameter value: Parameter containing:\n",
      "tensor(0.0828, device='cuda:0', requires_grad=True)\n",
      "\n"
     ]
    },
    {
     "name": "stderr",
     "output_type": "stream",
     "text": [
      "\n",
      "100%|██████████████████████████████████████████| 10/10 [00:00<00:00, 219.25it/s]\n"
     ]
    },
    {
     "name": "stdout",
     "output_type": "stream",
     "text": [
      "Gradient of gamma: 6.499490012856768e-08\n",
      "Epoch 20 - Loss: 0.6931490898132324\n",
      "Parameter name: gamma\n",
      "Parameter shape: torch.Size([])\n",
      "Parameter value: Parameter containing:\n",
      "tensor(0.0664, device='cuda:0', requires_grad=True)\n",
      "\n"
     ]
    },
    {
     "name": "stderr",
     "output_type": "stream",
     "text": [
      "\n",
      "100%|██████████████████████████████████████████| 10/10 [00:00<00:00, 237.36it/s]\n",
      " 28%|███████████▊                               | 22/80 [00:02<00:05, 10.33it/s]"
     ]
    },
    {
     "name": "stdout",
     "output_type": "stream",
     "text": [
      "Gradient of gamma: 6.385981521361828e-08\n",
      "Epoch 21 - Loss: 0.6931490898132324\n",
      "Parameter name: gamma\n",
      "Parameter shape: torch.Size([])\n",
      "Parameter value: Parameter containing:\n",
      "tensor(0.0511, device='cuda:0', requires_grad=True)\n",
      "\n"
     ]
    },
    {
     "name": "stderr",
     "output_type": "stream",
     "text": [
      "\n",
      "100%|██████████████████████████████████████████| 10/10 [00:00<00:00, 302.55it/s]\n"
     ]
    },
    {
     "name": "stdout",
     "output_type": "stream",
     "text": [
      "Gradient of gamma: 5.7198420222448476e-08\n",
      "Epoch 22 - Loss: 0.6931490898132324\n",
      "Parameter name: gamma\n",
      "Parameter shape: torch.Size([])\n",
      "Parameter value: Parameter containing:\n",
      "tensor(0.0368, device='cuda:0', requires_grad=True)\n",
      "\n"
     ]
    },
    {
     "name": "stderr",
     "output_type": "stream",
     "text": [
      "\n",
      "100%|██████████████████████████████████████████| 10/10 [00:00<00:00, 242.50it/s]\n",
      " 30%|████████████▉                              | 24/80 [00:02<00:05, 10.65it/s]"
     ]
    },
    {
     "name": "stdout",
     "output_type": "stream",
     "text": [
      "Gradient of gamma: 6.166813903973889e-08\n",
      "Epoch 23 - Loss: 0.6931491494178772\n",
      "Parameter name: gamma\n",
      "Parameter shape: torch.Size([])\n",
      "Parameter value: Parameter containing:\n",
      "tensor(0.0234, device='cuda:0', requires_grad=True)\n",
      "\n"
     ]
    },
    {
     "name": "stderr",
     "output_type": "stream",
     "text": [
      "\n",
      "100%|██████████████████████████████████████████| 10/10 [00:00<00:00, 295.02it/s]\n"
     ]
    },
    {
     "name": "stdout",
     "output_type": "stream",
     "text": [
      "Gradient of gamma: 5.577501482889602e-08\n",
      "Epoch 24 - Loss: 0.6931490898132324\n",
      "Parameter name: gamma\n",
      "Parameter shape: torch.Size([])\n",
      "Parameter value: Parameter containing:\n",
      "tensor(0.0109, device='cuda:0', requires_grad=True)\n",
      "\n"
     ]
    },
    {
     "name": "stderr",
     "output_type": "stream",
     "text": [
      "\n",
      "100%|██████████████████████████████████████████| 10/10 [00:00<00:00, 323.68it/s]\n",
      " 32%|█████████████▉                             | 26/80 [00:02<00:04, 10.96it/s]"
     ]
    },
    {
     "name": "stdout",
     "output_type": "stream",
     "text": [
      "Gradient of gamma: 5.46089466979538e-08\n",
      "Epoch 25 - Loss: 0.6931491494178772\n",
      "Parameter name: gamma\n",
      "Parameter shape: torch.Size([])\n",
      "Parameter value: Parameter containing:\n",
      "tensor(-0.0008, device='cuda:0', requires_grad=True)\n",
      "\n"
     ]
    },
    {
     "name": "stderr",
     "output_type": "stream",
     "text": [
      "\n",
      "100%|██████████████████████████████████████████| 10/10 [00:00<00:00, 240.73it/s]\n"
     ]
    },
    {
     "name": "stdout",
     "output_type": "stream",
     "text": [
      "Gradient of gamma: 5.3971838553934504e-08\n",
      "Epoch 26 - Loss: 0.6931491494178772\n",
      "Parameter name: gamma\n",
      "Parameter shape: torch.Size([])\n",
      "Parameter value: Parameter containing:\n",
      "tensor(-0.0119, device='cuda:0', requires_grad=True)\n",
      "\n"
     ]
    },
    {
     "name": "stderr",
     "output_type": "stream",
     "text": [
      "\n",
      "100%|██████████████████████████████████████████| 10/10 [00:00<00:00, 323.88it/s]\n",
      " 35%|███████████████                            | 28/80 [00:02<00:04, 11.13it/s]"
     ]
    },
    {
     "name": "stdout",
     "output_type": "stream",
     "text": [
      "Gradient of gamma: 4.6935618058796535e-08\n",
      "Epoch 27 - Loss: 0.6931491494178772\n",
      "Parameter name: gamma\n",
      "Parameter shape: torch.Size([])\n",
      "Parameter value: Parameter containing:\n",
      "tensor(-0.0222, device='cuda:0', requires_grad=True)\n",
      "\n"
     ]
    },
    {
     "name": "stderr",
     "output_type": "stream",
     "text": [
      "\n",
      "100%|██████████████████████████████████████████| 10/10 [00:00<00:00, 367.80it/s]\n"
     ]
    },
    {
     "name": "stdout",
     "output_type": "stream",
     "text": [
      "Gradient of gamma: 4.645442785999876e-08\n",
      "Epoch 28 - Loss: 0.6931491494178772\n",
      "Parameter name: gamma\n",
      "Parameter shape: torch.Size([])\n",
      "Parameter value: Parameter containing:\n",
      "tensor(-0.0320, device='cuda:0', requires_grad=True)\n",
      "\n"
     ]
    },
    {
     "name": "stderr",
     "output_type": "stream",
     "text": [
      "\n",
      "100%|██████████████████████████████████████████| 10/10 [00:00<00:00, 324.97it/s]\n",
      " 38%|████████████████▏                          | 30/80 [00:02<00:04, 11.71it/s]"
     ]
    },
    {
     "name": "stdout",
     "output_type": "stream",
     "text": [
      "Gradient of gamma: 4.6020176114325295e-08\n",
      "Epoch 29 - Loss: 0.6931491494178772\n",
      "Parameter name: gamma\n",
      "Parameter shape: torch.Size([])\n",
      "Parameter value: Parameter containing:\n",
      "tensor(-0.0411, device='cuda:0', requires_grad=True)\n",
      "\n"
     ]
    },
    {
     "name": "stderr",
     "output_type": "stream",
     "text": [
      "\n",
      "100%|██████████████████████████████████████████| 10/10 [00:00<00:00, 373.24it/s]\n"
     ]
    },
    {
     "name": "stdout",
     "output_type": "stream",
     "text": [
      "Gradient of gamma: 4.558842192636803e-08\n",
      "Epoch 30 - Loss: 0.6931491494178772\n",
      "Parameter name: gamma\n",
      "Parameter shape: torch.Size([])\n",
      "Parameter value: Parameter containing:\n",
      "tensor(-0.0498, device='cuda:0', requires_grad=True)\n",
      "\n"
     ]
    },
    {
     "name": "stderr",
     "output_type": "stream",
     "text": [
      "\n",
      "100%|██████████████████████████████████████████| 10/10 [00:00<00:00, 347.49it/s]\n",
      " 40%|█████████████████▏                         | 32/80 [00:02<00:03, 12.16it/s]"
     ]
    },
    {
     "name": "stdout",
     "output_type": "stream",
     "text": [
      "Gradient of gamma: 4.525268337829402e-08\n",
      "Epoch 31 - Loss: 0.6931491494178772\n",
      "Parameter name: gamma\n",
      "Parameter shape: torch.Size([])\n",
      "Parameter value: Parameter containing:\n",
      "tensor(-0.0579, device='cuda:0', requires_grad=True)\n",
      "\n"
     ]
    },
    {
     "name": "stderr",
     "output_type": "stream",
     "text": [
      "\n",
      "100%|██████████████████████████████████████████| 10/10 [00:00<00:00, 422.68it/s]\n"
     ]
    },
    {
     "name": "stdout",
     "output_type": "stream",
     "text": [
      "Gradient of gamma: 4.489118055062136e-08\n",
      "Epoch 32 - Loss: 0.6931491494178772\n",
      "Parameter name: gamma\n",
      "Parameter shape: torch.Size([])\n",
      "Parameter value: Parameter containing:\n",
      "tensor(-0.0657, device='cuda:0', requires_grad=True)\n",
      "\n"
     ]
    },
    {
     "name": "stderr",
     "output_type": "stream",
     "text": [
      "\n",
      "100%|██████████████████████████████████████████| 10/10 [00:00<00:00, 374.15it/s]\n",
      " 42%|██████████████████▎                        | 34/80 [00:02<00:03, 12.64it/s]"
     ]
    },
    {
     "name": "stdout",
     "output_type": "stream",
     "text": [
      "Gradient of gamma: 4.456255098261863e-08\n",
      "Epoch 33 - Loss: 0.6931491494178772\n",
      "Parameter name: gamma\n",
      "Parameter shape: torch.Size([])\n",
      "Parameter value: Parameter containing:\n",
      "tensor(-0.0731, device='cuda:0', requires_grad=True)\n",
      "\n"
     ]
    },
    {
     "name": "stderr",
     "output_type": "stream",
     "text": [
      "\n",
      "100%|██████████████████████████████████████████| 10/10 [00:00<00:00, 278.74it/s]\n"
     ]
    },
    {
     "name": "stdout",
     "output_type": "stream",
     "text": [
      "Gradient of gamma: 4.424960309279413e-08\n",
      "Epoch 34 - Loss: 0.6931491494178772\n",
      "Parameter name: gamma\n",
      "Parameter shape: torch.Size([])\n",
      "Parameter value: Parameter containing:\n",
      "tensor(-0.0801, device='cuda:0', requires_grad=True)\n",
      "\n"
     ]
    },
    {
     "name": "stderr",
     "output_type": "stream",
     "text": [
      "\n",
      "100%|██████████████████████████████████████████| 10/10 [00:00<00:00, 299.81it/s]\n",
      " 45%|███████████████████▎                       | 36/80 [00:03<00:03, 11.90it/s]"
     ]
    },
    {
     "name": "stdout",
     "output_type": "stream",
     "text": [
      "Gradient of gamma: 4.3939579086327285e-08\n",
      "Epoch 35 - Loss: 0.6931491494178772\n",
      "Parameter name: gamma\n",
      "Parameter shape: torch.Size([])\n",
      "Parameter value: Parameter containing:\n",
      "tensor(-0.0868, device='cuda:0', requires_grad=True)\n",
      "\n"
     ]
    },
    {
     "name": "stderr",
     "output_type": "stream",
     "text": [
      "\n",
      "100%|██████████████████████████████████████████| 10/10 [00:00<00:00, 305.61it/s]\n"
     ]
    },
    {
     "name": "stdout",
     "output_type": "stream",
     "text": [
      "Gradient of gamma: 4.369509909452063e-08\n",
      "Epoch 36 - Loss: 0.6931491494178772\n",
      "Parameter name: gamma\n",
      "Parameter shape: torch.Size([])\n",
      "Parameter value: Parameter containing:\n",
      "tensor(-0.0932, device='cuda:0', requires_grad=True)\n",
      "\n"
     ]
    },
    {
     "name": "stderr",
     "output_type": "stream",
     "text": [
      "\n",
      "100%|██████████████████████████████████████████| 10/10 [00:00<00:00, 231.84it/s]\n"
     ]
    },
    {
     "name": "stdout",
     "output_type": "stream",
     "text": [
      "Gradient of gamma: 4.3378459935183855e-08\n",
      "Epoch 37 - Loss: 0.6931491494178772\n",
      "Parameter name: gamma\n",
      "Parameter shape: torch.Size([])\n",
      "Parameter value: Parameter containing:\n",
      "tensor(-0.0993, device='cuda:0', requires_grad=True)\n",
      "\n"
     ]
    },
    {
     "name": "stderr",
     "output_type": "stream",
     "text": [
      " 48%|████████████████████▍                      | 38/80 [00:03<00:03, 11.32it/s]\n",
      "100%|██████████████████████████████████████████| 10/10 [00:00<00:00, 235.97it/s]"
     ]
    },
    {
     "name": "stdout",
     "output_type": "stream",
     "text": [
      "Gradient of gamma: 4.5178961016745234e-08\n"
     ]
    },
    {
     "name": "stderr",
     "output_type": "stream",
     "text": [
      "\n"
     ]
    },
    {
     "name": "stdout",
     "output_type": "stream",
     "text": [
      "Epoch 38 - Loss: 0.6931491494178772\n",
      "Parameter name: gamma\n",
      "Parameter shape: torch.Size([])\n",
      "Parameter value: Parameter containing:\n",
      "tensor(-0.1052, device='cuda:0', requires_grad=True)\n",
      "\n"
     ]
    },
    {
     "name": "stderr",
     "output_type": "stream",
     "text": [
      "\n",
      "100%|██████████████████████████████████████████| 10/10 [00:00<00:00, 228.86it/s]\n"
     ]
    },
    {
     "name": "stdout",
     "output_type": "stream",
     "text": [
      "Gradient of gamma: 4.4980932756288894e-08\n"
     ]
    },
    {
     "name": "stderr",
     "output_type": "stream",
     "text": [
      " 50%|█████████████████████▌                     | 40/80 [00:03<00:03, 10.88it/s]"
     ]
    },
    {
     "name": "stdout",
     "output_type": "stream",
     "text": [
      "Epoch 39 - Loss: 0.6931491494178772\n",
      "Parameter name: gamma\n",
      "Parameter shape: torch.Size([])\n",
      "Parameter value: Parameter containing:\n",
      "tensor(-0.1109, device='cuda:0', requires_grad=True)\n",
      "\n"
     ]
    },
    {
     "name": "stderr",
     "output_type": "stream",
     "text": [
      "\n",
      "100%|██████████████████████████████████████████| 10/10 [00:00<00:00, 319.00it/s]\n"
     ]
    },
    {
     "name": "stdout",
     "output_type": "stream",
     "text": [
      "Gradient of gamma: 4.3853180642372536e-08\n",
      "Epoch 40 - Loss: 0.6931491494178772\n",
      "Parameter name: gamma\n",
      "Parameter shape: torch.Size([])\n",
      "Parameter value: Parameter containing:\n",
      "tensor(-0.1164, device='cuda:0', requires_grad=True)\n",
      "\n"
     ]
    },
    {
     "name": "stderr",
     "output_type": "stream",
     "text": [
      "\n",
      "100%|██████████████████████████████████████████| 10/10 [00:00<00:00, 290.98it/s]\n",
      " 52%|██████████████████████▌                    | 42/80 [00:03<00:03, 11.08it/s]"
     ]
    },
    {
     "name": "stdout",
     "output_type": "stream",
     "text": [
      "Gradient of gamma: 4.46297576672805e-08\n",
      "Epoch 41 - Loss: 0.6931491494178772\n",
      "Parameter name: gamma\n",
      "Parameter shape: torch.Size([])\n",
      "Parameter value: Parameter containing:\n",
      "tensor(-0.1218, device='cuda:0', requires_grad=True)\n",
      "\n"
     ]
    },
    {
     "name": "stderr",
     "output_type": "stream",
     "text": [
      "\n",
      "100%|██████████████████████████████████████████| 10/10 [00:00<00:00, 263.07it/s]\n"
     ]
    },
    {
     "name": "stdout",
     "output_type": "stream",
     "text": [
      "Gradient of gamma: 4.441134748844888e-08\n",
      "Epoch 42 - Loss: 0.6931491494178772\n",
      "Parameter name: gamma\n",
      "Parameter shape: torch.Size([])\n",
      "Parameter value: Parameter containing:\n",
      "tensor(-0.1270, device='cuda:0', requires_grad=True)\n",
      "\n"
     ]
    },
    {
     "name": "stderr",
     "output_type": "stream",
     "text": [
      "\n",
      "100%|██████████████████████████████████████████| 10/10 [00:00<00:00, 290.30it/s]\n",
      " 55%|███████████████████████▋                   | 44/80 [00:03<00:03, 11.19it/s]"
     ]
    },
    {
     "name": "stdout",
     "output_type": "stream",
     "text": [
      "Gradient of gamma: 3.814510662891735e-08\n",
      "Epoch 43 - Loss: 0.6931491494178772\n",
      "Parameter name: gamma\n",
      "Parameter shape: torch.Size([])\n",
      "Parameter value: Parameter containing:\n",
      "tensor(-0.1320, device='cuda:0', requires_grad=True)\n",
      "\n"
     ]
    },
    {
     "name": "stderr",
     "output_type": "stream",
     "text": [
      "\n",
      "100%|██████████████████████████████████████████| 10/10 [00:00<00:00, 366.22it/s]\n"
     ]
    },
    {
     "name": "stdout",
     "output_type": "stream",
     "text": [
      "Gradient of gamma: 3.8053798334658495e-08\n",
      "Epoch 44 - Loss: 0.6931491494178772\n",
      "Parameter name: gamma\n",
      "Parameter shape: torch.Size([])\n",
      "Parameter value: Parameter containing:\n",
      "tensor(-0.1369, device='cuda:0', requires_grad=True)\n",
      "\n"
     ]
    },
    {
     "name": "stderr",
     "output_type": "stream",
     "text": [
      "\n",
      "100%|██████████████████████████████████████████| 10/10 [00:00<00:00, 347.45it/s]\n",
      " 57%|████████████████████████▋                  | 46/80 [00:04<00:02, 11.92it/s]"
     ]
    },
    {
     "name": "stdout",
     "output_type": "stream",
     "text": [
      "Gradient of gamma: 3.784183988386758e-08\n",
      "Epoch 45 - Loss: 0.6931491494178772\n",
      "Parameter name: gamma\n",
      "Parameter shape: torch.Size([])\n",
      "Parameter value: Parameter containing:\n",
      "tensor(-0.1416, device='cuda:0', requires_grad=True)\n",
      "\n"
     ]
    },
    {
     "name": "stderr",
     "output_type": "stream",
     "text": [
      "\n",
      "100%|██████████████████████████████████████████| 10/10 [00:00<00:00, 358.35it/s]\n"
     ]
    },
    {
     "name": "stdout",
     "output_type": "stream",
     "text": [
      "Gradient of gamma: 3.770506395994744e-08\n",
      "Epoch 46 - Loss: 0.6931491494178772\n",
      "Parameter name: gamma\n",
      "Parameter shape: torch.Size([])\n",
      "Parameter value: Parameter containing:\n",
      "tensor(-0.1462, device='cuda:0', requires_grad=True)\n",
      "\n"
     ]
    },
    {
     "name": "stderr",
     "output_type": "stream",
     "text": [
      "\n",
      "100%|██████████████████████████████████████████| 10/10 [00:00<00:00, 389.53it/s]\n",
      " 60%|█████████████████████████▊                 | 48/80 [00:04<00:02, 12.53it/s]"
     ]
    },
    {
     "name": "stdout",
     "output_type": "stream",
     "text": [
      "Gradient of gamma: 3.6566806471682867e-08\n",
      "Epoch 47 - Loss: 0.6931491494178772\n",
      "Parameter name: gamma\n",
      "Parameter shape: torch.Size([])\n",
      "Parameter value: Parameter containing:\n",
      "tensor(-0.1507, device='cuda:0', requires_grad=True)\n",
      "\n"
     ]
    },
    {
     "name": "stderr",
     "output_type": "stream",
     "text": [
      "\n",
      "100%|██████████████████████████████████████████| 10/10 [00:00<00:00, 343.18it/s]\n"
     ]
    },
    {
     "name": "stdout",
     "output_type": "stream",
     "text": [
      "Gradient of gamma: 3.646093915676829e-08\n",
      "Epoch 48 - Loss: 0.6931491494178772\n",
      "Parameter name: gamma\n",
      "Parameter shape: torch.Size([])\n",
      "Parameter value: Parameter containing:\n",
      "tensor(-0.1550, device='cuda:0', requires_grad=True)\n",
      "\n"
     ]
    },
    {
     "name": "stderr",
     "output_type": "stream",
     "text": [
      "\n",
      "100%|██████████████████████████████████████████| 10/10 [00:00<00:00, 342.27it/s]\n",
      " 62%|██████████████████████████▉                | 50/80 [00:04<00:02, 12.78it/s]"
     ]
    },
    {
     "name": "stdout",
     "output_type": "stream",
     "text": [
      "Gradient of gamma: 3.6341120335237065e-08\n",
      "Epoch 49 - Loss: 0.6931491494178772\n",
      "Parameter name: gamma\n",
      "Parameter shape: torch.Size([])\n",
      "Parameter value: Parameter containing:\n",
      "tensor(-0.1592, device='cuda:0', requires_grad=True)\n",
      "\n"
     ]
    },
    {
     "name": "stderr",
     "output_type": "stream",
     "text": [
      "\n",
      "100%|██████████████████████████████████████████| 10/10 [00:00<00:00, 364.81it/s]\n"
     ]
    },
    {
     "name": "stdout",
     "output_type": "stream",
     "text": [
      "Gradient of gamma: 3.618727717480397e-08\n",
      "Epoch 50 - Loss: 0.6931491494178772\n",
      "Parameter name: gamma\n",
      "Parameter shape: torch.Size([])\n",
      "Parameter value: Parameter containing:\n",
      "tensor(-0.1613, device='cuda:0', requires_grad=True)\n",
      "\n"
     ]
    },
    {
     "name": "stderr",
     "output_type": "stream",
     "text": [
      "\n",
      "100%|██████████████████████████████████████████| 10/10 [00:00<00:00, 289.95it/s]\n",
      " 65%|███████████████████████████▉               | 52/80 [00:04<00:02, 12.71it/s]"
     ]
    },
    {
     "name": "stdout",
     "output_type": "stream",
     "text": [
      "Gradient of gamma: 3.61585144048604e-08\n",
      "Epoch 51 - Loss: 0.6931491494178772\n",
      "Parameter name: gamma\n",
      "Parameter shape: torch.Size([])\n",
      "Parameter value: Parameter containing:\n",
      "tensor(-0.1634, device='cuda:0', requires_grad=True)\n",
      "\n"
     ]
    },
    {
     "name": "stderr",
     "output_type": "stream",
     "text": [
      "\n",
      "100%|██████████████████████████████████████████| 10/10 [00:00<00:00, 284.94it/s]\n"
     ]
    },
    {
     "name": "stdout",
     "output_type": "stream",
     "text": [
      "Gradient of gamma: 3.602144005299124e-08\n",
      "Epoch 52 - Loss: 0.6931491494178772\n",
      "Parameter name: gamma\n",
      "Parameter shape: torch.Size([])\n",
      "Parameter value: Parameter containing:\n",
      "tensor(-0.1654, device='cuda:0', requires_grad=True)\n",
      "\n"
     ]
    },
    {
     "name": "stderr",
     "output_type": "stream",
     "text": [
      "\n",
      "100%|██████████████████████████████████████████| 10/10 [00:00<00:00, 275.89it/s]\n",
      " 68%|█████████████████████████████              | 54/80 [00:04<00:02, 12.00it/s]"
     ]
    },
    {
     "name": "stdout",
     "output_type": "stream",
     "text": [
      "Gradient of gamma: 3.599377151886074e-08\n",
      "Epoch 53 - Loss: 0.6931491494178772\n",
      "Parameter name: gamma\n",
      "Parameter shape: torch.Size([])\n",
      "Parameter value: Parameter containing:\n",
      "tensor(-0.1673, device='cuda:0', requires_grad=True)\n",
      "\n"
     ]
    },
    {
     "name": "stderr",
     "output_type": "stream",
     "text": [
      "\n",
      "100%|██████████████████████████████████████████| 10/10 [00:00<00:00, 201.40it/s]\n"
     ]
    },
    {
     "name": "stdout",
     "output_type": "stream",
     "text": [
      "Gradient of gamma: 3.593100927901105e-08\n",
      "Epoch 54 - Loss: 0.6931491494178772\n",
      "Parameter name: gamma\n",
      "Parameter shape: torch.Size([])\n",
      "Parameter value: Parameter containing:\n",
      "tensor(-0.1693, device='cuda:0', requires_grad=True)\n",
      "\n"
     ]
    },
    {
     "name": "stderr",
     "output_type": "stream",
     "text": [
      "\n",
      "100%|██████████████████████████████████████████| 10/10 [00:00<00:00, 264.89it/s]\n",
      " 70%|██████████████████████████████             | 56/80 [00:04<00:02, 11.26it/s]"
     ]
    },
    {
     "name": "stdout",
     "output_type": "stream",
     "text": [
      "Gradient of gamma: 3.5889058835891774e-08\n",
      "Epoch 55 - Loss: 0.6931491494178772\n",
      "Parameter name: gamma\n",
      "Parameter shape: torch.Size([])\n",
      "Parameter value: Parameter containing:\n",
      "tensor(-0.1712, device='cuda:0', requires_grad=True)\n",
      "\n"
     ]
    },
    {
     "name": "stderr",
     "output_type": "stream",
     "text": [
      "\n",
      "100%|██████████████████████████████████████████| 10/10 [00:00<00:00, 321.01it/s]\n"
     ]
    },
    {
     "name": "stdout",
     "output_type": "stream",
     "text": [
      "Gradient of gamma: 3.582320218242785e-08\n",
      "Epoch 56 - Loss: 0.6931491494178772\n",
      "Parameter name: gamma\n",
      "Parameter shape: torch.Size([])\n",
      "Parameter value: Parameter containing:\n",
      "tensor(-0.1731, device='cuda:0', requires_grad=True)\n",
      "\n"
     ]
    },
    {
     "name": "stderr",
     "output_type": "stream",
     "text": [
      "\n",
      "100%|██████████████████████████████████████████| 10/10 [00:00<00:00, 289.09it/s]\n",
      " 72%|███████████████████████████████▏           | 58/80 [00:05<00:01, 11.62it/s]"
     ]
    },
    {
     "name": "stdout",
     "output_type": "stream",
     "text": [
      "Gradient of gamma: 3.572905171722596e-08\n",
      "Epoch 57 - Loss: 0.6931491494178772\n",
      "Parameter name: gamma\n",
      "Parameter shape: torch.Size([])\n",
      "Parameter value: Parameter containing:\n",
      "tensor(-0.1749, device='cuda:0', requires_grad=True)\n",
      "\n"
     ]
    },
    {
     "name": "stderr",
     "output_type": "stream",
     "text": [
      "\n",
      "100%|██████████████████████████████████████████| 10/10 [00:00<00:00, 393.98it/s]\n"
     ]
    },
    {
     "name": "stdout",
     "output_type": "stream",
     "text": [
      "Gradient of gamma: 3.5716976043431714e-08\n",
      "Epoch 58 - Loss: 0.6931491494178772\n",
      "Parameter name: gamma\n",
      "Parameter shape: torch.Size([])\n",
      "Parameter value: Parameter containing:\n",
      "tensor(-0.1768, device='cuda:0', requires_grad=True)\n",
      "\n"
     ]
    },
    {
     "name": "stderr",
     "output_type": "stream",
     "text": [
      "\n",
      "100%|██████████████████████████████████████████| 10/10 [00:00<00:00, 366.54it/s]\n",
      " 75%|████████████████████████████████▎          | 60/80 [00:05<00:01, 12.41it/s]"
     ]
    },
    {
     "name": "stdout",
     "output_type": "stream",
     "text": [
      "Gradient of gamma: 3.559869909963709e-08\n",
      "Epoch 59 - Loss: 0.6931491494178772\n",
      "Parameter name: gamma\n",
      "Parameter shape: torch.Size([])\n",
      "Parameter value: Parameter containing:\n",
      "tensor(-0.1786, device='cuda:0', requires_grad=True)\n",
      "\n"
     ]
    },
    {
     "name": "stderr",
     "output_type": "stream",
     "text": [
      "\n",
      "100%|██████████████████████████████████████████| 10/10 [00:00<00:00, 365.85it/s]\n"
     ]
    },
    {
     "name": "stdout",
     "output_type": "stream",
     "text": [
      "Gradient of gamma: 3.5622168326199244e-08\n",
      "Epoch 60 - Loss: 0.6931491494178772\n",
      "Parameter name: gamma\n",
      "Parameter shape: torch.Size([])\n",
      "Parameter value: Parameter containing:\n",
      "tensor(-0.1805, device='cuda:0', requires_grad=True)\n",
      "\n"
     ]
    },
    {
     "name": "stderr",
     "output_type": "stream",
     "text": [
      "\n",
      "100%|██████████████████████████████████████████| 10/10 [00:00<00:00, 352.99it/s]\n",
      " 78%|█████████████████████████████████▎         | 62/80 [00:05<00:01, 12.86it/s]"
     ]
    },
    {
     "name": "stdout",
     "output_type": "stream",
     "text": [
      "Gradient of gamma: 3.550938387775204e-08\n",
      "Epoch 61 - Loss: 0.6931491494178772\n",
      "Parameter name: gamma\n",
      "Parameter shape: torch.Size([])\n",
      "Parameter value: Parameter containing:\n",
      "tensor(-0.1823, device='cuda:0', requires_grad=True)\n",
      "\n"
     ]
    },
    {
     "name": "stderr",
     "output_type": "stream",
     "text": [
      "\n",
      "100%|██████████████████████████████████████████| 10/10 [00:00<00:00, 405.87it/s]\n"
     ]
    },
    {
     "name": "stdout",
     "output_type": "stream",
     "text": [
      "Gradient of gamma: 3.551270211232804e-08\n",
      "Epoch 62 - Loss: 0.6931491494178772\n",
      "Parameter name: gamma\n",
      "Parameter shape: torch.Size([])\n",
      "Parameter value: Parameter containing:\n",
      "tensor(-0.1841, device='cuda:0', requires_grad=True)\n",
      "\n"
     ]
    },
    {
     "name": "stderr",
     "output_type": "stream",
     "text": [
      "\n",
      "100%|██████████████████████████████████████████| 10/10 [00:00<00:00, 336.62it/s]\n",
      " 80%|██████████████████████████████████▍        | 64/80 [00:05<00:01, 13.26it/s]"
     ]
    },
    {
     "name": "stdout",
     "output_type": "stream",
     "text": [
      "Gradient of gamma: 3.545990523434739e-08\n",
      "Epoch 63 - Loss: 0.6931491494178772\n",
      "Parameter name: gamma\n",
      "Parameter shape: torch.Size([])\n",
      "Parameter value: Parameter containing:\n",
      "tensor(-0.1859, device='cuda:0', requires_grad=True)\n",
      "\n"
     ]
    },
    {
     "name": "stderr",
     "output_type": "stream",
     "text": [
      "\n",
      "100%|██████████████████████████████████████████| 10/10 [00:00<00:00, 394.91it/s]\n"
     ]
    },
    {
     "name": "stdout",
     "output_type": "stream",
     "text": [
      "Gradient of gamma: 3.538623616350378e-08\n",
      "Epoch 64 - Loss: 0.6931491494178772\n",
      "Parameter name: gamma\n",
      "Parameter shape: torch.Size([])\n",
      "Parameter value: Parameter containing:\n",
      "tensor(-0.1877, device='cuda:0', requires_grad=True)\n",
      "\n"
     ]
    },
    {
     "name": "stderr",
     "output_type": "stream",
     "text": [
      "\n",
      "100%|██████████████████████████████████████████| 10/10 [00:00<00:00, 370.77it/s]\n",
      " 82%|███████████████████████████████████▍       | 66/80 [00:05<00:01, 13.47it/s]"
     ]
    },
    {
     "name": "stdout",
     "output_type": "stream",
     "text": [
      "Gradient of gamma: 3.5376448437318686e-08\n",
      "Epoch 65 - Loss: 0.6931491494178772\n",
      "Parameter name: gamma\n",
      "Parameter shape: torch.Size([])\n",
      "Parameter value: Parameter containing:\n",
      "tensor(-0.1895, device='cuda:0', requires_grad=True)\n",
      "\n"
     ]
    },
    {
     "name": "stderr",
     "output_type": "stream",
     "text": [
      "\n",
      "100%|██████████████████████████████████████████| 10/10 [00:00<00:00, 374.88it/s]\n"
     ]
    },
    {
     "name": "stdout",
     "output_type": "stream",
     "text": [
      "Gradient of gamma: 3.532215231416558e-08\n",
      "Epoch 66 - Loss: 0.6931491494178772\n",
      "Parameter name: gamma\n",
      "Parameter shape: torch.Size([])\n",
      "Parameter value: Parameter containing:\n",
      "tensor(-0.1913, device='cuda:0', requires_grad=True)\n",
      "\n"
     ]
    },
    {
     "name": "stderr",
     "output_type": "stream",
     "text": [
      "\n",
      "100%|██████████████████████████████████████████| 10/10 [00:00<00:00, 395.13it/s]\n",
      " 85%|████████████████████████████████████▌      | 68/80 [00:05<00:00, 13.81it/s]"
     ]
    },
    {
     "name": "stdout",
     "output_type": "stream",
     "text": [
      "Gradient of gamma: 3.5896317029937563e-08\n",
      "Epoch 67 - Loss: 0.6931491494178772\n",
      "Parameter name: gamma\n",
      "Parameter shape: torch.Size([])\n",
      "Parameter value: Parameter containing:\n",
      "tensor(-0.1931, device='cuda:0', requires_grad=True)\n",
      "\n"
     ]
    },
    {
     "name": "stderr",
     "output_type": "stream",
     "text": [
      "\n",
      "100%|██████████████████████████████████████████| 10/10 [00:00<00:00, 377.38it/s]\n"
     ]
    },
    {
     "name": "stdout",
     "output_type": "stream",
     "text": [
      "Gradient of gamma: 3.5876205117801874e-08\n",
      "Epoch 68 - Loss: 0.6931491494178772\n",
      "Parameter name: gamma\n",
      "Parameter shape: torch.Size([])\n",
      "Parameter value: Parameter containing:\n",
      "tensor(-0.1949, device='cuda:0', requires_grad=True)\n",
      "\n"
     ]
    },
    {
     "name": "stderr",
     "output_type": "stream",
     "text": [
      "\n",
      "100%|██████████████████████████████████████████| 10/10 [00:00<00:00, 372.09it/s]\n",
      " 88%|█████████████████████████████████████▋     | 70/80 [00:05<00:00, 14.00it/s]"
     ]
    },
    {
     "name": "stdout",
     "output_type": "stream",
     "text": [
      "Gradient of gamma: 3.586458419135852e-08\n",
      "Epoch 69 - Loss: 0.6931491494178772\n",
      "Parameter name: gamma\n",
      "Parameter shape: torch.Size([])\n",
      "Parameter value: Parameter containing:\n",
      "tensor(-0.1967, device='cuda:0', requires_grad=True)\n",
      "\n"
     ]
    },
    {
     "name": "stderr",
     "output_type": "stream",
     "text": [
      "\n",
      "100%|██████████████████████████████████████████| 10/10 [00:00<00:00, 398.72it/s]\n"
     ]
    },
    {
     "name": "stdout",
     "output_type": "stream",
     "text": [
      "Gradient of gamma: 3.5816256627185794e-08\n",
      "Epoch 70 - Loss: 0.6931491494178772\n",
      "Parameter name: gamma\n",
      "Parameter shape: torch.Size([])\n",
      "Parameter value: Parameter containing:\n",
      "tensor(-0.1985, device='cuda:0', requires_grad=True)\n",
      "\n"
     ]
    },
    {
     "name": "stderr",
     "output_type": "stream",
     "text": [
      "\n",
      "100%|██████████████████████████████████████████| 10/10 [00:00<00:00, 384.68it/s]\n",
      " 90%|██████████████████████████████████████▋    | 72/80 [00:06<00:00, 13.95it/s]"
     ]
    },
    {
     "name": "stdout",
     "output_type": "stream",
     "text": [
      "Gradient of gamma: 3.5765577166557705e-08\n",
      "Epoch 71 - Loss: 0.6931491494178772\n",
      "Parameter name: gamma\n",
      "Parameter shape: torch.Size([])\n",
      "Parameter value: Parameter containing:\n",
      "tensor(-0.2004, device='cuda:0', requires_grad=True)\n",
      "\n"
     ]
    },
    {
     "name": "stderr",
     "output_type": "stream",
     "text": [
      "\n",
      "100%|██████████████████████████████████████████| 10/10 [00:00<00:00, 383.23it/s]\n"
     ]
    },
    {
     "name": "stdout",
     "output_type": "stream",
     "text": [
      "Gradient of gamma: 3.5717445001637316e-08\n",
      "Epoch 72 - Loss: 0.6931491494178772\n",
      "Parameter name: gamma\n",
      "Parameter shape: torch.Size([])\n",
      "Parameter value: Parameter containing:\n",
      "tensor(-0.2022, device='cuda:0', requires_grad=True)\n",
      "\n"
     ]
    },
    {
     "name": "stderr",
     "output_type": "stream",
     "text": [
      "\n",
      "100%|██████████████████████████████████████████| 10/10 [00:00<00:00, 307.99it/s]\n",
      " 92%|███████████████████████████████████████▊   | 74/80 [00:06<00:00, 13.55it/s]"
     ]
    },
    {
     "name": "stdout",
     "output_type": "stream",
     "text": [
      "Gradient of gamma: 3.579385676744096e-08\n",
      "Epoch 73 - Loss: 0.6931491494178772\n",
      "Parameter name: gamma\n",
      "Parameter shape: torch.Size([])\n",
      "Parameter value: Parameter containing:\n",
      "tensor(-0.2040, device='cuda:0', requires_grad=True)\n",
      "\n"
     ]
    },
    {
     "name": "stderr",
     "output_type": "stream",
     "text": [
      "\n",
      "100%|██████████████████████████████████████████| 10/10 [00:00<00:00, 315.75it/s]\n"
     ]
    },
    {
     "name": "stdout",
     "output_type": "stream",
     "text": [
      "Gradient of gamma: 3.556348104893914e-08\n",
      "Epoch 74 - Loss: 0.6931491494178772\n",
      "Parameter name: gamma\n",
      "Parameter shape: torch.Size([])\n",
      "Parameter value: Parameter containing:\n",
      "tensor(-0.2058, device='cuda:0', requires_grad=True)\n",
      "\n"
     ]
    },
    {
     "name": "stderr",
     "output_type": "stream",
     "text": [
      "\n",
      "100%|██████████████████████████████████████████| 10/10 [00:00<00:00, 395.94it/s]\n",
      " 95%|████████████████████████████████████████▊  | 76/80 [00:06<00:00, 13.29it/s]"
     ]
    },
    {
     "name": "stdout",
     "output_type": "stream",
     "text": [
      "Gradient of gamma: 3.554452021603538e-08\n",
      "Epoch 75 - Loss: 0.6931491494178772\n",
      "Parameter name: gamma\n",
      "Parameter shape: torch.Size([])\n",
      "Parameter value: Parameter containing:\n",
      "tensor(-0.2077, device='cuda:0', requires_grad=True)\n",
      "\n"
     ]
    },
    {
     "name": "stderr",
     "output_type": "stream",
     "text": [
      "\n",
      "100%|██████████████████████████████████████████| 10/10 [00:00<00:00, 349.48it/s]\n"
     ]
    },
    {
     "name": "stdout",
     "output_type": "stream",
     "text": [
      "Gradient of gamma: 3.5581201984768995e-08\n",
      "Epoch 76 - Loss: 0.6931491494178772\n",
      "Parameter name: gamma\n",
      "Parameter shape: torch.Size([])\n",
      "Parameter value: Parameter containing:\n",
      "tensor(-0.2095, device='cuda:0', requires_grad=True)\n",
      "\n"
     ]
    },
    {
     "name": "stderr",
     "output_type": "stream",
     "text": [
      "\n",
      "100%|██████████████████████████████████████████| 10/10 [00:00<00:00, 309.65it/s]\n",
      " 98%|█████████████████████████████████████████▉ | 78/80 [00:06<00:00, 12.93it/s]"
     ]
    },
    {
     "name": "stdout",
     "output_type": "stream",
     "text": [
      "Gradient of gamma: 3.5556535493697083e-08\n",
      "Epoch 77 - Loss: 0.6931491494178772\n",
      "Parameter name: gamma\n",
      "Parameter shape: torch.Size([])\n",
      "Parameter value: Parameter containing:\n",
      "tensor(-0.2113, device='cuda:0', requires_grad=True)\n",
      "\n"
     ]
    },
    {
     "name": "stderr",
     "output_type": "stream",
     "text": [
      "\n",
      "100%|██████████████████████████████████████████| 10/10 [00:00<00:00, 380.04it/s]\n"
     ]
    },
    {
     "name": "stdout",
     "output_type": "stream",
     "text": [
      "Gradient of gamma: 3.549636673483292e-08\n",
      "Epoch 78 - Loss: 0.6931491494178772\n",
      "Parameter name: gamma\n",
      "Parameter shape: torch.Size([])\n",
      "Parameter value: Parameter containing:\n",
      "tensor(-0.2132, device='cuda:0', requires_grad=True)\n",
      "\n"
     ]
    },
    {
     "name": "stderr",
     "output_type": "stream",
     "text": [
      "\n",
      "100%|██████████████████████████████████████████| 10/10 [00:00<00:00, 374.86it/s]\n",
      "100%|███████████████████████████████████████████| 80/80 [00:06<00:00, 11.99it/s]\n"
     ]
    },
    {
     "name": "stdout",
     "output_type": "stream",
     "text": [
      "Gradient of gamma: 3.534962900175742e-08\n",
      "Epoch 79 - Loss: 0.6931491494178772\n",
      "Parameter name: gamma\n",
      "Parameter shape: torch.Size([])\n",
      "Parameter value: Parameter containing:\n",
      "tensor(-0.2151, device='cuda:0', requires_grad=True)\n",
      "\n"
     ]
    },
    {
     "name": "stderr",
     "output_type": "stream",
     "text": [
      "  0%|                                                    | 0/80 [00:00<?, ?it/s]\n",
      "100%|██████████████████████████████████████████| 10/10 [00:00<00:00, 394.64it/s]\n"
     ]
    },
    {
     "name": "stdout",
     "output_type": "stream",
     "text": [
      "Gradient of gamma: 2.9165314607837445e-10\n",
      "Epoch 0 - Loss: 0.6931474208831787\n",
      "Parameter name: gamma\n",
      "Parameter shape: torch.Size([])\n",
      "Parameter value: Parameter containing:\n",
      "tensor(1.0028, device='cuda:0', requires_grad=True)\n",
      "\n"
     ]
    },
    {
     "name": "stderr",
     "output_type": "stream",
     "text": [
      "\n",
      "100%|██████████████████████████████████████████| 10/10 [00:00<00:00, 381.86it/s]\n",
      "  2%|█                                           | 2/80 [00:00<00:05, 14.37it/s]"
     ]
    },
    {
     "name": "stdout",
     "output_type": "stream",
     "text": [
      "Gradient of gamma: 1.7612888925100378e-10\n",
      "Epoch 1 - Loss: 0.6931474208831787\n",
      "Parameter name: gamma\n",
      "Parameter shape: torch.Size([])\n",
      "Parameter value: Parameter containing:\n",
      "tensor(1.0033, device='cuda:0', requires_grad=True)\n",
      "\n"
     ]
    },
    {
     "name": "stderr",
     "output_type": "stream",
     "text": [
      "\n",
      "100%|██████████████████████████████████████████| 10/10 [00:00<00:00, 346.96it/s]\n"
     ]
    },
    {
     "name": "stdout",
     "output_type": "stream",
     "text": [
      "Gradient of gamma: 1.2175932484481677e-09\n",
      "Epoch 2 - Loss: 0.6931474208831787\n",
      "Parameter name: gamma\n",
      "Parameter shape: torch.Size([])\n",
      "Parameter value: Parameter containing:\n",
      "tensor(1.0077, device='cuda:0', requires_grad=True)\n",
      "\n"
     ]
    },
    {
     "name": "stderr",
     "output_type": "stream",
     "text": [
      "\n",
      "100%|██████████████████████████████████████████| 10/10 [00:00<00:00, 373.74it/s]\n",
      "  5%|██▏                                         | 4/80 [00:00<00:05, 14.25it/s]"
     ]
    },
    {
     "name": "stdout",
     "output_type": "stream",
     "text": [
      "Gradient of gamma: 2.804838583614355e-10\n",
      "Epoch 3 - Loss: 0.6931474208831787\n",
      "Parameter name: gamma\n",
      "Parameter shape: torch.Size([])\n",
      "Parameter value: Parameter containing:\n",
      "tensor(1.0117, device='cuda:0', requires_grad=True)\n",
      "\n"
     ]
    },
    {
     "name": "stderr",
     "output_type": "stream",
     "text": [
      "\n",
      "100%|██████████████████████████████████████████| 10/10 [00:00<00:00, 375.87it/s]\n"
     ]
    },
    {
     "name": "stdout",
     "output_type": "stream",
     "text": [
      "Gradient of gamma: 1.5898834471173018e-09\n",
      "Epoch 4 - Loss: 0.6931474804878235\n",
      "Parameter name: gamma\n",
      "Parameter shape: torch.Size([])\n",
      "Parameter value: Parameter containing:\n",
      "tensor(1.0110, device='cuda:0', requires_grad=True)\n",
      "\n"
     ]
    },
    {
     "name": "stderr",
     "output_type": "stream",
     "text": [
      "\n",
      "100%|██████████████████████████████████████████| 10/10 [00:00<00:00, 359.31it/s]\n",
      "  8%|███▎                                        | 6/80 [00:00<00:05, 14.46it/s]"
     ]
    },
    {
     "name": "stdout",
     "output_type": "stream",
     "text": [
      "Gradient of gamma: 6.585816336723838e-10\n",
      "Epoch 5 - Loss: 0.6931474804878235\n",
      "Parameter name: gamma\n",
      "Parameter shape: torch.Size([])\n",
      "Parameter value: Parameter containing:\n",
      "tensor(1.0092, device='cuda:0', requires_grad=True)\n",
      "\n"
     ]
    },
    {
     "name": "stderr",
     "output_type": "stream",
     "text": [
      "\n",
      "100%|██████████████████████████████████████████| 10/10 [00:00<00:00, 393.55it/s]\n"
     ]
    },
    {
     "name": "stdout",
     "output_type": "stream",
     "text": [
      "Gradient of gamma: 1.8661538980779824e-10\n",
      "Epoch 6 - Loss: 0.6931474804878235\n",
      "Parameter name: gamma\n",
      "Parameter shape: torch.Size([])\n",
      "Parameter value: Parameter containing:\n",
      "tensor(1.0074, device='cuda:0', requires_grad=True)\n",
      "\n"
     ]
    },
    {
     "name": "stderr",
     "output_type": "stream",
     "text": [
      "\n",
      "100%|██████████████████████████████████████████| 10/10 [00:00<00:00, 412.80it/s]\n",
      " 10%|████▍                                       | 8/80 [00:00<00:04, 14.54it/s]"
     ]
    },
    {
     "name": "stdout",
     "output_type": "stream",
     "text": [
      "Gradient of gamma: 6.532804297521011e-10\n",
      "Epoch 7 - Loss: 0.6931474804878235\n",
      "Parameter name: gamma\n",
      "Parameter shape: torch.Size([])\n",
      "Parameter value: Parameter containing:\n",
      "tensor(1.0049, device='cuda:0', requires_grad=True)\n",
      "\n"
     ]
    },
    {
     "name": "stderr",
     "output_type": "stream",
     "text": [
      "\n",
      "100%|██████████████████████████████████████████| 10/10 [00:00<00:00, 369.70it/s]\n"
     ]
    },
    {
     "name": "stdout",
     "output_type": "stream",
     "text": [
      "Gradient of gamma: 1.8191015360713436e-10\n",
      "Epoch 8 - Loss: 0.6931474804878235\n",
      "Parameter name: gamma\n",
      "Parameter shape: torch.Size([])\n",
      "Parameter value: Parameter containing:\n",
      "tensor(1.0025, device='cuda:0', requires_grad=True)\n",
      "\n"
     ]
    },
    {
     "name": "stderr",
     "output_type": "stream",
     "text": [
      "\n",
      "100%|██████████████████████████████████████████| 10/10 [00:00<00:00, 381.20it/s]\n",
      " 12%|█████▍                                     | 10/80 [00:00<00:04, 14.64it/s]"
     ]
    },
    {
     "name": "stdout",
     "output_type": "stream",
     "text": [
      "Gradient of gamma: 1.7557066911422226e-10\n",
      "Epoch 9 - Loss: 0.6931474208831787\n",
      "Parameter name: gamma\n",
      "Parameter shape: torch.Size([])\n",
      "Parameter value: Parameter containing:\n",
      "tensor(1.0002, device='cuda:0', requires_grad=True)\n",
      "\n"
     ]
    },
    {
     "name": "stderr",
     "output_type": "stream",
     "text": [
      "\n",
      "100%|██████████████████████████████████████████| 10/10 [00:00<00:00, 366.88it/s]\n"
     ]
    },
    {
     "name": "stdout",
     "output_type": "stream",
     "text": [
      "Gradient of gamma: 1.7303025678927497e-10\n",
      "Epoch 10 - Loss: 0.6931474208831787\n",
      "Parameter name: gamma\n",
      "Parameter shape: torch.Size([])\n",
      "Parameter value: Parameter containing:\n",
      "tensor(0.9980, device='cuda:0', requires_grad=True)\n",
      "\n"
     ]
    },
    {
     "name": "stderr",
     "output_type": "stream",
     "text": [
      "\n",
      "100%|██████████████████████████████████████████| 10/10 [00:00<00:00, 356.74it/s]\n",
      " 15%|██████▍                                    | 12/80 [00:00<00:04, 14.49it/s]"
     ]
    },
    {
     "name": "stdout",
     "output_type": "stream",
     "text": [
      "Gradient of gamma: 1.0977125874944704e-09\n",
      "Epoch 11 - Loss: 0.6931475400924683\n",
      "Parameter name: gamma\n",
      "Parameter shape: torch.Size([])\n",
      "Parameter value: Parameter containing:\n",
      "tensor(0.9947, device='cuda:0', requires_grad=True)\n",
      "\n"
     ]
    },
    {
     "name": "stderr",
     "output_type": "stream",
     "text": [
      "\n",
      "100%|██████████████████████████████████████████| 10/10 [00:00<00:00, 353.40it/s]\n"
     ]
    },
    {
     "name": "stdout",
     "output_type": "stream",
     "text": [
      "Gradient of gamma: 1.2362675327892703e-09\n",
      "Epoch 12 - Loss: 0.6931475400924683\n",
      "Parameter name: gamma\n",
      "Parameter shape: torch.Size([])\n",
      "Parameter value: Parameter containing:\n",
      "tensor(0.9933, device='cuda:0', requires_grad=True)\n",
      "\n"
     ]
    },
    {
     "name": "stderr",
     "output_type": "stream",
     "text": [
      "\n",
      "100%|██████████████████████████████████████████| 10/10 [00:00<00:00, 287.72it/s]\n",
      " 18%|███████▌                                   | 14/80 [00:00<00:04, 13.88it/s]"
     ]
    },
    {
     "name": "stdout",
     "output_type": "stream",
     "text": [
      "Gradient of gamma: 1.2350964695428956e-09\n",
      "Epoch 13 - Loss: 0.6931475400924683\n",
      "Parameter name: gamma\n",
      "Parameter shape: torch.Size([])\n",
      "Parameter value: Parameter containing:\n",
      "tensor(0.9937, device='cuda:0', requires_grad=True)\n",
      "\n"
     ]
    },
    {
     "name": "stderr",
     "output_type": "stream",
     "text": [
      "\n",
      "100%|██████████████████████████████████████████| 10/10 [00:00<00:00, 328.53it/s]\n"
     ]
    },
    {
     "name": "stdout",
     "output_type": "stream",
     "text": [
      "Gradient of gamma: 6.237446115164857e-10\n",
      "Epoch 14 - Loss: 0.6931474804878235\n",
      "Parameter name: gamma\n",
      "Parameter shape: torch.Size([])\n",
      "Parameter value: Parameter containing:\n",
      "tensor(0.9932, device='cuda:0', requires_grad=True)\n",
      "\n"
     ]
    },
    {
     "name": "stderr",
     "output_type": "stream",
     "text": [
      "\n",
      "100%|██████████████████████████████████████████| 10/10 [00:00<00:00, 368.94it/s]\n",
      " 20%|████████▌                                  | 16/80 [00:01<00:04, 13.72it/s]"
     ]
    },
    {
     "name": "stdout",
     "output_type": "stream",
     "text": [
      "Gradient of gamma: 6.229279314595715e-10\n",
      "Epoch 15 - Loss: 0.6931474804878235\n",
      "Parameter name: gamma\n",
      "Parameter shape: torch.Size([])\n",
      "Parameter value: Parameter containing:\n",
      "tensor(0.9921, device='cuda:0', requires_grad=True)\n",
      "\n"
     ]
    },
    {
     "name": "stderr",
     "output_type": "stream",
     "text": [
      "\n",
      "100%|██████████████████████████████████████████| 10/10 [00:00<00:00, 324.52it/s]\n"
     ]
    },
    {
     "name": "stdout",
     "output_type": "stream",
     "text": [
      "Gradient of gamma: 6.228075832837021e-10\n",
      "Epoch 16 - Loss: 0.6931474804878235\n",
      "Parameter name: gamma\n",
      "Parameter shape: torch.Size([])\n",
      "Parameter value: Parameter containing:\n",
      "tensor(0.9905, device='cuda:0', requires_grad=True)\n",
      "\n"
     ]
    },
    {
     "name": "stderr",
     "output_type": "stream",
     "text": [
      "\n",
      "100%|██████████████████████████████████████████| 10/10 [00:00<00:00, 334.74it/s]\n",
      " 22%|█████████▋                                 | 18/80 [00:01<00:04, 13.45it/s]"
     ]
    },
    {
     "name": "stdout",
     "output_type": "stream",
     "text": [
      "Gradient of gamma: 1.0831517904819066e-09\n",
      "Epoch 17 - Loss: 0.6931474208831787\n",
      "Parameter name: gamma\n",
      "Parameter shape: torch.Size([])\n",
      "Parameter value: Parameter containing:\n",
      "tensor(0.9879, device='cuda:0', requires_grad=True)\n",
      "\n"
     ]
    },
    {
     "name": "stderr",
     "output_type": "stream",
     "text": [
      "\n",
      "100%|██████████████████████████████████████████| 10/10 [00:00<00:00, 359.62it/s]\n"
     ]
    },
    {
     "name": "stdout",
     "output_type": "stream",
     "text": [
      "Gradient of gamma: 1.488489331791243e-10\n",
      "Epoch 18 - Loss: 0.6931474208831787\n",
      "Parameter name: gamma\n",
      "Parameter shape: torch.Size([])\n",
      "Parameter value: Parameter containing:\n",
      "tensor(0.9854, device='cuda:0', requires_grad=True)\n",
      "\n"
     ]
    },
    {
     "name": "stderr",
     "output_type": "stream",
     "text": [
      "\n",
      "100%|██████████████████████████████████████████| 10/10 [00:00<00:00, 366.92it/s]\n",
      " 25%|██████████▊                                | 20/80 [00:01<00:04, 13.55it/s]"
     ]
    },
    {
     "name": "stdout",
     "output_type": "stream",
     "text": [
      "Gradient of gamma: 1.4603562803472414e-10\n",
      "Epoch 19 - Loss: 0.6931474208831787\n",
      "Parameter name: gamma\n",
      "Parameter shape: torch.Size([])\n",
      "Parameter value: Parameter containing:\n",
      "tensor(0.9830, device='cuda:0', requires_grad=True)\n",
      "\n"
     ]
    },
    {
     "name": "stderr",
     "output_type": "stream",
     "text": [
      "\n",
      "100%|██████████████████████████████████████████| 10/10 [00:00<00:00, 385.91it/s]\n"
     ]
    },
    {
     "name": "stdout",
     "output_type": "stream",
     "text": [
      "Gradient of gamma: 1.4341150489372012e-10\n",
      "Epoch 20 - Loss: 0.6931474208831787\n",
      "Parameter name: gamma\n",
      "Parameter shape: torch.Size([])\n",
      "Parameter value: Parameter containing:\n",
      "tensor(0.9807, device='cuda:0', requires_grad=True)\n",
      "\n"
     ]
    },
    {
     "name": "stderr",
     "output_type": "stream",
     "text": [
      "\n",
      "100%|██████████████████████████████████████████| 10/10 [00:00<00:00, 380.24it/s]\n",
      " 28%|███████████▊                               | 22/80 [00:01<00:04, 13.81it/s]"
     ]
    },
    {
     "name": "stdout",
     "output_type": "stream",
     "text": [
      "Gradient of gamma: 1.5365975158943002e-09\n",
      "Epoch 21 - Loss: 0.6931474208831787\n",
      "Parameter name: gamma\n",
      "Parameter shape: torch.Size([])\n",
      "Parameter value: Parameter containing:\n",
      "tensor(0.9772, device='cuda:0', requires_grad=True)\n",
      "\n"
     ]
    },
    {
     "name": "stderr",
     "output_type": "stream",
     "text": [
      "\n",
      "100%|██████████████████████████████████████████| 10/10 [00:00<00:00, 379.40it/s]\n"
     ]
    },
    {
     "name": "stdout",
     "output_type": "stream",
     "text": [
      "Gradient of gamma: 1.3658674191674436e-10\n",
      "Epoch 22 - Loss: 0.6931473612785339\n",
      "Parameter name: gamma\n",
      "Parameter shape: torch.Size([])\n",
      "Parameter value: Parameter containing:\n",
      "tensor(0.9738, device='cuda:0', requires_grad=True)\n",
      "\n"
     ]
    },
    {
     "name": "stderr",
     "output_type": "stream",
     "text": [
      "\n",
      "100%|██████████████████████████████████████████| 10/10 [00:00<00:00, 396.29it/s]\n",
      " 30%|████████████▉                              | 24/80 [00:01<00:04, 13.94it/s]"
     ]
    },
    {
     "name": "stdout",
     "output_type": "stream",
     "text": [
      "Gradient of gamma: 5.975424599569124e-10\n",
      "Epoch 23 - Loss: 0.6931474804878235\n",
      "Parameter name: gamma\n",
      "Parameter shape: torch.Size([])\n",
      "Parameter value: Parameter containing:\n",
      "tensor(0.9703, device='cuda:0', requires_grad=True)\n",
      "\n"
     ]
    },
    {
     "name": "stderr",
     "output_type": "stream",
     "text": [
      "\n",
      "100%|██████████████████████████████████████████| 10/10 [00:00<00:00, 395.78it/s]\n"
     ]
    },
    {
     "name": "stdout",
     "output_type": "stream",
     "text": [
      "Gradient of gamma: 3.390567826500046e-10\n",
      "Epoch 24 - Loss: 0.6931474804878235\n",
      "Parameter name: gamma\n",
      "Parameter shape: torch.Size([])\n",
      "Parameter value: Parameter containing:\n",
      "tensor(0.9674, device='cuda:0', requires_grad=True)\n",
      "\n"
     ]
    },
    {
     "name": "stderr",
     "output_type": "stream",
     "text": [
      "\n",
      "100%|██████████████████████████████████████████| 10/10 [00:00<00:00, 390.45it/s]\n",
      " 32%|█████████████▉                             | 26/80 [00:01<00:03, 14.12it/s]"
     ]
    },
    {
     "name": "stdout",
     "output_type": "stream",
     "text": [
      "Gradient of gamma: 1.2499601353965772e-10\n",
      "Epoch 25 - Loss: 0.6931474208831787\n",
      "Parameter name: gamma\n",
      "Parameter shape: torch.Size([])\n",
      "Parameter value: Parameter containing:\n",
      "tensor(0.9647, device='cuda:0', requires_grad=True)\n",
      "\n"
     ]
    },
    {
     "name": "stderr",
     "output_type": "stream",
     "text": [
      "\n",
      "100%|██████████████████████████████████████████| 10/10 [00:00<00:00, 393.95it/s]\n"
     ]
    },
    {
     "name": "stdout",
     "output_type": "stream",
     "text": [
      "Gradient of gamma: 1.2752261469017867e-09\n",
      "Epoch 26 - Loss: 0.6931474208831787\n",
      "Parameter name: gamma\n",
      "Parameter shape: torch.Size([])\n",
      "Parameter value: Parameter containing:\n",
      "tensor(0.9636, device='cuda:0', requires_grad=True)\n",
      "\n"
     ]
    },
    {
     "name": "stderr",
     "output_type": "stream",
     "text": [
      "\n",
      "100%|██████████████████████████████████████████| 10/10 [00:00<00:00, 371.59it/s]\n",
      " 35%|███████████████                            | 28/80 [00:01<00:03, 14.18it/s]"
     ]
    },
    {
     "name": "stdout",
     "output_type": "stream",
     "text": [
      "Gradient of gamma: 3.445910223831561e-10\n",
      "Epoch 27 - Loss: 0.6931474208831787\n",
      "Parameter name: gamma\n",
      "Parameter shape: torch.Size([])\n",
      "Parameter value: Parameter containing:\n",
      "tensor(0.9630, device='cuda:0', requires_grad=True)\n",
      "\n"
     ]
    },
    {
     "name": "stderr",
     "output_type": "stream",
     "text": [
      "\n",
      "100%|██████████████████████████████████████████| 10/10 [00:00<00:00, 388.51it/s]\n"
     ]
    },
    {
     "name": "stdout",
     "output_type": "stream",
     "text": [
      "Gradient of gamma: 1.0495675439869956e-09\n",
      "Epoch 28 - Loss: 0.6931474208831787\n",
      "Parameter name: gamma\n",
      "Parameter shape: torch.Size([])\n",
      "Parameter value: Parameter containing:\n",
      "tensor(0.9613, device='cuda:0', requires_grad=True)\n",
      "\n"
     ]
    },
    {
     "name": "stderr",
     "output_type": "stream",
     "text": [
      "\n",
      "100%|██████████████████████████████████████████| 10/10 [00:00<00:00, 399.01it/s]\n",
      " 38%|████████████████▏                          | 30/80 [00:02<00:03, 14.41it/s]"
     ]
    },
    {
     "name": "stdout",
     "output_type": "stream",
     "text": [
      "Gradient of gamma: 1.512171721174127e-09\n",
      "Epoch 29 - Loss: 0.6931474804878235\n",
      "Parameter name: gamma\n",
      "Parameter shape: torch.Size([])\n",
      "Parameter value: Parameter containing:\n",
      "tensor(0.9584, device='cuda:0', requires_grad=True)\n",
      "\n"
     ]
    },
    {
     "name": "stderr",
     "output_type": "stream",
     "text": [
      "\n",
      "100%|██████████████████████████████████████████| 10/10 [00:00<00:00, 379.91it/s]\n"
     ]
    },
    {
     "name": "stdout",
     "output_type": "stream",
     "text": [
      "Gradient of gamma: 1.2854695086161883e-09\n",
      "Epoch 30 - Loss: 0.6931474804878235\n",
      "Parameter name: gamma\n",
      "Parameter shape: torch.Size([])\n",
      "Parameter value: Parameter containing:\n",
      "tensor(0.9571, device='cuda:0', requires_grad=True)\n",
      "\n"
     ]
    },
    {
     "name": "stderr",
     "output_type": "stream",
     "text": [
      "\n",
      "100%|██████████████████████████████████████████| 10/10 [00:00<00:00, 378.82it/s]\n",
      " 40%|█████████████████▏                         | 32/80 [00:02<00:03, 14.47it/s]"
     ]
    },
    {
     "name": "stdout",
     "output_type": "stream",
     "text": [
      "Gradient of gamma: 1.0947509565539804e-10\n",
      "Epoch 31 - Loss: 0.6931474804878235\n",
      "Parameter name: gamma\n",
      "Parameter shape: torch.Size([])\n",
      "Parameter value: Parameter containing:\n",
      "tensor(0.9557, device='cuda:0', requires_grad=True)\n",
      "\n"
     ]
    },
    {
     "name": "stderr",
     "output_type": "stream",
     "text": [
      "\n",
      "100%|██████████████████████████████████████████| 10/10 [00:00<00:00, 380.00it/s]\n"
     ]
    },
    {
     "name": "stdout",
     "output_type": "stream",
     "text": [
      "Gradient of gamma: 1.0938183692132952e-10\n",
      "Epoch 32 - Loss: 0.6931474804878235\n",
      "Parameter name: gamma\n",
      "Parameter shape: torch.Size([])\n",
      "Parameter value: Parameter containing:\n",
      "tensor(0.9544, device='cuda:0', requires_grad=True)\n",
      "\n"
     ]
    },
    {
     "name": "stderr",
     "output_type": "stream",
     "text": [
      "\n",
      "100%|██████████████████████████████████████████| 10/10 [00:00<00:00, 246.93it/s]\n",
      " 42%|██████████████████▎                        | 34/80 [00:02<00:03, 13.70it/s]"
     ]
    },
    {
     "name": "stdout",
     "output_type": "stream",
     "text": [
      "Gradient of gamma: 1.078381828278907e-10\n",
      "Epoch 33 - Loss: 0.6931474804878235\n",
      "Parameter name: gamma\n",
      "Parameter shape: torch.Size([])\n",
      "Parameter value: Parameter containing:\n",
      "tensor(0.9532, device='cuda:0', requires_grad=True)\n",
      "\n"
     ]
    },
    {
     "name": "stderr",
     "output_type": "stream",
     "text": [
      "\n",
      "100%|██████████████████████████████████████████| 10/10 [00:00<00:00, 358.03it/s]\n"
     ]
    },
    {
     "name": "stdout",
     "output_type": "stream",
     "text": [
      "Gradient of gamma: 1.0579004339206222e-10\n",
      "Epoch 34 - Loss: 0.6931474804878235\n",
      "Parameter name: gamma\n",
      "Parameter shape: torch.Size([])\n",
      "Parameter value: Parameter containing:\n",
      "tensor(0.9519, device='cuda:0', requires_grad=True)\n",
      "\n"
     ]
    },
    {
     "name": "stderr",
     "output_type": "stream",
     "text": [
      "\n",
      "100%|██████████████████████████████████████████| 10/10 [00:00<00:00, 348.80it/s]\n",
      " 45%|███████████████████▎                       | 36/80 [00:02<00:03, 13.44it/s]"
     ]
    },
    {
     "name": "stdout",
     "output_type": "stream",
     "text": [
      "Gradient of gamma: 1.0357323887433267e-09\n",
      "Epoch 35 - Loss: 0.6931474804878235\n",
      "Parameter name: gamma\n",
      "Parameter shape: torch.Size([])\n",
      "Parameter value: Parameter containing:\n",
      "tensor(0.9498, device='cuda:0', requires_grad=True)\n",
      "\n"
     ]
    },
    {
     "name": "stderr",
     "output_type": "stream",
     "text": [
      "\n",
      "100%|██████████████████████████████████████████| 10/10 [00:00<00:00, 312.52it/s]\n"
     ]
    },
    {
     "name": "stdout",
     "output_type": "stream",
     "text": [
      "Gradient of gamma: 1.0226486324427242e-10\n",
      "Epoch 36 - Loss: 0.6931474804878235\n",
      "Parameter name: gamma\n",
      "Parameter shape: torch.Size([])\n",
      "Parameter value: Parameter containing:\n",
      "tensor(0.9478, device='cuda:0', requires_grad=True)\n",
      "\n"
     ]
    },
    {
     "name": "stderr",
     "output_type": "stream",
     "text": [
      "\n",
      "100%|██████████████████████████████████████████| 10/10 [00:00<00:00, 371.57it/s]\n",
      " 48%|████████████████████▍                      | 38/80 [00:02<00:03, 13.21it/s]"
     ]
    },
    {
     "name": "stdout",
     "output_type": "stream",
     "text": [
      "Gradient of gamma: 1.0086864676850382e-10\n",
      "Epoch 37 - Loss: 0.6931474208831787\n",
      "Parameter name: gamma\n",
      "Parameter shape: torch.Size([])\n",
      "Parameter value: Parameter containing:\n",
      "tensor(0.9460, device='cuda:0', requires_grad=True)\n",
      "\n"
     ]
    },
    {
     "name": "stderr",
     "output_type": "stream",
     "text": [
      "\n",
      "100%|██████████████████████████████████████████| 10/10 [00:00<00:00, 321.90it/s]\n"
     ]
    },
    {
     "name": "stdout",
     "output_type": "stream",
     "text": [
      "Gradient of gamma: 9.99929028466795e-11\n",
      "Epoch 38 - Loss: 0.6931474208831787\n",
      "Parameter name: gamma\n",
      "Parameter shape: torch.Size([])\n",
      "Parameter value: Parameter containing:\n",
      "tensor(0.9442, device='cuda:0', requires_grad=True)\n",
      "\n"
     ]
    },
    {
     "name": "stderr",
     "output_type": "stream",
     "text": [
      "\n",
      "100%|██████████████████████████████████████████| 10/10 [00:00<00:00, 356.36it/s]\n",
      " 50%|█████████████████████▌                     | 40/80 [00:02<00:03, 13.26it/s]"
     ]
    },
    {
     "name": "stdout",
     "output_type": "stream",
     "text": [
      "Gradient of gamma: 8.337543988545804e-10\n",
      "Epoch 39 - Loss: 0.6931474208831787\n",
      "Parameter name: gamma\n",
      "Parameter shape: torch.Size([])\n",
      "Parameter value: Parameter containing:\n",
      "tensor(0.9434, device='cuda:0', requires_grad=True)\n",
      "\n"
     ]
    },
    {
     "name": "stderr",
     "output_type": "stream",
     "text": [
      "\n",
      "100%|██████████████████████████████████████████| 10/10 [00:00<00:00, 397.33it/s]\n"
     ]
    },
    {
     "name": "stdout",
     "output_type": "stream",
     "text": [
      "Gradient of gamma: 3.6853098350775326e-10\n",
      "Epoch 40 - Loss: 0.6931474208831787\n",
      "Parameter name: gamma\n",
      "Parameter shape: torch.Size([])\n",
      "Parameter value: Parameter containing:\n",
      "tensor(0.9430, device='cuda:0', requires_grad=True)\n",
      "\n"
     ]
    },
    {
     "name": "stderr",
     "output_type": "stream",
     "text": [
      "\n",
      "100%|██████████████████████████████████████████| 10/10 [00:00<00:00, 362.89it/s]\n",
      " 52%|██████████████████████▌                    | 42/80 [00:03<00:02, 13.74it/s]"
     ]
    },
    {
     "name": "stdout",
     "output_type": "stream",
     "text": [
      "Gradient of gamma: 9.652545429617021e-11\n",
      "Epoch 41 - Loss: 0.6931474208831787\n",
      "Parameter name: gamma\n",
      "Parameter shape: torch.Size([])\n",
      "Parameter value: Parameter containing:\n",
      "tensor(0.9425, device='cuda:0', requires_grad=True)\n",
      "\n"
     ]
    },
    {
     "name": "stderr",
     "output_type": "stream",
     "text": [
      "\n",
      "100%|██████████████████████████████████████████| 10/10 [00:00<00:00, 406.64it/s]\n"
     ]
    },
    {
     "name": "stdout",
     "output_type": "stream",
     "text": [
      "Gradient of gamma: 9.636913489430299e-11\n",
      "Epoch 42 - Loss: 0.6931474208831787\n",
      "Parameter name: gamma\n",
      "Parameter shape: torch.Size([])\n",
      "Parameter value: Parameter containing:\n",
      "tensor(0.9421, device='cuda:0', requires_grad=True)\n",
      "\n"
     ]
    },
    {
     "name": "stderr",
     "output_type": "stream",
     "text": [
      "\n",
      "100%|██████████████████████████████████████████| 10/10 [00:00<00:00, 396.37it/s]\n"
     ]
    },
    {
     "name": "stdout",
     "output_type": "stream",
     "text": [
      "Gradient of gamma: 9.624301355870557e-11\n"
     ]
    },
    {
     "name": "stderr",
     "output_type": "stream",
     "text": [
      " 55%|███████████████████████▋                   | 44/80 [00:03<00:02, 14.04it/s]"
     ]
    },
    {
     "name": "stdout",
     "output_type": "stream",
     "text": [
      "Epoch 43 - Loss: 0.6931474208831787\n",
      "Parameter name: gamma\n",
      "Parameter shape: torch.Size([])\n",
      "Parameter value: Parameter containing:\n",
      "tensor(0.9415, device='cuda:0', requires_grad=True)\n",
      "\n"
     ]
    },
    {
     "name": "stderr",
     "output_type": "stream",
     "text": [
      "\n",
      "100%|██████████████████████████████████████████| 10/10 [00:00<00:00, 347.99it/s]\n"
     ]
    },
    {
     "name": "stdout",
     "output_type": "stream",
     "text": [
      "Gradient of gamma: 9.667022737858133e-11\n",
      "Epoch 44 - Loss: 0.6931474208831787\n",
      "Parameter name: gamma\n",
      "Parameter shape: torch.Size([])\n",
      "Parameter value: Parameter containing:\n",
      "tensor(0.9410, device='cuda:0', requires_grad=True)\n",
      "\n"
     ]
    },
    {
     "name": "stderr",
     "output_type": "stream",
     "text": [
      "\n",
      "100%|██████████████████████████████████████████| 10/10 [00:00<00:00, 418.60it/s]\n",
      " 57%|████████████████████████▋                  | 46/80 [00:03<00:02, 14.19it/s]"
     ]
    },
    {
     "name": "stdout",
     "output_type": "stream",
     "text": [
      "Gradient of gamma: 9.603873252217454e-11\n",
      "Epoch 45 - Loss: 0.6931474208831787\n",
      "Parameter name: gamma\n",
      "Parameter shape: torch.Size([])\n",
      "Parameter value: Parameter containing:\n",
      "tensor(0.9404, device='cuda:0', requires_grad=True)\n",
      "\n"
     ]
    },
    {
     "name": "stderr",
     "output_type": "stream",
     "text": [
      "\n",
      "100%|██████████████████████████████████████████| 10/10 [00:00<00:00, 357.32it/s]\n"
     ]
    },
    {
     "name": "stdout",
     "output_type": "stream",
     "text": [
      "Gradient of gamma: 3.7268499397669075e-10\n",
      "Epoch 46 - Loss: 0.6931474208831787\n",
      "Parameter name: gamma\n",
      "Parameter shape: torch.Size([])\n",
      "Parameter value: Parameter containing:\n",
      "tensor(0.9402, device='cuda:0', requires_grad=True)\n",
      "\n"
     ]
    },
    {
     "name": "stderr",
     "output_type": "stream",
     "text": [
      "\n",
      "100%|██████████████████████████████████████████| 10/10 [00:00<00:00, 372.81it/s]\n",
      " 60%|█████████████████████████▊                 | 48/80 [00:03<00:02, 14.15it/s]"
     ]
    },
    {
     "name": "stdout",
     "output_type": "stream",
     "text": [
      "Gradient of gamma: 9.524825372864143e-11\n",
      "Epoch 47 - Loss: 0.6931474208831787\n",
      "Parameter name: gamma\n",
      "Parameter shape: torch.Size([])\n",
      "Parameter value: Parameter containing:\n",
      "tensor(0.9399, device='cuda:0', requires_grad=True)\n",
      "\n"
     ]
    },
    {
     "name": "stderr",
     "output_type": "stream",
     "text": [
      "\n",
      "100%|██████████████████████████████████████████| 10/10 [00:00<00:00, 392.09it/s]\n"
     ]
    },
    {
     "name": "stdout",
     "output_type": "stream",
     "text": [
      "Gradient of gamma: 8.378968630040617e-10\n",
      "Epoch 48 - Loss: 0.6931474208831787\n",
      "Parameter name: gamma\n",
      "Parameter shape: torch.Size([])\n",
      "Parameter value: Parameter containing:\n",
      "tensor(0.9405, device='cuda:0', requires_grad=True)\n",
      "\n"
     ]
    },
    {
     "name": "stderr",
     "output_type": "stream",
     "text": [
      "\n",
      "100%|██████████████████████████████████████████| 10/10 [00:00<00:00, 358.13it/s]\n",
      " 62%|██████████████████████████▉                | 50/80 [00:03<00:02, 14.29it/s]"
     ]
    },
    {
     "name": "stdout",
     "output_type": "stream",
     "text": [
      "Gradient of gamma: 8.3825746344246e-10\n",
      "Epoch 49 - Loss: 0.6931474208831787\n",
      "Parameter name: gamma\n",
      "Parameter shape: torch.Size([])\n",
      "Parameter value: Parameter containing:\n",
      "tensor(0.9418, device='cuda:0', requires_grad=True)\n",
      "\n"
     ]
    },
    {
     "name": "stderr",
     "output_type": "stream",
     "text": [
      "\n",
      "100%|██████████████████████████████████████████| 10/10 [00:00<00:00, 375.53it/s]\n"
     ]
    },
    {
     "name": "stdout",
     "output_type": "stream",
     "text": [
      "Gradient of gamma: 9.672973533270124e-11\n",
      "Epoch 50 - Loss: 0.6931474208831787\n",
      "Parameter name: gamma\n",
      "Parameter shape: torch.Size([])\n",
      "Parameter value: Parameter containing:\n",
      "tensor(0.9423, device='cuda:0', requires_grad=True)\n",
      "\n"
     ]
    },
    {
     "name": "stderr",
     "output_type": "stream",
     "text": [
      "\n",
      "100%|██████████████████████████████████████████| 10/10 [00:00<00:00, 383.29it/s]\n",
      " 65%|███████████████████████████▉               | 52/80 [00:03<00:01, 14.25it/s]"
     ]
    },
    {
     "name": "stdout",
     "output_type": "stream",
     "text": [
      "Gradient of gamma: 3.6902569888752623e-10\n",
      "Epoch 51 - Loss: 0.6931474208831787\n",
      "Parameter name: gamma\n",
      "Parameter shape: torch.Size([])\n",
      "Parameter value: Parameter containing:\n",
      "tensor(0.9430, device='cuda:0', requires_grad=True)\n",
      "\n"
     ]
    },
    {
     "name": "stderr",
     "output_type": "stream",
     "text": [
      "\n",
      "100%|██████████████████████████████████████████| 10/10 [00:00<00:00, 384.64it/s]\n"
     ]
    },
    {
     "name": "stdout",
     "output_type": "stream",
     "text": [
      "Gradient of gamma: 3.681819293888111e-10\n",
      "Epoch 52 - Loss: 0.6931474208831787\n",
      "Parameter name: gamma\n",
      "Parameter shape: torch.Size([])\n",
      "Parameter value: Parameter containing:\n",
      "tensor(0.9437, device='cuda:0', requires_grad=True)\n",
      "\n"
     ]
    },
    {
     "name": "stderr",
     "output_type": "stream",
     "text": [
      "\n",
      "100%|██████████████████████████████████████████| 10/10 [00:00<00:00, 375.92it/s]\n",
      " 68%|█████████████████████████████              | 54/80 [00:03<00:01, 14.21it/s]"
     ]
    },
    {
     "name": "stdout",
     "output_type": "stream",
     "text": [
      "Gradient of gamma: 3.674101023420917e-10\n",
      "Epoch 53 - Loss: 0.6931474208831787\n",
      "Parameter name: gamma\n",
      "Parameter shape: torch.Size([])\n",
      "Parameter value: Parameter containing:\n",
      "tensor(0.9446, device='cuda:0', requires_grad=True)\n",
      "\n"
     ]
    },
    {
     "name": "stderr",
     "output_type": "stream",
     "text": [
      "\n",
      "100%|██████████████████████████████████████████| 10/10 [00:00<00:00, 335.14it/s]\n"
     ]
    },
    {
     "name": "stdout",
     "output_type": "stream",
     "text": [
      "Gradient of gamma: 1.7637651339441618e-09\n",
      "Epoch 54 - Loss: 0.6931474208831787\n",
      "Parameter name: gamma\n",
      "Parameter shape: torch.Size([])\n",
      "Parameter value: Parameter containing:\n",
      "tensor(0.9462, device='cuda:0', requires_grad=True)\n",
      "\n"
     ]
    },
    {
     "name": "stderr",
     "output_type": "stream",
     "text": [
      "\n",
      "100%|██████████████████████████████████████████| 10/10 [00:00<00:00, 286.53it/s]\n",
      " 70%|██████████████████████████████             | 56/80 [00:04<00:01, 13.37it/s]"
     ]
    },
    {
     "name": "stdout",
     "output_type": "stream",
     "text": [
      "Gradient of gamma: 1.7635466420529156e-09\n",
      "Epoch 55 - Loss: 0.6931474208831787\n",
      "Parameter name: gamma\n",
      "Parameter shape: torch.Size([])\n",
      "Parameter value: Parameter containing:\n",
      "tensor(0.9484, device='cuda:0', requires_grad=True)\n",
      "\n"
     ]
    },
    {
     "name": "stderr",
     "output_type": "stream",
     "text": [
      "\n",
      "100%|██████████████████████████████████████████| 10/10 [00:00<00:00, 339.64it/s]\n"
     ]
    },
    {
     "name": "stdout",
     "output_type": "stream",
     "text": [
      "Gradient of gamma: 1.0105516423664085e-10\n",
      "Epoch 56 - Loss: 0.6931474208831787\n",
      "Parameter name: gamma\n",
      "Parameter shape: torch.Size([])\n",
      "Parameter value: Parameter containing:\n",
      "tensor(0.9504, device='cuda:0', requires_grad=True)\n",
      "\n"
     ]
    },
    {
     "name": "stderr",
     "output_type": "stream",
     "text": [
      "\n",
      "100%|██████████████████████████████████████████| 10/10 [00:00<00:00, 276.56it/s]\n",
      " 72%|███████████████████████████████▏           | 58/80 [00:04<00:01, 12.68it/s]"
     ]
    },
    {
     "name": "stdout",
     "output_type": "stream",
     "text": [
      "Gradient of gamma: 1.0267164896049508e-10\n",
      "Epoch 57 - Loss: 0.6931474804878235\n",
      "Parameter name: gamma\n",
      "Parameter shape: torch.Size([])\n",
      "Parameter value: Parameter containing:\n",
      "tensor(0.9521, device='cuda:0', requires_grad=True)\n",
      "\n"
     ]
    },
    {
     "name": "stderr",
     "output_type": "stream",
     "text": [
      "\n",
      "100%|██████████████████████████████████████████| 10/10 [00:00<00:00, 317.75it/s]\n"
     ]
    },
    {
     "name": "stdout",
     "output_type": "stream",
     "text": [
      "Gradient of gamma: 1.965610785248373e-09\n",
      "Epoch 58 - Loss: 0.6931474804878235\n",
      "Parameter name: gamma\n",
      "Parameter shape: torch.Size([])\n",
      "Parameter value: Parameter containing:\n",
      "tensor(0.9528, device='cuda:0', requires_grad=True)\n",
      "\n"
     ]
    },
    {
     "name": "stderr",
     "output_type": "stream",
     "text": [
      "\n",
      "100%|██████████████████████████████████████████| 10/10 [00:00<00:00, 342.21it/s]\n",
      " 75%|████████████████████████████████▎          | 60/80 [00:04<00:01, 12.90it/s]"
     ]
    },
    {
     "name": "stdout",
     "output_type": "stream",
     "text": [
      "Gradient of gamma: 1.0685319296044327e-10\n",
      "Epoch 59 - Loss: 0.6931475400924683\n",
      "Parameter name: gamma\n",
      "Parameter shape: torch.Size([])\n",
      "Parameter value: Parameter containing:\n",
      "tensor(0.9533, device='cuda:0', requires_grad=True)\n",
      "\n"
     ]
    },
    {
     "name": "stderr",
     "output_type": "stream",
     "text": [
      "\n",
      "100%|██████████████████████████████████████████| 10/10 [00:00<00:00, 382.23it/s]\n"
     ]
    },
    {
     "name": "stdout",
     "output_type": "stream",
     "text": [
      "Gradient of gamma: 3.594529118799983e-10\n",
      "Epoch 60 - Loss: 0.6931474804878235\n",
      "Parameter name: gamma\n",
      "Parameter shape: torch.Size([])\n",
      "Parameter value: Parameter containing:\n",
      "tensor(0.9539, device='cuda:0', requires_grad=True)\n",
      "\n"
     ]
    },
    {
     "name": "stderr",
     "output_type": "stream",
     "text": [
      "\n",
      "100%|██████████████████████████████████████████| 10/10 [00:00<00:00, 409.22it/s]\n",
      " 78%|█████████████████████████████████▎         | 62/80 [00:04<00:01, 13.45it/s]"
     ]
    },
    {
     "name": "stdout",
     "output_type": "stream",
     "text": [
      "Gradient of gamma: 1.0603873334957825e-10\n",
      "Epoch 61 - Loss: 0.6931474804878235\n",
      "Parameter name: gamma\n",
      "Parameter shape: torch.Size([])\n",
      "Parameter value: Parameter containing:\n",
      "tensor(0.9545, device='cuda:0', requires_grad=True)\n",
      "\n"
     ]
    },
    {
     "name": "stderr",
     "output_type": "stream",
     "text": [
      "\n",
      "100%|██████████████████████████████████████████| 10/10 [00:00<00:00, 386.69it/s]\n"
     ]
    },
    {
     "name": "stdout",
     "output_type": "stream",
     "text": [
      "Gradient of gamma: 1.0589484844558683e-10\n",
      "Epoch 62 - Loss: 0.6931474804878235\n",
      "Parameter name: gamma\n",
      "Parameter shape: torch.Size([])\n",
      "Parameter value: Parameter containing:\n",
      "tensor(0.9549, device='cuda:0', requires_grad=True)\n",
      "\n"
     ]
    },
    {
     "name": "stderr",
     "output_type": "stream",
     "text": [
      "\n",
      "100%|██████████████████████████████████████████| 10/10 [00:00<00:00, 366.55it/s]\n"
     ]
    },
    {
     "name": "stdout",
     "output_type": "stream",
     "text": [
      "Gradient of gamma: 1.0869527500290133e-10\n"
     ]
    },
    {
     "name": "stderr",
     "output_type": "stream",
     "text": [
      " 80%|██████████████████████████████████▍        | 64/80 [00:04<00:01, 13.74it/s]"
     ]
    },
    {
     "name": "stdout",
     "output_type": "stream",
     "text": [
      "Epoch 63 - Loss: 0.6931474804878235\n",
      "Parameter name: gamma\n",
      "Parameter shape: torch.Size([])\n",
      "Parameter value: Parameter containing:\n",
      "tensor(0.9552, device='cuda:0', requires_grad=True)\n",
      "\n"
     ]
    },
    {
     "name": "stderr",
     "output_type": "stream",
     "text": [
      "\n",
      "100%|██████████████████████████████████████████| 10/10 [00:00<00:00, 390.72it/s]\n"
     ]
    },
    {
     "name": "stdout",
     "output_type": "stream",
     "text": [
      "Gradient of gamma: 1.0803002936654593e-10\n",
      "Epoch 64 - Loss: 0.6931474804878235\n",
      "Parameter name: gamma\n",
      "Parameter shape: torch.Size([])\n",
      "Parameter value: Parameter containing:\n",
      "tensor(0.9555, device='cuda:0', requires_grad=True)\n",
      "\n"
     ]
    },
    {
     "name": "stderr",
     "output_type": "stream",
     "text": [
      "\n",
      "100%|██████████████████████████████████████████| 10/10 [00:00<00:00, 393.91it/s]\n",
      " 82%|███████████████████████████████████▍       | 66/80 [00:04<00:00, 14.07it/s]"
     ]
    },
    {
     "name": "stdout",
     "output_type": "stream",
     "text": [
      "Gradient of gamma: 1.0841194608701699e-10\n",
      "Epoch 65 - Loss: 0.6931474804878235\n",
      "Parameter name: gamma\n",
      "Parameter shape: torch.Size([])\n",
      "Parameter value: Parameter containing:\n",
      "tensor(0.9557, device='cuda:0', requires_grad=True)\n",
      "\n"
     ]
    },
    {
     "name": "stderr",
     "output_type": "stream",
     "text": [
      "\n",
      "100%|██████████████████████████████████████████| 10/10 [00:00<00:00, 361.63it/s]\n"
     ]
    },
    {
     "name": "stdout",
     "output_type": "stream",
     "text": [
      "Gradient of gamma: 1.0774492409382219e-10\n",
      "Epoch 66 - Loss: 0.6931474804878235\n",
      "Parameter name: gamma\n",
      "Parameter shape: torch.Size([])\n",
      "Parameter value: Parameter containing:\n",
      "tensor(0.9558, device='cuda:0', requires_grad=True)\n",
      "\n"
     ]
    },
    {
     "name": "stderr",
     "output_type": "stream",
     "text": [
      "\n",
      "100%|██████████████████████████████████████████| 10/10 [00:00<00:00, 360.82it/s]\n",
      " 85%|████████████████████████████████████▌      | 68/80 [00:04<00:00, 14.18it/s]"
     ]
    },
    {
     "name": "stdout",
     "output_type": "stream",
     "text": [
      "Gradient of gamma: 1.0829825924929537e-10\n",
      "Epoch 67 - Loss: 0.6931474804878235\n",
      "Parameter name: gamma\n",
      "Parameter shape: torch.Size([])\n",
      "Parameter value: Parameter containing:\n",
      "tensor(0.9558, device='cuda:0', requires_grad=True)\n",
      "\n"
     ]
    },
    {
     "name": "stderr",
     "output_type": "stream",
     "text": [
      "\n",
      "100%|██████████████████████████████████████████| 10/10 [00:00<00:00, 386.76it/s]\n"
     ]
    },
    {
     "name": "stdout",
     "output_type": "stream",
     "text": [
      "Gradient of gamma: 1.0796519234190782e-10\n",
      "Epoch 68 - Loss: 0.6931474804878235\n",
      "Parameter name: gamma\n",
      "Parameter shape: torch.Size([])\n",
      "Parameter value: Parameter containing:\n",
      "tensor(0.9558, device='cuda:0', requires_grad=True)\n",
      "\n"
     ]
    },
    {
     "name": "stderr",
     "output_type": "stream",
     "text": [
      "\n",
      "100%|██████████████████████████████████████████| 10/10 [00:00<00:00, 349.31it/s]\n",
      " 88%|█████████████████████████████████████▋     | 70/80 [00:05<00:00, 14.21it/s]"
     ]
    },
    {
     "name": "stdout",
     "output_type": "stream",
     "text": [
      "Gradient of gamma: 1.084936585016294e-10\n",
      "Epoch 69 - Loss: 0.6931474804878235\n",
      "Parameter name: gamma\n",
      "Parameter shape: torch.Size([])\n",
      "Parameter value: Parameter containing:\n",
      "tensor(0.9558, device='cuda:0', requires_grad=True)\n",
      "\n"
     ]
    },
    {
     "name": "stderr",
     "output_type": "stream",
     "text": [
      "\n",
      "100%|██████████████████████████████████████████| 10/10 [00:00<00:00, 366.52it/s]\n"
     ]
    },
    {
     "name": "stdout",
     "output_type": "stream",
     "text": [
      "Gradient of gamma: 1.0878320466645164e-10\n",
      "Epoch 70 - Loss: 0.6931474804878235\n",
      "Parameter name: gamma\n",
      "Parameter shape: torch.Size([])\n",
      "Parameter value: Parameter containing:\n",
      "tensor(0.9556, device='cuda:0', requires_grad=True)\n",
      "\n"
     ]
    },
    {
     "name": "stderr",
     "output_type": "stream",
     "text": [
      "\n",
      "100%|██████████████████████████████████████████| 10/10 [00:00<00:00, 248.31it/s]\n",
      " 90%|██████████████████████████████████████▋    | 72/80 [00:05<00:00, 13.76it/s]"
     ]
    },
    {
     "name": "stdout",
     "output_type": "stream",
     "text": [
      "Gradient of gamma: 1.0814016349058875e-10\n",
      "Epoch 71 - Loss: 0.6931474804878235\n",
      "Parameter name: gamma\n",
      "Parameter shape: torch.Size([])\n",
      "Parameter value: Parameter containing:\n",
      "tensor(0.9555, device='cuda:0', requires_grad=True)\n",
      "\n"
     ]
    },
    {
     "name": "stderr",
     "output_type": "stream",
     "text": [
      "\n",
      "100%|██████████████████████████████████████████| 10/10 [00:00<00:00, 342.92it/s]\n"
     ]
    },
    {
     "name": "stdout",
     "output_type": "stream",
     "text": [
      "Gradient of gamma: 1.0647838166732981e-10\n",
      "Epoch 72 - Loss: 0.6931474804878235\n",
      "Parameter name: gamma\n",
      "Parameter shape: torch.Size([])\n",
      "Parameter value: Parameter containing:\n",
      "tensor(0.9553, device='cuda:0', requires_grad=True)\n",
      "\n"
     ]
    },
    {
     "name": "stderr",
     "output_type": "stream",
     "text": [
      "\n",
      "100%|██████████████████████████████████████████| 10/10 [00:00<00:00, 390.43it/s]\n",
      " 92%|███████████████████████████████████████▊   | 74/80 [00:05<00:00, 13.92it/s]"
     ]
    },
    {
     "name": "stdout",
     "output_type": "stream",
     "text": [
      "Gradient of gamma: 1.0834089181344098e-10\n",
      "Epoch 73 - Loss: 0.6931474804878235\n",
      "Parameter name: gamma\n",
      "Parameter shape: torch.Size([])\n",
      "Parameter value: Parameter containing:\n",
      "tensor(0.9551, device='cuda:0', requires_grad=True)\n",
      "\n"
     ]
    },
    {
     "name": "stderr",
     "output_type": "stream",
     "text": [
      "\n",
      "100%|██████████████████████████████████████████| 10/10 [00:00<00:00, 337.55it/s]\n"
     ]
    },
    {
     "name": "stdout",
     "output_type": "stream",
     "text": [
      "Gradient of gamma: 1.0844924958064439e-10\n",
      "Epoch 74 - Loss: 0.6931474804878235\n",
      "Parameter name: gamma\n",
      "Parameter shape: torch.Size([])\n",
      "Parameter value: Parameter containing:\n",
      "tensor(0.9549, device='cuda:0', requires_grad=True)\n",
      "\n"
     ]
    },
    {
     "name": "stderr",
     "output_type": "stream",
     "text": [
      "\n",
      "100%|██████████████████████████████████████████| 10/10 [00:00<00:00, 331.70it/s]\n",
      " 95%|████████████████████████████████████████▊  | 76/80 [00:05<00:00, 13.55it/s]"
     ]
    },
    {
     "name": "stdout",
     "output_type": "stream",
     "text": [
      "Gradient of gamma: 1.085203038542204e-10\n",
      "Epoch 75 - Loss: 0.6931474804878235\n",
      "Parameter name: gamma\n",
      "Parameter shape: torch.Size([])\n",
      "Parameter value: Parameter containing:\n",
      "tensor(0.9546, device='cuda:0', requires_grad=True)\n",
      "\n"
     ]
    },
    {
     "name": "stderr",
     "output_type": "stream",
     "text": [
      "\n",
      "100%|██████████████████████████████████████████| 10/10 [00:00<00:00, 359.83it/s]\n"
     ]
    },
    {
     "name": "stdout",
     "output_type": "stream",
     "text": [
      "Gradient of gamma: 1.0769962699441749e-10\n",
      "Epoch 76 - Loss: 0.6931474804878235\n",
      "Parameter name: gamma\n",
      "Parameter shape: torch.Size([])\n",
      "Parameter value: Parameter containing:\n",
      "tensor(0.9543, device='cuda:0', requires_grad=True)\n",
      "\n"
     ]
    },
    {
     "name": "stderr",
     "output_type": "stream",
     "text": [
      "\n",
      "100%|██████████████████████████████████████████| 10/10 [00:00<00:00, 326.42it/s]\n",
      " 98%|█████████████████████████████████████████▉ | 78/80 [00:05<00:00, 13.36it/s]"
     ]
    },
    {
     "name": "stdout",
     "output_type": "stream",
     "text": [
      "Gradient of gamma: 1.0614176204626347e-10\n",
      "Epoch 77 - Loss: 0.6931474804878235\n",
      "Parameter name: gamma\n",
      "Parameter shape: torch.Size([])\n",
      "Parameter value: Parameter containing:\n",
      "tensor(0.9540, device='cuda:0', requires_grad=True)\n",
      "\n"
     ]
    },
    {
     "name": "stderr",
     "output_type": "stream",
     "text": [
      "\n",
      "100%|██████████████████████████████████████████| 10/10 [00:00<00:00, 307.91it/s]\n"
     ]
    },
    {
     "name": "stdout",
     "output_type": "stream",
     "text": [
      "Gradient of gamma: 1.0598544264439624e-10\n",
      "Epoch 78 - Loss: 0.6931474804878235\n",
      "Parameter name: gamma\n",
      "Parameter shape: torch.Size([])\n",
      "Parameter value: Parameter containing:\n",
      "tensor(0.9537, device='cuda:0', requires_grad=True)\n",
      "\n"
     ]
    },
    {
     "name": "stderr",
     "output_type": "stream",
     "text": [
      "\n",
      "100%|██████████████████████████████████████████| 10/10 [00:00<00:00, 232.13it/s]\n",
      "100%|███████████████████████████████████████████| 80/80 [00:05<00:00, 13.75it/s]\n"
     ]
    },
    {
     "name": "stdout",
     "output_type": "stream",
     "text": [
      "Gradient of gamma: 1.0593215193921424e-10\n",
      "Epoch 79 - Loss: 0.6931474804878235\n",
      "Parameter name: gamma\n",
      "Parameter shape: torch.Size([])\n",
      "Parameter value: Parameter containing:\n",
      "tensor(0.9533, device='cuda:0', requires_grad=True)\n",
      "\n"
     ]
    },
    {
     "name": "stderr",
     "output_type": "stream",
     "text": [
      "  0%|                                                    | 0/80 [00:00<?, ?it/s]\n",
      "100%|██████████████████████████████████████████| 10/10 [00:00<00:00, 402.93it/s]\n"
     ]
    },
    {
     "name": "stdout",
     "output_type": "stream",
     "text": [
      "Gradient of gamma: 6.884336471557617e-06\n",
      "Epoch 0 - Loss: 0.6931456327438354\n",
      "Parameter name: gamma\n",
      "Parameter shape: torch.Size([])\n",
      "Parameter value: Parameter containing:\n",
      "tensor(1.0999, device='cuda:0', requires_grad=True)\n",
      "\n"
     ]
    },
    {
     "name": "stderr",
     "output_type": "stream",
     "text": [
      "\n",
      "100%|██████████████████████████████████████████| 10/10 [00:00<00:00, 413.46it/s]\n",
      "  2%|█                                           | 2/80 [00:00<00:05, 14.76it/s]"
     ]
    },
    {
     "name": "stdout",
     "output_type": "stream",
     "text": [
      "Gradient of gamma: 1.263665035367012e-05\n",
      "Epoch 1 - Loss: 0.693144679069519\n",
      "Parameter name: gamma\n",
      "Parameter shape: torch.Size([])\n",
      "Parameter value: Parameter containing:\n",
      "tensor(1.1972, device='cuda:0', requires_grad=True)\n",
      "\n"
     ]
    },
    {
     "name": "stderr",
     "output_type": "stream",
     "text": [
      "\n",
      "100%|██████████████████████████████████████████| 10/10 [00:00<00:00, 399.37it/s]\n"
     ]
    },
    {
     "name": "stdout",
     "output_type": "stream",
     "text": [
      "Gradient of gamma: 2.2290507331490517e-05\n",
      "Epoch 2 - Loss: 0.6931430101394653\n",
      "Parameter name: gamma\n",
      "Parameter shape: torch.Size([])\n",
      "Parameter value: Parameter containing:\n",
      "tensor(1.2916, device='cuda:0', requires_grad=True)\n",
      "\n"
     ]
    },
    {
     "name": "stderr",
     "output_type": "stream",
     "text": [
      "\n",
      "100%|██████████████████████████████████████████| 10/10 [00:00<00:00, 389.52it/s]"
     ]
    },
    {
     "name": "stdout",
     "output_type": "stream",
     "text": [
      "Gradient of gamma: 3.758678212761879e-05\n"
     ]
    },
    {
     "name": "stderr",
     "output_type": "stream",
     "text": [
      "\n",
      "  5%|██▏                                         | 4/80 [00:00<00:05, 14.75it/s]"
     ]
    },
    {
     "name": "stdout",
     "output_type": "stream",
     "text": [
      "Epoch 3 - Loss: 0.6931402087211609\n",
      "Parameter name: gamma\n",
      "Parameter shape: torch.Size([])\n",
      "Parameter value: Parameter containing:\n",
      "tensor(1.3837, device='cuda:0', requires_grad=True)\n",
      "\n"
     ]
    },
    {
     "name": "stderr",
     "output_type": "stream",
     "text": [
      "\n",
      "100%|██████████████████████████████████████████| 10/10 [00:00<00:00, 394.48it/s]\n"
     ]
    },
    {
     "name": "stdout",
     "output_type": "stream",
     "text": [
      "Gradient of gamma: 6.027938798069954e-05\n",
      "Epoch 4 - Loss: 0.6931358575820923\n",
      "Parameter name: gamma\n",
      "Parameter shape: torch.Size([])\n",
      "Parameter value: Parameter containing:\n",
      "tensor(1.4742, device='cuda:0', requires_grad=True)\n",
      "\n"
     ]
    },
    {
     "name": "stderr",
     "output_type": "stream",
     "text": [
      "\n",
      "100%|██████████████████████████████████████████| 10/10 [00:00<00:00, 390.18it/s]\n",
      "  8%|███▎                                        | 6/80 [00:00<00:05, 14.76it/s]"
     ]
    },
    {
     "name": "stdout",
     "output_type": "stream",
     "text": [
      "Gradient of gamma: 9.324122220277786e-05\n",
      "Epoch 5 - Loss: 0.6931292414665222\n",
      "Parameter name: gamma\n",
      "Parameter shape: torch.Size([])\n",
      "Parameter value: Parameter containing:\n",
      "tensor(1.5640, device='cuda:0', requires_grad=True)\n",
      "\n"
     ]
    },
    {
     "name": "stderr",
     "output_type": "stream",
     "text": [
      "\n",
      "100%|██████████████████████████████████████████| 10/10 [00:00<00:00, 394.69it/s]\n"
     ]
    },
    {
     "name": "stdout",
     "output_type": "stream",
     "text": [
      "Gradient of gamma: 0.00015098508447408676\n",
      "Epoch 6 - Loss: 0.6931172013282776\n",
      "Parameter name: gamma\n",
      "Parameter shape: torch.Size([])\n",
      "Parameter value: Parameter containing:\n",
      "tensor(1.6524, device='cuda:0', requires_grad=True)\n",
      "\n"
     ]
    },
    {
     "name": "stderr",
     "output_type": "stream",
     "text": [
      "\n",
      "100%|██████████████████████████████████████████| 10/10 [00:00<00:00, 350.48it/s]\n",
      " 10%|████▍                                       | 8/80 [00:00<00:04, 14.63it/s]"
     ]
    },
    {
     "name": "stdout",
     "output_type": "stream",
     "text": [
      "Gradient of gamma: 0.00021901912987232208\n",
      "Epoch 7 - Loss: 0.693102240562439\n",
      "Parameter name: gamma\n",
      "Parameter shape: torch.Size([])\n",
      "Parameter value: Parameter containing:\n",
      "tensor(1.7411, device='cuda:0', requires_grad=True)\n",
      "\n"
     ]
    },
    {
     "name": "stderr",
     "output_type": "stream",
     "text": [
      "\n",
      "100%|██████████████████████████████████████████| 10/10 [00:00<00:00, 413.67it/s]\n"
     ]
    },
    {
     "name": "stdout",
     "output_type": "stream",
     "text": [
      "Gradient of gamma: 0.0003175092861056328\n",
      "Epoch 8 - Loss: 0.693079948425293\n",
      "Parameter name: gamma\n",
      "Parameter shape: torch.Size([])\n",
      "Parameter value: Parameter containing:\n",
      "tensor(1.8303, device='cuda:0', requires_grad=True)\n",
      "\n"
     ]
    },
    {
     "name": "stderr",
     "output_type": "stream",
     "text": [
      "\n",
      "100%|██████████████████████████████████████████| 10/10 [00:00<00:00, 395.65it/s]\n",
      " 12%|█████▍                                     | 10/80 [00:00<00:04, 14.76it/s]"
     ]
    },
    {
     "name": "stdout",
     "output_type": "stream",
     "text": [
      "Gradient of gamma: 0.0004796842113137245\n",
      "Epoch 9 - Loss: 0.6930413246154785\n",
      "Parameter name: gamma\n",
      "Parameter shape: torch.Size([])\n",
      "Parameter value: Parameter containing:\n",
      "tensor(1.9196, device='cuda:0', requires_grad=True)\n",
      "\n"
     ]
    },
    {
     "name": "stderr",
     "output_type": "stream",
     "text": [
      "\n",
      "100%|██████████████████████████████████████████| 10/10 [00:00<00:00, 375.54it/s]\n"
     ]
    },
    {
     "name": "stdout",
     "output_type": "stream",
     "text": [
      "Gradient of gamma: 0.0006713490001857281\n",
      "Epoch 10 - Loss: 0.6929935812950134\n",
      "Parameter name: gamma\n",
      "Parameter shape: torch.Size([])\n",
      "Parameter value: Parameter containing:\n",
      "tensor(2.0098, device='cuda:0', requires_grad=True)\n",
      "\n"
     ]
    },
    {
     "name": "stderr",
     "output_type": "stream",
     "text": [
      "\n",
      "100%|██████████████████████████████████████████| 10/10 [00:00<00:00, 399.22it/s]\n",
      " 15%|██████▍                                    | 12/80 [00:00<00:04, 14.50it/s]"
     ]
    },
    {
     "name": "stdout",
     "output_type": "stream",
     "text": [
      "Gradient of gamma: 0.0009548226371407509\n",
      "Epoch 11 - Loss: 0.6929203271865845\n",
      "Parameter name: gamma\n",
      "Parameter shape: torch.Size([])\n",
      "Parameter value: Parameter containing:\n",
      "tensor(2.1009, device='cuda:0', requires_grad=True)\n",
      "\n"
     ]
    },
    {
     "name": "stderr",
     "output_type": "stream",
     "text": [
      "\n",
      "100%|██████████████████████████████████████████| 10/10 [00:00<00:00, 394.38it/s]\n"
     ]
    },
    {
     "name": "stdout",
     "output_type": "stream",
     "text": [
      "Gradient of gamma: 0.0013340101577341557\n",
      "Epoch 12 - Loss: 0.6928175687789917\n",
      "Parameter name: gamma\n",
      "Parameter shape: torch.Size([])\n",
      "Parameter value: Parameter containing:\n",
      "tensor(2.1930, device='cuda:0', requires_grad=True)\n",
      "\n"
     ]
    },
    {
     "name": "stderr",
     "output_type": "stream",
     "text": [
      "\n",
      "100%|██████████████████████████████████████████| 10/10 [00:00<00:00, 341.18it/s]\n",
      " 18%|███████▌                                   | 14/80 [00:00<00:04, 14.23it/s]"
     ]
    },
    {
     "name": "stdout",
     "output_type": "stream",
     "text": [
      "Gradient of gamma: 0.001875908114016056\n",
      "Epoch 13 - Loss: 0.6926654577255249\n",
      "Parameter name: gamma\n",
      "Parameter shape: torch.Size([])\n",
      "Parameter value: Parameter containing:\n",
      "tensor(2.2861, device='cuda:0', requires_grad=True)\n",
      "\n"
     ]
    },
    {
     "name": "stderr",
     "output_type": "stream",
     "text": [
      "\n",
      "100%|██████████████████████████████████████████| 10/10 [00:00<00:00, 347.92it/s]\n"
     ]
    },
    {
     "name": "stdout",
     "output_type": "stream",
     "text": [
      "Gradient of gamma: 0.00257644010707736\n",
      "Epoch 14 - Loss: 0.6924599409103394\n",
      "Parameter name: gamma\n",
      "Parameter shape: torch.Size([])\n",
      "Parameter value: Parameter containing:\n",
      "tensor(2.3804, device='cuda:0', requires_grad=True)\n",
      "\n"
     ]
    },
    {
     "name": "stderr",
     "output_type": "stream",
     "text": [
      "\n",
      "100%|██████████████████████████████████████████| 10/10 [00:00<00:00, 343.32it/s]\n",
      " 20%|████████▌                                  | 16/80 [00:01<00:04, 13.82it/s]"
     ]
    },
    {
     "name": "stdout",
     "output_type": "stream",
     "text": [
      "Gradient of gamma: 0.0034724404104053974\n",
      "Epoch 15 - Loss: 0.6921857595443726\n",
      "Parameter name: gamma\n",
      "Parameter shape: torch.Size([])\n",
      "Parameter value: Parameter containing:\n",
      "tensor(2.4762, device='cuda:0', requires_grad=True)\n",
      "\n"
     ]
    },
    {
     "name": "stderr",
     "output_type": "stream",
     "text": [
      "\n",
      "100%|██████████████████████████████████████████| 10/10 [00:00<00:00, 295.60it/s]\n"
     ]
    },
    {
     "name": "stdout",
     "output_type": "stream",
     "text": [
      "Gradient of gamma: 0.004766430705785751\n",
      "Epoch 16 - Loss: 0.6917786598205566\n",
      "Parameter name: gamma\n",
      "Parameter shape: torch.Size([])\n",
      "Parameter value: Parameter containing:\n",
      "tensor(2.5733, device='cuda:0', requires_grad=True)\n",
      "\n"
     ]
    },
    {
     "name": "stderr",
     "output_type": "stream",
     "text": [
      "\n",
      "100%|██████████████████████████████████████████| 10/10 [00:00<00:00, 342.77it/s]\n",
      " 22%|█████████▋                                 | 18/80 [00:01<00:04, 13.46it/s]"
     ]
    },
    {
     "name": "stdout",
     "output_type": "stream",
     "text": [
      "Gradient of gamma: 0.006305104587227106\n",
      "Epoch 17 - Loss: 0.6912698745727539\n",
      "Parameter name: gamma\n",
      "Parameter shape: torch.Size([])\n",
      "Parameter value: Parameter containing:\n",
      "tensor(2.6720, device='cuda:0', requires_grad=True)\n",
      "\n"
     ]
    },
    {
     "name": "stderr",
     "output_type": "stream",
     "text": [
      "\n",
      "100%|██████████████████████████████████████████| 10/10 [00:00<00:00, 305.29it/s]\n"
     ]
    },
    {
     "name": "stdout",
     "output_type": "stream",
     "text": [
      "Gradient of gamma: 0.008449189364910126\n",
      "Epoch 18 - Loss: 0.6905304193496704\n",
      "Parameter name: gamma\n",
      "Parameter shape: torch.Size([])\n",
      "Parameter value: Parameter containing:\n",
      "tensor(2.7723, device='cuda:0', requires_grad=True)\n",
      "\n"
     ]
    },
    {
     "name": "stderr",
     "output_type": "stream",
     "text": [
      "\n",
      "100%|██████████████████████████████████████████| 10/10 [00:00<00:00, 343.19it/s]\n",
      " 25%|██████████▊                                | 20/80 [00:01<00:04, 13.24it/s]"
     ]
    },
    {
     "name": "stdout",
     "output_type": "stream",
     "text": [
      "Gradient of gamma: 0.011388598009943962\n",
      "Epoch 19 - Loss: 0.6894758939743042\n",
      "Parameter name: gamma\n",
      "Parameter shape: torch.Size([])\n",
      "Parameter value: Parameter containing:\n",
      "tensor(2.8739, device='cuda:0', requires_grad=True)\n",
      "\n"
     ]
    },
    {
     "name": "stderr",
     "output_type": "stream",
     "text": [
      "\n",
      "100%|██████████████████████████████████████████| 10/10 [00:00<00:00, 375.09it/s]\n"
     ]
    },
    {
     "name": "stdout",
     "output_type": "stream",
     "text": [
      "Gradient of gamma: 0.014553610235452652\n",
      "Epoch 20 - Loss: 0.688286304473877\n",
      "Parameter name: gamma\n",
      "Parameter shape: torch.Size([])\n",
      "Parameter value: Parameter containing:\n",
      "tensor(2.9774, device='cuda:0', requires_grad=True)\n",
      "\n"
     ]
    },
    {
     "name": "stderr",
     "output_type": "stream",
     "text": [
      "\n",
      "100%|██████████████████████████████████████████| 10/10 [00:00<00:00, 349.77it/s]\n",
      " 28%|███████████▊                               | 22/80 [00:01<00:04, 13.33it/s]"
     ]
    },
    {
     "name": "stdout",
     "output_type": "stream",
     "text": [
      "Gradient of gamma: 0.018914027139544487\n",
      "Epoch 21 - Loss: 0.6865741014480591\n",
      "Parameter name: gamma\n",
      "Parameter shape: torch.Size([])\n",
      "Parameter value: Parameter containing:\n",
      "tensor(3.0828, device='cuda:0', requires_grad=True)\n",
      "\n"
     ]
    },
    {
     "name": "stderr",
     "output_type": "stream",
     "text": [
      "\n",
      "100%|██████████████████████████████████████████| 10/10 [00:00<00:00, 407.33it/s]\n"
     ]
    },
    {
     "name": "stdout",
     "output_type": "stream",
     "text": [
      "Gradient of gamma: 0.02453257329761982\n",
      "Epoch 22 - Loss: 0.6842554807662964\n",
      "Parameter name: gamma\n",
      "Parameter shape: torch.Size([])\n",
      "Parameter value: Parameter containing:\n",
      "tensor(3.1899, device='cuda:0', requires_grad=True)\n",
      "\n"
     ]
    },
    {
     "name": "stderr",
     "output_type": "stream",
     "text": [
      "\n",
      "100%|██████████████████████████████████████████| 10/10 [00:00<00:00, 393.23it/s]\n",
      " 30%|████████████▉                              | 24/80 [00:01<00:04, 13.79it/s]"
     ]
    },
    {
     "name": "stdout",
     "output_type": "stream",
     "text": [
      "Gradient of gamma: 0.03168812766671181\n",
      "Epoch 23 - Loss: 0.6811073422431946\n",
      "Parameter name: gamma\n",
      "Parameter shape: torch.Size([])\n",
      "Parameter value: Parameter containing:\n",
      "tensor(3.2988, device='cuda:0', requires_grad=True)\n",
      "\n"
     ]
    },
    {
     "name": "stderr",
     "output_type": "stream",
     "text": [
      "\n",
      "100%|██████████████████████████████████████████| 10/10 [00:00<00:00, 397.78it/s]\n"
     ]
    },
    {
     "name": "stdout",
     "output_type": "stream",
     "text": [
      "Gradient of gamma: 0.039115361869335175\n",
      "Epoch 24 - Loss: 0.6775959730148315\n",
      "Parameter name: gamma\n",
      "Parameter shape: torch.Size([])\n",
      "Parameter value: Parameter containing:\n",
      "tensor(3.4099, device='cuda:0', requires_grad=True)\n",
      "\n"
     ]
    },
    {
     "name": "stderr",
     "output_type": "stream",
     "text": [
      "\n",
      "100%|██████████████████████████████████████████| 10/10 [00:00<00:00, 389.72it/s]\n",
      " 32%|█████████████▉                             | 26/80 [00:01<00:03, 13.92it/s]"
     ]
    },
    {
     "name": "stdout",
     "output_type": "stream",
     "text": [
      "Gradient of gamma: 0.04951293021440506\n",
      "Epoch 25 - Loss: 0.6721986532211304\n",
      "Parameter name: gamma\n",
      "Parameter shape: torch.Size([])\n",
      "Parameter value: Parameter containing:\n",
      "tensor(3.5229, device='cuda:0', requires_grad=True)\n",
      "\n"
     ]
    },
    {
     "name": "stderr",
     "output_type": "stream",
     "text": [
      "\n",
      "100%|██████████████████████████████████████████| 10/10 [00:00<00:00, 388.46it/s]\n"
     ]
    },
    {
     "name": "stdout",
     "output_type": "stream",
     "text": [
      "Gradient of gamma: 0.05938168615102768\n",
      "Epoch 26 - Loss: 0.6663788557052612\n",
      "Parameter name: gamma\n",
      "Parameter shape: torch.Size([])\n",
      "Parameter value: Parameter containing:\n",
      "tensor(3.6383, device='cuda:0', requires_grad=True)\n",
      "\n"
     ]
    },
    {
     "name": "stderr",
     "output_type": "stream",
     "text": [
      "\n",
      "100%|██████████████████████████████████████████| 10/10 [00:00<00:00, 360.16it/s]\n",
      " 35%|███████████████                            | 28/80 [00:01<00:03, 13.99it/s]"
     ]
    },
    {
     "name": "stdout",
     "output_type": "stream",
     "text": [
      "Gradient of gamma: 0.06968817114830017\n",
      "Epoch 27 - Loss: 0.6590110063552856\n",
      "Parameter name: gamma\n",
      "Parameter shape: torch.Size([])\n",
      "Parameter value: Parameter containing:\n",
      "tensor(3.7562, device='cuda:0', requires_grad=True)\n",
      "\n"
     ]
    },
    {
     "name": "stderr",
     "output_type": "stream",
     "text": [
      "\n",
      "100%|██████████████████████████████████████████| 10/10 [00:00<00:00, 405.32it/s]\n"
     ]
    },
    {
     "name": "stdout",
     "output_type": "stream",
     "text": [
      "Gradient of gamma: 0.07855034619569778\n",
      "Epoch 28 - Loss: 0.6500760316848755\n",
      "Parameter name: gamma\n",
      "Parameter shape: torch.Size([])\n",
      "Parameter value: Parameter containing:\n",
      "tensor(3.8769, device='cuda:0', requires_grad=True)\n",
      "\n"
     ]
    },
    {
     "name": "stderr",
     "output_type": "stream",
     "text": [
      "\n",
      "100%|██████████████████████████████████████████| 10/10 [00:00<00:00, 411.07it/s]"
     ]
    },
    {
     "name": "stdout",
     "output_type": "stream",
     "text": [
      "Gradient of gamma: 0.08248324692249298\n"
     ]
    },
    {
     "name": "stderr",
     "output_type": "stream",
     "text": [
      "\n",
      " 38%|████████████████▏                          | 30/80 [00:02<00:03, 14.22it/s]"
     ]
    },
    {
     "name": "stdout",
     "output_type": "stream",
     "text": [
      "Epoch 29 - Loss: 0.6405096650123596\n",
      "Parameter name: gamma\n",
      "Parameter shape: torch.Size([])\n",
      "Parameter value: Parameter containing:\n",
      "tensor(4.0006, device='cuda:0', requires_grad=True)\n",
      "\n"
     ]
    },
    {
     "name": "stderr",
     "output_type": "stream",
     "text": [
      "\n",
      "100%|██████████████████████████████████████████| 10/10 [00:00<00:00, 350.44it/s]\n"
     ]
    },
    {
     "name": "stdout",
     "output_type": "stream",
     "text": [
      "Gradient of gamma: 0.07757692039012909\n",
      "Epoch 30 - Loss: 0.629665195941925\n",
      "Parameter name: gamma\n",
      "Parameter shape: torch.Size([])\n",
      "Parameter value: Parameter containing:\n",
      "tensor(4.1270, device='cuda:0', requires_grad=True)\n",
      "\n"
     ]
    },
    {
     "name": "stderr",
     "output_type": "stream",
     "text": [
      "\n",
      "100%|██████████████████████████████████████████| 10/10 [00:00<00:00, 372.17it/s]\n",
      " 40%|█████████████████▏                         | 32/80 [00:02<00:03, 14.15it/s]"
     ]
    },
    {
     "name": "stdout",
     "output_type": "stream",
     "text": [
      "Gradient of gamma: 0.06231275945901871\n",
      "Epoch 31 - Loss: 0.621038019657135\n",
      "Parameter name: gamma\n",
      "Parameter shape: torch.Size([])\n",
      "Parameter value: Parameter containing:\n",
      "tensor(4.2547, device='cuda:0', requires_grad=True)\n",
      "\n"
     ]
    },
    {
     "name": "stderr",
     "output_type": "stream",
     "text": [
      "\n",
      "100%|██████████████████████████████████████████| 10/10 [00:00<00:00, 383.24it/s]\n"
     ]
    },
    {
     "name": "stdout",
     "output_type": "stream",
     "text": [
      "Gradient of gamma: 0.03759746998548508\n",
      "Epoch 32 - Loss: 0.6145703792572021\n",
      "Parameter name: gamma\n",
      "Parameter shape: torch.Size([])\n",
      "Parameter value: Parameter containing:\n",
      "tensor(4.3802, device='cuda:0', requires_grad=True)\n",
      "\n"
     ]
    },
    {
     "name": "stderr",
     "output_type": "stream",
     "text": [
      "\n",
      "100%|██████████████████████████████████████████| 10/10 [00:00<00:00, 393.38it/s]\n",
      " 42%|██████████████████▎                        | 34/80 [00:02<00:03, 14.27it/s]"
     ]
    },
    {
     "name": "stdout",
     "output_type": "stream",
     "text": [
      "Gradient of gamma: 0.01951778307557106\n",
      "Epoch 33 - Loss: 0.6120363473892212\n",
      "Parameter name: gamma\n",
      "Parameter shape: torch.Size([])\n",
      "Parameter value: Parameter containing:\n",
      "tensor(4.4997, device='cuda:0', requires_grad=True)\n",
      "\n"
     ]
    },
    {
     "name": "stderr",
     "output_type": "stream",
     "text": [
      "\n",
      "100%|██████████████████████████████████████████| 10/10 [00:00<00:00, 415.06it/s]\n"
     ]
    },
    {
     "name": "stdout",
     "output_type": "stream",
     "text": [
      "Gradient of gamma: 0.001387875177897513\n",
      "Epoch 34 - Loss: 0.610874354839325\n",
      "Parameter name: gamma\n",
      "Parameter shape: torch.Size([])\n",
      "Parameter value: Parameter containing:\n",
      "tensor(4.6081, device='cuda:0', requires_grad=True)\n",
      "\n"
     ]
    },
    {
     "name": "stderr",
     "output_type": "stream",
     "text": [
      "\n",
      "100%|██████████████████████████████████████████| 10/10 [00:00<00:00, 337.93it/s]\n",
      " 45%|███████████████████▎                       | 36/80 [00:02<00:03, 14.13it/s]"
     ]
    },
    {
     "name": "stdout",
     "output_type": "stream",
     "text": [
      "Gradient of gamma: 0.007146322168409824\n",
      "Epoch 35 - Loss: 0.6114426255226135\n",
      "Parameter name: gamma\n",
      "Parameter shape: torch.Size([])\n",
      "Parameter value: Parameter containing:\n",
      "tensor(4.7046, device='cuda:0', requires_grad=True)\n",
      "\n"
     ]
    },
    {
     "name": "stderr",
     "output_type": "stream",
     "text": [
      "\n",
      "100%|██████████████████████████████████████████| 10/10 [00:00<00:00, 341.25it/s]\n"
     ]
    },
    {
     "name": "stdout",
     "output_type": "stream",
     "text": [
      "Gradient of gamma: 0.0066416142508387566\n",
      "Epoch 36 - Loss: 0.6121817827224731\n",
      "Parameter name: gamma\n",
      "Parameter shape: torch.Size([])\n",
      "Parameter value: Parameter containing:\n",
      "tensor(4.7904, device='cuda:0', requires_grad=True)\n",
      "\n"
     ]
    },
    {
     "name": "stderr",
     "output_type": "stream",
     "text": [
      "\n",
      "100%|██████████████████████████████████████████| 10/10 [00:00<00:00, 306.22it/s]\n",
      " 48%|████████████████████▍                      | 38/80 [00:02<00:03, 13.48it/s]"
     ]
    },
    {
     "name": "stdout",
     "output_type": "stream",
     "text": [
      "Gradient of gamma: 0.004805771633982658\n",
      "Epoch 37 - Loss: 0.6126354932785034\n",
      "Parameter name: gamma\n",
      "Parameter shape: torch.Size([])\n",
      "Parameter value: Parameter containing:\n",
      "tensor(4.8670, device='cuda:0', requires_grad=True)\n",
      "\n"
     ]
    },
    {
     "name": "stderr",
     "output_type": "stream",
     "text": [
      "\n",
      "100%|██████████████████████████████████████████| 10/10 [00:00<00:00, 299.61it/s]\n"
     ]
    },
    {
     "name": "stdout",
     "output_type": "stream",
     "text": [
      "Gradient of gamma: 0.0030698077753186226\n",
      "Epoch 38 - Loss: 0.6129220724105835\n",
      "Parameter name: gamma\n",
      "Parameter shape: torch.Size([])\n",
      "Parameter value: Parameter containing:\n",
      "tensor(4.9357, device='cuda:0', requires_grad=True)\n",
      "\n"
     ]
    },
    {
     "name": "stderr",
     "output_type": "stream",
     "text": [
      "\n",
      "100%|██████████████████████████████████████████| 10/10 [00:00<00:00, 274.87it/s]\n",
      " 50%|█████████████████████▌                     | 40/80 [00:02<00:03, 12.81it/s]"
     ]
    },
    {
     "name": "stdout",
     "output_type": "stream",
     "text": [
      "Gradient of gamma: 0.002431220840662718\n",
      "Epoch 39 - Loss: 0.613006591796875\n",
      "Parameter name: gamma\n",
      "Parameter shape: torch.Size([])\n",
      "Parameter value: Parameter containing:\n",
      "tensor(4.9974, device='cuda:0', requires_grad=True)\n",
      "\n"
     ]
    },
    {
     "name": "stderr",
     "output_type": "stream",
     "text": [
      "\n",
      "100%|██████████████████████████████████████████| 10/10 [00:00<00:00, 286.86it/s]\n"
     ]
    },
    {
     "name": "stdout",
     "output_type": "stream",
     "text": [
      "Gradient of gamma: 0.0009809331968426704\n",
      "Epoch 40 - Loss: 0.6131771802902222\n",
      "Parameter name: gamma\n",
      "Parameter shape: torch.Size([])\n",
      "Parameter value: Parameter containing:\n",
      "tensor(5.0533, device='cuda:0', requires_grad=True)\n",
      "\n"
     ]
    },
    {
     "name": "stderr",
     "output_type": "stream",
     "text": [
      "\n",
      "100%|██████████████████████████████████████████| 10/10 [00:00<00:00, 352.02it/s]\n",
      " 52%|██████████████████████▌                    | 42/80 [00:03<00:02, 12.78it/s]"
     ]
    },
    {
     "name": "stdout",
     "output_type": "stream",
     "text": [
      "Gradient of gamma: 0.0005382166127674282\n",
      "Epoch 41 - Loss: 0.6132196187973022\n",
      "Parameter name: gamma\n",
      "Parameter shape: torch.Size([])\n",
      "Parameter value: Parameter containing:\n",
      "tensor(5.1039, device='cuda:0', requires_grad=True)\n",
      "\n"
     ]
    },
    {
     "name": "stderr",
     "output_type": "stream",
     "text": [
      "\n",
      "100%|██████████████████████████████████████████| 10/10 [00:00<00:00, 390.92it/s]\n"
     ]
    },
    {
     "name": "stdout",
     "output_type": "stream",
     "text": [
      "Gradient of gamma: 0.0005066629382781684\n",
      "Epoch 42 - Loss: 0.6132219433784485\n",
      "Parameter name: gamma\n",
      "Parameter shape: torch.Size([])\n",
      "Parameter value: Parameter containing:\n",
      "tensor(5.1498, device='cuda:0', requires_grad=True)\n",
      "\n"
     ]
    },
    {
     "name": "stderr",
     "output_type": "stream",
     "text": [
      "\n",
      "100%|██████████████████████████████████████████| 10/10 [00:00<00:00, 353.26it/s]\n",
      " 55%|███████████████████████▋                   | 44/80 [00:03<00:02, 13.15it/s]"
     ]
    },
    {
     "name": "stdout",
     "output_type": "stream",
     "text": [
      "Gradient of gamma: 0.00017132045468315482\n",
      "Epoch 43 - Loss: 0.6132501363754272\n",
      "Parameter name: gamma\n",
      "Parameter shape: torch.Size([])\n",
      "Parameter value: Parameter containing:\n",
      "tensor(5.1915, device='cuda:0', requires_grad=True)\n",
      "\n"
     ]
    },
    {
     "name": "stderr",
     "output_type": "stream",
     "text": [
      "\n",
      "100%|██████████████████████████████████████████| 10/10 [00:00<00:00, 403.48it/s]\n"
     ]
    },
    {
     "name": "stdout",
     "output_type": "stream",
     "text": [
      "Gradient of gamma: 0.00017193288658745587\n",
      "Epoch 44 - Loss: 0.6132500171661377\n",
      "Parameter name: gamma\n",
      "Parameter shape: torch.Size([])\n",
      "Parameter value: Parameter containing:\n",
      "tensor(5.2294, device='cuda:0', requires_grad=True)\n",
      "\n"
     ]
    },
    {
     "name": "stderr",
     "output_type": "stream",
     "text": [
      "\n",
      "100%|██████████████████████████████████████████| 10/10 [00:00<00:00, 378.85it/s]\n",
      " 57%|████████████████████████▋                  | 46/80 [00:03<00:02, 13.55it/s]"
     ]
    },
    {
     "name": "stdout",
     "output_type": "stream",
     "text": [
      "Gradient of gamma: 5.205655179452151e-05\n",
      "Epoch 45 - Loss: 0.6132587194442749\n",
      "Parameter name: gamma\n",
      "Parameter shape: torch.Size([])\n",
      "Parameter value: Parameter containing:\n",
      "tensor(5.2639, device='cuda:0', requires_grad=True)\n",
      "\n"
     ]
    },
    {
     "name": "stderr",
     "output_type": "stream",
     "text": [
      "\n",
      "100%|██████████████████████████████████████████| 10/10 [00:00<00:00, 377.75it/s]\n"
     ]
    },
    {
     "name": "stdout",
     "output_type": "stream",
     "text": [
      "Gradient of gamma: 2.9161066777305678e-05\n",
      "Epoch 46 - Loss: 0.61326003074646\n",
      "Parameter name: gamma\n",
      "Parameter shape: torch.Size([])\n",
      "Parameter value: Parameter containing:\n",
      "tensor(5.2951, device='cuda:0', requires_grad=True)\n",
      "\n"
     ]
    },
    {
     "name": "stderr",
     "output_type": "stream",
     "text": [
      "\n",
      "100%|██████████████████████████████████████████| 10/10 [00:00<00:00, 396.88it/s]\n",
      " 60%|█████████████████████████▊                 | 48/80 [00:03<00:02, 13.89it/s]"
     ]
    },
    {
     "name": "stdout",
     "output_type": "stream",
     "text": [
      "Gradient of gamma: 1.8799422832671553e-05\n",
      "Epoch 47 - Loss: 0.6132606267929077\n",
      "Parameter name: gamma\n",
      "Parameter shape: torch.Size([])\n",
      "Parameter value: Parameter containing:\n",
      "tensor(5.3236, device='cuda:0', requires_grad=True)\n",
      "\n"
     ]
    },
    {
     "name": "stderr",
     "output_type": "stream",
     "text": [
      "\n",
      "100%|██████████████████████████████████████████| 10/10 [00:00<00:00, 370.54it/s]\n"
     ]
    },
    {
     "name": "stdout",
     "output_type": "stream",
     "text": [
      "Gradient of gamma: 2.4076214685919695e-05\n",
      "Epoch 48 - Loss: 0.6132603883743286\n",
      "Parameter name: gamma\n",
      "Parameter shape: torch.Size([])\n",
      "Parameter value: Parameter containing:\n",
      "tensor(5.3494, device='cuda:0', requires_grad=True)\n",
      "\n"
     ]
    },
    {
     "name": "stderr",
     "output_type": "stream",
     "text": [
      "\n",
      "100%|██████████████████████████████████████████| 10/10 [00:00<00:00, 336.76it/s]\n",
      " 62%|██████████████████████████▉                | 50/80 [00:03<00:02, 13.91it/s]"
     ]
    },
    {
     "name": "stdout",
     "output_type": "stream",
     "text": [
      "Gradient of gamma: 1.5030886970635038e-05\n",
      "Epoch 49 - Loss: 0.6132608652114868\n",
      "Parameter name: gamma\n",
      "Parameter shape: torch.Size([])\n",
      "Parameter value: Parameter containing:\n",
      "tensor(5.3729, device='cuda:0', requires_grad=True)\n",
      "\n"
     ]
    },
    {
     "name": "stderr",
     "output_type": "stream",
     "text": [
      "\n",
      "100%|██████████████████████████████████████████| 10/10 [00:00<00:00, 380.26it/s]\n"
     ]
    },
    {
     "name": "stdout",
     "output_type": "stream",
     "text": [
      "Gradient of gamma: 9.724493793328293e-06\n",
      "Epoch 50 - Loss: 0.6132611036300659\n",
      "Parameter name: gamma\n",
      "Parameter shape: torch.Size([])\n",
      "Parameter value: Parameter containing:\n",
      "tensor(5.3836, device='cuda:0', requires_grad=True)\n",
      "\n"
     ]
    },
    {
     "name": "stderr",
     "output_type": "stream",
     "text": [
      "\n",
      "100%|██████████████████████████████████████████| 10/10 [00:00<00:00, 382.21it/s]\n",
      " 65%|███████████████████████████▉               | 52/80 [00:03<00:01, 14.11it/s]"
     ]
    },
    {
     "name": "stdout",
     "output_type": "stream",
     "text": [
      "Gradient of gamma: 3.834341896435944e-06\n",
      "Epoch 51 - Loss: 0.6132614612579346\n",
      "Parameter name: gamma\n",
      "Parameter shape: torch.Size([])\n",
      "Parameter value: Parameter containing:\n",
      "tensor(5.3933, device='cuda:0', requires_grad=True)\n",
      "\n"
     ]
    },
    {
     "name": "stderr",
     "output_type": "stream",
     "text": [
      "\n",
      "100%|██████████████████████████████████████████| 10/10 [00:00<00:00, 334.63it/s]\n"
     ]
    },
    {
     "name": "stdout",
     "output_type": "stream",
     "text": [
      "Gradient of gamma: 6.9138786784606054e-06\n",
      "Epoch 52 - Loss: 0.613261342048645\n",
      "Parameter name: gamma\n",
      "Parameter shape: torch.Size([])\n",
      "Parameter value: Parameter containing:\n",
      "tensor(5.4021, device='cuda:0', requires_grad=True)\n",
      "\n"
     ]
    },
    {
     "name": "stderr",
     "output_type": "stream",
     "text": [
      "\n",
      "100%|██████████████████████████████████████████| 10/10 [00:00<00:00, 407.17it/s]\n",
      " 68%|█████████████████████████████              | 54/80 [00:03<00:01, 14.23it/s]"
     ]
    },
    {
     "name": "stdout",
     "output_type": "stream",
     "text": [
      "Gradient of gamma: 2.735179350565886e-06\n",
      "Epoch 53 - Loss: 0.6132615804672241\n",
      "Parameter name: gamma\n",
      "Parameter shape: torch.Size([])\n",
      "Parameter value: Parameter containing:\n",
      "tensor(5.4101, device='cuda:0', requires_grad=True)\n",
      "\n"
     ]
    },
    {
     "name": "stderr",
     "output_type": "stream",
     "text": [
      "\n",
      "100%|██████████████████████████████████████████| 10/10 [00:00<00:00, 333.05it/s]\n"
     ]
    },
    {
     "name": "stdout",
     "output_type": "stream",
     "text": [
      "Gradient of gamma: 2.333328893655562e-06\n",
      "Epoch 54 - Loss: 0.6132615804672241\n",
      "Parameter name: gamma\n",
      "Parameter shape: torch.Size([])\n",
      "Parameter value: Parameter containing:\n",
      "tensor(5.4173, device='cuda:0', requires_grad=True)\n",
      "\n"
     ]
    },
    {
     "name": "stderr",
     "output_type": "stream",
     "text": [
      "\n",
      "100%|██████████████████████████████████████████| 10/10 [00:00<00:00, 348.79it/s]\n",
      " 70%|██████████████████████████████             | 56/80 [00:04<00:01, 13.91it/s]"
     ]
    },
    {
     "name": "stdout",
     "output_type": "stream",
     "text": [
      "Gradient of gamma: 1.962582700798521e-06\n",
      "Epoch 55 - Loss: 0.6132615804672241\n",
      "Parameter name: gamma\n",
      "Parameter shape: torch.Size([])\n",
      "Parameter value: Parameter containing:\n",
      "tensor(5.4239, device='cuda:0', requires_grad=True)\n",
      "\n"
     ]
    },
    {
     "name": "stderr",
     "output_type": "stream",
     "text": [
      "\n",
      "100%|██████████████████████████████████████████| 10/10 [00:00<00:00, 235.09it/s]\n"
     ]
    },
    {
     "name": "stdout",
     "output_type": "stream",
     "text": [
      "Gradient of gamma: 4.171293767285533e-06\n",
      "Epoch 56 - Loss: 0.6132614612579346\n",
      "Parameter name: gamma\n",
      "Parameter shape: torch.Size([])\n",
      "Parameter value: Parameter containing:\n",
      "tensor(5.4299, device='cuda:0', requires_grad=True)\n",
      "\n"
     ]
    },
    {
     "name": "stderr",
     "output_type": "stream",
     "text": [
      "\n",
      "100%|██████████████████████████████████████████| 10/10 [00:00<00:00, 294.18it/s]\n",
      " 72%|███████████████████████████████▏           | 58/80 [00:04<00:01, 13.06it/s]"
     ]
    },
    {
     "name": "stdout",
     "output_type": "stream",
     "text": [
      "Gradient of gamma: 1.5384534890472423e-06\n",
      "Epoch 57 - Loss: 0.6132616400718689\n",
      "Parameter name: gamma\n",
      "Parameter shape: torch.Size([])\n",
      "Parameter value: Parameter containing:\n",
      "tensor(5.4354, device='cuda:0', requires_grad=True)\n",
      "\n"
     ]
    },
    {
     "name": "stderr",
     "output_type": "stream",
     "text": [
      "\n",
      "100%|██████████████████████████████████████████| 10/10 [00:00<00:00, 341.11it/s]\n"
     ]
    },
    {
     "name": "stdout",
     "output_type": "stream",
     "text": [
      "Gradient of gamma: 1.2899035937152803e-06\n",
      "Epoch 58 - Loss: 0.6132615804672241\n",
      "Parameter name: gamma\n",
      "Parameter shape: torch.Size([])\n",
      "Parameter value: Parameter containing:\n",
      "tensor(5.4403, device='cuda:0', requires_grad=True)\n",
      "\n"
     ]
    },
    {
     "name": "stderr",
     "output_type": "stream",
     "text": [
      "\n",
      "100%|██████████████████████████████████████████| 10/10 [00:00<00:00, 343.30it/s]\n",
      " 75%|████████████████████████████████▎          | 60/80 [00:04<00:01, 13.04it/s]"
     ]
    },
    {
     "name": "stdout",
     "output_type": "stream",
     "text": [
      "Gradient of gamma: 1.1482577519927872e-06\n",
      "Epoch 59 - Loss: 0.6132616400718689\n",
      "Parameter name: gamma\n",
      "Parameter shape: torch.Size([])\n",
      "Parameter value: Parameter containing:\n",
      "tensor(5.4448, device='cuda:0', requires_grad=True)\n",
      "\n"
     ]
    },
    {
     "name": "stderr",
     "output_type": "stream",
     "text": [
      "\n",
      "100%|██████████████████████████████████████████| 10/10 [00:00<00:00, 376.53it/s]\n"
     ]
    },
    {
     "name": "stdout",
     "output_type": "stream",
     "text": [
      "Gradient of gamma: 1.1454528703325195e-06\n",
      "Epoch 60 - Loss: 0.6132616400718689\n",
      "Parameter name: gamma\n",
      "Parameter shape: torch.Size([])\n",
      "Parameter value: Parameter containing:\n",
      "tensor(5.4488, device='cuda:0', requires_grad=True)\n",
      "\n"
     ]
    },
    {
     "name": "stderr",
     "output_type": "stream",
     "text": [
      "\n",
      "100%|██████████████████████████████████████████| 10/10 [00:00<00:00, 322.37it/s]\n",
      " 78%|█████████████████████████████████▎         | 62/80 [00:04<00:01, 13.06it/s]"
     ]
    },
    {
     "name": "stdout",
     "output_type": "stream",
     "text": [
      "Gradient of gamma: 2.1906939764448907e-06\n",
      "Epoch 61 - Loss: 0.6132615208625793\n",
      "Parameter name: gamma\n",
      "Parameter shape: torch.Size([])\n",
      "Parameter value: Parameter containing:\n",
      "tensor(5.4525, device='cuda:0', requires_grad=True)\n",
      "\n"
     ]
    },
    {
     "name": "stderr",
     "output_type": "stream",
     "text": [
      "\n",
      "100%|██████████████████████████████████████████| 10/10 [00:00<00:00, 338.97it/s]\n"
     ]
    },
    {
     "name": "stdout",
     "output_type": "stream",
     "text": [
      "Gradient of gamma: 9.235497486770328e-07\n",
      "Epoch 62 - Loss: 0.6132615804672241\n",
      "Parameter name: gamma\n",
      "Parameter shape: torch.Size([])\n",
      "Parameter value: Parameter containing:\n",
      "tensor(5.4559, device='cuda:0', requires_grad=True)\n",
      "\n"
     ]
    },
    {
     "name": "stderr",
     "output_type": "stream",
     "text": [
      "\n",
      "100%|██████████████████████████████████████████| 10/10 [00:00<00:00, 383.91it/s]\n",
      " 80%|██████████████████████████████████▍        | 64/80 [00:04<00:01, 13.31it/s]"
     ]
    },
    {
     "name": "stdout",
     "output_type": "stream",
     "text": [
      "Gradient of gamma: 9.252593144992716e-07\n",
      "Epoch 63 - Loss: 0.6132615804672241\n",
      "Parameter name: gamma\n",
      "Parameter shape: torch.Size([])\n",
      "Parameter value: Parameter containing:\n",
      "tensor(5.4589, device='cuda:0', requires_grad=True)\n",
      "\n"
     ]
    },
    {
     "name": "stderr",
     "output_type": "stream",
     "text": [
      "\n",
      "100%|██████████████████████████████████████████| 10/10 [00:00<00:00, 399.64it/s]\n"
     ]
    },
    {
     "name": "stdout",
     "output_type": "stream",
     "text": [
      "Gradient of gamma: 1.909561660795589e-06\n",
      "Epoch 64 - Loss: 0.6132615804672241\n",
      "Parameter name: gamma\n",
      "Parameter shape: torch.Size([])\n",
      "Parameter value: Parameter containing:\n",
      "tensor(5.4617, device='cuda:0', requires_grad=True)\n",
      "\n"
     ]
    },
    {
     "name": "stderr",
     "output_type": "stream",
     "text": [
      "\n",
      "100%|██████████████████████████████████████████| 10/10 [00:00<00:00, 373.73it/s]\n",
      " 82%|███████████████████████████████████▍       | 66/80 [00:04<00:01, 13.56it/s]"
     ]
    },
    {
     "name": "stdout",
     "output_type": "stream",
     "text": [
      "Gradient of gamma: 7.632640972587978e-07\n",
      "Epoch 65 - Loss: 0.6132616996765137\n",
      "Parameter name: gamma\n",
      "Parameter shape: torch.Size([])\n",
      "Parameter value: Parameter containing:\n",
      "tensor(5.4641, device='cuda:0', requires_grad=True)\n",
      "\n"
     ]
    },
    {
     "name": "stderr",
     "output_type": "stream",
     "text": [
      "\n",
      "100%|██████████████████████████████████████████| 10/10 [00:00<00:00, 362.25it/s]\n"
     ]
    },
    {
     "name": "stdout",
     "output_type": "stream",
     "text": [
      "Gradient of gamma: 1.6814946093290928e-06\n",
      "Epoch 66 - Loss: 0.6132616400718689\n",
      "Parameter name: gamma\n",
      "Parameter shape: torch.Size([])\n",
      "Parameter value: Parameter containing:\n",
      "tensor(5.4664, device='cuda:0', requires_grad=True)\n",
      "\n"
     ]
    },
    {
     "name": "stderr",
     "output_type": "stream",
     "text": [
      "\n",
      "100%|██████████████████████████████████████████| 10/10 [00:00<00:00, 423.59it/s]\n",
      " 85%|████████████████████████████████████▌      | 68/80 [00:04<00:00, 13.80it/s]"
     ]
    },
    {
     "name": "stdout",
     "output_type": "stream",
     "text": [
      "Gradient of gamma: 7.125454430934042e-07\n",
      "Epoch 67 - Loss: 0.6132616996765137\n",
      "Parameter name: gamma\n",
      "Parameter shape: torch.Size([])\n",
      "Parameter value: Parameter containing:\n",
      "tensor(5.4685, device='cuda:0', requires_grad=True)\n",
      "\n"
     ]
    },
    {
     "name": "stderr",
     "output_type": "stream",
     "text": [
      "\n",
      "100%|██████████████████████████████████████████| 10/10 [00:00<00:00, 367.68it/s]\n"
     ]
    },
    {
     "name": "stdout",
     "output_type": "stream",
     "text": [
      "Gradient of gamma: 6.353249091262114e-07\n",
      "Epoch 68 - Loss: 0.6132616996765137\n",
      "Parameter name: gamma\n",
      "Parameter shape: torch.Size([])\n",
      "Parameter value: Parameter containing:\n",
      "tensor(5.4703, device='cuda:0', requires_grad=True)\n",
      "\n"
     ]
    },
    {
     "name": "stderr",
     "output_type": "stream",
     "text": [
      "\n",
      "100%|██████████████████████████████████████████| 10/10 [00:00<00:00, 397.33it/s]\n"
     ]
    },
    {
     "name": "stdout",
     "output_type": "stream",
     "text": [
      "Gradient of gamma: 1.5038654055388179e-06\n"
     ]
    },
    {
     "name": "stderr",
     "output_type": "stream",
     "text": [
      " 88%|█████████████████████████████████████▋     | 70/80 [00:05<00:00, 14.09it/s]"
     ]
    },
    {
     "name": "stdout",
     "output_type": "stream",
     "text": [
      "Epoch 69 - Loss: 0.6132616400718689\n",
      "Parameter name: gamma\n",
      "Parameter shape: torch.Size([])\n",
      "Parameter value: Parameter containing:\n",
      "tensor(5.4720, device='cuda:0', requires_grad=True)\n",
      "\n"
     ]
    },
    {
     "name": "stderr",
     "output_type": "stream",
     "text": [
      "\n",
      "100%|██████████████████████████████████████████| 10/10 [00:00<00:00, 412.31it/s]\n"
     ]
    },
    {
     "name": "stdout",
     "output_type": "stream",
     "text": [
      "Gradient of gamma: 1.4511197150568478e-06\n",
      "Epoch 70 - Loss: 0.6132616400718689\n",
      "Parameter name: gamma\n",
      "Parameter shape: torch.Size([])\n",
      "Parameter value: Parameter containing:\n",
      "tensor(5.4735, device='cuda:0', requires_grad=True)\n",
      "\n"
     ]
    },
    {
     "name": "stderr",
     "output_type": "stream",
     "text": [
      "\n",
      "100%|██████████████████████████████████████████| 10/10 [00:00<00:00, 386.61it/s]\n",
      " 90%|██████████████████████████████████████▋    | 72/80 [00:05<00:00, 14.25it/s]"
     ]
    },
    {
     "name": "stdout",
     "output_type": "stream",
     "text": [
      "Gradient of gamma: 4.5857220243306074e-07\n",
      "Epoch 71 - Loss: 0.6132616996765137\n",
      "Parameter name: gamma\n",
      "Parameter shape: torch.Size([])\n",
      "Parameter value: Parameter containing:\n",
      "tensor(5.4749, device='cuda:0', requires_grad=True)\n",
      "\n"
     ]
    },
    {
     "name": "stderr",
     "output_type": "stream",
     "text": [
      "\n",
      "100%|██████████████████████████████████████████| 10/10 [00:00<00:00, 416.47it/s]\n"
     ]
    },
    {
     "name": "stdout",
     "output_type": "stream",
     "text": [
      "Gradient of gamma: 4.765873882206506e-07\n",
      "Epoch 72 - Loss: 0.6132616996765137\n",
      "Parameter name: gamma\n",
      "Parameter shape: torch.Size([])\n",
      "Parameter value: Parameter containing:\n",
      "tensor(5.4762, device='cuda:0', requires_grad=True)\n",
      "\n"
     ]
    },
    {
     "name": "stderr",
     "output_type": "stream",
     "text": [
      "\n",
      "100%|██████████████████████████████████████████| 10/10 [00:00<00:00, 395.85it/s]\n",
      " 92%|███████████████████████████████████████▊   | 74/80 [00:05<00:00, 14.42it/s]"
     ]
    },
    {
     "name": "stdout",
     "output_type": "stream",
     "text": [
      "Gradient of gamma: 4.598359168994648e-07\n",
      "Epoch 73 - Loss: 0.6132616996765137\n",
      "Parameter name: gamma\n",
      "Parameter shape: torch.Size([])\n",
      "Parameter value: Parameter containing:\n",
      "tensor(5.4773, device='cuda:0', requires_grad=True)\n",
      "\n"
     ]
    },
    {
     "name": "stderr",
     "output_type": "stream",
     "text": [
      "\n",
      "100%|██████████████████████████████████████████| 10/10 [00:00<00:00, 395.90it/s]\n"
     ]
    },
    {
     "name": "stdout",
     "output_type": "stream",
     "text": [
      "Gradient of gamma: 1.3126633575666347e-06\n",
      "Epoch 74 - Loss: 0.6132615804672241\n",
      "Parameter name: gamma\n",
      "Parameter shape: torch.Size([])\n",
      "Parameter value: Parameter containing:\n",
      "tensor(5.4784, device='cuda:0', requires_grad=True)\n",
      "\n"
     ]
    },
    {
     "name": "stderr",
     "output_type": "stream",
     "text": [
      "\n",
      "100%|██████████████████████████████████████████| 10/10 [00:00<00:00, 398.98it/s]"
     ]
    },
    {
     "name": "stdout",
     "output_type": "stream",
     "text": [
      "Gradient of gamma: 5.751836624767748e-07\n"
     ]
    },
    {
     "name": "stderr",
     "output_type": "stream",
     "text": [
      "\n",
      " 95%|████████████████████████████████████████▊  | 76/80 [00:05<00:00, 14.54it/s]"
     ]
    },
    {
     "name": "stdout",
     "output_type": "stream",
     "text": [
      "Epoch 75 - Loss: 0.6132616400718689\n",
      "Parameter name: gamma\n",
      "Parameter shape: torch.Size([])\n",
      "Parameter value: Parameter containing:\n",
      "tensor(5.4793, device='cuda:0', requires_grad=True)\n",
      "\n"
     ]
    },
    {
     "name": "stderr",
     "output_type": "stream",
     "text": [
      "\n",
      "100%|██████████████████████████████████████████| 10/10 [00:00<00:00, 308.67it/s]\n"
     ]
    },
    {
     "name": "stdout",
     "output_type": "stream",
     "text": [
      "Gradient of gamma: 5.681162633663916e-07\n",
      "Epoch 76 - Loss: 0.6132616400718689\n",
      "Parameter name: gamma\n",
      "Parameter shape: torch.Size([])\n",
      "Parameter value: Parameter containing:\n",
      "tensor(5.4801, device='cuda:0', requires_grad=True)\n",
      "\n"
     ]
    },
    {
     "name": "stderr",
     "output_type": "stream",
     "text": [
      "\n",
      "100%|██████████████████████████████████████████| 10/10 [00:00<00:00, 310.25it/s]\n",
      " 98%|█████████████████████████████████████████▉ | 78/80 [00:05<00:00, 13.64it/s]"
     ]
    },
    {
     "name": "stdout",
     "output_type": "stream",
     "text": [
      "Gradient of gamma: 1.2312026456129388e-06\n",
      "Epoch 77 - Loss: 0.6132616400718689\n",
      "Parameter name: gamma\n",
      "Parameter shape: torch.Size([])\n",
      "Parameter value: Parameter containing:\n",
      "tensor(5.4809, device='cuda:0', requires_grad=True)\n",
      "\n"
     ]
    },
    {
     "name": "stderr",
     "output_type": "stream",
     "text": [
      "\n",
      "100%|██████████████████████████████████████████| 10/10 [00:00<00:00, 375.26it/s]\n"
     ]
    },
    {
     "name": "stdout",
     "output_type": "stream",
     "text": [
      "Gradient of gamma: 1.2849163795181084e-06\n",
      "Epoch 78 - Loss: 0.6132615804672241\n",
      "Parameter name: gamma\n",
      "Parameter shape: torch.Size([])\n",
      "Parameter value: Parameter containing:\n",
      "tensor(5.4816, device='cuda:0', requires_grad=True)\n",
      "\n"
     ]
    },
    {
     "name": "stderr",
     "output_type": "stream",
     "text": [
      "\n",
      "100%|██████████████████████████████████████████| 10/10 [00:00<00:00, 333.68it/s]\n",
      "100%|███████████████████████████████████████████| 80/80 [00:05<00:00, 13.77it/s]\n"
     ]
    },
    {
     "name": "stdout",
     "output_type": "stream",
     "text": [
      "Gradient of gamma: 1.1857755453092977e-06\n",
      "Epoch 79 - Loss: 0.6132616400718689\n",
      "Parameter name: gamma\n",
      "Parameter shape: torch.Size([])\n",
      "Parameter value: Parameter containing:\n",
      "tensor(5.4822, device='cuda:0', requires_grad=True)\n",
      "\n"
     ]
    },
    {
     "name": "stderr",
     "output_type": "stream",
     "text": [
      "  0%|                                                    | 0/80 [00:00<?, ?it/s]\n",
      "100%|██████████████████████████████████████████| 10/10 [00:00<00:00, 327.65it/s]\n"
     ]
    },
    {
     "name": "stdout",
     "output_type": "stream",
     "text": [
      "Gradient of gamma: 1.5013618394732475e-05\n",
      "Epoch 0 - Loss: 0.693149209022522\n",
      "Parameter name: gamma\n",
      "Parameter shape: torch.Size([])\n",
      "Parameter value: Parameter containing:\n",
      "tensor(0.9001, device='cuda:0', requires_grad=True)\n",
      "\n"
     ]
    },
    {
     "name": "stderr",
     "output_type": "stream",
     "text": [
      "\n",
      "100%|██████████████████████████████████████████| 10/10 [00:00<00:00, 302.98it/s]\n",
      "  2%|█                                           | 2/80 [00:00<00:06, 11.84it/s]"
     ]
    },
    {
     "name": "stdout",
     "output_type": "stream",
     "text": [
      "Gradient of gamma: 8.586153853684664e-06\n",
      "Epoch 1 - Loss: 0.6931480765342712\n",
      "Parameter name: gamma\n",
      "Parameter shape: torch.Size([])\n",
      "Parameter value: Parameter containing:\n",
      "tensor(0.8050, device='cuda:0', requires_grad=True)\n",
      "\n"
     ]
    },
    {
     "name": "stderr",
     "output_type": "stream",
     "text": [
      "\n",
      "100%|██████████████████████████████████████████| 10/10 [00:00<00:00, 386.07it/s]\n"
     ]
    },
    {
     "name": "stdout",
     "output_type": "stream",
     "text": [
      "Gradient of gamma: 5.051726475358009e-06\n",
      "Epoch 2 - Loss: 0.6931474208831787\n",
      "Parameter name: gamma\n",
      "Parameter shape: torch.Size([])\n",
      "Parameter value: Parameter containing:\n",
      "tensor(0.7166, device='cuda:0', requires_grad=True)\n",
      "\n"
     ]
    },
    {
     "name": "stderr",
     "output_type": "stream",
     "text": [
      "\n",
      "100%|██████████████████████████████████████████| 10/10 [00:00<00:00, 357.70it/s]\n",
      "  5%|██▏                                         | 4/80 [00:00<00:05, 13.17it/s]"
     ]
    },
    {
     "name": "stdout",
     "output_type": "stream",
     "text": [
      "Gradient of gamma: 3.1468152883462608e-06\n",
      "Epoch 3 - Loss: 0.6931470632553101\n",
      "Parameter name: gamma\n",
      "Parameter shape: torch.Size([])\n",
      "Parameter value: Parameter containing:\n",
      "tensor(0.6353, device='cuda:0', requires_grad=True)\n",
      "\n"
     ]
    },
    {
     "name": "stderr",
     "output_type": "stream",
     "text": [
      "\n",
      "100%|██████████████████████████████████████████| 10/10 [00:00<00:00, 367.17it/s]\n"
     ]
    },
    {
     "name": "stdout",
     "output_type": "stream",
     "text": [
      "Gradient of gamma: 2.095886884490028e-06\n",
      "Epoch 4 - Loss: 0.693146824836731\n",
      "Parameter name: gamma\n",
      "Parameter shape: torch.Size([])\n",
      "Parameter value: Parameter containing:\n",
      "tensor(0.5608, device='cuda:0', requires_grad=True)\n",
      "\n"
     ]
    },
    {
     "name": "stderr",
     "output_type": "stream",
     "text": [
      "\n",
      "100%|██████████████████████████████████████████| 10/10 [00:00<00:00, 396.51it/s]\n",
      "  8%|███▎                                        | 6/80 [00:00<00:05, 13.86it/s]"
     ]
    },
    {
     "name": "stdout",
     "output_type": "stream",
     "text": [
      "Gradient of gamma: 1.5036121112643741e-06\n",
      "Epoch 5 - Loss: 0.6931467652320862\n",
      "Parameter name: gamma\n",
      "Parameter shape: torch.Size([])\n",
      "Parameter value: Parameter containing:\n",
      "tensor(0.4926, device='cuda:0', requires_grad=True)\n",
      "\n"
     ]
    },
    {
     "name": "stderr",
     "output_type": "stream",
     "text": [
      "\n",
      "100%|██████████████████████████████████████████| 10/10 [00:00<00:00, 397.14it/s]\n"
     ]
    },
    {
     "name": "stdout",
     "output_type": "stream",
     "text": [
      "Gradient of gamma: 1.124152277043322e-06\n",
      "Epoch 6 - Loss: 0.6931465864181519\n",
      "Parameter name: gamma\n",
      "Parameter shape: torch.Size([])\n",
      "Parameter value: Parameter containing:\n",
      "tensor(0.4300, device='cuda:0', requires_grad=True)\n",
      "\n"
     ]
    },
    {
     "name": "stderr",
     "output_type": "stream",
     "text": [
      "\n",
      "100%|██████████████████████████████████████████| 10/10 [00:00<00:00, 346.32it/s]\n",
      " 10%|████▍                                       | 8/80 [00:00<00:05, 14.10it/s]"
     ]
    },
    {
     "name": "stdout",
     "output_type": "stream",
     "text": [
      "Gradient of gamma: 8.944562068791129e-07\n",
      "Epoch 7 - Loss: 0.6931465864181519\n",
      "Parameter name: gamma\n",
      "Parameter shape: torch.Size([])\n",
      "Parameter value: Parameter containing:\n",
      "tensor(0.3725, device='cuda:0', requires_grad=True)\n",
      "\n"
     ]
    },
    {
     "name": "stderr",
     "output_type": "stream",
     "text": [
      "\n",
      "100%|██████████████████████████████████████████| 10/10 [00:00<00:00, 389.83it/s]\n"
     ]
    },
    {
     "name": "stdout",
     "output_type": "stream",
     "text": [
      "Gradient of gamma: 7.600621643177874e-07\n",
      "Epoch 8 - Loss: 0.6931464672088623\n",
      "Parameter name: gamma\n",
      "Parameter shape: torch.Size([])\n",
      "Parameter value: Parameter containing:\n",
      "tensor(0.3195, device='cuda:0', requires_grad=True)\n",
      "\n"
     ]
    },
    {
     "name": "stderr",
     "output_type": "stream",
     "text": [
      "\n",
      "100%|██████████████████████████████████████████| 10/10 [00:00<00:00, 386.96it/s]\n",
      " 12%|█████▍                                     | 10/80 [00:00<00:04, 14.13it/s]"
     ]
    },
    {
     "name": "stdout",
     "output_type": "stream",
     "text": [
      "Gradient of gamma: 6.312580467238149e-07\n",
      "Epoch 9 - Loss: 0.6931465864181519\n",
      "Parameter name: gamma\n",
      "Parameter shape: torch.Size([])\n",
      "Parameter value: Parameter containing:\n",
      "tensor(0.2706, device='cuda:0', requires_grad=True)\n",
      "\n"
     ]
    },
    {
     "name": "stderr",
     "output_type": "stream",
     "text": [
      "\n",
      "100%|██████████████████████████████████████████| 10/10 [00:00<00:00, 403.26it/s]\n"
     ]
    },
    {
     "name": "stdout",
     "output_type": "stream",
     "text": [
      "Gradient of gamma: 5.516065471056208e-07\n",
      "Epoch 10 - Loss: 0.6931465268135071\n",
      "Parameter name: gamma\n",
      "Parameter shape: torch.Size([])\n",
      "Parameter value: Parameter containing:\n",
      "tensor(0.2254, device='cuda:0', requires_grad=True)\n",
      "\n"
     ]
    },
    {
     "name": "stderr",
     "output_type": "stream",
     "text": [
      "\n",
      "100%|██████████████████████████████████████████| 10/10 [00:00<00:00, 395.15it/s]\n",
      " 15%|██████▍                                    | 12/80 [00:00<00:04, 14.42it/s]"
     ]
    },
    {
     "name": "stdout",
     "output_type": "stream",
     "text": [
      "Gradient of gamma: 4.917195610687486e-07\n",
      "Epoch 11 - Loss: 0.6931464076042175\n",
      "Parameter name: gamma\n",
      "Parameter shape: torch.Size([])\n",
      "Parameter value: Parameter containing:\n",
      "tensor(0.1835, device='cuda:0', requires_grad=True)\n",
      "\n"
     ]
    },
    {
     "name": "stderr",
     "output_type": "stream",
     "text": [
      "\n",
      "100%|██████████████████████████████████████████| 10/10 [00:00<00:00, 381.72it/s]\n"
     ]
    },
    {
     "name": "stdout",
     "output_type": "stream",
     "text": [
      "Gradient of gamma: 4.4933713638783956e-07\n",
      "Epoch 12 - Loss: 0.6931463479995728\n",
      "Parameter name: gamma\n",
      "Parameter shape: torch.Size([])\n",
      "Parameter value: Parameter containing:\n",
      "tensor(0.1445, device='cuda:0', requires_grad=True)\n",
      "\n"
     ]
    },
    {
     "name": "stderr",
     "output_type": "stream",
     "text": [
      "\n",
      "100%|██████████████████████████████████████████| 10/10 [00:00<00:00, 353.66it/s]\n",
      " 18%|███████▌                                   | 14/80 [00:00<00:04, 14.49it/s]"
     ]
    },
    {
     "name": "stdout",
     "output_type": "stream",
     "text": [
      "Gradient of gamma: 4.0058893091554637e-07\n",
      "Epoch 13 - Loss: 0.6931464076042175\n",
      "Parameter name: gamma\n",
      "Parameter shape: torch.Size([])\n",
      "Parameter value: Parameter containing:\n",
      "tensor(0.1082, device='cuda:0', requires_grad=True)\n",
      "\n"
     ]
    },
    {
     "name": "stderr",
     "output_type": "stream",
     "text": [
      "\n",
      "100%|██████████████████████████████████████████| 10/10 [00:00<00:00, 391.65it/s]\n"
     ]
    },
    {
     "name": "stdout",
     "output_type": "stream",
     "text": [
      "Gradient of gamma: 3.676323387935554e-07\n",
      "Epoch 14 - Loss: 0.6931463479995728\n",
      "Parameter name: gamma\n",
      "Parameter shape: torch.Size([])\n",
      "Parameter value: Parameter containing:\n",
      "tensor(0.0745, device='cuda:0', requires_grad=True)\n",
      "\n"
     ]
    },
    {
     "name": "stderr",
     "output_type": "stream",
     "text": [
      "\n",
      "100%|██████████████████████████████████████████| 10/10 [00:00<00:00, 375.74it/s]\n",
      " 20%|████████▌                                  | 16/80 [00:01<00:04, 14.43it/s]"
     ]
    },
    {
     "name": "stdout",
     "output_type": "stream",
     "text": [
      "Gradient of gamma: 3.4322573583267513e-07\n",
      "Epoch 15 - Loss: 0.6931463479995728\n",
      "Parameter name: gamma\n",
      "Parameter shape: torch.Size([])\n",
      "Parameter value: Parameter containing:\n",
      "tensor(0.0430, device='cuda:0', requires_grad=True)\n",
      "\n"
     ]
    },
    {
     "name": "stderr",
     "output_type": "stream",
     "text": [
      "\n",
      "100%|██████████████████████████████████████████| 10/10 [00:00<00:00, 379.06it/s]\n"
     ]
    },
    {
     "name": "stdout",
     "output_type": "stream",
     "text": [
      "Gradient of gamma: 3.201972447186563e-07\n",
      "Epoch 16 - Loss: 0.6931463479995728\n",
      "Parameter name: gamma\n",
      "Parameter shape: torch.Size([])\n",
      "Parameter value: Parameter containing:\n",
      "tensor(0.0136, device='cuda:0', requires_grad=True)\n",
      "\n"
     ]
    },
    {
     "name": "stderr",
     "output_type": "stream",
     "text": [
      "\n",
      "100%|██████████████████████████████████████████| 10/10 [00:00<00:00, 290.02it/s]\n",
      " 22%|█████████▋                                 | 18/80 [00:01<00:04, 13.90it/s]"
     ]
    },
    {
     "name": "stdout",
     "output_type": "stream",
     "text": [
      "Gradient of gamma: 3.058885340578854e-07\n",
      "Epoch 17 - Loss: 0.6931463479995728\n",
      "Parameter name: gamma\n",
      "Parameter shape: torch.Size([])\n",
      "Parameter value: Parameter containing:\n",
      "tensor(-0.0139, device='cuda:0', requires_grad=True)\n",
      "\n"
     ]
    },
    {
     "name": "stderr",
     "output_type": "stream",
     "text": [
      "\n",
      "100%|██████████████████████████████████████████| 10/10 [00:00<00:00, 336.09it/s]\n"
     ]
    },
    {
     "name": "stdout",
     "output_type": "stream",
     "text": [
      "Gradient of gamma: 2.8291134412938845e-07\n",
      "Epoch 18 - Loss: 0.6931463479995728\n",
      "Parameter name: gamma\n",
      "Parameter shape: torch.Size([])\n",
      "Parameter value: Parameter containing:\n",
      "tensor(-0.0397, device='cuda:0', requires_grad=True)\n",
      "\n"
     ]
    },
    {
     "name": "stderr",
     "output_type": "stream",
     "text": [
      "\n",
      "100%|██████████████████████████████████████████| 10/10 [00:00<00:00, 256.55it/s]\n",
      " 25%|██████████▊                                | 20/80 [00:01<00:04, 13.16it/s]"
     ]
    },
    {
     "name": "stdout",
     "output_type": "stream",
     "text": [
      "Gradient of gamma: 2.740501088283054e-07\n",
      "Epoch 19 - Loss: 0.6931463479995728\n",
      "Parameter name: gamma\n",
      "Parameter shape: torch.Size([])\n",
      "Parameter value: Parameter containing:\n",
      "tensor(-0.0639, device='cuda:0', requires_grad=True)\n",
      "\n"
     ]
    },
    {
     "name": "stderr",
     "output_type": "stream",
     "text": [
      "\n",
      "100%|██████████████████████████████████████████| 10/10 [00:00<00:00, 306.66it/s]\n"
     ]
    },
    {
     "name": "stdout",
     "output_type": "stream",
     "text": [
      "Gradient of gamma: 2.559505105637072e-07\n",
      "Epoch 20 - Loss: 0.6931463479995728\n",
      "Parameter name: gamma\n",
      "Parameter shape: torch.Size([])\n",
      "Parameter value: Parameter containing:\n",
      "tensor(-0.0867, device='cuda:0', requires_grad=True)\n",
      "\n"
     ]
    },
    {
     "name": "stderr",
     "output_type": "stream",
     "text": [
      "\n",
      "100%|██████████████████████████████████████████| 10/10 [00:00<00:00, 365.01it/s]\n",
      " 28%|███████████▊                               | 22/80 [00:01<00:04, 12.95it/s]"
     ]
    },
    {
     "name": "stdout",
     "output_type": "stream",
     "text": [
      "Gradient of gamma: 2.4992667135848023e-07\n",
      "Epoch 21 - Loss: 0.6931463479995728\n",
      "Parameter name: gamma\n",
      "Parameter shape: torch.Size([])\n",
      "Parameter value: Parameter containing:\n",
      "tensor(-0.1080, device='cuda:0', requires_grad=True)\n",
      "\n"
     ]
    },
    {
     "name": "stderr",
     "output_type": "stream",
     "text": [
      "\n",
      "100%|██████████████████████████████████████████| 10/10 [00:00<00:00, 412.76it/s]\n"
     ]
    },
    {
     "name": "stdout",
     "output_type": "stream",
     "text": [
      "Gradient of gamma: 2.445660243211023e-07\n",
      "Epoch 22 - Loss: 0.6931463479995728\n",
      "Parameter name: gamma\n",
      "Parameter shape: torch.Size([])\n",
      "Parameter value: Parameter containing:\n",
      "tensor(-0.1282, device='cuda:0', requires_grad=True)\n",
      "\n"
     ]
    },
    {
     "name": "stderr",
     "output_type": "stream",
     "text": [
      "\n",
      "100%|██████████████████████████████████████████| 10/10 [00:00<00:00, 402.29it/s]\n",
      " 30%|████████████▉                              | 24/80 [00:01<00:04, 13.30it/s]"
     ]
    },
    {
     "name": "stdout",
     "output_type": "stream",
     "text": [
      "Gradient of gamma: 2.2943324040625157e-07\n",
      "Epoch 23 - Loss: 0.693146288394928\n",
      "Parameter name: gamma\n",
      "Parameter shape: torch.Size([])\n",
      "Parameter value: Parameter containing:\n",
      "tensor(-0.1472, device='cuda:0', requires_grad=True)\n",
      "\n"
     ]
    },
    {
     "name": "stderr",
     "output_type": "stream",
     "text": [
      "\n",
      "100%|██████████████████████████████████████████| 10/10 [00:00<00:00, 416.24it/s]\n"
     ]
    },
    {
     "name": "stdout",
     "output_type": "stream",
     "text": [
      "Gradient of gamma: 2.160087717584247e-07\n",
      "Epoch 24 - Loss: 0.693146288394928\n",
      "Parameter name: gamma\n",
      "Parameter shape: torch.Size([])\n",
      "Parameter value: Parameter containing:\n",
      "tensor(-0.1652, device='cuda:0', requires_grad=True)\n",
      "\n"
     ]
    },
    {
     "name": "stderr",
     "output_type": "stream",
     "text": [
      "\n",
      "100%|██████████████████████████████████████████| 10/10 [00:00<00:00, 404.26it/s]\n",
      " 32%|█████████████▉                             | 26/80 [00:01<00:03, 13.80it/s]"
     ]
    },
    {
     "name": "stdout",
     "output_type": "stream",
     "text": [
      "Gradient of gamma: 2.117677695423481e-07\n",
      "Epoch 25 - Loss: 0.693146288394928\n",
      "Parameter name: gamma\n",
      "Parameter shape: torch.Size([])\n",
      "Parameter value: Parameter containing:\n",
      "tensor(-0.1821, device='cuda:0', requires_grad=True)\n",
      "\n"
     ]
    },
    {
     "name": "stderr",
     "output_type": "stream",
     "text": [
      "\n",
      "100%|██████████████████████████████████████████| 10/10 [00:00<00:00, 384.67it/s]\n"
     ]
    },
    {
     "name": "stdout",
     "output_type": "stream",
     "text": [
      "Gradient of gamma: 2.091760364919537e-07\n",
      "Epoch 26 - Loss: 0.693146288394928\n",
      "Parameter name: gamma\n",
      "Parameter shape: torch.Size([])\n",
      "Parameter value: Parameter containing:\n",
      "tensor(-0.1982, device='cuda:0', requires_grad=True)\n",
      "\n"
     ]
    },
    {
     "name": "stderr",
     "output_type": "stream",
     "text": [
      "\n",
      "100%|██████████████████████████████████████████| 10/10 [00:00<00:00, 387.19it/s]\n",
      " 35%|███████████████                            | 28/80 [00:02<00:03, 13.85it/s]"
     ]
    },
    {
     "name": "stdout",
     "output_type": "stream",
     "text": [
      "Gradient of gamma: 2.0769840602952172e-07\n",
      "Epoch 27 - Loss: 0.6931463479995728\n",
      "Parameter name: gamma\n",
      "Parameter shape: torch.Size([])\n",
      "Parameter value: Parameter containing:\n",
      "tensor(-0.2135, device='cuda:0', requires_grad=True)\n",
      "\n"
     ]
    },
    {
     "name": "stderr",
     "output_type": "stream",
     "text": [
      "\n",
      "100%|██████████████████████████████████████████| 10/10 [00:00<00:00, 385.11it/s]\n"
     ]
    },
    {
     "name": "stdout",
     "output_type": "stream",
     "text": [
      "Gradient of gamma: 1.9652121352464746e-07\n",
      "Epoch 28 - Loss: 0.6931463479995728\n",
      "Parameter name: gamma\n",
      "Parameter shape: torch.Size([])\n",
      "Parameter value: Parameter containing:\n",
      "tensor(-0.2280, device='cuda:0', requires_grad=True)\n",
      "\n"
     ]
    },
    {
     "name": "stderr",
     "output_type": "stream",
     "text": [
      "\n",
      "100%|██████████████████████████████████████████| 10/10 [00:00<00:00, 361.94it/s]\n",
      " 38%|████████████████▏                          | 30/80 [00:02<00:03, 14.06it/s]"
     ]
    },
    {
     "name": "stdout",
     "output_type": "stream",
     "text": [
      "Gradient of gamma: 1.9414969187891984e-07\n",
      "Epoch 29 - Loss: 0.6931463479995728\n",
      "Parameter name: gamma\n",
      "Parameter shape: torch.Size([])\n",
      "Parameter value: Parameter containing:\n",
      "tensor(-0.2418, device='cuda:0', requires_grad=True)\n",
      "\n"
     ]
    },
    {
     "name": "stderr",
     "output_type": "stream",
     "text": [
      "\n",
      "100%|██████████████████████████████████████████| 10/10 [00:00<00:00, 412.04it/s]\n"
     ]
    },
    {
     "name": "stdout",
     "output_type": "stream",
     "text": [
      "Gradient of gamma: 1.9200716394607298e-07\n",
      "Epoch 30 - Loss: 0.693146288394928\n",
      "Parameter name: gamma\n",
      "Parameter shape: torch.Size([])\n",
      "Parameter value: Parameter containing:\n",
      "tensor(-0.2550, device='cuda:0', requires_grad=True)\n",
      "\n"
     ]
    },
    {
     "name": "stderr",
     "output_type": "stream",
     "text": [
      "\n",
      "100%|██████████████████████████████████████████| 10/10 [00:00<00:00, 412.94it/s]\n",
      " 40%|█████████████████▏                         | 32/80 [00:02<00:03, 14.32it/s]"
     ]
    },
    {
     "name": "stdout",
     "output_type": "stream",
     "text": [
      "Gradient of gamma: 1.915353067261094e-07\n",
      "Epoch 31 - Loss: 0.693146288394928\n",
      "Parameter name: gamma\n",
      "Parameter shape: torch.Size([])\n",
      "Parameter value: Parameter containing:\n",
      "tensor(-0.2676, device='cuda:0', requires_grad=True)\n",
      "\n"
     ]
    },
    {
     "name": "stderr",
     "output_type": "stream",
     "text": [
      "\n",
      "100%|██████████████████████████████████████████| 10/10 [00:00<00:00, 388.75it/s]\n"
     ]
    },
    {
     "name": "stdout",
     "output_type": "stream",
     "text": [
      "Gradient of gamma: 1.8428556813887553e-07\n",
      "Epoch 32 - Loss: 0.693146288394928\n",
      "Parameter name: gamma\n",
      "Parameter shape: torch.Size([])\n",
      "Parameter value: Parameter containing:\n",
      "tensor(-0.2797, device='cuda:0', requires_grad=True)\n",
      "\n"
     ]
    },
    {
     "name": "stderr",
     "output_type": "stream",
     "text": [
      "\n",
      "100%|██████████████████████████████████████████| 10/10 [00:00<00:00, 390.45it/s]\n",
      " 42%|██████████████████▎                        | 34/80 [00:02<00:03, 14.43it/s]"
     ]
    },
    {
     "name": "stdout",
     "output_type": "stream",
     "text": [
      "Gradient of gamma: 1.8520563571655657e-07\n",
      "Epoch 33 - Loss: 0.693146288394928\n",
      "Parameter name: gamma\n",
      "Parameter shape: torch.Size([])\n",
      "Parameter value: Parameter containing:\n",
      "tensor(-0.2913, device='cuda:0', requires_grad=True)\n",
      "\n"
     ]
    },
    {
     "name": "stderr",
     "output_type": "stream",
     "text": [
      "\n",
      "100%|██████████████████████████████████████████| 10/10 [00:00<00:00, 410.32it/s]\n"
     ]
    },
    {
     "name": "stdout",
     "output_type": "stream",
     "text": [
      "Gradient of gamma: 1.7324704515431222e-07\n",
      "Epoch 34 - Loss: 0.693146288394928\n",
      "Parameter name: gamma\n",
      "Parameter shape: torch.Size([])\n",
      "Parameter value: Parameter containing:\n",
      "tensor(-0.3025, device='cuda:0', requires_grad=True)\n",
      "\n"
     ]
    },
    {
     "name": "stderr",
     "output_type": "stream",
     "text": [
      "\n",
      "100%|██████████████████████████████████████████| 10/10 [00:00<00:00, 394.06it/s]\n"
     ]
    },
    {
     "name": "stdout",
     "output_type": "stream",
     "text": [
      "Gradient of gamma: 1.7169932675642485e-07\n"
     ]
    },
    {
     "name": "stderr",
     "output_type": "stream",
     "text": [
      " 45%|███████████████████▎                       | 36/80 [00:02<00:03, 14.53it/s]"
     ]
    },
    {
     "name": "stdout",
     "output_type": "stream",
     "text": [
      "Epoch 35 - Loss: 0.693146288394928\n",
      "Parameter name: gamma\n",
      "Parameter shape: torch.Size([])\n",
      "Parameter value: Parameter containing:\n",
      "tensor(-0.3132, device='cuda:0', requires_grad=True)\n",
      "\n"
     ]
    },
    {
     "name": "stderr",
     "output_type": "stream",
     "text": [
      "\n",
      "100%|██████████████████████████████████████████| 10/10 [00:00<00:00, 377.31it/s]\n"
     ]
    },
    {
     "name": "stdout",
     "output_type": "stream",
     "text": [
      "Gradient of gamma: 1.703438243794153e-07\n",
      "Epoch 36 - Loss: 0.6931463479995728\n",
      "Parameter name: gamma\n",
      "Parameter shape: torch.Size([])\n",
      "Parameter value: Parameter containing:\n",
      "tensor(-0.3235, device='cuda:0', requires_grad=True)\n",
      "\n"
     ]
    },
    {
     "name": "stderr",
     "output_type": "stream",
     "text": [
      "\n",
      "100%|██████████████████████████████████████████| 10/10 [00:00<00:00, 328.78it/s]\n",
      " 48%|████████████████████▍                      | 38/80 [00:02<00:02, 14.26it/s]"
     ]
    },
    {
     "name": "stdout",
     "output_type": "stream",
     "text": [
      "Gradient of gamma: 1.6901213939490844e-07\n",
      "Epoch 37 - Loss: 0.6931463479995728\n",
      "Parameter name: gamma\n",
      "Parameter shape: torch.Size([])\n",
      "Parameter value: Parameter containing:\n",
      "tensor(-0.3335, device='cuda:0', requires_grad=True)\n",
      "\n"
     ]
    },
    {
     "name": "stderr",
     "output_type": "stream",
     "text": [
      "\n",
      "100%|██████████████████████████████████████████| 10/10 [00:00<00:00, 310.16it/s]\n"
     ]
    },
    {
     "name": "stdout",
     "output_type": "stream",
     "text": [
      "Gradient of gamma: 1.6785008938313695e-07\n",
      "Epoch 38 - Loss: 0.6931463479995728\n",
      "Parameter name: gamma\n",
      "Parameter shape: torch.Size([])\n",
      "Parameter value: Parameter containing:\n",
      "tensor(-0.3431, device='cuda:0', requires_grad=True)\n",
      "\n"
     ]
    },
    {
     "name": "stderr",
     "output_type": "stream",
     "text": [
      "\n",
      "100%|██████████████████████████████████████████| 10/10 [00:00<00:00, 334.51it/s]\n",
      " 50%|█████████████████████▌                     | 40/80 [00:02<00:02, 13.70it/s]"
     ]
    },
    {
     "name": "stdout",
     "output_type": "stream",
     "text": [
      "Gradient of gamma: 1.665490856339602e-07\n",
      "Epoch 39 - Loss: 0.6931463479995728\n",
      "Parameter name: gamma\n",
      "Parameter shape: torch.Size([])\n",
      "Parameter value: Parameter containing:\n",
      "tensor(-0.3525, device='cuda:0', requires_grad=True)\n",
      "\n"
     ]
    },
    {
     "name": "stderr",
     "output_type": "stream",
     "text": [
      "\n",
      "100%|██████████████████████████████████████████| 10/10 [00:00<00:00, 297.83it/s]\n"
     ]
    },
    {
     "name": "stdout",
     "output_type": "stream",
     "text": [
      "Gradient of gamma: 1.6811719660836388e-07\n",
      "Epoch 40 - Loss: 0.6931463479995728\n",
      "Parameter name: gamma\n",
      "Parameter shape: torch.Size([])\n",
      "Parameter value: Parameter containing:\n",
      "tensor(-0.3616, device='cuda:0', requires_grad=True)\n",
      "\n"
     ]
    },
    {
     "name": "stderr",
     "output_type": "stream",
     "text": [
      "\n",
      "100%|██████████████████████████████████████████| 10/10 [00:00<00:00, 290.33it/s]\n",
      " 52%|██████████████████████▌                    | 42/80 [00:03<00:02, 13.02it/s]"
     ]
    },
    {
     "name": "stdout",
     "output_type": "stream",
     "text": [
      "Gradient of gamma: 1.6916095546548604e-07\n",
      "Epoch 41 - Loss: 0.6931463479995728\n",
      "Parameter name: gamma\n",
      "Parameter shape: torch.Size([])\n",
      "Parameter value: Parameter containing:\n",
      "tensor(-0.3705, device='cuda:0', requires_grad=True)\n",
      "\n"
     ]
    },
    {
     "name": "stderr",
     "output_type": "stream",
     "text": [
      "\n",
      "100%|██████████████████████████████████████████| 10/10 [00:00<00:00, 320.03it/s]\n"
     ]
    },
    {
     "name": "stdout",
     "output_type": "stream",
     "text": [
      "Gradient of gamma: 1.6860201412782772e-07\n",
      "Epoch 42 - Loss: 0.6931463479995728\n",
      "Parameter name: gamma\n",
      "Parameter shape: torch.Size([])\n",
      "Parameter value: Parameter containing:\n",
      "tensor(-0.3792, device='cuda:0', requires_grad=True)\n",
      "\n"
     ]
    },
    {
     "name": "stderr",
     "output_type": "stream",
     "text": [
      "\n",
      "100%|██████████████████████████████████████████| 10/10 [00:00<00:00, 333.88it/s]\n",
      " 55%|███████████████████████▋                   | 44/80 [00:03<00:02, 12.77it/s]"
     ]
    },
    {
     "name": "stdout",
     "output_type": "stream",
     "text": [
      "Gradient of gamma: 1.541173446639732e-07\n",
      "Epoch 43 - Loss: 0.6931463479995728\n",
      "Parameter name: gamma\n",
      "Parameter shape: torch.Size([])\n",
      "Parameter value: Parameter containing:\n",
      "tensor(-0.3876, device='cuda:0', requires_grad=True)\n",
      "\n"
     ]
    },
    {
     "name": "stderr",
     "output_type": "stream",
     "text": [
      "\n",
      "100%|██████████████████████████████████████████| 10/10 [00:00<00:00, 298.16it/s]\n"
     ]
    },
    {
     "name": "stdout",
     "output_type": "stream",
     "text": [
      "Gradient of gamma: 1.5256620145009947e-07\n",
      "Epoch 44 - Loss: 0.6931463479995728\n",
      "Parameter name: gamma\n",
      "Parameter shape: torch.Size([])\n",
      "Parameter value: Parameter containing:\n",
      "tensor(-0.3959, device='cuda:0', requires_grad=True)\n",
      "\n"
     ]
    },
    {
     "name": "stderr",
     "output_type": "stream",
     "text": [
      "\n",
      "100%|██████████████████████████████████████████| 10/10 [00:00<00:00, 345.89it/s]\n",
      " 57%|████████████████████████▋                  | 46/80 [00:03<00:02, 12.95it/s]"
     ]
    },
    {
     "name": "stdout",
     "output_type": "stream",
     "text": [
      "Gradient of gamma: 1.509114326836425e-07\n",
      "Epoch 45 - Loss: 0.6931463479995728\n",
      "Parameter name: gamma\n",
      "Parameter shape: torch.Size([])\n",
      "Parameter value: Parameter containing:\n",
      "tensor(-0.4040, device='cuda:0', requires_grad=True)\n",
      "\n"
     ]
    },
    {
     "name": "stderr",
     "output_type": "stream",
     "text": [
      "\n",
      "100%|██████████████████████████████████████████| 10/10 [00:00<00:00, 411.10it/s]\n"
     ]
    },
    {
     "name": "stdout",
     "output_type": "stream",
     "text": [
      "Gradient of gamma: 1.5034959233162226e-07\n",
      "Epoch 46 - Loss: 0.6931462287902832\n",
      "Parameter name: gamma\n",
      "Parameter shape: torch.Size([])\n",
      "Parameter value: Parameter containing:\n",
      "tensor(-0.4119, device='cuda:0', requires_grad=True)\n",
      "\n"
     ]
    },
    {
     "name": "stderr",
     "output_type": "stream",
     "text": [
      "\n",
      "100%|██████████████████████████████████████████| 10/10 [00:00<00:00, 375.49it/s]\n",
      " 60%|█████████████████████████▊                 | 48/80 [00:03<00:02, 13.45it/s]"
     ]
    },
    {
     "name": "stdout",
     "output_type": "stream",
     "text": [
      "Gradient of gamma: 1.5016769339126768e-07\n",
      "Epoch 47 - Loss: 0.6931462287902832\n",
      "Parameter name: gamma\n",
      "Parameter shape: torch.Size([])\n",
      "Parameter value: Parameter containing:\n",
      "tensor(-0.4196, device='cuda:0', requires_grad=True)\n",
      "\n"
     ]
    },
    {
     "name": "stderr",
     "output_type": "stream",
     "text": [
      "\n",
      "100%|██████████████████████████████████████████| 10/10 [00:00<00:00, 294.16it/s]\n"
     ]
    },
    {
     "name": "stdout",
     "output_type": "stream",
     "text": [
      "Gradient of gamma: 1.5010016340966104e-07\n",
      "Epoch 48 - Loss: 0.6931462287902832\n",
      "Parameter name: gamma\n",
      "Parameter shape: torch.Size([])\n",
      "Parameter value: Parameter containing:\n",
      "tensor(-0.4272, device='cuda:0', requires_grad=True)\n",
      "\n"
     ]
    },
    {
     "name": "stderr",
     "output_type": "stream",
     "text": [
      "\n",
      "100%|██████████████████████████████████████████| 10/10 [00:00<00:00, 343.71it/s]\n",
      " 62%|██████████████████████████▉                | 50/80 [00:03<00:02, 13.42it/s]"
     ]
    },
    {
     "name": "stdout",
     "output_type": "stream",
     "text": [
      "Gradient of gamma: 1.472056965212687e-07\n",
      "Epoch 49 - Loss: 0.6931462287902832\n",
      "Parameter name: gamma\n",
      "Parameter shape: torch.Size([])\n",
      "Parameter value: Parameter containing:\n",
      "tensor(-0.4347, device='cuda:0', requires_grad=True)\n",
      "\n"
     ]
    },
    {
     "name": "stderr",
     "output_type": "stream",
     "text": [
      "\n",
      "100%|██████████████████████████████████████████| 10/10 [00:00<00:00, 378.63it/s]\n"
     ]
    },
    {
     "name": "stdout",
     "output_type": "stream",
     "text": [
      "Gradient of gamma: 1.488608631916577e-07\n",
      "Epoch 50 - Loss: 0.6931462287902832\n",
      "Parameter name: gamma\n",
      "Parameter shape: torch.Size([])\n",
      "Parameter value: Parameter containing:\n",
      "tensor(-0.4384, device='cuda:0', requires_grad=True)\n",
      "\n"
     ]
    },
    {
     "name": "stderr",
     "output_type": "stream",
     "text": [
      "\n",
      "100%|██████████████████████████████████████████| 10/10 [00:00<00:00, 346.91it/s]\n",
      " 65%|███████████████████████████▉               | 52/80 [00:03<00:02, 13.61it/s]"
     ]
    },
    {
     "name": "stdout",
     "output_type": "stream",
     "text": [
      "Gradient of gamma: 1.468438313168008e-07\n",
      "Epoch 51 - Loss: 0.6931462287902832\n",
      "Parameter name: gamma\n",
      "Parameter shape: torch.Size([])\n",
      "Parameter value: Parameter containing:\n",
      "tensor(-0.4420, device='cuda:0', requires_grad=True)\n",
      "\n"
     ]
    },
    {
     "name": "stderr",
     "output_type": "stream",
     "text": [
      "\n",
      "100%|██████████████████████████████████████████| 10/10 [00:00<00:00, 389.95it/s]\n"
     ]
    },
    {
     "name": "stdout",
     "output_type": "stream",
     "text": [
      "Gradient of gamma: 1.5115756468730979e-07\n",
      "Epoch 52 - Loss: 0.6931462287902832\n",
      "Parameter name: gamma\n",
      "Parameter shape: torch.Size([])\n",
      "Parameter value: Parameter containing:\n",
      "tensor(-0.4456, device='cuda:0', requires_grad=True)\n",
      "\n"
     ]
    },
    {
     "name": "stderr",
     "output_type": "stream",
     "text": [
      "\n",
      "100%|██████████████████████████████████████████| 10/10 [00:00<00:00, 379.87it/s]\n",
      " 68%|█████████████████████████████              | 54/80 [00:03<00:01, 13.74it/s]"
     ]
    },
    {
     "name": "stdout",
     "output_type": "stream",
     "text": [
      "Gradient of gamma: 1.5626847016392276e-07\n",
      "Epoch 53 - Loss: 0.6931462287902832\n",
      "Parameter name: gamma\n",
      "Parameter shape: torch.Size([])\n",
      "Parameter value: Parameter containing:\n",
      "tensor(-0.4492, device='cuda:0', requires_grad=True)\n",
      "\n"
     ]
    },
    {
     "name": "stderr",
     "output_type": "stream",
     "text": [
      "\n",
      "100%|██████████████████████████████████████████| 10/10 [00:00<00:00, 370.93it/s]\n"
     ]
    },
    {
     "name": "stdout",
     "output_type": "stream",
     "text": [
      "Gradient of gamma: 1.5349633031291887e-07\n",
      "Epoch 54 - Loss: 0.6931462287902832\n",
      "Parameter name: gamma\n",
      "Parameter shape: torch.Size([])\n",
      "Parameter value: Parameter containing:\n",
      "tensor(-0.4528, device='cuda:0', requires_grad=True)\n",
      "\n"
     ]
    },
    {
     "name": "stderr",
     "output_type": "stream",
     "text": [
      "\n",
      "100%|██████████████████████████████████████████| 10/10 [00:00<00:00, 415.31it/s]\n",
      " 70%|██████████████████████████████             | 56/80 [00:04<00:01, 14.02it/s]"
     ]
    },
    {
     "name": "stdout",
     "output_type": "stream",
     "text": [
      "Gradient of gamma: 1.5455907487194054e-07\n",
      "Epoch 55 - Loss: 0.6931462287902832\n",
      "Parameter name: gamma\n",
      "Parameter shape: torch.Size([])\n",
      "Parameter value: Parameter containing:\n",
      "tensor(-0.4563, device='cuda:0', requires_grad=True)\n",
      "\n"
     ]
    },
    {
     "name": "stderr",
     "output_type": "stream",
     "text": [
      "\n",
      "100%|██████████████████████████████████████████| 10/10 [00:00<00:00, 382.92it/s]\n"
     ]
    },
    {
     "name": "stdout",
     "output_type": "stream",
     "text": [
      "Gradient of gamma: 1.569335381645942e-07\n",
      "Epoch 56 - Loss: 0.6931462287902832\n",
      "Parameter name: gamma\n",
      "Parameter shape: torch.Size([])\n",
      "Parameter value: Parameter containing:\n",
      "tensor(-0.4599, device='cuda:0', requires_grad=True)\n",
      "\n"
     ]
    },
    {
     "name": "stderr",
     "output_type": "stream",
     "text": [
      "\n",
      "100%|██████████████████████████████████████████| 10/10 [00:00<00:00, 383.72it/s]\n",
      " 72%|███████████████████████████████▏           | 58/80 [00:04<00:01, 13.66it/s]"
     ]
    },
    {
     "name": "stdout",
     "output_type": "stream",
     "text": [
      "Gradient of gamma: 1.5215755411190912e-07\n",
      "Epoch 57 - Loss: 0.6931462287902832\n",
      "Parameter name: gamma\n",
      "Parameter shape: torch.Size([])\n",
      "Parameter value: Parameter containing:\n",
      "tensor(-0.4634, device='cuda:0', requires_grad=True)\n",
      "\n"
     ]
    },
    {
     "name": "stderr",
     "output_type": "stream",
     "text": [
      "\n",
      "100%|██████████████████████████████████████████| 10/10 [00:00<00:00, 353.22it/s]\n"
     ]
    },
    {
     "name": "stdout",
     "output_type": "stream",
     "text": [
      "Gradient of gamma: 1.5215459825412836e-07\n",
      "Epoch 58 - Loss: 0.6931462287902832\n",
      "Parameter name: gamma\n",
      "Parameter shape: torch.Size([])\n",
      "Parameter value: Parameter containing:\n",
      "tensor(-0.4669, device='cuda:0', requires_grad=True)\n",
      "\n"
     ]
    },
    {
     "name": "stderr",
     "output_type": "stream",
     "text": [
      "\n",
      "100%|██████████████████████████████████████████| 10/10 [00:00<00:00, 277.79it/s]\n",
      " 75%|████████████████████████████████▎          | 60/80 [00:04<00:01, 13.24it/s]"
     ]
    },
    {
     "name": "stdout",
     "output_type": "stream",
     "text": [
      "Gradient of gamma: 1.5768114280945156e-07\n",
      "Epoch 59 - Loss: 0.6931462287902832\n",
      "Parameter name: gamma\n",
      "Parameter shape: torch.Size([])\n",
      "Parameter value: Parameter containing:\n",
      "tensor(-0.4705, device='cuda:0', requires_grad=True)\n",
      "\n"
     ]
    },
    {
     "name": "stderr",
     "output_type": "stream",
     "text": [
      "\n",
      "100%|██████████████████████████████████████████| 10/10 [00:00<00:00, 364.04it/s]\n"
     ]
    },
    {
     "name": "stdout",
     "output_type": "stream",
     "text": [
      "Gradient of gamma: 1.5840419109736104e-07\n",
      "Epoch 60 - Loss: 0.6931462287902832\n",
      "Parameter name: gamma\n",
      "Parameter shape: torch.Size([])\n",
      "Parameter value: Parameter containing:\n",
      "tensor(-0.4740, device='cuda:0', requires_grad=True)\n",
      "\n"
     ]
    },
    {
     "name": "stderr",
     "output_type": "stream",
     "text": [
      "\n",
      "100%|██████████████████████████████████████████| 10/10 [00:00<00:00, 382.55it/s]\n",
      " 78%|█████████████████████████████████▎         | 62/80 [00:04<00:01, 13.41it/s]"
     ]
    },
    {
     "name": "stdout",
     "output_type": "stream",
     "text": [
      "Gradient of gamma: 1.561934368510265e-07\n",
      "Epoch 61 - Loss: 0.6931462287902832\n",
      "Parameter name: gamma\n",
      "Parameter shape: torch.Size([])\n",
      "Parameter value: Parameter containing:\n",
      "tensor(-0.4775, device='cuda:0', requires_grad=True)\n",
      "\n"
     ]
    },
    {
     "name": "stderr",
     "output_type": "stream",
     "text": [
      "\n",
      "100%|██████████████████████████████████████████| 10/10 [00:00<00:00, 279.81it/s]\n"
     ]
    },
    {
     "name": "stdout",
     "output_type": "stream",
     "text": [
      "Gradient of gamma: 1.5610703485435806e-07\n",
      "Epoch 62 - Loss: 0.6931462287902832\n",
      "Parameter name: gamma\n",
      "Parameter shape: torch.Size([])\n",
      "Parameter value: Parameter containing:\n",
      "tensor(-0.4811, device='cuda:0', requires_grad=True)\n",
      "\n"
     ]
    },
    {
     "name": "stderr",
     "output_type": "stream",
     "text": [
      "\n",
      "100%|██████████████████████████████████████████| 10/10 [00:00<00:00, 399.79it/s]\n",
      " 80%|██████████████████████████████████▍        | 64/80 [00:04<00:01, 13.24it/s]"
     ]
    },
    {
     "name": "stdout",
     "output_type": "stream",
     "text": [
      "Gradient of gamma: 1.5790737961651757e-07\n",
      "Epoch 63 - Loss: 0.6931462287902832\n",
      "Parameter name: gamma\n",
      "Parameter shape: torch.Size([])\n",
      "Parameter value: Parameter containing:\n",
      "tensor(-0.4847, device='cuda:0', requires_grad=True)\n",
      "\n"
     ]
    },
    {
     "name": "stderr",
     "output_type": "stream",
     "text": [
      "\n",
      "100%|██████████████████████████████████████████| 10/10 [00:00<00:00, 397.20it/s]\n"
     ]
    },
    {
     "name": "stdout",
     "output_type": "stream",
     "text": [
      "Gradient of gamma: 1.576845534145832e-07\n",
      "Epoch 64 - Loss: 0.6931462287902832\n",
      "Parameter name: gamma\n",
      "Parameter shape: torch.Size([])\n",
      "Parameter value: Parameter containing:\n",
      "tensor(-0.4882, device='cuda:0', requires_grad=True)\n",
      "\n"
     ]
    },
    {
     "name": "stderr",
     "output_type": "stream",
     "text": [
      "\n",
      "100%|██████████████████████████████████████████| 10/10 [00:00<00:00, 406.44it/s]\n",
      " 82%|███████████████████████████████████▍       | 66/80 [00:04<00:01, 13.68it/s]"
     ]
    },
    {
     "name": "stdout",
     "output_type": "stream",
     "text": [
      "Gradient of gamma: 1.573321242176462e-07\n",
      "Epoch 65 - Loss: 0.6931462287902832\n",
      "Parameter name: gamma\n",
      "Parameter shape: torch.Size([])\n",
      "Parameter value: Parameter containing:\n",
      "tensor(-0.4918, device='cuda:0', requires_grad=True)\n",
      "\n"
     ]
    },
    {
     "name": "stderr",
     "output_type": "stream",
     "text": [
      "\n",
      "100%|██████████████████████████████████████████| 10/10 [00:00<00:00, 376.10it/s]\n"
     ]
    },
    {
     "name": "stdout",
     "output_type": "stream",
     "text": [
      "Gradient of gamma: 1.57012436829973e-07\n",
      "Epoch 66 - Loss: 0.6931462287902832\n",
      "Parameter name: gamma\n",
      "Parameter shape: torch.Size([])\n",
      "Parameter value: Parameter containing:\n",
      "tensor(-0.4955, device='cuda:0', requires_grad=True)\n",
      "\n"
     ]
    },
    {
     "name": "stderr",
     "output_type": "stream",
     "text": [
      "\n",
      "100%|██████████████████████████████████████████| 10/10 [00:00<00:00, 359.96it/s]\n",
      " 85%|████████████████████████████████████▌      | 68/80 [00:04<00:00, 13.72it/s]"
     ]
    },
    {
     "name": "stdout",
     "output_type": "stream",
     "text": [
      "Gradient of gamma: 1.572443579789251e-07\n",
      "Epoch 67 - Loss: 0.6931462287902832\n",
      "Parameter name: gamma\n",
      "Parameter shape: torch.Size([])\n",
      "Parameter value: Parameter containing:\n",
      "tensor(-0.4991, device='cuda:0', requires_grad=True)\n",
      "\n"
     ]
    },
    {
     "name": "stderr",
     "output_type": "stream",
     "text": [
      "\n",
      "100%|██████████████████████████████████████████| 10/10 [00:00<00:00, 372.36it/s]\n"
     ]
    },
    {
     "name": "stdout",
     "output_type": "stream",
     "text": [
      "Gradient of gamma: 1.6183821571758017e-07\n",
      "Epoch 68 - Loss: 0.6931462287902832\n",
      "Parameter name: gamma\n",
      "Parameter shape: torch.Size([])\n",
      "Parameter value: Parameter containing:\n",
      "tensor(-0.5027, device='cuda:0', requires_grad=True)\n",
      "\n"
     ]
    },
    {
     "name": "stderr",
     "output_type": "stream",
     "text": [
      "\n",
      "100%|██████████████████████████████████████████| 10/10 [00:00<00:00, 366.78it/s]\n",
      " 88%|█████████████████████████████████████▋     | 70/80 [00:05<00:00, 13.83it/s]"
     ]
    },
    {
     "name": "stdout",
     "output_type": "stream",
     "text": [
      "Gradient of gamma: 1.4731767805642448e-07\n",
      "Epoch 69 - Loss: 0.6931462287902832\n",
      "Parameter name: gamma\n",
      "Parameter shape: torch.Size([])\n",
      "Parameter value: Parameter containing:\n",
      "tensor(-0.5064, device='cuda:0', requires_grad=True)\n",
      "\n"
     ]
    },
    {
     "name": "stderr",
     "output_type": "stream",
     "text": [
      "\n",
      "100%|██████████████████████████████████████████| 10/10 [00:00<00:00, 392.77it/s]\n"
     ]
    },
    {
     "name": "stdout",
     "output_type": "stream",
     "text": [
      "Gradient of gamma: 1.464331944589503e-07\n",
      "Epoch 70 - Loss: 0.6931462287902832\n",
      "Parameter name: gamma\n",
      "Parameter shape: torch.Size([])\n",
      "Parameter value: Parameter containing:\n",
      "tensor(-0.5100, device='cuda:0', requires_grad=True)\n",
      "\n"
     ]
    },
    {
     "name": "stderr",
     "output_type": "stream",
     "text": [
      "\n",
      "100%|██████████████████████████████████████████| 10/10 [00:00<00:00, 389.54it/s]\n",
      " 90%|██████████████████████████████████████▋    | 72/80 [00:05<00:00, 14.14it/s]"
     ]
    },
    {
     "name": "stdout",
     "output_type": "stream",
     "text": [
      "Gradient of gamma: 1.465441528125666e-07\n",
      "Epoch 71 - Loss: 0.6931462287902832\n",
      "Parameter name: gamma\n",
      "Parameter shape: torch.Size([])\n",
      "Parameter value: Parameter containing:\n",
      "tensor(-0.5137, device='cuda:0', requires_grad=True)\n",
      "\n"
     ]
    },
    {
     "name": "stderr",
     "output_type": "stream",
     "text": [
      "\n",
      "100%|██████████████████████████████████████████| 10/10 [00:00<00:00, 415.78it/s]\n"
     ]
    },
    {
     "name": "stdout",
     "output_type": "stream",
     "text": [
      "Gradient of gamma: 1.376447471557185e-07\n",
      "Epoch 72 - Loss: 0.6931462287902832\n",
      "Parameter name: gamma\n",
      "Parameter shape: torch.Size([])\n",
      "Parameter value: Parameter containing:\n",
      "tensor(-0.5173, device='cuda:0', requires_grad=True)\n",
      "\n"
     ]
    },
    {
     "name": "stderr",
     "output_type": "stream",
     "text": [
      "\n",
      "100%|██████████████████████████████████████████| 10/10 [00:00<00:00, 374.60it/s]\n"
     ]
    },
    {
     "name": "stdout",
     "output_type": "stream",
     "text": [
      "Gradient of gamma: 1.4912620827089995e-07\n"
     ]
    },
    {
     "name": "stderr",
     "output_type": "stream",
     "text": [
      " 92%|███████████████████████████████████████▊   | 74/80 [00:05<00:00, 14.26it/s]"
     ]
    },
    {
     "name": "stdout",
     "output_type": "stream",
     "text": [
      "Epoch 73 - Loss: 0.6931462287902832\n",
      "Parameter name: gamma\n",
      "Parameter shape: torch.Size([])\n",
      "Parameter value: Parameter containing:\n",
      "tensor(-0.5209, device='cuda:0', requires_grad=True)\n",
      "\n"
     ]
    },
    {
     "name": "stderr",
     "output_type": "stream",
     "text": [
      "\n",
      "100%|██████████████████████████████████████████| 10/10 [00:00<00:00, 369.77it/s]\n"
     ]
    },
    {
     "name": "stdout",
     "output_type": "stream",
     "text": [
      "Gradient of gamma: 1.3373391993809491e-07\n",
      "Epoch 74 - Loss: 0.6931462287902832\n",
      "Parameter name: gamma\n",
      "Parameter shape: torch.Size([])\n",
      "Parameter value: Parameter containing:\n",
      "tensor(-0.5245, device='cuda:0', requires_grad=True)\n",
      "\n"
     ]
    },
    {
     "name": "stderr",
     "output_type": "stream",
     "text": [
      "\n",
      "100%|██████████████████████████████████████████| 10/10 [00:00<00:00, 346.67it/s]\n",
      " 95%|████████████████████████████████████████▊  | 76/80 [00:05<00:00, 14.17it/s]"
     ]
    },
    {
     "name": "stdout",
     "output_type": "stream",
     "text": [
      "Gradient of gamma: 1.3616227079182863e-07\n",
      "Epoch 75 - Loss: 0.6931462287902832\n",
      "Parameter name: gamma\n",
      "Parameter shape: torch.Size([])\n",
      "Parameter value: Parameter containing:\n",
      "tensor(-0.5281, device='cuda:0', requires_grad=True)\n",
      "\n"
     ]
    },
    {
     "name": "stderr",
     "output_type": "stream",
     "text": [
      "\n",
      "100%|██████████████████████████████████████████| 10/10 [00:00<00:00, 382.48it/s]\n"
     ]
    },
    {
     "name": "stdout",
     "output_type": "stream",
     "text": [
      "Gradient of gamma: 1.3752833183389157e-07\n",
      "Epoch 76 - Loss: 0.6931462287902832\n",
      "Parameter name: gamma\n",
      "Parameter shape: torch.Size([])\n",
      "Parameter value: Parameter containing:\n",
      "tensor(-0.5317, device='cuda:0', requires_grad=True)\n",
      "\n"
     ]
    },
    {
     "name": "stderr",
     "output_type": "stream",
     "text": [
      "\n",
      "100%|██████████████████████████████████████████| 10/10 [00:00<00:00, 379.31it/s]\n",
      " 98%|█████████████████████████████████████████▉ | 78/80 [00:05<00:00, 14.25it/s]"
     ]
    },
    {
     "name": "stdout",
     "output_type": "stream",
     "text": [
      "Gradient of gamma: 1.3944827514933422e-07\n",
      "Epoch 77 - Loss: 0.6931462287902832\n",
      "Parameter name: gamma\n",
      "Parameter shape: torch.Size([])\n",
      "Parameter value: Parameter containing:\n",
      "tensor(-0.5352, device='cuda:0', requires_grad=True)\n",
      "\n"
     ]
    },
    {
     "name": "stderr",
     "output_type": "stream",
     "text": [
      "\n",
      "100%|██████████████████████████████████████████| 10/10 [00:00<00:00, 373.46it/s]\n"
     ]
    },
    {
     "name": "stdout",
     "output_type": "stream",
     "text": [
      "Gradient of gamma: 1.3936551113147289e-07\n",
      "Epoch 78 - Loss: 0.6931462287902832\n",
      "Parameter name: gamma\n",
      "Parameter shape: torch.Size([])\n",
      "Parameter value: Parameter containing:\n",
      "tensor(-0.5388, device='cuda:0', requires_grad=True)\n",
      "\n"
     ]
    },
    {
     "name": "stderr",
     "output_type": "stream",
     "text": [
      "\n",
      "100%|██████████████████████████████████████████| 10/10 [00:00<00:00, 334.78it/s]\n",
      "100%|███████████████████████████████████████████| 80/80 [00:05<00:00, 13.72it/s]\n"
     ]
    },
    {
     "name": "stdout",
     "output_type": "stream",
     "text": [
      "Gradient of gamma: 1.3987846614327282e-07\n",
      "Epoch 79 - Loss: 0.693146288394928\n",
      "Parameter name: gamma\n",
      "Parameter shape: torch.Size([])\n",
      "Parameter value: Parameter containing:\n",
      "tensor(-0.5424, device='cuda:0', requires_grad=True)\n",
      "\n"
     ]
    },
    {
     "name": "stderr",
     "output_type": "stream",
     "text": [
      "  0%|                                                    | 0/80 [00:00<?, ?it/s]\n",
      "100%|██████████████████████████████████████████| 10/10 [00:00<00:00, 376.61it/s]\n"
     ]
    },
    {
     "name": "stdout",
     "output_type": "stream",
     "text": [
      "Gradient of gamma: 1.2069474905729294e-05\n",
      "Epoch 0 - Loss: 0.6931460499763489\n",
      "Parameter name: gamma\n",
      "Parameter shape: torch.Size([])\n",
      "Parameter value: Parameter containing:\n",
      "tensor(0.9001, device='cuda:0', requires_grad=True)\n",
      "\n"
     ]
    },
    {
     "name": "stderr",
     "output_type": "stream",
     "text": [
      "\n",
      "100%|██████████████████████████████████████████| 10/10 [00:00<00:00, 299.82it/s]\n",
      "  2%|█                                           | 2/80 [00:00<00:06, 12.57it/s]"
     ]
    },
    {
     "name": "stdout",
     "output_type": "stream",
     "text": [
      "Gradient of gamma: 6.83940015733242e-06\n",
      "Epoch 1 - Loss: 0.6931451559066772\n",
      "Parameter name: gamma\n",
      "Parameter shape: torch.Size([])\n",
      "Parameter value: Parameter containing:\n",
      "tensor(0.8052, device='cuda:0', requires_grad=True)\n",
      "\n"
     ]
    },
    {
     "name": "stderr",
     "output_type": "stream",
     "text": [
      "\n",
      "100%|██████████████████████████████████████████| 10/10 [00:00<00:00, 322.17it/s]\n"
     ]
    },
    {
     "name": "stdout",
     "output_type": "stream",
     "text": [
      "Gradient of gamma: 4.0549784898757935e-06\n",
      "Epoch 2 - Loss: 0.6931446194648743\n",
      "Parameter name: gamma\n",
      "Parameter shape: torch.Size([])\n",
      "Parameter value: Parameter containing:\n",
      "tensor(0.7169, device='cuda:0', requires_grad=True)\n",
      "\n"
     ]
    },
    {
     "name": "stderr",
     "output_type": "stream",
     "text": [
      "\n",
      "100%|██████████████████████████████████████████| 10/10 [00:00<00:00, 275.94it/s]\n",
      "  5%|██▏                                         | 4/80 [00:00<00:06, 12.33it/s]"
     ]
    },
    {
     "name": "stdout",
     "output_type": "stream",
     "text": [
      "Gradient of gamma: 2.587039489299059e-06\n",
      "Epoch 3 - Loss: 0.6931444406509399\n",
      "Parameter name: gamma\n",
      "Parameter shape: torch.Size([])\n",
      "Parameter value: Parameter containing:\n",
      "tensor(0.6355, device='cuda:0', requires_grad=True)\n",
      "\n"
     ]
    },
    {
     "name": "stderr",
     "output_type": "stream",
     "text": [
      "\n",
      "100%|██████████████████████████████████████████| 10/10 [00:00<00:00, 384.60it/s]\n"
     ]
    },
    {
     "name": "stdout",
     "output_type": "stream",
     "text": [
      "Gradient of gamma: 1.6881822375580668e-06\n",
      "Epoch 4 - Loss: 0.6931442022323608\n",
      "Parameter name: gamma\n",
      "Parameter shape: torch.Size([])\n",
      "Parameter value: Parameter containing:\n",
      "tensor(0.5609, device='cuda:0', requires_grad=True)\n",
      "\n"
     ]
    },
    {
     "name": "stderr",
     "output_type": "stream",
     "text": [
      "\n",
      "100%|██████████████████████████████████████████| 10/10 [00:00<00:00, 394.38it/s]\n",
      "  8%|███▎                                        | 6/80 [00:00<00:05, 13.19it/s]"
     ]
    },
    {
     "name": "stdout",
     "output_type": "stream",
     "text": [
      "Gradient of gamma: 1.2114214769098908e-06\n",
      "Epoch 5 - Loss: 0.6931440234184265\n",
      "Parameter name: gamma\n",
      "Parameter shape: torch.Size([])\n",
      "Parameter value: Parameter containing:\n",
      "tensor(0.4925, device='cuda:0', requires_grad=True)\n",
      "\n"
     ]
    },
    {
     "name": "stderr",
     "output_type": "stream",
     "text": [
      "\n",
      "100%|██████████████████████████████████████████| 10/10 [00:00<00:00, 398.32it/s]\n"
     ]
    },
    {
     "name": "stdout",
     "output_type": "stream",
     "text": [
      "Gradient of gamma: 9.830819180933759e-07\n",
      "Epoch 6 - Loss: 0.6931440234184265\n",
      "Parameter name: gamma\n",
      "Parameter shape: torch.Size([])\n",
      "Parameter value: Parameter containing:\n",
      "tensor(0.4296, device='cuda:0', requires_grad=True)\n",
      "\n"
     ]
    },
    {
     "name": "stderr",
     "output_type": "stream",
     "text": [
      "\n",
      "100%|██████████████████████████████████████████| 10/10 [00:00<00:00, 394.94it/s]\n",
      " 10%|████▍                                       | 8/80 [00:00<00:05, 13.71it/s]"
     ]
    },
    {
     "name": "stdout",
     "output_type": "stream",
     "text": [
      "Gradient of gamma: 7.514054232160561e-07\n",
      "Epoch 7 - Loss: 0.693143904209137\n",
      "Parameter name: gamma\n",
      "Parameter shape: torch.Size([])\n",
      "Parameter value: Parameter containing:\n",
      "tensor(0.3718, device='cuda:0', requires_grad=True)\n",
      "\n"
     ]
    },
    {
     "name": "stderr",
     "output_type": "stream",
     "text": [
      "\n",
      "100%|██████████████████████████████████████████| 10/10 [00:00<00:00, 390.96it/s]\n"
     ]
    },
    {
     "name": "stdout",
     "output_type": "stream",
     "text": [
      "Gradient of gamma: 5.963225930827321e-07\n",
      "Epoch 8 - Loss: 0.693143904209137\n",
      "Parameter name: gamma\n",
      "Parameter shape: torch.Size([])\n",
      "Parameter value: Parameter containing:\n",
      "tensor(0.3185, device='cuda:0', requires_grad=True)\n",
      "\n"
     ]
    },
    {
     "name": "stderr",
     "output_type": "stream",
     "text": [
      "\n",
      "100%|██████████████████████████████████████████| 10/10 [00:00<00:00, 374.95it/s]\n",
      " 12%|█████▍                                     | 10/80 [00:00<00:05, 13.96it/s]"
     ]
    },
    {
     "name": "stdout",
     "output_type": "stream",
     "text": [
      "Gradient of gamma: 5.247923695606005e-07\n",
      "Epoch 9 - Loss: 0.693143904209137\n",
      "Parameter name: gamma\n",
      "Parameter shape: torch.Size([])\n",
      "Parameter value: Parameter containing:\n",
      "tensor(0.2693, device='cuda:0', requires_grad=True)\n",
      "\n"
     ]
    },
    {
     "name": "stderr",
     "output_type": "stream",
     "text": [
      "\n",
      "100%|██████████████████████████████████████████| 10/10 [00:00<00:00, 369.76it/s]\n"
     ]
    },
    {
     "name": "stdout",
     "output_type": "stream",
     "text": [
      "Gradient of gamma: 4.894180278824933e-07\n",
      "Epoch 10 - Loss: 0.6931438446044922\n",
      "Parameter name: gamma\n",
      "Parameter shape: torch.Size([])\n",
      "Parameter value: Parameter containing:\n",
      "tensor(0.2236, device='cuda:0', requires_grad=True)\n",
      "\n"
     ]
    },
    {
     "name": "stderr",
     "output_type": "stream",
     "text": [
      "\n",
      "100%|██████████████████████████████████████████| 10/10 [00:00<00:00, 356.38it/s]\n",
      " 15%|██████▍                                    | 12/80 [00:00<00:04, 13.78it/s]"
     ]
    },
    {
     "name": "stdout",
     "output_type": "stream",
     "text": [
      "Gradient of gamma: 4.14435049833628e-07\n",
      "Epoch 11 - Loss: 0.6931438446044922\n",
      "Parameter name: gamma\n",
      "Parameter shape: torch.Size([])\n",
      "Parameter value: Parameter containing:\n",
      "tensor(0.1812, device='cuda:0', requires_grad=True)\n",
      "\n"
     ]
    },
    {
     "name": "stderr",
     "output_type": "stream",
     "text": [
      "\n",
      "100%|██████████████████████████████████████████| 10/10 [00:00<00:00, 370.21it/s]\n"
     ]
    },
    {
     "name": "stdout",
     "output_type": "stream",
     "text": [
      "Gradient of gamma: 3.4834920370485634e-07\n",
      "Epoch 12 - Loss: 0.6931438446044922\n",
      "Parameter name: gamma\n",
      "Parameter shape: torch.Size([])\n",
      "Parameter value: Parameter containing:\n",
      "tensor(0.1419, device='cuda:0', requires_grad=True)\n",
      "\n"
     ]
    },
    {
     "name": "stderr",
     "output_type": "stream",
     "text": [
      "\n",
      "100%|██████████████████████████████████████████| 10/10 [00:00<00:00, 372.49it/s]\n",
      " 18%|███████▌                                   | 14/80 [00:01<00:04, 13.95it/s]"
     ]
    },
    {
     "name": "stdout",
     "output_type": "stream",
     "text": [
      "Gradient of gamma: 3.3333003557345364e-07\n",
      "Epoch 13 - Loss: 0.6931438446044922\n",
      "Parameter name: gamma\n",
      "Parameter shape: torch.Size([])\n",
      "Parameter value: Parameter containing:\n",
      "tensor(0.1052, device='cuda:0', requires_grad=True)\n",
      "\n"
     ]
    },
    {
     "name": "stderr",
     "output_type": "stream",
     "text": [
      "\n",
      "100%|██████████████████████████████████████████| 10/10 [00:00<00:00, 411.93it/s]\n"
     ]
    },
    {
     "name": "stdout",
     "output_type": "stream",
     "text": [
      "Gradient of gamma: 3.20055249858342e-07\n",
      "Epoch 14 - Loss: 0.6931438446044922\n",
      "Parameter name: gamma\n",
      "Parameter shape: torch.Size([])\n",
      "Parameter value: Parameter containing:\n",
      "tensor(0.0711, device='cuda:0', requires_grad=True)\n",
      "\n"
     ]
    },
    {
     "name": "stderr",
     "output_type": "stream",
     "text": [
      "\n",
      "100%|██████████████████████████████████████████| 10/10 [00:00<00:00, 346.51it/s]\n",
      " 20%|████████▌                                  | 16/80 [00:01<00:04, 13.91it/s]"
     ]
    },
    {
     "name": "stdout",
     "output_type": "stream",
     "text": [
      "Gradient of gamma: 2.888628785058245e-07\n",
      "Epoch 15 - Loss: 0.6931438446044922\n",
      "Parameter name: gamma\n",
      "Parameter shape: torch.Size([])\n",
      "Parameter value: Parameter containing:\n",
      "tensor(0.0392, device='cuda:0', requires_grad=True)\n",
      "\n"
     ]
    },
    {
     "name": "stderr",
     "output_type": "stream",
     "text": [
      "\n",
      "100%|██████████████████████████████████████████| 10/10 [00:00<00:00, 402.21it/s]\n"
     ]
    },
    {
     "name": "stdout",
     "output_type": "stream",
     "text": [
      "Gradient of gamma: 2.598173978185514e-07\n",
      "Epoch 16 - Loss: 0.6931438446044922\n",
      "Parameter name: gamma\n",
      "Parameter shape: torch.Size([])\n",
      "Parameter value: Parameter containing:\n",
      "tensor(0.0094, device='cuda:0', requires_grad=True)\n",
      "\n"
     ]
    },
    {
     "name": "stderr",
     "output_type": "stream",
     "text": [
      "\n",
      "100%|██████████████████████████████████████████| 10/10 [00:00<00:00, 365.70it/s]\n",
      " 22%|█████████▋                                 | 18/80 [00:01<00:04, 13.98it/s]"
     ]
    },
    {
     "name": "stdout",
     "output_type": "stream",
     "text": [
      "Gradient of gamma: 2.51504758352894e-07\n",
      "Epoch 17 - Loss: 0.6931437253952026\n",
      "Parameter name: gamma\n",
      "Parameter shape: torch.Size([])\n",
      "Parameter value: Parameter containing:\n",
      "tensor(-0.0185, device='cuda:0', requires_grad=True)\n",
      "\n"
     ]
    },
    {
     "name": "stderr",
     "output_type": "stream",
     "text": [
      "\n",
      "100%|██████████████████████████████████████████| 10/10 [00:00<00:00, 309.98it/s]\n"
     ]
    },
    {
     "name": "stdout",
     "output_type": "stream",
     "text": [
      "Gradient of gamma: 2.44570429686064e-07\n",
      "Epoch 18 - Loss: 0.6931437253952026\n",
      "Parameter name: gamma\n",
      "Parameter shape: torch.Size([])\n",
      "Parameter value: Parameter containing:\n",
      "tensor(-0.0447, device='cuda:0', requires_grad=True)\n",
      "\n"
     ]
    },
    {
     "name": "stderr",
     "output_type": "stream",
     "text": [
      "\n",
      "100%|██████████████████████████████████████████| 10/10 [00:00<00:00, 297.40it/s]\n",
      " 25%|██████████▊                                | 20/80 [00:01<00:04, 13.28it/s]"
     ]
    },
    {
     "name": "stdout",
     "output_type": "stream",
     "text": [
      "Gradient of gamma: 2.3933222337291227e-07\n",
      "Epoch 19 - Loss: 0.6931437253952026\n",
      "Parameter name: gamma\n",
      "Parameter shape: torch.Size([])\n",
      "Parameter value: Parameter containing:\n",
      "tensor(-0.0693, device='cuda:0', requires_grad=True)\n",
      "\n"
     ]
    },
    {
     "name": "stderr",
     "output_type": "stream",
     "text": [
      "\n",
      "100%|██████████████████████████████████████████| 10/10 [00:00<00:00, 283.61it/s]\n"
     ]
    },
    {
     "name": "stdout",
     "output_type": "stream",
     "text": [
      "Gradient of gamma: 2.1786993897876528e-07\n",
      "Epoch 20 - Loss: 0.6931437253952026\n",
      "Parameter name: gamma\n",
      "Parameter shape: torch.Size([])\n",
      "Parameter value: Parameter containing:\n",
      "tensor(-0.0924, device='cuda:0', requires_grad=True)\n",
      "\n"
     ]
    },
    {
     "name": "stderr",
     "output_type": "stream",
     "text": [
      "\n",
      "100%|██████████████████████████████████████████| 10/10 [00:00<00:00, 346.20it/s]\n",
      " 28%|███████████▊                               | 22/80 [00:01<00:04, 12.94it/s]"
     ]
    },
    {
     "name": "stdout",
     "output_type": "stream",
     "text": [
      "Gradient of gamma: 2.1488249046797137e-07\n",
      "Epoch 21 - Loss: 0.6931437253952026\n",
      "Parameter name: gamma\n",
      "Parameter shape: torch.Size([])\n",
      "Parameter value: Parameter containing:\n",
      "tensor(-0.1143, device='cuda:0', requires_grad=True)\n",
      "\n"
     ]
    },
    {
     "name": "stderr",
     "output_type": "stream",
     "text": [
      "\n",
      "100%|██████████████████████████████████████████| 10/10 [00:00<00:00, 297.98it/s]\n"
     ]
    },
    {
     "name": "stdout",
     "output_type": "stream",
     "text": [
      "Gradient of gamma: 1.9413447205351986e-07\n",
      "Epoch 22 - Loss: 0.6931437253952026\n",
      "Parameter name: gamma\n",
      "Parameter shape: torch.Size([])\n",
      "Parameter value: Parameter containing:\n",
      "tensor(-0.1348, device='cuda:0', requires_grad=True)\n",
      "\n"
     ]
    },
    {
     "name": "stderr",
     "output_type": "stream",
     "text": [
      "\n",
      "100%|██████████████████████████████████████████| 10/10 [00:00<00:00, 364.94it/s]\n",
      " 30%|████████████▉                              | 24/80 [00:01<00:04, 12.83it/s]"
     ]
    },
    {
     "name": "stdout",
     "output_type": "stream",
     "text": [
      "Gradient of gamma: 1.911425044909265e-07\n",
      "Epoch 23 - Loss: 0.6931437253952026\n",
      "Parameter name: gamma\n",
      "Parameter shape: torch.Size([])\n",
      "Parameter value: Parameter containing:\n",
      "tensor(-0.1542, device='cuda:0', requires_grad=True)\n",
      "\n"
     ]
    },
    {
     "name": "stderr",
     "output_type": "stream",
     "text": [
      "\n",
      "100%|██████████████████████████████████████████| 10/10 [00:00<00:00, 351.82it/s]\n"
     ]
    },
    {
     "name": "stdout",
     "output_type": "stream",
     "text": [
      "Gradient of gamma: 1.877023265706157e-07\n",
      "Epoch 24 - Loss: 0.6931437253952026\n",
      "Parameter name: gamma\n",
      "Parameter shape: torch.Size([])\n",
      "Parameter value: Parameter containing:\n",
      "tensor(-0.1725, device='cuda:0', requires_grad=True)\n",
      "\n"
     ]
    },
    {
     "name": "stderr",
     "output_type": "stream",
     "text": [
      "\n",
      "100%|██████████████████████████████████████████| 10/10 [00:00<00:00, 385.63it/s]\n",
      " 32%|█████████████▉                             | 26/80 [00:01<00:04, 13.28it/s]"
     ]
    },
    {
     "name": "stdout",
     "output_type": "stream",
     "text": [
      "Gradient of gamma: 1.8515449085043656e-07\n",
      "Epoch 25 - Loss: 0.6931437253952026\n",
      "Parameter name: gamma\n",
      "Parameter shape: torch.Size([])\n",
      "Parameter value: Parameter containing:\n",
      "tensor(-0.1899, device='cuda:0', requires_grad=True)\n",
      "\n"
     ]
    },
    {
     "name": "stderr",
     "output_type": "stream",
     "text": [
      "\n",
      "100%|██████████████████████████████████████████| 10/10 [00:00<00:00, 350.14it/s]\n"
     ]
    },
    {
     "name": "stdout",
     "output_type": "stream",
     "text": [
      "Gradient of gamma: 1.8133468415726384e-07\n",
      "Epoch 26 - Loss: 0.6931437253952026\n",
      "Parameter name: gamma\n",
      "Parameter shape: torch.Size([])\n",
      "Parameter value: Parameter containing:\n",
      "tensor(-0.2064, device='cuda:0', requires_grad=True)\n",
      "\n"
     ]
    },
    {
     "name": "stderr",
     "output_type": "stream",
     "text": [
      "\n",
      "100%|██████████████████████████████████████████| 10/10 [00:00<00:00, 388.44it/s]\n",
      " 35%|███████████████                            | 28/80 [00:02<00:03, 13.32it/s]"
     ]
    },
    {
     "name": "stdout",
     "output_type": "stream",
     "text": [
      "Gradient of gamma: 1.7889016135086422e-07\n",
      "Epoch 27 - Loss: 0.6931437253952026\n",
      "Parameter name: gamma\n",
      "Parameter shape: torch.Size([])\n",
      "Parameter value: Parameter containing:\n",
      "tensor(-0.2221, device='cuda:0', requires_grad=True)\n",
      "\n"
     ]
    },
    {
     "name": "stderr",
     "output_type": "stream",
     "text": [
      "\n",
      "100%|██████████████████████████████████████████| 10/10 [00:00<00:00, 289.06it/s]\n"
     ]
    },
    {
     "name": "stdout",
     "output_type": "stream",
     "text": [
      "Gradient of gamma: 1.7646524952397158e-07\n",
      "Epoch 28 - Loss: 0.6931437253952026\n",
      "Parameter name: gamma\n",
      "Parameter shape: torch.Size([])\n",
      "Parameter value: Parameter containing:\n",
      "tensor(-0.2371, device='cuda:0', requires_grad=True)\n",
      "\n"
     ]
    },
    {
     "name": "stderr",
     "output_type": "stream",
     "text": [
      "\n",
      "100%|██████████████████████████████████████████| 10/10 [00:00<00:00, 399.12it/s]\n",
      " 38%|████████████████▏                          | 30/80 [00:02<00:03, 13.28it/s]"
     ]
    },
    {
     "name": "stdout",
     "output_type": "stream",
     "text": [
      "Gradient of gamma: 1.789544512575958e-07\n",
      "Epoch 29 - Loss: 0.6931436657905579\n",
      "Parameter name: gamma\n",
      "Parameter shape: torch.Size([])\n",
      "Parameter value: Parameter containing:\n",
      "tensor(-0.2514, device='cuda:0', requires_grad=True)\n",
      "\n"
     ]
    },
    {
     "name": "stderr",
     "output_type": "stream",
     "text": [
      "\n",
      "100%|██████████████████████████████████████████| 10/10 [00:00<00:00, 378.31it/s]\n"
     ]
    },
    {
     "name": "stdout",
     "output_type": "stream",
     "text": [
      "Gradient of gamma: 1.820429531562695e-07\n",
      "Epoch 30 - Loss: 0.6931437253952026\n",
      "Parameter name: gamma\n",
      "Parameter shape: torch.Size([])\n",
      "Parameter value: Parameter containing:\n",
      "tensor(-0.2652, device='cuda:0', requires_grad=True)\n",
      "\n"
     ]
    },
    {
     "name": "stderr",
     "output_type": "stream",
     "text": [
      "\n",
      "100%|██████████████████████████████████████████| 10/10 [00:00<00:00, 326.23it/s]\n",
      " 40%|█████████████████▏                         | 32/80 [00:02<00:03, 13.28it/s]"
     ]
    },
    {
     "name": "stdout",
     "output_type": "stream",
     "text": [
      "Gradient of gamma: 1.8032243076504528e-07\n",
      "Epoch 31 - Loss: 0.6931437253952026\n",
      "Parameter name: gamma\n",
      "Parameter shape: torch.Size([])\n",
      "Parameter value: Parameter containing:\n",
      "tensor(-0.2784, device='cuda:0', requires_grad=True)\n",
      "\n"
     ]
    },
    {
     "name": "stderr",
     "output_type": "stream",
     "text": [
      "\n",
      "100%|██████████████████████████████████████████| 10/10 [00:00<00:00, 377.63it/s]\n"
     ]
    },
    {
     "name": "stdout",
     "output_type": "stream",
     "text": [
      "Gradient of gamma: 1.7926623741004732e-07\n",
      "Epoch 32 - Loss: 0.6931437253952026\n",
      "Parameter name: gamma\n",
      "Parameter shape: torch.Size([])\n",
      "Parameter value: Parameter containing:\n",
      "tensor(-0.2912, device='cuda:0', requires_grad=True)\n",
      "\n"
     ]
    },
    {
     "name": "stderr",
     "output_type": "stream",
     "text": [
      "\n",
      "100%|██████████████████████████████████████████| 10/10 [00:00<00:00, 341.70it/s]\n",
      " 42%|██████████████████▎                        | 34/80 [00:02<00:03, 13.45it/s]"
     ]
    },
    {
     "name": "stdout",
     "output_type": "stream",
     "text": [
      "Gradient of gamma: 1.5878850945227896e-07\n",
      "Epoch 33 - Loss: 0.6931437253952026\n",
      "Parameter name: gamma\n",
      "Parameter shape: torch.Size([])\n",
      "Parameter value: Parameter containing:\n",
      "tensor(-0.3035, device='cuda:0', requires_grad=True)\n",
      "\n"
     ]
    },
    {
     "name": "stderr",
     "output_type": "stream",
     "text": [
      "\n",
      "100%|██████████████████████████████████████████| 10/10 [00:00<00:00, 382.96it/s]\n"
     ]
    },
    {
     "name": "stdout",
     "output_type": "stream",
     "text": [
      "Gradient of gamma: 1.3771585827271338e-07\n",
      "Epoch 34 - Loss: 0.6931437253952026\n",
      "Parameter name: gamma\n",
      "Parameter shape: torch.Size([])\n",
      "Parameter value: Parameter containing:\n",
      "tensor(-0.3152, device='cuda:0', requires_grad=True)\n",
      "\n"
     ]
    },
    {
     "name": "stderr",
     "output_type": "stream",
     "text": [
      "\n",
      "100%|██████████████████████████████████████████| 10/10 [00:00<00:00, 361.04it/s]\n",
      " 45%|███████████████████▎                       | 36/80 [00:02<00:03, 13.75it/s]"
     ]
    },
    {
     "name": "stdout",
     "output_type": "stream",
     "text": [
      "Gradient of gamma: 1.360919554826978e-07\n",
      "Epoch 35 - Loss: 0.6931437253952026\n",
      "Parameter name: gamma\n",
      "Parameter shape: torch.Size([])\n",
      "Parameter value: Parameter containing:\n",
      "tensor(-0.3265, device='cuda:0', requires_grad=True)\n",
      "\n"
     ]
    },
    {
     "name": "stderr",
     "output_type": "stream",
     "text": [
      "\n",
      "100%|██████████████████████████████████████████| 10/10 [00:00<00:00, 344.66it/s]\n"
     ]
    },
    {
     "name": "stdout",
     "output_type": "stream",
     "text": [
      "Gradient of gamma: 1.3509458085536608e-07\n",
      "Epoch 36 - Loss: 0.6931437253952026\n",
      "Parameter name: gamma\n",
      "Parameter shape: torch.Size([])\n",
      "Parameter value: Parameter containing:\n",
      "tensor(-0.3373, device='cuda:0', requires_grad=True)\n",
      "\n"
     ]
    },
    {
     "name": "stderr",
     "output_type": "stream",
     "text": [
      "\n",
      "100%|██████████████████████████████████████████| 10/10 [00:00<00:00, 391.11it/s]\n",
      " 48%|████████████████████▍                      | 38/80 [00:02<00:03, 13.86it/s]"
     ]
    },
    {
     "name": "stdout",
     "output_type": "stream",
     "text": [
      "Gradient of gamma: 1.3382549468587968e-07\n",
      "Epoch 37 - Loss: 0.6931437253952026\n",
      "Parameter name: gamma\n",
      "Parameter shape: torch.Size([])\n",
      "Parameter value: Parameter containing:\n",
      "tensor(-0.3477, device='cuda:0', requires_grad=True)\n",
      "\n"
     ]
    },
    {
     "name": "stderr",
     "output_type": "stream",
     "text": [
      "\n",
      "100%|██████████████████████████████████████████| 10/10 [00:00<00:00, 364.77it/s]\n"
     ]
    },
    {
     "name": "stdout",
     "output_type": "stream",
     "text": [
      "Gradient of gamma: 1.3275007404445205e-07\n",
      "Epoch 38 - Loss: 0.6931437253952026\n",
      "Parameter name: gamma\n",
      "Parameter shape: torch.Size([])\n",
      "Parameter value: Parameter containing:\n",
      "tensor(-0.3577, device='cuda:0', requires_grad=True)\n",
      "\n"
     ]
    },
    {
     "name": "stderr",
     "output_type": "stream",
     "text": [
      "\n",
      "100%|██████████████████████████████████████████| 10/10 [00:00<00:00, 354.28it/s]\n",
      " 50%|█████████████████████▌                     | 40/80 [00:02<00:02, 13.58it/s]"
     ]
    },
    {
     "name": "stdout",
     "output_type": "stream",
     "text": [
      "Gradient of gamma: 1.3192027381592197e-07\n",
      "Epoch 39 - Loss: 0.6931437253952026\n",
      "Parameter name: gamma\n",
      "Parameter shape: torch.Size([])\n",
      "Parameter value: Parameter containing:\n",
      "tensor(-0.3674, device='cuda:0', requires_grad=True)\n",
      "\n"
     ]
    },
    {
     "name": "stderr",
     "output_type": "stream",
     "text": [
      "\n",
      "100%|██████████████████████████████████████████| 10/10 [00:00<00:00, 312.54it/s]\n"
     ]
    },
    {
     "name": "stdout",
     "output_type": "stream",
     "text": [
      "Gradient of gamma: 1.3080159533274127e-07\n",
      "Epoch 40 - Loss: 0.6931437253952026\n",
      "Parameter name: gamma\n",
      "Parameter shape: torch.Size([])\n",
      "Parameter value: Parameter containing:\n",
      "tensor(-0.3768, device='cuda:0', requires_grad=True)\n",
      "\n"
     ]
    },
    {
     "name": "stderr",
     "output_type": "stream",
     "text": [
      "\n",
      "100%|██████████████████████████████████████████| 10/10 [00:00<00:00, 297.30it/s]\n",
      " 52%|██████████████████████▌                    | 42/80 [00:03<00:02, 13.13it/s]"
     ]
    },
    {
     "name": "stdout",
     "output_type": "stream",
     "text": [
      "Gradient of gamma: 1.3074293292447692e-07\n",
      "Epoch 41 - Loss: 0.6931437253952026\n",
      "Parameter name: gamma\n",
      "Parameter shape: torch.Size([])\n",
      "Parameter value: Parameter containing:\n",
      "tensor(-0.3859, device='cuda:0', requires_grad=True)\n",
      "\n"
     ]
    },
    {
     "name": "stderr",
     "output_type": "stream",
     "text": [
      "\n",
      "100%|██████████████████████████████████████████| 10/10 [00:00<00:00, 340.32it/s]\n"
     ]
    },
    {
     "name": "stdout",
     "output_type": "stream",
     "text": [
      "Gradient of gamma: 1.3771500562143046e-07\n",
      "Epoch 42 - Loss: 0.6931437253952026\n",
      "Parameter name: gamma\n",
      "Parameter shape: torch.Size([])\n",
      "Parameter value: Parameter containing:\n",
      "tensor(-0.3949, device='cuda:0', requires_grad=True)\n",
      "\n"
     ]
    },
    {
     "name": "stderr",
     "output_type": "stream",
     "text": [
      "\n",
      "100%|██████████████████████████████████████████| 10/10 [00:00<00:00, 348.43it/s]\n",
      " 55%|███████████████████████▋                   | 44/80 [00:03<00:02, 13.18it/s]"
     ]
    },
    {
     "name": "stdout",
     "output_type": "stream",
     "text": [
      "Gradient of gamma: 1.3684712030226365e-07\n",
      "Epoch 43 - Loss: 0.6931437253952026\n",
      "Parameter name: gamma\n",
      "Parameter shape: torch.Size([])\n",
      "Parameter value: Parameter containing:\n",
      "tensor(-0.4036, device='cuda:0', requires_grad=True)\n",
      "\n"
     ]
    },
    {
     "name": "stderr",
     "output_type": "stream",
     "text": [
      "\n",
      "100%|██████████████████████████████████████████| 10/10 [00:00<00:00, 295.64it/s]\n"
     ]
    },
    {
     "name": "stdout",
     "output_type": "stream",
     "text": [
      "Gradient of gamma: 1.3666317499883007e-07\n",
      "Epoch 44 - Loss: 0.6931436657905579\n",
      "Parameter name: gamma\n",
      "Parameter shape: torch.Size([])\n",
      "Parameter value: Parameter containing:\n",
      "tensor(-0.4121, device='cuda:0', requires_grad=True)\n",
      "\n"
     ]
    },
    {
     "name": "stderr",
     "output_type": "stream",
     "text": [
      "\n",
      "100%|██████████████████████████████████████████| 10/10 [00:00<00:00, 390.14it/s]\n",
      " 57%|████████████████████████▋                  | 46/80 [00:03<00:02, 13.35it/s]"
     ]
    },
    {
     "name": "stdout",
     "output_type": "stream",
     "text": [
      "Gradient of gamma: 1.3619228411698714e-07\n",
      "Epoch 45 - Loss: 0.6931436657905579\n",
      "Parameter name: gamma\n",
      "Parameter shape: torch.Size([])\n",
      "Parameter value: Parameter containing:\n",
      "tensor(-0.4205, device='cuda:0', requires_grad=True)\n",
      "\n"
     ]
    },
    {
     "name": "stderr",
     "output_type": "stream",
     "text": [
      "\n",
      "100%|██████████████████████████████████████████| 10/10 [00:00<00:00, 396.04it/s]\n"
     ]
    },
    {
     "name": "stdout",
     "output_type": "stream",
     "text": [
      "Gradient of gamma: 1.35720256366767e-07\n",
      "Epoch 46 - Loss: 0.6931436657905579\n",
      "Parameter name: gamma\n",
      "Parameter shape: torch.Size([])\n",
      "Parameter value: Parameter containing:\n",
      "tensor(-0.4288, device='cuda:0', requires_grad=True)\n",
      "\n"
     ]
    },
    {
     "name": "stderr",
     "output_type": "stream",
     "text": [
      "\n",
      "100%|██████████████████████████████████████████| 10/10 [00:00<00:00, 361.42it/s]\n",
      " 60%|█████████████████████████▊                 | 48/80 [00:03<00:02, 13.60it/s]"
     ]
    },
    {
     "name": "stdout",
     "output_type": "stream",
     "text": [
      "Gradient of gamma: 1.3480439520208165e-07\n",
      "Epoch 47 - Loss: 0.6931436657905579\n",
      "Parameter name: gamma\n",
      "Parameter shape: torch.Size([])\n",
      "Parameter value: Parameter containing:\n",
      "tensor(-0.4370, device='cuda:0', requires_grad=True)\n",
      "\n"
     ]
    },
    {
     "name": "stderr",
     "output_type": "stream",
     "text": [
      "\n",
      "100%|██████████████████████████████████████████| 10/10 [00:00<00:00, 404.57it/s]\n"
     ]
    },
    {
     "name": "stdout",
     "output_type": "stream",
     "text": [
      "Gradient of gamma: 1.3493809092324227e-07\n",
      "Epoch 48 - Loss: 0.6931436657905579\n",
      "Parameter name: gamma\n",
      "Parameter shape: torch.Size([])\n",
      "Parameter value: Parameter containing:\n",
      "tensor(-0.4450, device='cuda:0', requires_grad=True)\n",
      "\n"
     ]
    },
    {
     "name": "stderr",
     "output_type": "stream",
     "text": [
      "\n",
      "100%|██████████████████████████████████████████| 10/10 [00:00<00:00, 377.57it/s]\n",
      " 62%|██████████████████████████▉                | 50/80 [00:03<00:02, 14.01it/s]"
     ]
    },
    {
     "name": "stdout",
     "output_type": "stream",
     "text": [
      "Gradient of gamma: 1.1425072443671525e-07\n",
      "Epoch 49 - Loss: 0.6931436657905579\n",
      "Parameter name: gamma\n",
      "Parameter shape: torch.Size([])\n",
      "Parameter value: Parameter containing:\n",
      "tensor(-0.4529, device='cuda:0', requires_grad=True)\n",
      "\n"
     ]
    },
    {
     "name": "stderr",
     "output_type": "stream",
     "text": [
      "\n",
      "100%|██████████████████████████████████████████| 10/10 [00:00<00:00, 407.97it/s]\n"
     ]
    },
    {
     "name": "stdout",
     "output_type": "stream",
     "text": [
      "Gradient of gamma: 1.345606506220065e-07\n",
      "Epoch 50 - Loss: 0.6931436657905579\n",
      "Parameter name: gamma\n",
      "Parameter shape: torch.Size([])\n",
      "Parameter value: Parameter containing:\n",
      "tensor(-0.4568, device='cuda:0', requires_grad=True)\n",
      "\n"
     ]
    },
    {
     "name": "stderr",
     "output_type": "stream",
     "text": [
      "\n",
      "100%|██████████████████████████████████████████| 10/10 [00:00<00:00, 386.53it/s]\n"
     ]
    },
    {
     "name": "stdout",
     "output_type": "stream",
     "text": [
      "Gradient of gamma: 1.1406609701225534e-07\n",
      "Epoch 51 - Loss: 0.6931436657905579\n",
      "Parameter name: gamma\n",
      "Parameter shape: torch.Size([])\n"
     ]
    },
    {
     "name": "stderr",
     "output_type": "stream",
     "text": [
      " 65%|███████████████████████████▉               | 52/80 [00:03<00:01, 14.22it/s]"
     ]
    },
    {
     "name": "stdout",
     "output_type": "stream",
     "text": [
      "Parameter value: Parameter containing:\n",
      "tensor(-0.4606, device='cuda:0', requires_grad=True)\n",
      "\n"
     ]
    },
    {
     "name": "stderr",
     "output_type": "stream",
     "text": [
      "\n",
      "100%|██████████████████████████████████████████| 10/10 [00:00<00:00, 382.04it/s]\n"
     ]
    },
    {
     "name": "stdout",
     "output_type": "stream",
     "text": [
      "Gradient of gamma: 1.1346764949848875e-07\n",
      "Epoch 52 - Loss: 0.6931436657905579\n",
      "Parameter name: gamma\n",
      "Parameter shape: torch.Size([])\n",
      "Parameter value: Parameter containing:\n",
      "tensor(-0.4644, device='cuda:0', requires_grad=True)\n",
      "\n"
     ]
    },
    {
     "name": "stderr",
     "output_type": "stream",
     "text": [
      "\n",
      "100%|██████████████████████████████████████████| 10/10 [00:00<00:00, 363.82it/s]\n",
      " 68%|█████████████████████████████              | 54/80 [00:03<00:01, 14.30it/s]"
     ]
    },
    {
     "name": "stdout",
     "output_type": "stream",
     "text": [
      "Gradient of gamma: 1.1360225471435115e-07\n",
      "Epoch 53 - Loss: 0.6931436657905579\n",
      "Parameter name: gamma\n",
      "Parameter shape: torch.Size([])\n",
      "Parameter value: Parameter containing:\n",
      "tensor(-0.4680, device='cuda:0', requires_grad=True)\n",
      "\n"
     ]
    },
    {
     "name": "stderr",
     "output_type": "stream",
     "text": [
      "\n",
      "100%|██████████████████████████████████████████| 10/10 [00:00<00:00, 335.12it/s]\n"
     ]
    },
    {
     "name": "stdout",
     "output_type": "stream",
     "text": [
      "Gradient of gamma: 1.1239990271860734e-07\n",
      "Epoch 54 - Loss: 0.6931436657905579\n",
      "Parameter name: gamma\n",
      "Parameter shape: torch.Size([])\n",
      "Parameter value: Parameter containing:\n",
      "tensor(-0.4717, device='cuda:0', requires_grad=True)\n",
      "\n"
     ]
    },
    {
     "name": "stderr",
     "output_type": "stream",
     "text": [
      "\n",
      "100%|██████████████████████████████████████████| 10/10 [00:00<00:00, 376.30it/s]\n",
      " 70%|██████████████████████████████             | 56/80 [00:04<00:01, 13.94it/s]"
     ]
    },
    {
     "name": "stdout",
     "output_type": "stream",
     "text": [
      "Gradient of gamma: 1.1301381164230406e-07\n",
      "Epoch 55 - Loss: 0.6931436657905579\n",
      "Parameter name: gamma\n",
      "Parameter shape: torch.Size([])\n",
      "Parameter value: Parameter containing:\n",
      "tensor(-0.4752, device='cuda:0', requires_grad=True)\n",
      "\n"
     ]
    },
    {
     "name": "stderr",
     "output_type": "stream",
     "text": [
      "\n",
      "100%|██████████████████████████████████████████| 10/10 [00:00<00:00, 381.50it/s]\n"
     ]
    },
    {
     "name": "stdout",
     "output_type": "stream",
     "text": [
      "Gradient of gamma: 1.1333759175613523e-07\n",
      "Epoch 56 - Loss: 0.6931436657905579\n",
      "Parameter name: gamma\n",
      "Parameter shape: torch.Size([])\n",
      "Parameter value: Parameter containing:\n",
      "tensor(-0.4788, device='cuda:0', requires_grad=True)\n",
      "\n"
     ]
    },
    {
     "name": "stderr",
     "output_type": "stream",
     "text": [
      "\n",
      "100%|██████████████████████████████████████████| 10/10 [00:00<00:00, 379.46it/s]\n",
      " 72%|███████████████████████████████▏           | 58/80 [00:04<00:01, 14.09it/s]"
     ]
    },
    {
     "name": "stdout",
     "output_type": "stream",
     "text": [
      "Gradient of gamma: 1.1291649570921436e-07\n",
      "Epoch 57 - Loss: 0.6931436657905579\n",
      "Parameter name: gamma\n",
      "Parameter shape: torch.Size([])\n",
      "Parameter value: Parameter containing:\n",
      "tensor(-0.4823, device='cuda:0', requires_grad=True)\n",
      "\n"
     ]
    },
    {
     "name": "stderr",
     "output_type": "stream",
     "text": [
      "\n",
      "100%|██████████████████████████████████████████| 10/10 [00:00<00:00, 371.87it/s]\n"
     ]
    },
    {
     "name": "stdout",
     "output_type": "stream",
     "text": [
      "Gradient of gamma: 1.1211432138225064e-07\n",
      "Epoch 58 - Loss: 0.6931436657905579\n",
      "Parameter name: gamma\n",
      "Parameter shape: torch.Size([])\n",
      "Parameter value: Parameter containing:\n",
      "tensor(-0.4858, device='cuda:0', requires_grad=True)\n",
      "\n"
     ]
    },
    {
     "name": "stderr",
     "output_type": "stream",
     "text": [
      "\n",
      "100%|██████████████████████████████████████████| 10/10 [00:00<00:00, 349.90it/s]\n",
      " 75%|████████████████████████████████▎          | 60/80 [00:04<00:01, 13.64it/s]"
     ]
    },
    {
     "name": "stdout",
     "output_type": "stream",
     "text": [
      "Gradient of gamma: 1.133821569965221e-07\n",
      "Epoch 59 - Loss: 0.6931436657905579\n",
      "Parameter name: gamma\n",
      "Parameter shape: torch.Size([])\n",
      "Parameter value: Parameter containing:\n",
      "tensor(-0.4892, device='cuda:0', requires_grad=True)\n",
      "\n"
     ]
    },
    {
     "name": "stderr",
     "output_type": "stream",
     "text": [
      "\n",
      "100%|██████████████████████████████████████████| 10/10 [00:00<00:00, 331.31it/s]\n"
     ]
    },
    {
     "name": "stdout",
     "output_type": "stream",
     "text": [
      "Gradient of gamma: 1.1254451237618923e-07\n",
      "Epoch 60 - Loss: 0.6931436657905579\n",
      "Parameter name: gamma\n",
      "Parameter shape: torch.Size([])\n",
      "Parameter value: Parameter containing:\n",
      "tensor(-0.4926, device='cuda:0', requires_grad=True)\n",
      "\n"
     ]
    },
    {
     "name": "stderr",
     "output_type": "stream",
     "text": [
      "\n",
      "100%|██████████████████████████████████████████| 10/10 [00:00<00:00, 358.74it/s]\n",
      " 78%|█████████████████████████████████▎         | 62/80 [00:04<00:01, 13.44it/s]"
     ]
    },
    {
     "name": "stdout",
     "output_type": "stream",
     "text": [
      "Gradient of gamma: 1.1140218703076243e-07\n",
      "Epoch 61 - Loss: 0.6931436657905579\n",
      "Parameter name: gamma\n",
      "Parameter shape: torch.Size([])\n",
      "Parameter value: Parameter containing:\n",
      "tensor(-0.4960, device='cuda:0', requires_grad=True)\n",
      "\n"
     ]
    },
    {
     "name": "stderr",
     "output_type": "stream",
     "text": [
      "\n",
      "100%|██████████████████████████████████████████| 10/10 [00:00<00:00, 262.84it/s]\n"
     ]
    },
    {
     "name": "stdout",
     "output_type": "stream",
     "text": [
      "Gradient of gamma: 1.1162410373799503e-07\n",
      "Epoch 62 - Loss: 0.6931436657905579\n",
      "Parameter name: gamma\n",
      "Parameter shape: torch.Size([])\n",
      "Parameter value: Parameter containing:\n",
      "tensor(-0.4994, device='cuda:0', requires_grad=True)\n",
      "\n"
     ]
    },
    {
     "name": "stderr",
     "output_type": "stream",
     "text": [
      "\n",
      "100%|██████████████████████████████████████████| 10/10 [00:00<00:00, 286.82it/s]\n",
      " 80%|██████████████████████████████████▍        | 64/80 [00:04<00:01, 12.87it/s]"
     ]
    },
    {
     "name": "stdout",
     "output_type": "stream",
     "text": [
      "Gradient of gamma: 1.1263728083577007e-07\n",
      "Epoch 63 - Loss: 0.6931436657905579\n",
      "Parameter name: gamma\n",
      "Parameter shape: torch.Size([])\n",
      "Parameter value: Parameter containing:\n",
      "tensor(-0.5028, device='cuda:0', requires_grad=True)\n",
      "\n"
     ]
    },
    {
     "name": "stderr",
     "output_type": "stream",
     "text": [
      "\n",
      "100%|██████████████████████████████████████████| 10/10 [00:00<00:00, 316.92it/s]\n"
     ]
    },
    {
     "name": "stdout",
     "output_type": "stream",
     "text": [
      "Gradient of gamma: 1.1028714652638882e-07\n",
      "Epoch 64 - Loss: 0.6931436657905579\n",
      "Parameter name: gamma\n",
      "Parameter shape: torch.Size([])\n",
      "Parameter value: Parameter containing:\n",
      "tensor(-0.5062, device='cuda:0', requires_grad=True)\n",
      "\n"
     ]
    },
    {
     "name": "stderr",
     "output_type": "stream",
     "text": [
      "\n",
      "100%|██████████████████████████████████████████| 10/10 [00:00<00:00, 360.71it/s]\n",
      " 82%|███████████████████████████████████▍       | 66/80 [00:04<00:01, 13.17it/s]"
     ]
    },
    {
     "name": "stdout",
     "output_type": "stream",
     "text": [
      "Gradient of gamma: 1.1176052794326097e-07\n",
      "Epoch 65 - Loss: 0.6931436657905579\n",
      "Parameter name: gamma\n",
      "Parameter shape: torch.Size([])\n",
      "Parameter value: Parameter containing:\n",
      "tensor(-0.5095, device='cuda:0', requires_grad=True)\n",
      "\n"
     ]
    },
    {
     "name": "stderr",
     "output_type": "stream",
     "text": [
      "\n",
      "100%|██████████████████████████████████████████| 10/10 [00:00<00:00, 390.18it/s]\n"
     ]
    },
    {
     "name": "stdout",
     "output_type": "stream",
     "text": [
      "Gradient of gamma: 1.1119300324935466e-07\n",
      "Epoch 66 - Loss: 0.6931436657905579\n",
      "Parameter name: gamma\n",
      "Parameter shape: torch.Size([])\n",
      "Parameter value: Parameter containing:\n",
      "tensor(-0.5129, device='cuda:0', requires_grad=True)\n",
      "\n"
     ]
    },
    {
     "name": "stderr",
     "output_type": "stream",
     "text": [
      "\n",
      "100%|██████████████████████████████████████████| 10/10 [00:00<00:00, 409.55it/s]\n"
     ]
    },
    {
     "name": "stdout",
     "output_type": "stream",
     "text": [
      "Gradient of gamma: 1.1185511539224535e-07\n",
      "Epoch 67 - Loss: 0.6931436657905579\n",
      "Parameter name: gamma\n",
      "Parameter shape: torch.Size([])\n"
     ]
    },
    {
     "name": "stderr",
     "output_type": "stream",
     "text": [
      " 85%|████████████████████████████████████▌      | 68/80 [00:05<00:00, 13.70it/s]"
     ]
    },
    {
     "name": "stdout",
     "output_type": "stream",
     "text": [
      "Parameter value: Parameter containing:\n",
      "tensor(-0.5162, device='cuda:0', requires_grad=True)\n",
      "\n"
     ]
    },
    {
     "name": "stderr",
     "output_type": "stream",
     "text": [
      "\n",
      "100%|██████████████████████████████████████████| 10/10 [00:00<00:00, 347.41it/s]\n"
     ]
    },
    {
     "name": "stdout",
     "output_type": "stream",
     "text": [
      "Gradient of gamma: 1.1091833584941924e-07\n",
      "Epoch 68 - Loss: 0.6931436657905579\n",
      "Parameter name: gamma\n",
      "Parameter shape: torch.Size([])\n",
      "Parameter value: Parameter containing:\n",
      "tensor(-0.5196, device='cuda:0', requires_grad=True)\n",
      "\n"
     ]
    },
    {
     "name": "stderr",
     "output_type": "stream",
     "text": [
      "\n",
      "100%|██████████████████████████████████████████| 10/10 [00:00<00:00, 334.54it/s]\n",
      " 88%|█████████████████████████████████████▋     | 70/80 [00:05<00:00, 13.71it/s]"
     ]
    },
    {
     "name": "stdout",
     "output_type": "stream",
     "text": [
      "Gradient of gamma: 1.1118754628114402e-07\n",
      "Epoch 69 - Loss: 0.6931436657905579\n",
      "Parameter name: gamma\n",
      "Parameter shape: torch.Size([])\n",
      "Parameter value: Parameter containing:\n",
      "tensor(-0.5229, device='cuda:0', requires_grad=True)\n",
      "\n"
     ]
    },
    {
     "name": "stderr",
     "output_type": "stream",
     "text": [
      "\n",
      "100%|██████████████████████████████████████████| 10/10 [00:00<00:00, 394.77it/s]\n"
     ]
    },
    {
     "name": "stdout",
     "output_type": "stream",
     "text": [
      "Gradient of gamma: 1.1068368621636182e-07\n",
      "Epoch 70 - Loss: 0.6931436657905579\n",
      "Parameter name: gamma\n",
      "Parameter shape: torch.Size([])\n",
      "Parameter value: Parameter containing:\n",
      "tensor(-0.5263, device='cuda:0', requires_grad=True)\n",
      "\n"
     ]
    },
    {
     "name": "stderr",
     "output_type": "stream",
     "text": [
      "\n",
      "100%|██████████████████████████████████████████| 10/10 [00:00<00:00, 381.70it/s]\n",
      " 90%|██████████████████████████████████████▋    | 72/80 [00:05<00:00, 14.06it/s]"
     ]
    },
    {
     "name": "stdout",
     "output_type": "stream",
     "text": [
      "Gradient of gamma: 1.1614429240580648e-07\n",
      "Epoch 71 - Loss: 0.6931436657905579\n",
      "Parameter name: gamma\n",
      "Parameter shape: torch.Size([])\n",
      "Parameter value: Parameter containing:\n",
      "tensor(-0.5297, device='cuda:0', requires_grad=True)\n",
      "\n"
     ]
    },
    {
     "name": "stderr",
     "output_type": "stream",
     "text": [
      "\n",
      "100%|██████████████████████████████████████████| 10/10 [00:00<00:00, 393.79it/s]\n"
     ]
    },
    {
     "name": "stdout",
     "output_type": "stream",
     "text": [
      "Gradient of gamma: 1.1733936844393611e-07\n",
      "Epoch 72 - Loss: 0.6931436657905579\n",
      "Parameter name: gamma\n",
      "Parameter shape: torch.Size([])\n",
      "Parameter value: Parameter containing:\n",
      "tensor(-0.5331, device='cuda:0', requires_grad=True)\n",
      "\n"
     ]
    },
    {
     "name": "stderr",
     "output_type": "stream",
     "text": [
      "\n",
      "100%|██████████████████████████████████████████| 10/10 [00:00<00:00, 423.48it/s]\n"
     ]
    },
    {
     "name": "stdout",
     "output_type": "stream",
     "text": [
      "Gradient of gamma: 1.1021256796084344e-07\n"
     ]
    },
    {
     "name": "stderr",
     "output_type": "stream",
     "text": [
      " 92%|███████████████████████████████████████▊   | 74/80 [00:05<00:00, 14.31it/s]"
     ]
    },
    {
     "name": "stdout",
     "output_type": "stream",
     "text": [
      "Epoch 73 - Loss: 0.6931436657905579\n",
      "Parameter name: gamma\n",
      "Parameter shape: torch.Size([])\n",
      "Parameter value: Parameter containing:\n",
      "tensor(-0.5365, device='cuda:0', requires_grad=True)\n",
      "\n"
     ]
    },
    {
     "name": "stderr",
     "output_type": "stream",
     "text": [
      "\n",
      "100%|██████████████████████████████████████████| 10/10 [00:00<00:00, 324.07it/s]\n"
     ]
    },
    {
     "name": "stdout",
     "output_type": "stream",
     "text": [
      "Gradient of gamma: 1.1206793715246022e-07\n",
      "Epoch 74 - Loss: 0.6931436657905579\n",
      "Parameter name: gamma\n",
      "Parameter shape: torch.Size([])\n",
      "Parameter value: Parameter containing:\n",
      "tensor(-0.5399, device='cuda:0', requires_grad=True)\n",
      "\n"
     ]
    },
    {
     "name": "stderr",
     "output_type": "stream",
     "text": [
      "\n",
      "100%|██████████████████████████████████████████| 10/10 [00:00<00:00, 358.84it/s]\n",
      " 95%|████████████████████████████████████████▊  | 76/80 [00:05<00:00, 14.14it/s]"
     ]
    },
    {
     "name": "stdout",
     "output_type": "stream",
     "text": [
      "Gradient of gamma: 1.2702003004960716e-07\n",
      "Epoch 75 - Loss: 0.6931436657905579\n",
      "Parameter name: gamma\n",
      "Parameter shape: torch.Size([])\n",
      "Parameter value: Parameter containing:\n",
      "tensor(-0.5433, device='cuda:0', requires_grad=True)\n",
      "\n"
     ]
    },
    {
     "name": "stderr",
     "output_type": "stream",
     "text": [
      "\n",
      "100%|██████████████████████████████████████████| 10/10 [00:00<00:00, 407.86it/s]\n"
     ]
    },
    {
     "name": "stdout",
     "output_type": "stream",
     "text": [
      "Gradient of gamma: 1.2751479516737163e-07\n",
      "Epoch 76 - Loss: 0.6931436657905579\n",
      "Parameter name: gamma\n",
      "Parameter shape: torch.Size([])\n",
      "Parameter value: Parameter containing:\n",
      "tensor(-0.5468, device='cuda:0', requires_grad=True)\n",
      "\n"
     ]
    },
    {
     "name": "stderr",
     "output_type": "stream",
     "text": [
      "\n",
      "100%|██████████████████████████████████████████| 10/10 [00:00<00:00, 402.38it/s]\n",
      " 98%|█████████████████████████████████████████▉ | 78/80 [00:05<00:00, 14.39it/s]"
     ]
    },
    {
     "name": "stdout",
     "output_type": "stream",
     "text": [
      "Gradient of gamma: 1.4055694919079542e-07\n",
      "Epoch 77 - Loss: 0.6931436657905579\n",
      "Parameter name: gamma\n",
      "Parameter shape: torch.Size([])\n",
      "Parameter value: Parameter containing:\n",
      "tensor(-0.5504, device='cuda:0', requires_grad=True)\n",
      "\n"
     ]
    },
    {
     "name": "stderr",
     "output_type": "stream",
     "text": [
      "\n",
      "100%|██████████████████████████████████████████| 10/10 [00:00<00:00, 408.89it/s]\n"
     ]
    },
    {
     "name": "stdout",
     "output_type": "stream",
     "text": [
      "Gradient of gamma: 1.3299722922965884e-07\n",
      "Epoch 78 - Loss: 0.6931436657905579\n",
      "Parameter name: gamma\n",
      "Parameter shape: torch.Size([])\n",
      "Parameter value: Parameter containing:\n",
      "tensor(-0.5541, device='cuda:0', requires_grad=True)\n",
      "\n"
     ]
    },
    {
     "name": "stderr",
     "output_type": "stream",
     "text": [
      "\n",
      "100%|██████████████████████████████████████████| 10/10 [00:00<00:00, 399.59it/s]\n"
     ]
    },
    {
     "name": "stdout",
     "output_type": "stream",
     "text": [
      "Gradient of gamma: 1.2459349818527699e-07\n"
     ]
    },
    {
     "name": "stderr",
     "output_type": "stream",
     "text": [
      "100%|███████████████████████████████████████████| 80/80 [00:05<00:00, 13.66it/s]\n"
     ]
    },
    {
     "name": "stdout",
     "output_type": "stream",
     "text": [
      "Epoch 79 - Loss: 0.6931436657905579\n",
      "Parameter name: gamma\n",
      "Parameter shape: torch.Size([])\n",
      "Parameter value: Parameter containing:\n",
      "tensor(-0.5578, device='cuda:0', requires_grad=True)\n",
      "\n"
     ]
    }
   ],
   "source": [
    "results = []\n",
    "param_history = []\n",
    "loss_histories = []\n",
    "for shot in taelik.s_shots:\n",
    "    sampler = CategoriesSampler(all_labels_support, all_labels_query, taelik.n_batch,\n",
    "                                        taelik.k_eff, taelik.n_ways, shot, taelik.n_query, \n",
    "                                        taelik.sampling, 1, 0.1)\n",
    "    sampler.create_list_classes(all_labels_support, all_labels_query)\n",
    "    sampler_support = SamplerSupport(sampler)\n",
    "    sampler_query = SamplerQuery(sampler)\n",
    "    test_loader_query = []\n",
    "    for indices in sampler_query :\n",
    "        test_loader_query.append((all_features_query[indices,:], all_labels_query[indices]))\n",
    "    \n",
    "    test_loader_support = []\n",
    "    for indices in sampler_support :\n",
    "        test_loader_support.append((all_features_support[indices,:], all_labels_support[indices]))\n",
    "        \n",
    "    task_generator = Tasks_Generator(k_eff=taelik.k_eff, n_ways=taelik.n_ways, shot=shot, n_query=taelik.n_query, loader_support=test_loader_support, loader_query=test_loader_query, train_mean=torch.tensor([0]), log_file='./logs/mini/resnet18/uniform/PADDLE/PADDLE_run_0.log')\n",
    "    u_paddle = U_Paddle(n_layers=10, device='cuda', log_file='xx.log')\n",
    "    \n",
    "    tasks = task_generator.generate_tasks()\n",
    "    \n",
    "    criterion = torch.nn.CrossEntropyLoss()\n",
    "    optimizer = torch.optim.Adam(u_paddle.parameters(), lr=0.1)\n",
    "    scheduler = StepLR(optimizer, step_size=50, gamma=0.5)\n",
    "    \n",
    "    u_paddle, loss_history, params_history = training2(u_paddle, tasks, criterion, optimizer, scheduler, 80, 'cuda')\n",
    "    torch.cuda.empty_cache()\n",
    "    param_history.append(params_history)\n",
    "    results.append(u_paddle)\n",
    "    loss_histories.append(loss_history)"
   ]
  },
  {
   "cell_type": "code",
   "execution_count": 19,
   "id": "b598ee92-acab-49ec-b363-f2d5e7bfa955",
   "metadata": {},
   "outputs": [
    {
     "name": "stderr",
     "output_type": "stream",
     "text": [
      "100%|██████████████████████████████████████████| 10/10 [00:00<00:00, 413.83it/s]\n"
     ]
    }
   ],
   "source": [
    "i = 4\n",
    "x = results[i].run_task(task_dic=tasks, shot = taelik.s_shots[i])"
   ]
  },
  {
   "cell_type": "code",
   "execution_count": 20,
   "id": "784a3448-0a70-4e5f-9608-65f634eeaf36",
   "metadata": {},
   "outputs": [
    {
     "name": "stdout",
     "output_type": "stream",
     "text": [
      "Confidence interval : 0.699999988079071\n"
     ]
    }
   ],
   "source": [
    "print(f\"Confidence interval : {compute_confidence_interval(x['acc'][:, -1])[0]}\")"
   ]
  },
  {
   "cell_type": "markdown",
   "id": "dd94575c-2876-4cfc-8e2b-637ff7282b95",
   "metadata": {
    "jp-MarkdownHeadingCollapsed": true
   },
   "source": [
    "## Laplacian Shot"
   ]
  },
  {
   "cell_type": "code",
   "execution_count": 3,
   "id": "d0ba11d9-0054-4dd7-8d08-b581c9358595",
   "metadata": {},
   "outputs": [],
   "source": [
    "import torch.nn.functional as F\n",
    "from tqdm import tqdm\n",
    "import torch\n",
    "import time\n",
    "from numpy import linalg as LA\n",
    "import numpy as np\n",
    "import math\n",
    "from scipy import sparse\n",
    "import matplotlib\n",
    "matplotlib.use('Agg')\n",
    "from sklearn.neighbors import NearestNeighbors\n",
    "from src.utils import get_metric, Logger, get_one_hot"
   ]
  },
  {
   "cell_type": "markdown",
   "id": "0f559b69-c017-443c-a0da-fff935e6dc80",
   "metadata": {},
   "source": [
    "#### Tools"
   ]
  },
  {
   "cell_type": "code",
   "execution_count": 154,
   "id": "d5642db3-a443-4ad1-b00a-eaba27c0c94a",
   "metadata": {},
   "outputs": [],
   "source": [
    "def normalize(Y_in):\n",
    "    maxcol = np.max(Y_in, axis=1)\n",
    "    Y_in = Y_in - maxcol[:, np.newaxis]\n",
    "    N = Y_in.shape[0]\n",
    "    size_limit = 150000\n",
    "    if N > size_limit:\n",
    "        batch_size = 1280\n",
    "        Y_out = []\n",
    "        num_batch = int(math.ceil(1.0 * N / batch_size))\n",
    "        for batch_idx in range(num_batch):\n",
    "            start = batch_idx * batch_size\n",
    "            end = min((batch_idx + 1) * batch_size, N)\n",
    "            tmp = np.exp(Y_in[start:end, :])\n",
    "            tmp = tmp / (np.sum(tmp, axis=1)[:, None])\n",
    "            Y_out.append(tmp)\n",
    "        del Y_in\n",
    "        Y_out = np.vstack(Y_out)\n",
    "    else:\n",
    "        Y_out = np.exp(Y_in)\n",
    "        Y_out = Y_out / (np.sum(Y_out, axis=1)[:, None])\n",
    "\n",
    "    return Y_out\n",
    "\n",
    "def normalization(z_s, z_q, train_mean, norm_type):\n",
    "    \"\"\"\n",
    "        inputs:\n",
    "            z_s : np.Array of shape [n_task, s_shot, feature_dim]\n",
    "            z_q : np.Array of shape [n_task, q_shot, feature_dim]\n",
    "            train_mean: np.Array of shape [feature_dim]\n",
    "    \"\"\"\n",
    "    z_s = z_s.cpu()\n",
    "    z_q = z_q.cpu()\n",
    "\n",
    "    # CL2N Normalization\n",
    "    if norm_type == 'CL2N':\n",
    "        z_s = z_s - train_mean\n",
    "        z_s = z_s / LA.norm(z_s, 2, 2)[:, :, None]\n",
    "        z_q = z_q - train_mean\n",
    "        z_q = z_q / LA.norm(z_q, 2, 2)[:, :, None]\n",
    "\n",
    "    # L2 Normalization\n",
    "    elif norm_type == 'L2N':\n",
    "        z_s = z_s / LA.norm(z_s, 2, 2)[:, :, None]\n",
    "        z_q = z_q / LA.norm(z_q, 2, 2)[:, :, None]\n",
    "    return z_s, z_q\n",
    "\n",
    "\n",
    "def run_prediction(support, query, y_s, y_q, shot, batch_size, lmd, bound_iter):\n",
    "    \"\"\"\n",
    "    Corresponds to the LaplacianShot inference\n",
    "    inputs:\n",
    "        support : torch.Tensor of shape [n_task, s_shot, feature_dim]\n",
    "        query : torch.Tensor of shape [n_task, q_shot, feature_dim]\n",
    "        y_s : torch.Tensor of shape [n_task, s_shot]\n",
    "        y_q : torch.Tensor of shape [n_task, q_shot]\n",
    "    records :\n",
    "        accuracy\n",
    "        ent_energy\n",
    "        inference time\n",
    "    \"\"\"\n",
    "    pred = []\n",
    "    for i in tqdm(range(batch_size)):\n",
    "        \n",
    "        substract = support[i][:, None, :] - query[i]\n",
    "        distance = LA.norm(substract, 2, axis=-1)\n",
    "        unary = distance.transpose() ** 2\n",
    "        W = create_affinity(query[i], knn=5)\n",
    "        preds, acc_list, ent_energy, times = bound_update(unary=unary, kernel=W, bound_lambda=lmd, y_s=y_s, y_q=y_q, task_i=i,\n",
    "                                            bound_iteration=bound_iter)\n",
    "        pred.append(preds)\n",
    "    return pred, y_q, acc_list\n",
    "\n",
    "def create_affinity(X,knn):\n",
    "    N, D = X.shape\n",
    "\n",
    "    nbrs = NearestNeighbors(n_neighbors=knn).fit(X)\n",
    "    dist, knnind = nbrs.kneighbors(X)\n",
    "\n",
    "    row = np.repeat(range(N), knn - 1)\n",
    "    col = knnind[:, 1:].flatten()\n",
    "    data = np.ones(X.shape[0] * (knn - 1))\n",
    "    W = sparse.csc_matrix((data, (row, col)), shape=(N, N), dtype=float)\n",
    "    return W\n",
    "\n",
    "    \n",
    "def bound_update(unary, kernel, bound_lambda, y_s, y_q, task_i, bound_iteration=20, batch=False):\n",
    "    oldE = float('inf')\n",
    "    Y = normalize(-unary)\n",
    "    E_list = []\n",
    "    out_list = []\n",
    "    acc_list = []\n",
    "    timestamps = []\n",
    "    t0 = time.time()\n",
    "    for i in range(bound_iteration):\n",
    "        additive = -unary\n",
    "        mul_kernel = kernel.dot(Y)\n",
    "        Y = -bound_lambda * mul_kernel\n",
    "        additive = additive - Y\n",
    "        Y = normalize(additive)\n",
    "        E = entropy_energy(Y, unary, kernel, bound_lambda, batch)\n",
    "        E_list.append(E)\n",
    "        # print('entropy_energy is ' +repr(E) + ' at iteration ',i)\n",
    "        l = np.argmax(Y, axis=1)\n",
    "        #out = np.take(y_s, l)\n",
    "        out = l\n",
    "        timestamps.append(time.time()-t0)\n",
    "\n",
    "        if (i > 1 and (abs(E - oldE) <= 1e-6 * abs(oldE))):\n",
    "            # print('Converged')\n",
    "            out_list.append(torch.from_numpy(out))\n",
    "            acc_list.append((torch.from_numpy(y_q[task_i]) == torch.from_numpy(out)).float())\n",
    "            for j in range(bound_iteration-i-1):\n",
    "                out_list.append(out_list[i].detach().clone())\n",
    "                acc_list.append(acc_list[i].detach().clone())\n",
    "                E_list.append(E_list[i])\n",
    "                timestamps.append(0)\n",
    "            break\n",
    "\n",
    "        else:\n",
    "            oldE = E.copy()\n",
    "\n",
    "            out_list.append(torch.from_numpy(out))\n",
    "            acc_list.append((torch.from_numpy(y_q[task_i]) == torch.from_numpy(out)).float())\n",
    "        t0 = time.time()\n",
    "\n",
    "    out_list = torch.stack(out_list, dim=0)\n",
    "    acc_list = torch.stack(acc_list, dim=0).mean(dim=1, keepdim=True)\n",
    "\n",
    "    return out, acc_list, E_list, timestamps\n",
    "def entropy_energy(Y, unary, kernel, bound_lambda, batch=False):\n",
    "    tot_size = Y.shape[0]\n",
    "    pairwise = kernel.dot(Y)\n",
    "    if batch == False:\n",
    "        temp = (unary * Y) + (-bound_lambda * pairwise * Y)\n",
    "        E = (Y * np.log(np.maximum(Y, 1e-20)) + temp).sum()\n",
    "    else:\n",
    "        batch_size = 1024\n",
    "        num_batch = int(math.ceil(1.0 * tot_size / batch_size))\n",
    "        E = 0\n",
    "        for batch_idx in range(num_batch):\n",
    "            start = batch_idx * batch_size\n",
    "            end = min((batch_idx + 1) * batch_size, tot_size)\n",
    "            temp = (unary[start:end] * Y[start:end]) + (-bound_lambda * pairwise[start:end] * Y[start:end])\n",
    "            E = E + (Y[start:end] * np.log(np.maximum(Y[start:end], 1e-20)) + temp).sum()\n",
    "\n",
    "    return E\n",
    "\n",
    "\n",
    "def proto_rectification(y_s, support, query, shot,temp = 2, number_tasks=5):\n",
    "    \"\"\"\n",
    "        inputs:\n",
    "            support : np.Array of shape [n_task, s_shot, feature_dim]\n",
    "            query : np.Array of shape [n_task, q_shot, feature_dim]\n",
    "            shot: Shot\n",
    "\n",
    "        ouput:\n",
    "            proto_weights: prototype of each class\n",
    "    \"\"\"\n",
    "    eta = support.mean(1) - query.mean(1)  # Shifting term\n",
    "    query = query + eta[:, np.newaxis, :]  # Adding shifting term to each normalized query feature\n",
    "    query_aug = torch.cat((support, query), axis=1)  # Augmented set S' (X')\n",
    "    one_hot = get_one_hot(y_s)\n",
    "    counts = one_hot.sum(1).view(support.size()[0], -1, 1)\n",
    "    weights = one_hot.transpose(1, 2).matmul(support)\n",
    "    init_prototypes = weights / counts\n",
    "\n",
    "    proto_weights = []\n",
    "    for j in tqdm(range(number_tasks)):\n",
    "        distance = get_metric('cosine')(init_prototypes[j], query_aug[j])\n",
    "        predict = torch.argmin(distance, dim=1)\n",
    "        cos_sim = F.cosine_similarity(query_aug[j][:, None, :], init_prototypes[j][None, :, :], dim=2)  # Cosine similarity between X' and Pn\n",
    "        cos_sim = temp * cos_sim\n",
    "        W = F.softmax(cos_sim, dim=1)\n",
    "        init_prototypeslist = [(W[predict == i, i].unsqueeze(1) * query_aug[j][predict == i]).mean(0, keepdim=True) for i in predict.unique()]\n",
    "        proto = torch.cat(init_prototypeslist, dim=0).cpu()  # Rectified prototypes P'n\n",
    "        \n",
    "        if proto.shape[0] != len(torch.unique(y_s)):\n",
    "            proto = init_prototypes[j]\n",
    "\n",
    "        proto_weights.append(proto)\n",
    "\n",
    "    proto_weights = np.stack(proto_weights, axis=0)\n",
    "    return proto_weights"
   ]
  },
  {
   "cell_type": "markdown",
   "id": "ca968bdd-6d97-4e38-ab04-d13663b1a681",
   "metadata": {},
   "source": [
    "#### Task generating"
   ]
  },
  {
   "cell_type": "code",
   "execution_count": 125,
   "id": "2435e543-cd38-4141-855a-2232d6b538b4",
   "metadata": {},
   "outputs": [],
   "source": [
    "sampler = CategoriesSampler(all_labels_support, all_labels_query, taelik.n_batch,\n",
    "                                    taelik.k_eff, taelik.n_ways, 4, taelik.n_query, \n",
    "                                    taelik.sampling, 1, 0.1)\n",
    "sampler.create_list_classes(all_labels_support, all_labels_query)\n",
    "sampler_support = SamplerSupport(sampler)\n",
    "sampler_query = SamplerQuery(sampler)\n",
    "test_loader_query = []\n",
    "for indices in sampler_query :\n",
    "    test_loader_query.append((all_features_query[indices,:], all_labels_query[indices]))\n",
    "\n",
    "test_loader_support = []\n",
    "for indices in sampler_support :\n",
    "    test_loader_support.append((all_features_support[indices,:], all_labels_support[indices]))\n",
    "    \n",
    "task_generator = Tasks_Generator(k_eff=taelik.k_eff, n_ways=taelik.n_ways, shot=5, n_query=taelik.n_query, loader_support=test_loader_support, loader_query=test_loader_query, train_mean=torch.tensor([0]), log_file='./logs/mini/resnet18/uniform/PADDLE/PADDLE_run_0.log')\n",
    "u_paddle = U_Paddle(n_layers=10, device='cuda', log_file='xx.log')\n",
    "\n",
    "task_dic = task_generator.generate_tasks()"
   ]
  },
  {
   "cell_type": "markdown",
   "id": "73dded1a-74ee-4bec-b9a0-9966e2957f89",
   "metadata": {},
   "source": [
    "#### Predictions"
   ]
  },
  {
   "cell_type": "code",
   "execution_count": 155,
   "id": "22e9e6c2-4062-4f1d-af3d-6979c10fa88d",
   "metadata": {},
   "outputs": [
    {
     "name": "stderr",
     "output_type": "stream",
     "text": [
      "/tmp/ipykernel_15842/3793071448.py:43: DeprecationWarning: __array_wrap__ must accept context and return_scalar arguments (positionally) in the future. (Deprecated NumPy 2.0)\n",
      "  z_s = z_s / LA.norm(z_s, 2, 2)[:, :, None]\n",
      "/tmp/ipykernel_15842/3793071448.py:44: DeprecationWarning: __array_wrap__ must accept context and return_scalar arguments (positionally) in the future. (Deprecated NumPy 2.0)\n",
      "  z_q = z_q / LA.norm(z_q, 2, 2)[:, :, None]\n",
      "100%|████████████████████████████████████████████| 5/5 [00:00<00:00, 254.93it/s]\n",
      "100%|█████████████████████████████████████████████| 5/5 [00:00<00:00, 11.17it/s]\n"
     ]
    }
   ],
   "source": [
    "device = 'cuda'\n",
    "proto_rect = True\n",
    "y_s, y_q = task_dic['y_s'], task_dic['y_q']\n",
    "x_s, x_q = task_dic['x_s'], task_dic['x_q']\n",
    "train_mean = torch.tensor([0])\n",
    "\n",
    "support, query = normalization(z_s=x_s, z_q=x_q, train_mean=train_mean, norm_type='L2N')\n",
    "y_s = y_s.squeeze(2).to(device)\n",
    "y_q = y_q.squeeze(2).to(device)\n",
    "support = support.to(device)\n",
    "query = query.to(device)\n",
    "\n",
    "if proto_rect:\n",
    "    support = proto_rectification(y_s=y_s, support=support, query=query, shot=shot)\n",
    "else:\n",
    "    one_hot = get_one_hot(y_s)\n",
    "    counts = one_hot.sum(1).view(support.size()[0], -1, 1)\n",
    "    weights = one_hot.transpose(1, 2).matmul(support)\n",
    "    support = weights / counts\n",
    "    support = support.cpu().numpy()\n",
    "query = query.cpu().numpy()\n",
    "y_s = y_s.cpu().numpy()\n",
    "y_q = y_q.cpu().numpy()\n",
    "\n",
    "# Run adaptation\n",
    "pred, y_q, acc_list = run_prediction(support=support, query=query, y_s=y_s, y_q=y_q,batch_size=5,lmd =0.1,bound_iter=5, shot=6)\n",
    "\n"
   ]
  },
  {
   "cell_type": "code",
   "execution_count": 156,
   "id": "dc0c83ad-4ae5-4972-9646-8053c2a235c0",
   "metadata": {},
   "outputs": [
    {
     "name": "stdout",
     "output_type": "stream",
     "text": [
      "Confidence interval : [0.8]\n"
     ]
    }
   ],
   "source": [
    "print(f\"Confidence interval : {compute_confidence_interval(acc_list)[0]}\")"
   ]
  },
  {
   "cell_type": "markdown",
   "id": "8bff165f-e661-4c4c-9671-8d831bd17a6d",
   "metadata": {
    "jp-MarkdownHeadingCollapsed": true
   },
   "source": [
    "# Paddle"
   ]
  },
  {
   "cell_type": "code",
   "execution_count": null,
   "id": "84153657-ca2d-4375-8011-c97ad40c8c1f",
   "metadata": {},
   "outputs": [],
   "source": []
  }
 ],
 "metadata": {
  "kernelspec": {
   "display_name": "Python 3 (ipykernel)",
   "language": "python",
   "name": "python3"
  },
  "language_info": {
   "codemirror_mode": {
    "name": "ipython",
    "version": 3
   },
   "file_extension": ".py",
   "mimetype": "text/x-python",
   "name": "python",
   "nbconvert_exporter": "python",
   "pygments_lexer": "ipython3",
   "version": "3.11.0"
  }
 },
 "nbformat": 4,
 "nbformat_minor": 5
}
